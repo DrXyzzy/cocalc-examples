{
 "cells": [
  {
   "cell_type": "markdown",
   "metadata": {
    "collapsed": false
   },
   "source": [
    "<!-- Group01 -->\n",
    "<html>\n",
    "<body>\n",
    "\n",
    "<!-- To make the size of the font bigger for presentations, change the following command from +1 to +2 -->\n",
    "<font size=\"+1\">\n",
    "\n",
    "<p style='font-size: 36px;font-family: Arial;font-style: italic;font-weight: bold;color: #FF00FF;background-color: #80FFFF;text-align: center;'>\n",
    "Abstract Algebra: An Interactive Approach, 2e\n",
    "</p>\n",
    "\n",
    "<p style='font-family: Geneva;font-style: italic;color: #0000FF;background-color: #FFFFFF;'>\n",
    "&copy;2015 This notebook is provided with the textbook, &quot;Abstract Algebra: An Interactive Approach, 2nd Ed.&quot; by William Paulsen. Users of this notebook are encouraged to buy the textbook.\n",
    "</p>\n",
    "\n",
    "\n",
    "\n",
    "<p style='font-size: 36px;font-family: New York;font-weight: bold;color: #000000;background-color: #FFFFFF;text-align: center;border: 1px;border-style: \n",
    "solid;border-color: #000000;'>\n",
    "Chapter 1<br>\n",
    "Understanding the Group Concept\n",
    "</p>\n",
    "\n",
    "<p style='text-align: center;'>Initialization:  This cell MUST be evaluated first:</p>"
   ]
  },
  {
   "cell_type": "code",
   "execution_count": 0,
   "metadata": {
    "collapsed": false
   },
   "outputs": [
   ],
   "source": [
    "%display latex\n",
    "try:\n",
    "    load('absalgtext.sage')\n",
    "except IOError:\n",
    "    load('/media/sf_sage/absalgtext.sage')"
   ]
  },
  {
   "cell_type": "markdown",
   "metadata": {
    "collapsed": false
   },
   "source": [
    "<br>\r\n",
    "The above command should automatically be evaluated as the worksheet is loaded.  As long as a blue \"Initialization Done\" message appears at the bottom, we are ready to proceed.<br><br>\r\n",
    "\r\n",
    "The very first time this package is run, it may require additional databases to be downloaded from the internet.  This only takes a few minutes, and only has \r\n",
    "to be done once.  These databases will be available the next time Sage is run.  This particular chapter does not use the databases, but make sure you close Sage and \r\n",
    "restart it before loading a different chapter.<br>"
   ]
  },
  {
   "cell_type": "markdown",
   "metadata": {
    "collapsed": false
   },
   "source": [
    "<br><br>\r\n",
    "<a href=\"#sec11\">Introdection to Groups</a><br>\r\n",
    "<a href=\"#sec12\">Modular Congruence</a><br>\r\n",
    "<a href=\"#sec13\">The Definition of a Group</a><br>\r\n",
    "<a href=\"#sec1p\"><em>Sage</em> Interactive Problems</a><br>\r\n",
    "\r\n",
    "<a name=\"sec11\" id=\"sec11\"></a>\r\n",
    "<h1>Introduction to Groups</h1>\r\n",
    "\r\n",
    "\r\n",
    "<br><br>\r\n",
    "To help introduce us to the concept of groups, let us meet a triangle which, through <em>Sage</em>, will dance before your eyes! To see Terry the Triangle, execute \r\n",
    "the following <em>Sage</em> command. This is done by clicking the mouse inside the rectangle in which the command appears, and press Shift + Enter.  If you are not using CoCalc, you could \r\n",
    "also click on the expression, then click on the \"Evaluate\" button that appears.  Try it!<br><br>"
   ]
  },
  {
   "cell_type": "code",
   "execution_count": 0,
   "metadata": {
    "collapsed": false
   },
   "outputs": [
   ],
   "source": [
    "ShowTerry()"
   ]
  },
  {
   "cell_type": "markdown",
   "metadata": {
    "collapsed": false
   },
   "source": [
    "<br>\r\n",
    "Terry may not look very impressive, but with <em>Sage</em> animation, Terry can do some tricks. For example, Terry can rotate with the following command:<br>"
   ]
  },
  {
   "cell_type": "code",
   "execution_count": 0,
   "metadata": {
    "collapsed": false
   },
   "outputs": [
   ],
   "source": [
    "Terry(RotRt)"
   ]
  },
  {
   "cell_type": "markdown",
   "metadata": {
    "collapsed": false
   },
   "source": [
    "<br>\r\n",
    "This command takes a little longer to execute.  Notice that a light green bar appears becide the area where the answer will appear in order to assure you that the command \r\n",
    "is being executed.  As you can see, <strong>RotRt</strong> is the abbreviation for rotation right, or clockwise.  Terry can rotate counterclockwise with the command:<br>"
   ]
  },
  {
   "cell_type": "code",
   "execution_count": 0,
   "metadata": {
    "collapsed": false
   },
   "outputs": [
   ],
   "source": [
    "Terry(RotLft)"
   ]
  },
  {
   "cell_type": "markdown",
   "metadata": {
    "collapsed": false
   },
   "source": [
    "<br>\r\n",
    "Terry can do more than just rotate. For example, Terry can spin in three dimensions.<br>"
   ]
  },
  {
   "cell_type": "code",
   "execution_count": 0,
   "metadata": {
    "collapsed": false
   },
   "outputs": [
   ],
   "source": [
    "Terry(Spin)"
   ]
  },
  {
   "cell_type": "markdown",
   "metadata": {
    "collapsed": false
   },
   "source": [
    "<br>\r\n",
    "Terry can also do some gymnastic tricks, such as flipping over the right and left shoulder.<br>"
   ]
  },
  {
   "cell_type": "code",
   "execution_count": 0,
   "metadata": {
    "collapsed": false
   },
   "outputs": [
   ],
   "source": [
    "Terry(FlipRt)"
   ]
  },
  {
   "cell_type": "code",
   "execution_count": 0,
   "metadata": {
    "collapsed": false
   },
   "outputs": [
   ],
   "source": [
    "Terry(FlipLft)"
   ]
  },
  {
   "cell_type": "markdown",
   "metadata": {
    "collapsed": false
   },
   "source": [
    "<br>\r\n",
    "This makes 5 different moves that Terry can do. There is one more trick that Terry can perform:<br>"
   ]
  },
  {
   "cell_type": "code",
   "execution_count": 0,
   "metadata": {
    "collapsed": false
   },
   "outputs": [
   ],
   "source": [
    "Terry(Stay)"
   ]
  },
  {
   "cell_type": "markdown",
   "metadata": {
    "collapsed": false
   },
   "source": [
    "<br>\r\n",
    "Good triangle!<br><br>\r\n",
    " \r\n",
    "These six commands are the six dance steps that Terry can do. Terry can combine these dance steps to form a dance routine. We separate the dance steps by commas. \r\n",
    "Here is a simple routine that Terry can do:<br>"
   ]
  },
  {
   "cell_type": "code",
   "execution_count": 0,
   "metadata": {
    "collapsed": false
   },
   "outputs": [
   ],
   "source": [
    "Terry(FlipRt, Spin, RotRt)"
   ]
  },
  {
   "cell_type": "markdown",
   "metadata": {
    "collapsed": false
   },
   "source": [
    "<br>\r\n",
    "EXPERIMENT:<br>\r\n",
    "You may have noticed in the previous animation that Terry ends the dance routine in the original orientation.  What if the <em>order</em> of the dance steps were \r\n",
    "changed?  Edit the last command to change the order of Terry's steps, and see what happens. <br>"
   ]
  },
  {
   "cell_type": "markdown",
   "metadata": {
    "collapsed": false
   },
   "source": [
    "<br>\r\n",
    "Here is a shorter dance sequence for Terry.  Pay special attention to how Terry is oriented after the dance routine. <br>"
   ]
  },
  {
   "cell_type": "code",
   "execution_count": 0,
   "metadata": {
    "collapsed": false
   },
   "outputs": [
   ],
   "source": [
    "Terry(FlipRt, Spin)"
   ]
  },
  {
   "cell_type": "markdown",
   "metadata": {
    "collapsed": false
   },
   "source": [
    "<br>\r\n",
    "Sometimes Terry gets tired of doing all of these long routines.  When this happens, Terry takes a short cut to get to the final orientation.  For example, the above \r\n",
    "routine leaves Terry in the same orientation as <strong>RotLft</strong>, and so Terry would simply rotate instead of doing the extra gymnastics.  Executing the follow \r\n",
    "command allows Terry to take short cuts in all dance routines.<br>"
   ]
  },
  {
   "cell_type": "code",
   "execution_count": 0,
   "metadata": {
    "collapsed": false
   },
   "outputs": [
   ],
   "source": [
    "InitTerry()"
   ]
  },
  {
   "cell_type": "markdown",
   "metadata": {
    "collapsed": false
   },
   "source": [
    "<br>\r\n",
    "Now let's ask Terry to do the same dance routine.<br>"
   ]
  },
  {
   "cell_type": "code",
   "execution_count": 0,
   "metadata": {
    "collapsed": false
   },
   "outputs": [
   ],
   "source": [
    "Terry(FlipRt, Spin)"
   ]
  },
  {
   "cell_type": "markdown",
   "metadata": {
    "collapsed": false
   },
   "source": [
    "<br>\r\n",
    "Notice that Terry simply rotates to get to the correct orientation.  Rather than calling Terry a bad triangle for being lazy, we must commend Terry for being smart enough \r\n",
    "to know that a flip to the right followed by a spin is equivalent to a counter-clockwise rotation.  In essence Terry has learned how to &quot;multiply&quot; two dance \r\n",
    "steps together.<br><br>\r\n",
    " \r\n",
    "We can use <em>Sage</em> to multiply dance steps together, using the star to indicate Terry's multiplication.  Thus, <em>Sage</em> simplifies \r\n",
    "<strong>FlipRt</strong> &middot; <strong>Spin</strong> as follows: <br>"
   ]
  },
  {
   "cell_type": "code",
   "execution_count": 0,
   "metadata": {
    "collapsed": false
   },
   "outputs": [
   ],
   "source": [
    "FlipRt * Spin"
   ]
  },
  {
   "cell_type": "markdown",
   "metadata": {
    "collapsed": false
   },
   "source": [
    "<br>\r\n",
    "We can display a \"multiplication table\" of all of Terry's dance steps by the following command<br>"
   ]
  },
  {
   "cell_type": "code",
   "execution_count": 0,
   "metadata": {
    "collapsed": false
   },
   "outputs": [
   ],
   "source": [
    "MultTable([Stay, FlipRt, RotRt, FlipLft, RotLft, Spin])"
   ]
  },
  {
   "cell_type": "markdown",
   "metadata": {
    "collapsed": false
   },
   "source": [
    "<br>\r\n",
    "To read this table, we look for the first of the dance steps on the left hand side of the table, and the second of the dance steps on the top.  Thus, to determine\r\n",
    "<strong>FlipRt</strong> &middot; <strong>Spin</strong>, we look at the right hand entry of the second row to find <strong>RotLft</strong>.  This table is often refered to \r\n",
    "as a <em>Cayley table</em>.\r\n",
    "\r\n",
    "<br><br>\r\n",
    "This table illuminates some properties of the dance steps.  Each of the six dance steps is in a different color, to highlight these properties.  One property this \r\n",
    "table demonstrates that the combination of any two dance steps is equivalent to one of the six dance steps.<br><br>\r\n",
    "\r\n",
    "Another of the easiest properties to observe is in the <strong>Stay</strong> row and column. Notice that whenever the command <strong>Stay</strong> is combined with any \r\n",
    "other dance step, it leaves that dance step unchanged. Try this for yourself:<br>"
   ]
  },
  {
   "cell_type": "code",
   "execution_count": 0,
   "metadata": {
    "collapsed": false
   },
   "outputs": [
   ],
   "source": [
    "Stay * RotRt"
   ]
  },
  {
   "cell_type": "code",
   "execution_count": 0,
   "metadata": {
    "collapsed": false
   },
   "outputs": [
   ],
   "source": [
    "RotRt * Stay"
   ]
  },
  {
   "cell_type": "markdown",
   "metadata": {
    "collapsed": false
   },
   "source": [
    "<br>\r\n",
    "EXPERIMENT:<br>\r\n",
    "Replace <strong>RotRt</strong> in the above two <em>Sage</em> commands with a different dance step and re-evaluate them. Notice what happens.<br>"
   ]
  },
  {
   "cell_type": "markdown",
   "metadata": {
    "collapsed": false
   },
   "source": [
    "<br>\r\n",
    "You may observe that the Stay command acts like the number 1 in our standard multiplication.  In mathematical notation, we say that \r\n",
    "<p style='text-align: center;'><strong>Stay </strong>&middot; <em>x</em> = <em>x</em>  and   <em>x</em> &middot; <strong>Stay</strong> = <em>x</em></p>\r\n",
    "for all dance steps <em>x</em>.  We call <strong>Stay</strong> the <em>identity</em> of the dance steps.<br><br>  \r\n",
    "\r\n",
    "But there is a property of these dance steps that is unlike our standard multiplication.  In a previous experiment, you were asked to change the order of the dance \r\n",
    "steps in a routine to see if that would affect the final orientation.  In fact, it did! Check out the following two products:<br>"
   ]
  },
  {
   "cell_type": "code",
   "execution_count": 0,
   "metadata": {
    "collapsed": false
   },
   "outputs": [
   ],
   "source": [
    "Spin * FlipRt"
   ]
  },
  {
   "cell_type": "code",
   "execution_count": 0,
   "metadata": {
    "collapsed": false
   },
   "outputs": [
   ],
   "source": [
    "FlipRt * Spin"
   ]
  },
  {
   "cell_type": "markdown",
   "metadata": {
    "collapsed": false
   },
   "source": [
    "<br>\r\n",
    "As we see, the product depends on the order in which the dance steps are multiplied. In other words,\r\n",
    "<p style='text-align: center;'><em>x</em>&middot;<em>y</em>   is sometimes not equal to   <em>y</em>&middot;<em>x</em>.</p>\r\n",
    "This is perhaps the biggest difference between Terry's algebra and the algebra that we are familiar with.  We are familar with the \r\n",
    "<em>commutative property</em> of numbers:\r\n",
    "<p style='text-align: center;'><em>x y</em> = <em>y x</em>   for all real numbers <em>x</em> and <em>y</em>.</p>\r\n",
    "Since Terry's dance steps do not obey this law, we say that the dance steps are <em>non-commutative</em>.<br><br>\r\n",
    "\r\n",
    "There is another property that we are familiar with in standard algebra:\r\n",
    "<p style='text-align: center;'><em>x</em> (<em>y z</em>) = (<em>x y</em>) <em>z</em>   for all numbers <em>x</em>, <em>y</em>, and <em>z</em>.</p>\r\n",
    "This is called the <em>associative law of multiplication</em>.  Do Terry's dance steps obey this law?<br><br>\r\n",
    "\r\n",
    "EXPERIMENT:<br>\r\n",
    "Compare the two products:<br>"
   ]
  },
  {
   "cell_type": "code",
   "execution_count": 0,
   "metadata": {
    "collapsed": false
   },
   "outputs": [
   ],
   "source": [
    "(Spin * RotRt) * FlipLft"
   ]
  },
  {
   "cell_type": "code",
   "execution_count": 0,
   "metadata": {
    "collapsed": false
   },
   "outputs": [
   ],
   "source": [
    "Spin * (RotRt * FlipLft)"
   ]
  },
  {
   "cell_type": "markdown",
   "metadata": {
    "collapsed": false
   },
   "source": [
    "<br>\r\n",
    "Try changing the dance steps to see if we always get the same product, regardless of where the parenthesis are.<br>"
   ]
  },
  {
   "cell_type": "markdown",
   "metadata": {
    "collapsed": false
   },
   "source": [
    "<br>\r\n",
    "There is another property that we can observe from Terry's multiplication table.  Here it is again.<br>"
   ]
  },
  {
   "cell_type": "code",
   "execution_count": 0,
   "metadata": {
    "collapsed": false
   },
   "outputs": [
   ],
   "source": [
    "MultTable([Stay, FlipRt, RotRt, FlipLft, RotLft, Spin])"
   ]
  },
  {
   "cell_type": "markdown",
   "metadata": {
    "collapsed": false
   },
   "source": [
    "<br>\r\n",
    "Notice that the identity dance step, <strong>Stay</strong> is in every row and every column in the table.  (Notice the yellow squares.)  This indicates that every dance \r\n",
    "step has some dance step which &quot;undoes&quot; it.  For example, <strong>RotLft</strong> will undo a <strong>RotRt</strong> command, since<br>"
   ]
  },
  {
   "cell_type": "code",
   "execution_count": 0,
   "metadata": {
    "collapsed": false
   },
   "outputs": [
   ],
   "source": [
    "RotLft * RotRt"
   ]
  },
  {
   "cell_type": "markdown",
   "metadata": {
    "collapsed": false
   },
   "source": [
    "<br>\r\n",
    "gives us the identity element. Likewise, the <strong>Spin</strong> command undoes itself, for two spins in secession<br>"
   ]
  },
  {
   "cell_type": "code",
   "execution_count": 0,
   "metadata": {
    "collapsed": false
   },
   "outputs": [
   ],
   "source": [
    "Spin * Spin"
   ]
  },
  {
   "cell_type": "markdown",
   "metadata": {
    "collapsed": false
   },
   "source": [
    "<br>\r\n",
    "returns to the original position.<br><br>\r\n",
    " \r\n",
    "Using mathematical notation again, we say that for every dance step <em>x</em>, there is some dance step <em>y</em> such that\r\n",
    "<p style='text-align: center;'><em>x</em>&middot;<em>y</em> = <strong>Stay</strong>.</p>\r\n",
    "The dance step <em>y</em> is called an <em>inverse</em> of <em>x</em>. For example, <strong>RotLft</strong> is the inverse of <strong>RotRt</strong>, and \r\n",
    "<strong>Spin</strong> is the inverse of <strong>Spin</strong>. \r\n",
    "\r\n",
    "<br><br>\r\n",
    "Terry claims that if <em>x</em>&middot;<em>y</em> = <strong>Stay</strong>, then <em>y</em>&middot;<em>x</em> will also equal <strong>Stay</strong>. \r\n",
    "Although this can be seen to be true by looking at the multiplication table, can you prove that this is so using only the properties of Terry's dance steps that we \r\n",
    "have discovered?  Here is a summary of what we have found so far:<br>\r\n",
    "<br>  \r\n",
    "  \r\n",
    "1)&emsp;The <em>order</em> in which the dance steps are performed are important.  <br>\r\n",
    "&emsp;&emsp;For example, <strong>Spin</strong> &middot; <strong>FlipRt</strong> &ne; <strong>FlipRt</strong> &middot; <strong>Spin</strong>.<br><br>\r\n",
    "     \r\n",
    "2)&emsp;The combination of any two dance steps is equivalent to one of the six dance steps.<br><br>    \r\n",
    "\r\n",
    "3)&emsp;The order in which a dance routine is simplified does not matter.<br>\r\n",
    "&emsp;&emsp;That is,  (<em>x</em>&middot;<em>y</em>)&middot;<em>z</em>  =  <em>x</em>&middot;(<em>y</em>&middot;<em>z</em>) for any dance steps <em>x</em>, <em>y</em>, and \r\n",
    "<em>z</em>.<br><br>    \r\n",
    " \r\n",
    "4)&emsp;Any dance step combined with Stay yields the same dance step.<br>\r\n",
    "&emsp;&emsp;That is,  <em>x</em>&middot;<strong>Stay</strong> = <em>x</em>  and  <strong>Stay</strong>&middot;<em>x</em> = <em>x</em>  for any dance step <em>x</em>.<br><br>\r\n",
    " \r\n",
    "5)&emsp;Every dance step has another dance step that &quot;undoes&quot; it.  That is, <br>          \r\n",
    "&emsp;&emsp;for any dance step <em>x</em>, there is a dance step <em>y</em> such that <em>x</em>&middot;<em>y</em> = <strong>Stay</strong>.<br>          \r\n",
    "&emsp;&emsp;For example, a step that undoes <strong>RotRt</strong> is <strong>RotLft</strong>.<br><br>\r\n",
    "\r\n",
    "We will introduce the following mathematical terminology to express each of these properties.<br><br>    \r\n",
    "\r\n",
    "1)&emsp;The dance steps are not <em>commutative</em>.<br><br>    \r\n",
    "2)&emsp;The dance steps are <em>closed</em> under multiplication.<br><br>    \r\n",
    "3)&emsp;The dance steps are <em>associative</em>.<br><br>    \r\n",
    "4)&emsp;There is an <em>identity</em> dance step.<br><br>    \r\n",
    "5)&emsp;Every dance step has an <em>inverse</em>.<br><br>\r\n",
    "\r\n",
    "With just these properties, can you prove the following proposition on your own without looking at the proof?\r\n",
    "\r\n",
    "<p />\r\n",
    "<a name=\"prop11ret\" id=\"prop11ret\"></a> \r\n",
    "\r\n",
    "PROPOSITION 1.1<br>\r\n",
    "If <em>y</em> is an inverse of <em>x</em>, then <em>x</em> is an inverse of <em>y</em>.  Furthermore, <em>x</em> will be the <em>only</em> inverse of <em>y</em>.<br><br>\r\n",
    " \r\n",
    "Hint: Because we don't have the commutative property, we must use some other strategy. Recall that <em>y</em> must also have an inverse!<br><br>\r\n",
    "\r\n",
    "<a href=\"#prop11\">Click here for the proof.</a>\r\n",
    "\r\n",
    "<p />\r\n",
    "\r\n",
    "All of the proofs in these notebooks appear near the end, before the <em>Sage</em> problems, with links allowing us to go directly to them.  This gives the user a \r\n",
    "chance to work the proof out on him own before peeking at the books version.   Notice that we did not yet assume that there is only one identity element.  However, \r\n",
    "this fact immediately follows from Proposition 1.1.  (See Problems 3 and 4.) <br>\r\n",
    "\r\n",
    "<br>\r\n",
    "DEFINITION 1.1   We use the notation <em>x</em><sup>-1</sup> for the unique inverse of the element <em>x</em>.<br><br>\r\n",
    "\r\n",
    "\r\n",
    "This is entered into <em>Sage</em> as<br>"
   ]
  },
  {
   "cell_type": "code",
   "execution_count": 0,
   "metadata": {
    "collapsed": false
   },
   "outputs": [
   ],
   "source": [
    "Spin^-1"
   ]
  },
  {
   "cell_type": "markdown",
   "metadata": {
    "collapsed": false
   },
   "source": [
    "<br>\r\n",
    "Proposition 1.1 can now be expressed simply as (<em>x</em><sup>-1</sup>)<sup>-1</sup> = <em>x</em>.  Is it true that (<em>x</em>&middot;<em>y</em>)<sup>-1</sup> = \r\n",
    "<em>x</em><sup>-1</sup>&middot;<em>y</em><sup>-1</sup>, as we are accustomed too?<br><br>\r\n",
    "\r\n",
    "\r\n",
    "EXPERIMENT:<br>\r\n",
    "Try the following commands to see if they give the same result.<br>"
   ]
  },
  {
   "cell_type": "code",
   "execution_count": 0,
   "metadata": {
    "collapsed": false
   },
   "outputs": [
   ],
   "source": [
    "(FlipRt * Spin)^-1"
   ]
  },
  {
   "cell_type": "code",
   "execution_count": 0,
   "metadata": {
    "collapsed": false
   },
   "outputs": [
   ],
   "source": [
    "FlipRt^-1 * Spin^-1"
   ]
  },
  {
   "cell_type": "markdown",
   "metadata": {
    "collapsed": false
   },
   "source": [
    "<br>\r\n",
    "Try using different dance steps in place of <strong>FlipRt</strong> amd <strong>Spin</strong>. What do you observe?<br>"
   ]
  },
  {
   "cell_type": "markdown",
   "metadata": {
    "collapsed": false
   },
   "source": [
    "<br>\r\n",
    "Apparently, (<em>x</em>&middot;<em>y</em>)<sup>-1</sup> is not always equal to <em>x</em><sup>-1</sup>&middot;<em>y</em><sup>-1</sup>. \r\n",
    "But Terry would tell you that in order to undo a sequence of dance steps, one must begin by undoing the last dance step. \r\n",
    "Thus, the way to undo the routine (<strong>Spin</strong> &middot; <strong>RotRt</strong>) is by first rotating left, and spinning back to the original position.<br>"
   ]
  },
  {
   "cell_type": "code",
   "execution_count": 0,
   "metadata": {
    "collapsed": false
   },
   "outputs": [
   ],
   "source": [
    "(FlipRt * Spin)^-1"
   ]
  },
  {
   "cell_type": "code",
   "execution_count": 0,
   "metadata": {
    "collapsed": false
   },
   "outputs": [
   ],
   "source": [
    "Spin^-1 * FlipRt^-1"
   ]
  },
  {
   "cell_type": "markdown",
   "metadata": {
    "collapsed": false
   },
   "source": [
    "<br> \r\n",
    "This suggests that \r\n",
    "<p style='text-align: center;'>(<em>x</em>&middot;<em>y</em>)<sup>-1</sup> = <em>y</em><sup>-1</sup>&middot;<em>x</em><sup>-1</sup>.</p>\r\n",
    "Can you prove this? \r\n",
    "\r\n",
    "<p />\r\n",
    "<a name=\"prop12ret\" id=\"prop12ret\"></a>  \r\n",
    "PROPOSITION 1.2<br>\r\n",
    "<p style='text-align: center;'>(<em>x</em>&middot;<em>y</em>)<sup>-1</sup> = <em>y</em><sup>-1</sup>&middot;<em>x</em><sup>-1</sup>.</p>\r\n",
    "\r\n",
    "<a href=\"#prop12\">Click here for the proof.</a>\r\n",
    "\r\n",
    "<p />\r\n",
    "Let us see if we can find any more patterns in Terry's multiplication table. Here is the table again:<br>"
   ]
  },
  {
   "cell_type": "code",
   "execution_count": 0,
   "metadata": {
    "collapsed": false
   },
   "outputs": [
   ],
   "source": [
    "MultTable([Stay, FlipRt, RotRt, FlipLft, RotLft, Spin])"
   ]
  },
  {
   "cell_type": "markdown",
   "metadata": {
    "collapsed": false
   },
   "source": [
    "<br>\r\n",
    "Before we noticed that every row and every column contained the identity element, <strong>Stay</strong>.  Which other elements have this property?<br><br>\r\n",
    " \r\n",
    "In answering this, you probably discovered that every row and every column in this table contains all six elements.  If we disregard the heading row and column in \r\n",
    "the table, each element appears exactly once in each row, and once in each column.  This formation is refered to as a <em>Latan square</em>.  How could we show that \r\n",
    "this would happen using only the four properties we have been using?<br><br>\r\n",
    "\r\n",
    "First we must translate this pattern into a mathematical statement before it can be proven.  To say that the element <strong>RotRt</strong> appears only once in \r\n",
    "the row beginning with <strong>Spin</strong> is to say that there is only one dance step <em>x</em> such that \r\n",
    "<p style='text-align: center;'><strong>Spin</strong> &middot; <em>x</em> = <strong>RotRt</strong>.</p>\r\n",
    "So we can say that each row contains exactly one of every element by the following statement:\r\n",
    "\r\n",
    "<p />\r\n",
    "<a name=\"prop13ret\" id=\"prop13ret\"></a>  \r\n",
    "PROPOSITION 1.3<br>\r\n",
    "If <em>a</em> and <em>b</em> are given, then there exists a unique <em>x</em> such that \r\n",
    "<p style='text-align: center;'><em>a</em>&middot;<em>x</em> = <em>b</em>.</p>\r\n",
    "\r\n",
    "<a href=\"#prop13\">Click here for the proof.</a>\r\n",
    "\r\n",
    "<p />\r\n",
    "Can you use this proposition to show that any <em>column</em> of the table contains only one of each element?   This is essentually Problem 6.<br><br>\r\n",
    " \r\n",
    "Terry's dance steps provides us with a new and rather different type of multiplication.  Even though there are very few of Terry's dance steps, we already can see\r\n",
    "some of the patterns that can appear when we consider the multiplication of these \r\n",
    "dance steps.  In the next section we will consider another operation that has many of the \r\n",
    "same patterns. <br><br>\r\n",
    "\r\n",
    "<a name=\"sec12\" id=\"sec12\"></a>\r\n",
    "<h1>Modular Congruence</h1>\r\n",
    "\r\n",
    "<br>\r\n",
    "Although we have seen an example of a totally different type of &quot;multiplication&quot;, in this section we will explore different ways of combining two integers \r\n",
    "that has many of the same properties.  These other types of &quot;products&quot; have some important applications.  These multiplications stem from a property of adding \r\n",
    "and multiplying standard integers.<br><br>\r\n",
    "\r\n",
    "We have already introduced modular arithmetic in &sect;0.3.  We defined <em>x</em> <strong>mod</strong> <em>n</em> as the remainder <em>r</em> when <em>x</em> is divided by <em>n</em>, \r\n",
    "using the division algorithm.  But we can also say that two integers <em>x</em> and <em>y</em> are <em>equivalent</em> if <em>x</em> <strong>mod</strong> <em>n</em> = \r\n",
    "<em>y</em> <strong>mod</strong> <em>n</em>.  We will introduce another notation for this relation.<br><br>\r\n",
    "\r\n",
    "DEFINITION 1.2<br> \r\n",
    "Let <em>x</em>, <em>y</em>, and <em>n</em> be integers.  We say <em>x</em> and <em>y</em> are <em>equivalent modulo</em> <em>n</em>, written\r\n",
    "<p style='text-align: center;'><em>x</em> &equiv; <em>y</em>   (mod <em>n</em>) </p>\r\n",
    "if, and only if, there is an integer <em>k</em> such that \r\n",
    "<p style='text-align: center;'>(<em>x</em> &minus; <em>y</em>) = <em>k n</em>.</p>\r\n",
    "\r\n",
    "Note the slight difference in notation between the operator <strong>mod</strong> (expressed in boldface) and the above notation (where mod is not in boldface).  The two notations are clearly related, since  <em>x</em> &equiv; <em>y</em> (mod <em>n</em>) means that <em>x</em> <strong>mod</strong> <em>n</em> = <em>y</em> <strong>mod</strong> <em>n</em>.<br><br>\r\n",
    "\r\n",
    "The new notation also satisfies three very important properties for equivalence (mod <em>n</em>).<br><br>\r\n",
    "\r\n",
    "1. (Reflexive) Every integer <em>x</em> is equivalent to itself.<br>\r\n",
    "2. (Symmetric) If <em>x</em> is equivalent to <em>y</em>, then <em>y</em> is equivalent to <em>x</em>.<br>\r\n",
    "3. (Transitive) If <em>x</em> is equivalent to <em>y</em>, and <em>y</em> in turn is equivalent to <em>z</em>, then <em>x</em> is equivalent to <em>z</em>.<br><br>\r\n",
    "\r\n",
    "DEFINITION 1.3<br>\r\n",
    "Any relation that satisfies these three properties is called an <em>equivalence relation</em>.  We will use the notation <em>x</em> &sim; <em>y</em> to say \r\n",
    "that <em>x</em> is equivalent to <em>y</em> for a generic equivalence relation.<br><br>\r\n",
    "\r\n",
    "Let us prove that equivalence (mod <em>n</em>) forms an equivalence relation.\r\n",
    "\r\n",
    "<p />\r\n",
    "<a name=\"prop14ret\" id=\"prop14ret\"></a>  \r\n",
    "PROPOSITION 1.4<br>\r\n",
    "Let <em>n</em> be a positive integer.  Then the definition of\r\n",
    "<p style='text-align: center;'><em>x</em> &equiv; <em>y</em> (mod <em>n</em>)</p>\r\n",
    "forms an equivalence relation on the set of integers.<br><br>\r\n",
    "\r\n",
    "<a href=\"#prop14\">Click here for the proof.</a>\r\n",
    "\r\n",
    "<p />\r\n",
    "\r\n",
    "Whenever an equivalence relation is defined on a set, the set can be broken up into disjoint <em>equivalence classes</em>, where each equivalence class is the set of elements related to one element in the class.<br><br>\r\n",
    "\r\n",
    "DEFINITION 1.4<br>\r\n",
    "Let <em>x</em> &sim; <em>y</em> be an equivalence relation defined on a set <em>S</em>.  Then the equivalence class [<em>a</em>] is the set of elements of <em>S</em> \r\n",
    "related to <em>a</em>.  That is,\r\n",
    "<p style='text-align: center;'>[<em>a</em>] = { <em>s</em> &isin; <em>S</em> | <em>s</em> &sim; <em>a</em>}.</p>\r\n",
    "\r\n",
    "EXAMPLE:<br>\r\n",
    "In the relation <em>x</em> &equiv; <em>y</em> (mod 10), the set [3] will be the set of integers equivalent to 3 (mod 10), giving the set\r\n",
    "<p style='text-align: center;'>[3] = {&hellip; -37, -27, -17, -7, 3, 13, 23, 33, 43, &hellip;}.</p>                                                  \r\n",
    "Other equivalence classes in this relation are similar.<br><br>\r\n",
    "\r\n",
    "It is not hard to show that the set of integers can be broken up into disjoint sets using the equivalence classes.<br><br>\r\n",
    "\r\n",
    "<p />\r\n",
    "<a name=\"prop15ret\" id=\"prop15ret\"></a>  \r\n",
    "PROPOSITION 1.5<br>\r\n",
    "If <em>x</em> &sim; <em>y</em> is an equivalence relation on a set <em>S</em>, then <em>S</em> is the disjoint union of equivalence classes.<br><br>\r\n",
    "\r\n",
    "<a href=\"#prop15\">Click here for the proof.</a>\r\n",
    "\r\n",
    "<p />\r\n",
    "\r\n",
    "Many of the properties of modular arithmetic found in &sect;0.3 can be translated in terms of equivalence relations.  For example, Proposition 0.2 can be restated \r\n",
    "by saying that if \r\n",
    "<p style='text-align: center;'><em>x</em> &equiv; <em>a</em> (mod <em>n</em>)&emsp; and  &emsp; <em>y</em> &equiv; <em>b</em> (mod <em>n</em>),</p>                      \r\n",
    "then <em>x</em> + <em>y</em> &equiv; <em>a</em> + <em>b</em> (mod <em>n</em>) and <em>x y</em> &equiv; <em>a b</em> (mod <em>n</em>).<br><br>\r\n",
    "\r\n",
    "These statements make it clear that to add or multiply two numbers modulo <em>n</em>, we can choose any representative element from the equivalence class.<br><br>\r\n",
    "\r\n",
    "EXAMPLE:<br>\r\n",
    "Consider the set of numbers from {0, 1, 2, 3, 4, 5, 6, 7, 8, 9}, with the binary operation being <em>x</em> &lowast; <em>y</em> = (<em>x</em> + <em>y</em>) mod 10. \r\n",
    "We can have <em>Sage</em> define this binary operation with the command<br>"
   ]
  },
  {
   "cell_type": "code",
   "execution_count": 0,
   "metadata": {
    "collapsed": false
   },
   "outputs": [
   ],
   "source": [
    "Z = AddMod(10); Z"
   ]
  },
  {
   "cell_type": "markdown",
   "metadata": {
    "collapsed": false
   },
   "source": [
    "<br>\r\n",
    "This produces a set of 10 elements, \r\n",
    "which <em>Sage</em> displays using curly brackets.  Although the elements of <em>Z</em> are displayed\r\n",
    "as integers, we will soon see that they have differnt properties than ordinary integers.  \r\n",
    "We will continue \r\n",
    "to use the dot as the way to combine two members of the list.  So even though the operation is \r\n",
    "<em>addition modulo 10</em>, we would write 4 &middot; 7 = 1.  Although it seems strange to use the \r\n",
    "dot instead of the plus sign, for consistency we will always use the dot for the operator, whatever that operator is.  So the one thing we must \r\n",
    "remember is that <em>the dot does not always mean multiplication</em>.  Rather, the dot represents the operation in the current context.  For Terry's group, \r\n",
    "the dot represented combining two dance steps.  Here, it represents addition modulo 10.<br><br>\r\n",
    "\r\n",
    "In <em>Sage</em>, we will use the star to indicate the operation, as we did for Terry's dance \r\n",
    "steps.  In order to access the elements in the set <strong>Z</strong>, we will put \r\n",
    "a number in brackets to indicate the location number in the set.  So here is how we can combine the fourth and seventh elements in <em>Z</em>.<br>"
   ]
  },
  {
   "cell_type": "code",
   "execution_count": 0,
   "metadata": {
    "collapsed": false
   },
   "outputs": [
   ],
   "source": [
    "Z[4] * Z[7]"
   ]
  },
  {
   "cell_type": "markdown",
   "metadata": {
    "collapsed": false
   },
   "source": [
    "<br>\r\n",
    "We will still use the command <strong>MultTable</strong> to give the Cayley table of the set, even though the operation is more like addition.<br>"
   ]
  },
  {
   "cell_type": "code",
   "execution_count": 0,
   "metadata": {
    "collapsed": false
   },
   "outputs": [
   ],
   "source": [
    "MultTable(Z)"
   ]
  },
  {
   "cell_type": "markdown",
   "metadata": {
    "collapsed": false
   },
   "source": [
    "<br>\r\n",
    "Can we find any patterns in this table, as we did in Terry's multiplication table?  Yes, and even more.  We can see that this table is a Latin square&mdash;every row \r\n",
    "and every column contains one of each number.  Notice the diagonal streaks of color in the table.  This Caylay table has symmetry&mdash;imagine a mirror placed \r\n",
    "along the northwest to southeast corners.  What is causing this symmetry?<br><br>\r\n",
    "\r\n",
    "EXPERIMENT:<br>\r\n",
    "We saw that Terry's multiplication was not commutative.  That is, <em>x</em>&middot;<em>y</em> did not always equal <em>y</em>&middot;<em>x</em>.  What about adding \r\n",
    "modulo 10? Try the following commands <br>"
   ]
  },
  {
   "cell_type": "code",
   "execution_count": 0,
   "metadata": {
    "collapsed": false
   },
   "outputs": [
   ],
   "source": [
    "Z[4] * Z[7]"
   ]
  },
  {
   "cell_type": "code",
   "execution_count": 0,
   "metadata": {
    "collapsed": false
   },
   "outputs": [
   ],
   "source": [
    "Z[7] * Z[4]"
   ]
  },
  {
   "cell_type": "markdown",
   "metadata": {
    "collapsed": false
   },
   "source": [
    "<br>\r\n",
    "Are these the same? Try this with different numbers.<br>"
   ]
  },
  {
   "cell_type": "markdown",
   "metadata": {
    "collapsed": false
   },
   "source": [
    "<br>\r\n",
    "The symmetry in the table comes from the fact that <em>x</em>&middot;<em>y</em> is always equal to <em>y</em>&middot;<em>x</em>.  We say that addition modulo 10 \r\n",
    "is <em>communitive</em>.  Thus, we can see 5 properties from the table:<br><br>    \r\n",
    "\r\n",
    "1)&emsp;For any two numbers <em>x</em> and <em>y</em> in {0, 1, 2, 3, 4, 5, 6, 7, 8, 9}, <em>x</em>&middot;<em>y</em> is in that set. <br>          \r\n",
    "(Recall that we are using the dot to indication the operation, regardless of what that operation is.  In this example, the operation is addition modulo 10.)<br><br>    \r\n",
    "\r\n",
    "2)&emsp;(<em>x</em>&middot;<em>y</em>)&middot;<em>z</em>  =  <em>x</em>&middot;(<em>y</em>&middot;<em>z</em>)  for any  <em>x</em>, <em>y</em>,  and <em>z</em>.\r\n",
    "<br><br>    \r\n",
    "\r\n",
    "3)&emsp;<em>x</em>&middot;0 = <em>x</em>  and  0&middot;<em>x</em> = <em>x</em>  for all <em>x</em>.<br><br>    \r\n",
    "\r\n",
    "4)&emsp;For any <em>x</em>, there is a <em>y</em> such that  <em>x</em>&middot;<em>y</em> = 0.<br><br>    \r\n",
    "\r\n",
    "5)&emsp;For any <em>x</em> and <em>y</em>, <em>x</em>&middot;<em>y</em> = <em>y</em>&middot;<em>x</em>.<br><br>\r\n",
    "\r\n",
    "Notice that 0 now acts like Terry's command Stay. This is the <em>identity</em>.<br><br>\r\n",
    "\r\n",
    "Besides the table, <em>Sage</em> has another way of picturing a &quot;product&quot; by means of circular graphs.  Enter in the following <em>Sage</em> command:<br>"
   ]
  },
  {
   "cell_type": "code",
   "execution_count": 0,
   "metadata": {
    "collapsed": false
   },
   "outputs": [
   ],
   "source": [
    "CircleGraph(Z, Add(1))"
   ]
  },
  {
   "cell_type": "markdown",
   "metadata": {
    "collapsed": false
   },
   "source": [
    "<br>\r\n",
    "As you can see, <em>Sage</em> labels 10 equi-distant points on the circle with the digits 0 through 9, like a clock. It then draws an arrow from each point to the \r\n",
    "point produces by &quot;adding 1 modulo 10&quot;.<br><br>\r\n",
    " \r\n",
    "EXPERIMENT:<br>\r\n",
    "Create eight more circle graphs by changing the <strong>Add(1)</strong> in the last command to <strong>Add(2)</strong>, <strong>Add(3)</strong>, \r\n",
    "<strong>Add(4)</strong>, &#8943; <strong>Add(9)</strong>. Which circular graph is the prettiest?<br><br>"
   ]
  },
  {
   "cell_type": "markdown",
   "metadata": {
    "collapsed": false
   },
   "source": [
    "If none of those graphs were pretty enough, <em>Sage</em> can graph several of them at the same time. For example, the command<br>"
   ]
  },
  {
   "cell_type": "code",
   "execution_count": 0,
   "metadata": {
    "collapsed": false
   },
   "outputs": [
   ],
   "source": [
    "CircleGraph(Z, Add(1), Add(2), Add(3), Add(4), Add(5))"
   ]
  },
  {
   "cell_type": "markdown",
   "metadata": {
    "collapsed": false
   },
   "source": [
    "<br>\r\n",
    "draws a circular graph with five different colored arrows.  The red arrows represent adding 1 modulo 10, the green arrows represent adding 2, the purple arrows \r\n",
    "adding 3, the orange arrows adding 4, and the grey arrows represent adding 5 modulo 10.<br><br>\r\n",
    " \r\n",
    "We can also draw a circular graph of the inverses of the elements. The command<br>"
   ]
  },
  {
   "cell_type": "code",
   "execution_count": 0,
   "metadata": {
    "collapsed": false
   },
   "outputs": [
   ],
   "source": [
    "CircleGraph(Z, Inv)"
   ]
  },
  {
   "cell_type": "markdown",
   "metadata": {
    "collapsed": false
   },
   "source": [
    "<br>\r\n",
    "draws an arrow from each point to its additive inverse.  Notice that every arrow has a corresponding arrow in the opposite direction, which indicates that\r\n",
    "(<em>x</em><sup>-1</sup>)<sup>-1</sup> = <em>x</em>, as we found in Proposition 1.1.  Also notice that 0 and 5 are there own inverses, as indicated by the two \r\n",
    "loops.<br><br>\r\n",
    "\r\n",
    "We are more familiar with base 10 arithmetic since most of us have ten fingers.  However, this modular arithmetic can be done in other bases as well.  The beings on \r\n",
    "the planet Xantz have seven fingers (three on each hand, and one coming out of the nose) so they only use the digits 0, 1, 2, 3, 4, 5, and 6. Their modular \r\n",
    "arithmetic would look like this:\r\n",
    "<p style='text-align: center;'>4 + 5 &equiv; 2  (mod 7), &emsp; 4 &times; 5 &equiv; 6  (mod 7). </p>\r\n",
    "\r\n",
    "<br>\r\n",
    "(Actually, the symbols used on Xantz don't look anything like the symbols we use, so this is really a translation of what they would write.)<br><br>\r\n",
    " \r\n",
    "We can have <em>Sage</em> switch to base 7 with one easy command:<br>"
   ]
  },
  {
   "cell_type": "code",
   "execution_count": 0,
   "metadata": {
    "collapsed": false
   },
   "outputs": [
   ],
   "source": [
    "Z = AddMod(7); Z"
   ]
  },
  {
   "cell_type": "markdown",
   "metadata": {
    "collapsed": false
   },
   "source": [
    "<br>\r\n",
    "We now can look at the multiplication tables and circle graphs of the set {0,1,2,3,4,5,6}:<br>"
   ]
  },
  {
   "cell_type": "code",
   "execution_count": 0,
   "metadata": {
    "collapsed": false
   },
   "outputs": [
   ],
   "source": [
    "MultTable(Z)"
   ]
  },
  {
   "cell_type": "code",
   "execution_count": 0,
   "metadata": {
    "collapsed": false
   },
   "outputs": [
   ],
   "source": [
    "CircleGraph(Z, Add(1), Add(2), Add(3))"
   ]
  },
  {
   "cell_type": "markdown",
   "metadata": {
    "collapsed": false
   },
   "source": [
    "<br>\r\n",
    "Notice that the patterns that we observed in modular 10 arithmetic are showing up hear as well. <br><br>\r\n",
    " \r\n",
    "EXPERIMENT:<br>\r\n",
    "Try creating tables and circle graphs for modulos other than 7 and 10. Do they all form the same basic pattern?<br>"
   ]
  },
  {
   "cell_type": "markdown",
   "metadata": {
    "collapsed": false
   },
   "source": [
    "<br>\r\n",
    "We can have <em>Sage</em> define the period to be <em>multiplication</em> modulo 7 instead of addition. This is done by the command:<br>"
   ]
  },
  {
   "cell_type": "code",
   "execution_count": 0,
   "metadata": {
    "collapsed": false
   },
   "outputs": [
   ],
   "source": [
    "Z = MultMod(7); Z"
   ]
  },
  {
   "cell_type": "markdown",
   "metadata": {
    "collapsed": false
   },
   "source": [
    "<br>\r\n",
    "Now the term &quot;multiplication table&quot; seems more appropriate:<br>"
   ]
  },
  {
   "cell_type": "code",
   "execution_count": 0,
   "metadata": {
    "collapsed": false
   },
   "outputs": [
   ],
   "source": [
    "MultTable(Z)"
   ]
  },
  {
   "cell_type": "markdown",
   "metadata": {
    "collapsed": false
   },
   "source": [
    "<br>\r\n",
    "Does this multiplication table have the same features that we have been seeing? No it doesn't!  But if we remove the 0 row and column, we see that the remainder of the \r\n",
    "table would satisfy the same properties that we observed in Terry's multiplication table, such as the Latin square property. The identity is now the number 1. This \r\n",
    "table is in fact symmetrical, indicating that multiplication modulo 7 is commutative.<br><br>\r\n",
    " \r\n",
    "Here is a circular graph of multiplication modulo 7: <br>"
   ]
  },
  {
   "cell_type": "code",
   "execution_count": 0,
   "metadata": {
    "collapsed": false
   },
   "outputs": [
   ],
   "source": [
    "CircleGraph(Z, Mult(2), Mult(3))"
   ]
  },
  {
   "cell_type": "markdown",
   "metadata": {
    "collapsed": false
   },
   "source": [
    "<br>\r\n",
    "Here, the red arrow indicates multiplication by 2, and the green arrow represents multiplication by 3 modulo 7.<br><br>\r\n",
    "\r\n",
    "Here is a circular graph of the inverse elements: <br>"
   ]
  },
  {
   "cell_type": "code",
   "execution_count": 0,
   "metadata": {
    "collapsed": false
   },
   "outputs": [
   ],
   "source": [
    "CircleGraph(Z, Inv)"
   ]
  },
  {
   "cell_type": "markdown",
   "metadata": {
    "collapsed": false
   },
   "source": [
    "<br>\r\n",
    "What happens to 0? Recall that the inverse of <em>x</em> is defined to be the number <em>y</em> such that <em>x</em>&middot;<em>y</em> = 1.  But the equation \r\n",
    "0&middot;<em>y</em> &equiv; 1 (mod 7) has no solution, so 0 does not have an inverse (as we saw in the multiplication table.)  Thus, when <em>Sage</em> graphs the \r\n",
    "inverse function, 0 is sent to a question mark to indicate that there is no inverse of 0. \r\n",
    "\r\n",
    "\r\n",
    "\r\n",
    "<br>\r\n",
    "EXPERIMENT:<br>\r\n",
    "Try having <em>Sage</em> work with multiplication with a modulo other than 7, and form a circle graph of the inverse function.  Is 0 the only number that does not have \r\n",
    "an inverse? If not, can you find a pattern to the numbers which do not have an inverse? <br>"
   ]
  },
  {
   "cell_type": "markdown",
   "metadata": {
    "collapsed": false
   },
   "source": [
    "<br>\r\n",
    "In the last experiment, you probably discovered that there may be many numbers without a multiplicative inverse. For example, by looking at the multiplication \r\n",
    "table modulo 10, <br>"
   ]
  },
  {
   "cell_type": "code",
   "execution_count": 0,
   "metadata": {
    "collapsed": false
   },
   "outputs": [
   ],
   "source": [
    "Z = MultMod(10)\r\n",
    "MultTable(Z)"
   ]
  },
  {
   "cell_type": "markdown",
   "metadata": {
    "collapsed": false
   },
   "source": [
    "<br>\r\n",
    "we find several rows that do not contain any 1's. These rows indicate the numbers without inverses modulo 10.  We can see these more clearly by looking at the \r\n",
    "circle graph of the inverse function. <br>"
   ]
  },
  {
   "cell_type": "code",
   "execution_count": 0,
   "metadata": {
    "collapsed": false
   },
   "outputs": [
   ],
   "source": [
    "CircleGraph(Z, Inv)"
   ]
  },
  {
   "cell_type": "markdown",
   "metadata": {
    "collapsed": false
   },
   "source": [
    "<br>\r\n",
    "So 0, 2, 4, 5, 6, and 8 do not have inverses. Do you see a pattern in these numbers? <br>\r\n",
    "Hint: 2 does not have an inverse because there is no integer <em>x</em> such that                \r\n",
    "<p style='text-align: center;'>2 <em>x</em> = 1 + 10 <em>n</em></p>\r\n",
    "for some <em>n</em>.<br><br>\r\n",
    " \r\n",
    "To help see the pattern, look at multiplication modulo 15:<br>"
   ]
  },
  {
   "cell_type": "code",
   "execution_count": 0,
   "metadata": {
    "collapsed": false
   },
   "outputs": [
   ],
   "source": [
    "Z = MultMod(15)\r\n",
    "CircleGraph(Z, Inv)"
   ]
  },
  {
   "cell_type": "markdown",
   "metadata": {
    "collapsed": false
   },
   "source": [
    "<br>\r\n",
    "We see that 0, 3, 5, 6, 9, 10, and 12 do not have inverses.  There are eight numbers which do have inverses modulo 15.  What if we just considered those \r\n",
    "eight elements?<br>"
   ]
  },
  {
   "cell_type": "code",
   "execution_count": 0,
   "metadata": {
    "collapsed": false
   },
   "outputs": [
   ],
   "source": [
    "L = [Z[1], Z[2], Z[4], Z[7], Z[8], Z[11], Z[13], Z[14]]\r\n",
    "CircleGraph(L, Inv)"
   ]
  },
  {
   "cell_type": "markdown",
   "metadata": {
    "collapsed": false
   },
   "source": [
    "<br>\r\n",
    "By using this smaller set of numbers, every element now has an inverse. What if we looked at the multiplication table of this smaller set?<br>"
   ]
  },
  {
   "cell_type": "code",
   "execution_count": 0,
   "metadata": {
    "collapsed": false
   },
   "outputs": [
   ],
   "source": [
    "MultTable(L)"
   ]
  },
  {
   "cell_type": "markdown",
   "metadata": {
    "collapsed": false
   },
   "source": [
    "<br>\r\n",
    "One again, we can see some of the patterns in this table that we have seen before. Notice that this is a Latin square&mdash;every row and column contains each of \r\n",
    "the eight numbers. In fact, we can see the symmetry in this table which indicates that the multiplication is communative. Thus, we see that<br><br>\r\n",
    "\r\n",
    "1)&emsp;For any two numbers <em>x</em> and <em>y</em> in {1, 2, 4, 7, 8, 11, 13, 14}, <em>x</em>&middot;<em>y</em> is in that set. <br><br>    \r\n",
    "2)&emsp;(<em>x</em>&middot;<em>y</em>)&middot;<em>z</em> = <em>x</em>&middot;(<em>y</em>&middot;<em>z</em>) for any <em>x</em>, <em>y</em>, and <em>z</em>.<br><br>    \r\n",
    "3)&emsp;<em>x</em> &middot; 1 = <em>x</em>  and  1 &middot; <em>x</em> = <em>x</em>  for all <em>x</em>.<br><br>    \r\n",
    "4)&emsp;For any <em>x</em>, there is a <em>y</em> such that <em>x</em> &middot; <em>y</em> = 1.<br><br>    \r\n",
    "5)&emsp;For any <em>x</em> and <em>y</em>, <em>x</em> &middot; <em>y</em> = <em>y</em> &middot; <em>x</em>.<br><br>\r\n",
    "\r\n",
    "<br>\r\n",
    "EXPERIMENT:<br>\r\n",
    "Try this procedure working with different bases, such as <em>n</em> = 8 or <em>n</em> = 9: First type in <strong>Z = MultMod(</strong><em>n</em><strong>)</strong> which \r\n",
    "defines the multiplication modulo <em>n</em>.  Then use make a circle graph of the <strong>Inv</strong> function to see which numbers have inverses \r\n",
    "modulo <em>n</em>.  Finally, make a multiplication table of those numbers. Will this table always form a Latin square?<br>"
   ]
  },
  {
   "cell_type": "markdown",
   "metadata": {
    "collapsed": false
   },
   "source": [
    "<br>\r\n",
    "If the Latin square pattern always seems to appear for the invertible numbers, can we prove that this pattern will always appear?\r\n",
    "\r\n",
    "<p />\r\n",
    "<a name=\"prop16ret\" id=\"prop16ret\"></a>\r\n",
    "PROPOSITION 1.6<br>\r\n",
    "For <em>n</em> a positive integer greater than 1, let the dot (&middot;) denote multiplication modulo <em>n</em>. Let <em>G</em> be the set of all non-negative numbers \r\n",
    "less than <em>n</em> that have inverses modulo <em>n</em>. Then the set <em>G</em> has the following properties:<br><br> \r\n",
    "1)&emsp;For any two numbers <em>x</em> and <em>y</em> in <em>G</em>, <em>x</em>&middot;<em>y</em> is in <em>G</em>.<br><br>   \r\n",
    "2)&emsp;(<em>x</em>&middot;<em>y</em>)&middot;<em>z</em> = <em>x</em>&middot;(<em>y</em>&middot;<em>z</em>) for any <em>x</em>, <em>y</em>, and \r\n",
    "<em>z</em>.<br><br> \r\n",
    "3)&emsp;<em>x</em>&middot;1 = 1&middot;<em>x</em> = <em>x</em> for all <em>x</em>.<br><br>   \r\n",
    "4)&emsp;For any <em>x</em> that is in <em>G</em>, there is a <em>y</em> in <em>G</em> such that <em>x</em>&middot;<em>y</em> = 1.<br><br>   \r\n",
    "5)&emsp;For any <em>x</em> and <em>y</em>, <em>x</em>&middot;<em>y</em> = <em>y</em>&middot;<em>x</em>.<br><br>\r\n",
    "\r\n",
    "<a href=\"#prop16\">Click here for the proof.</a>\r\n",
    "\r\n",
    "<p />\r\n",
    "Although we have found that the invertible elements modulo <em>n</em> will always have a multiplication table which forms a Latin square, we have only hinted at which \r\n",
    "numbers are invertible modulo <em>n</em>.<br><br>\r\n",
    " \r\n",
    "We saw that the numbers 0, 2, 4, 5, 6, and 8 are not invertible modulo 10.  Note that these numbers all have a prime factor in common with 10:  0, 2, 4, 6, 8, and 10 \r\n",
    "are multiples of 2, whereas 0, 5, and 10 are multiples of 5. The remaining numbers, 1 ,3 ,7, and 9, are coprime to 10.  Let us demonstrate why this is true in general.\r\n",
    "\r\n",
    "<p />\r\n",
    "<a name=\"prop17ret\" id=\"prop17ret\"></a>\r\n",
    "PROPOSITION 1.7<br>\r\n",
    "Let <em>n</em> be in &#8484;<sup>+</sup>. Then for <em>x</em> between 0 and <em>n</em> &minus; 1, <em>x</em> has a multiplicatative inverse modulo <em>n</em> \r\n",
    "if, and only if, <em>x</em> is coprime to <em>n</em>.<br><br>\r\n",
    "\r\n",
    "<a href=\"#prop17\">Click here for the proof.</a>\r\n",
    "\r\n",
    "<p />\r\n",
    "\r\n",
    "We now have seen several binary operations, such as Terry's dance steps, addition modulo <em>n</em>, and multiplication modulo <em>n</em>, which have many properties in common.  \r\n",
    "In the next section we will generalize these examples to produce many more \r\n",
    "interesting examples, but in such a way that they will all have the important properties that we have seen.\r\n",
    "\r\n",
    "<a name=\"sec13\" id=\"sec13\"></a>\r\n",
    "<h1>The Definition of a Group</h1>\r\n",
    "\r\n",
    "<br>\r\n",
    "In this worksheet, we have seen several different ways of combining numbers or dance steps. Yet, all of the different &quot;products&quot; \r\n",
    "had many properties in common. We are now ready to try to generalize these examples. Our strategy is to define a <em>group</em> abstractly by requiring the same \r\n",
    "patterns we observed to continue. Thus, we make the following definition based upon the first four properties we saw in all of our examples.<br><br>\r\n",
    "\r\n",
    "DEFINITION 1.5<br>\r\n",
    "A <em>group</em> is a set <em>G</em> together with a binary operation (&middot;) such that the following four properties hold:<br><br>   \r\n",
    "1)&emsp;(closure)  For any <em>x</em> and <em>y</em> in <em>G</em>,  <em>x</em>&middot;<em>y</em> is in <em>G</em>.<br><br>   \r\n",
    "2)&emsp;(identity) There exists a member <em>e</em> in <em>G</em> which has the property that, for all <em>x</em> in <em>G</em>,\r\n",
    "<p style='text-align: center;'><em>e</em>&middot;<em>x</em>  =  <em>x</em>&middot;<em>e</em>  =  <em>x</em>.</p>   \r\n",
    "3)&emsp;(inverse)  For every <em>x</em> in <em>G</em>, there exists a <em>y</em> in <em>G</em>, called the <em>inverse</em> of <em>x</em>, such that \r\n",
    "<em>x</em>&middot;<em>y</em>  =  <em>e</em>.<br><br>\r\n",
    "4)&emsp;(associative law)  For any <em>a</em>, <em>b</em>, and <em>c</em> in <em>G</em>, \r\n",
    "<p style='text-align: center;'>(<em>a</em> &middot;<em>b</em>)&middot;<em>c</em>  = <em>a</em>&middot;(<em>b</em>&middot;<em>c</em>). </p>\r\n",
    "<br><br>\r\n",
    "\r\n",
    "These are the same four properties that we observed from Terry's dance steps, so Terry's dance steps give us the first example of a group.  This group is more \r\n",
    "commonly refered to as the group of symmetries of a triangle, abbreviated by <em>D</em><sub>3</sub>.<br><br>\r\n",
    " \r\n",
    "The members of the group, whether they are numbers, dance steps, or even ordered pairs, are called the <em>elements</em> of the group.  The element <em>e</em> that \r\n",
    "satisfies property 2 is commonly called the <em>identity element</em> of the group.<br><br>\r\n",
    " \r\n",
    "The mathematical notation for an element <em>x</em> to be in a group <em>G</em> is \r\n",
    "<p style='text-align: center;'><em>x</em> &isin; <em>G</em>.</p>\r\n",
    "\r\n",
    "Thus, the symbol &isin; means &quot;is an element of.&quot;<br><br>\r\n",
    " \r\n",
    "Since Propositions 1.1, 1.2, and 1.3 only used these four properties, the proofs are valid for all groups, using the identity element <em>e</em> in place of the \r\n",
    "dance step <strong>Stay</strong>.<br><br>\r\n",
    "  \r\n",
    "Other examples of groups come from modular arithmetic.  For <em>n</em> in &#8484;, we considered the elements\r\n",
    "<p style='text-align: center;'>{0, 1, 2, &hellip;, <em>n</em> &minus; 1},</p>\r\n",
    "with the opperator (&middot;) being the sum modulo <em>n</em>.  This group will be denoted <em>Z<sub>n</sub></em>.  For example, \r\n",
    "the group <em>Z</em><sub>10</sub> is given by:<br>"
   ]
  },
  {
   "cell_type": "code",
   "execution_count": 0,
   "metadata": {
    "collapsed": false
   },
   "outputs": [
   ],
   "source": [
    "G = ZGroup(10); G"
   ]
  },
  {
   "cell_type": "code",
   "execution_count": 0,
   "metadata": {
    "collapsed": false
   },
   "outputs": [
   ],
   "source": [
    "MultTable(G)"
   ]
  },
  {
   "cell_type": "markdown",
   "metadata": {
    "collapsed": false
   },
   "source": [
    "<br>\r\n",
    "We also considered having the opperator (&middot;) denoted the product modulo <em>n</em>, and considered only the set of numbers less than <em>n</em> that are \r\n",
    "coprime to <em>n</em>.  Proposition 1.6 shows that this set also has the four properties of groups.  We will refer to this group \r\n",
    "by <em>Z<sub>n</sub></em><sup>*</sup>.   This group can be loaded in <em>Sage</em> by the command <strong>ZStar</strong>.  For example, the group <em>Z</em><sub>15</sub><sup>*</sup> has 8 elements, with the following multiplication table.<br>"
   ]
  },
  {
   "cell_type": "code",
   "execution_count": 0,
   "metadata": {
    "collapsed": false
   },
   "outputs": [
   ],
   "source": [
    "G = ZStar(15); G"
   ]
  },
  {
   "cell_type": "code",
   "execution_count": 0,
   "metadata": {
    "collapsed": false
   },
   "outputs": [
   ],
   "source": [
    "MultTable(G)"
   ]
  },
  {
   "cell_type": "markdown",
   "metadata": {
    "collapsed": false
   },
   "source": [
    "<br>\r\n",
    "The groups <em>Z<sub>n</sub></em> and <em>Z<sub>n</sub></em><sup>*</sup> had an additional property&mdash;the multiplication tables were symmetric about the \r\n",
    "northwest to southeast diagonal.  Not all groups have this property, but those that do are important enough to give such groups a special name.<br><br>\r\n",
    " \r\n",
    "DEFINITION 1.6<br>\r\n",
    "A group <em>G</em> is <em>abelian</em> (or <em>commutative</em>) if  <em>x</em>&middot;<em>y</em> = \r\n",
    "<em>y</em>&middot;<em>x</em> for all <em>x</em>, <em>y</em>  &isin; <em>G</em>.<br><br>\r\n",
    "\r\n",
    "Although these definitions appear ad hoc, the four properties of groups appear in many different aspects of mathematics. Here are some examples of groups that appear \r\n",
    "on other contexts besides group theory:<br><br>\r\n",
    " \r\n",
    "EXAMPLE:<br>\r\n",
    "Consider the group consisting of all of the integers, &#8484;. Our binary operation would be the sum of the two numbers. It is trivial to see that this satisfies \r\n",
    "all 4 properties, with 0 as the identity, and &minus;<em>x</em> as the inverse of <em>x</em>. This is obviously an abelian group, since\r\n",
    "<p style='text-align: center;'><em>a</em> + <em>b</em> = <em>b</em> + <em>a</em> for all <em>a</em> and <em>b</em> in &#8484;.</p>\r\n",
    " \r\n",
    "EXAMPLE:<br>\r\n",
    "Next, we could consider the group of all rational numbers, which is denoted by &#8474;. (This is easy to remember, since &#8474; stands for Quotient.) \r\n",
    "Our binary operation would still be addition, so the identity element would still be 0, and this would also be an abelian group. <br><br>\r\n",
    " \r\n",
    "EXAMPLE:<br> \r\n",
    "Consider the group of all rational numbers except for 0. We will refer to this group as &#8474;<sup>*</sup>. Our group operation would be multiplication instead \r\n",
    "of addition. The identity element is now 1, and the inverse of an element is the reciprocal. Again, this is an abelian group.<br><br>\r\n",
    " \r\n",
    "EXAMPLE:  <br>\r\n",
    "Consider the set of all <em>linear functions</em> of the form\r\n",
    "<p style='text-align: center;'><em>f</em>(<em>x</em>) = <em>m x</em> + <em>b</em>, with <em>m</em>, <em>b</em> &isin; &#8477;,  <em>m</em> &ne; 0.</p>\r\n",
    "(The fancy &#8477; here represents the real numbers.) We multiply two linear functions together by function composition.  That is, if \r\n",
    "<em>f</em>(<em>x</em>) = <em>m x</em> + <em>b</em>, and <em>g</em>(<em>x</em>) = <em>n x</em> + <em>c</em>, then\r\n",
    "<p style='text-align: center;'><em>f</em>&middot;<em>g</em> = <em>f</em>(<em>g</em>(<em>x</em>)) = <em>m</em>(<em>n x</em> + <em>c</em>) + <em>b</em> = \r\n",
    "(<em>m n</em>) <em>x</em> + (<em>m c</em> + <em>b</em>)</p>\r\n",
    "which is again a linear function. Note that in <em>f</em>&middot;<em>g</em>, we do <em>g</em> first, then <em>f</em>, so we apply the functions from right to left. We \r\n",
    "can find the inverse of <em>f</em>(<em>x</em>) as well:\r\n",
    "<p style='text-align: center;'><em>f</em>&thinsp;<sup>-1</sup>(<em>x</em>) = <sup>1</sup>&frasl;<sub><em>m</em></sub> <em>x</em> &minus; \r\n",
    "<sup><em>b</em></sup>&frasl;<sub><em>m</em></sub>,</p>\r\n",
    "which is also a linear function. The identity function is just <em>e</em>(<em>x</em>) = <em>x</em>. The associativity property of function composition completes \r\n",
    "the requirements for the set of all linear functions to constitute a group.<br><br>\r\n",
    "\r\n",
    "Is this group abelian?  Let <em>f</em>(<em>x</em>) = 2<em>x</em> + 3, and <em>g</em>(<em>x</em>) = 3<em>x</em> + 2. Then <em>f</em>(<em>g</em>(<em>x</em>)) is \r\n",
    "2(3<em>x</em> + 2) + 3 = 6<em>x</em> + 7, whereas <em>g</em>(<em>f</em>(<em>x</em>)) = 3(2<em>x</em> + 3) + 2 = 6<em>x</em> + 11. \r\n",
    "So this is not an abelian group.<br><br>\r\n",
    "\r\n",
    "These last four groups have an infinite number of elements, so we unfortunately cannot construct multiplication tables for them.  To distinquish the groups which \r\n",
    "have multiplication tables, we make the following definition:<br><br>\r\n",
    "\r\n",
    "DEFINITION 1.7<br>\r\n",
    "The number of elements in a group <em>G</em> is called the <em>order</em> of the group, and is denoted |<em>G</em>|.  If <em>G</em> is has an infinite number of \r\n",
    "elements, we say that |<em>G</em>| = &infin;.<br><br>\r\n",
    "\r\n",
    "The last four examples had infinite order, and hence we cannot form multiplication tables for these groups.  On the opposite end of the spectrum, what is the \r\n",
    "<em>smallest</em> possible group? The third group property states that there must be an identity element in the group.  So the smallest group is the following:<br><br>\r\n",
    "\r\n",
    "EXAMPLE:  <br>\r\n",
    "Consider the group containing just the identity element, {<em>e</em>}.  Why is this a group?<br><br>\r\n",
    "\r\n",
    "We know that since <em>e</em> is an identity, <em>e</em>&middot;<em>e</em> = <em>e</em>.  It does contain an identity element, and <em>e</em> has an inverse, \r\n",
    "namely <em>e</em>. We can check associativity by noting that\r\n",
    "<p style='text-align: center;'>(<em>e</em>&middot;<em>e</em>)&middot;<em>e</em> = <em>e</em>&middot;(<em>e</em>&middot;<em>e</em>) = <em>e</em>.</p>\r\n",
    "We can give a multiplication table of this group by executing the following: <br>"
   ]
  },
  {
   "cell_type": "code",
   "execution_count": 0,
   "metadata": {
    "collapsed": false
   },
   "outputs": [
   ],
   "source": [
    "InitGroup(\"e\")\r\n",
    "MultTable([e])"
   ]
  },
  {
   "cell_type": "markdown",
   "metadata": {
    "collapsed": false
   },
   "source": [
    "<br>\r\n",
    "This group seems too simple to be of practical value, so we call this the <em>trivial</em> group. Most of our groups will be much more interesting!<br><br>\r\n",
    " \r\n",
    "The first of these <em>Sage</em> commands introduces a new command&mdash;<strong>InitGroup</strong>. This command designates the new identity element, and sets the \r\n",
    "stage for entering a new group. <br><br>\r\n",
    " \r\n",
    "As we see from these examples, sometimes the operator (&middot;) means addition, sometimes it means multiplication, and sometimes it means \r\n",
    "neither.  Nonetheless, we can consider the operation of an element by itself a number of times.  This produces combinations like\r\n",
    "<table align=\"center\" width=\"150\" border=\"0\" cellspacing=\"0\" cellpadding=\"0\">\r\n",
    "  <tr>\r\n",
    "    <td align=\"left\"><em>x</em>,</td>\r\n",
    "  </tr>\r\n",
    "  <tr>\r\n",
    "    <td align=\"left\"><em>x</em>&middot;<em>x</em>,</td>\r\n",
    "  </tr>\r\n",
    "  <tr>\r\n",
    "    <td align=\"left\"><em>x</em>&middot;<em>x</em>&middot;<em>x</em>,</td>\r\n",
    "  </tr>\r\n",
    "  <tr>\r\n",
    "    <td align=\"left\"><em>x</em>&middot;<em>x</em>&middot;<em>x</em>&middot;<em>x</em>,&emsp;and</td>\r\n",
    "  </tr>  \r\n",
    "  <tr>\r\n",
    "    <td align=\"left\"><em>x</em>&middot;<em>x</em>&middot;<em>x</em>&middot;<em>x</em>&middot;<em>x</em>.</td>\r\n",
    "  </tr>\r\n",
    "</table>\r\n",
    "<br>\r\n",
    "Even though the (&middot;) does not always mean multiplication, we can define <em>x<sup>n</sup></em> to mean <em>x</em> opperated on itself <em>n</em> times. \r\n",
    "Thus,\r\n",
    "<table align=\"center\" width=\"150\" border=\"0\" cellspacing=\"0\" cellpadding=\"0\">\r\n",
    "  <tr>\r\n",
    "    <td align=\"right\"><em>x</em> =</td>\r\n",
    "    <td align=\"left\">&ensp;<em>x</em><sup>1</sup>,</td>\r\n",
    "  </tr>\r\n",
    "  <tr>\r\n",
    "    <td align=\"right\"><em>x</em>&middot;<em>x</em> =</td>\r\n",
    "    <td align=\"left\">&ensp;<em>x</em><sup>2</sup>,</td>\r\n",
    "  </tr>\r\n",
    "  <tr>\r\n",
    "    <td align=\"right\"><em>x</em>&middot;<em>x</em>&middot;<em>x</em> =</td>\r\n",
    "    <td align=\"left\">&ensp;<em>x</em><sup>3</sup>, etc.</td>\r\n",
    "  </tr>\r\n",
    "</table>\r\n",
    "\r\n",
    "<br>\r\n",
    "We formally define <em>x<sup>n</sup></em> for any integer <em>n</em>. We let <em>x</em><sup>0</sup> = <em>e</em>, the identity element, then we define, for \r\n",
    "<em>n</em> > 0,\r\n",
    "<p style='text-align: center;'><em>x<sup>n</sup></em> = <em>x</em><sup><em>n</em>&minus;1</sup>&middot;<em>x</em>.</p> \r\n",
    "By defining the <em>n</em><sup>th</sup> power in terms of the (<em>n</em> &minus; 1)<sup>st</sup> power, we <em>inductively</em> have defined <em>x<sup>n</sup></em> \r\n",
    "whenever <em>n</em> is a positive integer.  <br><br>\r\n",
    "\r\n",
    "Finally, we can define negative powers by letting \r\n",
    "<p style='text-align: center;'><em>x</em><sup>&minus;<em>n</em></sup> = (<em>x<sup>n</sup></em>)<sup>-1</sup> if <em>n</em> > 0.</p>\r\n",
    "Note that if the operator <em>&middot;</em> represents addition, the raising <em>x</em> to a power is repeated addition, which is multiplication.<br><br>\r\n",
    "\r\n",
    "We can now prove some theorems which involve this exponential notation.\r\n",
    "\r\n",
    "<p />\r\n",
    "<a name=\"prop18ret\" id=\"prop18ret\"></a>\r\n",
    "PROPOSITION 1.8<br>\r\n",
    "If <em>x</em> is an element in a group <em>G</em>, and <em>m</em> and <em>n</em> are integers, then\r\n",
    "<p style='text-align: center;'><em>x</em><sup><em>m</em>+<em>n</em></sup> = <em>x<sup>n</sup></em>&middot;<em>x<sup>m</sup></em>.</p>\r\n",
    "\r\n",
    "<a href=\"#prop18\">Click here for the proof.</a>\r\n",
    "\r\n",
    "<p />\r\n",
    "This last proof utilizes an important method of proving theorems called <em>induction</em>, which was introduced in &sect;0.1. Induction is based on the well \r\n",
    "ordering axiom, which states that any non-empty subset of positive integers contains a smallest element.<br><br>\r\n",
    " \r\n",
    "It is not hard to see why this must be true.  If there were some positive integer not in the set, then there must be a <em>smallest</em> positive integer <em>k</em> that \r\n",
    "is not in the set.  Since <em>1</em> is in the set, we see that <em>k</em> > 1, and since <em>k</em> is the smallest number not in the set, <em>k</em> &minus; 1 must be \r\n",
    "in the set.  But the property of the set is that if <em>k</em> &minus; 1 is in the set, then <em>k</em> also is.  So we have a contradition, so there is no \r\n",
    "such <em>k</em>, meaning the the set is indeed all positive integers.<br><br>\r\n",
    "\r\n",
    "This gives us a powerful tool for proofs.  In fact, we really do not need to introduce the variable <em>k</em>.  To prove a statement for all positive integers \r\n",
    "<em>n</em>, we can first prove the statement is true for <em>n</em> = 1, and then we can assume that the statement is true for the previous case <em>n</em> &minus; 1.  \r\n",
    "This extra information often gives us the leverage we need to be able to prove the statement is true for <em>n</em>.  Here is another example of the use of induction.\r\n",
    "\r\n",
    "<p />\r\n",
    "<a name=\"prop19ret\" id=\"prop19ret\"></a>\r\n",
    "PROPOSITION 1.9 <br>\r\n",
    "If <em>x</em> is an element in a group <em>G</em>, and <em>m</em> and <em>n</em> are in &#8484;, then\r\n",
    "<p style='text-align: center;'>(<em>x<sup>m</sup></em>)<sup><em>n</em></sup> = <em>x</em><sup>(<em>m n</em>)</sup></p>\r\n",
    "\r\n",
    "<a href=\"#prop19\">Click here for the proof.</a>\r\n",
    "\r\n",
    "<p />\r\n",
    "Propositions 1.8 and 1.9 show that the common laws of exponents hold for elements of a group.  In the next section, we will use the powers of elements to explore the properties of a group.\r\n",
    "\r\n",
    "<br><br><br><br><br><br><br><br><br><br><br><br><br><br><br><br><br><br><br><br><br><br><br><br><br><br><br><br><br><br><br><br><br><br><br><br><br><br><br><br><br><br>\r\n",
    "\r\n",
    "<h1>Proofs:</h1>\r\n",
    "\r\n",
    "<a name=\"prop11\" id=\"prop11\"></a>\r\n",
    "\r\n",
    "Proof of Proposition 1.1:<br><br>\r\n",
    "\r\n",
    "Let <em>z</em> be any inverse of <em>y</em>.  Our job is to show that <em>z</em> is in fact equal to <em>x</em>.  Consider the \r\n",
    "product <em>x</em>&middot;<em>y</em>&middot;<em>z</em>.  According to the associative property, \r\n",
    "<p style='text-align: center;'><em>x</em>&middot;(<em>y</em>&middot;<em>z</em>) = (<em>x</em>&middot;<em>y</em>)&middot;<em>z</em>.</p>\r\n",
    "On the left side, we see that <em>y</em>&middot;<em>z</em> is an identity element, so <em>x</em>&middot;(<em>y</em>&middot;<em>z</em>) = <em>x</em>.  \r\n",
    "But on the right side, we find that <em>x</em>&middot;<em>y</em> is an identity element, so (<em>x</em>&middot;<em>y</em>)&middot;<em>z</em> = <em>z</em>.  Thus, \r\n",
    "<em>x</em> = <em>z</em>, and so <em>x</em> is an inverse of <em>y</em>.  Therefore, the inverse of an inverse gives us back the original element.<br><br>\r\n",
    "\r\n",
    "\r\n",
    "But as a bonus, we see that inverses are unique!  We let <em>z</em> be any inverse of <em>y</em>, and found that it had to equal <em>x</em>.  Thus, <em>y</em> has only \r\n",
    "one inverse, namely <em>x</em>.  But if we apply the argument again, reversing the roles of <em>x</em> and <em>y</em>, we see that <em>x</em> has only one inverse, namely \r\n",
    "<em>y</em>.  Thus, all inverses are unique.<br><br>\r\n",
    " \r\n",
    "<a href=\"#prop11ret\">Return to text</a>\r\n",
    "\r\n",
    "<br><br><br><br><br><br><br><br><br><br><br><br><br><br><br><br><br><br><br><br><br><br><br><br><br><br><br><br><br><br><br><br><br><br><br><br><br><br><br><br><br><br>\r\n",
    "\r\n",
    "<a name=\"prop12\" id=\"prop12\"></a>\r\n",
    "\r\n",
    "Proof of Proposition 1.2:<br><br>\r\n",
    "\r\n",
    "Since the inverse (<em>x</em>&middot;<em>y</em>)<sup>-1</sup> is the dance step <em>z</em> such that \r\n",
    "(<em>x</em>&middot;<em>y</em>)&middot;<em>z</em> = <strong>Stay</strong>, it suffices to show that <em>y</em><sup>-1</sup>&middot;<em>x</em><sup>-1</sup> has this \r\n",
    "property. We see that\r\n",
    "<p style='text-align: center;'>(<em>x</em>&middot;<em>y</em>)&middot;(<em>y</em><sup>-1</sup>&middot;<em>x</em><sup>-1</sup>) = \r\n",
    "<em>x</em>&middot;(<em>y</em>&middot;<em>y</em><sup>-1</sup>)&middot;<em>x</em><sup>-1</sup> = <em>x</em>&middot;<strong>Stay</strong>&middot;<em>x</em><sup>-1</sup> = \r\n",
    "<em>x</em>&middot;<em>x</em><sup>-1</sup> = <strong>Stay</strong>.</p>\r\n",
    "So  (<em>x</em>&middot;<em>y</em>)<sup>-1</sup> =  <em>y</em><sup>-1</sup>&middot;<em>x</em><sup>-1</sup>.<br><br>\r\n",
    " \r\n",
    "<a href=\"#prop12ret\">Return to text</a>\r\n",
    "\r\n",
    "<br><br><br><br><br><br><br><br><br><br><br><br><br><br><br><br><br><br><br><br><br><br><br><br><br><br><br><br><br><br><br><br><br><br><br><br><br><br><br><br><br><br>\r\n",
    " \r\n",
    "<a name=\"prop13\" id=\"prop13\"></a>\r\n",
    "\r\n",
    "Proof of Proposition 1.3:<br><br>\r\n",
    " \r\n",
    "Suppose that there is an <em>x</em> such that <em>a</em>&middot;<em>x</em> = <em>b</em>.  We can multiply both sides of the equation on the <em>left</em> by \r\n",
    "<em>a</em><sup>-1</sup> to give us\r\n",
    "<p style='text-align: center;'><em>a</em><sup>-1</sup>&middot;(<em>a</em>&middot;<em>x</em>) = <em>a</em><sup>-1</sup>&middot;<em>b</em>.</p>\r\n",
    "Then     \r\n",
    "<p style='text-align: center;'>(<em>a</em><sup>-1</sup>&middot;<em>a</em>)&middot;<em>x</em> = <em>a</em><sup>-1</sup>&middot;<em>b</em>.</p> \r\n",
    "<p style='text-align: center;'><strong>Stay</strong>&middot;<em>x</em> = <em>a</em><sup>-1</sup>&middot;<em>b</em>.</p> \r\n",
    "So <em>x</em> = <em>a</em><sup>-1</sup>&middot;<em>b</em>.  Thus, if there is a solution, this must be the unique solution <em>a</em><sup>-1</sup>&middot;<em>b</em>.  Let \r\n",
    "us check that this is indeed a solution.\r\n",
    "<p style='text-align: center;'><em>a</em>&middot;<em>x</em> = <em>a</em>&middot;<em>a</em><sup>-1</sup>&middot;<em>b</em> = <strong>Stay</strong>&middot;<em>b</em> = \r\n",
    "<em>b</em>.</p>\r\n",
    "Thus, there is only one solution to the equation, namely <em>a</em><sup>-1</sup>&middot;<em>b</em>.<br><br>\r\n",
    " \r\n",
    "<a href=\"#prop13ret\">Return to text</a>\r\n",
    "\r\n",
    "<br><br><br><br><br><br><br><br><br><br><br><br><br><br><br><br><br><br><br><br><br><br><br><br><br><br><br><br><br><br><br><br><br><br><br><br><br><br><br><br><br><br>\r\n",
    " \r\n",
    "<a name=\"prop14\" id=\"prop14\"></a>\r\n",
    "\r\n",
    "Proof of Proposition 1.4:<br><br>\r\n",
    " \r\n",
    "To show that this definition is reflexive, we need to show that <em>x</em> &equiv; <em>x</em> (mod <em>n</em>), which is \r\n",
    "clear since <em>x</em> &minus; <em>x</em> = 0&middot;<em>n</em>.<br><br>  \r\n",
    "\r\n",
    "To show that this definition is symmetric, suppose that \r\n",
    "<em>x</em> &equiv; <em>y</em>  (mod <em>n</em>).  Then <em>x</em> &minus; <em>y</em> = <em>k n</em> for some integer <em>k</em>, hence <em>y</em> &minus; <em>x</em> = &minus;<em>k</em> <em>n</em> for the integer &minus;<em>k</em>.\r\n",
    "Thus, <em>y</em> &equiv; <em>x</em> (mod <em>n</em>).<br><br>\r\n",
    "\r\n",
    "Finally, to show that this definition is transitive, suppose both <em>x</em> &equiv; <em>y</em> (mod <em>n</em>)\r\n",
    "and <em>y</em> &equiv; <em>z</em> (mod <em>n</em>).  Then <em>x</em> &minus; <em>y</em> = <em>k</em><sub>1</sub> <em>n</em> and \r\n",
    "<em>y</em> &minus; <em>z</em> = <em>k</em><sub>2</sub> <em>n</em>, so \r\n",
    "<p style='text-align: center;'><em>x</em> &minus; <em>z</em> = (<em>x</em> &minus; <em>y</em>) + (<em>y</em> &minus; <em>z</em>) = \r\n",
    "<em>k</em><sub>1</sub> <em>n</em> + <em>k</em><sub>2</sub> <em>n</em> = (<em>k</em><sub>1</sub> + <em>k</em><sub>2</sub>)<em>n</em>.</p>\r\n",
    "             \r\n",
    "Hence, we find that <em>x</em> &equiv; <em>z</em> (mod <em>n</em>).<br><br>\r\n",
    " \r\n",
    "<a href=\"#prop14ret\">Return to text</a>\r\n",
    "\r\n",
    "<br><br><br><br><br><br><br><br><br><br><br><br><br><br><br><br><br><br><br><br><br><br><br><br><br><br><br><br><br><br><br><br><br><br><br><br><br><br><br><br><br><br>\r\n",
    " \r\n",
    "<a name=\"prop15\" id=\"prop15\"></a>\r\n",
    "\r\n",
    "Proof of Proposition 1.5:<br><br>\r\n",
    " \r\n",
    "For any <em>a</em> &isin; <em>S</em>, we have by the reflexive property that <em>a</em> &isin; [<em>a</em>], so [<em>a</em>] is non-empty, and the union of all equivalence classes \r\n",
    "will be all of <em>S</em>.  Next, let us show that if there is an element <em>c</em> in common with two equivalence classes [<em>a</em>] and [<em>b</em>], then these classes are \r\n",
    "the same. Since <em>c</em> &sim; <em>a</em> and <em>c</em> &sim; <em>b</em>, we have by the symmetric and transitive properties that <em>a</em> &sim; <em>b</em>.  Hence, for \r\n",
    "every <em>x</em> &isin; [<em>a</em>], <em>x</em> &sim; <em>a</em>, so <em>x</em> &isin; [<em>b</em>] as well, indicating [<em>a</em>] &sube; [<em>b</em>].  \r\n",
    "By similar logic, [<em>b</em>] &sube; [<em>a</em>], so [<em>a</em>] = [<em>b</em>].<br><br>\r\n",
    " \r\n",
    "<a href=\"#prop15ret\">Return to text</a>\r\n",
    "\r\n",
    "<br><br><br><br><br><br><br><br><br><br><br><br><br><br><br><br><br><br><br><br><br><br><br><br><br><br><br><br><br><br><br><br><br><br><br><br><br><br><br><br><br><br>\r\n",
    " \r\n",
    "<a name=\"prop16\" id=\"prop16\"></a>\r\n",
    "\r\n",
    "Proof of Proposition 1.6:<br><br>\r\n",
    " \r\n",
    "Properties 2, 3, and 5 come from the properties of standard multiplication.<br><br>\r\n",
    "\r\n",
    "Property 1 comes from Proposition 1.2. If <em>x</em> and <em>y</em> are both invertible, then <em>y</em><sup>-1</sup>&middot;<em>x</em><sup>-1</sup> is an inverse of \r\n",
    "<em>x</em>&middot;<em>y</em>, and so <em>x</em>&middot;<em>y</em> is invertible modulo <em>n</em>.<br><br>\r\n",
    "\r\n",
    "Property 4 seems obvious, since if <em>x</em> is invertible modulo <em>n</em>, we let <em>y</em> = <em>x</em><sup>-1</sup> making <em>x</em>&middot;<em>y</em> = 1.  But \r\n",
    "we must check \r\n",
    "that <em>y</em> is also invertible, which it is since <em>y</em><sup>-1</sup> = x.<br><br>\r\n",
    " \r\n",
    "<a href=\"#prop16ret\">Return to text</a>\r\n",
    "\r\n",
    "<br><br><br><br><br><br><br><br><br><br><br><br><br><br><br><br><br><br><br><br><br><br><br><br><br><br><br><br><br><br><br><br><br><br><br><br><br><br><br><br><br><br>\r\n",
    "  \r\n",
    "<a name=\"prop17\" id=\"prop17\"></a>\r\n",
    "\r\n",
    "Proof of Proposition 1.7:<br><br>\r\n",
    "  \r\n",
    "If <em>x</em> and <em>n</em> are not coprime, then there is a common prime factor <em>p</em>. In order for <em>x</em> to have a multiplicative inverse, \r\n",
    "there must be a <em>y</em> such that\r\n",
    "<p style='text-align: center;'><em>x</em>&middot;<em>y</em> &equiv; 1  (mod <em>n</em>).</p>\r\n",
    "But this means that <em>x y</em> = 1 + <em>w n</em> for some <em>w</em>. This is impossible, since <em>x y</em> is a multiple of <em>p</em>, but 1 + <em>w n</em> is one \r\n",
    "more than a multiple of <em>p</em>.<br><br>\r\n",
    "\r\n",
    "Now suppose that <em>x</em> and <em>n</em> are coprime. By the greatest common divisor theorem (0.4), there are <em>u</em> and <em>v</em> in &#8484; such that \r\n",
    "<p style='text-align: center;'><em>u x</em> + <em>v n</em> = gcd(<em>x</em>, <em>n</em>) = 1.</p>\r\n",
    "But then \r\n",
    "<p style='text-align: center;'><em>u x</em> = 1 + (&minus;<em>v</em>) <em>n</em>,</p>\r\n",
    "and so <em>u</em>&middot;<em>x</em> &equiv; 1  (mod n). Hence, <em>u</em> is a multiplicative inverse of <em>x</em>.<br><br>  \r\n",
    "  \r\n",
    "<a href=\"#prop17ret\">Return to text</a>\r\n",
    "\r\n",
    "<br><br><br><br><br><br><br><br><br><br><br><br><br><br><br><br><br><br><br><br><br><br><br><br><br><br><br><br><br><br><br><br><br><br><br><br><br><br><br><br><br><br>\r\n",
    "    \r\n",
    "<a name=\"prop18\" id=\"prop18\"></a>\r\n",
    "\r\n",
    "Proof of Proposition 1.8:<br><br>   \r\n",
    "   \r\n",
    "If <em>m</em> or <em>n</em> are 0, this proposition is very easy to verify:\r\n",
    "<p style='text-align: center;'><em>x</em><sup><em>m</em>+0</sup> = <em>x<sup>m</sup></em> = <em>x<sup>m</sup></em>&middot;<em>e</em> = \r\n",
    "<em>x<sup>m</sup></em>&middot;<em>x</em><sup>0</sup>,&emsp;<em>x</em><sup>0+<em>n</em></sup> = <em>x<sup>n</sup></em> = \r\n",
    "e&middot;<em>x<sup>n</sup></em> = <em>x</em><sup>0</sup>&middot;<em>x<sup>n</sup></em>.</p>\r\n",
    "We will now prove the statement when <em>m</em> and <em>n</em> are positive integers.  If <em>n</em> is 1, then we have\r\n",
    "<p style='text-align: center;'><em>x</em><sup><em>m</em>+1</sup> = <em>x</em><sup><em>(m</em>+1)&minus;1</sup>&middot;<em>x</em> = \r\n",
    "<em>x<sup>m</sup></em>&middot;<em>x</em><sup>1</sup>,</p>\r\n",
    "using the inductive definition of the power of <em>x</em>.<br><br>\r\n",
    "\r\n",
    "We will now proceed by means of <em>induction</em>.  That is, we will assume that the statement is true for <em>n</em> = <em>k</em> &minus; 1, and then prove that it is \r\n",
    "then true for <em>n</em> = <em>k</em>. Then we will have that, since the statement is true for <em>n</em> = 1, and it is true for each number that follows, \r\n",
    "it must be true for all positive <em>n</em>.<br><br>\r\n",
    "\r\n",
    "Thus, we will assume that  \r\n",
    "<p style='text-align: center;'><em>x</em><sup><em>m</em>+(<em>k</em>&minus;1)</sup> = <em>x<sup>m</sup></em>&middot;<em>x</em><sup><em>k</em>&minus;1</sup>.</p>\r\n",
    "But then\r\n",
    "<p style='text-align: center;'><em>x</em><sup><em>m</em>+<em>k</em></sup> = <em>x</em><sup><em>m</em>+<em>k</em>&minus;1</sup>&middot;<em>x</em> = \r\n",
    "<em>x<sup>m</sup></em>&middot;<em>x</em><sup><em>k</em>&minus;1</sup>&middot;<em>x</em> = <em>x<sup>m</sup></em>&middot;<em>x<sup>k</sup></em>.</p>\r\n",
    "Thus, by assuming the statement is true for <em>n</em> = <em>k</em> &minus; 1, we found that it was also true for <em>n</em> = <em>k</em>.  By induction, \r\n",
    "this proves that <em>x</em><sup><em>m</em>+<em>n</em></sup> = <em>x<sup>m</sup></em>&middot;<em>x<sup>n</sup></em> for all positive <em>n</em>.<br><br>\r\n",
    "\r\n",
    "Once we have the statement true for positive <em>m</em> and <em>n</em>, we can take the inverse of both sides to give us\r\n",
    "<p style='text-align: center;'>(<em>x</em><sup><em>m</em>+<em>n</em></sup>)<sup>-1</sup> = \r\n",
    "(<em>x<sup>n</sup></em>)<sup>-1</sup>&middot;(<em>x<sup>m</sup></em>)<sup>-1</sup>.</p>\r\n",
    "But by the definition of negative exponents, this is\r\n",
    "<p style='text-align: center;'><em>x</em><sup>(&minus;<em>n</em>)+(&minus;<em>m</em>)</sup> = \r\n",
    "<em>x</em><sup>&minus;<em>n</em></sup>&middot;<em>x</em><sup>&minus;<em>m</em></sup></p>\r\n",
    "which, by letting <em>M</em> = &minus;<em>n</em> and <em>N</em> = &minus;<em>m</em>, proves the proposition for the case of both exponents being negative.<br><br>\r\n",
    "\r\n",
    "Finally, if <em>m</em> and <em>n</em> have different signs, then (<em>m</em> + <em>n</em>) will either have the same sign as &minus;<em>n</em>, or the same sign as \r\n",
    "&minus;<em>m</em>.  If (<em>m</em> + <em>n</em>) has the same sign as &minus;<em>n</em>, then we have already shown that\r\n",
    "<p style='text-align: center;'><em>x<sup>m</sup></em> = <em>x</em><sup>(<em>m</em>+<em>n</em>)+(&minus;<em>n</em>)</sup> = \r\n",
    "<em>x</em><sup><em>m</em>+<em>n</em></sup>&middot;<em>x</em><sup>&minus;<em>n</em></sup>.</p>\r\n",
    "So we have <em>x<sup>m</sup></em>&middot;(<em>x</em><sup>&minus;<em>n</em></sup>)<sup>-1</sup> = \r\n",
    "<em>x</em><sup><em>m</em>+<em>n</em></sup>&middot;<em>x</em><sup>&minus;<em>n</em></sup>&middot;(<em>x</em><sup>&minus;<em>n</em></sup>)<sup>-1</sup>, and hence\r\n",
    "<em>x</em><sup><em>m</em>+<em>n</em></sup> = <em>x<sup>m</sup></em>&middot;<em>x<sup>n</sup></em>.<br> <br>\r\n",
    "\r\n",
    "If <em>m</em> + <em>n</em> has the same sign as &minus;<em>m</em>, then we have already shown that\r\n",
    "<p style='text-align: center;'><em>x<sup>n</sup></em> = <em>x</em><sup>(&minus;<em>m</em>)+(<em>m</em>+<em>n</em>)</sup> = \r\n",
    "<em>x</em><sup>&minus;<em>m</em></sup>&middot;<em>x</em><sup><em>m</em>+<em>n</em></sup>.</p>\r\n",
    "So we have (<em>x</em><sup>&minus;<em>m</em></sup>)<sup>-1</sup>&middot;<em>x<sup>n</sup></em> = \r\n",
    "(<em>x</em><sup>&minus;<em>m</em></sup>)<sup>-1</sup>&middot;<em>x</em><sup>&minus;<em>m</em></sup>&middot;<em>x</em><sup><em>m</em>+<em>n</em></sup>, and \r\n",
    "hence <em>x</em><sup><em>m</em>+<em>n</em></sup> = <em>x<sup>m</sup></em>&middot;<em>x<sup>n</sup></em>.<br><br>\r\n",
    " \r\n",
    "Thus, we have proven the proposition for all integers <em>m</em> and <em>n</em>.<br><br> \r\n",
    "   \r\n",
    "<a href=\"#prop18ret\">Return to text</a>\r\n",
    "\r\n",
    "<br><br><br><br><br><br><br><br><br><br><br><br><br><br><br><br><br><br><br><br><br><br><br><br><br><br><br><br><br><br><br><br><br><br><br><br><br><br><br><br><br><br>\r\n",
    "   \r\n",
    "<a name=\"prop19\" id=\"prop19\"></a>\r\n",
    "\r\n",
    "Proof of Proposition 1.9:<br><br>     \r\n",
    "   \r\n",
    "Notice that this statement is trivial if <em>n</em> = 0 or <em>n</em> = 1:\r\n",
    "<p style='text-align: center;'>(<em>x<sup>m</sup></em>)<sup>0</sup> = <em>e</em> = <em>x</em><sup><em>m</em>&middot;0</sup>, &emsp; \r\n",
    "(<em>x<sup>m</sup></em>)<sup>1</sup> = <em>x<sup>m</sup></em> = <em>x</em><sup><em>m</em>&middot;1</sup></p>\r\n",
    "We will again proceed by means of induction, which means we can assume that the statement is true for the previous case, with <em>n</em> replaced by <em>n</em> &minus; 1.\r\n",
    "That is, we can assume that\r\n",
    "<p style='text-align: center;'>(<em>x<sup>m</sup></em>)<sup><em>n</em>&minus;1</sup> = <em>x</em><sup><em>m</em>(<em>n</em>&minus;1)</sup>.</p>\r\n",
    "Note that\r\n",
    "<p style='text-align: center;'>(<em>x<sup>m</sup></em>)<sup><em>n</em></sup> = \r\n",
    "(<em>x<sup>m</sup></em>)<sup><em>n</em>&minus;1</sup>&middot;<em>x<sup>m</sup></em> = \r\n",
    "<em>x</em><sup><em>m</em>(<em>n</em>&minus;1)</sup>&middot;<em>x<sup>m</sup></em>.</p>\r\n",
    "By Proposition 1.8, this is equal to <em>x</em><sup>(<em>m</em>(<em>n</em>&minus;1)+<em>m</em>)</sup> = <em>x<sup>m n</sup></em>.<br><br>\r\n",
    "\r\n",
    "So by induction, the proposition holds for positive <em>n</em>.  To see that it holds for negative <em>n</em> as well, simply note that\r\n",
    "<p style='text-align: center;'>(<em>x<sup>m</sup></em>)<sup><em>n</em></sup> = ((<em>x<sup>m</sup></em>)<sup>&minus;<em>n</em></sup>)<sup>-1</sup> = \r\n",
    "(<em>x</em><sup>&minus;<em>m n</em></sup>)<sup>-1</sup> = <em>x<sup>m n</sup></em>.</p>\r\n",
    "If <em>n</em> is negative, then &minus;<em>n</em> is positive, so the second step is valid.<br><br>     \r\n",
    "   \r\n",
    "<a href=\"#prop19ret\">Return to text</a>\r\n",
    "\r\n",
    "<br><br><br><br><br><br><br><br><br><br><br><br><br><br><br><br><br><br><br><br><br><br><br><br><br><br><br><br><br><br><br><br><br><br><br><br><br><br><br><br><br><br>  \r\n",
    "\r\n",
    "<a name=\"sec1p\" id=\"sec1p\"></a>   \r\n",
    "<h1><em>Sage</em> Interactive Problems</h1>\r\n",
    "\r\n",
    "<br>\r\n",
    "&sect;1.1 #13)<br>\r\n",
    "If Terry was only allowed to do the steps <strong>FlipRt</strong> or <strong>FlipLft</strong>, could it get itself into all six possible positions? If \r\n",
    "possible, expressthe other four dance steps in terms of these two. The following <em>Sage</em> command reloads Terry's group. <br>"
   ]
  },
  {
   "cell_type": "code",
   "execution_count": 0,
   "metadata": {
    "collapsed": false
   },
   "outputs": [
   ],
   "source": [
    "InitTerry()"
   ]
  },
  {
   "cell_type": "markdown",
   "metadata": {
    "collapsed": false
   },
   "source": [
    "<br>\r\n",
    "&sect;1.1 #14)<br>\r\n",
    "Repeat Problem 13, only allow Terry to do only the steps <strong>RotRt</strong> or <strong>RotLft</strong>.<br>"
   ]
  },
  {
   "cell_type": "markdown",
   "metadata": {
    "collapsed": false
   },
   "source": [
    "<br>\r\n",
    "&sect;1.1 #15)<br>\r\n",
    "Can you find a dance routine which includes each of Terry's 6 dance steps once, and only once, that puts Terry back into the initial position?<br>"
   ]
  },
  {
   "cell_type": "markdown",
   "metadata": {
    "collapsed": false
   },
   "source": [
    "<br>\r\n",
    "&sect;1.2 #21)<br>\r\n",
    "Proposition 1.7 explains how to use <strong>xgcd</strong> to find the multiplicative inverse modulo <em>n</em>.\r\n",
    "Use <em>Sage</em> to find the multiplicative inverse of <em>a</em> modulo <em>n</em>, where <em>a</em> = 3, <em>n</em> = 100.<br>"
   ]
  },
  {
   "cell_type": "markdown",
   "metadata": {
    "collapsed": false
   },
   "source": [
    "<br>\r\n",
    "&sect;1.2 #22)<br>\r\n",
    "Repeat Problem 21, with <em>a</em> = 5, <em>n</em> = 121.<br>"
   ]
  },
  {
   "cell_type": "markdown",
   "metadata": {
    "collapsed": false
   },
   "source": [
    "<br>\r\n",
    "&sect;1.2 #23)<br>\r\n",
    "Repeat Problem 21, with <em>a</em> = 7, <em>n</em> = 360.<br>"
   ]
  },
  {
   "cell_type": "markdown",
   "metadata": {
    "collapsed": false
   },
   "source": [
    "<br>\r\n",
    "&sect;1.2 #24)<br>\r\n",
    "Repeat Problem 21, with <em>a</em> = 11, <em>n</em> = 900.<br>"
   ]
  },
  {
   "cell_type": "markdown",
   "metadata": {
    "collapsed": false
   },
   "source": [
    "<br>\r\n",
    "&sect;1.2 #25)<br>\r\n",
    "Repeat Problem 21, with <em>a</em> = 13, <em>n</em> = 1200.<br>"
   ]
  },
  {
   "cell_type": "markdown",
   "metadata": {
    "collapsed": false
   },
   "source": [
    "<br>\r\n",
    "&sect;1.2 #26)<br>\r\n",
    "Repeat Problem 21, with <em>a</em> = 17, <em>n</em> = 1500.<br>"
   ]
  },
  {
   "cell_type": "markdown",
   "metadata": {
    "collapsed": false
   },
   "source": [
    "<br>\r\n",
    "&sect;1.2 #27)<br>\r\n",
    "We saw that there were exactly four numbers less than 10 which were invertible modulo 10.  For what other values of <em>n</em> are there exactly four numbers less \r\n",
    "than <em>n</em> which are invertible modulo <em>n</em>?  Use <em>Sage</em>'s circle graph to graph the inverse functions.<br>"
   ]
  },
  {
   "cell_type": "markdown",
   "metadata": {
    "collapsed": false
   },
   "source": [
    "<br>\r\n",
    "&sect;1.3 #28)<br>\r\n",
    "Use <em>Sage</em>'s <strong>ZStar</strong> command to find the size of <em>Z<sub>n</sub></em><sup>*</sup> for <em>n</em> = 9, 27, 81, 243, 5, 25, 125.  Make a conjecture \r\n",
    "about the size of <em>Z<sub>n</sub></em><sup>*</sup> when <em>n</em> is a power of an odd prime.  Note use can use the <strong>len(_)</strong> command to have <em>Sage</em> count the elements for you.<br>"
   ]
  },
  {
   "cell_type": "markdown",
   "metadata": {
    "collapsed": false
   },
   "source": [
    "<br>\r\n",
    "&sect;1.3 #29)<br>\r\n",
    "Use <em>Sage</em>'s <strong>ZStar</strong> command to find the size of <em>Z<sub>n</sub></em><sup>*</sup> for <em>n</em> = 18, 54, 162, 486, 50, 250, 98, 686.  Make a conjecture \r\n",
    "about the size of <em>Z<sub>n</sub></em><sup>*</sup> when <em>n</em> is twice the power of an odd prime.<br>"
   ]
  },
  {
   "cell_type": "markdown",
   "metadata": {
    "collapsed": false
   },
   "source": [
    "<br>\r\n",
    "&sect;1.3 #30)<br>\r\n",
    "Use <em>Sage</em>'s <strong>ZStar</strong> command to find the size of <em>Z<sub>mn</sub></em><sup>*</sup>, where <em>m</em> and <em>n</em> are coprime, in terms of the sizes \r\n",
    "of <em>Z<sub>m</sub></em><sup>*</sup> and <em>Z<sub>n</sub></em><sup>*</sup>.<br>"
   ]
  },
  {
   "cell_type": "markdown",
   "metadata": {
    "collapsed": false
   },
   "source": [
    "</font>\r\n",
    "\r\n",
    "</body>\r\n",
    "\r\n",
    "</html>"
   ]
  }
 ],
 "metadata": {
  "kernelspec": {
   "display_name": "SageMath (stable)",
   "name": "sagemath"
  },
  "language_info": {
   "codemirror_mode": {
    "name": "ipython",
    "version": 2
   },
   "file_extension": ".py",
   "mimetype": "text/x-python",
   "name": "python",
   "nbconvert_exporter": "python",
   "pygments_lexer": "ipython2",
   "version": "2.7.14"
  }
 },
 "nbformat": 4,
 "nbformat_minor": 0
}