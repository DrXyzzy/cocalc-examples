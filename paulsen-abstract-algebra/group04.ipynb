{
 "cells": [
  {
   "cell_type": "markdown",
   "metadata": {
    "collapsed": false
   },
   "source": [
    "<!-- Group04 -->\n",
    "<html>\n",
    "<body>\n",
    "\n",
    "<!-- To make the size of the font bigger for presentations, change the following command from +1 to +2 -->\n",
    "<font size=\"+1\">\n",
    "\n",
    "<p style='font-size: 36px;font-family: Arial;font-style: italic;font-weight: bold;color: #FF00FF;background-color: #80FFFF;text-align: center;'>\n",
    "Abstract Algebra: An Interactive Approach, 2e\n",
    "</p>\n",
    "\n",
    "<p style='font-family: Geneva;font-style: italic;color: #0000FF;background-color: #FFFFFF;'>\n",
    "&copy;2015 This notebook is provided with the textbook, &quot;Abstract Algebra: An Interactive Approach, 2nd Ed.&quot; by William Paulsen. Users of this notebook are encouraged to buy the textbook.\n",
    "</p>\n",
    "\n",
    "\n",
    "\n",
    "<p style='font-size: 36px;font-family: New York;font-weight: bold;color: #000000;background-color: #FFFFFF;text-align: center;border: 1px;border-style: \n",
    "solid;border-color: #000000;'>\n",
    "Chapter 4<br>\n",
    "Mappings Between Groups\n",
    "</p>\n",
    "\n",
    "\n",
    "<p style='text-align: center;'>Initialization:  This cell MUST be evaluated first:</p>"
   ]
  },
  {
   "cell_type": "code",
   "execution_count": 0,
   "metadata": {
    "collapsed": false
   },
   "outputs": [
   ],
   "source": [
    "%display latex\n",
    "try:\n",
    "    load('absalgtext.sage')\n",
    "except IOError:\n",
    "    load('/media/sf_sage/absalgtext.sage')"
   ]
  },
  {
   "cell_type": "markdown",
   "metadata": {
    "collapsed": false
   },
   "source": [
    "<br>\r\n",
    "<a href=\"#sec41\">Isomorphisms</a><br>\r\n",
    "<a href=\"#sec42\">Homomorphisms</a><br>\r\n",
    "<a href=\"#sec43\">The Three Isomorphism Theorems</a><br>\r\n",
    "<a href=\"#sec4p\"><em>Sage</em> Interactive Problems</a><br>\r\n",
    "\r\n",
    "<a name=\"sec41\" id=\"sec41\"></a>\r\n",
    "<h1>Isomorphisms</h1>\r\n",
    "\r\n",
    "<br>\r\n",
    "We have now seen two examples of groups of order 6, namely, <em>S</em><sub>3</sub> and the quotient group <em>G</em>/<em>M</em> just studied. Are these really two \r\n",
    "different groups? Technically, yes, since the names for their elements are totally different. However, there is a correlation between these two groups. <br><br>\r\n",
    "\r\n",
    "EXAMPLE:<br>\r\n",
    "The group <em>S</em><sub>3</sub> could be written simply as {<em>e</em>, <em>a</em>, <em>b</em>, <em>a</em>&middot;<em>b</em>, <em>b</em><sup>2</sup>, \r\n",
    "<em>a</em>&middot;<em>b</em><sup>2</sup>}, whereas the group <em>G</em>/<em>M</em> was written\r\n",
    "<br><br>\r\n",
    "<table align = \"center\" border=\"0\">\r\n",
    "  <tr>\r\n",
    "    <td>{{<em>e</em>, <em>a</em>&middot;<em>b</em><sup>2</sup>&middot;<em>c</em>, <em>c</em><sup>2</sup>,\r\n",
    "<em>a</em>&middot;<em>b</em><sup>2</sup>&middot;<em>c</em><sup>3</sup>},</td>\r\n",
    "  </tr>\r\n",
    "  <tr>\r\n",
    "    <td>&ensp;{<em>a</em>, <em>b</em><sup>2</sup>&middot;<em>c</em>, <em>a</em>&middot;<em>c</em><sup>2</sup>,\r\n",
    "<em>b</em><sup>2</sup>&middot;<em>c</em><sup>3</sup>},</td>\r\n",
    "  </tr>\r\n",
    "  <tr>\r\n",
    "    <td>&ensp;{<em>b</em>, <em>a</em>&middot;<em>b</em>&middot;<em>c</em>, <em>b</em>&middot;<em>c</em><sup>2</sup>, <em>a</em>&middot;<em>b</em>&middot;<em>c</em><sup>3</sup>},</td>\r\n",
    "  </tr>\r\n",
    "  <tr>\r\n",
    "    <td>&ensp;{<em>a</em>&middot;<em>b</em>, <em>b</em>&middot;<em>c</em>, <em>a</em>&middot;<em>b</em>&middot;<em>c</em><sup>2</sup>, <em>b</em>&middot;<em>c</em><sup>3</sup>},</td>\r\n",
    "  </tr>\r\n",
    "  <tr>\r\n",
    "    <td>&ensp;{<em>b</em><sup>2</sup>, <em>a</em>&middot;<em>c</em>, <em>b</em><sup>2</sup>&middot;<em>c</em><sup>2</sup>, <em>a</em>&middot;<em>c</em><sup>3</sup>},</td>\r\n",
    "  </tr>\r\n",
    "  <tr>\r\n",
    "    <td>&ensp;{<em>a</em>&middot;<em>b</em><sup>2</sup>, <em>c</em>, <em>a</em>&middot;<em>b</em><sup>2</sup>&middot;<em>c</em><sup>2</sup>, <em>c</em><sup>3</sup>}}.</td>\r\n",
    "  </tr>  \r\n",
    "</table>\r\n",
    "<br>\r\n",
    "In the last experiment, you were asked to rearrange the elements of <em>S</em><sub>3</sub> so that the multiplication tables for these two groups had the same color \r\n",
    "pattern. With a little fiddling, one might have come up with a correlation like the following:\r\n",
    "<br><br>\r\n",
    "<table align = \"center\" border=\"0\">\r\n",
    "  <tr>\r\n",
    "    <td align=\"right\"><em>e</em></td>\r\n",
    "    <td>&harr;</td>\r\n",
    "    <td>{<em>e</em>, <em>a</em>&middot;<em>b</em><sup>2</sup>&middot;<em>c</em>, <em>c</em><sup>2</sup>,\r\n",
    "<em>a</em>&middot;<em>b</em><sup>2</sup>&middot;<em>c</em><sup>3</sup>}</td>\r\n",
    "  </tr>\r\n",
    "  <tr>\r\n",
    "    <td align=\"right\"><em>a</em>&middot;<em>b</em><sup>2</sup></td>\r\n",
    "    <td>&harr;</td>\r\n",
    "    <td>{<em>a</em>, <em>b</em><sup>2</sup>&middot;<em>c</em>, <em>a</em>&middot;<em>c</em><sup>2</sup>,\r\n",
    "<em>b</em><sup>2</sup>&middot;<em>c</em><sup>3</sup>}</td>\r\n",
    "  </tr>\r\n",
    "  <tr>\r\n",
    "    <td align=\"right\"><em>b</em></td>\r\n",
    "    <td>&harr;</td>\r\n",
    "    <td>{<em>b</em>, <em>a</em>&middot;<em>b</em>&middot;<em>c</em>, <em>b</em>&middot;<em>c</em><sup>2</sup>, \r\n",
    "<em>a</em>&middot;<em>b</em>&middot;<em>c</em><sup>3</sup>}</td>\r\n",
    "  </tr>\r\n",
    "  <tr>\r\n",
    "    <td align=\"right\"><em>a</em></td>\r\n",
    "    <td>&harr;</td>\r\n",
    "    <td>{<em>a</em>&middot;<em>b</em>, <em>b</em>&middot;<em>c</em>, <em>a</em>&middot;<em>b</em>&middot;<em>c</em><sup>2</sup>, <em>b</em>&middot;<em>c</em><sup>3</sup>}</td>\r\n",
    "  </tr>\r\n",
    "  <tr>\r\n",
    "    <td align=\"right\"><em>b</em><sup>2</sup></td>\r\n",
    "    <td>&harr;</td>\r\n",
    "    <td>{<em>b</em><sup>2</sup>, <em>a</em>&middot;<em>c</em>, <em>b</em><sup>2</sup>&middot;<em>c</em><sup>2</sup>, <em>a</em>&middot;<em>c</em><sup>3</sup>}</td>\r\n",
    "  </tr>\r\n",
    "  <tr>\r\n",
    "    <td align=\"right\"><em>a</em>&middot;<em>b</em></td>\r\n",
    "    <td>&harr;</td>\r\n",
    "    <td>{<em>a</em>&middot;<em>b</em><sup>2</sup>, <em>c</em>, <em>a</em>&middot;<em>b</em><sup>2</sup>&middot;<em>c</em><sup>2</sup>, <em>c</em><sup>3</sup>}</td>\r\n",
    "  </tr>\r\n",
    "</table>\r\n",
    "\r\n",
    "Thus, by using an ordering of <em>S</em><sub>3</sub> such as <br>\r\n",
    "<p style='text-align: center;'>{<em>e</em>, <em>a</em>&middot;<em>b</em><sup>2</sup>, <em>b</em>, <em>a</em>, <em>b</em><sup>2</sup>, \r\n",
    "<em>a</em>&middot;<em>b</em>},</p>\r\n",
    "the multiplication tables for <em>G</em>/<em>M</em> and <em>S</em><sub>3</sub> have the exact same color pattern.<br><br>\r\n",
    "\r\n",
    "What does that mean? Suppose we define a <em>function</em> from <em>S</em><sub>3</sub> to <em>G</em>/<em>M</em>.  We are used to plugging real numbers into a function, \r\n",
    "and having a real number come out. But there is no reason why we cannot have a function which is evaluated at an element of a group!  We define the function \r\n",
    "<em>&fnof;</em>(<em>x</em>) as follows: \r\n",
    "<br><br>\r\n",
    "<table align = \"center\" border=\"0\">\r\n",
    "  <tr>\r\n",
    "    <td align=\"right\"><em>&fnof;</em>(<em>e</em>)</td>\r\n",
    "    <td>=</td>\r\n",
    "    <td>{<em>e</em>, <em>a</em>&middot;<em>b</em><sup>2</sup>&middot;<em>c</em>, <em>c</em><sup>2</sup>,\r\n",
    "<em>a</em>&middot;<em>b</em><sup>2</sup>&middot;<em>c</em><sup>3</sup>},</td>\r\n",
    "  </tr>\r\n",
    "  <tr>\r\n",
    "    <td align=\"right\"><em>&fnof;</em>(<em>a</em>&middot;<em>b</em><sup>2</sup>)</td>\r\n",
    "    <td>=</td>\r\n",
    "    <td>{<em>a</em>, <em>b</em><sup>2</sup>&middot;<em>c</em>, <em>a</em>&middot;<em>c</em><sup>2</sup>,\r\n",
    "<em>b</em><sup>2</sup>&middot;<em>c</em><sup>3</sup>},</td>\r\n",
    "  </tr>\r\n",
    "  <tr>\r\n",
    "    <td align=\"right\"><em>&fnof;</em>(<em>b</em>)</td>\r\n",
    "    <td>=</td>\r\n",
    "    <td>{<em>b</em>, <em>a</em>&middot;<em>b</em>&middot;<em>c</em>, <em>b</em>&middot;<em>c</em><sup>2</sup>, \r\n",
    "<em>a</em>&middot;<em>b</em>&middot;<em>c</em><sup>3</sup>},</td>\r\n",
    "  </tr>\r\n",
    "  <tr>\r\n",
    "    <td align=\"right\"><em>&fnof;</em>(<em>a</em>)</td>\r\n",
    "    <td>=</td>\r\n",
    "    <td>{<em>a</em>&middot;<em>b</em>, <em>b</em>&middot;<em>c</em>, <em>a</em>&middot;<em>b</em>&middot;<em>c</em><sup>2</sup>, <em>b</em>&middot;<em>c</em><sup>3</sup>},</td>\r\n",
    "  </tr>\r\n",
    "  <tr>\r\n",
    "    <td align=\"right\"><em>&fnof;</em>(<em>b</em><sup>2</sup>)</td>\r\n",
    "    <td>=</td>\r\n",
    "    <td>{<em>b</em><sup>2</sup>, <em>a</em>&middot;<em>c</em>, <em>b</em><sup>2</sup>&middot;<em>c</em><sup>2</sup>, <em>a</em>&middot;<em>c</em><sup>3</sup>},</td>\r\n",
    "  </tr>\r\n",
    "  <tr>\r\n",
    "    <td align=\"right\"><em>&fnof;</em>(<em>a</em>&middot;<em>b</em>)</td>\r\n",
    "    <td>=</td>\r\n",
    "    <td>{<em>a</em>&middot;<em>b</em><sup>2</sup>, <em>c</em>, <em>a</em>&middot;<em>b</em><sup>2</sup>&middot;<em>c</em><sup>2</sup>, <em>c</em><sup>3</sup>}.</td>\r\n",
    "  </tr>\r\n",
    "</table>\r\n",
    "\r\n",
    "Then we have \r\n",
    "<p style='text-align: center;'><em>&fnof;</em>(<em>x</em>&middot;<em>y</em>) = <em>&fnof;</em>(<em>x</em>) &middot; <em>&fnof;</em>(<em>y</em>).</p>\r\n",
    "<br>\r\n",
    " \r\n",
    "We can also notice two other things about the function <em>&fnof;</em>. Note that two different elements of <em>S</em><sub>3</sub> produce two different elements of \r\n",
    "<em>G</em>/<em>M</em>.That is, <em>&fnof;</em>(<em>x</em>) is one-to-one, or <em>injective</em>. Another thing to notice is that every element of <em>G</em>/<em>M</em> \r\n",
    "appears as <em>&fnof;</em>(<em>x</em>) for some element <em>x</em>.  This is expressed by saying that <em>&fnof;</em>(<em>x</em>) is onto, or <em>surjective</em>. \r\n",
    "If a function, such as this one, is both injective and surjective, we say that it is <em>bijective</em>. <br><br>\r\n",
    " \r\n",
    "This function allows us to see that the two groups <em>S</em><sub>3</sub> and <em>G</em>/<em>M</em> are really the same group in disguise. \r\n",
    "The function indicates how to &quot;relabel&quot; the elements so that one group becomes the other group.<br><br>\r\n",
    " \r\n",
    "DEFINITION 4.1<br>\r\n",
    "Let <em>G</em><sub>1</sub> and <em>G</em><sub>2</sub> be two groups.  An <em>isomorphism</em> from <em>G</em><sub>1</sub> to <em>G</em><sub>2</sub> is a one-to-one \r\n",
    "function sending elements of <em>G</em><sub>1</sub> to elements of <em>G</em><sub>2</sub> such that\r\n",
    "<p style='text-align: center;'><em>&fnof;</em>(<em>x</em>&middot;<em>y</em>) = <em>&fnof;</em>(<em>x</em>) &middot; <em>&fnof;</em>(<em>y</em>)&emsp;for all <em>x</em>, <em>y</em> &isin; <em>G</em><sub>1</sub>.</p>\r\n",
    "<br>\r\n",
    "If there exists an isomorphism from <em>G</em><sub>1</sub> to <em>G</em><sub>2</sub> that is also onto, then we say that <em>G</em><sub>1</sub> and \r\n",
    "<em>G</em><sub>2</sub> are <em>isomorphic</em>, denoted by \r\n",
    "<p style='text-align: center;'><em>G</em><sub>1</sub> &asymp; <em>G</em><sub>2</sub>.</p>\r\n",
    "\r\n",
    "<br>\r\n",
    "Because of the function we defined above, it is clear that <em>S</em><sub>3</sub> is isomorphic to <em>G</em>/<em>M</em>.  We now have a way of saying that the two \r\n",
    "groups have essentially the same multiplication table, as indicated by the color patterns.<br><br>\r\n",
    " \r\n",
    "It should be noted that &asymp; is an equivalence relation on groups.  (Reflexive property is obvious, symmetric and transitive properties are covered in Problems 1 and 2.) \r\n",
    "One of the most important yet extremely hard problems in group theory is to find all of the groups of order <em>n</em>. Of course, there are really an infinite \r\n",
    "number of different groups if we can relabel the elements. But the concept of isomorphism allows us to say that <em>S</em><sub>3</sub> and <em>G</em>/<em>M</em> \r\n",
    "are really the same group. So we may ask how many <em>non-isomorphic</em> groups there are of order <em>n</em>. Even though this is still unsolved in general, \r\n",
    "we do know of an upper bound for the number of groups.\r\n",
    " \r\n",
    "<p />  \r\n",
    "<a name=\"prop41ret\" id=\"prop41ret\"></a>  \r\n",
    "PROPOSITION 4.1<br>\r\n",
    "There are at most <em>n</em><sup>(<em>n</em>&sup2;)</sup> non-isomorphic groups of order <em>n</em>.<br><br>\r\n",
    "\r\n",
    "<a href=\"#prop41\">Click here for the proof.</a>\r\n",
    "\r\n",
    "<p />\r\n",
    "Of course, not very many of these tables will actually form a group. Even though this proposition gives us an upper bound, it is too big to be practical. \r\n",
    "The following proposition will be helpful for many values of <em>n</em>.<br>\r\n",
    " \r\n",
    "<p />  \r\n",
    "<a name=\"prop42ret\" id=\"prop42ret\"></a>  \r\n",
    "PROPOSITION 4.2<br>\r\n",
    "For <em>n</em> a given positive integer, every cyclic group of order <em>n</em> is isomorphic to <em>Z<sub>n</sub></em>.<br><br>\r\n",
    "\r\n",
    "<a href=\"#prop42\">Click here for the proof.</a>\r\n",
    "\r\n",
    "<p />\r\n",
    "How does this proposition help us determine all of the groups of order <em>n</em>? If <em>p</em> is <em>prime</em>, then Corollary 3.3 tells us that the groups must \r\n",
    "be cyclic. Then this proposition would tell us that the group must be isomorphic to <em>Z<sub>p</sub></em>. So in fact, if <em>p</em> is prime, there is only \r\n",
    "one non-isomorphic group of order <em>p</em>.<br>\r\n",
    "<br>\r\n",
    " \r\n",
    "Let us see if we can find all isomorphic groups of order up to 8. The following lemma will help us out.\r\n",
    "\r\n",
    "<p />  \r\n",
    "<a name=\"lem41ret\" id=\"lem41ret\"></a>\r\n",
    "LEMMA 4.1<br>\r\n",
    "Suppose a group <em>G</em> whose order is greater than 2 has all non-identity elements being of order 2. Then <em>G</em> has a subgroup isomorphic \r\n",
    "to <em>Z</em><sub>8</sub><sup>*</sup>.<br><br>\r\n",
    " \r\n",
    "<a href=\"#lem41\">Click here for the proof.</a>\r\n",
    "\r\n",
    "<p />\r\n",
    "The group <em>Z</em><sub>8</sub><sup>*</sup> is also called the <em>Klein 4-group</em>. We are now ready to find all groups of \r\n",
    "order <em>n</em> up to <em>n</em> = 8.<br><br>\r\n",
    "\r\n",
    "\r\n",
    "<em>n</em> = 1:&emsp;The one element must be the identity, so we have the trivial group, {<em>e</em>}.<br><br>\r\n",
    "\r\n",
    "<em>n</em> = 2:&emsp;Since 2 is prime, the only group is <em>Z</em><sub>2</sub>.<br><br>\r\n",
    "\r\n",
    "<em>n</em> = 3:&emsp;Since 3 is prime, the only group is <em>Z</em><sub>3</sub>.<br><br>\r\n",
    "\r\n",
    "<em>n</em> = 4:&emsp;Every element must be of order 1, 2, or 4.  If there is an element of order 4, the group is cyclic. On the other hand, if all of non-identity \r\n",
    "elements are of order 2, then Lemma 4.1 states that  there is a subgroup isomorphic to <em>Z</em><sub>8</sub><sup>*</sup>.  But this subgroup must be the group itself. \r\n",
    "Thus, there are two possible groups: <em>Z</em><sub>4</sub> and  <em>Z</em><sub>8</sub><sup>*</sup>.<br>\r\n",
    "<br>\r\n",
    "\r\n",
    "<em>n</em> = 5:&emsp;Since 5 is prime, the only group is  <em>Z</em><sub>3</sub>.<br><br>\r\n",
    "\r\n",
    "<em>n</em> = 6:&emsp;Every element must be of order 1, 2, 3 or 6. If there is an element of order 6, the group is cyclic. If all non-identity elements are of order 2, \r\n",
    "then Lemma 4.1  states that there is a subgroup isomorphic to <em>Z</em><sub>8</sub><sup>*</sup>. But this is impossible, since four does not divide six.  Thus, there is \r\n",
    "an element of order 3, say <em>a</em>.  Then <em>H</em> = {<em>e</em>, <em>a</em>, <em>a</em><sup>2</sup>} is a subgroup with index 2, and so by \r\n",
    "Proposition 3.5, <em>H</em> is normal. If <em>b</em> is any element not in <em>H</em>, then the two cosets of <em>H</em> are \r\n",
    "<p style='text-align: center;'>{{<em>e</em>, <em>a</em>, <em>a</em><sup>2</sup>}, {<em>b</em>, <em>a</em>&middot;<em>b</em>, <em>a</em><sup>2</sup>&middot;<em>b</em>}}.</p>  \r\n",
    "Thus, the group can be expressed by<br>"
   ]
  },
  {
   "cell_type": "code",
   "execution_count": 0,
   "metadata": {
    "collapsed": false
   },
   "outputs": [
   ],
   "source": [
    "InitGroup(\"e\")\r\n",
    "AddGroupVar(\"a\", \"b\")\r\n",
    "Define(a^3, e)\r\n",
    "G = [e, a, b, a^2, a*b, a^2*b]; G"
   ]
  },
  {
   "cell_type": "markdown",
   "metadata": {
    "collapsed": false
   },
   "source": [
    "<br>\r\n",
    "However, this is not enough to define the whole group, as we can see in the black holes in the multiplication table.<br>"
   ]
  },
  {
   "cell_type": "code",
   "execution_count": 0,
   "metadata": {
    "collapsed": false
   },
   "outputs": [
   ],
   "source": [
    "MultTable(G)"
   ]
  },
  {
   "cell_type": "markdown",
   "metadata": {
    "collapsed": false
   },
   "source": [
    "<br>\r\n",
    "How many ways can we complete this table? Because the quotient group is isomorphic to <em>Z</em><sub>2</sub>, <em>b</em><sup>2</sup> must be in <em>H</em>. \r\n",
    "Yet if is <em>a</em> or <em>a</em><sup>2</sup>, then we  find <em>b</em> has order 6, which we have already considered. So we may suppose \r\n",
    "<em>b</em><sup>2</sup> = <em>e</em>. If we add this definition, we get<br>"
   ]
  },
  {
   "cell_type": "code",
   "execution_count": 0,
   "metadata": {
    "collapsed": false
   },
   "outputs": [
   ],
   "source": [
    "Define(b^2, e)\r\n",
    "G = [e, a, b, a^2, a*b, a^2*b]\r\n",
    "MultTable(G)"
   ]
  },
  {
   "cell_type": "markdown",
   "metadata": {
    "collapsed": false
   },
   "source": [
    "<br>\r\n",
    "Note that we had to re-establish the elements in <em>G</em>, since adding a new rule redefines the variables <em>a</em> and <em>b</em>.  \r\n",
    "Although we have more information in the table, there are still black squares.<br><br>\r\n",
    "\r\n",
    "The rest of the multiplication table of <em>G</em> can be determined by finding <em>b</em>&middot;<em>a</em>.  Again, because of the quotient group, \r\n",
    "<em>b</em>&middot;<em>a</em> is not in <em>H</em>. Obviously <em>b</em>&middot;<em>a</em> is not <em>b</em>, since <em>b</em> cannot appear twice in the same row. \r\n",
    "If <em>b</em>&middot;<em>a</em> = <em>a</em>&middot;<em>b</em>, then <em>b</em>&middot;<em>a</em> will have order 6, which we have covered. So the only possibility \r\n",
    "left is <em>b</em>&middot;<em>a</em> = <em>a</em><sup>2</sup>&middot;<em>b</em>. If we add this final definition, we get the following multiplication table:<br>"
   ]
  },
  {
   "cell_type": "code",
   "execution_count": 0,
   "metadata": {
    "collapsed": false
   },
   "outputs": [
   ],
   "source": [
    "Define(b*a, a^2*b)\r\n",
    "G = [e, a, b, a^2, a*b, a^2*b]\r\n",
    "MultTable(G)"
   ]
  },
  {
   "cell_type": "markdown",
   "metadata": {
    "collapsed": false
   },
   "source": [
    "<br>\r\n",
    "This multiplication table satisfies the Latin square property, and since it was defined in <em>Sage</em>, it will follow the associative law.   Which group is this?  \r\n",
    "We already know of a non-cyclic group of order 6, namely <em>S</em><sub>3</sub>, so this must be it.  Thus, the two possible groups of order 6 are <em>Z</em><sub>6</sub>\r\n",
    "and <em>S</em><sub>3</sub>.<br><br>\r\n",
    "\r\n",
    "<em>n</em> = 7:&emsp;Since 7 is prime, the only group is <em>Z</em><sub>7</sub>.<br><br>\r\n",
    "\r\n",
    "<em>n</em> = 8:&emsp;Every element must be of order 1, 2, 4, or 8. If there is an element of order 8, the group is cyclic, so the group would be isomorphic to \r\n",
    "<em>Z</em><sub>8</sub>. Suppose instead that all non-identity elements are of order 2.  By Lemma 4.1, there is a subgroup <em>H</em> isomorphic \r\n",
    "to <em>Z</em><sub>8</sub><sup>*</sup>. But the index of <em>H</em> would be two, so <em>H</em> is a normal subgroup. Thus, if <em>c</em> is any element not \r\n",
    "in <em>H</em>, then the cosets of <em>G</em> can be expressed as  \r\n",
    "<p style='text-align: center;'>{{<em>e</em>, <em>a</em>, <em>b</em>, <em>a</em>&middot;<em>b</em>}, \r\n",
    "{<em>c</em>, <em>a</em>&middot;<em>c</em>, <em>b</em>&middot;<em>c</em>, <em>a</em>&middot;<em>b</em>&middot;<em>c</em>}}. </p>\r\n",
    "Since <em>c</em>, <em>a</em>&middot;<em>c</em>, and <em>b</em>&middot;<em>c</em> all are of order 2, we have\r\n",
    "<p style='text-align: center;'><em>c</em>&middot;<em>a</em> = <em>a</em>&middot;<em>a</em>&middot;<em>c</em>&middot;<em>a</em>&middot;<em>c</em>&middot;<em>c</em> = \r\n",
    "<em>a</em>&middot;(<em>a</em>&middot;<em>c</em>)<sup>2</sup>&middot;<em>c</em> = <em>a</em>&middot;<em>c</em><br>\r\n",
    "<em>c</em>&middot;<em>b</em> = <em>b</em>&middot;<em>b</em>&middot;<em>c</em>&middot;<em>b</em>&middot;<em>c</em>&middot;<em>c</em> = \r\n",
    "<em>b</em>&middot;(<em>b</em>&middot;<em>c</em>)<sup>2</sup>&middot;<em>c</em> = <em>b</em>&middot;<em>c</em></p>\r\n",
    "Using <em>Sage</em>, we see the only possible group would be<br>"
   ]
  },
  {
   "cell_type": "code",
   "execution_count": 0,
   "metadata": {
    "collapsed": false
   },
   "outputs": [
   ],
   "source": [
    "InitGroup(\"e\")\r\n",
    "AddGroupVar(\"a\", \"b\", \"c\")\r\n",
    "Define(a^2, e)\r\n",
    "Define(b^2, e)\r\n",
    "Define(c^2, e)\r\n",
    "Define(b*a, a*b)\r\n",
    "Define(c*a, a*c)\r\n",
    "Define(c*b, b*c)\r\n",
    "G = ListGroup()\r\n",
    "MultTable(G)"
   ]
  },
  {
   "cell_type": "markdown",
   "metadata": {
    "collapsed": false
   },
   "source": [
    "<br>\r\n",
    "We can easily check that the Latin square property holds, and since <em>Sage</em> was able to construct this, it is associative.  Thus, this is a group, and clearly every \r\n",
    "non-identity element has order 2.  But what group is this?  Consider the group <em>Z</em><sub>24</sub><sup>*</sup>:<br>"
   ]
  },
  {
   "cell_type": "code",
   "execution_count": 0,
   "metadata": {
    "collapsed": false
   },
   "outputs": [
   ],
   "source": [
    "M = ZStar(24)\r\n",
    "MultTable(M)"
   ]
  },
  {
   "cell_type": "markdown",
   "metadata": {
    "collapsed": false
   },
   "source": [
    "<br>\r\n",
    "This also is a group of order 8 with all non-identity elements of order 2.  So from the above argument, this must be isomorphic to our group <em>G</em>.  In fact, if we \r\n",
    "look closely, we will see that the color patterns match!<br>\r\n",
    "\r\n",
    "<br>\r\n",
    "If we have a group of order 8, and there is no element of order 8, but not all non-identity elements are of order 2, then there must be an element of order 4, \r\n",
    "call this <em>a</em>. Then\r\n",
    "<p style='text-align: center;'><em>H</em> = {<em>e</em>, <em>a</em>, <em>a</em><sup>2</sup>, <em>a</em><sup>3</sup>}</p>\r\n",
    "is a subgroup of <em>G</em>, and since the index of <em>H</em> is two, Proposition 3.5 tells us that <em>H</em> is normal. Let <em>b</em> be an element not in \r\n",
    "<em>H</em>. Then the cosets of <em>H</em> are \r\n",
    "<p style='text-align: center;'><em>H</em> = {{<em>e</em>, <em>a</em>, <em>a</em><sup>2</sup>, <em>a</em><sup>3</sup>}, \r\n",
    "{<em>b</em>, <em>a</em>&middot;<em>b</em>, <em>a</em><sup>2</sup>&middot;<em>b</em>, <em>a</em><sup>3</sup>&middot;<em>b</em>}}.</p>\r\n",
    "The multiplication table for so looks like the following:<br>"
   ]
  },
  {
   "cell_type": "code",
   "execution_count": 0,
   "metadata": {
    "collapsed": false
   },
   "outputs": [
   ],
   "source": [
    "InitGroup(\"e\")\r\n",
    "AddGroupVar(\"a\", \"b\")\r\n",
    "Define(a^4, e)\r\n",
    "G = [e, a, a^2, a^3, b, a*b, a^2*b, a^3*b]\r\n",
    "MultTable(G)"
   ]
  },
  {
   "cell_type": "markdown",
   "metadata": {
    "collapsed": false
   },
   "source": [
    "<br> \r\n",
    "Note from the Latin square property that <em>b</em><sup>2</sup> must be in <em>H</em>.  \r\n",
    "If <em>b</em><sup>2</sup> = <em>a</em> or <em>b</em><sup>2</sup> = <em>a</em><sup>3</sup>, then <em>b</em> would \r\n",
    "have order 8, which would indicate a cyclic group. So we can assume that <em>b</em><sup>2</sup> = <em>e</em> or <em>b</em><sup>2</sup> = <em>a</em><sup>2</sup>.\r\n",
    "Note also from the Latin square property that <em>b</em>&middot;<em>a</em> cannot be in <em>H</em>, and cannot be <em>b</em>. Thus, <em>b</em>&middot;<em>a</em> is either \r\n",
    "<em>a</em>&middot;<em>b</em>, <em>a</em><sup>2</sup>&middot;<em>b</em>, or <em>a</em><sup>3</sup>&middot;<em>b</em>.\r\n",
    "Hence, we have six possible cases. We will let <em>Sage</em> do the dirty work in verifying which are groups.<br><br>\r\n",
    "\r\n",
    "Case 1)&emsp;If <em>b</em><sup>2</sup> = <em>e</em> and <em>b</em>&middot;<em>a</em> = <em>a</em>&middot;<em>b</em>, we have<br>"
   ]
  },
  {
   "cell_type": "code",
   "execution_count": 0,
   "metadata": {
    "collapsed": false
   },
   "outputs": [
   ],
   "source": [
    "InitGroup(\"e\")\r\n",
    "AddGroupVar(\"a\", \"b\")\r\n",
    "Define(a^4, e)\r\n",
    "Define(b^2, e)\r\n",
    "Define(b*a, a*b)\r\n",
    "G = [e, a, a^2, a^3, b, a*b, a^2*b, a^3*b]\r\n",
    "MultTable(G)"
   ]
  },
  {
   "cell_type": "markdown",
   "metadata": {
    "collapsed": false
   },
   "source": [
    "<br>\r\n",
    "<em>Sage</em> verified that this is a commutative group. Compare this to the group <em>Z</em><sub>15</sub><sup>*</sup>:<br>\r\n",
    "</p>"
   ]
  },
  {
   "cell_type": "code",
   "execution_count": 0,
   "metadata": {
    "collapsed": false
   },
   "outputs": [
   ],
   "source": [
    "M = ZStar(15)\r\n",
    "MultTable(M)"
   ]
  },
  {
   "cell_type": "markdown",
   "metadata": {
    "collapsed": false
   },
   "source": [
    "<br>\r\n",
    "These two tables have quite a few properties in common, but currently the color patterns are not matching.  Let us see if we can find an isomorphism between the two groups.\r\n",
    "<br><br>\r\n",
    "Since <em>a</em> is of order 4, we must find an element of order 4 in <em>Z</em><sub>15</sub><sup>*</sup>, say 2.  Suppose <em>&fnof;</em>(<em>a</em>) = 2.  Then \r\n",
    "<em>&fnof;</em>(<em>a</em><sup>2</sup>) = 4, <em>&fnof;</em>(<em>a</em><sup>3</sup>) = 8, and <em>&fnof;</em>(<em>e</em>) = 1.  Since <em>b</em> is of order 2, it must \r\n",
    "map to a remaining element of order 2, say <em>&fnof;</em>(<em>b</em>) = 14.  Then <em>&fnof;</em>(<em>a</em>&middot;<em>b</em>) = 2&middot;14 = 13,\r\n",
    "<em>&fnof;</em>(<em>a</em><sup>2</sup>&middot;<em>b</em>) = 4&middot;14 = 11, and finally <em>&fnof;</em>(<em>a</em><sup>3</sup>&middot;<em>b</em>) = 8&middot;14 = 7.\r\n",
    "Let us test this isomorphism by rearranging the elements of <em>G</em>.<br>"
   ]
  },
  {
   "cell_type": "code",
   "execution_count": 0,
   "metadata": {
    "collapsed": false
   },
   "outputs": [
   ],
   "source": [
    "MultTable([e, a, a^2, a^3*b, a^3, a^2*b, a*b, b])\r\n",
    "MultTable(M)"
   ]
  },
  {
   "cell_type": "markdown",
   "metadata": {
    "collapsed": false
   },
   "source": [
    "Now the color patterns are now the same, showing that <em>G</em> &asymp; <em>Z</em><sub>15</sub><sup>*</sup>.<br><br>\r\n",
    "\r\n",
    "Case 2)&emsp;Next we consider <em>b</em><sup>2</sup> = <em>e</em>, <em>b</em>&middot;<em>a</em> = <em>a</em><sup>2</sup>&middot;<em>b</em>:<br>"
   ]
  },
  {
   "cell_type": "code",
   "execution_count": 0,
   "metadata": {
    "collapsed": false
   },
   "outputs": [
   ],
   "source": [
    "InitGroup(\"e\")\r\n",
    "AddGroupVar(\"a\", \"b\")\r\n",
    "Define(a^4, e)\r\n",
    "Define(b^2, e)\r\n",
    "Define(b*a, a^2*b)\r\n",
    "G = [e, a, a^2, a^3, b, a*b, a^2*b, a^3*b]\r\n",
    "MultTable(G)"
   ]
  },
  {
   "cell_type": "markdown",
   "metadata": {
    "collapsed": false
   },
   "source": [
    "<br>\r\n",
    "What happened?  This table obviously does not satisfy the Latin square property, and in fact there seems to be only 2 elements in this group.  If we ask <em>Sage</em> \r\n",
    "to list the group,<br>"
   ]
  },
  {
   "cell_type": "code",
   "execution_count": 0,
   "metadata": {
    "collapsed": false
   },
   "outputs": [
   ],
   "source": [
    "Group(a, b)"
   ]
  },
  {
   "cell_type": "markdown",
   "metadata": {
    "collapsed": false
   },
   "source": [
    "<br>\r\n",
    "we see only 2 elements.  Apparently, the rules <em>b</em><sup>2</sup> = <em>e</em> and  <em>b</em>&middot;<em>a</em> = <em>a</em><sup>2</sup>&middot;<em>b</em> imply \r\n",
    "that <em>a</em> = <em>e</em>.  So we do not get a group of order 8.<br><br>\r\n",
    "\r\n",
    "Case 3)&emsp;Let us try <em>b</em><sup>2</sup> = <em>e</em>, <em>b</em>&middot;<em>a</em> = <em>a</em><sup>3</sup>&middot;<em>b</em>:<br>"
   ]
  },
  {
   "cell_type": "code",
   "execution_count": 0,
   "metadata": {
    "collapsed": false
   },
   "outputs": [
   ],
   "source": [
    "InitGroup(\"e\")\r\n",
    "AddGroupVar(\"a\", \"b\")\r\n",
    "Define(a^4, e)\r\n",
    "Define(b^2, e)\r\n",
    "Define(b*a, a^3*b)\r\n",
    "G = ListGroup(); G"
   ]
  },
  {
   "cell_type": "code",
   "execution_count": 0,
   "metadata": {
    "collapsed": false
   },
   "outputs": [
   ],
   "source": [
    "MultTable(G)"
   ]
  },
  {
   "cell_type": "markdown",
   "metadata": {
    "collapsed": false
   },
   "source": [
    "<br>\r\n",
    "This is the first non-commutative group of order 8 that we have seen. This group appears when we consider the symmetries of a square, as in Problem 1 of &sect;1.1. \r\n",
    "The element <em>a</em> corresponds to rotating the square 90&deg; clockwise, while the element <em>b</em> corresponds to flipping the square over. For this reason, \r\n",
    "we call this group the <em>dihedral group of order</em> 4, or <em>D</em><sub>4</sub>.<br><br>\r\n",
    " \r\n",
    "Case 4)&emsp;Let us consider <em>b</em><sup>2</sup> = <em>a</em><sup>2</sup>, and <em>b</em>&middot;<em>a</em> = <em>a</em>&middot;<em>b</em>:<br>"
   ]
  },
  {
   "cell_type": "code",
   "execution_count": 0,
   "metadata": {
    "collapsed": false
   },
   "outputs": [
   ],
   "source": [
    "InitGroup(\"e\")\r\n",
    "AddGroupVar(\"a\", \"b\")\r\n",
    "Define(a^4, e)\r\n",
    "Define(b^2, a^2)\r\n",
    "Define(b*a, a*b)\r\n",
    "G = [e, a, a^2, a^3, b, a*b, a^2*b, a^3*b]\r\n",
    "MultTable(G)"
   ]
  },
  {
   "cell_type": "markdown",
   "metadata": {
    "collapsed": false
   },
   "source": [
    "<br>\r\n",
    "This is a commutative group, but is it a different group then <em>Z</em><sub>15</sub><sup>*</sup>, which we have seen before?  We can use the same logic used in \r\n",
    "case 1 to find an isomorphism.<br>"
   ]
  },
  {
   "cell_type": "code",
   "execution_count": 0,
   "metadata": {
    "collapsed": false
   },
   "outputs": [
   ],
   "source": [
    "M = ZStar(15)\r\n",
    "MultTable(M)\r\n",
    "MultTable([e, a, a^2, b, a^3, a^3*b, a^2*b, a*b])"
   ]
  },
  {
   "cell_type": "markdown",
   "metadata": {
    "collapsed": false
   },
   "source": [
    "<br>\r\n",
    "With the colors arranged this way, we see that in fact we found the same group twice. <br><br>\r\n",
    " \r\n",
    "Case 5)&emsp;Next, we will try <em>b</em><sup>2</sup> = <em>a</em><sup>2</sup>, and <em>b</em>&middot;<em>a</em> = <em>a</em><sup>2</sup>&middot;<em>b</em>:<br>"
   ]
  },
  {
   "cell_type": "code",
   "execution_count": 0,
   "metadata": {
    "collapsed": false
   },
   "outputs": [
   ],
   "source": [
    "InitGroup(\"e\")\r\n",
    "AddGroupVar(\"a\", \"b\")\r\n",
    "Define(a^4, e)\r\n",
    "Define(b^2, a^2)\r\n",
    "Define(b*a, a^2*b)\r\n",
    "G = [e, a, a^2, a^3, b, a*b, a^2*b, a^3*b]\r\n",
    "MultTable(G)"
   ]
  },
  {
   "cell_type": "markdown",
   "metadata": {
    "collapsed": false
   },
   "source": [
    "<br>\r\n",
    "<em>Sage</em> shows that this is not a group!  Thus, there is one last combination to try:<br><br>\r\n",
    "\r\n",
    "Case 6)&emsp;<em>b</em><sup>2</sup> = <em>a</em><sup>2</sup>, and <em>b</em>&middot;<em>a</em> = <em>a</em><sup>3</sup>&middot;<em>b</em>:<br>"
   ]
  },
  {
   "cell_type": "code",
   "execution_count": 0,
   "metadata": {
    "collapsed": false
   },
   "outputs": [
   ],
   "source": [
    "InitGroup(\"e\")\r\n",
    "AddGroupVar(\"a\", \"b\")\r\n",
    "Define(a^4, e)\r\n",
    "Define(b^2, a^2)\r\n",
    "Define(b*a, a^3*b)\r\n",
    "G = [e, a, a^2, a^3, b, a*b, a^2*b, a^3*b]\r\n",
    "MultTable(G)"
   ]
  },
  {
   "cell_type": "markdown",
   "metadata": {
    "collapsed": false
   },
   "source": [
    "<br>\r\n",
    "<em>Sage</em> verifies that this is a non-commutative group. But is it isomorphic to the group <em>D</em><sub>4</sub> found in case 3? \r\n",
    "Note that in this group, the identity <em>e</em> appears along the diagonal only twice, so <em>a</em><sup>2</sup> is the only element of order 2.  In the table for \r\n",
    "<em>D</em><sub>4</sub>, the identity appeared 6 times along the diagonal, so there were 5 elements of order 2.  Thus, this is a new group.<br>\r\n",
    "<br>\r\n",
    " \r\n",
    "This non-commutative group is called the <em>quaternion</em> group, <em>Q</em>. Although we used <em>a</em> and <em>b</em> as the generators, the group is typically \r\n",
    "described by the elements {1, <em>i</em>, <em>j</em>, <em>k</em>, -1, -<em>i</em>, -<em>j</em>, -<em>k</em>}. <br>"
   ]
  },
  {
   "cell_type": "code",
   "execution_count": 0,
   "metadata": {
    "collapsed": false
   },
   "outputs": [
   ],
   "source": [
    "Q = InitQuaternions(); Q"
   ]
  },
  {
   "cell_type": "markdown",
   "metadata": {
    "collapsed": false
   },
   "source": [
    "<br>\r\n",
    "The number 1 is used for the identity, and the following gives a multiplication table for <em>Q</em>:<br>"
   ]
  },
  {
   "cell_type": "code",
   "execution_count": 0,
   "metadata": {
    "collapsed": false
   },
   "outputs": [
   ],
   "source": [
    "MultTable(Q)"
   ]
  },
  {
   "cell_type": "markdown",
   "metadata": {
    "collapsed": false
   },
   "source": [
    "<br>\r\n",
    "Notice the strange resemblance between this groups multiplication, and the cross product of two unit vectors in three dimensions.<br><br>\r\n",
    " \r\n",
    "All groups of order 8 have now been considered. We found five possible groups: <em>Z</em><sub>8</sub>, <em>Z</em><sub>24</sub><sup>*</sup>, \r\n",
    "<em>Z</em><sub>15</sub><sup>*</sup>, <em>D</em><sub>4</sub>, and <em>Q</em>.<br><br>\r\n",
    "\r\n",
    "EXPERIMENT:<br>\r\n",
    "Using <em>Sage</em>, find all groups of order 9, and display the multiplication tables. (Hint: By Corollary 3.1, the order of an element must be 1, 3, or 9.  Thus, if \r\n",
    "the group is non-cyclic, all elements besides the identity have order 3.)<br>"
   ]
  },
  {
   "cell_type": "markdown",
   "metadata": {
    "collapsed": false
   },
   "source": [
    "<br>\r\n",
    "As one can imagine, the analysis becomes even more complicated as we consider larger <em>n</em>. Here is a table of the number of non-isomorphic groups of \r\n",
    "order <em>n</em>, when <em>n</em> is not prime:<br><br>\r\n",
    "\r\n",
    "\r\n",
    "<table align = \"center\" width=\"300\" border=\"1\">\r\n",
    "  <caption>\r\n",
    "    Groups of order <em>n</em>\r\n",
    "  </caption>\r\n",
    "  <tr>\r\n",
    "    <th width=\"30\" scope=\"col\"><em>n</em></th>\r\n",
    "    <th width=\"70\" scope=\"col\">groups</th>\r\n",
    "    <th width=\"30\" scope=\"col\"><em>n</em></th>\r\n",
    "    <th width=\"70\" scope=\"col\">groups</th>\r\n",
    "    <th width=\"30\" scope=\"col\"><em>n</em></th>\r\n",
    "    <th width=\"70\" scope=\"col\">groups</th>\r\n",
    "  </tr>\r\n",
    "  <tr>\r\n",
    "    <td>4</td>\r\n",
    "    <td>2</td>\r\n",
    "    <td>39</td>\r\n",
    "    <td>2</td>\r\n",
    "    <td>72</td>\r\n",
    "    <td>50</td>\r\n",
    "  </tr>\r\n",
    "  <tr>\r\n",
    "    <td>6</td>\r\n",
    "    <td>2</td>\r\n",
    "    <td>40</td>\r\n",
    "    <td>14</td>\r\n",
    "    <td>74</td>\r\n",
    "    <td>2</td>\r\n",
    "  </tr>\r\n",
    "  <tr>\r\n",
    "    <td>8</td>\r\n",
    "    <td>5</td>\r\n",
    "    <td>42</td>\r\n",
    "    <td>6</td>\r\n",
    "    <td>75</td>\r\n",
    "    <td>3</td>\r\n",
    "  </tr>\r\n",
    "  <tr>\r\n",
    "    <td>9</td>\r\n",
    "    <td>2</td>\r\n",
    "    <td>44</td>\r\n",
    "    <td>4</td>\r\n",
    "    <td>76</td>\r\n",
    "    <td>4</td>\r\n",
    "  </tr>\r\n",
    "  <tr>\r\n",
    "    <td>10</td>\r\n",
    "    <td>2</td>\r\n",
    "    <td>45</td>\r\n",
    "    <td>2</td>\r\n",
    "    <td>77</td>\r\n",
    "    <td>1</td>\r\n",
    "  </tr>\r\n",
    "  <tr>\r\n",
    "    <td>12</td>\r\n",
    "    <td>5</td>\r\n",
    "    <td>46</td>\r\n",
    "    <td>2</td>\r\n",
    "    <td>78</td>\r\n",
    "    <td>6</td>\r\n",
    "  </tr>\r\n",
    "  <tr>\r\n",
    "    <td>14</td>\r\n",
    "    <td>2</td>\r\n",
    "    <td>48</td>\r\n",
    "    <td>52</td>\r\n",
    "    <td>80</td>\r\n",
    "    <td>52</td>\r\n",
    "  </tr>\r\n",
    "  <tr>\r\n",
    "    <td>15</td>\r\n",
    "    <td>1</td>\r\n",
    "    <td>49</td>\r\n",
    "    <td>2</td>\r\n",
    "    <td>81</td>\r\n",
    "    <td>15</td>\r\n",
    "  </tr>\r\n",
    "  <tr>\r\n",
    "    <td>16</td>\r\n",
    "    <td>14</td>\r\n",
    "    <td>50</td>\r\n",
    "    <td>5</td>\r\n",
    "    <td>82</td>\r\n",
    "    <td>2</td>\r\n",
    "  </tr>\r\n",
    "  <tr>\r\n",
    "    <td>18</td>\r\n",
    "    <td>5</td>\r\n",
    "    <td>51</td>\r\n",
    "    <td>1</td>\r\n",
    "    <td>84</td>\r\n",
    "    <td>15</td>\r\n",
    "  </tr>\r\n",
    "  <tr>\r\n",
    "    <td>20</td>\r\n",
    "    <td>5</td>\r\n",
    "    <td>52</td>\r\n",
    "    <td>5</td>\r\n",
    "    <td>85</td>\r\n",
    "    <td>1</td>\r\n",
    "  </tr>\r\n",
    "  <tr>\r\n",
    "    <td>21</td>\r\n",
    "    <td>2</td>\r\n",
    "    <td>54</td>\r\n",
    "    <td>15</td>\r\n",
    "    <td>86</td>\r\n",
    "    <td>2</td>\r\n",
    "  </tr>\r\n",
    "  <tr>\r\n",
    "    <td>22</td>\r\n",
    "    <td>2</td>\r\n",
    "    <td>55</td>\r\n",
    "    <td>2</td>\r\n",
    "    <td>87</td>\r\n",
    "    <td>1</td>\r\n",
    "  </tr>\r\n",
    "  <tr>\r\n",
    "    <td>24</td>\r\n",
    "    <td>15</td>\r\n",
    "    <td>56</td>\r\n",
    "    <td>13</td>\r\n",
    "    <td>88</td>\r\n",
    "    <td>12</td>\r\n",
    "  </tr>\r\n",
    "  <tr>\r\n",
    "    <td>25</td>\r\n",
    "    <td>2</td>\r\n",
    "    <td>57</td>\r\n",
    "    <td>2</td>\r\n",
    "    <td>90</td>\r\n",
    "    <td>10</td>\r\n",
    "  </tr>\r\n",
    "  <tr>\r\n",
    "    <td>26</td>\r\n",
    "    <td>2</td>\r\n",
    "    <td>58</td>\r\n",
    "    <td>2</td>\r\n",
    "    <td>91</td>\r\n",
    "    <td>1</td>\r\n",
    "  </tr>\r\n",
    "  <tr>\r\n",
    "    <td>27</td>\r\n",
    "    <td>5</td>\r\n",
    "    <td>60</td>\r\n",
    "    <td>13</td>\r\n",
    "    <td>92</td>\r\n",
    "    <td>4</td>\r\n",
    "  </tr>\r\n",
    "  <tr>\r\n",
    "    <td>28</td>\r\n",
    "    <td>4</td>\r\n",
    "    <td>62</td>\r\n",
    "    <td>2</td>\r\n",
    "    <td>93</td>\r\n",
    "    <td>2</td>\r\n",
    "  </tr>\r\n",
    "  <tr>\r\n",
    "    <td>30</td>\r\n",
    "    <td>4</td>\r\n",
    "    <td>63</td>\r\n",
    "    <td>4</td>\r\n",
    "    <td>94</td>\r\n",
    "    <td>2</td>\r\n",
    "  </tr>\r\n",
    "  <tr>\r\n",
    "    <td>32</td>\r\n",
    "    <td>51</td>\r\n",
    "    <td>64</td>\r\n",
    "    <td>267</td>\r\n",
    "    <td>95</td>\r\n",
    "    <td>1</td>\r\n",
    "  </tr>\r\n",
    "  <tr>\r\n",
    "    <td>33</td>\r\n",
    "    <td>1</td>\r\n",
    "    <td>65</td>\r\n",
    "    <td>1</td>\r\n",
    "    <td>96</td>\r\n",
    "    <td>230</td>\r\n",
    "  </tr>\r\n",
    "  <tr>\r\n",
    "    <td>34</td>\r\n",
    "    <td>2</td>\r\n",
    "    <td>66</td>\r\n",
    "    <td>4</td>\r\n",
    "    <td>98</td>\r\n",
    "    <td>5</td>\r\n",
    "  </tr>\r\n",
    "  <tr>\r\n",
    "    <td>35</td>\r\n",
    "    <td>1</td>\r\n",
    "    <td>68</td>\r\n",
    "    <td>5</td>\r\n",
    "    <td>99</td>\r\n",
    "    <td>2</td>\r\n",
    "  </tr>\r\n",
    "  <tr>\r\n",
    "    <td>36</td>\r\n",
    "    <td>14</td>\r\n",
    "    <td>69</td>\r\n",
    "    <td>1</td>\r\n",
    "    <td>100</td>\r\n",
    "    <td>16</td>\r\n",
    "  </tr>\r\n",
    "  <tr>\r\n",
    "    <td>38</td>\r\n",
    "    <td>2</td>\r\n",
    "    <td>70</td>\r\n",
    "    <td>4</td>\r\n",
    "    <td>102</td>\r\n",
    "    <td>4</td>\r\n",
    "  </tr>\r\n",
    "</table>\r\n",
    "\r\n",
    "<a name=\"sec42\" id=\"sec42\"></a>\r\n",
    "<h1>Homomorphisms</h1>\r\n",
    "\r\n",
    "<br>\r\n",
    "In the last section we considered the possibility of functions which were defined on elements of a group, rather than on a set of numbers. With such functions, we could \r\n",
    "show that two groups were essentially the same. That is, when <em>&fnof;</em>(<em>x</em>) is a one-to-one and onto function from <em>G</em> to <em>M</em>, and if\r\n",
    "<p style='text-align: center;'><em>&fnof;</em>(<em>x</em>&middot;<em>y</em>) = <em>&fnof;</em>(<em>x</em>)&middot;<em>&fnof;</em>(<em>y</em>)</p>\r\n",
    "for all <em>x</em> and <em>y</em> in <em>G</em>, then the two groups <em>G</em> and <em>M</em> were essentially the same, or <em>isomorphic</em>. <br><br>\r\n",
    "\r\n",
    "In this section we want to consider functions between two groups that are not necessarily one-to-one or onto. However, we still want to have the property that \r\n",
    "<p style='text-align: center;'><em>&fnof;</em>(<em>x</em>&middot;<em>y</em>) = <em>&fnof;</em>(<em>x</em>)&middot;<em>&fnof;</em>(<em>y</em>)</p>\r\n",
    "for all <em>x</em> and <em>y</em> in <em>G</em>. Such functions are fundamental to the theory of groups, so we will give such functions a name. <br><br>\r\n",
    "\r\n",
    "DEFINITION 4.2<br>\r\n",
    "Let <em>G</em> and <em>M</em> be two groups. A function \r\n",
    "<p style='text-align: center;'><em>&fnof;</em>: <em>G</em> &rarr; <em>M</em></p>\r\n",
    "mapping elements of <em>G</em> to elements of <em>M</em> is called a <em>homomorphism</em> if it satisfies\r\n",
    "<p style='text-align: center;'><em>&fnof;</em>(<em>x</em>&middot;<em>y</em>) = <em>&fnof;</em>(<em>x</em>)&middot;<em>&fnof;</em>(<em>y</em>) \r\n",
    "for all <em>x</em>, <em>y</em> &isin; <em>G</em>.</p>\r\n",
    "\r\n",
    "<br>\r\n",
    "The group <em>G</em> is called the <em>domain</em> of the homomorphism, and the group <em>M</em> is called the <em>target</em> of the homomorphism. \r\n",
    "Note that a homomorphism need not be either one-to-one or onto.<br><br>\r\n",
    " \r\n",
    "Of course, all isomorphisms are also homomorphisms. But we can have many other  homomorphisms, as the following examples show. <br><br>\r\n",
    " \r\n",
    "EXAMPLE: <br>\r\n",
    "Let <em>G</em> be any group, and let <em>M</em> be a group with identity <em>e</em>.  If we let\r\n",
    "<p style='text-align: center;'><em>&fnof;</em>(<em>x</em>) = <em>e</em> for all <em>x</em> &isin; <em>G</em>,</p>\r\n",
    "then <em>&fnof;</em> will obviously be a homomorphism, since \r\n",
    "<p style='text-align: center;'><em>&fnof;</em>(<em>x</em>&middot;<em>y</em>) = <em>e</em> = <em>e</em>&middot;<em>e</em> = <em>&fnof;</em>(<em>x</em>)&middot;<em>&fnof;</em>(<em>y</em>).</p>\r\n",
    "This is called the <em>trivial homomorphism</em>.<br><br>\r\n",
    "\r\n",
    "EXAMPLE:<br>\r\n",
    "Let &#8477;<sup>*</sup> = &#8477; &minus; {0} be the group of nonzero real numbers, and let <em>&fnof;</em>(<em>x</em>) = <em>x</em><sup>2</sup>. This forms a \r\n",
    "homomorphism\r\n",
    "<p style='text-align: center;'><em>&fnof;</em>: &#8477;<sup>*</sup> &rarr; &#8477;<sup>*</sup>,</p>\r\n",
    "so this gives an example of a homomorphism which maps a group onto itself. Note that this homomorphism is neither one-to-one nor onto since \r\n",
    "<nobr><em>&fnof;</em>(&minus;2) = <em>&fnof;</em>(2) = 4,</nobr> yet there is no real number such that <em>&fnof;</em>(<em>x</em>) = &minus;1.<br><br>\r\n",
    "\r\n",
    "EXAMPLE:<br>\r\n",
    "We can generalize the previous example as follows: Let <em>G</em> be any commutative group, and let <em>n</em> be any integer. We can define \r\n",
    "<em>&fnof;</em>(<em>x</em>) = <em>x<sup>n</sup></em>. Then <em>&fnof;</em>(<em>x</em>) is a homomorphism from <em>G</em> to itself, since\r\n",
    "<p style='text-align: center;'><em>&fnof;</em>(<em>x</em>&middot;<em>y</em>) = (<em>x</em>&middot;<em>y</em>)<sup><em>n</em></sup> = \r\n",
    "<em>x<sup>n</sup></em>&middot;<em>y<sup>n</sup></em> = <em>&fnof;</em>(<em>x</em>)&middot;<em>&fnof;</em>(<em>y</em>).</p>\r\n",
    "We can prove a few properties that must be true of all homomorphisms.\r\n",
    "\r\n",
    "<p />\r\n",
    "<a name=\"prop43ret\" id=\"prop43ret\"></a>\r\n",
    "PROPOSITION 4.3<br>\r\n",
    "Let <em>&fnof;</em>: <em>G</em> &rarr; <em>M</em> be a homomorphism. Let <em>e</em> denote the identity of <em>G</em>.  Then <em>&fnof;</em>(<em>e</em>) is the \r\n",
    "identity element of <em>M</em>.<br><br>\r\n",
    "\r\n",
    "<a href=\"#prop43\">Click here for the proof.</a>\r\n",
    "\r\n",
    "<p />\r\n",
    "<a name=\"prop44ret\" id=\"prop44ret\"></a>\r\n",
    "PROPOSITION 4.4<br>\r\n",
    "If <em>&fnof;</em>: <em>G</em> &rarr; <em>M</em> is a homomorphism, then <em>&fnof;</em>(<em>a</em><sup>-1</sup>) = [<em>&fnof;</em>(<em>a</em>)]<sup>-1</sup>.<br><br>\r\n",
    "\r\n",
    "<a href=\"#prop44\">Click here for the proof.</a>\r\n",
    "\r\n",
    "<p />\r\n",
    "\r\n",
    "EXAMPLE:<br>\r\n",
    "Find a homomorphism from <em>Z</em><sub>15</sub><sup>*</sup> to <em>Z</em><sub>4</sub> such that <em>f</em>(2) = <em>f</em>(7) = 1.<br><br>\r\n",
    "\r\n",
    "We know from Proposition 4.3 that the identity must map to the identity, so <em>f</em>(1) = 0.  Also, <em>f</em>(4) = <em>f</em>(2)<sup>2</sup> = 1<sup>2</sup> = 2.  \r\n",
    "(Recall the operation \r\n",
    "of <em>Z</em><sub>4</sub> is <em>addition</em> <strong>mod</strong> 4.)  Likewise, <em>f</em>(8) = <em>f</em>(2)<sup>3</sup> = 3, <em>f</em>(13) = <em>f</em>(7)<sup>3</sup> = 3, \r\n",
    "<em>f</em>(14) = <em>f</em>(7)&middot;<em>f</em>(2) = 2, \r\n",
    "and <em>f</em>(11) = <em>f</em>(13)&middot;<em>f</em>(2) = 0.<br><br>\r\n",
    "\r\n",
    "Let us now look at how to define homomorphisms using <em>Sage</em>. To begin we need to define two groups simultaneously. This can be done in <em>Sage</em> by using \r\n",
    "different sets of letters for the generators.<br><br>\r\n",
    "\r\n",
    "EXAMPLE:<br>\r\n",
    "Let us create a homomorphism from the octahedral group to the quaternion group.<br><br>\r\n",
    "\r\n",
    "We first load the octahedral group with the following command:<br>"
   ]
  },
  {
   "cell_type": "code",
   "execution_count": 0,
   "metadata": {
    "collapsed": false
   },
   "outputs": [
   ],
   "source": [
    "InitGroup(\"e\");\r\n",
    "AddGroupVar(\"a\",\"b\",\"c\");\r\n",
    "Define(a^2, e);\r\n",
    "Define(b^3, e);\r\n",
    "Define(c^4, e);\r\n",
    "Define(b*a, a*b^2);\r\n",
    "Define(c*a, a*b*c);\r\n",
    "Define(c*b, a*c^2);\r\n",
    "Oct = ListGroup(); Oct"
   ]
  },
  {
   "cell_type": "markdown",
   "metadata": {
    "collapsed": false
   },
   "source": [
    "<br>\r\n",
    "Next let us define the quaternion group <em>Q</em> which we discovered in the last section. We will use a shortcut to define this group in terms of <em>i</em>, \r\n",
    "<em>j</em>, and <em>k</em>.<br>"
   ]
  },
  {
   "cell_type": "code",
   "execution_count": 0,
   "metadata": {
    "collapsed": false
   },
   "outputs": [
   ],
   "source": [
    "Q = InitQuaternions(); Q"
   ]
  },
  {
   "cell_type": "markdown",
   "metadata": {
    "collapsed": false
   },
   "source": [
    "<br>\r\n",
    "We now have both groups defined simultaneously, one group using the generators <em>a</em>, <em>b</em>, and <em>c</em>, and the other using <em>i</em> and <em>j</em> and \r\n",
    "<em>k</em>. Note that expressions such as<br>"
   ]
  },
  {
   "cell_type": "code",
   "execution_count": 0,
   "metadata": {
    "collapsed": false
   },
   "outputs": [
   ],
   "source": [
    "c*i"
   ]
  },
  {
   "cell_type": "markdown",
   "metadata": {
    "collapsed": false
   },
   "source": [
    "<br>\r\n",
    "produce an error message, since we cannot multiply elements from two different groups.<br><br>\r\n",
    "\r\n",
    "We now wish to define a homomorphism from <em>Q</em> to <strong>Oct</strong>. We need only define the homomorphism on the <em>generators</em> of <em>Q</em>, since \r\n",
    "<em>Sage</em> would then be able to use the properties of the homomorphism to determine where the other elements map to.  Suppose we have the homomorphism given by \r\n",
    "the following mapping:\r\n",
    "<br><br>\r\n",
    "<table align = \"center\" border=\"0\">\r\n",
    "  <tr>\r\n",
    "    <td align=\"right\">1</td>\r\n",
    "    <td>&rarr;</td>\r\n",
    "    <td><em>e</em>,</td>\r\n",
    "  </tr>\r\n",
    "  <tr>\r\n",
    "    <td align=\"right\"><em>i</em></td>\r\n",
    "    <td>&rarr;</td>\r\n",
    "    <td><em>c</em><sup>2</sup>,</td>\r\n",
    "  </tr>\r\n",
    "    <tr>\r\n",
    "    <td align=\"right\">&minus;1</td>\r\n",
    "    <td>&rarr;</td>\r\n",
    "    <td><em>e</em>,</td>\r\n",
    "  </tr>\r\n",
    "  <tr>\r\n",
    "    <td align=\"right\">&minus;<em>i</em></td>\r\n",
    "    <td>&rarr;</td>\r\n",
    "    <td><em>c</em><sup>2</sup>,</td>\r\n",
    "  </tr>\r\n",
    "  <tr>\r\n",
    "    <td align=\"right\"><em>j</em></td>\r\n",
    "    <td>&rarr;</td>\r\n",
    "    <td><em>a</em>&middot;<em>b</em><sup>2</sup>&middot;<em>c</em>,</td>\r\n",
    "  </tr>\r\n",
    "  <tr>\r\n",
    "    <td align=\"right\"><em>k</em></td>\r\n",
    "    <td>&rarr;</td>\r\n",
    "    <td><em>a</em>&middot;<em>b</em><sup>2</sup>&middot;<em>c</em><sup>3</sup>,</td>\r\n",
    "  </tr>\r\n",
    "    <tr>\r\n",
    "    <td align=\"right\">&minus;<em>j</em></td>\r\n",
    "    <td>&rarr;</td>\r\n",
    "    <td><em>a</em>&middot;<em>b</em><sup>2</sup>&middot;<em>c</em>,</td>\r\n",
    "  </tr>\r\n",
    "  <tr>\r\n",
    "    <td align=\"right\">&minus;<em>k</em></td>\r\n",
    "    <td>&rarr;</td>\r\n",
    "    <td><em>a</em>&middot;<em>b</em><sup>2</sup>&middot;<em>c</em><sup>3</sup>.</td>\r\n",
    "  </tr>\r\n",
    "</table>\r\n",
    "<br>\r\n",
    "We have only to define <strong>F[i]</strong> and <strong>F[j]</strong> to define the homomorphism.<br>\r\n",
    "\r\n",
    "<br>\r\n",
    "The <em>Sage</em> command for setting up a homomorphism named F is:<br>"
   ]
  },
  {
   "cell_type": "code",
   "execution_count": 0,
   "metadata": {
    "collapsed": false
   },
   "outputs": [
   ],
   "source": [
    "F = Homomorph(Q, Oct)"
   ]
  },
  {
   "cell_type": "markdown",
   "metadata": {
    "collapsed": false
   },
   "source": [
    "<br>\r\n",
    "Note that both the domain and the target groups are included in the definition.  \r\n",
    "Next, we define the homomorphism on a set of elemtents that generate the domain group.  In this case, <em>Q</em> is generarated by the elements <em>i</em> and <em>j</em>, so\r\n",
    "we define these using the following format.<br>"
   ]
  },
  {
   "cell_type": "code",
   "execution_count": 0,
   "metadata": {
    "collapsed": false
   },
   "outputs": [
   ],
   "source": [
    "HomoDef(F, i, c^2)\r\n",
    "HomoDef(F, j, a*b^2*c)"
   ]
  },
  {
   "cell_type": "markdown",
   "metadata": {
    "collapsed": false
   },
   "source": [
    "<br>\r\n",
    "The final step is to verify that this can be completed to form a homomorphism.  The command<br>"
   ]
  },
  {
   "cell_type": "code",
   "execution_count": 0,
   "metadata": {
    "collapsed": false
   },
   "outputs": [
   ],
   "source": [
    "FinishHomo(F)"
   ]
  },
  {
   "cell_type": "markdown",
   "metadata": {
    "collapsed": false
   },
   "source": [
    "<br>\r\n",
    "will define the function <strong>F</strong> for the whole group <em>Q</em>.  (Had the mapping failed to be a homomorphism, <em>Sage</em> would have \r\n",
    "returned &quot;Homomorphism failed&quot;.)\r\n",
    "\r\n",
    "We can see where an element of <em>Q</em> is mapped to by treating <strong>F</strong> as a function.<br>"
   ]
  },
  {
   "cell_type": "code",
   "execution_count": 0,
   "metadata": {
    "collapsed": false
   },
   "outputs": [
   ],
   "source": [
    "F(i^3*j)"
   ]
  },
  {
   "cell_type": "markdown",
   "metadata": {
    "collapsed": false
   },
   "source": [
    "<br>\r\n",
    "gives <em>a</em>&middot;<em>b</em><sup>2</sup>&middot;<em>c</em><sup>3</sup> as expected.<br><br>\r\n",
    " \r\n",
    "To have <em>Sage</em> draw a picture of this homomorphism, we can execute the command<br>"
   ]
  },
  {
   "cell_type": "code",
   "execution_count": 0,
   "metadata": {
    "collapsed": false
   },
   "outputs": [
   ],
   "source": [
    "GraphHomo(F)"
   ]
  },
  {
   "cell_type": "markdown",
   "metadata": {
    "collapsed": false
   },
   "source": [
    "<br>\r\n",
    "Notice that only four of the elements of the octahedronal group are displayed: those four elements relevant to the homomorphism. <br><br>\r\n",
    "\r\n",
    "EXPERIMENT:<br>\r\n",
    "See if you can define a homomorphism <strong>G</strong> from the octahedronal group <strong>Oct</strong> to <strong>Q</strong>, for which\r\n",
    "<br><br>\r\n",
    "<table align = \"center\" border=\"0\">\r\n",
    "  <tr>\r\n",
    "    <td align=\"right\"><em>G</em>(<em>a</em>)</td>\r\n",
    "    <td>=</td>\r\n",
    "    <td>&minus;1,</td>\r\n",
    "  </tr>\r\n",
    "  <tr>\r\n",
    "    <td align=\"right\"><em>G</em>(<em>b</em>)</td>\r\n",
    "    <td>=</td>\r\n",
    "    <td>&ensp;1,</td>\r\n",
    "  </tr>\r\n",
    "    <tr>\r\n",
    "    <td align=\"right\"><em>G</em>(<em>c</em>)</td>\r\n",
    "    <td>=</td>\r\n",
    "    <td>&minus;1.</td>\r\n",
    "  </tr>\r\n",
    "</table>\r\n",
    "<br>\r\n",
    "Use <em>Sage</em> to enter in this mapping, and verify that this produces a homomorphism. Then use the GraphHomo command to see a picture of this homomorphism.<br>"
   ]
  },
  {
   "cell_type": "markdown",
   "metadata": {
    "collapsed": false
   },
   "source": [
    "<br>\r\n",
    "It is even possible to define a homomorphism using a quotient group for either the domain or the target group. \r\n",
    "For example, suppose we define <strong>K</strong> to be the normal subgroup {1, -1} of <em>Q</em>:<br>"
   ]
  },
  {
   "cell_type": "code",
   "execution_count": 0,
   "metadata": {
    "collapsed": false
   },
   "outputs": [
   ],
   "source": [
    "K = [1, -1]"
   ]
  },
  {
   "cell_type": "markdown",
   "metadata": {
    "collapsed": false
   },
   "source": [
    "<br>\r\n",
    "The quotient group <em>Q</em><em>/</em><em>K</em> is given by<br>"
   ]
  },
  {
   "cell_type": "code",
   "execution_count": 0,
   "metadata": {
    "collapsed": false
   },
   "outputs": [
   ],
   "source": [
    "M = RtCoset(Q,K); M"
   ]
  },
  {
   "cell_type": "markdown",
   "metadata": {
    "collapsed": false
   },
   "source": [
    "<br>\r\n",
    "Let us define the following homomorphism from <em>Q</em>/<em>K</em> to <strong>Oct</strong> in <em>Sage</em>.\r\n",
    "<br><br>\r\n",
    "<table align = \"center\" border=\"0\">\r\n",
    "  <tr>\r\n",
    "    <td align=\"right\">{&minus;1, 1}</td>\r\n",
    "    <td>&rarr;</td>\r\n",
    "    <td><em>e</em>,</td>\r\n",
    "  </tr>\r\n",
    "  <tr>\r\n",
    "    <td align=\"right\">{&minus;<em>i</em>, <em>i</em>}</td>\r\n",
    "    <td>&rarr;</td>\r\n",
    "    <td><em>c</em><sup>2</sup>,</td>\r\n",
    "  </tr>\r\n",
    "  <tr>\r\n",
    "    <td align=\"right\">{&minus;<em>j</em>, <em>j</em>}</td>\r\n",
    "    <td>&rarr;</td>\r\n",
    "    <td><em>a</em>&middot;<em>b</em><sup>2</sup>&middot;<em>c</em>,</td>\r\n",
    "  </tr>\r\n",
    "  <tr>\r\n",
    "    <td align=\"right\">{&minus;<em>k</em>, <em>k</em>}</td>\r\n",
    "    <td>&rarr;</td>\r\n",
    "    <td><em>a</em>&middot;<em>b</em><sup>2</sup>&middot;<em>c</em><sup>3</sup>.</td>\r\n",
    "  </tr>\r\n",
    "</table>\r\n",
    "<br>\r\n",
    "The quotient group is non-cyclic, so we need two elements to describe the homomorphism.  We will use the second and the third.<br>"
   ]
  },
  {
   "cell_type": "code",
   "execution_count": 0,
   "metadata": {
    "collapsed": false
   },
   "outputs": [
   ],
   "source": [
    "H = Homomorph(M, Oct)"
   ]
  },
  {
   "cell_type": "code",
   "execution_count": 0,
   "metadata": {
    "collapsed": false
   },
   "outputs": [
   ],
   "source": [
    "HomoDef(H, [-i, i], c^2)\r\n",
    "HomoDef(H, [-j, j], a*b^2*c)"
   ]
  },
  {
   "cell_type": "markdown",
   "metadata": {
    "collapsed": false
   },
   "source": [
    "<br>\r\n",
    "Notice that we had to express the elements of the quotient group exactly as they appear in <strong>M</strong>.  Thus, we could not use [i, -i], since this is not the \r\n",
    "order shown in <strong>M</strong>.<br>"
   ]
  },
  {
   "cell_type": "code",
   "execution_count": 0,
   "metadata": {
    "collapsed": false
   },
   "outputs": [
   ],
   "source": [
    "FinishHomo(H)"
   ]
  },
  {
   "cell_type": "code",
   "execution_count": 0,
   "metadata": {
    "collapsed": false
   },
   "outputs": [
   ],
   "source": [
    "GraphHomo(H)"
   ]
  },
  {
   "cell_type": "markdown",
   "metadata": {
    "collapsed": false
   },
   "source": [
    "<br>\r\n",
    "EXPERIMENT:<br><br>\r\n",
    "How is the homomorphism <strong>H</strong> related to the homomorphism <strong>F</strong>?<br>"
   ]
  },
  {
   "cell_type": "markdown",
   "metadata": {
    "collapsed": false
   },
   "source": [
    "<br>\r\n",
    "We can not only apply a homomorphism <em>&fnof;</em> to an element in a group, but also to a <em>set</em> of elements. We do this by applying the homomorphism to each \r\n",
    "element in the set and consider the set of all possible results. For example, consider the set of real numbers <em>S</em> = \r\n",
    "{&minus;2, &minus;1, 1, 2, 3, 4}. \r\n",
    "Let <em>&fnof;</em>(<em>x</em>) be the homomorphism in example 2 above, <em>&fnof;</em>(<em>x</em>) = <em>x</em><sup>2</sup>.  Then\r\n",
    "<p style='text-align: center;'><em>&fnof;</em>(<em>S</em>) = {1,4,9,16}.</p>\r\n",
    "The set <em>&fnof;</em>(<em>S</em>) is smaller than the set <em>S</em>, since the homomorphism mapped two elements to both 1 and 4.<br> \r\n",
    "\r\n",
    "<br>\r\n",
    "To apply the homomorphism to a set of elements in <em>Sage</em>, we can use the <strong>Image</strong> command using a list for the second argument.<br>"
   ]
  },
  {
   "cell_type": "code",
   "execution_count": 0,
   "metadata": {
    "collapsed": false
   },
   "outputs": [
   ],
   "source": [
    "Image(F, [i, k, -i, -k])"
   ]
  },
  {
   "cell_type": "markdown",
   "metadata": {
    "collapsed": false
   },
   "source": [
    "<br>\r\n",
    "What happens if we take a homomorphism of a sub<em>group</em>?<br>"
   ]
  },
  {
   "cell_type": "code",
   "execution_count": 0,
   "metadata": {
    "collapsed": false
   },
   "outputs": [
   ],
   "source": [
    "Image(F, [1, i, -1, -i])"
   ]
  },
  {
   "cell_type": "markdown",
   "metadata": {
    "collapsed": false
   },
   "source": [
    "<br>\r\n",
    "This turns out to be a subgroup of <strong>Oct</strong>. It is not hard to prove that this will be the case in general.\r\n",
    "\r\n",
    "<p />\r\n",
    "<a name=\"prop45ret\" id=\"prop45ret\"></a>\r\n",
    "PROPOSITION 4.5<br>\r\n",
    "If <em>&fnof;</em>: <em>G</em> &rarr; <em>M</em> is a homomorphism and <em>H</em> is a subgroup of <em>G</em>, then <em>&fnof;</em>(<em>H</em>) is a subgroup of \r\n",
    "<em>M</em>.<br><br>\r\n",
    "\r\n",
    "<a href=\"#prop45\">Click here for the proof.</a>\r\n",
    "\r\n",
    "<p />\r\n",
    "One obvious subgroup that we could choose would be the entire domain. For example, we could find <em>F</em>(<em>Q</em>) with the command<br>"
   ]
  },
  {
   "cell_type": "code",
   "execution_count": 0,
   "metadata": {
    "collapsed": false
   },
   "outputs": [
   ],
   "source": [
    "Image(F, Q)"
   ]
  },
  {
   "cell_type": "markdown",
   "metadata": {
    "collapsed": false
   },
   "source": [
    "<br>\r\n",
    "This gives a list all possible elements that are produced by the function <em>F</em>. <br><br>\r\n",
    "\r\n",
    "DEFINITION 4.3<br>\r\n",
    "If <em>&fnof;</em>: <em>G</em> &rarr; <em>M</em> is a homomorphism, then the group <em>&fnof;</em>(<em>G</em>) is called the <em>range</em>, or <em>image</em> of \r\n",
    "the homomorphism <em>&fnof;</em>.  We denote this set by \r\n",
    "<p style='text-align: center;'>Im(<em>&fnof;</em>).</p>\r\n",
    "Since the domain will be a group, by Proposition 4.5 the image will always be a subgroup of the target group. <br><br>\r\n",
    " \r\n",
    "We can also consider taking the inverse homomorphism <em>&fnof;</em><sup>&minus;1</sup> of an element or a set of elements. Because homomorphisms are not always one-to-one, \r\n",
    "<em>&fnof;</em><sup>&minus;1</sup>(<em>x</em>) may not represent a single element. Thus, we will define <em>&fnof;</em><sup>&minus;1</sup>(<em>x</em>) to be the \r\n",
    "<em>set</em> of numbers such that <em>&fnof;</em>(<em>y</em>) = <em>x</em>. Likewise, we define for a subset <em>S</em>,\r\n",
    "<p style='text-align: center;'><em>&fnof;</em><sup>&minus;1</sup>(<em>S</em>) = { <em>y</em> | <em>&fnof;</em>(<em>y</em>) &isin; <em>S</em>}.</p>\r\n",
    "We can take the inverse homomorphism in <em>Sage</em> with the command <strong>HomoInv(</strong><em>&fnof;</em>, <em>x</em><strong>)</strong> where <em>x</em> is the element or set to take the inverse function. Thus, <br>"
   ]
  },
  {
   "cell_type": "code",
   "execution_count": 0,
   "metadata": {
    "collapsed": false
   },
   "outputs": [
   ],
   "source": [
    "HomoInv(F, c^2)"
   ]
  },
  {
   "cell_type": "markdown",
   "metadata": {
    "collapsed": false
   },
   "source": [
    "<br>\r\n",
    "finds <em>F</em><sup>&minus;1</sup>(<em>c</em><sup>2</sup>).  We can find the inverse of a set as well.<br>"
   ]
  },
  {
   "cell_type": "code",
   "execution_count": 0,
   "metadata": {
    "collapsed": false
   },
   "outputs": [
   ],
   "source": [
    "HomoInv(F,[a, b, a*b^2*c])"
   ]
  },
  {
   "cell_type": "markdown",
   "metadata": {
    "collapsed": false
   },
   "source": [
    "<br>\r\n",
    "Note that the definition is valid even if not all of the elements in the set are in the image of <em>&fnof;</em>. <br><br>\r\n",
    "There is one inverse image that is very important:<br>"
   ]
  },
  {
   "cell_type": "code",
   "execution_count": 0,
   "metadata": {
    "collapsed": false
   },
   "outputs": [
   ],
   "source": [
    "HomoInv(F, e)"
   ]
  },
  {
   "cell_type": "markdown",
   "metadata": {
    "collapsed": false
   },
   "source": [
    "<br><br>\r\n",
    "DEFINITION 4.4<br>\r\n",
    "If <em>&fnof;</em> is a homomorphism from <em>G</em> to <em>M</em> and <em>e</em> is the identity element of <em>M</em>, then we define the \r\n",
    "<em>kernel</em> of <em>&fnof;</em> to be the set \r\n",
    "<p style='text-align: center;'>Ker(<em>&fnof;</em>) = <em>&fnof;</em><sup>&minus;1</sup>(<em>e</em>).</p>\r\n",
    "Although this definition seems like corny terminology, it in fact is very descriptive term, for the kernel of the homomorphism in essence defines the entire function. \r\n",
    "The <em>Sage</em> command<br>"
   ]
  },
  {
   "cell_type": "code",
   "execution_count": 0,
   "metadata": {
    "collapsed": false
   },
   "outputs": [
   ],
   "source": [
    "Kernel(F)"
   ]
  },
  {
   "cell_type": "markdown",
   "metadata": {
    "collapsed": false
   },
   "source": [
    "<br>\r\n",
    "can be used to find the kernel of a homomorphism directly.<br><br>\r\n",
    " \r\n",
    "EXPERIMENT:<br>\r\n",
    "Find the image and the kernel of the homomorphisms <strong>G</strong> and <strong>H</strong> which were previously defined. \r\n",
    "Recall that the domain of <strong>G</strong> is <strong>Oct</strong>, while the domain of <strong>H</strong> is <strong>M</strong>. \r\n",
    "What do you observe about the kernel of these homomorphisms?<br>"
   ]
  },
  {
   "cell_type": "markdown",
   "metadata": {
    "collapsed": false
   },
   "source": [
    "<br>\r\n",
    "Let us observe one important property of the kernel.\r\n",
    " \r\n",
    "<p />\r\n",
    "<a name=\"prop46ret\" id=\"prop46ret\"></a>\r\n",
    "PROPOSITION 4.6<br>\r\n",
    "\r\n",
    "If <em>&fnof;</em> is a homomorphism from <em>G</em> to <em>M</em>, then the kernel of <em>&fnof;</em> is a normal subgroup of the domain <em>G</em>.<br><br>\r\n",
    "\r\n",
    "<a href=\"#prop46\">Click here for the proof.</a>\r\n",
    "\r\n",
    "<p />\r\n",
    "EXPERIMENT:<br><br>\r\n",
    " \r\n",
    "Find the inverse image of <em>F</em> for different elements of the octahedral group. For example, one inverse image is<br>"
   ]
  },
  {
   "cell_type": "code",
   "execution_count": 0,
   "metadata": {
    "collapsed": false
   },
   "outputs": [
   ],
   "source": [
    "HomoInv(F, c^2)"
   ]
  },
  {
   "cell_type": "markdown",
   "metadata": {
    "collapsed": false
   },
   "source": [
    "<br>\r\n",
    "Is there a pattern in the inverse images?<br>"
   ]
  },
  {
   "cell_type": "markdown",
   "metadata": {
    "collapsed": false
   },
   "source": [
    "<p />\r\n",
    "<a name=\"prop47ret\" id=\"prop47ret\"></a>\r\n",
    "PROPOSITION 4.7<br>\r\n",
    "Let <em>&fnof;</em> be a homomorphism from the group <em>G</em> to the group <em>M</em>.  Suppose that <em>y</em> is in the image of <em>&fnof;</em>, and that \r\n",
    "<em>&fnof;</em>(<em>x</em>) = <em>y</em>.  Then\r\n",
    "<p style='text-align: center;'><em>&fnof;</em><sup>&minus;1</sup>(<em>y</em>) = <em>x</em>&middot;Ker(<em>&fnof;</em>).</p>\r\n",
    "\r\n",
    "<a href=\"#prop47\">Click here for the proof.</a>\r\n",
    "<p />\r\n",
    "\r\n",
    "We now have a quick way to determine if a homomorphism is an isomorphism.\r\n",
    "<p />\r\n",
    "<a name=\"cor41ret\" id=\"cor41ret\"></a>\r\n",
    "COROLLARY 4.1<br>\r\n",
    "Let <em>&fnof;</em>: <em>G</em> &rarr; <em>M</em> be a homomorphism. Then <em>&fnof;</em> is an injection (one-to-one) if, and only if, the kernel of <em>&fnof;</em> is \r\n",
    "the identity element of <em>G</em>.<br><br>\r\n",
    "\r\n",
    "<a href=\"#cor41\">Click here for the proof.</a>\r\n",
    "\r\n",
    "<p />\r\n",
    "We now can begin to see the importance of the kernel of the homomorphism. If the homomorphism is an isomorphism then the kernel is just the identity. \r\n",
    "The larger the kernel of the homomorphism, the further it is from being an isomorphism. For example, the homomorphism <strong>H</strong> is in fact an \r\n",
    "isomorphism, since<br>"
   ]
  },
  {
   "cell_type": "code",
   "execution_count": 0,
   "metadata": {
    "collapsed": false
   },
   "outputs": [
   ],
   "source": [
    "Kernel(H)"
   ]
  },
  {
   "cell_type": "markdown",
   "metadata": {
    "collapsed": false
   },
   "source": [
    "<br>\r\n",
    "yields just the identity element.  (Note the double curly braces.  The kernel is a single element, which is the identity coset of <em>M</em>.)  On the other hand, the \r\n",
    "kernel of the homomorphism <strong>G</strong> done in the experiment is large, so this is not an isomorphism.<br><br>\r\n",
    "\r\n",
    "We noticed that whenever we have a homomorphism <em>&fnof;</em>: <em>G</em> &rarr; <em>M</em>, if we take the image of a subgroup of <em>G</em>, we get a subgroup \r\n",
    "of <em>M</em>. What if we take the inverse image of a subgroup of <em>M</em>?   Will we get a subgroup of <em>G</em>?  The next corollary says that we do, and in some \r\n",
    "cases we can even know more.\r\n",
    "\r\n",
    "<p />\r\n",
    "<a name=\"cor42ret\" id=\"cor42ret\"></a>\r\n",
    "COROLLARY 4.2<br>\r\n",
    "Let <em>&fnof;</em>: <em>G</em> &rarr; <em>M</em> be a homomorphism. Let <em>H</em> be a subgroup of <em>M</em>. Then <em>&fnof;</em><sup>&minus;1</sup>(<em>H</em>) is a \r\n",
    "subgroup of <em>G</em>. Furthermore, if <em>H</em> is a normal subgroup of <em>M</em>, then <em>&fnof;</em><sup>&minus;1</sup>(<em>H</em>) is a normal \r\n",
    "subgroup of <em>G</em>.<br><br>\r\n",
    "\r\n",
    "<a href=\"#cor42\">Click here for the proof.</a>\r\n",
    "\r\n",
    "<br><br>\r\n",
    "\r\n",
    "<a name=\"sec43\" id=\"sec43\"></a>\r\n",
    "<h1>The Three Isomorphism Theorems</h1>\r\n",
    "\r\n",
    "<br>\r\n",
    "In the last section we saw that whenever <em>y</em> is in the image of <em>&fnof;</em>, <em>&fnof;</em><sup>&minus;1</sup>(<em>y</em>) is a coset of the kernel. \r\n",
    "This indicates that there is a mapping from Im(<em>&fnof;</em>) to the quotient group <em>G</em>/Ker(<em>&fnof;</em>). A natural question to ask is whether this \r\n",
    "mapping is again a homomorphism. The next proof shows that this mapping is, in fact, an isomorphism.\r\n",
    "\r\n",
    "<p />\r\n",
    "<a name=\"theor41ret\" id=\"theor41ret\"></a>\r\n",
    "THEOREM 4.1: The First Isomorphism Theorem<br>\r\n",
    "Let <em>&fnof;</em>: <em>G</em> &rarr; <em>M</em> be a homomorphism with Ker(<em>&fnof;</em>) = <em>K</em>, and Im(<em>&fnof;</em>) = <em>I</em>. \r\n",
    "Then there is a natural isomorphism \r\n",
    "<p style='text-align: center;'><em>&#981;</em>: <em>I</em> &rarr; <em>G</em>/<em>K</em></p>\r\n",
    "which is onto. Thus, <em>I</em> &asymp; <em>G</em>/<em>K</em>.<br>\r\n",
    "<br>\r\n",
    "\r\n",
    "<a href=\"#theor41\">Click here for the proof.</a>\r\n",
    "\r\n",
    "<p />\r\n",
    "This theorem says that whenever we have a homomorphism <em>&fnof;</em> from <em>G</em> to <em>M</em> with an image <em>I</em>, then we get a natural isomorphism \r\n",
    "<em>&#981;</em> from <em>I</em> to <em>G</em>/Ker(<em>&fnof;</em>). We can picture this situation by drawing a partial diagram:<br>\r\n",
    "\r\n",
    "\r\n",
    "<table align = \"center\" width=\"170\" border=\"0\">\r\n",
    "  <tr>\r\n",
    "    <td width=\"20\">&nbsp;</td>\r\n",
    "    <td width=\"20\">&nbsp;</td>\r\n",
    "    <td width=\"90\">&nbsp;</td>\r\n",
    "    <td width=\"20\">&nbsp;</td>\r\n",
    "    <td width=\"20\">&nbsp;</td>\r\n",
    "  </tr>\r\n",
    "  <tr>\r\n",
    "    <td><em>G</em></td>\r\n",
    "    <td COLSPAN = 3>&emsp;&emsp;&emsp;<em>&fnof;</em><br>&#8213;&#8213;&#8213;&#8213;&#8213;&#9658;</td>\r\n",
    "    <td><em>I</em></td>\r\n",
    "  </tr>\r\n",
    "  <tr>\r\n",
    "    <td>&nbsp;</td>\r\n",
    "    <td>&nbsp;</td>\r\n",
    "    <td>&nbsp;</td>\r\n",
    "    <td>&#8601;</td>\r\n",
    "    <td><em>&#981;</em></td>\r\n",
    "  </tr>\r\n",
    "  <tr>\r\n",
    "    <td>&nbsp;</td>\r\n",
    "    <td>&nbsp;</td>\r\n",
    "    <td><em>G</em>/Ker(<em>&fnof;</em>)</td>\r\n",
    "    <td>&nbsp;</td>\r\n",
    "    <td>&nbsp;</td>\r\n",
    "  </tr>\r\n",
    "</table>\r\n",
    "\r\n",
    "\r\n",
    "<br>\r\n",
    "This diagram shows that we can apply the homomorphism <em>&fnof;</em> and then the isomorphism <em>&#981;</em> to get a homomorphism from <em>G</em> to \r\n",
    "<em>G</em>/Ker(<em>&fnof;</em>). This mapping would be \r\n",
    "<p style='text-align: center;'><em>&#981;</em>(<em>&fnof;</em>(<em>x</em>)): <em>G</em> &rarr; <em>G</em>/Ker(<em>&fnof;</em>).</p>\r\n",
    "What does this homomorphism do?  Since <em>&#981;</em>(<em>&fnof;</em>(<em>x</em>)) = <em>&fnof;</em><sup>&minus;1</sup>(<em>&fnof;</em>(<em>x</em>)),\r\n",
    "we have that <em>x</em> &isin; <em>&#981;</em>(<em>&fnof;</em>(<em>x</em>)).\r\n",
    "Thus, this homomorphism sends every element of <em>G</em> to the coset in <em>G</em>/Ker(<em>&fnof;</em>) which contains that element.<br><br>\r\n",
    " \r\n",
    "It seems that we should be able to go directly from the group <em>G</em> to the group <em>G</em>/Ker(<em>&fnof;</em>) without involving the homomorphism <em>&fnof;</em>. \r\n",
    "The next proposition shows how this can be done.\r\n",
    "\r\n",
    "<p />\r\n",
    "<a name=\"prop48ret\" id=\"prop48ret\"></a>\r\n",
    "PROPOSITION 4.8<br>\r\n",
    "Let <em>G</em> be a group, and <em>N</em> be a normal subgroup of <em>G</em>. Then there is a natural isomorphism \r\n",
    "<p style='text-align: center;'><em>i<sub>N</sub></em> : <em>N</em> &rarr; <em>G</em>/<em>N</em></p>\r\n",
    "given by <em>i<sub>N</sub></em>(<em>a</em>) = <em>a</em>&middot;<em>N</em>.  This homomorphism is surjective, and Ker(<em>i<sub>N</sub></em>) = <em>N</em>.<br><br>\r\n",
    "\r\n",
    "<a href=\"#prop48\">Click here for the proof.</a>\r\n",
    "\r\n",
    "<p />\r\n",
    "We call the homomorphism <em>i<sub>N</sub></em> the <em>canonical homomorphism associated with</em> <em>N</em>. <br><br>\r\n",
    " \r\n",
    "From Proposition 4.8, every normal subgroup of <em>G</em> appears as a kernel of a homomorphism, namely the canonical homomorphism.<br><br>\r\n",
    "\r\n",
    "We can now finish the diagram that we drew after the first isomorphism theorem.  We now can go directly from the group <em>G</em> to the quotient group \r\n",
    "<em>G</em>/Ker(<em>&fnof;</em>) using a canonical homomorphism:\r\n",
    "\r\n",
    "\r\n",
    "<table align = \"center\" width=\"170\" border=\"0\">\r\n",
    "  <tr>\r\n",
    "    <td width=\"20\">&nbsp;</td>\r\n",
    "    <td width=\"20\">&nbsp;</td>\r\n",
    "    <td width=\"90\">&nbsp;</td>\r\n",
    "    <td width=\"20\">&nbsp;</td>\r\n",
    "    <td width=\"20\">&nbsp;</td>\r\n",
    "  </tr>\r\n",
    "  <tr>\r\n",
    "    <td><em>G</em></td>\r\n",
    "    <td COLSPAN = 3>&emsp;&emsp;&emsp;<em>&fnof;</em><br>&#8213;&#8213;&#8213;&#8213;&#8213;&#9658;</td>\r\n",
    "    <td><em>I</em></td>\r\n",
    "  </tr>\r\n",
    "  <tr>\r\n",
    "    <td><em>i<sub>N</sub></em></td>\r\n",
    "    <td>&#8600;</td>\r\n",
    "    <td>&nbsp;</td>\r\n",
    "    <td>&#10530;</td>\r\n",
    "    <td><em>&#981;</em></td>\r\n",
    "  </tr>\r\n",
    "  <tr>\r\n",
    "    <td>&nbsp;</td>\r\n",
    "    <td>&nbsp;</td>\r\n",
    "    <td><em>G</em>/Ker(<em>&fnof;</em>)</td>\r\n",
    "    <td>&nbsp;</td>\r\n",
    "    <td>&nbsp;</td>\r\n",
    "  </tr>\r\n",
    "</table>\r\n",
    "<br>\r\n",
    "Notice that we now have two ways of getting from <em>G</em> to <em>G</em>/Ker(<em>&fnof;</em>), one route though the canonical homomorphism, and the other route \r\n",
    "through <em>&fnof;</em> and <em>&#981;</em>. Yet we have drawn this diagram to indicate that <em>&#981;</em>(<em>&fnof;</em>(<em>x</em>)) = <em>i<sub>N</sub></em>(<em>x</em>) for \r\n",
    "all elements in <em>G</em>. Thus, the two routes from <em>G</em> to <em>G</em>/Ker(<em>&fnof;</em>) produce the same function. We express this fact by saying that \r\n",
    "the <em>diagram is commutative</em>. In other words, for a commuting diagram, the functions defined by two paths with the same beginning and ending points produce the \r\n",
    "same composition function. In this diagram there are arrows going in both directions for the function <em>&#981;</em> to indicate that this is a isomorphism. \r\n",
    "We will later be able to visualize many theorems about homomorphisms by means of commuting diagrams. <br><br>\r\n",
    " \r\n",
    " \r\n",
    "We observed in &sect;3.3 that the product of two subgroups <em>H</em> and <em>K</em> was not necessarily a subgroup. However, it is possible that if one of the groups is normal, \r\n",
    "then indeed the product <em>H</em>&middot;<em>K</em> would be a subgroup.  (In fact, this was proven in Problem 15 of &sect;3.3.)  Let us try it\r\n",
    "on the octahedral group.<br>"
   ]
  },
  {
   "cell_type": "code",
   "execution_count": 0,
   "metadata": {
    "collapsed": false
   },
   "outputs": [
   ],
   "source": [
    "InitGroup(\"e\");\r\n",
    "AddGroupVar(\"a\",\"b\",\"c\");\r\n",
    "Define(a^2, e);\r\n",
    "Define(b^3, e);\r\n",
    "Define(c^4, e);\r\n",
    "Define(b*a, a*b^2);\r\n",
    "Define(c*a, a*b*c);\r\n",
    "Define(c*b, a*c^2);\r\n",
    "G = ListGroup(); G"
   ]
  },
  {
   "cell_type": "markdown",
   "metadata": {
    "collapsed": false
   },
   "source": [
    "<br>\r\n",
    "EXAMPLE:<br>\r\n",
    "Explore the product of two subgroups of order 4, one of which is normal, of the octahedral group.<br><br>\r\n",
    "\r\n",
    "The only normal subgroup of order 4 which we have found so far is<br>"
   ]
  },
  {
   "cell_type": "code",
   "execution_count": 0,
   "metadata": {
    "collapsed": false
   },
   "outputs": [
   ],
   "source": [
    "M = Group(a*b^2*c, c^2); M"
   ]
  },
  {
   "cell_type": "markdown",
   "metadata": {
    "collapsed": false
   },
   "source": [
    "<br>\r\n",
    "Here are some other subgroups of order 4:"
   ]
  },
  {
   "cell_type": "code",
   "execution_count": 0,
   "metadata": {
    "collapsed": false
   },
   "outputs": [
   ],
   "source": [
    "H = Group(c); H"
   ]
  },
  {
   "cell_type": "code",
   "execution_count": 0,
   "metadata": {
    "collapsed": false
   },
   "outputs": [
   ],
   "source": [
    "K = Group(b*c); K"
   ]
  },
  {
   "cell_type": "markdown",
   "metadata": {
    "collapsed": false
   },
   "source": [
    "<br>\r\n",
    "Unfortunately, this does not express all of the elements in the <strong>ListGroup</strong> format that appears in <strong>G</strong>. One way to fix this is to turn on \r\n",
    "<strong>SetReducedMult</strong>.  But there is another command that allows us to express the elements\r\n",
    "of <strong>K</strong> in the format given in the group <strong>G</strong>.<br>"
   ]
  },
  {
   "cell_type": "code",
   "execution_count": 0,
   "metadata": {
    "collapsed": false
   },
   "outputs": [
   ],
   "source": [
    "K = Conform(K, G); K"
   ]
  },
  {
   "cell_type": "markdown",
   "metadata": {
    "collapsed": false
   },
   "source": [
    "<br>\r\n",
    "Note that if we multiplied <em>H</em>&middot;<em>K</em>, we do not get a subgroup, for there would be 16 elements, and 16 is not a divisor of 24.<br>"
   ]
  },
  {
   "cell_type": "code",
   "execution_count": 0,
   "metadata": {
    "collapsed": false
   },
   "outputs": [
   ],
   "source": [
    "Conform(H * K, G)"
   ]
  },
  {
   "cell_type": "code",
   "execution_count": 0,
   "metadata": {
    "collapsed": false
   },
   "outputs": [
   ],
   "source": [
    "len(_)"
   ]
  },
  {
   "cell_type": "markdown",
   "metadata": {
    "collapsed": false
   },
   "source": [
    "<br>\r\n",
    "Let's instead try to multiply <em>H</em>&middot;<em>M</em>.<br>"
   ]
  },
  {
   "cell_type": "code",
   "execution_count": 0,
   "metadata": {
    "collapsed": false
   },
   "outputs": [
   ],
   "source": [
    "L = Conform(H * M, G); L"
   ]
  },
  {
   "cell_type": "markdown",
   "metadata": {
    "collapsed": false
   },
   "source": [
    "<br>\r\n",
    "This gives a set of order 8, which is a divisor of 24.  So it is possible that this set is a subgroup. How can we check?  We can form the multiplication table.<br>"
   ]
  },
  {
   "cell_type": "code",
   "execution_count": 0,
   "metadata": {
    "collapsed": false
   },
   "outputs": [
   ],
   "source": [
    "MultTable(L)"
   ]
  },
  {
   "cell_type": "markdown",
   "metadata": {
    "collapsed": false
   },
   "source": [
    "<br>\r\n",
    "This is closed under multiplication and inverses, so it is a subgroup of <em>G</em>.<br><br>\r\n",
    "\r\n",
    "This encourages us to try multiplying the groups in the other order. Let us see if <em>M</em>&middot;<em>H</em> forms a subgroup:<br>"
   ]
  },
  {
   "cell_type": "code",
   "execution_count": 0,
   "metadata": {
    "collapsed": false
   },
   "outputs": [
   ],
   "source": [
    "Conform(M * H, G)"
   ]
  },
  {
   "cell_type": "markdown",
   "metadata": {
    "collapsed": false
   },
   "source": [
    "<br>\r\n",
    "Is this a subgroup of <em>G</em>?  Yes, in fact it is the same subgroup as <em>H</em>&middot;<em>M</em>. In this case, it apparently didn't matter which order we \r\n",
    "multiplied.<br><br>\r\n",
    " \r\n",
    "EXPERIMENT:<br>\r\n",
    "Is the product <em>K</em>&middot;<em>M</em> a subgroup of <em>G</em>? What about the product <em>M</em>&middot;<em>K</em>? Is <em>K</em>&middot;<em>M</em> and \r\n",
    "<em>M</em>&middot;<em>K</em> the same, as in the case for <em>H</em>?<br>"
   ]
  },
  {
   "cell_type": "markdown",
   "metadata": {
    "collapsed": false
   },
   "source": [
    "<br>\r\n",
    "From this experiment, there seems to be a connection between whether <em>H</em>&middot;<em>N</em> is a subgroup, and whether <em>H</em>&middot;<em>N</em> = \r\n",
    "<em>N</em>&middot;<em>H</em>. It is not hard to prove this connection.\r\n",
    "\r\n",
    "<p />\r\n",
    "<a name=\"lem42ret\" id=\"lem42ret\"></a>\r\n",
    "LEMMA 4.2<br>\r\n",
    "Suppose <em>H</em> and <em>K</em> are two subgroups of <em>G</em>.  Then <em>H</em>&middot;<em>K</em> is a group if, and only if,\r\n",
    "<p style='text-align: center;'><em>H</em>&middot;<em>K</em> = <em>K</em>&middot;<em>H</em>.</p>\r\n",
    "\r\n",
    "<a href=\"#lem42\">Click here for the proof.</a>\r\n",
    "\r\n",
    "<p />\r\n",
    "We are now in a position to show that <em>H</em>&middot;<em>K</em> is a subgroup if one of the subgroups <em>H</em> or <em>K</em> is normal.\r\n",
    "\r\n",
    "<p />\r\n",
    "<a name=\"lem43ret\" id=\"lem43ret\"></a>\r\n",
    "LEMMA 4.3<br>\r\n",
    "If <em>H</em> is a subgroup of <em>G</em>, and <em>N</em> is a normal subgroup of <em>G</em>, then <em>H</em>&middot;<em>N</em> is a subgroup of <em>G</em>.<br><br>\r\n",
    "\r\n",
    "<a href=\"#lem43\">Click here for the proof.</a>\r\n",
    "\r\n",
    "<p />\r\n",
    "\r\n",
    "Since we have found a new subgroup of <em>G</em> which contains the normal subgroup <em>M</em>, the natural question is whether it is a normal subgroup.  We can try to find the left and right \r\n",
    "cosets of <em>H</em>&middot;<em>M</em> from the example.<br>"
   ]
  },
  {
   "cell_type": "code",
   "execution_count": 0,
   "metadata": {
    "collapsed": false
   },
   "outputs": [
   ],
   "source": [
    "LftCoset(G, H * M)"
   ]
  },
  {
   "cell_type": "code",
   "execution_count": 0,
   "metadata": {
    "collapsed": false
   },
   "outputs": [
   ],
   "source": [
    "RtCoset(G, H * M)"
   ]
  },
  {
   "cell_type": "markdown",
   "metadata": {
    "collapsed": false
   },
   "source": [
    "<br>\r\n",
    "We see that these are not the same, so in general, <em>H</em>&middot;<em>N</em> is not a normal subgroup if only <em>N</em> is normal.  (Note that if both <em>H</em> and <em>N</em> were normal, then Problem 17 of &sect;3.3 shows that <em>H</em>&middot;<em>N</em> is normal.<br><br>\r\n",
    "\r\n",
    "But would <em>M</em> be a normal subgroup of <em>H</em>&middot;<em>M</em>?<br>"
   ]
  },
  {
   "cell_type": "code",
   "execution_count": 0,
   "metadata": {
    "collapsed": false
   },
   "outputs": [
   ],
   "source": [
    "LftCoset(L, M)"
   ]
  },
  {
   "cell_type": "code",
   "execution_count": 0,
   "metadata": {
    "collapsed": false
   },
   "outputs": [
   ],
   "source": [
    "RtCoset(L, M)"
   ]
  },
  {
   "cell_type": "markdown",
   "metadata": {
    "collapsed": false
   },
   "source": [
    "<br>\r\n",
    "We can quickly see in this case it is normal, since <em>M</em> contains half of the elements of <em>H</em>&middot;<em>M</em>.  But we can prove that this will happen in general, \r\n",
    "using the fact that <em>H</em>&middot;<em>M</em> is a subgroup of <em>G</em>.\r\n",
    "\r\n",
    "<p />\r\n",
    "<a name=\"lem44ret\" id=\"lem44ret\"></a>\r\n",
    "LEMMA 4.4<br>\r\n",
    "Let <em>N</em> be a normal subgroup of <em>G</em>, and suppose that <em>H</em> is a subgroup of <em>G</em> which contains <em>N</em>. \r\n",
    "Then <em>N</em> is a normal subgroup of <em>H</em>.<br><br>\r\n",
    "\r\n",
    "<a href=\"#lem44\">Click here for the proof.</a>\r\n",
    "\r\n",
    "<p />\r\n",
    "\r\n",
    "Given two subgroups of a group <em>G</em>, there is another way of forming a new subgroup. Proposition 2.3 tells us that the intersection of \r\n",
    "two subgroups will again be a subgroup. Recall that the intersection ofthe groups <em>H</em> and <em>M</em> is given in <em>Sage</em> by<br>"
   ]
  },
  {
   "cell_type": "code",
   "execution_count": 0,
   "metadata": {
    "collapsed": false
   },
   "outputs": [
   ],
   "source": [
    "Intersection(H, M)"
   ]
  },
  {
   "cell_type": "markdown",
   "metadata": {
    "collapsed": false
   },
   "source": [
    "<br>\r\n",
    "which is a group of order 2.<br><br>\r\n",
    "\r\n",
    "In this case since <em>H</em> is abelian, the intersection of <em>H</em> and <em>M</em> is a normal subgroup of <em>H</em>. However, whenever <em>M</em> is normal, \r\n",
    "the intersection will always be a normal subgroup.\r\n",
    "\r\n",
    "<p />\r\n",
    "<a name=\"lem45ret\" id=\"lem45ret\"></a>\r\n",
    "LEMMA 4.5<br>\r\n",
    "If <em>N</em> is a normal subgroup of <em>G</em>, and <em>H</em> is a subgroup of <em>G</em>, then <em>H</em> &cap; <em>N</em> is a normal subgroup of <em>H</em>.<br><br>\r\n",
    "\r\n",
    "<a href=\"#lem45\">Click here for the proof.</a>\r\n",
    "\r\n",
    "<p />\r\n",
    "Because we have a normal subgroup, we can consider the quotient group generated by this group.  We can let<br>"
   ]
  },
  {
   "cell_type": "code",
   "execution_count": 0,
   "metadata": {
    "collapsed": false
   },
   "outputs": [
   ],
   "source": [
    "R = Intersection(H, M); R"
   ]
  },
  {
   "cell_type": "markdown",
   "metadata": {
    "collapsed": false
   },
   "source": [
    "<br>\r\n",
    "be the intersection. Then the quotient group is given by<br>"
   ]
  },
  {
   "cell_type": "code",
   "execution_count": 0,
   "metadata": {
    "collapsed": false
   },
   "outputs": [
   ],
   "source": [
    "LftCoset(H, R)"
   ]
  },
  {
   "cell_type": "markdown",
   "metadata": {
    "collapsed": false
   },
   "source": [
    "<br>\r\n",
    "Compare this to the quotient group of (<em>H</em>&middot;<em>M</em>)/<em>M</em> we found earlier.<br>"
   ]
  },
  {
   "cell_type": "code",
   "execution_count": 0,
   "metadata": {
    "collapsed": false
   },
   "outputs": [
   ],
   "source": [
    "Q = LftCoset(L, M); Q"
   ]
  },
  {
   "cell_type": "markdown",
   "metadata": {
    "collapsed": false
   },
   "source": [
    "<br>\r\n",
    "What do we observe about these two quotient groups? They both have two elements, so they are obviously isomorphic.  But there is another connection which helps to \r\n",
    "explain why they would be isomorphic. Notice that each coset in (<em>H</em>&middot;<em>M</em>)/<em>M</em> contains one of the cosets from <em>H</em>/<em>R</em>. \r\n",
    "In fact, if we threw out all elements in a coset of (<em>H</em>&middot;<em>M</em>)/<em>M</em> that were not an element of <em>H</em>, we would get a coset of \r\n",
    "<em>H</em>/<em>R</em>. Thus, if we could come up with a mapping which &quot;filters out&quot; the elements which are not in <em>H</em>, we would have a possible \r\n",
    "homomorphism between (<em>H</em>&middot;<em>M</em>)/<em>M</em> and <em>H</em>/<em>R</em>. Let's see if we can construct such a mapping.<br><br>\r\n",
    "\r\n",
    "We will begin by defining a homomorphism from <em>H</em> into <em>G</em>. It will be defined simply by\r\n",
    "<p style='text-align: center;'><em>i</em>: <em>H</em> &rarr; <em>G</em>, <em>i</em>(<em>h</em>) = <em>h</em>.</p>\r\n",
    "This is called the <strong>identity homomorphism</strong> on <em>H</em> for the obvious reason. How will this help us create a filter? Let us define the homomorphism \r\n",
    "in <em>Sage</em> to find out.<br>"
   ]
  },
  {
   "cell_type": "code",
   "execution_count": 0,
   "metadata": {
    "collapsed": false
   },
   "outputs": [
   ],
   "source": [
    "I = Homomorph(H, G)"
   ]
  },
  {
   "cell_type": "markdown",
   "metadata": {
    "collapsed": false
   },
   "source": [
    "<br>\r\n",
    "Because <em>H</em> uses <em>c</em> as the generator we only have to define <em>i</em>[<em>c</em>]:<br>"
   ]
  },
  {
   "cell_type": "code",
   "execution_count": 0,
   "metadata": {
    "collapsed": false
   },
   "outputs": [
   ],
   "source": [
    "HomoDef(I, c, c)"
   ]
  },
  {
   "cell_type": "markdown",
   "metadata": {
    "collapsed": false
   },
   "source": [
    "<br>\r\n",
    "<em>Sage</em> can quickly complete the homomorphism:<br>"
   ]
  },
  {
   "cell_type": "code",
   "execution_count": 0,
   "metadata": {
    "collapsed": false
   },
   "outputs": [
   ],
   "source": [
    "FinishHomo(I)"
   ]
  },
  {
   "cell_type": "code",
   "execution_count": 0,
   "metadata": {
    "collapsed": false
   },
   "outputs": [
   ],
   "source": [
    "GraphHomo(I)"
   ]
  },
  {
   "cell_type": "markdown",
   "metadata": {
    "collapsed": false
   },
   "source": [
    "<br>\r\n",
    "Note that <em>i</em>[<em>h</em>] will not be defined on the elements of <em>G</em> which are not in <em>H</em>. However, <em>i</em><sup>-1</sup>(<em>S</em>) will be \r\n",
    "defined on all subsets of <em>G</em>. For example, if we consider the subset<br>"
   ]
  },
  {
   "cell_type": "code",
   "execution_count": 0,
   "metadata": {
    "collapsed": false
   },
   "outputs": [
   ],
   "source": [
    "S = [a, a*b, c, a*c, a*b*c^2, c^3, e]"
   ]
  },
  {
   "cell_type": "markdown",
   "metadata": {
    "collapsed": false
   },
   "source": [
    "<br>\r\n",
    "Then <em>i</em><sup>-1</sup>(<em>S</em>) is<br>"
   ]
  },
  {
   "cell_type": "code",
   "execution_count": 0,
   "metadata": {
    "collapsed": false
   },
   "outputs": [
   ],
   "source": [
    "HomoInv(I, S)"
   ]
  },
  {
   "cell_type": "markdown",
   "metadata": {
    "collapsed": false
   },
   "source": [
    "<br>\r\n",
    "The inverse apparently filters out the elements of <em>S</em> which are not in <em>H</em>. This is almost what we want, but we want a filter for a single <em>coset</em>, \r\n",
    "so the trick is to first take the inverse of the canonical isomorphism <em>&fnof;</em> from <em>H</em>&middot;<em>M</em> to (<em>H</em>&middot;<em>M</em>)/<em>M</em>.  Let \r\n",
    "us quickly define this, using <strong>F</strong> for the homomorphism name.<br>"
   ]
  },
  {
   "cell_type": "code",
   "execution_count": 0,
   "metadata": {
    "collapsed": false
   },
   "outputs": [
   ],
   "source": [
    "F = Homomorph(L, Q)"
   ]
  },
  {
   "cell_type": "markdown",
   "metadata": {
    "collapsed": false
   },
   "source": [
    "<br>\r\n",
    "The set <em>H</em>&middot;<em>M</em> is generated by the elements <em>a</em>&middot;<em>b</em>&middot;<em>b</em> and <em>c</em>. In this case we only need 2 definitions \r\n",
    "to define the entire homomorphism.<br>"
   ]
  },
  {
   "cell_type": "code",
   "execution_count": 0,
   "metadata": {
    "collapsed": false
   },
   "outputs": [
   ],
   "source": [
    "HomoDef(F, c, c * M)"
   ]
  },
  {
   "cell_type": "code",
   "execution_count": 0,
   "metadata": {
    "collapsed": false
   },
   "outputs": [
   ],
   "source": [
    "HomoDef(F, a*b^2 , a*b^2 * M)"
   ]
  },
  {
   "cell_type": "markdown",
   "metadata": {
    "collapsed": false
   },
   "source": [
    "<br>\r\n",
    "Does this define the homomorphism? We will let <em>Sage</em> verify that this does:<br>"
   ]
  },
  {
   "cell_type": "code",
   "execution_count": 0,
   "metadata": {
    "collapsed": false
   },
   "outputs": [
   ],
   "source": [
    "FinishHomo(F)"
   ]
  },
  {
   "cell_type": "code",
   "execution_count": 0,
   "metadata": {
    "collapsed": false
   },
   "outputs": [
   ],
   "source": [
    "GraphHomo(F)"
   ]
  },
  {
   "cell_type": "markdown",
   "metadata": {
    "collapsed": false
   },
   "source": [
    "<br>\r\n",
    "We can now try out our filter to see if it works. We pick an element in (<em>H</em>&middot;<em>M</em>)/<em>M</em>:<br>"
   ]
  },
  {
   "cell_type": "code",
   "execution_count": 0,
   "metadata": {
    "collapsed": false
   },
   "outputs": [
   ],
   "source": [
    "Conform(c * M, G)"
   ]
  },
  {
   "cell_type": "markdown",
   "metadata": {
    "collapsed": false
   },
   "source": [
    "<br>\r\n",
    "Next, we find <em>i</em><sup>-1</sup>(<em>F</em><sup>&minus;1</sup>(x)) for this element.<br>"
   ]
  },
  {
   "cell_type": "code",
   "execution_count": 0,
   "metadata": {
    "collapsed": false
   },
   "outputs": [
   ],
   "source": [
    "HomoInv(F, [_])"
   ]
  },
  {
   "cell_type": "code",
   "execution_count": 0,
   "metadata": {
    "collapsed": false
   },
   "outputs": [
   ],
   "source": [
    "HomoInv(I, _)"
   ]
  },
  {
   "cell_type": "markdown",
   "metadata": {
    "collapsed": false
   },
   "source": [
    "<br>\r\n",
    "A bit of explanation is needed here.  The second argument for the <strong>HomoInv</strong> command can either be a single element, or a list of elements.  But when \r\n",
    "the element looks like a list, we have to enclose it is an extra set of brackets to make it a list of one element.  That is why there are extra brackets as we \r\n",
    "take <em>F</em><sup>-1</sup>.  However, the output of HomoInv is a list of elements, so we didn't need these brackets in computing <em>I</em><sup>-1</sup>.<br>\r\n",
    "\r\n",
    "<br>\r\n",
    "We see that this combination of inverse homomorphisms can be used for our filter.  This gives us the guidelines for showing that, in general, \r\n",
    "<em>H</em>/(<em>H</em>&cap;<em>N</em>) &asymp; (<em>H</em>&middot;<em>N</em>)/<em>N</em>.\r\n",
    "\r\n",
    "<p />\r\n",
    "<a name=\"theor42ret\" id=\"theor42ret\"></a>\r\n",
    "<br>THEOREM 4.2:The Second Isomorphism Theorem<br>\r\n",
    "Suppose that <em>N</em> is a normal subgroup of <em>G</em>, and that <em>H</em> is a subgroup of <em>G</em>. Then\r\n",
    "<p style='text-align: center;'><em>H</em>/(<em>H</em>&cap;<em>N</em>) &asymp; (<em>H</em>&middot;<em>N</em>)/<em>N</em>.</p>\r\n",
    "\r\n",
    "<a href=\"#theor42\">Click here for the proof.</a><br>\r\n",
    "\r\n",
    "<p />\r\n",
    "We can describe the second isomorphism theorem (4.2) pictorially with a commuting diagram. We can let <em>&#981;</em> denote the canonical homomorphism \r\n",
    "from <em>H</em> to the quotient group. Then the first isomorphism theorem (4.1) states that the following diagram commutes:\r\n",
    "\r\n",
    "<table align = \"center\" width=\"250\" border=\"0\">\r\n",
    "  <tr>\r\n",
    "    <td width=\"85\">&emsp;&emsp;&emsp;<em>H</em></td>\r\n",
    "    <td width=\"85\">&emsp;&emsp;<em>i</em><br>&#8213;&#8213;&#8213;&#9658;</td>\r\n",
    "    <td width=\"80\"><em>H</em>&middot;<em>N</em></td>\r\n",
    "  </tr>\r\n",
    "  <tr>\r\n",
    "    <td>&emsp;&emsp;<em>&#981;</em><span style='font-size: 28px;'>&darr;</span></td>\r\n",
    "    <td>&nbsp;</td>\r\n",
    "    <td><span style='font-size: 28px;'>&darr;</span><em>&fnof;</em></td>\r\n",
    "  </tr>\r\n",
    "  <tr>\r\n",
    "    <td><em>H</em>/(<em>H</em>&cap;<em>N</em>)</td>\r\n",
    "    <td>&#9668;&#8213;&#8213;&#9658;</td>\r\n",
    "    <td>(<em>H</em>&middot;<em>N</em>)/<em>N</em></td>\r\n",
    "  </tr>\r\n",
    "</table>\r\n",
    "\r\n",
    "<br>\r\n",
    "With this diagram, it is easy to find the number of elements in the product of two finite groups <em>H</em>&middot;<em>N</em>. Since \r\n",
    "<p style='text-align: center;'>|<em>H</em>/(<em>H</em>&cap;<em>N</em>)| = |(<em>H</em>&middot;<em>N</em>)/<em>N</em>|</p>\r\n",
    "we have|<em>H</em>|/|<em>H</em>&cap;<em>N</em>| = |<em>H</em>&middot;<em>N</em>|/|<em>N</em>|. Thus,\r\n",
    "<table align=\"center\" border=\"0\" cellspacing=\"0\" cellpadding=\"0\">\r\n",
    "  <tr>\r\n",
    "    <td rowspan = \"2\" align=\"right\">|<em>H</em>&middot;<em>N</em>| = </td>\r\n",
    "    <td height=\"33\" valign=\"bottom\"><font style=\"text-decoration:underline\">&ensp;| <em>H</em> | | <em>N</em> |&ensp;</font></td>\r\n",
    "    <td rowspan = \"2\" align=\"right\">.</td>\r\n",
    "  </tr>\r\n",
    "  <tr>\r\n",
    "     <td valign=\"top\">&ensp;| <em>H</em> &cap; <em>N</em> |</td>\r\n",
    "  </tr>\r\n",
    "</table>\r\n",
    "<br>\r\n",
    "In the example above <em>H</em> and <em>M</em> had 4 elements with 2 elements in common. Thus, the size of <em>H</em>&middot;<em>M</em> was 4&middot;4/2 = 8 elements. \r\n",
    "The only problem with this argument is that we had to assume that one of the two groups was a normal subgroup of a larger group. Let us show \r\n",
    "that the number of elements in <em>H</em>&middot;<em>K</em> is given by the above formula even if we do not make that assumption.\r\n",
    "\r\n",
    "<p />\r\n",
    "<a name=\"prop49ret\" id=\"prop49ret\"></a>\r\n",
    "PROPOSITION 4.9<br>\r\n",
    "Let <em>H</em> and <em>K</em> be two subgroups of a finite group <em>G</em>. Then the number of elements in the product <em>H</em>&middot;<em>K</em> is given by\r\n",
    "<br><br>\r\n",
    "<table align=\"center\" border=\"0\" cellspacing=\"0\" cellpadding=\"0\">\r\n",
    "  <tr>\r\n",
    "    <td rowspan = \"2\" align=\"right\">|<em>H</em>&middot;<em>K</em>| = </td>\r\n",
    "    <td height=\"33\" valign=\"bottom\"><font style=\"text-decoration:underline\">&ensp;| <em>H</em> | | <em>K</em> |&ensp;</font></td>\r\n",
    "    <td rowspan = \"2\" align=\"right\">.</td>\r\n",
    "  </tr>\r\n",
    "  <tr>\r\n",
    "     <td valign=\"top\">&ensp;| <em>H</em> &cap; <em>K</em> |</td>\r\n",
    "  </tr>\r\n",
    "</table>\r\n",
    "<a href=\"#prop49\">Click here for the proof.</a>\r\n",
    "<p /> \r\n",
    "\r\n",
    "If we consider a group with two subgroups, one of which is is subgroup of the other, we begin to see more patterns.  Let us reload the octahedral group, and look at two normal subgroups.<br>"
   ]
  },
  {
   "cell_type": "code",
   "execution_count": 0,
   "metadata": {
    "collapsed": false
   },
   "outputs": [
   ],
   "source": [
    "InitGroup(\"e\");\r\n",
    "AddGroupVar(\"a\",\"b\",\"c\");\r\n",
    "Define(a^2, e);\r\n",
    "Define(b^3, e);\r\n",
    "Define(c^4, e);\r\n",
    "Define(b*a, a*b^2);\r\n",
    "Define(c*a, a*b*c);\r\n",
    "Define(c*b, a*c^2);\r\n",
    "G = ListGroup(); G"
   ]
  },
  {
   "cell_type": "markdown",
   "metadata": {
    "collapsed": false
   },
   "source": [
    "<br>\r\n",
    "EXAMPLE:<br>\r\n",
    "The octahedral group has two non-trivial normal subgroups, one being the subgroup of the other.  Explore the possible quotient groups.<br><br>\r\n",
    "\r\n",
    "In searching for properties of quotient groups, we found one normal subgroup of order 4:<br>"
   ]
  },
  {
   "cell_type": "code",
   "execution_count": 0,
   "metadata": {
    "collapsed": false
   },
   "outputs": [
   ],
   "source": [
    "M = Group(a*b^2*c, c^2); M"
   ]
  },
  {
   "cell_type": "markdown",
   "metadata": {
    "collapsed": false
   },
   "source": [
    "<br>\r\n",
    "Let us see if we can find another normal subgroup of the octahedral group. Consider the subgroup<br>"
   ]
  },
  {
   "cell_type": "code",
   "execution_count": 0,
   "metadata": {
    "collapsed": false
   },
   "outputs": [
   ],
   "source": [
    "H = Group(b, c^2); H"
   ]
  },
  {
   "cell_type": "code",
   "execution_count": 0,
   "metadata": {
    "collapsed": false
   },
   "outputs": [
   ],
   "source": [
    "H = Conform(H, G); H"
   ]
  },
  {
   "cell_type": "markdown",
   "metadata": {
    "collapsed": false
   },
   "source": [
    "<br>\r\n",
    "This is a fairly large subgroup, but not the entire group. Let us find the order of this subgroup:"
   ]
  },
  {
   "cell_type": "code",
   "execution_count": 0,
   "metadata": {
    "collapsed": false
   },
   "outputs": [
   ],
   "source": [
    "len(_)"
   ]
  },
  {
   "cell_type": "markdown",
   "metadata": {
    "collapsed": false
   },
   "source": [
    "<br>\r\n",
    "Therefore this group is half the size of the original octahedral group. By Proposition 3.5, <em>H</em> must be a normal subgroup of <em>G</em>.<br><br>\r\n",
    "\r\n",
    "Since we have two normal subgroups, we have two quotient groups. Here is the quotient group <em>G</em>/<em>H</em>:<br>"
   ]
  },
  {
   "cell_type": "code",
   "execution_count": 0,
   "metadata": {
    "collapsed": false
   },
   "outputs": [
   ],
   "source": [
    "Q1 = RtCoset(G, H); Q1"
   ]
  },
  {
   "cell_type": "markdown",
   "metadata": {
    "collapsed": false
   },
   "source": [
    "<br>\r\n",
    "Here is the quotient group <em>G</em>/<em>M</em>:<br>"
   ]
  },
  {
   "cell_type": "code",
   "execution_count": 0,
   "metadata": {
    "collapsed": false
   },
   "outputs": [
   ],
   "source": [
    "Q2 = RtCoset(G, M); Q2"
   ]
  },
  {
   "cell_type": "markdown",
   "metadata": {
    "collapsed": false
   },
   "source": [
    "<br>\r\n",
    "At this point there doesn't seem to be much connection between these. But notice that <em>M</em> is also a subgroup of <em>H</em>.  By Lemma 4.4, <em>M</em> will be a \r\n",
    "normal subgroup of <em>H</em>. This gives us a third quotient group to consider:<br>"
   ]
  },
  {
   "cell_type": "code",
   "execution_count": 0,
   "metadata": {
    "collapsed": false
   },
   "outputs": [
   ],
   "source": [
    "Q3 = RtCoset(H, M); Q3"
   ]
  },
  {
   "cell_type": "markdown",
   "metadata": {
    "collapsed": false
   },
   "source": [
    "<br>\r\n",
    "Notice that every coset in <strong>Q3</strong> is also a coset in <strong>Q2</strong>. In other words, the quotient group <strong>Q3</strong> is a subgroup \r\n",
    "of <strong>Q2</strong>. Is this a normal subgroup? In the case we are looking at, <strong>Q2</strong> is of order 6 and <strong>Q3</strong> is of order 3, so \r\n",
    "Proposition 3.5 states that <strong>Q3</strong> must be a normal subgroup of <strong>Q2</strong>. So this means that we can consider a <em>fourth</em> quotient \r\n",
    "group&#8213;a quotient group of the quotient group!<br>"
   ]
  },
  {
   "cell_type": "code",
   "execution_count": 0,
   "metadata": {
    "collapsed": false
   },
   "outputs": [
   ],
   "source": [
    "Q4 = LftCoset(Q2, Q3)\r\n",
    "Q4 = Conform(Q4, G); Q4"
   ]
  },
  {
   "cell_type": "markdown",
   "metadata": {
    "collapsed": false
   },
   "source": [
    "<br>\r\n",
    "Before we try to interpret this mess, let us first see why <em>H</em>/<em>N</em> will be a normal subgroup of <em>G</em>/<em>N</em> in general.\r\n",
    "\r\n",
    "<p />\r\n",
    "<a name=\"lem46ret\" id=\"lem46ret\"></a>\r\n",
    "<br>LEMMA 4.6<br>\r\n",
    "If <em>H</em> and <em>N</em> are normal subgroups of <em>G</em>, and if <em>N</em> is a subgroup of <em>H</em>, then <em>H</em>/<em>N</em> is a normal \r\n",
    "subgroup of <em>G</em>/<em>N</em>.<br><br>\r\n",
    "\r\n",
    "<a href=\"#lem46\">Click here for the proof.</a>\r\n",
    "\r\n",
    "<p />\r\n",
    "Let us compare the quotient group <strong>Q4</strong> with our first group <strong>Q1</strong>.<br>"
   ]
  },
  {
   "cell_type": "code",
   "execution_count": 0,
   "metadata": {
    "collapsed": false
   },
   "outputs": [
   ],
   "source": [
    "Q1"
   ]
  },
  {
   "cell_type": "code",
   "execution_count": 0,
   "metadata": {
    "collapsed": false
   },
   "outputs": [
   ],
   "source": [
    "Q4"
   ]
  },
  {
   "cell_type": "markdown",
   "metadata": {
    "collapsed": false
   },
   "source": [
    "<br>\r\n",
    "We notice that both of these have two main elements, so both of these must be isomorphic to <em>Z</em><sub>2</sub>. But consider the first elements of these groups:<br>"
   ]
  },
  {
   "cell_type": "code",
   "execution_count": 0,
   "metadata": {
    "collapsed": false
   },
   "outputs": [
   ],
   "source": [
    "Q1[0]"
   ]
  },
  {
   "cell_type": "code",
   "execution_count": 0,
   "metadata": {
    "collapsed": false
   },
   "outputs": [
   ],
   "source": [
    "Q4[0]"
   ]
  },
  {
   "cell_type": "markdown",
   "metadata": {
    "collapsed": false
   },
   "source": [
    "<br>\r\n",
    "Notice that if we remove all of the interior curly braces from the element in <strong>Q4</strong>, we get the element from <strong>Q1</strong> after rearranging the \r\n",
    "terms. The same thing is true with the other element of <strong>Q4</strong>. Thus we see that not only are <strong>Q4</strong> and <strong>Q1</strong> isomorphic, \r\n",
    "but there is a natural mapping from <strong>Q4</strong> to <strong>Q1</strong> which strips away the inside brackets.<br><br>\r\n",
    "\r\n",
    "This natural mapping seems to indicate that (<em>G</em>/<em>N</em>)/(<em>H</em>/<em>N</em>) is isomorphic to <em>G</em>/<em>H</em>. In order to prove this we merely \r\n",
    "have to describe this mapping in terms of the canonical homomorphisms. That is, we need a mapping that will essentially remove the innermost curly braces from an element \r\n",
    "in (<em>G</em>/<em>N</em>)/(<em>H</em>/<em>N</em>). We will use the canonical homomorphisms as building blocks.<br><br>\r\n",
    "\r\n",
    "The first canonical homomorphism we consider is from <em>G</em> to <em>G</em>/<em>N</em>. Let us use our example to illustrate, calling this \r\n",
    "homomorphism <strong>R</strong>.<br>"
   ]
  },
  {
   "cell_type": "code",
   "execution_count": 0,
   "metadata": {
    "collapsed": false
   },
   "outputs": [
   ],
   "source": [
    "R = Homomorph(G, Q2)"
   ]
  },
  {
   "cell_type": "markdown",
   "metadata": {
    "collapsed": false
   },
   "source": [
    "<br>\r\n",
    "This homomorphism will send each element of <em>G</em> to the coset containing that element.  This can be done by sending <em>x</em> to <em>x M</em>.  For \r\n",
    "example, <em>a</em> would be sent to<br>"
   ]
  },
  {
   "cell_type": "code",
   "execution_count": 0,
   "metadata": {
    "collapsed": false
   },
   "outputs": [
   ],
   "source": [
    "a * M"
   ]
  },
  {
   "cell_type": "markdown",
   "metadata": {
    "collapsed": false
   },
   "source": [
    "<br>\r\n",
    "We now can tell <em>Sage</em> where the three generators <em>a</em>, <em>b</em>, and <em>c</em> will be sent.<br>"
   ]
  },
  {
   "cell_type": "code",
   "execution_count": 0,
   "metadata": {
    "collapsed": false
   },
   "outputs": [
   ],
   "source": [
    "HomoDef(R, a, a * M )"
   ]
  },
  {
   "cell_type": "code",
   "execution_count": 0,
   "metadata": {
    "collapsed": false
   },
   "outputs": [
   ],
   "source": [
    "HomoDef(R, b, b * M )"
   ]
  },
  {
   "cell_type": "code",
   "execution_count": 0,
   "metadata": {
    "collapsed": false
   },
   "outputs": [
   ],
   "source": [
    "HomoDef(R, c, c * M )"
   ]
  },
  {
   "cell_type": "markdown",
   "metadata": {
    "collapsed": false
   },
   "source": [
    "<br>\r\n",
    "It's fairly obvious that this will be a homomorphism, but we could have <em>Sage</em> check it using the following command.<br>"
   ]
  },
  {
   "cell_type": "code",
   "execution_count": 0,
   "metadata": {
    "collapsed": false
   },
   "outputs": [
   ],
   "source": [
    "FinishHomo(R)"
   ]
  },
  {
   "cell_type": "markdown",
   "metadata": {
    "collapsed": false
   },
   "source": [
    "<br>\r\n",
    "<em>Sage</em> can now evaluate this homomorphism on the elements of <em>G</em>.<br>"
   ]
  },
  {
   "cell_type": "code",
   "execution_count": 0,
   "metadata": {
    "collapsed": false
   },
   "outputs": [
   ],
   "source": [
    "R(a*b)"
   ]
  },
  {
   "cell_type": "code",
   "execution_count": 0,
   "metadata": {
    "collapsed": false
   },
   "outputs": [
   ],
   "source": [
    "R(b*c^2)"
   ]
  },
  {
   "cell_type": "markdown",
   "metadata": {
    "collapsed": false
   },
   "source": [
    "<br>\r\n",
    "We can even graph this homomorphism.<br>"
   ]
  },
  {
   "cell_type": "code",
   "execution_count": 0,
   "metadata": {
    "collapsed": false
   },
   "outputs": [
   ],
   "source": [
    "GraphHomo(R)"
   ]
  },
  {
   "cell_type": "markdown",
   "metadata": {
    "collapsed": false
   },
   "source": [
    "<br>\r\n",
    "We see that <strong>R(x)</strong> gives the coset of <em>G</em>/<em>M</em> which contains the element <em>x</em>.<br><br>\r\n",
    " \r\n",
    "Next we can consider a homomorphism from <em>G</em>/<em>M</em> to (<em>G</em>/<em>M</em>)/(<em>H</em>/<em>M</em>). Let us call this homomorphism <em>F</em>.<br>"
   ]
  },
  {
   "cell_type": "code",
   "execution_count": 0,
   "metadata": {
    "collapsed": false
   },
   "outputs": [
   ],
   "source": [
    "F = Homomorph(Q2, Q4)"
   ]
  },
  {
   "cell_type": "markdown",
   "metadata": {
    "collapsed": false
   },
   "source": [
    "<br>\r\n",
    "Next we tell <em>Sage</em> what <strong>F</strong> does to the elements of <em>G</em>/<em>M</em>.\r\n",
    "The coset <em>x M</em> is mapped to (<em>x M</em>)&middot;<em>Q</em><sub>3</sub> = <em>x</em>&middot;<em>Q</em><sub>3</sub>, since \r\n",
    "<em>M</em> &isin; <em>Q</em><sub>3</sub>.<br>"
   ]
  },
  {
   "cell_type": "code",
   "execution_count": 0,
   "metadata": {
    "collapsed": false
   },
   "outputs": [
   ],
   "source": [
    "HomoDef(F, a * M, a * Q3 )"
   ]
  },
  {
   "cell_type": "code",
   "execution_count": 0,
   "metadata": {
    "collapsed": false
   },
   "outputs": [
   ],
   "source": [
    "HomoDef(F, b * M, b * Q3 )"
   ]
  },
  {
   "cell_type": "markdown",
   "metadata": {
    "collapsed": false
   },
   "source": [
    "<br>\r\n",
    "The quotient group has 6 elements, so it ought to be generated by two elements.  <br>"
   ]
  },
  {
   "cell_type": "code",
   "execution_count": 0,
   "metadata": {
    "collapsed": false
   },
   "outputs": [
   ],
   "source": [
    "FinishHomo(F)"
   ]
  },
  {
   "cell_type": "code",
   "execution_count": 0,
   "metadata": {
    "collapsed": false
   },
   "outputs": [
   ],
   "source": [
    "GraphHomo(F)"
   ]
  },
  {
   "cell_type": "markdown",
   "metadata": {
    "collapsed": false
   },
   "source": [
    "<br> \r\n",
    "The graph shows that each coset <em>y</em> in <em>G</em>/<em>K</em> is mapped to the complex coset in (<em>G</em>/<em>N</em>)/(<em>H</em>/<em>N</em>) which contains the \r\n",
    "coset <em>y</em>.  \r\n",
    "\r\n",
    " \r\n",
    "We can now experiment with combining these two homomorphisms:<br>"
   ]
  },
  {
   "cell_type": "code",
   "execution_count": 0,
   "metadata": {
    "collapsed": false
   },
   "outputs": [
   ],
   "source": [
    "F(R(c^2))"
   ]
  },
  {
   "cell_type": "code",
   "execution_count": 0,
   "metadata": {
    "collapsed": false
   },
   "outputs": [
   ],
   "source": [
    "F(R(a*c))"
   ]
  },
  {
   "cell_type": "code",
   "execution_count": 0,
   "metadata": {
    "collapsed": false
   },
   "outputs": [
   ],
   "source": [
    "F(R(b^2*c))"
   ]
  },
  {
   "cell_type": "markdown",
   "metadata": {
    "collapsed": false
   },
   "source": [
    "<br>\r\n",
    "Apparently <strong>F</strong>(<strong>R</strong>(<em>x</em>)) gives the coset of (<em>G</em>/<em>M</em>)/(<em>H</em>/<em>M</em>) for which contains the \r\n",
    "element <em>x</em> within.<br><br>\r\n",
    " \r\n",
    "How can we use this to find a mapping which removes the inside brackets? We can consider the <em>inverse</em> of this combination, \r\n",
    "<strong>R</strong><sup>-1</sup>(<strong>F</strong><sup>-1</sup>(<em>y</em>)). This would give a list of all elements of <em>G</em> which are embedded in the \r\n",
    "coset <em>y</em>. Let us check this:<br>"
   ]
  },
  {
   "cell_type": "code",
   "execution_count": 0,
   "metadata": {
    "collapsed": false
   },
   "outputs": [
   ],
   "source": [
    "Conform(b^2*c * Q3, G)"
   ]
  },
  {
   "cell_type": "code",
   "execution_count": 0,
   "metadata": {
    "collapsed": false
   },
   "outputs": [
   ],
   "source": [
    "HomoInv(F, [_])"
   ]
  },
  {
   "cell_type": "code",
   "execution_count": 0,
   "metadata": {
    "collapsed": false
   },
   "outputs": [
   ],
   "source": [
    "HomoInv(R, _)"
   ]
  },
  {
   "cell_type": "markdown",
   "metadata": {
    "collapsed": false
   },
   "source": [
    "<br>\r\n",
    "Let us try again with a different element.<br>"
   ]
  },
  {
   "cell_type": "code",
   "execution_count": 0,
   "metadata": {
    "collapsed": false
   },
   "outputs": [
   ],
   "source": [
    "Conform(a*b*c * Q3, G)"
   ]
  },
  {
   "cell_type": "code",
   "execution_count": 0,
   "metadata": {
    "collapsed": false
   },
   "outputs": [
   ],
   "source": [
    "HomoInv(F, [_])"
   ]
  },
  {
   "cell_type": "code",
   "execution_count": 0,
   "metadata": {
    "collapsed": false
   },
   "outputs": [
   ],
   "source": [
    "HomoInv(R, _)"
   ]
  },
  {
   "cell_type": "markdown",
   "metadata": {
    "collapsed": false
   },
   "source": [
    "<br>\r\n",
    "Therefore, we have a mapping, namely <em>R</em><sup>-1</sup>(<em>F</em><sup>-1</sup>(<em>y</em>)) that removes the inside curly braces. Let us use this \r\n",
    "to show that <strong>Q4</strong> and <strong>Q1</strong> will always be isomorphic.\r\n",
    "\r\n",
    "<p />\r\n",
    "<a name=\"theor43ret\" id=\"theor43ret\"></a>\r\n",
    "THEOREM 4.3: The Third IsomorphismTheorem<br>\r\n",
    "Let <em>H</em> and <em>N</em> be normal subgroups of <em>G</em>, and let <em>N</em> be a subgroup of <em>H</em>. Then\r\n",
    "<p style='text-align: center;'>(<em>G</em>/<em>N</em>)/(<em>H</em>/<em>N</em>) &asymp; <em>G</em>/<em>H</em>.</p>\r\n",
    "\r\n",
    "<a href=\"#theor43\">Click here for the proof.</a>\r\n",
    "\r\n",
    "<p />\r\n",
    "We can describe the third isomorphism theorem visually with the following diagram.<br><br>\r\n",
    "\r\n",
    "\r\n",
    "<table align = \"center\" width=\"250\" border=\"0\">\r\n",
    "  <tr>\r\n",
    "    <td width=\"50\"><em>G</em></td>\r\n",
    "    <td width=\"90\">&emsp;&emsp;<em>&#981;</em><br>&#8213;&#8213;&#8213;&#9658;</td>\r\n",
    "    <td width=\"110\"><em>G</em>/<em>N</em></td>\r\n",
    "  </tr>\r\n",
    "  <tr>\r\n",
    "    <td><em>i<sub>H</sub></em><span style='font-size: 28px;'>&darr;</span></td>\r\n",
    "    <td>&nbsp;</td>\r\n",
    "    <td><span style='font-size: 28px;'>&darr;</span><em>&fnof;</em></td>\r\n",
    "  </tr>\r\n",
    "  <tr>\r\n",
    "    <td><em>G</em>/<em>H</em></td>\r\n",
    "    <td>&#9668;&#8213;&#8213;&#9658;</td>\r\n",
    "    <td>(<em>G</em>/<em>N</em>)/(<em>G</em>/<em>H</em>)</td>\r\n",
    "  </tr>\r\n",
    "</table>\r\n",
    "\r\n",
    "<br>\r\n",
    "Since <em>H</em> is the kernel of the composition homomorphism \r\n",
    "<p style='text-align: center;'><em>&fnof;</em>(<em>&#981;</em>): <em>G</em> &rarr; (<em>G</em>/<em>N</em>)/(<em>H</em>/<em>N</em>)</p>\r\n",
    "we have by the first isomorphism theorem that this diagram commutes.<br><br>\r\n",
    "\r\n",
    "The three isomorphism theorems work not only for groups, but many other objects as well, such as the rings we will study in Chapter 9.  Because the same theorems apply to many different types of objects, an abstraction of these theorems can be made which would apply to any object for which there are natural mappings defined, called <em>morphisms</em>.  This introduces a rich field called <em>category theory</em>.  Although category theory is another level of abstraction beyond group theory, there are applications in physics and computer languages. \r\n",
    " \r\n",
    "<br><br><br><br><br><br><br><br><br><br><br><br><br><br><br><br><br><br><br><br><br><br><br><br><br><br><br><br><br><br><br><br><br><br><br><br><br><br><br><br><br><br>\r\n",
    "\r\n",
    "<h1>Proofs:</h1>\r\n",
    "\r\n",
    "<a name=\"prop41\" id=\"prop41\"></a>\r\n",
    "\r\n",
    "Proof of Proposition 4.1:<br><br>\r\n",
    "\r\n",
    "If two groups have the same multiplication table, they are isomorphic, so a group is completely determined by its multiplication table.  Notice that each element \r\n",
    "of this table must be one of <em>n</em> elements, and there are <em>n</em><sup>2</sup> entries in the table.  So there are <em>n</em><sup>(<em>n</em>&sup2;)</sup> ways \r\n",
    "of creating such a table.<br><br>\r\n",
    "\r\n",
    "<a href=\"#prop41ret\">Return to text</a>\r\n",
    "\r\n",
    "<br><br><br><br><br><br><br><br><br><br><br><br><br><br><br><br><br><br><br><br><br><br><br><br><br><br><br><br><br><br><br><br><br><br><br><br><br><br><br><br><br><br>\r\n",
    "\r\n",
    "<a name=\"prop42\" id=\"prop42\"></a>\r\n",
    "\r\n",
    "Proof of Proposition 4.2:<br><br>\r\n",
    "\r\n",
    "Let <em>G</em> be a group of order <em>n</em>, and let <em>g</em> be a generator of <em>G</em>.  For clarity, we will let &middot; denote the group operation of G, and &lowast; denote the group operation of <em>Z<sub>n</sub></em>.  Since <em>g<sup>n</sup></em> = <em>e</em>, we have\r\n",
    "<p  style='text-align: center;'><em>G</em> = {<em>e</em> = <em>g</em><sup>0</sup>, <em>g</em><sup>1</sup>, <em>g</em><sup>2</sup>, <em>g</em><sup>3</sup>, &hellip;, \r\n",
    "<em>g</em><sup><em>n</em>&minus;1</sup>}.</p>\r\n",
    "Define <em>&fnof;</em>: <em>Z<sub>n</sub></em> &rarr; <em>G</em> by\r\n",
    "<p  style='text-align: center;'><em>&fnof;</em>(<em>x</em>) = <em>g<sup>x</sup></em>&emsp;(0 &le; <em>x</em> &le; <em>n</em> &minus; 1).</p>\r\n",
    "That is, <em>&fnof;</em> will map the elements of <em>Z<sub>n</sub></em> to elements of <em>G</em>.  Clearly <em>&fnof;</em> is one-to-one and onto, and we would like to show that it is \r\n",
    "an isomorphism.  Suppose <em>x</em> and <em>y</em> both satisfy <nobr>0 &le; <em>x</em>, <em>y</em> &le; <em>n </em>&minus; 1.</nobr><br>\r\n",
    "<br>\r\n",
    "\r\n",
    "We let <em>z</em> = <em>x</em> &lowast; <em>y</em> = (<em>x</em> + <em>y</em>) <strong>mod</strong> <em>n</em>.  Then we can find an <em>m</em> such that\r\n",
    "<em>x</em> + <em>y</em> = <em>m n</em> + <em>z</em>. \r\n",
    "Now, <em>&fnof;</em>(<em>x</em> &lowast; <em>y</em>) = <em>&fnof;</em>(<em>z</em>) = <em>g<sup>z</sup></em > by the definition of <em>&fnof;</em>.  Thus,\r\n",
    "<p  style='text-align: center;'><em>&fnof;</em>(<em>x</em> &lowast; <em>y</em>) = <em>g<sup>z</sup></em > = <em>g</em><sup>(<em>x</em>+<em>y</em>&minus;<em>m n</em>)</sup> = \r\n",
    "<em>g<sup>x</sup></em>&middot;<em>g<sup>y</sup></em>&middot;(<em>g<sup>n</sup></em>)<sup>&minus;<em>m</em></sup> = <em>g<sup>x</sup></em>&middot;<em>g<sup>y</sup></em> \r\n",
    "= <em>&fnof;</em>(<em>x</em>)&middot;<em>&fnof;</em>(<em>y</em>).</p>\r\n",
    "Since <em>&fnof;</em> is an isomorphism of <em>Z<sub>n</sub></em> onto <em>G</em>, we have <em>Z<sub>n</sub></em> &asymp; <em>G</em>.<br><br>\r\n",
    "\r\n",
    "<a href=\"#prop42ret\">Return to text</a>\r\n",
    "\r\n",
    "<br><br><br><br><br><br><br><br><br><br><br><br><br><br><br><br><br><br><br><br><br><br><br><br><br><br><br><br><br><br><br><br><br><br><br><br><br><br><br><br><br><br>\r\n",
    "\r\n",
    "<a name=\"lem41\" id=\"lem41\"></a>\r\n",
    "\r\n",
    "Proof of Lemma 4.1:<br><br>\r\n",
    "\r\n",
    "Since the order of <em>G</em> is greater than 2, there are two distinct elements <em>a</em> and <em>b</em> besides the identity element <em>e</em>.  Since these will have order 2, we have <nobr><em>a</em><sup>2</sup> = <em>b</em><sup>2</sup> = <em>e</em>.</nobr>  Consider the product <em>a</em>&middot;<em>b</em>.  It can be neither <em>a</em> \r\n",
    "nor <em>b</em> since this would imply the other was the identity.  On the other hand, <em>a</em>&middot;<em>b</em> = <em>e</em> implies that\r\n",
    "<p  style='text-align: center;'><em>a</em> = <em>a</em>&middot;<em>e</em> = <em>a</em>&middot;(<em>b</em>&middot;<em>b</em>) = \r\n",
    "(<em>a</em>&middot;<em>b</em>)&middot;<em>b</em> = <em>e</em>&middot;<em>b</em> = <em>b</em>.</p>\r\n",
    "So <em>a</em>&middot;<em>b</em> is not the identity either.  So there must be a fourth element in <em>G</em>, which we will call <em>c</em>, such that \r\n",
    "<em>a</em>&middot;<em>b</em> = <em>c</em>.  This element will also be of order 2, so we have <em>c</em><sup>2</sup> = <em>e</em>.<br><br>\r\n",
    "\r\n",
    "Finally, note that\r\n",
    "<p  style='text-align: center;'><em>b</em>&middot;<em>a</em> = <em>e</em>&middot;<em>b</em>&middot;<em>a</em>&middot;<em>e</em> = \r\n",
    "<em>a</em>&middot;<em>a</em>&middot;<em>b</em>&middot;<em>a</em>&middot;<em>b</em>&middot;<em>b</em> = \r\n",
    "<em>a</em>&middot;(<em>a</em>&middot;<em>b</em>)<sup>2</sup>&middot;<em>b</em> = \r\n",
    "<em>a</em>&middot;<em>c</em><sup>2</sup>&middot;<em>b</em> = <em>a</em>&middot;<em>e</em>&middot;<em>b</em> = <em>a</em>&middot;<em>b</em> = <em>c</em>.</p>\r\n",
    "With this result we can quickly find the remaining products involving <em>a</em>, <em>b</em>, and <em>c</em>.\r\n",
    "<p  style='text-align: center;'><em>c</em>&middot;<em>a</em> = <em>b</em>&middot;<em>a</em>&middot;<em>a</em> = <em>b</em>,&emsp;<em>c</em>&middot;<em>b</em> = \r\n",
    "<em>a</em>&middot;<em>b</em>&middot;<em>b</em> = <em>a</em>,&emsp;<em>a</em>&middot;<em>c</em> = <em>a</em>&middot;<em>a</em>&middot;<em>b</em> = <em>b</em>,&emsp;\r\n",
    "<em>b</em>&middot;<em>c</em> = <em>b</em>&middot;<em>b</em>&middot;<em>a</em> = <em>a</em>.</p>\r\n",
    "Hence, the set <em>H</em> = {<em>e</em>, <em>a</em>, <em>b</em>, <em>c</em>} is closed under multiplication, contains the identity, and also contains the inverses of \r\n",
    "every element in the set.  Hence, <em>H</em> is a subgroup of <em>G</em>.  The multiplication table for <em>H</em>\r\n",
    "</p><br><br>\r\n",
    "\r\n",
    "<table align = \"center\" width=\"150\" border=\"1\" style='text-align: center;'>\r\n",
    "  <tr>\r\n",
    "    <th width=\"30\" scope=\"col\">&middot;</th>\r\n",
    "    <th width=\"30\" scope=\"col\"><em>e</em></th>\r\n",
    "    <th width=\"30\" scope=\"col\"><em>a</em></th>\r\n",
    "    <th width=\"30\" scope=\"col\"><em>b</em></th>\r\n",
    "    <th width=\"30\" scope=\"col\"><em>c</em></th>\r\n",
    "  </tr>\r\n",
    "  <tr>\r\n",
    "    <th scope=\"row\"><em>e</em></th>\r\n",
    "    <td><em>e</em></td>\r\n",
    "    <td><em>a</em></td>\r\n",
    "    <td><em>b</em></td>\r\n",
    "    <td><em>c</em></td>\r\n",
    "  </tr>\r\n",
    "  <tr>\r\n",
    "    <th scope=\"row\"><em>a</em></th>\r\n",
    "    <td><em>a</em></td>\r\n",
    "    <td><em>e</em></td>\r\n",
    "    <td><em>c</em></td>\r\n",
    "    <td><em>b</em></td>\r\n",
    "  </tr>\r\n",
    "  <tr>\r\n",
    "    <th scope=\"row\"><em>b</em></th>\r\n",
    "    <td><em>b</em></td>\r\n",
    "    <td><em>c</em></td>\r\n",
    "    <td><em>e</em></td>\r\n",
    "    <td><em>a</em></td>\r\n",
    "  </tr>\r\n",
    "  <tr>\r\n",
    "    <th scope=\"row\"><em>c</em></th>\r\n",
    "    <td><em>c</em></td>\r\n",
    "    <td><em>b</em></td>\r\n",
    "    <td><em>a</em></td>\r\n",
    "    <td><em>e</em></td>\r\n",
    "  </tr>\r\n",
    "</table>\r\n",
    "\r\n",
    "<br>\r\n",
    "shows that this is isomorphic to <em>Z</em><sub>8</sub><sup>*</sup> using the mapping\r\n",
    "<p  style='text-align: center;'><em>&fnof;</em>(<em>e</em>) = 1,<br><em>&fnof;</em>(<em>a</em>) = 3,<br><em>&fnof;</em>(<em>b</em>) = 5,<br><em>&fnof;</em>(<em>c</em>) = 7.</p>\r\n",
    "<a href=\"#lem41ret\">Return to text</a>\r\n",
    "\r\n",
    "<br><br><br><br><br><br><br><br><br><br><br><br><br><br><br><br><br><br><br><br><br><br><br><br><br><br><br><br><br><br><br><br><br><br><br><br><br><br><br><br><br><br>\r\n",
    "\r\n",
    "<a name=\"prop43\" id=\"prop43\"></a>\r\n",
    "\r\n",
    "Proof of Proposition 4.3:<br><br>\r\n",
    "\r\n",
    "Since <em>e</em>&middot;<em>e</em> = <em>e</em> in the group <em>G</em>, we have\r\n",
    "<p  style='text-align: center;'><em>&fnof;</em>(<em>e</em>) = <em>&fnof;</em>(<em>e</em>&middot;<em>e</em>) = \r\n",
    "<em>&fnof;</em>(<em>e</em>)&middot;<em>&fnof;</em>(<em>e</em>).</p>\r\n",
    "Multiplying both sides by [<em>&fnof;</em>(<em>e</em>)]<sup>-1</sup></em> gives us that <em>&fnof;</em>(<em>e</em>) is the identity element of <em>M</em>.<br><br>\r\n",
    " \r\n",
    "<a href=\"#prop43ret\">Return to text</a>\r\n",
    " \r\n",
    "<br><br><br><br><br><br><br><br><br><br><br><br><br><br><br><br><br><br><br><br><br><br><br><br><br><br><br><br><br><br><br><br><br><br><br><br><br><br><br><br><br><br>\r\n",
    " \r\n",
    "<a name=\"prop44\" id=\"prop44\"></a>\r\n",
    "\r\n",
    "Proof of Proposition 4.4:<br><br>\r\n",
    " \r\n",
    "We merely need to show that <em>&fnof;</em>(<em>a</em>)&middot;<em>&fnof;</em>(<em>a</em><sup>-1</sup>) is the identity element of <em>M</em>.  If <em>e</em> represents \r\n",
    "the identity element of <em>G</em>, then\r\n",
    "<p  style='text-align: center;'><em>&fnof;</em>(<em>a</em>)&middot;<em>&fnof;</em>(<em>a</em><sup>-1</sup>) = <em>&fnof;</em>(<em>a</em>&middot;<em>a</em><sup>-1</sup>) = \r\n",
    "<em>&fnof;</em>(<em>e</em>)</p>\r\n",
    "By Proposition 4.3 this is the identity element of <em>M</em>.  So <em>&fnof;</em>(<em>a</em><sup>-1</sup>) = [<em>&fnof;</em>(<em>a</em>)]<sup>-1</sup>.<br><br>\r\n",
    " \r\n",
    "<a href=\"#prop44ret\">Return to text</a> \r\n",
    "\r\n",
    "<br><br><br><br><br><br><br><br><br><br><br><br><br><br><br><br><br><br><br><br><br><br><br><br><br><br><br><br><br><br><br><br><br><br><br><br><br><br><br><br><br><br>\r\n",
    " \r\n",
    "<a name=\"prop45\" id=\"prop45\"></a>\r\n",
    "\r\n",
    "Proof of Proposition 4.5:<br><br>\r\n",
    "\r\n",
    "We want to show that <em>&fnof;</em>(<em>H</em>) is a subgroup using Proposition 2.2.  If <em>u</em> and <em>v</em> are elements in \r\n",
    "<em>&fnof;</em>(<em>H</em>), there must be elements <em>x</em> and <em>y</em> in <em>H</em> such that\r\n",
    "<p  style='text-align: center;'><em>&fnof;</em>(<em>x</em>) = <em>u</em>, and <em>&fnof;</em>(<em>y</em>) = <em>v</em>.</p>\r\n",
    "Then <em>x</em>&middot;<em>y</em><sup>-1</sup> is in <em>H</em>, and so \r\n",
    "<p  style='text-align: center;'><em>&fnof;</em>(<em>x</em>&middot;<em>y</em><sup>-1</sup>) = <em>&fnof;</em>(<em>x</em>)&middot;<em>&fnof;</em>(<em>y</em><sup>-1</sup>) = \r\n",
    "<em>&fnof;</em>(<em>x</em>)&middot;[<em>&fnof;</em>(<em>y</em>)]<sup>-1</sup> = <em>u</em>&middot;<em>v</em><sup>-1</sup></p>\r\n",
    "is in <em>&fnof;</em>(<em>H</em>).  So by Proposition 2.2, <em>&fnof;</em>(<em>H</em>) is a subgroup of <em>M</em>.<br><br>\r\n",
    " \r\n",
    "<a href=\"#prop45ret\">Return to text</a> \r\n",
    "\r\n",
    "<br><br><br><br><br><br><br><br><br><br><br><br><br><br><br><br><br><br><br><br><br><br><br><br><br><br><br><br><br><br><br><br><br><br><br><br><br><br><br><br><br><br>\r\n",
    "  \r\n",
    "<a name=\"prop46\" id=\"prop46\"></a>\r\n",
    "\r\n",
    "Proof of Proposition 4.6:<br><br>  \r\n",
    "  \r\n",
    "First we need to show that the kernel of <em>&fnof;</em> is a subgroup of <em>G</em>.  If <em>e</em> is the identity element of <em>M</em>, and if <em>a</em> and \r\n",
    "<em>b</em> are two elements of Ker(<em>&fnof;</em>), then\r\n",
    "<p  style='text-align: center;'><em>&fnof;</em>(<em>a</em>&middot;<em>b</em><sup>-1</sup>) = <em>&fnof;</em>(<em>a</em>)&middot;<em>&fnof;</em>(<em>b</em>)<sup>-1</sup> = \r\n",
    "<em>e</em>&middot;<em>e</em><sup>-1</sup> = <em>e</em>.</p>\r\n",
    "so <em>a</em>&middot;<em>b</em><sup>-1</sup> is also in the kernel of <em>&fnof;</em>.  Thus, by Proposition 2.2, Ker(<em>&fnof;</em>) is a subgroup.<br><br>\r\n",
    "\r\n",
    "Now let us show that Ker(<em>&fnof;</em>) is a normal subgroup of <em>G</em>.  Let <em>a</em> be an element in Ker(<em>&fnof;</em>), and <em>g</em> be any element \r\n",
    "in <em>G</em>. Then by Proposition 3.4, since\r\n",
    "<p  style='text-align: center;'><em>&fnof;</em>(<em>g</em>&middot;<em>a</em>&middot;<em>g</em><sup>-1</sup>) = \r\n",
    "<em>&fnof;</em>(<em>g</em>)&middot;<em>&fnof;</em>(<em>a</em>)&middot;<em>&fnof;</em>(<em>g</em><sup>-1</sup>) = \r\n",
    "<em>&fnof;</em>(<em>g</em>)&middot;<em>e</em>&middot;<em>&fnof;</em>(<em>g</em>)<sup>-1</sup> = <em>e</em>,</p>\r\n",
    "<em>g</em>&middot;<em>a</em>&middot;<em>g</em><sup>-1</sup> is in Ker(<em>&fnof;</em>), and so Ker(<em>&fnof;</em>) is a normal subgroup.<br><br>\r\n",
    "  \r\n",
    "<a href=\"#prop46ret\">Return to text</a> \r\n",
    "  \r\n",
    "<br><br><br><br><br><br><br><br><br><br><br><br><br><br><br><br><br><br><br><br><br><br><br><br><br><br><br><br><br><br><br><br><br><br><br><br><br><br><br><br><br><br>\r\n",
    "  \r\n",
    "<a name=\"prop47\" id=\"prop47\"></a>\r\n",
    "\r\n",
    "Proof of Proposition 4.7:<br><br>  \r\n",
    " \r\n",
    "First let us consider an element <em>z</em> &isin; <em>x</em>&middot;Ker(<em>&fnof;</em>). Then <em>z</em> = <em>x</em>&middot;<em>k</em> for some element \r\n",
    "<em>k</em> in the kernel of <em>&fnof;</em>.  Therefore,\r\n",
    "<p  style='text-align: center;'><em>&fnof;</em>(<em>z</em>) = <em>&fnof;</em>(<em>x</em>&middot;<em>k</em>) = <em>&fnof;</em>(<em>x</em>)&middot;<em>&fnof;</em>(<em>k</em>) \r\n",
    "= <em>&fnof;</em>(<em>x</em>)&middot;<em>e</em> = <em>&fnof;</em>(<em>x</em>)</p>\r\n",
    "since <em>k</em> is in Ker(<em>&fnof;</em>).  Here, <em>e</em> is the identity element of <em>M</em>.  But <em>&fnof;</em>(<em>x</em>) = <em>y</em>, and so\r\n",
    "<em>z</em> &isin; <em>&fnof;</em><sup>&minus;1</sup>(<em>y</em>).   Thus we have proved that \r\n",
    "<p  style='text-align: center;'><em>&fnof;</em><sup>&minus;1</sup>(<em>y</em>) &sube; <em>x</em>&middot;Ker(<em>&fnof;</em>).</p> \r\n",
    "<br>\r\n",
    "To prove the inclusion the other way, note that if <em>z</em> &isin; <em>&fnof;</em><sup>&minus;1</sup>(<em>y</em>), then <em>&fnof;</em>(<em>z</em>) = <em>y</em>, and so we \r\n",
    "have\r\n",
    "<p  style='text-align: center;'><em>&fnof;</em>(<em>x</em><sup>-1</sup>&middot;<em>z</em>) = <em>&fnof;</em>(<em>x</em>)<sup>-1</sup>&middot;<em>&fnof;</em>(<em>z</em>) = \r\n",
    "<em>y</em><sup>-1</sup>&middot;<em>y</em> = <em>e</em>.</p>\r\n",
    "Thus, <em>x</em><sup>-1</sup>&middot;<em>z</em> is in the kernel of <em>&fnof;</em>, and since \r\n",
    "<em>z</em> = <em>x</em>&middot;(<em>x</em><sup>-1</sup>&middot;<em>z</em>) &isin; <em>x</em>&middot;Ker(<em>&fnof;</em>), we have\r\n",
    "<p  style='text-align: center;'><em>x</em>&middot;Ker(<em>&fnof;</em>) &sube; <em>&fnof;</em><sup>&minus;1</sup>(<em>y</em>).</p>\r\n",
    "  \r\n",
    "<a href=\"#prop47ret\">Return to text</a> \r\n",
    "  \r\n",
    "<br><br><br><br><br><br><br><br><br><br><br><br><br><br><br><br><br><br><br><br><br><br><br><br><br><br><br><br><br><br><br><br><br><br><br><br><br><br><br><br><br><br>\r\n",
    "  \r\n",
    "<a name=\"cor41\" id=\"cor41\"></a>\r\n",
    "\r\n",
    "Proof of Corollary 4.1:<br><br>  \r\n",
    "  \r\n",
    "If <em>&fnof;</em> is an injection, it is clear that the kernel would just be the identity element.  Suppose that the kernel is just the identity.  Then \r\n",
    "Proposition 4.7 states that if <em>h</em> is in the image of <em>&fnof;</em>, then <em>&fnof;</em><sup>&minus;1</sup>(<em>h</em>) consists of exactly one element.  \r\n",
    "Therefore, <em>&fnof;</em> is one-to-one.<br>\r\n",
    "<br>\r\n",
    "  \r\n",
    "<a href=\"#cor41ret\">Return to text</a>  \r\n",
    "  \r\n",
    "<br><br><br><br><br><br><br><br><br><br><br><br><br><br><br><br><br><br><br><br><br><br><br><br><br><br><br><br><br><br><br><br><br><br><br><br><br><br><br><br><br><br>\r\n",
    "  \r\n",
    "<a name=\"cor42\" id=\"cor42\"></a>\r\n",
    "\r\n",
    "Proof of Corollary 4.2:<br><br>   \r\n",
    "  \r\n",
    "Let <em>x</em> and <em>y</em> be in <em>&fnof;</em><sup>&minus;1</sup>(<em>H</em>). Then since <em>&fnof;</em>(<em>x</em>&middot;<em>y</em><sup>-1</sup>) = \r\n",
    "<em>&fnof;</em>(<em>x</em>)&middot;<em>&fnof;</em>(<em>y</em>)<sup>-1</sup>, which is in <em>H</em>, we have that <em>x</em>&middot;<em>y</em><sup>-1</sup> is in \r\n",
    "<em>&fnof;</em><sup>&minus;1</sup>(<em>H</em>). Thus, by Proposition 2.2, <em>&fnof;</em><sup>&minus;1</sup>(<em>H</em>) is a subgroup of <em>G</em>.<br>\r\n",
    "<br>\r\n",
    "\r\n",
    "Now suppose that <em>H</em> is a normal subgroup of <em>M</em>. Then if <em>y</em> is in <em>&fnof;</em><sup>&minus;1</sup>(<em>H</em>), and <em>g</em> is in <em>G</em>, then \r\n",
    "<em>&fnof;</em>(<em>g</em>&middot;<em>y</em>&middot;<em>g</em><sup>-1</sup>) = \r\n",
    "<em>&fnof;</em>(<em>g</em>)&middot;<em>&fnof;</em>(<em>y</em>)&middot;<em>&fnof;</em>(<em>g</em>)<sup>-1</sup>. Since <em>&fnof;</em>(<em>y</em>) is in <em>H</em>, \r\n",
    "which is normal in <em>M</em>, we have that <em>&fnof;</em>(<em>g</em>)&middot;<em>&fnof;</em>(<em>y</em>)&middot;<em>&fnof;</em>(<em>g</em>)<sup>-1</sup> is \r\n",
    "in <em>H</em>. Thus, <em>g</em>&middot;<em>y</em>&middot;<em>g</em><sup>-1</sup> is in <em>&fnof;</em><sup>&minus;1</sup>(<em>H</em>), and so by Proposition 3.4, \r\n",
    "<em>&fnof;</em><sup>&minus;1</sup>(<em>H</em>) is normal in <em>G</em>.<br>\r\n",
    "<br>\r\n",
    "  \r\n",
    "<a href=\"#cor42ret\">Return to text</a>    \r\n",
    "  \r\n",
    "<br><br><br><br><br><br><br><br><br><br><br><br><br><br><br><br><br><br><br><br><br><br><br><br><br><br><br><br><br><br><br><br><br><br><br><br><br><br><br><br><br><br>\r\n",
    "  \r\n",
    "<a name=\"theor41\" id=\"theor41\"></a>\r\n",
    "\r\n",
    "Proof of Theorem 4.1:<br><br>  \r\n",
    "  \r\n",
    "Note that this theorem states more than just <em>I</em> &asymp; <em>G</em>/<em>K</em>, but that there is a <em>natural</em> isomorphism between these two groups. \r\n",
    "This isomorphism is given by\r\n",
    "<p  style='text-align: center;'><em>&#981;</em>(<em>h</em>) = <em>&fnof;</em><sup>&minus;1</sup>(<em>h</em>).</p>\r\n",
    "<br>Proposition 4.7 states that whenever <em>h</em> is in the image of <em>&fnof;</em>, <em>&fnof;</em><sup>&minus;1</sup>(<em>h</em>) is a member of the quotient group \r\n",
    "<em>G</em>/Ker(<em>&fnof;</em>).  Thus, <em>&#981;</em>: <em>I</em> &rarr; <em>G</em>/<em>K</em> is properly defined.<br><br>\r\n",
    "\r\n",
    "Let us show that the mapping <em>&#981;</em> is one-to-one.  Suppose <em>&#981;</em>(<em>x</em>) = <em>&#981;</em>(<em>y</em>) for two different elements of \r\n",
    "<em>I</em>.  Then <em>&fnof;</em>(<em>&#981;</em>(<em>x</em>)) = <em>&fnof;</em>(<em>&#981;</em>(<em>y</em>)).  But <em>&fnof;</em>(<em>&#981;</em>(<em>x</em>)) =\r\n",
    "<em>&fnof;</em>(<em>&fnof;</em><sup>&minus;1</sup>(<em>x</em>)) is the set containing just the element <em>x</em>, and also <em>&fnof;</em>(<em>&#981;</em>(<em>y</em>)) is the \r\n",
    "set containing just the element <em>y</em>.  Thus, <em>x</em> = <em>y</em>, and we have shown that <em>&#981;</em> is one-to-one.<br><br>\r\n",
    "\r\n",
    "Now let us show that <em>&#981;</em> is onto.  If <em>x K</em> is an element of <em>G</em>/<em>K</em>, then <em>&fnof;</em>(<em>x</em>) &isin; <em>I</em>. Thus,\r\n",
    "<p  style='text-align: center;'><em>x</em> &isin; <em>&fnof;</em><sup>&minus;1</sup>(<em>&fnof;</em>(<em>x</em>)) = <em>&#981;</em>(<em>&fnof;</em>(<em>x</em>)) \r\n",
    "&isin; <em>G</em>/<em>K</em>.</p>\r\n",
    "So we have that <em>x</em> is an element of both cosets <em>x K</em> and <em>&#981;</em>(<em>&fnof;</em>(<em>x</em>)). Since two different cosets have no elements in \r\n",
    "common, we must have <em>&#981;</em>(<em>&fnof;</em>(<em>x</em>)) = <em>x K</em>.  We therefore have that any coset in <em>G</em>/<em>K</em> is mapped by <em>&#981;</em> \r\n",
    "from an element in <em>I</em>, so <em>&#981;</em> is onto.<br>\r\n",
    "<br>\r\n",
    "\r\n",
    "Finally, we want to show that <em>&#981;</em> is a homomorphism.  That is, we wish to show that\r\n",
    "<p  style='text-align: center;'><em>&fnof;</em><sup>&minus;1</sup>(<em>v</em>)&middot;<em>&fnof;</em><sup>&minus;1</sup>(<em>w</em>) = \r\n",
    "<em>&fnof;</em><sup>&minus;1</sup>(<em>v</em>&middot;<em>w</em>).</p>\r\n",
    "<br>Let <em>x</em> &isin; <em>&fnof;</em><sup>&minus;1</sup>(<em>v</em>) and <em>y</em> &isin; <em>&fnof;</em><sup>&minus;1</sup>(<em>w</em>).  Then \r\n",
    "<em>&fnof;</em>(<em>x</em>) = <em>v</em> and <em>&fnof;</em>(<em>y</em>) = <em>w</em>, so we have\r\n",
    "<p  style='text-align: center;'><em>&fnof;</em>(<em>x</em>&middot;<em>y</em>) = <em>&fnof;</em>(<em>x</em>)&middot;<em>&fnof;</em>(<em>y</em>) = \r\n",
    "<em>v</em>&middot;<em>w</em>.</p>\r\n",
    "Hence, <em>x</em>&middot;<em>y</em> &isin; <em>&fnof;</em><sup>&minus;1</sup>(<em>v</em>&middot;<em>w</em>). Since \r\n",
    "<em>&fnof;</em><sup>&minus;1</sup>(<em>v</em>)&middot;<em>&fnof;</em><sup>&minus;1</sup>(<em>w</em>) and <em>&fnof;</em><sup>&minus;1</sup>(<em>v</em>&middot;<em>w</em>) are two cosets in \r\n",
    "<em>G</em>/<em>K</em>, and both contain the element <em>x</em>&middot;<em>y</em>, they must be the same coset.  So we have that\r\n",
    "<p  style='text-align: center;'><em>&#981;</em>(<em>v</em>)&middot;<em>&#981;</em>(<em>w</em>) = <em>&#981;</em>(<em>v</em>&middot;<em>w</em>).</p> \r\n",
    "  \r\n",
    "<a href=\"#theor41ret\">Return to text</a>   \r\n",
    "\r\n",
    "<br><br><br><br><br><br><br><br><br><br><br><br><br><br><br><br><br><br><br><br><br><br><br><br><br><br><br><br><br><br><br><br><br><br><br><br><br><br><br><br><br><br>\r\n",
    "  \r\n",
    "<a name=\"prop48\" id=\"prop48\"></a>\r\n",
    "\r\n",
    "Proof of Proposition 4.8:<br><br>    \r\n",
    "  \r\n",
    "To show that <em>i<sub>N</sub></em> is a homomorphism, we note that if <em>a</em> and <em>b</em> are elements of <em>G</em>, then\r\n",
    "<p  style='text-align: center;'><em>i<sub>N</sub></em>(<em>a</em>&middot;<em>b</em>) = <em>a</em>&middot;<em>b</em>&middot;<em>N</em> = \r\n",
    "<em>a</em>&middot;<em>N</em>&middot;<em>b</em>&middot;<em>N</em> = <em>i<sub>N</sub></em>(<em>a</em>)&middot;<em>i<sub>N</sub></em>(<em>b</em>).</p>\r\n",
    "Also, <em>i<sub>N</sub></em> is clearly surjective.  To find the kernel of <em>i<sub>N</sub></em>, we note that the identity element of <em>G</em>/<em>N</em> is\r\n",
    "<em>e N</em> = <em>N</em>, and so <em>x</em> is in the kernel if, and only if,\r\n",
    "<p  style='text-align: center;'><em>i<sub>N</sub></em>(<em>x</em>) = <em>N</em> &#10234; <em>x N</em> = <em>N</em> &#10234; <em>x</em> &isin; <em>N</em>.</p>\r\n",
    "Therefore, the kernel of <em>i<sub>N</sub></em> is <em>N</em>.<br><br> \r\n",
    "  \r\n",
    "<a href=\"#prop48ret\">Return to text</a> \r\n",
    "\r\n",
    "<br><br><br><br><br><br><br><br><br><br><br><br><br><br><br><br><br><br><br><br><br><br><br><br><br><br><br><br><br><br><br><br><br><br><br><br><br><br><br><br><br><br>\r\n",
    "\r\n",
    "<a name=\"lem42\" id=\"lem42\"></a>\r\n",
    "\r\n",
    "Proof of Lemma 4.2:<br><br>\r\n",
    "\r\n",
    "First suppose that <em>H</em>&middot;<em>K</em> is a subgroup.  Let <em>h</em> &isin; <em>H</em> and <em>k</em> &isin; <em>K</em>.<br><br>\r\n",
    "We wish to show that the element <em>h</em>&middot;<em>k</em> in <em>H</em>&middot;<em>K</em> is also in <em>K</em>&middot;<em>H</em>.  Since <em>H</em>&middot;<em>K</em> \r\n",
    "is a subgroup, (<em>h</em>&middot;<em>k</em>)<sup>-1</sup> is in <em>H</em>&middot;<em>K</em>.  Thus, (<em>h</em>&middot;<em>k</em>)<sup>-1</sup> = \r\n",
    "<em>x</em>&middot;<em>y</em> for some <em>x</em> &isin; <em>H</em> and <em>y</em> &isin; <em>K</em>. But then, <em>h</em>&middot;<em>k</em> = \r\n",
    "(<em>x</em>&middot;<em>y</em>)<sup>-1</sup> = <em>y</em><sup>-1</sup>&middot;<em>x</em><sup>-1</sup>, and <em>y</em><sup>-1</sup>&middot;<em>x</em><sup>-1</sup>\r\n",
    "is in <em>K</em>&middot;<em>H</em>.  Thus,\r\n",
    "<p  style='text-align: center;'><em>H</em>&middot;<em>K</em> &sube; <em>K</em>&middot;<em>H</em>.</p>\r\n",
    "By a similar argument, the inverse of any element in <em>K</em>&middot;<em>H</em> must be in <em>H</em>&middot;<em>K</em>, and so \r\n",
    "<em>K</em>&middot;<em>H</em> &sube; <em>H</em>&middot;<em>K</em>. Therefore, we have <em>H</em>&middot;<em>K</em> = <em>K</em>&middot;<em>H</em>.<br><br>\r\n",
    "\r\n",
    "Now, let us suppose that <em>H</em>&middot;<em>K</em> = <em>K</em>&middot;<em>H</em>.  We want to show that <em>H</em>&middot;<em>K</em> is a subgroup. Let\r\n",
    "<p  style='text-align: center;'><em>h</em><sub>1</sub>, <em>h</em><sub>2</sub> &isin; <em>H</em>, and <em>k</em><sub>1</sub>, <em>k</em><sub>2</sub> &isin; <em>K</em></p>\r\n",
    "so both <em>h</em><sub>1</sub>&middot;<em>k</em><sub>1</sub> and <em>h</em><sub>2</sub>&middot;<em>k</em><sub>2</sub> are elements of <em>H</em>&middot;<em>K</em>. \r\n",
    "By Proposition 2.2, it is enough to show that \r\n",
    "<em>h</em><sub>1</sub>&middot;<em>k</em><sub>1</sub>&middot;(<em>h</em><sub>2</sub>&middot;<em>k</em><sub>2</sub>)<sup>-1</sup> is in <em>H</em>&middot;<em>K</em>. \r\n",
    "But (<em>k</em><sub>1</sub>&middot;<em>k</em><sub>2</sub><sup>-1</sup>)&middot;<em>h</em><sub>2</sub><sup>-1</sup> is in \r\n",
    "<em>K</em>&middot;<em>H</em> = <em>H</em>&middot;<em>K</em>, and so there must be two elements\r\n",
    "<p  style='text-align: center;'><em>h</em><sub>3</sub> &isin; <em>H</em>, and <em>k</em><sub>3</sub> &isin; <em>K</em></p>\r\n",
    "such that (<em>k</em><sub>1</sub>&middot;<em>k</em><sub>2</sub><sup>-1</sup>)&middot;<em>h</em><sub>2</sub><sup>-1</sup> = \r\n",
    "<em>h</em><sub>3</sub>&middot;<em>k</em><sub>3</sub>.  Then we have\r\n",
    "<p  style='text-align: center;'><em>h</em><sub>1</sub>&middot;<em>k</em><sub>1</sub>&middot;(<em>h</em><sub>2</sub>&middot;<em>k</em><sub>2</sub>)<sup>-1</sup> =\r\n",
    "<em>h</em><sub>1</sub>&middot;(<em>k</em><sub>1</sub>&middot;<em>k</em><sub>2</sub><sup>-1</sup>)&middot;<em>h</em><sub>2</sub><sup>-1</sup> =\r\n",
    "(<em>h</em><sub>1</sub>&middot;<em>h</em><sub>3</sub>)&middot;<em>k</em><sub>3</sub></p>\r\n",
    "which is in <em>H</em>&middot;<em>K</em>.  Thus, <em>H</em>&middot;<em>K</em> is a subgroup if, and only if, <em>H</em>&middot;<em>K</em> = \r\n",
    "<em>K</em>&middot;<em>H</em>.<br><br>\r\n",
    " \r\n",
    "<a href=\"#lem42ret\">Return to text</a>\r\n",
    "\r\n",
    "<br><br><br><br><br><br><br><br><br><br><br><br><br><br><br><br><br><br><br><br><br><br><br><br><br><br><br><br><br><br><br><br><br><br><br><br><br><br><br><br><br><br>\r\n",
    " \r\n",
    "<a name=\"lem43\" id=\"lem43\"></a>\r\n",
    "\r\n",
    "Proof of Lemma 4.3:<br><br>\r\n",
    "\r\n",
    "If <em>h</em> &isin; <em>H</em> and <em>n</em> &isin; <em>N</em>, then <em>h</em>&middot;<em>n</em>&middot;<em>h</em><sup>-1</sup> is in <em>N</em>, since <em>N</em> \r\n",
    "is normal.  Then\r\n",
    "<p  style='text-align: center;'><em>h</em>&middot;<em>n</em> = (<em>h</em>&middot;<em>n</em>&middot;<em>h</em><sup>-1</sup>)&middot;<em>h</em></p>\r\n",
    "is in <em>N</em>&middot;<em>H</em>.  Thus, <em>H</em>&middot;<em>N</em> &sube; <em>N</em>&middot;<em>H</em>.<br><br>\r\n",
    "\r\n",
    "By a similar argument <em>N</em>&middot;<em>H</em> &sube; <em>H</em>&middot;<em>N</em>, so <em>H</em>&middot;<em>N</em> = <em>N</em>&middot;<em>H</em>.\r\n",
    "Therefore, <em>H</em>&middot;<em>N</em> is a group by Lemma 4.2.<br>\r\n",
    "<br>\r\n",
    "\r\n",
    "<a href=\"#lem43ret\">Return to text</a>\r\n",
    "\r\n",
    "<br><br><br><br><br><br><br><br><br><br><br><br><br><br><br><br><br><br><br><br><br><br><br><br><br><br><br><br><br><br><br><br><br><br><br><br><br><br><br><br><br><br>\r\n",
    "  \r\n",
    "<a name=\"lem44\" id=\"lem44\"></a>\r\n",
    "\r\n",
    "Proof of Lemma 4.4:<br><br>\r\n",
    "\r\n",
    "Since <em>N</em> is a group, and is contained in <em>H</em>, <em>N</em> is a subgroup of <em>H</em>.  For any <em>x</em> in <em>H</em>, we have that\r\n",
    "<p  style='text-align: center;'><em>x</em>&middot;<em>N</em>&middot;<em>x</em><sup>-1</sup> = <em>N</em></p>\r\n",
    "since <em>x</em> is also in <em>G</em>.  Therefore, by Proposition 3.4, <em>N</em> is a normal subgroup of <em>H</em>.<br><br>\r\n",
    "\r\n",
    "<a href=\"#lem44ret\">Return to text</a>\r\n",
    "\r\n",
    "<br><br><br><br><br><br><br><br><br><br><br><br><br><br><br><br><br><br><br><br><br><br><br><br><br><br><br><br><br><br><br><br><br><br><br><br><br><br><br><br><br><br>\r\n",
    "\r\n",
    "<a name=\"lem45\" id=\"lem45\"></a>\r\n",
    "\r\n",
    "Proof of Lemma 4.5:<br><br>\r\n",
    "\r\n",
    "Given elements <em>h</em> &isin; <em>H</em> and <em>x</em> &isin; <em>H</em> &cap; <em>N</em>, we note that since <em>x</em> is in <em>N</em> which is a normal subgroup \r\n",
    "of <em>G</em>, <em>h</em>&middot;<em>x</em>&middot;<em>h</em><sup>-1</sup> is in <em>N</em>.  Also, <em>x</em> is in <em>H</em>, so \r\n",
    "<em>h</em>&middot;<em>x</em>&middot;<em>h</em><sup>-1</sup> is in <em>H</em>. Thus, \r\n",
    "<p  style='text-align: center;'><em>h</em>&middot;<em>x</em>&middot;<em>h</em><sup>-1</sup> &isin; <em>H</em> &cap; <em>N</em></p>\r\n",
    "and so by Proposition 3.4, the intersection is a normal subgroup of <em>H</em>.<br>\r\n",
    "<br>\r\n",
    "\r\n",
    "<a href=\"#lem45ret\">Return to text</a>\r\n",
    "\r\n",
    "<br><br><br><br><br><br><br><br><br><br><br><br><br><br><br><br><br><br><br><br><br><br><br><br><br><br><br><br><br><br><br><br><br><br><br><br><br><br><br><br><br><br>\r\n",
    "\r\n",
    "<a name=\"theor42\" id=\"theor42\"></a>\r\n",
    "\r\n",
    "Proof of Theorem 4.2:<br>\r\n",
    "<br>  \r\n",
    "\r\n",
    "By Lemma 4.3, <em>H</em>&middot;<em>N</em> is a subgroup, and by Lemma 4.4, <em>N</em> is a normal subgroup of <em>H</em>&middot;<em>N</em>. Also, by Lemma 4.5, \r\n",
    "<em>H</em> &cap; <em>N</em> is a normal subgroup of <em>H</em>, and so both of the quotient groups are defined.<br><br>\r\n",
    "\r\n",
    "We will use the two homomorphisms\r\n",
    "<p  style='text-align: center;'><em>i</em>: <em>H</em> &rarr; <em>H</em>&middot;<em>N</em><br>\r\n",
    "<em>&fnof;</em>: <em>H</em>&middot;<em>N</em> &rarr; (<em>H</em>&middot;<em>N</em>)/<em>N</em></p>\r\n",
    "where <em>i</em> is the identity mapping <em>i</em>(<em>h</em>) = <em>h</em>, and <em>&fnof;</em> is the canonical homomorphism.<br><br>\r\n",
    "\r\n",
    "We can now consider the combination of the two,\r\n",
    "<p  style='text-align: center;'><em>&fnof;</em>(<em>i</em>(<em>x</em>)): <em>H</em> &rarr; (<em>H</em>&middot;<em>N</em>)/<em>N</em>.</p>\r\n",
    "Let us call the composition function <em>&psi;</em>(<em>h</em>) = <em>f</em>(<em>i</em>(<em>h</em>)).  We want to find the kernel of <em>&psi;</em>, for then we \r\n",
    "can use the first isomorphism theorem (4.1).  If we let <em>e</em> denote the identity element of \r\n",
    "(<em>H</em>&middot;<em>N</em>)/<em>N</em>, then\r\n",
    "<p  style='text-align: center;'><em>h</em> &isin; \r\n",
    "Ker(<em>&psi;</em>)&emsp;&#10234;&emsp;<em>&fnof;</em>(<em>i</em>(<em>h</em>)) = <em>e</em>&emsp;&#10234;&emsp;<em>i</em>(<em>h</em>) &isin; \r\n",
    "Ker(<em>&fnof;</em>) = <em>N</em>&emsp;&#10234;&emsp;<em>h</em> &isin; <em>N</em> and <em>h</em> &isin; <em>H</em>&emsp;&#10234;&emsp;<em>h</em> &isin; \r\n",
    "<em>H</em> &cap; <em>N</em>.</p>\r\n",
    "So by the first isomorphism theorem (4.1), we have\r\n",
    "<p  style='text-align: center;'>(<em>H</em>&middot;<em>N</em>)/<em>N</em> &asymp; \r\n",
    "<em>H</em>/(<em>H</em> &cap; <em>N</em>).</p>\r\n",
    "\r\n",
    "<a href=\"#theor42ret\">Return to text</a>\r\n",
    "\r\n",
    "<br><br><br><br><br><br><br><br><br><br><br><br><br><br><br><br><br><br><br><br><br><br><br><br><br><br><br><br><br><br><br><br><br><br><br><br><br><br><br><br><br><br>\r\n",
    "\r\n",
    "<a name=\"prop49\" id=\"prop49\"></a>\r\n",
    "\r\n",
    "Proof of Proposition 4.9:<br><br> \r\n",
    "\r\n",
    "Even though <em>H</em>&middot;<em>K</em> is not a group, it still makes sense to consider the set of left cosets (<em>H</em>&middot;<em>K</em>)/<em>K</em>.  \r\n",
    "A typical left coset belonging to (<em>H</em>&middot;<em>K</em>)/<em>K</em> would be <em>h</em>&middot;<em>k</em>&middot;<em>K</em>, where <em>h</em> is an element \r\n",
    "of <em>H</em>, and <em>k</em> is an element of <em>K</em>.  Note that since <em>k</em>&middot;<em>K</em> = <em>K</em>, this simplifies to <em>h</em>&middot;<em>K</em>.\r\n",
    "By Lemma 3.1, all cosets contain |<em>K</em>| elements, and by Lemma 3.2 two cosets would intersect if, \r\n",
    "and only if, they are equal.  Thus the elements of <em>H</em>&middot;<em>K</em> are distributed into non-overlapping cosets, each having |<em>K</em>| elements.\r\n",
    "Thus, the number of cosets in (<em>H</em>&middot;<em>K</em>)/<em>K</em> is<br><br> \r\n",
    "<table align=\"center\" border=\"0\" cellspacing=\"0\" cellpadding=\"0\">\r\n",
    "  <tr>\r\n",
    "    <td rowspan = \"2\" align=\"right\"><nobr>|(<em>H</em>&middot;<em>K</em>)/<em>K</em>| =&ensp;</nobr></td>\r\n",
    "    <td height=\"33\" valign=\"bottom\"><font style=\"text-decoration:underline\">| <em>H</em>&middot;<em>K</em> |</font></td>\r\n",
    "    <td rowspan = \"2\" align=\"right\">.</td>\r\n",
    "  </tr>\r\n",
    "  <tr>\r\n",
    "     <td valign=\"top\" align=\"center\">&ensp;| <em>K</em> |</td>\r\n",
    "  </tr>\r\n",
    "</table>\r\n",
    "<br>\r\n",
    "Likewise, we have\r\n",
    "<table align=\"center\" border=\"0\" cellspacing=\"0\" cellpadding=\"0\">\r\n",
    "  <tr>\r\n",
    "    <td rowspan = \"2\" align=\"right\">|<em>H</em>/(<em>H</em>&cap;<em>K</em>)| =&ensp;</td>\r\n",
    "    <td height=\"33\" valign=\"bottom\"><font style=\"text-decoration:underline\">&ensp;&emsp;| <em>H</em> |&emsp;&ensp;</font></td>\r\n",
    "    <td rowspan = \"2\" align=\"right\">.</td>\r\n",
    "  </tr>\r\n",
    "  <tr>\r\n",
    "     <td valign=\"top\" align=\"center\">&ensp;| <em>H</em> &cap; <em>K</em> |</td>\r\n",
    "  </tr>\r\n",
    "</table>\r\n",
    "<br>\r\n",
    "Thus, if we can show that |<em>H</em>/(<em>H</em>&cap;<em>K</em>)| = |(<em>H</em>&middot;<em>K</em>)/<em>K</em>|, we will have proven the proposition.<br><br>\r\n",
    "\r\n",
    "Let us define a mapping (not a homomorphism) that will relate the elements of these two sets.  Let\r\n",
    "<p  style='text-align: center;'><em>&#981;</em> : (<em>H</em>&middot;<em>K</em>)/<em>K</em> &rarr; <em>H</em>/(<em>H</em>&cap;<em>K</em>)</p>\r\n",
    "be defined by \r\n",
    "<p  style='text-align: center;'><em>&#981;</em>(<em>h</em>&middot;<em>K</em>) = <em>h</em>&middot;(<em>H</em>&cap;<em>K</em>).</p>\r\n",
    "To see that this is well defined, note that if <em>h</em><sub>1</sub>&middot;<em>K</em> = <em>h</em><sub>2</sub>&middot;<em>K</em> for two elements <em>h</em><sub>1</sub> \r\n",
    "and <em>h</em><sub>2</sub> in <em>H</em>, then <em>h</em><sub>2</sub><sup>-1</sup>&middot;<em>h</em><sub>1</sub>&middot;<em>K</em> = \r\n",
    "<em>K</em>, so <em>h</em><sub>2</sub><sup>-1</sup>&middot;<em>h</em><sub>1</sub> must be in <em>K</em>.  But \r\n",
    "<em>h</em><sub>2</sub><sup>-1</sup>&middot;<em>h</em><sub>1</sub> is also in <em>H</em>, hence in the intersection.  Thus,\r\n",
    "<p  style='text-align: center;'><em>h</em><sub>2</sub>&middot;(<em>H</em>&cap;<em>K</em>) = \r\n",
    "<em>h</em><sub>2</sub>&middot;(<em>h</em><sub>2</sub><sup>-1</sup>&middot;<em>h</em><sub>1</sub>)&middot;(<em>H</em>&cap;<em>K</em>) = \r\n",
    "<em>h</em><sub>1</sub>&middot;(<em>H</em>&cap;<em>K</em>).</p>\r\n",
    "So we see that if <em>h</em><sub>1</sub>&middot;<em>K</em> = <em>h</em><sub>2</sub>&middot;<em>K</em>, then <em>&#981;</em>(<em>h</em><sub>1</sub>&middot;K) = \r\n",
    "<em>&#981;</em>(<em>h</em><sub>2</sub>&middot;K), and the function <em>&#981;</em> is well defined.<br><br>\r\n",
    "\r\n",
    "On the other hand, if <em>h</em><sub>1</sub>&middot;(<em>H</em>&cap;<em>K</em>) = <em>h</em><sub>2</sub>&middot;(<em>H</em>&cap;<em>K</em>), then \r\n",
    "<em>h</em><sub>2</sub><sup>-1</sup>&middot;<em>h</em><sub>1</sub> would have to be in the intersection of <em>H</em> and <em>K</em>.  So then, \r\n",
    "<em>h</em><sub>1</sub>&middot;<em>K</em> = <em>h</em><sub>2</sub>&middot;<em>K</em>.  Hence the mapping is one-to-one.  It is clear that the mapping is also \r\n",
    "surjective, so <em>&#981;</em> is a bijection, and the proposition is proved.<br><br>\r\n",
    "  \r\n",
    "<a href=\"#prop49ret\">Return to text</a>\r\n",
    "\r\n",
    "<br><br><br><br><br><br><br><br><br><br><br><br><br><br><br><br><br><br><br><br><br><br><br><br><br><br><br><br><br><br><br><br><br><br><br><br><br><br><br><br><br><br>\r\n",
    "\r\n",
    "<a name=\"lem46\" id=\"lem46\"></a>\r\n",
    "\r\n",
    "Proof of Lemma 4.6:<br><br>\r\n",
    "\r\n",
    "From Lemma 4.4, <em>N</em> is a normal subgroup of <em>H</em>.  A typical element of <em>G</em>/<em>N</em> is <em>g N</em>, where <em>g</em> is an element of <em>G</em>.\r\n",
    "A typical element of <em>H</em>/<em>N</em> is <em>h N</em>, where <em>h</em> is an element of <em>H</em>.  Thus, <em>H</em>/<em>N</em> is contained in \r\n",
    "<em>G</em>/<em>N</em>, and so <em>H</em>/<em>N</em> is a subgroup of <em>G</em>/<em>N</em>.<br><br>\r\n",
    "\r\n",
    "To show that <em>H</em>/<em>N</em> is in fact a normal subgroup of <em>G</em>/<em>N</em>, we will use Proposition 3.4.  That is, we will see if\r\n",
    "<p  style='text-align: center;'>(<em>g N</em>)&middot;(<em>h N</em>)&middot;(<em>g N</em>)<sup>-1</sup></p>\r\n",
    "will always be in <em>H</em>/<em>N</em>.  But this simplifies to (<em>g</em>&middot;<em>h</em>&middot;<em>g</em><sup>-1</sup>)&middot;<em>N</em>, and \r\n",
    "<em>g</em>&middot;<em>h</em>&middot;<em>g</em><sup>-1</sup> is in <em>H</em> since <em>H</em> is a normal subgroup of <em>G</em>.  Therefore, \r\n",
    "(<em>g</em>&middot;<em>h</em>&middot;<em>g</em><sup>-1</sup>)&middot;<em>N</em> is in <em>H</em>/<em>N</em>, and hence <em>H</em>/<em>N</em> is a normal subgroup \r\n",
    "of <em>G</em>/<em>N</em>.<br><br>\r\n",
    "\r\n",
    "<a href=\"#lem46ret\">Return to text</a>\r\n",
    "\r\n",
    "<br><br><br><br><br><br><br><br><br><br><br><br><br><br><br><br><br><br><br><br><br><br><br><br><br><br><br><br><br><br><br><br><br><br><br><br><br><br><br><br><br><br>\r\n",
    "\r\n",
    "<a name=\"theor43\" id=\"theor43\"></a>\r\n",
    "\r\n",
    "Proof of Theorem 4.3:<br><br>  \r\n",
    "\r\n",
    "We will use the example to guide us in finding a mapping from (<em>G</em>/<em>N</em>)/(<em>H</em>/<em>N</em>) to a set of elements in <em>G</em>.  We have a canonical \r\n",
    "mapping from <em>G</em> to <em>G</em>/<em>N</em>, and another canonical mapping from <em>G</em>/<em>N</em> to (<em>G</em>/<em>N</em>)/(<em>H</em>/<em>N</em>).  \r\n",
    "Let us call these mappings <em>&#981;</em> and <em>&fnof;</em>, respectively.<br><br>  \r\n",
    "\r\n",
    "For an element <em>x</em> in <em>G</em>, the composition homomorphism <em>&fnof;</em>(<em>&#981;</em>(<em>x</em>)) gives the element of \r\n",
    "(<em>G</em>/<em>N</em>)/(<em>H</em>/<em>N</em>) which contains <em>x</em> somewhere inside of it.  Let us call this composition homomorphism <em>&psi;</em>.  \r\n",
    "Since <em>&fnof;</em> and <em>&#981;</em> are both surjective, \r\n",
    "the composition <em>&psi;</em>(<em>x</em>) = <em>&fnof;</em>(<em>&#981;</em>(<em>x</em>)) is surjective.  Thus, the inverse of this homomorphism, \r\n",
    "<nobr><em>&psi;</em><sup>-1</sup>(<em>y</em>)</nobr>, gives a list of elements of <em>G</em> that are somewhere inside of the element <em>y</em>.  \r\n",
    "This inverse is the mapping that removes the interior brackets.  We only need to check that this is in fact a coset of <em>G</em>/<em>H</em>.  \r\n",
    "Let us determine the kernel of the composition homomorphism <em>&psi;</em>(<em>x</em>).<br><br>\r\n",
    "\r\n",
    "Note that <em>x</em> if is in <em>G</em>, and <em>e</em> is the identity element of (<em>G</em>/<em>N</em>)/(<em>H</em>/<em>N</em>), then \r\n",
    "<p  style='text-align: center;'><em>x</em> &isin; Ker(<em>&psi;</em>) &#10234; <em>&fnof;</em>(<em>&#981;</em>(<em>x</em>)) = <em>e</em><br>\r\n",
    "&#10234; <em>&#981;</em>(<em>x</em>) &isin; Ker(<em>&fnof;</em>) = <em>H</em>/<em>N</em><br>\r\n",
    "&#10234; <em>x</em> &isin; <em>&#981;</em><sup>-1</sup>(<em>H</em>/<em>N</em>) = <em>H</em>.</p>\r\n",
    "Therefore, the kernel of the composition <em>&psi;</em> is <em>H</em>, and so from the first isomorphism theorem (4.1), \r\n",
    "<p  style='text-align: center;'>(<em>G</em>/<em>N</em>)/(<em>H</em>/<em>N</em>) &asymp; <em>G</em>/<em>H</em>.</p>\r\n",
    "\r\n",
    "<a href=\"#theor43ret\">Return to text</a>\r\n",
    "\r\n",
    "<br><br><br><br><br><br><br><br><br><br><br><br><br><br><br><br><br><br><br><br><br><br><br><br><br><br><br><br><br><br><br><br><br><br><br><br><br><br><br><br><br><br>\r\n",
    "  \r\n",
    "<a name=\"sec4p\" id=\"sec4p\"></a>\r\n",
    "<h1><em>Sage</em> Interactive Problems</h1>\r\n",
    "\r\n",
    "<br>\r\n",
    "&sect;4.1 #18)<br>\r\n",
    "Prove that there are exactly two non-isomorphic groups of order 10. Find these two groups, and have <em>Sage</em> produce the multiplication tables.<br><br>\r\n",
    " \r\n",
    "(Hint: Follow the logic for <em>n</em> = 6.)<br>"
   ]
  },
  {
   "cell_type": "markdown",
   "metadata": {
    "collapsed": false
   },
   "source": [
    "<br>\r\n",
    "For Problems 19 through 21:  Each of the following groups is of order 8.  Which of the known five groups \r\n",
    "<p  style='text-align: center;'>( <em>Z</em><sub>8</sub>, <em>Z</em><sub>24</sub><sup>*</sup>, <em>Z</em><sub>15</sub><sup>*</sup>, <em>D</em><sub>4</sub>, or \r\n",
    "<em>Q</em> )</p>\r\n",
    "is each of these isomorphic to?  First have <em>Sage</em> display a table of the new group, and then rearrange the elements of one of the five known groups so that the \r\n",
    "color pattens in the two tables are identical.<br><br>\r\n",
    "\r\n",
    "&sect;4.1 #19) <em>Z</em><sub>16</sub><sup>*</sup><br>"
   ]
  },
  {
   "cell_type": "markdown",
   "metadata": {
    "collapsed": false
   },
   "source": [
    "<br>\r\n",
    "&sect;4.1 #20) <em>Z</em><sub>20</sub><sup>*</sup><br>"
   ]
  },
  {
   "cell_type": "markdown",
   "metadata": {
    "collapsed": false
   },
   "source": [
    "<br>\r\n",
    "&sect;4.1 #21) <em>Z</em><sub>30</sub><sup>*</sup><br>"
   ]
  },
  {
   "cell_type": "markdown",
   "metadata": {
    "collapsed": false
   },
   "source": [
    "<br>\r\n",
    "&sect;4.2 #19)<br>\r\n",
    "Define Terry's group in <em>Sage</em> with <br>the command<br>"
   ]
  },
  {
   "cell_type": "code",
   "execution_count": 0,
   "metadata": {
    "collapsed": false
   },
   "outputs": [
   ],
   "source": [
    "Terry = InitTerry()"
   ]
  },
  {
   "cell_type": "markdown",
   "metadata": {
    "collapsed": false
   },
   "source": [
    "<br>\r\n",
    "and then define the group <em>S</em><sub>3</sub>.<br>"
   ]
  },
  {
   "cell_type": "code",
   "execution_count": 0,
   "metadata": {
    "collapsed": false
   },
   "outputs": [
   ],
   "source": [
    "InitGroup(\"e\")\r\n",
    "AddGroupVar(\"a\", \"b\")\r\n",
    "Define(a^2, e)\r\n",
    "Define(b^3, e)\r\n",
    "Define(b*a, a*b^2)\r\n",
    "S3 = ListGroup()"
   ]
  },
  {
   "cell_type": "markdown",
   "metadata": {
    "collapsed": false
   },
   "source": [
    "<br>\r\n",
    "Now define an isomorphism <strong>F</strong> from <em>S</em><sub>3</sub> to Terry's group. Use <em>Sage</em>'s <strong>FinishHomo</strong> command to verify that \r\n",
    "your function is a homomorphism.  Finally, find the kernal of <strong>F</strong> to prove that <strong>F</strong> is an isomorphism.<br>"
   ]
  },
  {
   "cell_type": "markdown",
   "metadata": {
    "collapsed": false
   },
   "source": [
    "<br>\r\n",
    "&sect;4.2 #20)<br>\r\n",
    "Use <em>Sage</em> to find all of the homomorphisms from <em>S</em><sub>3</sub> to itself. Label these homomorphisms <strong>F1</strong>, \r\n",
    "<strong>F2</strong>, <strong>F3</strong>, etc. How many of these are isomorphisms?  The following loads the group <em>S</em><sub>3</sub> into\r\n",
    "<em>Sage</em>.<br>"
   ]
  },
  {
   "cell_type": "code",
   "execution_count": 0,
   "metadata": {
    "collapsed": false
   },
   "outputs": [
   ],
   "source": [
    "InitGroup(\"e\")\r\n",
    "AddGroupVar(\"a\", \"b\")\r\n",
    "Define(a^2, e)\r\n",
    "Define(b^3, e)\r\n",
    "Define(b*a, a*b^2)\r\n",
    "S3 = ListGroup()"
   ]
  },
  {
   "cell_type": "markdown",
   "metadata": {
    "collapsed": false
   },
   "source": [
    "<br>\r\n",
    "&sect;4.3 #19)<br>\r\n",
    "Use <em>Sage</em> to find a non-trivial homomorphism from the octahedral group to <em>Q</em>.<br><br> \r\n",
    "(Hint:  According to the first isomorphism theorem, what could the image be?)<br>"
   ]
  },
  {
   "cell_type": "markdown",
   "metadata": {
    "collapsed": false
   },
   "source": [
    "<br>\r\n",
    "&sect;4.3 #20)<br>\r\n",
    "Use <em>Sage</em> to find a non-trivial homomorphism from the octahedral group onto <em>S</em><sub>3</sub>.<br><br>\r\n",
    "(Hint:  Use the first isomorphism theorem to determine what the kernel must be.)<br>"
   ]
  },
  {
   "cell_type": "markdown",
   "metadata": {
    "collapsed": false
   },
   "source": [
    "</font>\r\n",
    "\r\n",
    "</body>\r\n",
    "\r\n",
    "</html>"
   ]
  }
 ],
 "metadata": {
  "kernelspec": {
   "display_name": "SageMath (stable)",
   "name": "sagemath"
  },
  "language_info": {
   "codemirror_mode": {
    "name": "ipython",
    "version": 2
   },
   "file_extension": ".py",
   "mimetype": "text/x-python",
   "name": "python",
   "nbconvert_exporter": "python",
   "pygments_lexer": "ipython2",
   "version": "2.7.14"
  }
 },
 "nbformat": 4,
 "nbformat_minor": 0
}