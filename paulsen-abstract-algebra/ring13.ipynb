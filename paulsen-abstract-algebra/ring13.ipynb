{
 "cells": [
  {
   "cell_type": "markdown",
   "metadata": {
    "collapsed": false
   },
   "source": [
    "<!-- Ring13 -->\n",
    "<html>\n",
    "<body>\n",
    "\n",
    "<!-- To make the size of the font bigger for presentations, change the following command from +1 to +2 -->\n",
    "<font size=\"+1\">\n",
    "\n",
    "<p style='font-size: 36px;font-family: Arial;font-style: italic;font-weight: bold;color: #FF00FF;background-color: #80FFFF;text-align: center;'>\n",
    "Abstract Algebra: An Interactive Approach, 2e\n",
    "</p>\n",
    "\n",
    "<p style='font-family: Geneva;font-style: italic;color: #0000FF;background-color: #FFFFFF;'>\n",
    "&copy;2015 This notebook is provided with the textbook, &quot;Abstract Algebra: An Interactive Approach, 2nd Ed.&quot; by William Paulsen. Users of this notebook are encouraged to buy the textbook.\n",
    "</p>\n",
    "\n",
    "\n",
    "\n",
    "<p style='font-size: 36px;font-family: New York;font-weight: bold;color: #000000;background-color: #FFFFFF;text-align: center;border: 1px;border-style: \n",
    "solid;border-color: #000000;'>\n",
    "Chapter 13<br>\n",
    "Finite Division Rings\n",
    "</p>\n",
    "\n",
    "\n",
    "<p style='text-align: center;'>Initialization:  This cell MUST be evaluated first:</p>"
   ]
  },
  {
   "cell_type": "code",
   "execution_count": 0,
   "metadata": {
    "collapsed": false
   },
   "outputs": [
   ],
   "source": [
    "%display latex\n",
    "try:\n",
    "    load('absalgtext.sage')\n",
    "except IOError:\n",
    "    load('/media/sf_sage/absalgtext.sage')"
   ]
  },
  {
   "cell_type": "markdown",
   "metadata": {
    "collapsed": false
   },
   "source": [
    "<br>\r\n",
    "<a href=\"#sec131\">Entering Finite Fields in <em>Sage</em></a><br>\r\n",
    "<a href=\"#sec132\">Properties of Finite Fields</a><br>\r\n",
    "<a href=\"#sec133\">Cyclotomic Polynomials</a><br>\r\n",
    "<a href=\"#sec134\">Finite Skew Fields</a><br>\r\n",
    "<a href=\"#sec13p\"><em>Sage</em> Interactive Problems</a><br>\r\n",
    "\r\n",
    "<a name=\"sec131\" id=\"sec131\"></a>\r\n",
    "<h1>Entering Finite Fields in <em>Sage</em></h1>\r\n",
    "\r\n",
    "<br>\r\n",
    "In this section we will experiment with finite fields using <em>Sage</em>.  Although we have seen how integral domains can be entered into <em>Sage</em>, fields \r\n",
    "have additional properties that allow for shortcuts in this process.  In fact, we will find that any finite field can be defined in <em>Sage</em> with only 3 \r\n",
    "commands.<br><br>\r\n",
    "\r\n",
    "We have already seen several examples of finite fields.  The first example was the discovery that whenever <em>p</em> is prime, the ring <em>Z<sub>p</sub></em> forms a \r\n",
    "field with <em>p</em> elements.  In chapter 3 we found another example of a finite field&mdash;the &quot;complex numbers modulo 3.&quot;  This ring was defined \r\n",
    "in <em>Sage</em> with the commands<br>"
   ]
  },
  {
   "cell_type": "code",
   "execution_count": 0,
   "metadata": {
    "collapsed": false
   },
   "outputs": [
   ],
   "source": [
    "InitDomain(3)\r\n",
    "AddFieldVar(\"i\")\r\n",
    "Define(i^2, -1)\r\n",
    "K = ListField(); K"
   ]
  },
  {
   "cell_type": "markdown",
   "metadata": {
    "collapsed": false
   },
   "source": [
    "<br>\r\n",
    "The multiplication table<br>"
   ]
  },
  {
   "cell_type": "code",
   "execution_count": 0,
   "metadata": {
    "collapsed": false
   },
   "outputs": [
   ],
   "source": [
    "MultTable(K)"
   ]
  },
  {
   "cell_type": "markdown",
   "metadata": {
    "collapsed": false
   },
   "source": [
    "<br>\r\n",
    "reveals the fact that this ring is indeed a field of order 9.<br><br>\r\n",
    "\r\n",
    "EXAMPLE:<br>\r\n",
    "Find a connection between the field <em>K</em> and the polynomials in <em>Z</em><sub>3</sub>[<em>x</em>].<br><br>\r\n",
    "\r\n",
    "We will restart with <em>Z</em><sub>3</sub>, and form a polynomial.<br>"
   ]
  },
  {
   "cell_type": "code",
   "execution_count": 0,
   "metadata": {
    "collapsed": false
   },
   "outputs": [
   ],
   "source": [
    "InitDomain(3,\"x\")\r\n",
    "A = (2*x^2 + x + 1)*(2*x + 1); A"
   ]
  },
  {
   "cell_type": "markdown",
   "metadata": {
    "collapsed": false
   },
   "source": [
    "<br>\r\n",
    "Since the variable <em>x</em> was defined with the field definition, we can factor the polynomial <em>A</em> over this field:<br>"
   ]
  },
  {
   "cell_type": "code",
   "execution_count": 0,
   "metadata": {
    "collapsed": false
   },
   "outputs": [
   ],
   "source": [
    "factor(A)"
   ]
  },
  {
   "cell_type": "markdown",
   "metadata": {
    "collapsed": false
   },
   "source": [
    "<br>\r\n",
    "This factorization isn't exactly the same as the original product which produced <em>A</em>, but we know from Corollary 12.5 that <em>Z</em><sub>3</sub>[<em>x</em>] is \r\n",
    "a unique factorization domain.  Therefore, these factors must be associates of the original factorization.  Can you see which pairs of factors are associates?<br><br>\r\n",
    "\r\n",
    "EXPERIMENT:<br>\r\n",
    "By replacing the polynomial <em>A</em> in the last command with various second degree polynomials, determine all second degree polynomials \r\n",
    "in <em>Z</em><sub>3</sub>[<em>x</em>] which are irreducible.  For simplicity, assume that the coefficient of the <em>x</em><sup>2</sup> term is 1, so there will be \r\n",
    "only 9 polynomials to check.  (The polynomials beginning with 2<em>x</em><sup>2</sup> will, of course, be associates of the polynomials you find.) Is there one \r\n",
    "irreducible polynomial that seems to have a relationship with the &quot;complex numbers modulo three&quot;?<br>"
   ]
  },
  {
   "cell_type": "markdown",
   "metadata": {
    "collapsed": false
   },
   "source": [
    "<br>\r\n",
    "We have hinted that the field of complex numbers modulo 3 are related to <em>Z</em><sub>3</sub>[<em>x</em>].  How so? Each element of <em>K</em> can be thought of \r\n",
    "as evaluating some polynomial in <em>Z</em><sub>3</sub>[<em>x</em>] at <em>x</em> = <em>i</em>.  Even though <em>i</em> is not an element of <em>Z</em><sub>3</sub>, we \r\n",
    "can consider any polynomial in <em>Z</em><sub>3</sub>[<em>x</em>] as being also a polynomial in <em>K</em>[<em>x</em>].<br><br>\r\n",
    "\r\n",
    "This suggests that we should use the evaluation homomorphism\r\n",
    "<p style='text-align: center;'><em>&#981;<sub>i</sub></em> : <em>K</em>[<em>x</em>] &rarr; <em>K</em>.</p>\r\n",
    "However, we can restrict this homomorphism to apply only to polynomials in <em>Z</em><sub>3</sub>[<em>x</em>]\r\n",
    "<p style='text-align: center;'><em>&#981;<sub>i</sub></em>&prime; : <em>Z</em><sub>3</sub>[<em>x</em>] &rarr; <em>K</em>.</p>\r\n",
    "The image will still be all of <em>K</em>, since <em>&#981;</em>(<em>x</em>) = <em>i</em>.  The kernel of this homomorphism will consist of all polynomials \r\n",
    "in <em>Z</em><sub>3</sub>[<em>x</em>] that yield 0 when evaluated at <em>x</em> = <em>i</em>.  For example, <em>x</em><sup>2</sup> + 1 is in the kernel, as are all \r\n",
    "multiples of <em>x</em><sup>2</sup> + 1. In fact, if <em>f</em>(<em>x</em>) is an element of the kernel, then gcd(<em>f</em>(<em>x</em>), <em>x</em><sup>2</sup> + 1) must \r\n",
    "be in the kernel, and <em>x</em><sup>2</sup> + 1 is irreducible in <em>Z</em><sub>3</sub>[<em>x</em>], as we found in the experiment.  Thus, the kernel must be precisely \r\n",
    "the multiples of <em>x</em><sup>2</sup> + 1.  This ideal can be described as &lang;<em>x</em><sup>2</sup> + 1&rang;, the ideal generated by <em>x</em><sup>2</sup> + 1.<br><br>\r\n",
    "\r\n",
    "By the first ring isomorphism theorem (10.2), we now have that\r\n",
    "<p style='text-align: center;'><em>K</em> &asymp; <em>Z</em><sub>3</sub>[<em>x</em>]/&lang;<em>x</em><sup>2</sup> + 1&rang;</p>\r\n",
    "since the field <em>K</em> is the image of the homomorphism <em>&#981;<sub>i</sub></em>&prime;.<br><br>\r\n",
    "\r\n",
    "EXAMPLE:<br>\r\n",
    "Find a field of order 25.<br><br>\r\n",
    "\r\n",
    "Recall that we tried to form a field by extending <em>Z</em><sub>5</sub> by an element <em>i</em>, \r\n",
    "where <em>i</em><sup>2</sup> = &minus;1.  However, we failed to produce a field, since the ring had zero divisors. We succeeded in producing the ring\r\n",
    "<p style='text-align: center;'><em>K</em> &asymp; <em>Z</em><sub>5</sub>[<em>x</em>]/&lang;<em>x</em><sup>2</sup> + 1&rang;</p>\r\n",
    "but <em>x</em><sup>2</sup> + 1 factors in <em>Z</em><sub>5</sub>[<em>x</em>]: (<em>x</em> + 2)&middot;(<em>x</em> + 3).  This factorization apparently causes the \r\n",
    "zero divisors to appear in the quotient ring.  Perhaps we should try using a polynomial that is irreducible in <em>Z</em><sub>5</sub>[<em>x</em>].  We first \r\n",
    "define <em>Z</em><sub>5</sub> in <em>Sage</em>.<br>"
   ]
  },
  {
   "cell_type": "code",
   "execution_count": 0,
   "metadata": {
    "collapsed": false
   },
   "outputs": [
   ],
   "source": [
    "InitDomain(5,\"x\")\r\n",
    "Z5 = ListField(); Z5"
   ]
  },
  {
   "cell_type": "markdown",
   "metadata": {
    "collapsed": false
   },
   "source": [
    "<br>\r\n",
    "Next, we find a polynomial that is irreducible in <em>Z</em><sub>5</sub>.  There are several to choose from, but let us try the following:<br>"
   ]
  },
  {
   "cell_type": "code",
   "execution_count": 0,
   "metadata": {
    "collapsed": false
   },
   "outputs": [
   ],
   "source": [
    "factor(x^2 + 2*x + 3)"
   ]
  },
  {
   "cell_type": "markdown",
   "metadata": {
    "collapsed": false
   },
   "source": [
    "<br>\r\n",
    "This shows that the polynomial <em>x</em><sup>2</sup> + 2<em>x</em> + 3 is irreducible in the field <em>Z</em><sub>5</sub>.<br><br>\r\n",
    "\r\n",
    "EXPERIMENT:<br>\r\n",
    "Can you change the 3 in the polynomial to find another number to find a different irreducible polynomial?<br>"
   ]
  },
  {
   "cell_type": "markdown",
   "metadata": {
    "collapsed": false
   },
   "source": [
    "<br>\r\n",
    "Let us see if we can find a field for which <em>x</em><sup>2</sup> + 2<em>x</em> + 3 has a root.  We will denote denote one of the roots by the letter <em>w</em>.  Then it \r\n",
    "is clear that\r\n",
    "<p style='text-align: center;'><em>w</em><sup>2</sup> = &minus;2 <em>w</em> &minus; 3.</p>\r\n",
    "Let us define an element <em>w</em> such that <em>w</em><sup>2</sup> = &minus;2 <em>w</em> &minus; 3 in <em>Sage</em>.<br>"
   ]
  },
  {
   "cell_type": "code",
   "execution_count": 0,
   "metadata": {
    "collapsed": false
   },
   "outputs": [
   ],
   "source": [
    "AddFieldVar(\"w\")\r\n",
    "Define(w^2, -2*w - 3)"
   ]
  },
  {
   "cell_type": "markdown",
   "metadata": {
    "collapsed": false
   },
   "source": [
    "<br>\r\n",
    "<em>Sage</em> can now determine other powers of <em>w</em>.<br>"
   ]
  },
  {
   "cell_type": "code",
   "execution_count": 0,
   "metadata": {
    "collapsed": false
   },
   "outputs": [
   ],
   "source": [
    "w^3"
   ]
  },
  {
   "cell_type": "markdown",
   "metadata": {
    "collapsed": false
   },
   "source": [
    "<br>\r\n",
    "How did <em>Sage</em> compute this?  Note that\r\n",
    "<p style='text-align: center;'><em>w</em><sup>3</sup> = <em>w</em>&middot;<em>w</em><sup>2</sup> = <em>w</em>&middot;(&minus;2 <em>w</em> &minus; 3) = \r\n",
    "&minus;2 <em>w</em><sup>2</sup> &minus; 3 <em>w</em> = &minus;2(&minus;2 <em>w</em> &minus; 3) - 3 <em>w</em> = (4 <em>w</em> + 6) &minus; 3 <em>w</em> = <em>w</em> + 6.</p>\r\n",
    "This then simplifies to <em>w</em> + 1 in <em>Z</em><sub>5</sub>.  In fact, <em>Sage</em> can list the elements in this ring.<br>"
   ]
  },
  {
   "cell_type": "code",
   "execution_count": 0,
   "metadata": {
    "collapsed": false
   },
   "outputs": [
   ],
   "source": [
    "H = ListField(); H"
   ]
  },
  {
   "cell_type": "markdown",
   "metadata": {
    "collapsed": false
   },
   "source": [
    "<br>\r\n",
    "The length of this ring is<br>"
   ]
  },
  {
   "cell_type": "code",
   "execution_count": 0,
   "metadata": {
    "collapsed": false
   },
   "outputs": [
   ],
   "source": [
    "len(H)"
   ]
  },
  {
   "cell_type": "markdown",
   "metadata": {
    "collapsed": false
   },
   "source": [
    "<br>\r\n",
    "which is still small enough for us to look at a multiplication table.<br>"
   ]
  },
  {
   "cell_type": "code",
   "execution_count": 0,
   "metadata": {
    "collapsed": false
   },
   "outputs": [
   ],
   "source": [
    "MultTable(H)"
   ]
  },
  {
   "cell_type": "markdown",
   "metadata": {
    "collapsed": false
   },
   "source": [
    "<br>\r\n",
    "Look carefully.  You'll see there are no zero divisors in this ring.  So this ring is a field.  The fact that <em>Sage</em> was able to construct this ring through \r\n",
    "the <strong>Define</strong> command verifies that this is indeed a field.<br><br>\r\n",
    "\r\n",
    "How would we describe this field?  As in the case of <em>Z</em><sub>3</sub>[<em>x</em>]/&lang;<em>x</em><sup>2</sup> + 1&rang;, we can consider every element of <em>H</em> as \r\n",
    "a polynomial of <em>Z</em><sub>5</sub>[<em>x</em>] for which <em>x</em> was replaced by <em>w</em>.  That is, we consider the evaluation homomorphism\r\n",
    "<p style='text-align: center;'><em>&#981;<sub>w</sub></em> : <em>H</em>[<em>x</em>] &rarr; <em>H</em>.</p>\r\n",
    "However, we can restrict this homomorphism to apply only to polynomials in <em>Z</em><sub>5</sub>[<em>x</em>]:\r\n",
    "<p style='text-align: center;'><em>&#981;<sub>w</sub></em>&prime; : <em>Z</em><sub>5</sub>[<em>x</em>] &rarr; <em>H</em>.</p>\r\n",
    "The kernal of this homomorphism is &lang;<em>x</em><sup>2</sup> + 2 <em>x</em> + 3&rang;, and the image is certainly all of <em>K</em>.  So by the first ring isomorphism \r\n",
    "theorem (10.2), we have\r\n",
    "<p style='text-align: center;'><em>H</em> &asymp; <em>Z</em><sub>5</sub>[<em>x</em>]/&lang;<em>x</em><sup>2</sup> + 2 <em>x</em> + 3&rang;.</p>\r\n",
    "Thus we have found a way to form fields out of polynomial rings.\r\n",
    "\r\n",
    "<p />\r\n",
    "<a name=\"prop131ret\" id=\"prop131ret\"></a>\r\n",
    "PROPOSITION 13.1<br>\r\n",
    "Let <em>K</em> be a field, and let <em>f</em>(<em>x</em>) be an irreducible polynomial of <em>K</em>[<em>x</em>]. Then \r\n",
    "<em>K</em>[<em>x</em>]/&lang;<em>f</em>(<em>x</em>)&rang; is \r\n",
    "a field that contains <em>K</em> as a subfield.<br><br>\r\n",
    "\r\n",
    "<a href=\"#prop131\">Click here for the proof.</a>\r\n",
    "\r\n",
    "<p />\r\n",
    "DEFINITION 13.1<br>\r\n",
    "The field formed in Proposition 13.1 is called the <em>extension field of K through the irreducible polynomial f</em>(<em>x</em>).<br><br>\r\n",
    "\r\n",
    "EXAMPLE:<br>\r\n",
    "Repeat the process for a <em>third degree</em> polynomial in <em>Z</em><sub>3</sub>[<em>x</em>] that is irreducible.<br>"
   ]
  },
  {
   "cell_type": "code",
   "execution_count": 0,
   "metadata": {
    "collapsed": false
   },
   "outputs": [
   ],
   "source": [
    "InitDomain(3,\"x\")\r\n",
    "Z3 = ListField(); Z3"
   ]
  },
  {
   "cell_type": "markdown",
   "metadata": {
    "collapsed": false
   },
   "source": [
    "<br>\r\n",
    "The only way to find such a polynomial is by trial and error. Let us try the following polynomial:<br>"
   ]
  },
  {
   "cell_type": "code",
   "execution_count": 0,
   "metadata": {
    "collapsed": false
   },
   "outputs": [
   ],
   "source": [
    "factor(x^3 + x^2 + x + 1)"
   ]
  },
  {
   "cell_type": "markdown",
   "metadata": {
    "collapsed": false
   },
   "source": [
    "<br>\r\n",
    "Unfortunately, this polynomial does reduce in <em>Z</em><sub>3</sub>[<em>x</em>].<br><br>\r\n",
    "\r\n",
    "EXPERIMENT:<br>\r\n",
    "Try changing one or more of the coefficients so that the resulting polynomial is irreducible.  Leave the <em>x</em><sup>3</sup> term as it is.  There is more than \r\n",
    "one solution.<br>"
   ]
  },
  {
   "cell_type": "markdown",
   "metadata": {
    "collapsed": false
   },
   "source": [
    "<br>\r\n",
    "Once we have found an irreducible polynomial of degree three, we are ready to define a new field.  We will let <em>a</em> be one of the zeros of the polynomial, and we \r\n",
    "will solve for <em>a</em><sup>3</sup>.  That is, for the polynomial \r\n",
    "<p style='text-align: center;'><em>x</em><sup>3</sup> + <em>x</em><sup>2</sup> + <em>x</em> + 1,</p>\r\n",
    "we would let\r\n",
    "<p style='text-align: center;'><em>a</em><sup>3</sup> = &minus;<em>a</em><sup>2</sup> &minus; <em>a</em> &minus; 1.</p>\r\n",
    "EXPERIMENT:<br>\r\n",
    "\r\n",
    "Determine what <em>a</em><sup>3</sup> would be using <em>your</em> polynomial which you found from the last experiment.  Fill in the space with the answer, and execute it \r\n",
    "to produce a multiplication table, and verification that your ring is a field.<br>"
   ]
  },
  {
   "cell_type": "code",
   "execution_count": 0,
   "metadata": {
    "collapsed": false
   },
   "outputs": [
   ],
   "source": [
    "AddFieldVar(\"a\")\r\n",
    "Define(a^3,         )\r\n",
    "R = ListField()\r\n",
    "R"
   ]
  },
  {
   "cell_type": "code",
   "execution_count": 0,
   "metadata": {
    "collapsed": false
   },
   "outputs": [
   ],
   "source": [
    "MultTable(R)"
   ]
  },
  {
   "cell_type": "markdown",
   "metadata": {
    "collapsed": false
   },
   "source": [
    "<br>\r\n",
    "Note that since the irreducible polynomial was a cubic, the elements of the field sometimes had to be expressed in terms of <em>a</em><sup>2</sup>.  This is why the basis \r\n",
    "for this ring was {1, <em>a</em>, <em>a</em><sup>2</sup>}.  In general, of the degree of the polynomial is <em>d</em>, then the basis of the ring will be\r\n",
    "<p style='text-align: center;'>{1, <em>a</em>, <em>a</em><sup>2</sup>, <em>a</em><sup>3</sup>, &hellip; <em>a</em><sup><em>d</em>&minus;1</sup>}.</p>\r\n",
    "Thus, in the above example there were 3<sup>3</sup> = 27 elements.  It is not hard to prove the following generalization.\r\n",
    "\r\n",
    "<p />\r\n",
    "<a name=\"prop132ret\" id=\"prop132ret\"></a>\r\n",
    "PROPOSITION 13.2<br>\r\n",
    "Let <em>p</em> be a prime number, and let <em>A</em>(<em>x</em>) be an irreducible polynomial in <em>Z<sub>p</sub></em>[<em>x</em>] of degree <em>d</em>.  Then the \r\n",
    "field\r\n",
    "<p style='text-align: center;'><em>K</em> = <em>Z<sub>p</sub></em>[<em>x</em>]/&lang;<em>A</em>(<em>x</em>)&rang;</p>\r\n",
    "has order <em>p<sup>d</sup></em>.<br><br>\r\n",
    "\r\n",
    "<a href=\"#prop132\">Click here for the proof.</a>\r\n",
    "\r\n",
    "<p />\r\n",
    "EXPERIMENT:<br>\r\n",
    "\r\n",
    "In the above experiment, you created a field <em>R</em> for which an irreducible polynomial in <em>Z</em><sub>3</sub> now has a zero.  Let us verify that this \r\n",
    "polynomial factors over the new field.  Replace the polynomial in the command below with <em>your</em> polynomial from above, and execute.<br>"
   ]
  },
  {
   "cell_type": "code",
   "execution_count": 0,
   "metadata": {
    "collapsed": false
   },
   "outputs": [
   ],
   "source": [
    "factor(x^3 + x^2 + x + 1)"
   ]
  },
  {
   "cell_type": "markdown",
   "metadata": {
    "collapsed": false
   },
   "source": [
    "<br>\r\n",
    "How many zeros does this cubic have over <em>R</em>?<br>"
   ]
  },
  {
   "cell_type": "markdown",
   "metadata": {
    "collapsed": false
   },
   "source": [
    "<br>\r\n",
    "Whenever a finite field is defined by an extension through an irreducible polynomial, the order of the field will be a power of a prime.  We would like to show that \r\n",
    "<em>all</em> finite fields are produced in this way.  So naturally we begin by showing that all finite fields have an order that is a power of a prime number.\r\n",
    "\r\n",
    "<p />\r\n",
    "<a name=\"prop133ret\" id=\"prop133ret\"></a>\r\n",
    "PROPOSITION 13.3<br>\r\n",
    "Suppose <em>K</em> is a finite division ring.  Then |<em>K</em>| = <em>p<sup>n</sup></em> for some prime <em>p</em> and some integer <em>n</em>.<br><br> \r\n",
    "\r\n",
    "<a href=\"#prop133\">Click here for the proof.</a>\r\n",
    "\r\n",
    "<p />\r\n",
    "According to this proposition, it is impossible to find a field of order 6.   However, it is still possible to find a field of order 4.   Let us see if we can find \r\n",
    "one.   Since a field of order 4 must have characteristic 2, let us begin by loading <em>Z</em><sub>2</sub>.<br>"
   ]
  },
  {
   "cell_type": "code",
   "execution_count": 0,
   "metadata": {
    "collapsed": false
   },
   "outputs": [
   ],
   "source": [
    "InitDomain(2,\"x\")\r\n",
    "Z2 = ListField()\r\n",
    "Z2"
   ]
  },
  {
   "cell_type": "markdown",
   "metadata": {
    "collapsed": false
   },
   "source": [
    "<br>\r\n",
    "Now let us try to find a second degree irreducible polynomial in <em>Z</em><sub>2</sub>.<br>"
   ]
  },
  {
   "cell_type": "code",
   "execution_count": 0,
   "metadata": {
    "collapsed": false
   },
   "outputs": [
   ],
   "source": [
    "factor(x^2 + 1)"
   ]
  },
  {
   "cell_type": "markdown",
   "metadata": {
    "collapsed": false
   },
   "source": [
    "<br>\r\n",
    "This polynomial factored, and in fact, has a double root.<br><br>\r\n",
    "\r\n",
    "EXPERIMENT:<br>\r\n",
    "Change the polynomial <em>x</em><sup>2</sup> + 1 in the above statement to find a second degree irreducible polynomial.  Once this is found, use a define command to \r\n",
    "define the element <em>a</em> to be a root of this polynomial.  Find the ring generated by <em>a</em>, and display a multiplication table of this ring to verify that \r\n",
    "it is a field.<br>"
   ]
  },
  {
   "cell_type": "markdown",
   "metadata": {
    "collapsed": false
   },
   "source": [
    "<br>\r\n",
    "As we see from this example, it is fairly easy to enter finite groups into <em>Sage</em>, as long as they can be expressed as an extension \r\n",
    "field of <em>Z<sub>p</sub></em> through some irreducible polynomial of <em>Z<sub>p</sub></em>[<em>x</em>].  In the next section, we will show that all finite fields \r\n",
    "can be obtained in this way.  In fact, our goal will be to clasify <em>all</em> finite fields.<br><br>\r\n",
    "\r\n",
    "<a name=\"sec132\" id=\"sec132\"></a>\r\n",
    "<h1>Properties of Finite Fields</h1>\r\n",
    "\r\n",
    "<br>\r\n",
    "In the last example we starting looking at examples of finite fields.  In this section we want to explore the properties that all finite fields have in common.  In \r\n",
    "the process, we will discover that there aren't as many finite fields as one would expect.<br><br>\r\n",
    "\r\n",
    "We begin by observing that if <em>F</em> is a finite field, that the multiplicative group <em>F</em><sup>*</sup> must be a finite abelian group.  The natural question \r\n",
    "one would ask is &quot;which abelian group is <em>F</em><sup>*</sup>?&quot;  If the field is of order <em>p<sup>n</sup></em>, the group <em>F</em><sup>*</sup> has \r\n",
    "order <em>p<sup>n</sup></em> &minus; 1.  From the fundemental theroem on abelian groups, the possible groups of order <em>p<sup>n</sup></em> &minus; 1 is \r\n",
    "limited.  Perhaps by experimenting, we can get a clue as to which abelian group of order <em>p<sup>n</sup></em> &minus; 1 is produced.<br><br>\r\n",
    "\r\n",
    "EXPERIMENT:<br>\r\n",
    "Reload the field of &quot;complex numbers modulo 3&quot;. <br>"
   ]
  },
  {
   "cell_type": "code",
   "execution_count": 0,
   "metadata": {
    "collapsed": false
   },
   "outputs": [
   ],
   "source": [
    "InitDomain(3)\r\n",
    "AddFieldVar(\"i\")\r\n",
    "Define(i^2, -1)\r\n",
    "K = ListField()\r\n",
    "MultTable(K)"
   ]
  },
  {
   "cell_type": "markdown",
   "metadata": {
    "collapsed": false
   },
   "source": [
    "<br>\r\n",
    "Study the multiplication table, and determine which of the three groups\r\n",
    "<p style='text-align: center;'><em>Z</em><sub>8</sub>,&emsp;<em>Z</em><sub>2</sub> &times; <em>Z</em><sub>4</sub>,&ensp;or&ensp;<em>Z</em><sub>2</sub> &times; \r\n",
    "<em>Z</em><sub>2</sub> &times; <em>Z</em><sub>2</sub>,</p>\r\n",
    "is formed by <em>K</em><sup>*</sup>.<br>"
   ]
  },
  {
   "cell_type": "markdown",
   "metadata": {
    "collapsed": false
   },
   "source": [
    "<br>\r\n",
    "We can find the multiplicative group for some of the other finite fields that we found in the last section very easily.  For example, the field of order 4 has \r\n",
    "a multiplicative group of order 3, so this group must be <em>Z</em><sub>3</sub>.<br><br>\r\n",
    "\r\n",
    "On the other hand, the field of order 27 must have a group of order 26 as its multiplicative group. By the fundemental theorem of abelian groups, there is only one \r\n",
    "such group: <em>Z</em><sub>26</sub>.  So in all of the cases we have explored, the multiplicative group of a finite field turns out to be cyclic.  Let us see if we can prove \r\n",
    "this pattern continues using the fundemental theorem of abelian groups.\r\n",
    "\r\n",
    "<p />\r\n",
    "<a name=\"prop134ret\" id=\"prop134ret\"></a>\r\n",
    "PROPOSITION 13.4<br>\r\n",
    "If <em>F</em> is a finite field, then the multiplicative group <em>F</em><sup>*</sup> is a cyclic group.<br><br>\r\n",
    "\r\n",
    "<a href=\"#prop134\">Click here for the proof.</a>\r\n",
    "\r\n",
    "<p />\r\n",
    "Now that the multiplicative group is completely understood for a finite field, let us turn our attention to the group of automorphisms on the field.  We have previously \r\n",
    "seen examples where the group of automorphisms gave us insight into the structure of a ring, and finite fields are no exception.  We begin by proving some basic lemmas \r\n",
    "in number theory.\r\n",
    "\r\n",
    "<p />\r\n",
    "<a name=\"lem131ret\" id=\"lem131ret\"></a>\r\n",
    "LEMMA 13.1<br>\r\n",
    "If <em>p</em> is a prime, then <em>n&thinsp;<sup>p</sup></em> &equiv; <em>n</em> (mod <em>p</em>) for all integers <em>n</em>.<br><br>\r\n",
    "\r\n",
    "<a href=\"#lem131\">Click here for the proof.</a>\r\n",
    "\r\n",
    "<p />\r\n",
    "The next lemma starts to reveal the automorphism we are looking for.\r\n",
    "\r\n",
    "<p />\r\n",
    "<a name=\"lem132ret\" id=\"lem132ret\"></a>\r\n",
    "LEMMA 13.2<br>\r\n",
    "If <em>F</em> is a field of characteristic <em>p</em>, then for all <em>g</em> &isin; <em>F</em>, the polynomial\r\n",
    "<p style='text-align: center;'><em>f</em>(<em>x</em>) = (<em>x</em> + <em>g</em>)<sup><em>p</em></sup> &minus; <em>x<sup>p</sup></em> &minus; <em>g<sup>p</sup></em></p>\r\n",
    "is the zero polynomial in <em>F</em>[<em>x</em>].<br><br>\r\n",
    "\r\n",
    "<a href=\"#lem132\">Click here for the proof.</a>\r\n",
    "\r\n",
    "<p />\r\n",
    "We are now ready to produce one automorphism on a finite field, which we will use to generate all other automorphisms.\r\n",
    "\r\n",
    "<p />\r\n",
    "<a name=\"theor131ret\" id=\"theor131ret\"></a>\r\n",
    "THEOREM 13.1:The Frobenius Automorphism Theorem<br>\r\n",
    "If <em>F</em> is a finite field of characteristic <em>p</em>, then the mapping\r\n",
    "<p style='text-align: center;'><em>&fnof;</em> : <em>x</em> &rarr; <em>x<sup>p</sup></em></p>\r\n",
    "forms an automorphism of <em>F</em> to itself.  Furthermore, <em>&fnof;</em>(<em>y</em>) = <em>y</em> if, and only if, <em>y</em> is in the \r\n",
    "subfield <em>Z<sub>p</sub></em>.  This automorphism is called the <em>Frobenious automorphism</em> on <em>F</em>.<br><br>\r\n",
    "\r\n",
    "<a href=\"#theor131\">Click here for the proof.</a>\r\n",
    "\r\n",
    "<p />\r\n",
    "We can define the Frobenius automorphism in <em>Sage</em>.  Let us begin by defining a field of order 16, using the fourth degree\r\n",
    "polynomial <em>x</em><sup>4</sup> + <em>x</em><sup>3</sup> + 1 in <em>Z</em><sub>2</sub>[<em>x</em>].<br>"
   ]
  },
  {
   "cell_type": "code",
   "execution_count": 0,
   "metadata": {
    "collapsed": false
   },
   "outputs": [
   ],
   "source": [
    "InitDomain(2)\r\n",
    "AddFieldVar(\"a\")\r\n",
    "Define(a^4, -a^3 - 1 )\r\n",
    "K = ListField(); K"
   ]
  },
  {
   "cell_type": "markdown",
   "metadata": {
    "collapsed": false
   },
   "source": [
    "<br>\r\n",
    "Since <em>a</em> is the generator of this new field, we only have to tell <em>Sage</em> where this generator is mapped to.<br>"
   ]
  },
  {
   "cell_type": "code",
   "execution_count": 0,
   "metadata": {
    "collapsed": false
   },
   "outputs": [
   ],
   "source": [
    "F = FieldHomo()\r\n",
    "HomoDef(F, a, a^2)"
   ]
  },
  {
   "cell_type": "code",
   "execution_count": 0,
   "metadata": {
    "collapsed": false
   },
   "outputs": [
   ],
   "source": [
    "CheckHomo(F)"
   ]
  },
  {
   "cell_type": "code",
   "execution_count": 0,
   "metadata": {
    "collapsed": false
   },
   "outputs": [
   ],
   "source": [
    "F(a)"
   ]
  },
  {
   "cell_type": "markdown",
   "metadata": {
    "collapsed": false
   },
   "source": [
    "<br>\r\n",
    "We can even make a circle graph of this automorphism.<br>"
   ]
  },
  {
   "cell_type": "code",
   "execution_count": 0,
   "metadata": {
    "collapsed": false
   },
   "outputs": [
   ],
   "source": [
    "CircleGraph(K, F)"
   ]
  },
  {
   "cell_type": "markdown",
   "metadata": {
    "collapsed": false
   },
   "source": [
    "<br>\r\n",
    "Once we have the one automorphism <em>&fnof;</em>(<em>x</em>), we can find more.  For example, <em>&fnof;</em>(<em>&fnof;</em>(<em>x</em>)), \r\n",
    "<em>&fnof;</em>(<em>&fnof;</em>(<em>&fnof;</em>(<em>x</em>))) are automorphisms.  Of course this eventually will produce the identity automorphism, and it is not hard \r\n",
    "to determine the order of <em>&fnof;</em>(<em>x</em>).\r\n",
    "\r\n",
    "<p />\r\n",
    "<a name=\"cor131ret\" id=\"cor131ret\"></a>\r\n",
    "COROLLARY 13.1<br>\r\n",
    "Let <em>F</em> be a finite field of order <em>p<sup>n</sup></em>. Then the Frobenius automorphism is of order <em>n</em> in the group of automorphisms.<br><br>\r\n",
    "\r\n",
    "<a href=\"#cor131\">Click here for the proof.</a>\r\n",
    "\r\n",
    "<p />\r\n",
    "EXPERIMENT:<br>\r\n",
    "\r\n",
    "For the Frobenius automorphism <em>&fnof;</em>(<em>x</em>) defined above, determine what <em>&fnof;</em>(<em>&fnof;</em>(<em>a</em>)) is.  Then create the automorphism\r\n",
    "<em>g</em>(<em>x</em>) = <em>&fnof;</em>(<em>&fnof;</em>(<em>x</em>)) in <em>Sage</em>.  Form the circle graph of the new automorphism.  Which elements are <em>fixed</em> \r\n",
    "by <em>g</em>(<em>x</em>)?  That is, which elements map to themselves in the automorphism?  Show that these elements form a <em>subfield</em> of the field <em>K</em>.<br>"
   ]
  },
  {
   "cell_type": "markdown",
   "metadata": {
    "collapsed": false
   },
   "source": [
    "<br>\r\n",
    "One application that these automorphisms on <em>K</em> have is that they can be applied to polynomials in <em>K</em>.  We first need to show some simple lemma to \r\n",
    "indicate how to apply the Frobenius automorphism to <em>K</em>[<em>x</em>]. \r\n",
    "\r\n",
    "<p />\r\n",
    "<a name=\"lem133ret\" id=\"lem133ret\"></a>\r\n",
    "LEMMA 13.3<br>\r\n",
    "Any isomorphism <em>&fnof;</em> that maps an integral domain <em>K</em> to an integral domain <em>M</em> extends to an isomorphism mapping <em>K</em>[<em>x</em>] to \r\n",
    "<em>M</em>[<em>x</em>], with <em>&fnof;</em> sending the polynomial <em>x</em> in <em>K</em>[<em>x</em>] to the polynomial <em>x</em> in <em>M</em>[<em>x</em>].<br><br>\r\n",
    "\r\n",
    "<a href=\"#lem133\">Click here for the proof.</a>\r\n",
    "\r\n",
    "<p />\r\n",
    "We can apply Lemma 13.3 to the case where <em>&fnof;</em> is an automorphism on <em>K</em>[<em>x</em>], such as the Frobenius automorphism.  By extending the Frobenius \r\n",
    "automorphism to a polynomial, we can generate irreducible polynomials in <em>Z<sub>p</sub></em>[<em>x</em>].  These irreducible polynomials are important, since we can \r\n",
    "define the field in terms of these polynomials.\r\n",
    "\r\n",
    "<p />\r\n",
    "<a name=\"prop135ret\" id=\"prop135ret\"></a>\r\n",
    "PROPOSITION 13.5<br>\r\n",
    "Let <em>F</em> be a finite field of characteristic <em>p</em>.  For any <em>y</em> in <em>F</em>, let <em>n</em> be the smallest number such \r\n",
    "that <em>y<sup>p&#8319;</sup></em> = y.  If <em>&fnof;</em>(x) is the Frobenius automorphism, then\r\n",
    "<p style='text-align: center;'><em>g</em>(<em>x</em>) = (<em>x</em> &minus; <em>y</em>)&middot;(<em>x</em> &minus; <em>&fnof;</em>(<em>y</em>))&middot;(<em>x</em> &minus; \r\n",
    "<em>&fnof;</em>(<em>&fnof;</em>(<em>y</em>)))&middot; &#8943; &middot;(<em>x</em> &minus; <em>&fnof;</em>&thinsp;<sup><em>n</em>&minus;1</sup>(<em>y</em>))</p>\r\n",
    "is an irreducable polynomial of degree <em>n</em> in <em>Z<sub>p</sub></em>[<em>x</em>].  Here, <em>&fnof;</em>&thinsp;<sup><em>n</em>&minus;1</sup> means <em>&fnof;</em> applied \r\n",
    "to itself <em>n</em> &minus; 1 times.<br><br>\r\n",
    "\r\n",
    "<a href=\"#prop135\">Click here for the proof.</a>\r\n",
    "\r\n",
    "<p />\r\n",
    "The irreducible polynomial generated by this proposition is important enough to warrent a definition.<br><br>\r\n",
    "\r\n",
    "DEFINITION 13.2<br>\r\n",
    "\r\n",
    "The polynomial produced by Proposition 13.5 is called the <em>irreducible polynomial of y over Z<sub>p</sub></em>.  If <em>y</em> is in <em>Z<sub>p</sub></em>, \r\n",
    "this polynomial is simply <em>x</em> &minus; <em>y</em>.<br><br>\r\n",
    "\r\n",
    "We can now use Proposition 13.5 to show us that every finite field can be produced as an extention of <em>Z<sub>p</sub></em> over an irreducible polynomial.  While we are \r\n",
    "at it, we will prove a statement that is true for all fields, not just finite fields.\r\n",
    "\r\n",
    "<p />\r\n",
    "<a name=\"prop136ret\" id=\"prop136ret\"></a>\r\n",
    "PROPOSITION 13.6<br>\r\n",
    "Let <em>K</em> be any field, and <em>F</em> be a subfield of <em>K</em>.  Suppose there is an element <em>y</em> of <em>K</em> such that there are no proper subfields \r\n",
    "of <em>K</em> containing both <em>F</em> and <em>y</em>.  Suppose that there is a polynomial <em>f</em>(<em>x</em>) in <em>K</em>[<em>x</em>] with coeffients \r\n",
    "in <em>F</em> such that <em>f</em>(<em>y</em>) = 0.  Suppose further that <em>f</em>(<em>x</em>) is an irreducible polynomial when treated as a polynomial \r\n",
    "in <em>F</em>[<em>x</em>]. Then <em>K</em> is isomorphic to <em>F</em>[<em>x</em>]/(<em>f</em>(<em>x</em>)).<br><br>\r\n",
    "\r\n",
    "<a href=\"#prop136\">Click here for the proof.</a>\r\n",
    "\r\n",
    "<p />\r\n",
    "One immediate application of Proposition 13.6 is to show us that every finite field can be produced as an extention of <em>Z<sub>p</sub></em> over an irreducible \r\n",
    "polynomial.  We will use the polynomial derived in Proposition 13.5.\r\n",
    "\r\n",
    "<p />\r\n",
    "<a name=\"cor132ret\" id=\"cor132ret\"></a>\r\n",
    "COROLLARY 13.2<br>\r\n",
    "For every finite field <em>K</em> of characteristic <em>p</em>, there is an irreducible polynomial <em>f</em>(<em>x</em>) of <em>Z<sub>p</sub></em>[<em>x</em>] such \r\n",
    "that <em>K</em> is isomorphic to <em>Z<sub>p</sub></em>[<em>x</em>]/&lang;<em>f</em>(<em>x</em>)&rang;.<br><br>\r\n",
    "\r\n",
    "<a href=\"#cor132\">Click here for the proof.</a>\r\n",
    "\r\n",
    "<p />\r\n",
    "Because every finite field is generated by a single polynomial in <em>Z<sub>p</sub></em>[<em>x</em>], <em>Sage</em> can define any finite field.  In fact, <em>Sage</em>\r\n",
    "is really defining <em>Z<sub>p</sub></em>[<em>x</em>]/&lang;<em>f</em>(<em>x</em>)&rang; when we use the <strong>Define</strong> command, subtracting the two arguments \r\n",
    "to determine \r\n",
    "the polynomial.  For example, we could have defined the complex numbers mod 3 this way:"
   ]
  },
  {
   "cell_type": "code",
   "execution_count": 0,
   "metadata": {
    "collapsed": false
   },
   "outputs": [
   ],
   "source": [
    "InitDomain(3, \"x\")\r\n",
    "AddFieldVar(\"i\")\r\n",
    "Define(x^2 + 1, 0)"
   ]
  },
  {
   "cell_type": "markdown",
   "metadata": {
    "collapsed": false
   },
   "source": [
    "This way emphasises that we are really defining <em>Z</em><sub>3</sub>[<em>x</em>]/&lang;<em>x</em><sup>2</sup> + 1&rang;.  We can now compute <em>i</em><sup>2</sup> in our new field:<br>"
   ]
  },
  {
   "cell_type": "code",
   "execution_count": 0,
   "metadata": {
    "collapsed": false
   },
   "outputs": [
   ],
   "source": [
    "i^2"
   ]
  },
  {
   "cell_type": "markdown",
   "metadata": {
    "collapsed": false
   },
   "source": [
    "<br>\r\n",
    "We can directly list the elements in the field.<br>"
   ]
  },
  {
   "cell_type": "code",
   "execution_count": 0,
   "metadata": {
    "collapsed": false
   },
   "outputs": [
   ],
   "source": [
    "K = ListField(); K"
   ]
  },
  {
   "cell_type": "code",
   "execution_count": 0,
   "metadata": {
    "collapsed": false
   },
   "outputs": [
   ],
   "source": [
    "MultTable(K)"
   ]
  },
  {
   "cell_type": "markdown",
   "metadata": {
    "collapsed": false
   },
   "source": [
    "<br>\r\n",
    "In this new field, <em>x</em><sup>2</sup> + 1 will factor.<br>"
   ]
  },
  {
   "cell_type": "code",
   "execution_count": 0,
   "metadata": {
    "collapsed": false
   },
   "outputs": [
   ],
   "source": [
    "factor(x^2 + 1)"
   ]
  },
  {
   "cell_type": "markdown",
   "metadata": {
    "collapsed": false
   },
   "source": [
    "<br>\r\n",
    "But there are two other irreducible second degree polynomials in <em>Z</em><sub>3</sub>[<em>x</em>], <em>x</em><sup>2</sup> + <em>x</em> + 2 and \r\n",
    "<em>x</em><sup>2</sup> + 2<em>x</em> + 2.  What if we formed fields using these?<br><br>\r\n",
    "\r\n",
    "EXPERIMENT:<br>\r\n",
    "Do the other two polynomials factor over the field <em>K</em>?<br>"
   ]
  },
  {
   "cell_type": "markdown",
   "metadata": {
    "collapsed": false
   },
   "source": [
    "<br>\r\n",
    "Try defining <em>Z</em><sub>3</sub>[<em>x</em>]/&lang;<em>x</em><sup>2</sup> + <em>x</em> + 2&rang;, using <em>w</em> as the element which satisfies the equation. \r\n",
    "Do all three polynomials <em>x</em><sup>2</sup> + 1, <em>x</em><sup>2</sup> + <em>x</em> + 2, and <em>x</em><sup>2</sup> + 2<em>x</em> + 2 factor in this field?<br>"
   ]
  },
  {
   "cell_type": "markdown",
   "metadata": {
    "collapsed": false
   },
   "source": [
    "<br>\r\n",
    "What about the field <em>Z</em><sub>3</sub>[<em>x</em>]/&lang;<em>x</em><sup>2</sup> + 2<em>x</em> + 2&rang;?<br>"
   ]
  },
  {
   "cell_type": "markdown",
   "metadata": {
    "collapsed": false
   },
   "source": [
    "<br>\r\n",
    "What does this tell us about the fields <em>Z</em><sub>3</sub>[<em>x</em>]/&lang;<em>x</em><sup>2</sup> + 1&rang;, \r\n",
    "<em>Z</em><sub>3</sub>[<em>x</em>]/&lang;<em>x</em><sup>2</sup> + <em>x</em> + 2&rang;, and \r\n",
    "<em>Z</em><sub>3</sub>[<em>x</em>]/&lang;<em>x</em><sup>2</sup> + 2<em>x</em> + 2&rang;?  (Hint: \r\n",
    "See Proposition 13.6.)<br>"
   ]
  },
  {
   "cell_type": "markdown",
   "metadata": {
    "collapsed": false
   },
   "source": [
    "<br>\r\n",
    "For small fields (such as those of order 9), we might not expect to have too many fields of the same order.  So let us consider larger finite fields, to see if the \r\n",
    "same pattern persists.<br><br>\r\n",
    "\r\n",
    "EXPERIMENT:<br>\r\n",
    "Here are two polynomials which are irreducible in <em>Z</em><sub>3</sub>[<em>x</em>]:\r\n",
    "<p style='text-align: center;'><em>x</em><sup>3</sup> + 2<em>x</em> + 1,&emsp;and</p>\r\n",
    "<p style='text-align: center;'><em>x</em><sup>3</sup> + <em>x</em><sup>2</sup> + <em>x</em> + 2</p>\r\n",
    "Define the field <em>Z</em><sub>3</sub>[<em>x</em>]/&lang;<em>x</em><sup>3</sup> + 2<em>x</em> + 1&rang; in <em>Sage</em>, and see if the second polynomial factors in \r\n",
    "this field.  Likewise, define the field <em>Z</em><sub>3</sub>[<em>x</em>]/&lang;<em>x</em><sup>3</sup> + <em>x</em><sup>2</sup> + <em>x</em> + 2&rang; in <em>Sage</em> to \r\n",
    "determine whether the first polynomial factors over this field.  What do you obverse?  How would you interpret the result?<br>"
   ]
  },
  {
   "cell_type": "markdown",
   "metadata": {
    "collapsed": false
   },
   "source": [
    "<br>\r\n",
    "To understand the significance of having the generator of one field factor completely in another field, let us look at an example where this doesn't happen.  Consider \r\n",
    "two fields of characteristic 2, one of order 4, and the other of order 8. We will use the polynomials <em>x</em><sup>2</sup> + <em>x</em> + 1 and \r\n",
    "<em>x</em><sup>3</sup> + <em>x</em> + 1.<br>"
   ]
  },
  {
   "cell_type": "code",
   "execution_count": 0,
   "metadata": {
    "collapsed": false
   },
   "outputs": [
   ],
   "source": [
    "InitDomain(2,\"x\")\r\n",
    "AddFieldVar(\"a\")\r\n",
    "Define(x^2 + x + 1,0)\r\n",
    "K = ListField(); K"
   ]
  },
  {
   "cell_type": "code",
   "execution_count": 0,
   "metadata": {
    "collapsed": false
   },
   "outputs": [
   ],
   "source": [
    "factor(x^2 + x + 1)"
   ]
  },
  {
   "cell_type": "code",
   "execution_count": 0,
   "metadata": {
    "collapsed": false
   },
   "outputs": [
   ],
   "source": [
    "factor(x^3 + x + 1)"
   ]
  },
  {
   "cell_type": "markdown",
   "metadata": {
    "collapsed": false
   },
   "source": [
    "<br>\r\n",
    "This time, one of the polynomials factor, while the other did not.  Let's try the other field.<br>"
   ]
  },
  {
   "cell_type": "code",
   "execution_count": 0,
   "metadata": {
    "collapsed": false
   },
   "outputs": [
   ],
   "source": [
    "InitDomain(2,\"x\")\r\n",
    "AddFieldVar(\"b\")\r\n",
    "Define(x^3 + x + 1,0)\r\n",
    "F = ListField(); F"
   ]
  },
  {
   "cell_type": "markdown",
   "metadata": {
    "collapsed": false
   },
   "source": [
    "<br>\r\n",
    "Let us see whether <em>x</em><sup>3</sup> + <em>x</em> + 1 factors in <em>K</em>, or whether <em>x</em><sup>2</sup> + <em>x</em> + 1 factors in <em>F</em>.<br>"
   ]
  },
  {
   "cell_type": "code",
   "execution_count": 0,
   "metadata": {
    "collapsed": false
   },
   "outputs": [
   ],
   "source": [
    "factor(x^3 + x + 1)"
   ]
  },
  {
   "cell_type": "code",
   "execution_count": 0,
   "metadata": {
    "collapsed": false
   },
   "outputs": [
   ],
   "source": [
    "factor(x^2 + x + 1)"
   ]
  },
  {
   "cell_type": "markdown",
   "metadata": {
    "collapsed": false
   },
   "source": [
    "<br>\r\n",
    "Thus, we see that the polynomial which defines <em>K</em> is irreducible in <em>F</em>, and vice versa.  Hence, the element <em>a</em> cannot be expressed in terms \r\n",
    "of <em>b</em>, so the fields <em>K</em> and <em>F</em> are totally different.<br><br>\r\n",
    "\r\n",
    "Can we find a field containing both <em>K</em> and <em>F</em> at the same time?  The natural choice \r\n",
    "would be to define <em>both</em> <em>a</em> and <em>b</em> using their respective polynomials.<br>"
   ]
  },
  {
   "cell_type": "code",
   "execution_count": 0,
   "metadata": {
    "collapsed": false
   },
   "outputs": [
   ],
   "source": [
    "InitDomain(2)\r\n",
    "AddFieldVar(\"a\")\r\n",
    "Define(a^2 + a + 1, 0)"
   ]
  },
  {
   "cell_type": "code",
   "execution_count": 0,
   "metadata": {
    "collapsed": false
   },
   "outputs": [
   ],
   "source": [
    "AddFieldVar(\"b\")\r\n",
    "Define(b^3 + b + 1, 0)"
   ]
  },
  {
   "cell_type": "code",
   "execution_count": 0,
   "metadata": {
    "collapsed": false
   },
   "outputs": [
   ],
   "source": [
    "L = ListField(); L"
   ]
  },
  {
   "cell_type": "markdown",
   "metadata": {
    "collapsed": false
   },
   "source": [
    "<br>\r\n",
    "How many elements are there in this long list?  We can have <em>Sage</em> count them for us.<br>"
   ]
  },
  {
   "cell_type": "code",
   "execution_count": 0,
   "metadata": {
    "collapsed": false
   },
   "outputs": [
   ],
   "source": [
    "len(L)"
   ]
  },
  {
   "cell_type": "markdown",
   "metadata": {
    "collapsed": false
   },
   "source": [
    "<br>\r\n",
    "It is easy to find subfields which are isomorphic to both <em>K</em> and <em>F</em> in this field.<br>"
   ]
  },
  {
   "cell_type": "code",
   "execution_count": 0,
   "metadata": {
    "collapsed": false
   },
   "outputs": [
   ],
   "source": [
    "Ring(a)"
   ]
  },
  {
   "cell_type": "code",
   "execution_count": 0,
   "metadata": {
    "collapsed": false
   },
   "outputs": [
   ],
   "source": [
    "Ring(b)"
   ]
  },
  {
   "cell_type": "markdown",
   "metadata": {
    "collapsed": false
   },
   "source": [
    "<br>\r\n",
    "Can we find a basis?  Simply combining the basis for <em>K</em> and <em>F</em>, giving {1, <em>a</em>, <em>b</em>, <em>b</em><sup>2</sup>} will not be enough, \r\n",
    "since there are 64 = 2<sup>6</sup> elements in <em>L</em>, so we need 6 elements for the basis.<br><br>\r\n",
    "\r\n",
    "EXPERIMENT:<br>\r\n",
    "By examining the elements of <em>L</em>, can you find two more elements that need to be in the basis?<br>"
   ]
  },
  {
   "cell_type": "markdown",
   "metadata": {
    "collapsed": false
   },
   "source": [
    "<br>\r\n",
    "It should be noted that this is an <em>extremely</em> inefficient way of defining this finite field, since Corollary 13.2 guarantees that this field can be defined \r\n",
    "using a single generator, and a single polynomial (which would be sixth degree).  In the next chapter, we will\r\n",
    "deal with a similar chain of <em>infinite</em> fields.<br><br>\r\n",
    "\r\n",
    "In general, we will be able to find a large field containing two different finite fields, provided that the characteristic of the two fields are the same.\r\n",
    "\r\n",
    "<p />\r\n",
    "<a name=\"lem134ret\" id=\"lem134ret\"></a>\r\n",
    "LEMMA 13.4<br>\r\n",
    "Let <em>F</em> and <em>K</em> be two finite fields with the same characteristic <em>p</em>.  Then there is a field that contains isomorphic copies of \r\n",
    "both <em>F</em> and <em>K</em>.<br><br>\r\n",
    "\r\n",
    "<a href=\"#lem134\">Click here for the proof.</a>\r\n",
    "\r\n",
    "<p />\r\n",
    "We can now use this lemma to show that there is only one non-isomorphic field of a given order.\r\n",
    "\r\n",
    "<p />\r\n",
    "<a name=\"cor133ret\" id=\"cor133ret\"></a>\r\n",
    "COROLLARY 13.3<br>\r\n",
    "Any two finite fields of the same order are isomorphic to each other.<br><br>\r\n",
    "\r\n",
    "<a href=\"#cor133\">Click here for the proof.</a>\r\n",
    "\r\n",
    "<p />\r\n",
    "This proposition explains the strange behavior of fields that we discovered in our experiment.  Whenever a finite field <em>F</em> is extended though an \r\n",
    "irreducible polynomial, all irreducible polynomials in <em>F</em>[<em>x</em>] of the same degree factor completely in the new field.  The reason is now clear: the \r\n",
    "field\r\n",
    "<p style='text-align: center;'><em>F</em>[<em>x</em>]/&lang;<em>f</em>(<em>x</em>)&rang;</p>\r\n",
    "only depends on the degree of the irreducible polynomial <em>f</em>(<em>x</em>).<br><br>\r\n",
    "\r\n",
    "We have already seen fields of order 4, 9, and 27 in this chapter.  We in fact can refer to them as <em>the</em> fields of order 4, 9, or 27.  However, there is one \r\n",
    "question we have yet to answer.  Given a prime number <em>p</em> and an integer <em>n</em>, is there a field of order <em>p<sup>n</sup></em>?  It seems like all we would \r\n",
    "need to construct such a field is an irreducible polynomial <em>f</em>(<em>x</em>) in <em>Z<sub>p</sub></em>[<em>x</em>] of degree <em>n</em>, and then the field\r\n",
    "<p style='text-align: center;'><em>Z<sub>p</sub></em>[<em>x</em>]/&lang;<em>f</em>(<em>x</em>)&rang;</p>\r\n",
    "would have order <em>p<sup>n</sup></em>.  The only problem with this argument is that we have not shown that there <em>is</em> an irreducible polynomial of \r\n",
    "degree <em>n</em> in <em>Z<sub>p</sub></em>[<em>x</em>].  In order to construct such irreducible polynomials, we will need to utilize a special class of \r\n",
    "polynomials&mdash;the cyclotomial polynomials. These polynomials have many different uses not only in this chapter, but also later on as we study Galois theory.<br><br>\r\n",
    "\r\n",
    "<a name=\"sec133\" id=\"sec133\"></a>\r\n",
    "<h1>The Cyclotomic Polynomials</h1>\r\n",
    "\r\n",
    "<br>\r\n",
    "We now pause from our work on finite fields to discuss a special class of polynomials in &#8484;[<em>x</em>].  These polynomials occur in the factorizations of the \r\n",
    "simple polynomial <em>x<sup>n</sup></em> &minus; 1.  Although these polynomials are constructed easily, they have a tendency to appear in many differnt \r\n",
    "applications.<br><br>\r\n",
    "\r\n",
    "To introduce the cyclotomic polynomials, we will begin by noticing a pattern in the following factorizations:<br>"
   ]
  },
  {
   "cell_type": "code",
   "execution_count": 0,
   "metadata": {
    "collapsed": false
   },
   "outputs": [
   ],
   "source": [
    "var(\"x\")\r\n",
    "factor(x - 1)"
   ]
  },
  {
   "cell_type": "code",
   "execution_count": 0,
   "metadata": {
    "collapsed": false
   },
   "outputs": [
   ],
   "source": [
    "factor(x^2 - 1)"
   ]
  },
  {
   "cell_type": "code",
   "execution_count": 0,
   "metadata": {
    "collapsed": false
   },
   "outputs": [
   ],
   "source": [
    "factor(x^3 - 1)"
   ]
  },
  {
   "cell_type": "code",
   "execution_count": 0,
   "metadata": {
    "collapsed": false
   },
   "outputs": [
   ],
   "source": [
    "factor(x^4 - 1)"
   ]
  },
  {
   "cell_type": "markdown",
   "metadata": {
    "collapsed": false
   },
   "source": [
    "<br>\r\n",
    "EXPERIMENT:<br>\r\n",
    "Continue this pattern using <em>Sage</em> to factor the polynomials up to <em>x</em><sup>10</sup> &minus; 1.  Notice that each time there is exactly one new polynomial \r\n",
    "appearing in the factorization that has not appeared in any previous factorization.<br>"
   ]
  },
  {
   "cell_type": "markdown",
   "metadata": {
    "collapsed": false
   },
   "source": [
    "<br>\r\n",
    "Our plan is to find a formula for the irreducible polynomials produced in these factorizations.  A natural starting place would be to find all of the complex roots of \r\n",
    "the polynomial <em>x<sup>n</sup></em> &minus; 1.  But we have already seen that the primitive <em>n</em><sup>th</sup> roots of unity are of the form \r\n",
    "<em>&omega;<sub>n</sub><sup>k</sup></em>, where <em>k</em> is coprime to <em>n</em>.\r\n",
    "</p>\r\n",
    "\r\n",
    "\r\n",
    "\r\n",
    "<br>\r\n",
    "How are the primitive roots of unity related to the factorizations of <em>x<sup>n</sup></em> &minus; 1?  It is clear that the primitive roots are precisely the complex \r\n",
    "zeros of <em>x<sup>n</sup></em> &minus; 1 that are not zeros of <em>x<sup>m</sup></em> &minus; 1 for <em>m</em> &lt; <em>n</em>.  Thus, if we wish to find the factor \r\n",
    "of <em>x<sup>n</sup></em> &minus; 1 that does not appear in any previous factorizations, we should look for a polynomial whose only complex roots are the \r\n",
    "primitive <em>n</em><sup>th</sup> roots of unity.<br><br>\r\n",
    "\r\n",
    "EXAMPLE:<br>\r\n",
    "Find a factor of <em>x</em><sup>8</sup> &minus; 1 that does not appear in any previous factorizations of <em>x<sup>n</sup></em> &minus; 1.<br><br>\r\n",
    "\r\n",
    "The primitive eighth roots of unity were found to be <em>&omega;</em><sub>8</sub>, <em>&omega;</em><sub>8</sub><sup>3</sup>, \r\n",
    "<em>&omega;</em><sub>8</sub><sup>5</sup> and <em>&omega;</em><sub>8</sub><sup>7</sup>.  Thus, the simpliest polynomial that has these four complex roots would be<br>"
   ]
  },
  {
   "cell_type": "code",
   "execution_count": 0,
   "metadata": {
    "collapsed": false
   },
   "outputs": [
   ],
   "source": [
    "w8 = (1 + I)/sqrt(2); w8"
   ]
  },
  {
   "cell_type": "code",
   "execution_count": 0,
   "metadata": {
    "collapsed": false
   },
   "outputs": [
   ],
   "source": [
    "(x - w8)*(x - w8^3)*(x - w8^5)*(x - w8^7)"
   ]
  },
  {
   "cell_type": "code",
   "execution_count": 0,
   "metadata": {
    "collapsed": false
   },
   "outputs": [
   ],
   "source": [
    "expand(_)"
   ]
  },
  {
   "cell_type": "markdown",
   "metadata": {
    "collapsed": false
   },
   "source": [
    "<br>\r\n",
    "Lo and behold, this simplified into a polynomial with integer coefficients.  Apparently not only did the imaginary part cancel, but also the square roots \r\n",
    "simplified.  What's more, this is precisely the new irreducible factor of<br>"
   ]
  },
  {
   "cell_type": "code",
   "execution_count": 0,
   "metadata": {
    "collapsed": false
   },
   "outputs": [
   ],
   "source": [
    "factor(x^8 - 1)"
   ]
  },
  {
   "cell_type": "markdown",
   "metadata": {
    "collapsed": false
   },
   "source": [
    "<br>\r\n",
    "so we have found the factor we were looking for.<br><br>\r\n",
    "\r\n",
    "EXPERIMENT:<br>\r\n",
    "You have already found the primitive twelvth roots of unity.  Using the above example as a model, find the simpliest polynomial with the primitive twelvth roots \r\n",
    "as the complex zeros.<br>"
   ]
  },
  {
   "cell_type": "markdown",
   "metadata": {
    "collapsed": false
   },
   "source": [
    "<br>\r\n",
    "Compare this to the factorization of <em>x</em><sup>12</sup> &minus; 1:<br>"
   ]
  },
  {
   "cell_type": "code",
   "execution_count": 0,
   "metadata": {
    "collapsed": false
   },
   "outputs": [
   ],
   "source": [
    "factor(x^12 - 1)"
   ]
  },
  {
   "cell_type": "markdown",
   "metadata": {
    "collapsed": false
   },
   "source": [
    "<br>\r\n",
    "What do you discover?<br>"
   ]
  },
  {
   "cell_type": "markdown",
   "metadata": {
    "collapsed": false
   },
   "source": [
    "<br>\r\n",
    "Let us use these examples as a model for our definition.<br><br>\r\n",
    "\r\n",
    "DEFINITION 13.3<br>\r\n",
    "For <em>n</em> &gt; 0, we define the <em>n<sup>th</sup> cyclotomic polynomial</em> to be the product\r\n",
    "<p style='text-align: center;'>&Phi;<sub><em>n</em></sub>(<em>x</em>) = \r\n",
    "(<em>x</em> &minus; <em>&omega;<sub>n</sub></em><sup><em>k</em></sup>&sup1;)&middot;(<em>x</em> &minus; \r\n",
    "<em>&omega;<sub>n</sub></em><sup><em>k</em></sup>&sup2;)&middot;(<em>x</em> &minus; \r\n",
    "<em>&omega;<sub>n</sub></em><sup><em>k</em></sup>&sup3;) &#8943; (<em>x</em> &minus; \r\n",
    "<em>&omega;<sub>n</sub></em><sup><em>k</em></sup>&#8305;),</p>\r\n",
    "where <em>k</em><sub>1</sub>, <em>k</em><sub>2</sub>, <em>k</em><sub>3</sub>, &hellip; <em>k<sub>i</sub></em> are the integers between 0 and <em>n</em> that are coprime \r\n",
    "to <em>n</em>.<br><br>\r\n",
    "\r\n",
    "It is sometimes convenient to use a special notation for a product of many terms.  Just as the sigma &Sigma; can be used to denote the sum of many terms, a large &Pi; (the upper \r\n",
    "case <em>&pi;</em>) is used to denote such a product.  Thus, we could write\r\n",
    "<table align=\"center\" width=\"450\" border=\"0\" cellspacing=\"0\" cellpadding=\"0\">\r\n",
    "  <tr>\r\n",
    "    <td width=\"187\" > </td>\r\n",
    "    <td width=\"70\" align=\"center\" valign=\"bottom\"><em>n</em></td>\r\n",
    "    <td width=\"193\" ></td>\r\n",
    "  </tr>\r\n",
    "  <tr>\r\n",
    "    <td rowspan = \"2\" align=\"right\">&Phi;<sub><em>n</em></sub>(<em>x</em>) = </td>\r\n",
    "    <td align=\"center\" valign=\"bottom\"><font face=\"Times New Roman, Times, serif\" size=\"+4\">&prod;</font></td>\r\n",
    "    <td rowspan = \"2\" align=\"left\">(<em>x</em> &minus; <em>&omega;<sub>n</sub><sup>k</sup></em>).</td>\r\n",
    "  </tr>\r\n",
    "  <tr>\r\n",
    "    <td align=\"center\" valign=\"top\"><em>k</em> = 1</td>\r\n",
    "  </tr>\r\n",
    "    <tr>\r\n",
    "    <td colspan = \"3\" align=\"center\" valign=\"bottom\">gcd(<em>k</em>, <em>n</em>) = 1&emsp;</td>\r\n",
    "  </tr>\r\n",
    "</table>\r\n",
    "\r\n",
    "<br>\r\n",
    "In this product, the index <em>k</em> ranges from 1 to <em>n</em>, but we only consider the values of <em>k</em> for which gcd(<em>k</em>, <em>n</em>) = 1.  It is \r\n",
    "apparent from the definition that the degree of the <em>n</em><sup>th</sup> cyclotomic polynomial is <em>&#981;</em>(<em>n</em>), where <em>&#981;</em> is Euler's totient \r\n",
    "function.<br><br>\r\n",
    "\r\n",
    "Although this definition uses complex numbers, we observed that the polynomials always produced integer coefficients. The next proposition shows us how to find the \r\n",
    "cyclotomic polynomials without having to work with complex numbers.\r\n",
    "\r\n",
    "<p />\r\n",
    "<a name=\"prop137ret\" id=\"prop137ret\"></a>\r\n",
    "PROPOSITION 13.7<br>\r\n",
    "For any positive integer <em>n</em>, we have\r\n",
    "<table align=\"center\" border=\"0\" cellspacing=\"0\" cellpadding=\"0\">\r\n",
    "  <tr>\r\n",
    "    <td align=\"right\" valign=\"center\"><em>x<sup>n</sup></em> &minus; 1 = </td>\r\n",
    "    <td align=\"center\" valign=\"bottom\"><font face=\"Times New Roman, Times, serif\" size=\"+4\">&prod;</font></td>\r\n",
    "    <td align=\"left\" valign=\"center\">&Phi;<sub><em>k</em></sub>(<em>x</em>).</td>\r\n",
    "  </tr>\r\n",
    "  <tr>\r\n",
    "    <td></td>\r\n",
    "    <td align=\"center\" valign=\"top\"><em>k</em> | <em>n</em></td>\r\n",
    "    <td></td>\r\n",
    "  </tr>\r\n",
    "</table>\r\n",
    "\r\n",
    "Here, the product is taken over all values of <em>k</em> that divide <em>n</em>.<br><br>\r\n",
    "\r\n",
    "<a href=\"#prop137\">Click here for the proof.</a>\r\n",
    "\r\n",
    "<p />\r\n",
    "To help understand this notation, let us look at the case where <em>n</em> = 12.  Then Proposition 13.7 states that<br><br>\r\n",
    "<table align=\"center\" border=\"0\" cellspacing=\"0\" cellpadding=\"0\">\r\n",
    "  <tr>\r\n",
    "    <td align=\"right\" valign=\"center\"><em>x</em><sup>12</sup> &minus; 1 = </td>\r\n",
    "    <td align=\"center\" valign=\"bottom\"><font face=\"Times New Roman, Times, serif\" size=\"+4\">&prod;</font></td>\r\n",
    "    <td align=\"left\" valign=\"center\">&Phi;<sub><em>k</em></sub>(<em>x</em>) = \r\n",
    "&Phi;<sub>1</sub>(<em>x</em>)&middot;&Phi;<sub>2</sub>(<em>x</em>)&middot;&Phi;<sub>3</sub>(<em>x</em>)&middot;&Phi;<sub>4</sub>(<em>x</em>)&middot;&Phi;<sub>6</sub>(<em>x</em>)&middot;&Phi;<sub>12</sub>(<em>x</em>).</td>\r\n",
    "  </tr>\r\n",
    "  <tr>\r\n",
    "    <td></td>\r\n",
    "    <td align=\"center\" valign=\"top\"><em>k</em> | 12</td>\r\n",
    "    <td></td>\r\n",
    "  </tr>\r\n",
    "</table>\r\n",
    "<br>\r\n",
    "This can be seen in the factorization of <em>x</em><sup>12</sup> &minus; 1:<br>"
   ]
  },
  {
   "cell_type": "code",
   "execution_count": 0,
   "metadata": {
    "collapsed": false
   },
   "outputs": [
   ],
   "source": [
    "var(\"x\")\r\n",
    "factor(x^12 - 1)"
   ]
  },
  {
   "cell_type": "markdown",
   "metadata": {
    "collapsed": false
   },
   "source": [
    "<br>\r\n",
    "Proposition 13.7 at least explains our observation that the factorization of <em>x<sup>n</sup></em> &minus; 1 always produces a new factor.  However, we have not proven \r\n",
    "that the cyclotomic polynomials are irreducible in &#8484;[<em>x</em>]. We have to begin by showing that &Phi;<sub><em>n</em></sub>(<em>x</em>) is indeed in &#8484;[<em>x</em>].\r\n",
    "\r\n",
    "<p />\r\n",
    "<a name=\"cor134ret\" id=\"cor134ret\"></a>\r\n",
    "COROLLARY 13.4<br>\r\n",
    "The <em>n</em><sup>th</sup> cyclotomic polynomial &Phi;<sub><em>n</em></sub>(<em>x</em>) has integer coefficients for all <em>n</em> &gt; 0.<br><br>\r\n",
    "\r\n",
    "<a href=\"#cor134\">Click here for the proof.</a>\r\n",
    "\r\n",
    "<p />\r\n",
    "It is actually very easy to generate the <em>n</em><sup>th</sup> cyclotomic polynomial in <em>Sage</em>. The commands<br>"
   ]
  },
  {
   "cell_type": "code",
   "execution_count": 0,
   "metadata": {
    "collapsed": false
   },
   "outputs": [
   ],
   "source": [
    "Cyclotomic(3,\"x\")"
   ]
  },
  {
   "cell_type": "code",
   "execution_count": 0,
   "metadata": {
    "collapsed": false
   },
   "outputs": [
   ],
   "source": [
    "Cyclotomic(6,\"x\")"
   ]
  },
  {
   "cell_type": "markdown",
   "metadata": {
    "collapsed": false
   },
   "source": [
    "<br>\r\n",
    "find the third and sixth cyclotomic polynomial.  It is easy to see experimentally that Corollary 13.4 is true.  In fact, is seems as though all coefficient of the \r\n",
    "cyclotomic polynomial are either 0 or <em>&plusmn;</em>1.<br><br>\r\n",
    "\r\n",
    "EXPERIMENT:<br>\r\n",
    "Use <em>Sage</em> to find many different cyclotomic polynomials.  Are all of the coefficients 0 or &plusmn;1?  (Hint: Start your search at \r\n",
    "around <em>n</em> = 100.)<br>"
   ]
  },
  {
   "cell_type": "markdown",
   "metadata": {
    "collapsed": false
   },
   "source": [
    "<br>\r\n",
    "The next corollary is another easy consequence of Corollary 13.4.\r\n",
    "\r\n",
    "<p />\r\n",
    "<a name=\"cor135ret\" id=\"cor135ret\"></a>\r\n",
    "COROLLARY 13.5<br>\r\n",
    "If <em>n</em> is divisible by <em>m</em>, with <em>n</em> &gt; <em>m</em>, then the polynomial <em>x<sup>n</sup></em> &minus; 1 is divisible by \r\n",
    "<em>x<sup>m</sup></em> &minus; 1 in &#8484;[<em>x</em>].  Furthermore, &Phi;<sub><em>n</em></sub>(<em>x</em>) divides<br><br>\r\n",
    "<table align=\"center\" border=\"0\" cellspacing=\"0\" cellpadding=\"0\">\r\n",
    "  <tr>\r\n",
    "    <td align=\"center\" valign=\"bottom\"><font style=\"text-decoration:underline\"><em>x&#8319;</em> &minus; 1</font></td>\r\n",
    "  </tr>\r\n",
    "  <tr>\r\n",
    "    <td align=\"center\" valign=\"top\"><em>x<sup>m</sup></em> &minus; 1</td>\r\n",
    "  </tr>\r\n",
    "</table>\r\n",
    "in &#8484;[<em>x</em>].<br><br>\r\n",
    "\r\n",
    "<a href=\"#cor135\">Click here for the proof.</a>\r\n",
    "\r\n",
    "<p />\r\n",
    "We now want to find some properties of the cyclotomic polynomials.  One of the most important properties is that two different cyclotomic polynomials cannot share a root \r\n",
    "in the complex numbers.  (This is obvious from the definition.)  However, we will be working with other fields besides the complex numbers, so we could ask whether \r\n",
    "a cyclotomic polynomial has a multiple root in <em>any</em> field.<br><br>\r\n",
    "\r\n",
    "We begin by defining a <em>multiple root</em> of a polynomial.<br><br>\r\n",
    "\r\n",
    "DEFINITION 13.4<br>\r\n",
    "If <em>r</em> is a root of a polynomial <em>f</em>(<em>x</em>), and (<em>x</em> &minus; <em>r</em>)<sup>2</sup> divides <em>f</em>(<em>x</em>), we say <em>r</em> is \r\n",
    "a <em>multiple root</em> of <em>f</em>(<em>x</em>).<br><br>\r\n",
    "\r\n",
    "We would like to determine when <em>x<sup>n</sup></em> &minus; 1 has multiple roots.  Our strategy is to discover the form of the \r\n",
    "quotient<br><br>\r\n",
    "\r\n",
    "<table align=\"center\" border=\"0\" cellspacing=\"0\" cellpadding=\"0\">\r\n",
    "  <tr>\r\n",
    "    <td align=\"center\" valign=\"bottom\"><font style=\"text-decoration:underline\"><em>x&#8319;</em> &minus; 1</font></td>\r\n",
    "    <td rowspan = \"2\" align=\"left\">. </td>\r\n",
    "  </tr>\r\n",
    "  <tr>\r\n",
    "    <td align=\"center\" valign=\"top\"><em>x</em> &minus; 1</td>\r\n",
    "  </tr>\r\n",
    "</table>\r\n",
    "\r\n",
    "We can use <em>Sage</em> to help us find a pattern. For example, <sup>(<em>x</em>&#8308;&minus;1)</sup>&frasl;<sub>(<em>x</em>&minus;1)</sub> is given by<br>"
   ]
  },
  {
   "cell_type": "code",
   "execution_count": 0,
   "metadata": {
    "collapsed": false
   },
   "outputs": [
   ],
   "source": [
    "var(\"x\")"
   ]
  },
  {
   "cell_type": "code",
   "execution_count": 0,
   "metadata": {
    "collapsed": false
   },
   "outputs": [
   ],
   "source": [
    "Together((x^4 - 1)/(x - 1))"
   ]
  },
  {
   "cell_type": "markdown",
   "metadata": {
    "collapsed": false
   },
   "source": [
    "<br>\r\n",
    "Here is another example:<br>"
   ]
  },
  {
   "cell_type": "code",
   "execution_count": 0,
   "metadata": {
    "collapsed": false
   },
   "outputs": [
   ],
   "source": [
    "Together((x^5 - 1)/(x - 1))"
   ]
  },
  {
   "cell_type": "markdown",
   "metadata": {
    "collapsed": false
   },
   "source": [
    "<br>\r\n",
    "A pattern is starting to form.  Can you find it?<br><br>\r\n",
    "\r\n",
    "EXPERIMENT:<br>\r\n",
    "Use <em>Sage</em> to simplify <sup>(<em>x</em>&#8311; &minus; 1)</sup>&frasl;<sub>(<em>x</em>&minus;1)</sub> and \r\n",
    "<sup>(<em>x</em>&sup1;&sup2; &minus; 1)</sup>&frasl;<sub>(<em>x</em>&minus;1)</sub>. Is the pattern becoming clear?<br>"
   ]
  },
  {
   "cell_type": "markdown",
   "metadata": {
    "collapsed": false
   },
   "source": [
    "<br>\r\n",
    "We can use the pattern of these quotients to prove the following:\r\n",
    "\r\n",
    "<p />\r\n",
    "<a name=\"lem135ret\" id=\"lem135ret\"></a>\r\n",
    "LEMMA 13.5<br>\r\n",
    "If <em>F</em> is any field, then the polynomial <em>x<sup>n</sup></em> &minus; 1 has a multiple root if, and only if, <em>n</em> is a multiple of the characteristic \r\n",
    "of <em>F</em>.<br><br>\r\n",
    "\r\n",
    "<a href=\"#lem135\">Click here for the proof.</a>\r\n",
    "\r\n",
    "<p />\r\n",
    "We are finally ready to show the irreducibility of &Phi;<sub><em>n</em></sub>(<em>x</em>).\r\n",
    "\r\n",
    "\r\n",
    "<p />\r\n",
    "<a name=\"theor132ret\" id=\"theor132ret\"></a>\r\n",
    "THEOREM 13.2:  Gauss' Theorem on Cyclotomic Polynomials<br>\r\n",
    "For all <em>n</em> &gt; 0, &Phi;<sub><em>n</em></sub>(<em>x</em>) is an irreducible polynomial in &#8484;[<em>x</em>].<br><br>\r\n",
    "\r\n",
    "<a href=\"#theor132\">Click here for the proof.</a>\r\n",
    "\r\n",
    "<p />\r\n",
    "\r\n",
    "Lemma 13.5 can also be used to generate irreducible polynomials in <em>Z<sub>p</sub></em>[<em>x</em>] of any degree. In fact, these irreducible polynomials are the \r\n",
    "key to proving that a field of order <em>p<sup>n</sup></em> exists.\r\n",
    "\r\n",
    "<p />\r\n",
    "<a name=\"prop138ret\" id=\"prop138ret\"></a>\r\n",
    "PROPOSITION 13.8<br>\r\n",
    "Let <em>p</em> be a prime integer, and let <em>n</em> &gt; 1.  Consider the cyclotomic \r\n",
    "polynomial &Phi;<sub>(<em>p</em></sub><em>&#8345;</em><sub>&minus;1)</sub>(<em>x</em>) of order <em>&#981;</em>(<em>p<sup>n</sup></em> &minus; 1).  Let us \r\n",
    "consider <em>g</em>(<em>x</em>) to be this polynomial modulo <em>p</em> in <em>Z<sub>p</sub></em>[<em>x</em>].  Then <em>g</em>(<em>x</em>) factors \r\n",
    "in <em>Z<sub>p</sub></em>[<em>x</em>] into irreducible polynomials, all of which have degree <em>n</em>.<br><br>\r\n",
    "\r\n",
    "<a href=\"#prop138\">Click here for the proof.</a>\r\n",
    "\r\n",
    "<p />\r\n",
    "We can now prove what we had suspected was true from the experiments: that there is precisely one field of order <em>p<sup>n</sup></em>, where <em>n</em> &gt; 0 and \r\n",
    "<em>p</em> is a prime number.\r\n",
    "\r\n",
    "<p />\r\n",
    "<a name=\"cor136ret\" id=\"cor136ret\"></a>\r\n",
    "COROLLARY 13.6<br>If <em>p</em> is a prime number, and <em>n</em> is a positive integer, there exists a unique field (up to isomorphism) of \r\n",
    "order <em>p<sup>n</sup></em>.<br><br>\r\n",
    "\r\n",
    "<a href=\"#cor136\">Click here for the proof.</a>\r\n",
    "\r\n",
    "<p />\r\n",
    "DEFINITION 13.5<br>\r\n",
    "If <em>q</em> = <em>p<sup>n</sup></em>, where <em>p</em> is prime and <em>n</em> &gt; 0, then <em>the Galois field of order q</em>, denoted GF(<em>q</em>), is the unique \r\n",
    "field given in Corollary 13.6.<br><br>\r\n",
    "\r\n",
    "For example, the <em>official</em> name for the &quot;complex numbers modulo 3&quot; we have been working with is GF(9).  Whenever <em>p</em> is prime, we can \r\n",
    "write GF(<em>p</em>) for the field <em>Z<sub>p</sub></em>.<br><br>\r\n",
    "\r\n",
    "When we first defined GF(9), we used the irreducible polynomial <em>x</em><sup>2</sup> + 1 in <em>Z</em><sub>3</sub>[<em>x</em>] to make the definition.  But there are \r\n",
    "two other second degree irreducible polynomials with a leading coefficient of 1 in <em>Z</em><sub>3</sub>[<em>x</em>], namely, <em>x</em><sup>2</sup> + <em>x</em> + 2 and \r\n",
    "<em>x</em><sup>2</sup> + 2 <em>x</em> + 2.  We could have used either of these to define GF(9):<br>"
   ]
  },
  {
   "cell_type": "code",
   "execution_count": 0,
   "metadata": {
    "collapsed": false
   },
   "outputs": [
   ],
   "source": [
    "InitDomain(3)\r\n",
    "AddFieldVar(\"a\")\r\n",
    "Define(a^2, - a - 2)\r\n",
    "K = ListField(); K"
   ]
  },
  {
   "cell_type": "code",
   "execution_count": 0,
   "metadata": {
    "collapsed": false
   },
   "outputs": [
   ],
   "source": [
    "MultTable(K)"
   ]
  },
  {
   "cell_type": "code",
   "execution_count": 0,
   "metadata": {
    "collapsed": false
   },
   "outputs": [
   ],
   "source": [
    "InitDomain(3)\r\n",
    "AddFieldVar(\"b\")\r\n",
    "Define(b^2, - 2*b - 2)\r\n",
    "F = ListField(); F"
   ]
  },
  {
   "cell_type": "code",
   "execution_count": 0,
   "metadata": {
    "collapsed": false
   },
   "outputs": [
   ],
   "source": [
    "MultTable(F)"
   ]
  },
  {
   "cell_type": "markdown",
   "metadata": {
    "collapsed": false
   },
   "source": [
    "<br>\r\n",
    "We know from Corollary 13.3 that these are both isomorphic to GF(9), but the notations for these are vastly different.  This begs the question as to whether there is \r\n",
    "an <em>official</em> way to describe the elements of GF(<em>p<sup>n</sup></em>).<br><br>\r\n",
    "\r\n",
    "It is clear that we must first pick an irreducible polynomial <em>f</em>(<em>x</em>) of degree <em>n</em> over <em>Z<sub>p</sub></em>[<em>x</em>], and then we \r\n",
    "let <em>a</em> = <em>x</em> + &lang;<em>f</em>(<em>x</em>)&rang; be a root of this polynomial in \r\n",
    "<em>Z<sub>p</sub></em>[<em>x</em>]/&lang;<em>f</em>(<em>x</em>)&rang;.  This will allow every element of GF(<em>p<sup>n</sup></em>) to be expressible in \r\n",
    "terms of <em>a</em>.<br><br>\r\n",
    "\r\n",
    "But we also know from Proposition 13.4 that the group GF(<em>p<sup>n</sup></em>)<sup>*</sup> is a cyclic group, and so we can choose the polynomial <em>f</em>(<em>x</em>) \r\n",
    "so that <em>a</em> will be a generator of this group.<br><br> \r\n",
    "\r\n",
    "DEFINITION 13.6<br>\r\n",
    "The <em>Conway polynomial</em> of degree <em>n</em> over <em>Z<sub>p</sub></em> is the polynomial of degree <em>n</em> in <em>Z<sub>p</sub></em>[<em>x</em>] with the following characteristics:<br><br>\r\n",
    "\r\n",
    "1)&emsp;<em>Primitive</em>:<br>\r\n",
    "&emsp;&emsp;The polynomial <em>f</em>(<em>x</em>) is irreducible, has a leading coefficient of 1, and <em>x</em> + &lang;<em>f</em>(<em>x</em>)&rang; \r\n",
    "is a multiplicative generator of  the finite field <em>Z<sub>p</sub></em>[<em>x</em>]/&lang;<em>f</em>(<em>x</em>)&rang;.<br>\r\n",
    "&emsp;&emsp;Such polynomials are called <em>primitive polynomials</em>.<br><br>\r\n",
    "\r\n",
    "2)&emsp;<em>Compatibility</em>:<br>\r\n",
    "&emsp;&emsp;The polynomial is compatible with the way that the subfields of GF(<em>p<sup>n</sup></em>) are defined.  To be compatible, for all divisors <em>d</em> of \r\n",
    "<em>n</em> less than <em>n</em>, the\r\n",
    "<table align=\"center\" border=\"0\" cellspacing=\"0\" cellpadding=\"0\">\r\n",
    "  <tr>\r\n",
    "    <td align=\"center\" valign=\"bottom\"><font style=\"text-decoration:underline\"><em>p&#8319;</em> &minus; 1</font></td>\r\n",
    "    <td rowspan = \"2\" align=\"left\">&ensp;th </td>\r\n",
    "  </tr>\r\n",
    "  <tr>\r\n",
    "    <td align=\"center\" valign=\"top\"><em>p<sup>d</sup></em> &minus; 1</td>\r\n",
    "  </tr>\r\n",
    "</table>\r\n",
    "&emsp;&emsp;power of the zeros of the polynomial must be zeros of the Conway polynomial of degree <em>d</em> over <em>Z<sub>p</sub></em>.<br><br>\r\n",
    "\r\n",
    "3)&emsp;<em>Tie breaker</em>:<br>\r\n",
    "&emsp;&emsp;If two or more primitive polynomials satisfy the compatibility condition, let <em>m</em> be the highest power of <em>x</em> for which the coefficients differ.  If \r\n",
    "<em>n</em> &minus; <em>m</em> is even, pick the one with the smallest coeffient from the set {0, 1, &hellip; <em>p</em> &minus; 1}.  If <em>n</em> &minus; <em>m</em> is odd, \r\n",
    "pick the largest, unless there is one with a coefficient of 0.<br><br>\r\n",
    "\r\n",
    "This definition at first seems counter-intuitive.  Logically, a zero coefficient is always preferred over a nonzero term, but sometimes we pick the polynomial with \r\n",
    "the largest coefficient, and sometimes use the one with the smallest.<br><br>\r\n",
    "\r\n",
    "But to understand why this is so, consider the first degree Conway polynomials.  Since all of the primitive polynomials are of the form <em>x</em> + <em>c</em>, with \r\n",
    "<em>c</em> &ne; <em>0</em>, they differ only in the constant term.  Hence <em>m</em> = 0, so <em>n</em> &minus; <em>m</em> will be odd, and we should select \r\n",
    "the primitive polynomial with the largest <em>c</em>.  This in turn will make the root of this polynomial be as <em>small</em> as possible.  So for <em>p</em> prime, the \r\n",
    "root of the Conway polynomial of degree 1 will represent the smallest generator of the group <em>Z<sub>p</sub></em><sup>*</sup>.  In general, the Conway polynomial \r\n",
    "is designed so that the roots will be minimized.<br><br>\r\n",
    "\r\n",
    "EXAMPLE:<br>\r\n",
    "Let us use this definition to find the Conway polynomial of degree 2 over <em>Z</em><sub>3</sub>.<br><br>\r\n",
    "  \r\n",
    "There are three irreducible polynomials of degree 2 in <em>Z</em><sub>3</sub>[<em>x</em>] with a leading coefficient of 1: <em>x</em><sup>2</sup> + 1, \r\n",
    "<em>x</em><sup>2</sup> + <em>x</em> + 2, and <em>x</em><sup>2</sup> + 2 <em>x</em> + 2. The \r\n",
    "roots of <em>x</em><sup>2</sup> + 1 in <em>Z</em><sub>3</sub>[<em>x</em>]/&lang;<em>x</em><sup>2</sup> + 1&rang; have order 4, not 8.  Since the multiplicative group is isomorphic to <em>Z</em><sub>8</sub>, which has 4 generators, we know that there will be 2 primitive polynomials.  So <em>x</em><sup>2</sup> + <em>x</em> + 2 and \r\n",
    "<em>x</em><sup>2</sup> + 2 <em>x</em> + 2 pass the first test.<br><br> \r\n",
    "  \r\n",
    "In order to understand the compatibility condition, we must first find \r\n",
    "the Conway polynomial of degree 1 over <em>Z</em><sub>3</sub>.  Since there is only one multiplicative generator of <em>Z</em><sub>3</sub>, namely 2, there is only \r\n",
    "one primitive polynomial of degree 1,\r\n",
    "<p style='text-align: center;'><em>x</em> &minus; 2 = <em>x</em> + 1.</p>"
   ]
  },
  {
   "cell_type": "code",
   "execution_count": 0,
   "metadata": {
    "collapsed": false
   },
   "outputs": [
   ],
   "source": [
    "ConwayPolynomial(3, 1)"
   ]
  },
  {
   "cell_type": "markdown",
   "metadata": {
    "collapsed": false
   },
   "source": [
    "<br>\r\n",
    "Now in order for a primitive polynomial of degree 2 to be compatible, the <sup>(3&sup2; &minus; 1)</sup>&frasl;<sub>(3</sub>&#8321;<sub> &minus; 1)</sub>, or 4<sup>th</sup> \r\n",
    "power of \r\n",
    "the roots must be a root of <em>x</em> + 1.  Hence, <em>x</em><sup>2</sup> + 1 does not satisfy this compatibility condition since <em>i</em><sup>4</sup> = 1, not 2 \r\n",
    "in GF(9).  However, both <em>x</em><sup>2</sup> + <em>x</em> + 2 and <em>x</em><sup>2</sup> + 2 <em>x</em> + 2 will satisfy the compatibility condition, since both of \r\n",
    "the above multiplication tables show that <em>a</em><sup>4</sup> = 2.  (If one root satisfies the compatibility condition, it is clear that the other root will too, since \r\n",
    "the Frobenius automorphism sends one root to the other.)<br><br>\r\n",
    "\r\n",
    "Of the two possible primitive polynomials remaining, we look for the largest power of <em>x</em> for which these differ, <em>x</em><sup>1</sup>, and \r\n",
    "since <em>n</em> &minus; <em>m</em> = 1 is odd, and neither <em>x</em><sup>1</sup> coefficient is 0, we pick the larger of the two possible coefficients.  So the \r\n",
    "Conway polynomial is <em>x</em><sup>2</sup> + 2 x + 2.  We can use <em>Sage</em> to verify this.<br>"
   ]
  },
  {
   "cell_type": "code",
   "execution_count": 0,
   "metadata": {
    "collapsed": false
   },
   "outputs": [
   ],
   "source": [
    "ConwayPolynomial(3, 2)"
   ]
  },
  {
   "cell_type": "markdown",
   "metadata": {
    "collapsed": false
   },
   "source": [
    "<br>\r\n",
    "Hence, the <em>official</em> notation for GF(9) is<br>"
   ]
  },
  {
   "cell_type": "code",
   "execution_count": 0,
   "metadata": {
    "collapsed": false
   },
   "outputs": [
   ],
   "source": [
    "InitDomain(3)\r\n",
    "AddFieldVar(\"a\")\r\n",
    "Define(a^2 + 2*a + 2, 0)\r\n",
    "F = ListField(); F"
   ]
  },
  {
   "cell_type": "code",
   "execution_count": 0,
   "metadata": {
    "collapsed": false
   },
   "outputs": [
   ],
   "source": [
    "a^2"
   ]
  },
  {
   "cell_type": "markdown",
   "metadata": {
    "collapsed": false
   },
   "source": [
    "<br>\r\n",
    "Note:  <em>Sage</em> has a shortcut method for the above definition:<br>"
   ]
  },
  {
   "cell_type": "code",
   "execution_count": 0,
   "metadata": {
    "collapsed": false
   },
   "outputs": [
   ],
   "source": [
    "F.<a> = GF(9)"
   ]
  },
  {
   "cell_type": "code",
   "execution_count": 0,
   "metadata": {
    "collapsed": false
   },
   "outputs": [
   ],
   "source": [
    "a^2"
   ]
  },
  {
   "cell_type": "markdown",
   "metadata": {
    "collapsed": false
   },
   "source": [
    "</a> <!-- This is to undo what html thinks is a <a> in the above command -->\r\n",
    "<br>\r\n",
    "\r\n",
    "EXAMPLE:<br>\r\n",
    "Let us find the Conway polynomial of degree 4 over <em>Z</em><sub>3</sub>.<br><br>\r\n",
    "\r\n",
    "We can find all of the primitive polynomials of degree <em>n</em> = 4 by factoring &Phi;<sub>(<em>p</em></sub>&#8345;<sub>&minus;1)</sub>(<em>x</em>) in <em>Z</em><sub>3</sub>[<em>x</em>]. (See Problem 15.)<br>"
   ]
  },
  {
   "cell_type": "code",
   "execution_count": 0,
   "metadata": {
    "collapsed": false
   },
   "outputs": [
   ],
   "source": [
    "G = Cyclotomic(80,\"x\"); G"
   ]
  },
  {
   "cell_type": "code",
   "execution_count": 0,
   "metadata": {
    "collapsed": false
   },
   "outputs": [
   ],
   "source": [
    "InitDomain(3, \"x\")\r\n",
    "factor(x^32 - x^24 + x^16 - x^8 + 1)"
   ]
  },
  {
   "cell_type": "markdown",
   "metadata": {
    "collapsed": false
   },
   "source": [
    "<br>\r\n",
    "So we have 8 primitive polynomials of degree 4 over <em>Z</em><sub>3</sub>, each having <em>n</em> = 4 roots which are generators of GF(81).  But we need the compatibity condition to \r\n",
    "be satisfied.  That is, for a root <em>r</em> in one of these polynomials, we need \r\n",
    "the <sup>(3&#8308; &minus; 1)</sup>&frasl;<sub>(3</sub>&#8321;<sub> &minus; 1)</sub> = 40<sup>th</sup> power of <em>r</em> to satisfy <em>x</em> + 1 = 0, while \r\n",
    "the <sup>(3&#8308; &minus; 1)</sup>&frasl;<sub>(3</sub>&#8322;<sub> &minus; 1)</sub> = 10<sup>th</sup> power of <em>r</em> must satisfy <em>x</em><sup>2</sup> + 2 <em>x</em> + 2 = 0.  In \r\n",
    "other words, <em>r</em> will satisfy <em>r</em><sup>40</sup> + 1 = 0, and <em>r</em><sup>20</sup> + 2 <em>r</em><sup>10</sup> + 2 = 0.<br>"
   ]
  },
  {
   "cell_type": "code",
   "execution_count": 0,
   "metadata": {
    "collapsed": false
   },
   "outputs": [
   ],
   "source": [
    "factor(x^40 + 1)"
   ]
  },
  {
   "cell_type": "code",
   "execution_count": 0,
   "metadata": {
    "collapsed": false
   },
   "outputs": [
   ],
   "source": [
    "factor(x^20 + 2*x^10 + 2)"
   ]
  },
  {
   "cell_type": "markdown",
   "metadata": {
    "collapsed": false
   },
   "source": [
    "<br>\r\n",
    "Four polynomals are in common with all three factorizations, so these four pass the compatibility test:\r\n",
    "<p style='text-align: center;'><em>x</em><sup>4</sup> + <em>x</em><sup>3</sup> + 2,&emsp;<em>x</em><sup>4</sup> + \r\n",
    "<em>x</em><sup>3</sup> + 2 <em>x</em><sup>2</sup> + 2 <em>x</em> + 2,&emsp;<em>x</em><sup>4</sup> + 2 <em>x</em><sup>3</sup> + 2,&ensp;and&ensp;<em>x</em><sup>4</sup> + \r\n",
    "2 <em>x</em><sup>3</sup> + 2 <em>x</em><sup>2</sup> + <em>x</em> + 2.</p>\r\n",
    "Since they differ in the <em>x</em><sup>3</sup> power, and none of them are missing the <em>x</em><sup>3</sup> term, we pick one with the largest coefficient.  (Again, \r\n",
    "<em>n</em> &minus; <em>m</em> = 4 &minus; 3 is odd.)  Of the 2, we pick the one with the smallest <em>x</em><sup>2</sup> coefficient (<em>n</em> &minus; <em>m</em> = \r\n",
    "4 &minus; 2 is even), giving us <em>x</em><sup>4</sup> + 2 <em>x</em><sup>3</sup> + 2.  We can verify this with \r\n",
    "the <strong>ConwayPolynomial</strong> command:<br>"
   ]
  },
  {
   "cell_type": "code",
   "execution_count": 0,
   "metadata": {
    "collapsed": false
   },
   "outputs": [
   ],
   "source": [
    "ConwayPolynomial(3, 4)"
   ]
  },
  {
   "cell_type": "markdown",
   "metadata": {
    "collapsed": false
   },
   "source": [
    "<br>\r\n",
    "This means we can have the <em>official</em> definition of GF(81) as<br>"
   ]
  },
  {
   "cell_type": "code",
   "execution_count": 0,
   "metadata": {
    "collapsed": false
   },
   "outputs": [
   ],
   "source": [
    "InitDomain(3)\r\n",
    "AddFieldVar(\"a\")\r\n",
    "Define(a^4 + 2*a^3 + 2, 0)\r\n",
    "F = ListField(); F"
   ]
  },
  {
   "cell_type": "code",
   "execution_count": 0,
   "metadata": {
    "collapsed": false
   },
   "outputs": [
   ],
   "source": [
    "len(_)"
   ]
  },
  {
   "cell_type": "markdown",
   "metadata": {
    "collapsed": false
   },
   "source": [
    "<br>\r\n",
    "The Galois fields have many applications.  A code very simular to the RSA code studied in chapter 3 was developed using Galois fields of \r\n",
    "characteristic 2.  For a long time the field of order 2<sup>127</sup> was used, since the multiplicative group is of order 2<sup>127</sup> &minus; 1, which happens to \r\n",
    "be prime.  (Primes of this form are called Mersenne primes.)  This code had the advantage that the key was much shorter than the RSA key, and multiplication in this \r\n",
    "field could be quickly implimented in binary hardware.  However, due to the special properties of finite fields, this code was recently cracked.  In order to ensure \r\n",
    "safety of the encription, the size of the field had to be upped to order 2<sup>2203</sup>, which diminished the advantage over the RSA code.<br><br>\r\n",
    "\r\n",
    "But there is another type of code based on Galois fields, called the Reed-Solomon code, which is not used for security but rather for the storage or transfer of digital \r\n",
    "data.  All digital information, such as the storage of a file in a computer or a song on a compact disk, is stored as a string of &quot;bits&quot; that are \r\n",
    "either 0 or 1.  We will let <em>K</em> denote a finite field of characteristic 2.  For example, if <em>K</em> = GF(256), then each element of <em>K</em> would correspond to a \r\n",
    "computer &quot;byte.&quot;  (Each byte is eight bits.)  A string \r\n",
    "of <em>n</em> bytes (<em>a</em><sub>0</sub>, <em>a</em><sub>1</sub>, <em>a</em><sub>2</sub>, <em>a</em><sub>3</sub>, &hellip; <em>a</em><sub><em>n</em>&minus;1</sub>) is \r\n",
    "encoded as a polynomial in <em>K</em>:\r\n",
    "<p style='text-align: center;'><em>f</em>(<em>x</em>) = <em>a</em><sub>0</sub> + <em>a</em><sub>1</sub> <em>x</em> + <em>a</em><sub>2</sub> <em>x</em><sup>2</sup> + \r\n",
    "<em>a</em><sub>3</sub> <em>x</em><sup>3</sup> + &#8943; + <em>a</em><sub><em>n</em>&minus;1</sub> <em>x</em><sup><em>n</em>&minus;1</sup>.</p>\r\n",
    "The encription of this list of elements is simply the evaluation of this polynomial at the 256 elements of <em>K</em>.  That is, if <em>g</em> is a generator of \r\n",
    "the multiplicative group <em>K</em><sup>*</sup>, then\r\n",
    "<p style='text-align: center;'><em>f</em>(0), <em>f</em>(<em>g</em>), <em>f</em>(<em>g</em><sup>2</sup>), <em>f</em>(<em>g</em><sup>3</sup>), &hellip; \r\n",
    "<em>f</em>(<em>g</em><sup>255</sup>)</p>\r\n",
    "is transmitted in place of the numbers <em>a</em><sub>0</sub>, <em>a</em><sub>1</sub>, <em>a</em><sub>2</sub>, <em>a</em><sub>3</sub>, &hellip; \r\n",
    "<em>a</em><sub><em>n</em>&minus;1</sub>.  We know from Corollary 12.3 that we can derive the original list of elements from any <em>n</em> of the numbers \r\n",
    "transmitted.  Thus, if there are some errors in the transmition, the original list can still be reconstructed.  Using combinatorial reasoning, Reed and Solomon showed \r\n",
    "that as many as (255 &minus; <em>n</em>)/2 errors could occur, and yet the original list of elements can be decoded.<br><br>\r\n",
    "\r\n",
    "For example, if <em>n</em> = 251, then every 251 bytes is converted to a 250 degree polynomial, which is evaluated at the 256 elements of <em>K</em>.  Even if two of \r\n",
    "these bytes are transmitted incorrectly, the 251 original bytes can be correctly reconstructed.  This is an example of what is called \r\n",
    "an <em>error-correcting code</em>.  This code was used by the <em>Voyager II</em> spacecraft to transmit pictures of Uranus and Neptune back to Earth.  A version of \r\n",
    "this code (using a larger field <em>K</em>) is used to store the digital music on a compact disk.  Current CD players can cope with errors as long as 4000 consicutive \r\n",
    "bits on the CD, typically caused by a scratch on the CD surface.  The Reed-Solomon code will also allow over 500 channels of digital television in the \r\n",
    "near future.<br><br>\r\n",
    "\r\n",
    "The ironic part of this code is that, when Reed and Solomon first discovered the code in 1960, it was described as &quot;interesting, but probably not practical.&quot;  It \r\n",
    "wasn't until hardware technology advanced to the point that the code could be implimented before the real value of this code was evident.  As with most mathematics, the \r\n",
    "usefulness of a particular result is not seen until long after the result is published.<br><br>\r\n",
    "\r\n",
    "One final application of finite fields arises from the study of simple groups.  Almost all of the simple groups besides the alternating groups are defined in terms of \r\n",
    "finite fields.  For example, the simple group Aut(<em>Z</em><sub>24</sub><sup>*</sup>) can be expressed as the 3 by 3 matrices in the field <em>Z</em><sub>2</sub> with \r\n",
    "determinant 1.  This example can be generized a group <em>G</em> of <em>m</em> by <em>m</em> matrices over any finite field of \r\n",
    "order <em>p<sup>n</sup></em>.  When <em>p<sup>n</sup></em> &gt; 2, there may be a nontrivial center <em>Z</em> formed by diagonal matrices.  However, we can form the \r\n",
    "quotient group <em>G</em>/<em>Z</em>.  The group generated will be simple if <em>m</em> &gt; <em>2</em>, or if <em>m</em> = 2 and <em>p<sup>n</sup></em> &gt; 3.<br><br>\r\n",
    "\r\n",
    "There are several other ways of forming simple groups using finite fields.  In fact, besides the alternating groups, there are only 26 finite simple groups that are \r\n",
    "not expressed using finite fields.  Thus, finite fields are of key importanance in the classification of all finite simple groups.<br><br>\r\n",
    "\r\n",
    "<a name=\"sec134\" id=\"sec134\"></a>\r\n",
    "<h1>Finite Skew Fields</h1>\r\n",
    "\r\n",
    "<br>\r\n",
    "Since we have completely classified all finite fields, a natural question is whether we can classify all finite skew fields, and whether these can be easily entered \r\n",
    "into <em>Sage</em>.  At first this seems like it would be a harder problem, since there are many non-abelian groups, and many non-communitive rings.  However, a \r\n",
    "surprising result is that there are <em>no</em> finite skew fields.  In other words, any finite division ring must be commutative.  In this section we will prove \r\n",
    "this remarkable result, known as Wedderburn's theorem.<br><br>\r\n",
    "\r\n",
    "We begin by carrying over some ideas from group theory.  One of the ways we studied non-abelian groups was to find the center of the group, since this was always a \r\n",
    "normal subgroup.  We can ask whether the set of elements of a skew field that commute with all of the elements forms a special set.<br><br>\r\n",
    "\r\n",
    "DEFINITION 13.7<br>\r\n",
    "Let <em>K</em> be a skew field.  Then the set of all elements <em>x</em> of <em>K</em> such that\r\n",
    "<p style='text-align: center;'><em>x</em>&middot;<em>y</em> = <em>y</em>&middot;<em>x</em> for all <em>y</em> &isin; <em>K</em></p>\r\n",
    "is called the <em>center</em> of <em>K</em>.<br><br>\r\n",
    "\r\n",
    "Let us look at an example.  The only skew field we have seen is the ring of quaternions, &#8461;. The <em>Sage</em> command<br>"
   ]
  },
  {
   "cell_type": "code",
   "execution_count": 0,
   "metadata": {
    "collapsed": false
   },
   "outputs": [
   ],
   "source": [
    "InitQuaternions()"
   ]
  },
  {
   "cell_type": "markdown",
   "metadata": {
    "collapsed": false
   },
   "source": [
    "<br>\r\n",
    "allows us to experiment with this skew field.  What is the center of this skew field?  To answer this question, let us first define two typical elements in &#8461;."
   ]
  },
  {
   "cell_type": "code",
   "execution_count": 0,
   "metadata": {
    "collapsed": false
   },
   "outputs": [
   ],
   "source": [
    "var(\"u0 u1 u2 u3 v0 v1 v2 v3\")"
   ]
  },
  {
   "cell_type": "code",
   "execution_count": 0,
   "metadata": {
    "collapsed": false
   },
   "outputs": [
   ],
   "source": [
    "A = u0 + u1*i + u2*j + u3*k; A"
   ]
  },
  {
   "cell_type": "code",
   "execution_count": 0,
   "metadata": {
    "collapsed": false
   },
   "outputs": [
   ],
   "source": [
    "B = v0 + v1*i + v2*j + v3*k; B"
   ]
  },
  {
   "cell_type": "markdown",
   "metadata": {
    "collapsed": false
   },
   "source": [
    "<br>\r\n",
    "These will commute as long as <em>A</em>&middot;<em>B</em> = <em>B</em>&middot;<em>A</em>, or \r\n",
    "equivalently, <em>A</em>&middot;<em>B</em> &minus; <em>B</em>&middot;<em>A</em> = 0.  Let us compute this in <em>Sage</em>:<br>"
   ]
  },
  {
   "cell_type": "code",
   "execution_count": 0,
   "metadata": {
    "collapsed": false
   },
   "outputs": [
   ],
   "source": [
    "D = A*B - B*A; D"
   ]
  },
  {
   "cell_type": "markdown",
   "metadata": {
    "collapsed": false
   },
   "source": [
    "<br>\r\n",
    "The normal <strong>expand</strong> function does not work on quaternions, so we can use <strong>Together</strong> instead.<br>"
   ]
  },
  {
   "cell_type": "code",
   "execution_count": 0,
   "metadata": {
    "collapsed": false
   },
   "outputs": [
   ],
   "source": [
    "Together(D)"
   ]
  },
  {
   "cell_type": "markdown",
   "metadata": {
    "collapsed": false
   },
   "source": [
    "<br>\r\n",
    "EXPERIMENT: <br>\r\n",
    "\r\n",
    "Can you find a relationship between <em>A</em>&middot;<em>B</em> &minus; <em>B</em>&middot;<em>A</em> and the three dimensional \r\n",
    "vectors <strong>u</strong> = &lang;<em>u</em><sub>1</sub>, <em>u</em><sub>2</sub>, <em>u</em><sub>3</sub>&rang; and <strong>v</strong> = \r\n",
    "&lang;<em>v</em><sub>1</sub>, <em>v</em><sub>2</sub>, <em>v</em><sub>3</sub>&rang;.  For what values of <strong>u0</strong>, <strong>u1</strong>, <strong>u2</strong>, and \r\n",
    "<strong>u3</strong> does <em>A</em>&middot;<em>B</em> &minus; <em>B</em>&middot;<em>A</em> = 0 for all possible values of <em>B</em>?  (Hint: which \r\n",
    "variables are missing in <em>A</em>&middot;<em>B</em> &minus; <em>B</em>&middot;<em>A</em>?)<br>"
   ]
  },
  {
   "cell_type": "markdown",
   "metadata": {
    "collapsed": false
   },
   "source": [
    "<br>\r\n",
    "It is fairly clear from this experiment that the center of &#8461; is the set of quaternions for which <em>u</em><sub>1</sub> = <em>u</em><sub>2</sub> = \r\n",
    "<em>u</em><sub>3</sub> = 0.  Thus, the center is basically the field of real numbers.  We can easily prove that the center of a skew field will always form a field.\r\n",
    "\r\n",
    "<p />\r\n",
    "<a name=\"lem136ret\" id=\"lem136ret\"></a>\r\n",
    "LEMMA 13.6<br>\r\n",
    "The center of a skew field forms a field.<br><br>\r\n",
    "\r\n",
    "<a href=\"#lem136\">Click here for the proof.</a> \r\n",
    "\r\n",
    "<p />\r\n",
    "Another concept from group theory that carries over into the study of fields is the normalizer. Recall the definition of a normalizer of a subset <em>S</em> of a \r\n",
    "group <em>G</em>. We defined\r\n",
    "<p style='text-align: center;'><em>N<sub>G</sub></em>(<em>S</em>) = { <em>g</em> &isin; <em>G</em> | <em>g</em>&middot;<em>S</em>&middot;<em>g</em><sup>-1</sup> = \r\n",
    "<em>S</em> }.</p>\r\n",
    "We would like to apply the normalizer to the multiplicative group of a field.  In particular, we would like to consider the normalizer of a particular element, that is, \r\n",
    "when <em>S</em> = {<em>y</em>}.<br><br>\r\n",
    "\r\n",
    "Let us find the normalizer of the element <em>i</em> in the nonzero quaternions.  This consists of all elements <em>A</em> such \r\n",
    "that <em>A</em>&middot;<em>i</em>&middot;<em>A</em><sup>-1</sup> = <em>i</em>.  We can use <em>Sage</em> to help us find this set.<br><br>\r\n",
    "\r\n",
    "EXPERIMENT:<br>\r\n",
    "By examining the result of the computation<br>"
   ]
  },
  {
   "cell_type": "code",
   "execution_count": 0,
   "metadata": {
    "collapsed": false
   },
   "outputs": [
   ],
   "source": [
    "A*i*A^-1 - i"
   ]
  },
  {
   "cell_type": "code",
   "execution_count": 0,
   "metadata": {
    "collapsed": false
   },
   "outputs": [
   ],
   "source": [
    "Together(_)"
   ]
  },
  {
   "cell_type": "markdown",
   "metadata": {
    "collapsed": false
   },
   "source": [
    "<br>\r\n",
    "determine the values of <strong>u0</strong>, <strong>u1</strong>, <strong>u2</strong>, and <strong>u3</strong> that allow this to be 0.  (Hint: when does \r\n",
    "the <em>i</em> componient equal zero?)  This gives us the set <em>N</em><sub>&#8461;</sub>&#8270;({<em>i</em>}). Next replace both <em>i</em>'s with <em>j</em>'s to find \r\n",
    "the set <em>N</em><sub>&#8461;</sub>&#8270;({<em>j</em>}).<br>"
   ]
  },
  {
   "cell_type": "markdown",
   "metadata": {
    "collapsed": false
   },
   "source": [
    "<br>\r\n",
    "We see from this experiment that the normalizer does not quite form a field, since it does not include the zero element.  Yet if we added the zero element \r\n",
    "to <em>N</em><sub>&#8461;</sub>&#8270;({<em>i</em>}) or <em>N</em><sub>&#8461;</sub>&#8270;({<em>j</em>}), we got a field which was equivalent to the complex \r\n",
    "numbers.  In fact, whenever <em>y</em> is not real, <em>N</em><sub>&#8461;</sub>&#8270;({<em>y</em>}) &cup; {0} yields a copy of the complex numbers.  Hence, there are \r\n",
    "actually an infinite number of complex number planes within the field of quaternions.<br><br>\r\n",
    "\r\n",
    "It is not hard to show that for any skew field, whenever we add the zero element to the normalizer, we will either get a field or a skew field.\r\n",
    "\r\n",
    "<p />\r\n",
    "<a name=\"lem137ret\" id=\"lem137ret\"></a>\r\n",
    "LEMMA 13.7<br>\r\n",
    "Let <em>K</em> be a skew field, and let <em>k</em> be an element of <em>K</em>.  Then if we let\r\n",
    "<p style='text-align: center;'><em>Y<sub>k</sub></em> = {0} &cup; <em>N<sub>K</sub></em>&#8270;({<em>k</em>}),</p>\r\n",
    "then <em>Y<sub>k</sub></em> is a division ring containing the center of <em>K</em>.<br><br> \r\n",
    "\r\n",
    "<a href=\"#lem137\">Click here for the proof.</a> \r\n",
    "\r\n",
    "<p />\r\n",
    "We now can apply the center and normalizer to <em>finite division rings</em>.  We first need a lemma that will help us out regarding the divisibility of the orders of \r\n",
    "finite fields.\r\n",
    "\r\n",
    "<p />\r\n",
    "<a name=\"lem138ret\" id=\"lem138ret\"></a>\r\n",
    "LEMMA 13.8<br>\r\n",
    "Let <em>y</em>, <em>n</em>, and <em>m</em> be positive integers, with <em>y</em> &gt; 1. Then\r\n",
    "<table align=\"center\" border=\"0\" cellspacing=\"0\" cellpadding=\"0\">\r\n",
    "  <tr>\r\n",
    "    <td align=\"center\" valign=\"bottom\"><em>y<sup>n</sup></em> &minus; 1</td>\r\n",
    "  </tr>\r\n",
    "  <tr>\r\n",
    "    <td align=\"center\"><hr noshade size=1></td>\r\n",
    "  </tr>\r\n",
    "  <tr>\r\n",
    "    <td align=\"center\" valign=\"top\"><em>y<sup>m</sup></em> &minus; 1</td>\r\n",
    "  </tr>\r\n",
    "</table>\r\n",
    "<br>\r\n",
    "is an integer if, and only if, <em>n</em> is divisible by <em>m</em>.  Furthermore, if <em>n</em> is divisible by <em>m</em>, with <em>n</em> &gt; <em>m</em>, then\r\n",
    "<br><br>\r\n",
    "<table align=\"center\" border=\"0\" cellspacing=\"0\" cellpadding=\"0\">\r\n",
    "  <tr>\r\n",
    "    <td align=\"center\" valign=\"bottom\"><em>y<sup>n</sup></em> &minus; 1</td>\r\n",
    "  </tr>\r\n",
    "  <tr>\r\n",
    "    <td align=\"center\"><hr noshade size=1></td>\r\n",
    "  </tr>\r\n",
    "  <tr>\r\n",
    "    <td align=\"center\" valign=\"top\"><em>y<sup>m</sup></em> &minus; 1</td>\r\n",
    "  </tr>\r\n",
    "</table>\r\n",
    "<br>\r\n",
    "is divisible by the number &Phi;<sub><em>n</em></sub>(<em>y</em>).<br><br>\r\n",
    "\r\n",
    "<a href=\"#lem138\">Click here for the proof.</a>\r\n",
    "\r\n",
    "<p />\r\n",
    "This lemma reveals the possible orders of division rings within a finite division ring.\r\n",
    "\r\n",
    "<p />\r\n",
    "<a name=\"cor137ret\" id=\"cor137ret\"></a>\r\n",
    "COROLLARY 13.7<br>\r\n",
    "Let <em>K</em> be a finite division ring of order <em>p<sup>n</sup></em>, and let <em>F</em> be a subring that is a division ring of \r\n",
    "order <em>p<sup>m</sup></em>.  Then <em>n</em> is a multiple of <em>m</em>.<br><br>\r\n",
    "\r\n",
    "<a href=\"#cor137\">Click here for the proof.</a>\r\n",
    "\r\n",
    "<p />\r\n",
    "Note that this corollary has applications in finite fields.  For example, it shows that the field of order 16 cannot have a subfield of order 8.<br><br>\r\n",
    "\r\n",
    "There is one more tool that we need from group theory, which stems from the normalizer.  We discovered in &sect;7.4 that the class equation was a powerful tool in \r\n",
    "analyzing groups.  In fact, all three Sylow theorems hinge on the class equation.  So let us observe how this useful tool applies to skew fields.  Recall that the \r\n",
    "class equation theorem (7.2) stated that when <em>G</em> is a finite group, then\r\n",
    "\r\n",
    "<table align=\"center\" border=\"0\" cellspacing=\"0\" cellpadding=\"0\">\r\n",
    "  <tr>\r\n",
    "    <td rowspan = \"2\" align=\"right\">|<em>G</em>| = </td>\r\n",
    "    <td rowspan = \"2\" align=\"center\" valign=\"bottom\"><font face=\"Times New Roman, Times, serif\" size=\"+4\">&sum;</font></td>\r\n",
    "    <td height=\"33\" valign=\"bottom\"><font style=\"text-decoration:underline\">&ensp;&emsp;| <em>G</em> |&emsp;&ensp;</font></td>\r\n",
    "    <td rowspan = \"2\" align=\"right\">,</td>\r\n",
    "  </tr>\r\n",
    "  <tr>\r\n",
    "     <td valign=\"top\">| <em>N<sub>G</sub></em>({<em>g</em>}) |</td>\r\n",
    "  </tr>\r\n",
    "  <tr>\r\n",
    "    <td></td>\r\n",
    "    <td align=\"center\" valign=\"top\"><em>g</em></td>\r\n",
    "    <td></td>\r\n",
    "    <td></td>\r\n",
    "  </tr>\r\n",
    "</table>\r\n",
    "\r\n",
    "where the sum runs over one <em>g</em> from each conjugacy class.<br><br>\r\n",
    "\r\n",
    "If <em>K</em> is a finite skew field, we can apply the class equation theorem to the multiplicative group <em>K</em><sup>*</sup>, and find that\r\n",
    "\r\n",
    "<table align=\"center\" border=\"0\" cellspacing=\"0\" cellpadding=\"0\">\r\n",
    "  <tr>\r\n",
    "    <td rowspan = \"2\" align=\"right\">|<em>K</em><sup>*</sup>| = </td>\r\n",
    "    <td rowspan = \"2\" align=\"center\" valign=\"bottom\"><font face=\"Times New Roman, Times, serif\" size=\"+4\">&sum;</font></td>\r\n",
    "    <td height=\"33\" valign=\"bottom\"><font style=\"text-decoration:underline\">&ensp;&emsp;| <em>K</em>* |&emsp;&ensp;</font></td>\r\n",
    "    <td rowspan = \"2\" align=\"right\">.</td>\r\n",
    "  </tr>\r\n",
    "  <tr>\r\n",
    "     <td valign=\"top\">| <em>N<sub>K</sub></em>&#8270;({<em>k</em>}) |</td>\r\n",
    "  </tr>\r\n",
    "  <tr>\r\n",
    "    <td></td>\r\n",
    "    <td align=\"center\" valign=\"top\"><em>k</em></td>\r\n",
    "    <td></td>\r\n",
    "    <td></td>\r\n",
    "  </tr>\r\n",
    "</table>\r\n",
    "\r\n",
    "<br>\r\n",
    "We can make the obvious substitutions |<em>K</em><sup>*</sup>| = |<em>K</em>| &minus; 1, and \r\n",
    "| <em>N<sub>K</sub></em>&#8270;({<em>k</em>}) | = |<em>Y<sub>k</sub></em>| &minus; 1. The equation now looks like\r\n",
    "<br><br>\r\n",
    "<table align=\"center\" border=\"0\" cellspacing=\"0\" cellpadding=\"0\">\r\n",
    "  <tr>\r\n",
    "    <td rowspan = \"2\" align=\"right\">|<em>K</em>| &minus; 1= </td>\r\n",
    "    <td rowspan = \"2\" align=\"center\" valign=\"bottom\"><font face=\"Times New Roman, Times, serif\" size=\"+4\">&sum;</font></td>\r\n",
    "    <td height=\"33\" valign=\"bottom\"><font style=\"text-decoration:underline\">&ensp;|<em>K</em>| &minus; 1&ensp;</font></td>\r\n",
    "    <td rowspan = \"2\" align=\"right\">,</td>\r\n",
    "  </tr>\r\n",
    "  <tr>\r\n",
    "     <td align=\"center\" valign=\"top\">|<em>Y<sub>k</sub></em>| &minus; 1</td>\r\n",
    "  </tr>\r\n",
    "  <tr>\r\n",
    "    <td></td>\r\n",
    "    <td align=\"center\" valign=\"top\"><em>k</em></td>\r\n",
    "    <td></td>\r\n",
    "    <td></td>\r\n",
    "  </tr>\r\n",
    "</table>\r\n",
    "where the sum runs from one <em>k</em> from each conjugacy class of <em>K</em><sup>*</sup>.<br><br>\r\n",
    "\r\n",
    "We are almost ready to use the class equation to prove that finite skew field cannot exist. But first we need to prove a simple inequality about the evaluation of \r\n",
    "a cyclotomic polynomial at a positive integer.\r\n",
    "\r\n",
    "<p />\r\n",
    "<a name=\"lem139ret\" id=\"lem139ret\"></a>\r\n",
    "LEMMA 13.9<br>\r\n",
    "If <em>n</em> &gt; 1, then the cyclotomic polynomial evaluated at <em>y</em> &ge; 2, &Phi;<sub><em>n</em></sub>(<em>y</em>), is greater than <em>y</em> &minus; 1.<br><br>\r\n",
    "\r\n",
    "<a href=\"#lem139\">Click here for the proof.</a>\r\n",
    "\r\n",
    "<p />\r\n",
    "The final step is to use Lemma 13.9 to prove a contradiction in the class equation for finite skew fields.\r\n",
    "\r\n",
    "<p />\r\n",
    "<a name=\"theor133ret\" id=\"theor133ret\"></a>\r\n",
    "THEOREM 13.3: Wedderburn's Theorem<br>\r\n",
    "There are no finite skew fields.<br><br>\r\n",
    "\r\n",
    "<a href=\"#theor133\">Click here for the proof.</a>\r\n",
    "\r\n",
    "<p />\r\n",
    "In a sence, the non-existance of finite skew fields is sad, since there would be plenty of applications for skew fields in crytography and group theory if they had \r\n",
    "existed.  On the other hand, this result, when combined with the classification of all finite fields, means that we have found all finite division rings.\r\n",
    "\r\n",
    "<br><br><br><br><br><br><br><br><br><br><br><br><br><br><br><br><br><br><br><br><br><br><br><br><br><br><br><br><br><br><br><br><br><br><br><br><br><br><br><br><br><br>\r\n",
    "\r\n",
    "<h1>Proofs:</h1>\r\n",
    "\r\n",
    "<a name=\"prop131\" id=\"prop131\"></a>\r\n",
    "\r\n",
    "Proof of Proposition 13.1:<br><br> \r\n",
    "\r\n",
    "Since <em>K</em> is a field, by Corollary 12.7 <em>K</em>[<em>x</em>] is a principal ideal domain.  Since <em>f</em>(<em>x</em>) is an irreducible element \r\n",
    "of <em>K</em>[<em>x</em>], we have by Lemma 12.6 that the quotient <em>H</em> = <em>K</em>[<em>x</em>]/&lang;<em>f</em>(<em>x</em>)&rang; is a field.<br><br>\r\n",
    "\r\n",
    "Finally, we need to show that the field <em>H</em> contains <em>K</em> as a subfield.  Consider the mapping\r\n",
    "<p style='text-align: center;'><em>&#981;</em> : <em>K</em> &rarr; <em>H</em></p>\r\n",
    "given by\r\n",
    "<p style='text-align: center;'><em>&#981;</em>(<em>y</em>) = <em>y</em> + &lang;<em>f</em>(<em>x</em>)&rang;.</p>\r\n",
    "This is certainly a homomorphism, since it is a restriction of the natural homomorphism from <em>K</em>[<em>x</em>] to \r\n",
    "<em>K</em>[<em>x</em>]/&lang;<em>f</em>(<em>x</em>)&rang;.  The kernel of <em>&#981;</em> is just {0}, so the image is isomorphic to <em>K</em>.  Thus, \r\n",
    "<em>K</em>[<em>x</em>]/&lang;<em>f</em>(<em>x</em>)&rang; contains <em>K</em> as a subfield.<br><br>\r\n",
    "\r\n",
    "<a href=\"#prop131ret\">Return to text</a>\r\n",
    "\r\n",
    "<br><br><br><br><br><br><br><br><br><br><br><br><br><br><br><br><br><br><br><br><br><br><br><br><br><br><br><br><br><br><br><br><br><br><br><br><br><br><br><br><br><br>\r\n",
    "\r\n",
    "<a name=\"prop132\" id=\"prop132\"></a>\r\n",
    "\r\n",
    "Proof of Proposition 13.2:<br><br> \r\n",
    "\r\n",
    "By the division algorithm theorem (12.1), every element <em>f</em>(<em>x</em>) of <em>Z<sub>p</sub></em>[<em>x</em>] can be written\r\n",
    "<p style='text-align: center;'><em>f</em>(<em>x</em>) = <em>q</em>(<em>x</em>)&middot;<em>A</em>(<em>x</em>) + <em>r</em>(<em>x</em>),</p>\r\n",
    "where either <em>r</em>(<em>x</em>) is 0, or the degree of <em>r</em>(<em>x</em>) is less than <em>d</em>.  Thus, the typical element of <em>K</em>,\r\n",
    "<p style='text-align: center;'><em>f</em>(<em>x</em>) + &lang;<em>A</em>(<em>x</em>)&rang;,</p>\r\n",
    "could be written as <em>r</em>(<em>x</em>) + &lang;<em>A</em>(<em>x</em>)&rang;.  Furthermore, the <em>r</em>(<em>x</em>) is uniquely determined from the division algorithm.  \r\n",
    "Thus, there are as many elements in <em>K</em> as there are polynomials in <em>Z<sub>p</sub></em>[<em>x</em>] with degree less than <em>d</em>, counting the \r\n",
    "zero polynomial.  All such polynomials can be written\r\n",
    "<p style='text-align: center;'><em>a</em><sub>0</sub> + <em>a</em><sub>1</sub> <em>x</em> + <em>a</em><sub>2</sub> <em>x</em><sup>2</sup> + \r\n",
    "<em>a</em><sub>3</sub> <em>x</em><sup>3</sup> + &#8943; + <em>a</em><sub><em>d</em>&minus;1</sub> <em>x</em><sup><em>d</em>&minus;1</sup></p>\r\n",
    "with each <em>a<sub>i</sub></em> between 0 and <em>p</em> &minus; 1, inclusively.  Since there are <em>d</em> coefficients, each of which can be <em>p</em> different \r\n",
    "numbers, there are exactly <em>p<sup>d</sup></em> possible polynomials of degree less than <em>d</em>.  Thus, |<em>K</em>| = <em>p<sup>d</sup></em>.<br><br>\r\n",
    "\r\n",
    "<a href=\"#prop132ret\">Return to text</a>\r\n",
    "\r\n",
    "<br><br><br><br><br><br><br><br><br><br><br><br><br><br><br><br><br><br><br><br><br><br><br><br><br><br><br><br><br><br><br><br><br><br><br><br><br><br><br><br><br><br>\r\n",
    "\r\n",
    "<a name=\"prop133\" id=\"prop133\"></a>\r\n",
    "\r\n",
    "Proof of Proposition 13.3:<br><br>\r\n",
    "\r\n",
    "Let <em>q</em> be the order of <em>K</em>.  From the additive structure of the ring, we see that <em>q</em>&middot;<em>x</em> = 0 for all <em>x</em> in <em>K</em>.  Thus, \r\n",
    "the characteristic is positive, and by Proposition 11.2, the characteristic is a prime number, <em>p</em>.<br><br>\r\n",
    "\r\n",
    "Suppose that <em>q</em> has a prime factor <em>r</em> other than <em>p</em>.  Then the additive group of <em>K</em> must have a subgroup of order <em>r</em>, according \r\n",
    "to Lemma 6.2.  Hence <em>r</em>&middot;<em>x</em> = 0 for some element <em>x</em> in <em>K</em>.  But this contradicts Proposition 11.2, since <em>r</em> is not divisible \r\n",
    "by <em>p</em>.  Therefore, <em>q</em> has no prime factors other than <em>p</em>, so <em>q</em> = <em>p<sup>n</sup></em> for some integer <em>n</em>.<br><br>\r\n",
    "\r\n",
    "<a href=\"#prop133ret\">Return to text</a>\r\n",
    "\r\n",
    "<br><br><br><br><br><br><br><br><br><br><br><br><br><br><br><br><br><br><br><br><br><br><br><br><br><br><br><br><br><br><br><br><br><br><br><br><br><br><br><br><br><br>\r\n",
    "\r\n",
    "<a name=\"prop134\" id=\"prop134\"></a>\r\n",
    "\r\n",
    "Proof of Proposition 13.4:<br><br>\r\n",
    "\r\n",
    "Since <em>F</em><sup>*</sup> is abelian, by the fundamental theorem of abelian groups (6.2),\r\n",
    "<p style='text-align: center;'><em>F</em><sup>*</sup> &asymp; <em>Z</em><sub><em>d</em>&#8321;</sub> &times; <em>Z</em><sub><em>d</em>&#8322;</sub> &times; \r\n",
    "<em>Z</em><sub><em>d</em>&#8323;</sub> &times; &#8943; &times; <em>Z</em><sub><em>d</em>&#8345;</sub>,</p>\r\n",
    "where the <em>d<sub>i</sub></em> are all powers of prime numbers.  Let <em>d</em> be the least common multiple of the set {<em>d</em><sub>1</sub>, \r\n",
    "<em>d</em><sub>2</sub>, <em>d</em><sub>3</sub>, &hellip; <em>d<sub>n</sub></em>}.  Then for all <em>x</em> in <em>F</em><sup>*</sup>, we have \r\n",
    "that <em>x<sup>d</sup></em> = 1.  Thus, the polynomial <nobr><em>x<sup>d</sup></em> &minus; 1</nobr> has |<em>F</em><sup>*</sup>| solutions.  By Corollary 12.2, <em>d</em> must be \r\n",
    "at least |<em>F</em><sup>*</sup>|.  But we also have\r\n",
    "<p style='text-align: center;'>|<em>F</em><sup>*</sup>| = <em>d</em><sub>1</sub>&middot;<em>d</em><sub>2</sub>&middot;<em>d</em><sub>3</sub> &#8943; \r\n",
    "<em>d<sub>n</sub></em>.</p>\r\n",
    "so <em>d</em> is at most |<em>F</em><sup>*</sup>|.  Thus, <em>d</em> = |<em>F</em><sup>*</sup>|, and so <em>d</em><sub>1</sub>, \r\n",
    "<em>d</em><sub>2</sub>, <em>d</em><sub>3</sub>, &hellip; <em>d<sub>n</sub></em> are coprime.  Therefore, the group <em>F</em><sup>*</sup> is cyclic.<br><br>\r\n",
    "\r\n",
    "<a href=\"#prop134ret\">Return to text</a>\r\n",
    "\r\n",
    "<br><br><br><br><br><br><br><br><br><br><br><br><br><br><br><br><br><br><br><br><br><br><br><br><br><br><br><br><br><br><br><br><br><br><br><br><br><br><br><br><br><br>\r\n",
    "\r\n",
    "<a name=\"lem131\" id=\"lem131\"></a>\r\n",
    "\r\n",
    "Proof of Lemma 13.1:<br><br>\r\n",
    "\r\n",
    "Since <em>Z<sub>p</sub></em><sup>*</sup> is of order <em>p</em> &minus; 1, we have by Corollary 3.2 that\r\n",
    "<p style='text-align: center;'><em>n</em>&thinsp;<sup><em>p</em>&minus;1</sup> = 1</p>\r\n",
    "for all elements <em>n</em> in <em>Z<sub>p</sub></em><sup>*</sup>. (This result is commonly called Fermat's little theorem.)  If we multiply both sides by <em>n</em>,\r\n",
    "<p style='text-align: center;'><em>n&thinsp;<sup>p</sup></em> = <em>n</em>,</p>\r\n",
    "we have a statement that is true for <em>n</em> = 0 as well. Thus, <em>n&thinsp;<sup>p</sup></em> = <em>n</em> for all <em>n</em> in the ring <em>Z<sub>p</sub></em>.  This \r\n",
    "statement, when converted into modular notation, becomes\r\n",
    "<p style='text-align: center;'><em>n&thinsp;<sup>p</sup></em> &equiv; <em>n</em> (mod <em>p</em>)&emsp;for all integers <em>n</em>.</p>\r\n",
    "\r\n",
    "<a href=\"#lem131ret\">Return to text</a>\r\n",
    "\r\n",
    "<br><br><br><br><br><br><br><br><br><br><br><br><br><br><br><br><br><br><br><br><br><br><br><br><br><br><br><br><br><br><br><br><br><br><br><br><br><br><br><br><br><br>\r\n",
    "\r\n",
    "<a name=\"lem132\" id=\"lem132\"></a>\r\n",
    "\r\n",
    "Proof of Lemma 13.2:<br><br>\r\n",
    "\r\n",
    "If <em>g</em> = 0, <em>f</em>(<em>x</em>) = <em>x<sup>p</sup></em> &minus; <em>x<sup>p</sup></em> = 0, so the result is trivial.  Let us suppose that <em>g</em> is \r\n",
    "nonzero.<br><br>\r\n",
    "\r\n",
    "Note that the leading term of (<em>x</em> + <em>g</em>)<sup><em>p</em></sup> is <em>x<sup>p</sup></em>, which will cancel \r\n",
    "in <em>f</em>(<em>x</em>).  Thus, <em>f</em>(<em>x</em>) has degree at most <em>p</em> &minus; 1.  We will show that for every <em>n</em>, <em>n</em>&middot;<em>g</em> is a \r\n",
    "root.  Observe that\r\n",
    "<p style='text-align: center;'><em>f</em>(<em>n</em>&middot;<em>g</em>) = (<em>n</em>&middot;<em>g</em> + <em>g</em>)<sup><em>p</em></sup> &minus; \r\n",
    "(<em>n</em>&middot;<em>g</em>)<sup><em>p</em></sup> &minus; <em>g&thinsp;<sup>p</sup></em> = \r\n",
    "((<em>n</em> + 1)<sup><em>p</em></sup> &minus; <em>n&thinsp;<sup>p</sup></em> &minus; 1)&middot;<em>g&thinsp;<sup>p</sup></em>.</p>\r\n",
    "By Lemma 13.1,\r\n",
    "<p style='text-align: center;'>(<em>n</em> + 1)<sup><em>p</em></sup> &equiv; (<em>n</em> + 1)&ensp;(mod <em>p</em>)&emsp;and&emsp;<em>n&thinsp;<sup>p</sup></em> &equiv; \r\n",
    "<em>n</em>&ensp;(mod <em>p</em>).</p>\r\n",
    "Thus,\r\n",
    "<p style='text-align: center;'>(<em>n</em> + 1)<sup><em>p</em></sup> &minus; <em>n&thinsp;<sup>p</sup></em> &minus; 1 &equiv; (<em>n</em> + 1) &minus; <em>n</em> &minus; 1 \r\n",
    "&equiv; 0&emsp;(mod <em>p</em>).</p>\r\n",
    "So because <em>F</em> has characteristic <em>p</em>, we have <em>f</em>(<em>n</em>&middot;<em>g</em>) = 0.<br><br>\r\n",
    "\r\n",
    "Since <em>g</em> is nonzero, the values\r\n",
    "<p style='text-align: center;'>{0, <em>g</em>, 2<em>g</em>, 3<em>g</em>, &hellip; , (<em>p</em> &minus; 1)<em>g</em>}</p>\r\n",
    "are all distinct in <em>F</em>.  Thus, <em>f</em>(<em>x</em>) has <em>p</em> distinct roots.  But Corollary 12.2 shows us that if <em>f</em>(<em>x</em>) were nonzero, \r\n",
    "there would be at most <em>p</em> &minus; 1 roots. Thus, <em>f</em>(<em>x</em>) must be the zero polynomial.<br><br>\r\n",
    "\r\n",
    "<a href=\"#lem132ret\">Return to text</a>\r\n",
    "\r\n",
    "<br><br><br><br><br><br><br><br><br><br><br><br><br><br><br><br><br><br><br><br><br><br><br><br><br><br><br><br><br><br><br><br><br><br><br><br><br><br><br><br><br><br>\r\n",
    "\r\n",
    "<a name=\"theor131\" id=\"theor131\"></a>\r\n",
    "\r\n",
    "Proof of Theorem 13.1:<br><br>\r\n",
    "\r\n",
    "We first need to show that <em>&fnof;</em> is a homomorphism.  If <em>F</em> is a field of characteristic <em>p</em>, then by Lemma 13.2 we have that\r\n",
    "<p style='text-align: center;'>(<em>x</em> + <em>g</em>)<sup><em>p</em></sup> &minus; <em>x<sup>p</sup></em> &minus; <em>g<sup>p</sup></em> = 0.</p>\r\n",
    "for all <em>g</em> in <em>F</em>.  Thus, we have the identity\r\n",
    "<p style='text-align: center;'><em>&fnof;</em>(<em>x</em> + <em>y</em>) = (<em>x</em> + <em>y</em>)<sup><em>p</em></sup> = \r\n",
    "<em>x<sup>p</sup></em> + <em>y<sup>p</sup></em> = <em>&fnof;</em>(<em>x</em>) + <em>&fnof;</em>(<em>y</em>).</p>\r\n",
    "It is also obvious that\r\n",
    "<p style='text-align: center;'><em>&fnof;</em>(<em>x</em>&middot;<em>y</em>) = (<em>x</em>&middot;<em>y</em>)<sup><em>p</em></sup> = \r\n",
    "<em>x<sup>p</sup></em>&middot;<em>y<sup>p</sup></em> = <em>&fnof;</em>(<em>x</em>)&middot;<em>&fnof;</em>(<em>y</em>).</p>\r\n",
    "So <em>&fnof;</em> is a homomorphism.  The kernel of <em>&fnof;</em> is obviously just 0, since <em>x<sup>p</sup></em> = 0 implies that <em>x</em> = 0, \r\n",
    "since <em>F</em> has no zero divisors.  Therefore, the mapping is one-to-one.  Since <em>F</em> is a finite field, we can use the pigeonhole principle to show that \r\n",
    "the mapping is also onto.  Therefore, <em>&fnof;</em> is an automorphism.<br><br>\r\n",
    "\r\n",
    "Finally, we need to show that <em>&fnof;</em>(<em>y</em>) = <em>y</em> if, and only if, <em>y</em> is in the subfield <em>Z<sub>p</sub></em>.  Note that this subfield \r\n",
    "is generated by the multiplicative identity, 1:\r\n",
    "<p style='text-align: center;'><em>Z<sub>p</sub></em> = {0, 1, 2, 3, &hellip; <em>p</em> &minus; 1}.</p>\r\n",
    "By Lemma 13.1, for any element in this subfield, <em>&fnof;</em>(<em>x</em>) = <em>x<sup>p</sup></em> = <em>x</em>.  On the other hand, by Corollary 12.2, the \r\n",
    "polynomial <em>x<sup>p</sup></em> &minus; <em>x</em> in <em>F</em>[<em>x</em>] cannot have more than <em>p</em> roots in <em>F</em>.  We have already \r\n",
    "found <em>p</em> solutions, so there cannot be anymore.  Therefore, <em>&fnof;</em>(<em>y</em>) = <em>y</em> if, and only if, <em>y</em> is in <em>Z<sub>p</sub></em>.<br><br>\r\n",
    "\r\n",
    "<a href=\"#theor131ret\">Return to text</a>\r\n",
    "\r\n",
    "<br><br><br><br><br><br><br><br><br><br><br><br><br><br><br><br><br><br><br><br><br><br><br><br><br><br><br><br><br><br><br><br><br><br><br><br><br><br><br><br><br><br>\r\n",
    "\r\n",
    "<a name=\"cor131\" id=\"cor131\"></a>\r\n",
    "\r\n",
    "Proof of Corollary 13.1:<br><br>\r\n",
    "\r\n",
    "Note that the multiplicative group <em>F</em><sup>*</sup> has order <em>p<sup>n</sup></em> &minus; 1.  Thus, by Corollary 3.2, for every element <em>x</em> \r\n",
    "in <em>F</em><sup>*</sup> we have\r\n",
    "<p style='text-align: center;'><em>x</em><sup>(<em>p&#8319;</em>&minus;1)</sup> = 1.</p>\r\n",
    "Multiplying both sides by <em>x</em> gives us <em>x<sup>p&#8319;</sup></em> = <em>x</em> for all <em>x</em> in <em>F</em><sup>*</sup>, and also <em>x</em> = 0.  Thus, \r\n",
    "this statement is true for all <em>x</em> in <em>F</em>.<br><br>\r\n",
    "\r\n",
    "We now note that\r\n",
    "$$f^n(x) = \\underbrace{f(f(f(\\cdots(f(x))\\cdots)))}_{n \\rm\\;times} = x^{p^n} = x$$\r\n",
    "for all <em>x</em> in <em>F</em>, so <em>&fnof;&thinsp;<sup>n</sup></em>(<em>x</em>) yields the identity automorphism.<br><br>\r\n",
    "\r\n",
    "To show that the order of <em>&fnof;</em>(<em>x</em>) is not less than <em>n</em>, suppose that the order \r\n",
    "was <em>i</em> &lt; <em>n</em>.  Then <em>&fnof;&thinsp;<sup>i</sup></em>(<em>x</em>) = <em>x<sup>p&#8305;</sup></em> would be <em>x</em> for all <em>x</em>.  But then the \r\n",
    "polynomial\r\n",
    "<p style='text-align: center;'><em>x<sup>p&#8305;</sup></em> &minus; <em>x</em></p>\r\n",
    "would have <em>p<sup>n</sup></em> solutions.  This contradicts Corollary 12.2, since <em>n</em> &gt; <em>i</em>.  Therefore, the order of the Frobinius automorphism \r\n",
    "is <em>n</em>.<br><br>\r\n",
    "\r\n",
    "<a href=\"#cor131ret\">Return to text</a>\r\n",
    "\r\n",
    "<br><br><br><br><br><br><br><br><br><br><br><br><br><br><br><br><br><br><br><br><br><br><br><br><br><br><br><br><br><br><br><br><br><br><br><br><br><br><br><br><br><br>\r\n",
    "\r\n",
    "<a name=\"lem133\" id=\"lem133\"></a>\r\n",
    "\r\n",
    "Proof of Lemma 13.3:<br><br>\r\n",
    "\r\n",
    "Suppose <em>&fnof;</em> is an isomorphism mapping <em>K</em> to <em>M</em>.  If <em>w</em>(<em>x</em>) is in <em>K</em>[<em>x</em>], with \r\n",
    "coefficients <em>a<sub>i</sub></em>, we can define <em>&fnof;</em>(<em>w</em>(<em>x</em>)) by\r\n",
    "<br><br>\r\n",
    "<table align=\"center\"  border=\"0\" cellspacing=\"0\" cellpadding=\"0\">\r\n",
    "  <tr>\r\n",
    "    <td ></td>\r\n",
    "    <td align=\"center\">&#9115;</td>\r\n",
    "    <td align=\"center\" valign=\"bottom\">&infin;</td>\r\n",
    "    <td></td>\r\n",
    "    <td align=\"center\">&#9118;</td>\r\n",
    "    <td></td>\r\n",
    "    <td align=\"center\" valign=\"bottom\">&infin;</td>\r\n",
    "    <td></td>\r\n",
    "  </tr>\r\n",
    "  <tr>\r\n",
    "    <td rowspan = \"3\" align=\"right\"><em>&fnof;</em>(<em>w</em>(<em>x</em>)) = <em>&fnof;</em>&thinsp;</td>\r\n",
    "    <td align=\"center\">&#9116;</td>\r\n",
    "    <td rowspan = \"3\" align=\"center\"><font face=\"Times New Roman, Times, serif\" size=\"+4\">&sum;</font></td>\r\n",
    "    <td rowspan = \"3\"><em>a<sub>i</sub></em> <em>x<sup>i</sup></em></td>\r\n",
    "    <td align=\"center\">&#9119;</td>\r\n",
    "    <td rowspan = \"3\">&ensp;=</td>\r\n",
    "    <td rowspan = \"3\" align=\"center\"><font face=\"Times New Roman, Times, serif\" size=\"+4\">&sum;</font></td>\r\n",
    "    <td rowspan = \"3\" align=\"center\"><em>&fnof;</em>(<em>a<sub>i</sub></em>) <em>x<sup>i</sup></em>.</td>\r\n",
    "  </tr>\r\n",
    "  <tr>\r\n",
    "    <td align=\"center\">&#9116;</td>\r\n",
    "    <td align=\"center\">&#9119;</td>\r\n",
    "  </tr>\r\n",
    "  <tr>\r\n",
    "    <td align=\"center\">&#9116;</td>\r\n",
    "    <td align=\"center\">&#9119;</td>\r\n",
    "  </tr>\r\n",
    "  <tr>\r\n",
    "    <td></td>\r\n",
    "    <td align=\"center\">&#9117;</td>\r\n",
    "    <td align=\"center\" valign=\"top\">&thinsp;<em>i</em>=0&thinsp;</td>\r\n",
    "    <td></td>\r\n",
    "    <td align=\"center\">&#9120;</td> \r\n",
    "    <td></td>\r\n",
    "    <td align=\"center\" valign=\"top\">&thinsp;<em>i</em>=0&thinsp;</td>\r\n",
    "    <td></td>   \r\n",
    "  </tr>\r\n",
    "</table>\r\n",
    "<br>\r\n",
    "If <em>v</em>(<em>x</em>) is another polynomial in <em>K</em>[<em>x</em>] with coefficients <em>b<sub>i</sub></em>, then\r\n",
    "<br><br>\r\n",
    "<table align=\"center\"  border=\"0\" cellspacing=\"0\" cellpadding=\"0\">\r\n",
    "  <tr>\r\n",
    "    <td ></td>\r\n",
    "    <td align=\"center\">&#9115;</td>\r\n",
    "    <td align=\"center\" valign=\"bottom\">&infin;</td>\r\n",
    "    <td></td>\r\n",
    "    <td align=\"center\">&#9118;</td>\r\n",
    "    <td></td>\r\n",
    "    <td align=\"center\" valign=\"bottom\">&infin;</td>\r\n",
    "    <td></td>\r\n",
    "    <td align=\"center\" valign=\"bottom\">&infin;</td>\r\n",
    "    <td></td>\r\n",
    "    <td align=\"center\" valign=\"bottom\">&infin;</td>\r\n",
    "    <td></td>\r\n",
    "  </tr>\r\n",
    "  <tr>\r\n",
    "    <td rowspan = \"3\" align=\"right\"><em>&fnof;</em>(<em>w</em>(<em>x</em>) + <em>v</em>(<em>x</em>)) = <em>&fnof;</em>&thinsp;</td>\r\n",
    "    <td align=\"center\">&#9116;</td>\r\n",
    "    <td rowspan = \"3\" align=\"center\"><font face=\"Times New Roman, Times, serif\" size=\"+4\">&sum;</font></td>\r\n",
    "    <td rowspan = \"3\">(<em>a<sub>i</sub></em> + <em>b<sub>i</sub></em>) <em>x<sup>i</sup></em></td>\r\n",
    "    <td align=\"center\">&#9119;</td>\r\n",
    "    <td rowspan = \"3\">&ensp;=</td>\r\n",
    "    <td rowspan = \"3\" align=\"center\"><font face=\"Times New Roman, Times, serif\" size=\"+4\">&sum;</font></td>\r\n",
    "    <td rowspan = \"3\" align=\"center\"><em>&fnof;</em>(<em>a<sub>i</sub></em> + <em>b<sub>i</sub></em>) <em>x<sup>i</sup></em> =</td>\r\n",
    "    <td rowspan = \"3\" align=\"center\"><font face=\"Times New Roman, Times, serif\" size=\"+4\">&sum;</font></td>\r\n",
    "    <td rowspan = \"3\" align=\"center\"><em>&fnof;</em>(<em>a<sub>i</sub></em>) <em>x<sup>i</sup></em> +</td>\r\n",
    "    <td rowspan = \"3\" align=\"center\"><font face=\"Times New Roman, Times, serif\" size=\"+4\">&sum;</font></td>\r\n",
    "    <td rowspan = \"3\" align=\"center\"><em>&fnof;</em>(<em>b<sub>i</sub></em>) <em>x<sup>i</sup></em> = <em>&fnof;</em>(<em>w</em>(<em>x</em>)) + <em>&fnof;</em>(<em>v</em>(<em>x</em>)).</td>\r\n",
    "  </tr>\r\n",
    "  <tr>\r\n",
    "    <td align=\"center\">&#9116;</td>\r\n",
    "    <td align=\"center\">&#9119;</td>\r\n",
    "  </tr>\r\n",
    "  <tr>\r\n",
    "    <td align=\"center\">&#9116;</td>\r\n",
    "    <td align=\"center\">&#9119;</td>\r\n",
    "  </tr>\r\n",
    "  <tr>\r\n",
    "    <td></td>\r\n",
    "    <td align=\"center\">&#9117;</td>\r\n",
    "    <td align=\"center\" valign=\"top\">&thinsp;<em>i</em>=0&thinsp;</td>\r\n",
    "    <td></td>\r\n",
    "    <td align=\"center\">&#9120;</td> \r\n",
    "    <td></td>\r\n",
    "    <td align=\"center\" valign=\"top\">&thinsp;<em>i</em>=0&thinsp;</td>\r\n",
    "    <td></td>  \r\n",
    "    <td align=\"center\" valign=\"top\">&thinsp;<em>i</em>=0&thinsp;</td> \r\n",
    "    <td></td>  \r\n",
    "    <td align=\"center\" valign=\"top\">&thinsp;<em>i</em>=0&thinsp;</td> \r\n",
    "    <td></td> \r\n",
    "  </tr>\r\n",
    "</table>\r\n",
    "<br>\r\n",
    "Likewise, we have\r\n",
    "<table align=\"center\"  border=\"0\" cellspacing=\"0\" cellpadding=\"0\">\r\n",
    "  <tr>\r\n",
    "    <td ></td>\r\n",
    "    <td align=\"center\">&#9115;</td>\r\n",
    "    <td align=\"center\" valign=\"bottom\">&infin;</td>\r\n",
    "    <td align=\"center\" valign=\"bottom\">&infin;</td>\r\n",
    "    <td></td>\r\n",
    "    <td align=\"center\">&#9118;</td>\r\n",
    "    <td></td>\r\n",
    "    <td align=\"center\" valign=\"bottom\">&infin;</td>\r\n",
    "    <td align=\"center\" valign=\"bottom\">&infin;</td>\r\n",
    "    <td></td>\r\n",
    "    <td align=\"center\" valign=\"bottom\">&infin;</td>\r\n",
    "    <td align=\"center\" valign=\"bottom\">&infin;</td>\r\n",
    "    <td></td>\r\n",
    "  </tr>\r\n",
    "  <tr>\r\n",
    "    <td rowspan = \"3\" align=\"right\"><em>&fnof;</em>(<em>w</em>(<em>x</em>)&middot;<em>v</em>(<em>x</em>)) = <em>&fnof;</em>&thinsp;</td>\r\n",
    "    <td align=\"center\">&#9116;</td>\r\n",
    "    <td rowspan = \"3\" align=\"center\"><font face=\"Times New Roman, Times, serif\" size=\"+4\">&sum;</font></td>\r\n",
    "    <td rowspan = \"3\" align=\"center\"><font face=\"Times New Roman, Times, serif\" size=\"+4\">&sum;</font></td>\r\n",
    "    <td rowspan = \"3\">(<em>a<sub>i</sub></em>&middot;<em>b<sub>j</sub></em>) <em>x</em><sup><em>i</em>+<em>j</em></sup></td>\r\n",
    "    <td align=\"center\">&#9119;</td>\r\n",
    "    <td rowspan = \"3\">&ensp;=</td>\r\n",
    "    <td rowspan = \"3\" align=\"center\"><font face=\"Times New Roman, Times, serif\" size=\"+4\">&sum;</font></td>\r\n",
    "    <td rowspan = \"3\" align=\"center\"><font face=\"Times New Roman, Times, serif\" size=\"+4\">&sum;</font></td>\r\n",
    "    <td rowspan = \"3\" align=\"center\"><em>&fnof;</em>(<em>a<sub>i</sub></em>&middot;<em>b<sub>j</sub></em>) <em>x</em><sup><em>i</em>+<em>j</em></sup> =</td>\r\n",
    "    <td rowspan = \"3\" align=\"center\"><font face=\"Times New Roman, Times, serif\" size=\"+4\">&sum;</font></td>\r\n",
    "    <td rowspan = \"3\" align=\"center\"><font face=\"Times New Roman, Times, serif\" size=\"+4\">&sum;</font></td>\r\n",
    "    <td rowspan = \"3\" align=\"center\"><em>&fnof;</em>(<em>a<sub>i</sub></em>)&middot;<em>&fnof;</em>(<em>b<sub>j</sub></em>) <em>x</em><sup><em>i</em>+<em>j</em></sup> = <em>&fnof;</em>(<em>w</em>(<em>x</em>))&middot;<em>&fnof;</em>(<em>v</em>(<em>x</em>)).</td>\r\n",
    "  </tr>\r\n",
    "  <tr>\r\n",
    "    <td align=\"center\">&#9116;</td>\r\n",
    "    <td align=\"center\">&#9119;</td>\r\n",
    "  </tr>\r\n",
    "  <tr>\r\n",
    "    <td align=\"center\">&#9116;</td>\r\n",
    "    <td align=\"center\">&#9119;</td>\r\n",
    "  </tr>\r\n",
    "  <tr>\r\n",
    "    <td></td>\r\n",
    "    <td align=\"center\">&#9117;</td>\r\n",
    "    <td align=\"center\" valign=\"top\">&thinsp;<em>i</em>=0&thinsp;</td>\r\n",
    "    <td align=\"center\" valign=\"top\">&thinsp;<em>j</em>=0&thinsp;</td>\r\n",
    "    <td></td>\r\n",
    "    <td align=\"center\">&#9120;</td> \r\n",
    "    <td></td>\r\n",
    "    <td align=\"center\" valign=\"top\">&thinsp;<em>i</em>=0&thinsp;</td>\r\n",
    "    <td align=\"center\" valign=\"top\">&thinsp;<em>j</em>=0&thinsp;</td>\r\n",
    "    <td></td>  \r\n",
    "    <td align=\"center\" valign=\"top\">&thinsp;<em>i</em>=0&thinsp;</td>  \r\n",
    "    <td align=\"center\" valign=\"top\">&thinsp;<em>j</em>=0&thinsp;</td> \r\n",
    "    <td></td> \r\n",
    "  </tr>\r\n",
    "</table>\r\n",
    "<br>\r\n",
    "Thus, <em>&fnof;</em> extends to a homomorphism mapping <em>K</em>[<em>x</em>] to <em>M</em>[<em>x</em>]. But the kernel of <em>&fnof;</em> is just the identity \r\n",
    "element, since <em>&fnof;</em> preserves the degree of any nonzero polynomial.  Thus, <em>&fnof;</em> extends to an isomorphism from <em>K</em>[<em>x</em>] to \r\n",
    "<em>M</em>[<em>x</em>], and <em>&fnof;</em>(<em>x</em>) = <em>x</em>.<br><br>\r\n",
    "\r\n",
    "<a href=\"#lem133ret\">Return to text</a>\r\n",
    "\r\n",
    "<br><br><br><br><br><br><br><br><br><br><br><br><br><br><br><br><br><br><br><br><br><br><br><br><br><br><br><br><br><br><br><br><br><br><br><br><br><br><br><br><br><br>\r\n",
    "\r\n",
    "<a name=\"prop135\" id=\"prop135\"></a>\r\n",
    "\r\n",
    "Proof of Proposition 13.5:<br><br>\r\n",
    "\r\n",
    "Consider the extension of the Frobienius automorphism onto <em>F</em>[<em>x</em>], as given in Lemma 13.3.  If we apply this mapping to the \r\n",
    "polynomial <em>g</em>(<em>x</em>), we get\r\n",
    "<p style='text-align: center;'><em>&fnof;</em>(<em>g</em>(<em>x</em>)) = (<em>x</em> &minus; <em>&fnof;</em>(<em>y</em>))&middot;(<em>x</em> &minus; \r\n",
    "<em>&fnof;</em>(<em>&fnof;</em>(<em>y</em>)))&middot;(<em>x</em> &minus; \r\n",
    "<em>&fnof;</em>(<em>&fnof;</em>(<em>&fnof;</em>(<em>y</em>))))&middot; &#8943; &middot;(<em>x</em> &minus; <em>&fnof;&thinsp;<sup>n</sup></em>(<em>y</em>)).</p>\r\n",
    "Recall we picked <em>n</em> to be the smallest number such that <em>&fnof;&thinsp;<sup>n</sup></em>(<em>y</em>) = <em>y</em>.  Thus,\r\n",
    "<p style='text-align: center;'><em>&fnof;</em>(<em>g</em>(<em>x</em>)) = (<em>x</em> &minus; <em>&fnof;</em>(<em>y</em>))&middot;(<em>x</em> &minus; \r\n",
    "<em>&fnof;</em>(<em>&fnof;</em>(<em>y</em>)))&middot; &#8943; &middot;(<em>x</em> &minus; \r\n",
    "<em>&fnof;</em>&thinsp;<sup><em>n</em>&minus;1</sup>(<em>y</em>))&middot;(<em>x</em> &minus; <em>y</em>).</p>\r\n",
    "which after rearranging the factors gives <em>g</em>(<em>x</em>) again.<br><br>\r\n",
    "\r\n",
    "Since <em>g</em>(<em>x</em>) is fixed by the Frobinius automorphism, each coefficient of <em>g</em>(<em>x</em>) must be fixed by <em>&fnof;</em>(<em>x</em>).  But the \r\n",
    "only elements fixed by <em>&fnof;</em>(<em>x</em>) are those in <em>Z<sub>p</sub></em>.  Thus, <em>g</em>(<em>x</em>) must have all of its coefficients in \r\n",
    "<em>Z<sub>p</sub></em>, and so is a polynomial in <em>Z<sub>p</sub></em>[<em>x</em>].<br><br>\r\n",
    "\r\n",
    "To show that <em>g</em>(<em>x</em>) is irreducible, suppose that\r\n",
    "<p style='text-align: center;'><em>g</em>(<em>x</em>) = <em>h</em>(<em>x</em>)&middot;<em>j</em>(<em>x</em>),</p>\r\n",
    "where both <em>h</em>(<em>x</em>) and <em>j</em>(<em>x</em>) are polynomials in <em>Z<sub>p</sub></em>[<em>x</em>] of positive degree.  Then \r\n",
    "<em>&fnof;</em>(<em>h</em>(<em>x</em>)) = <em>h</em>(<em>x</em>), and <em>&fnof;</em>(<em>j</em>(<em>x</em>)) = <em>j</em>(<em>x</em>), since the Frobienius \r\n",
    "automorphism fixes <em>x</em> and the elements in <em>Z<sub>p</sub></em>.  By the unique factorization in <em>F</em>[<em>x</em>], (<em>x</em> &minus; <em>y</em>) has to be a \r\n",
    "factor of <em>h</em>(<em>x</em>) or <em>j</em>(<em>x</em>), but not both, since (<em>x</em> &minus; <em>y</em>) is a factor of <em>g</em>(<em>x</em>), \r\n",
    "but (<em>x</em> &minus; <em>y</em>)<sup>2</sup> is not.  Let us suppose that <em>h</em>(<em>x</em>) has (<em>x</em> &minus; <em>y</em>) as a factor.  Any factor \r\n",
    "of <em>j</em>(<em>x</em>) would have to be a factor of <em>g</em>(<em>x</em>), so such a factor would have the form\r\n",
    "<p style='text-align: center;'>(<em>x</em> &minus; <em>&fnof;&thinsp;<sup>m</sup></em>(<em>y</em>))</p>\r\n",
    "for some <em>m</em> &gt; 0. Thus, <em>&fnof;&thinsp;<sup>m</sup></em>(<em>y</em>) is a root of <em>j</em>(<em>x</em>), but <em>y</em> is not.  But this is impossible, \r\n",
    "since <em>&fnof;&thinsp;<sup>m</sup></em>(<em>j</em>(<em>x</em>)) = <em>j</em>(<em>x</em>), and so <em>&fnof;&thinsp;<sup>m</sup></em>(<em>j</em>(<em>y</em>)) = \r\n",
    "<em>j</em>(<em>&fnof;&thinsp;<sup>m</sup></em>(<em>y</em>)) = 0.  Therefore, <em>g</em>(<em>x</em>) is an irreducible polynomial in <em>Z<sub>p</sub></em>[<em>x</em>].<br><br>\r\n",
    "\r\n",
    "<a href=\"#prop135ret\">Return to text</a>\r\n",
    "\r\n",
    "<br><br><br><br><br><br><br><br><br><br><br><br><br><br><br><br><br><br><br><br><br><br><br><br><br><br><br><br><br><br><br><br><br><br><br><br><br><br><br><br><br><br>\r\n",
    "\r\n",
    "<a name=\"prop136\" id=\"prop136\"></a>\r\n",
    "\r\n",
    "Proof of Proposition 13.6:<br><br>\r\n",
    "\r\n",
    "Consider the evaluation homomorphism\r\n",
    "<p style='text-align: center;'><em>&#981;<sub>y</sub></em> : <em>K</em>[<em>x</em>] &rarr; <em>K</em>.</p>\r\n",
    "We can consider the homomorphism <em>&#981;<sub>y</sub></em>&prime; as the restriction \r\n",
    "of <em>&#981;<sub>y</sub></em> on <em>F</em>[<em>x</em>].  Let us consider the kernel of this homomorphism.  Because <em>f</em>(<em>y</em>) = 0, <em>f</em>(<em>x</em>) is \r\n",
    "certainly in the kernel of <em>&#981;<sub>y</sub></em>&prime;.  But the kernel cannot be all of <em>F</em>[<em>x</em>], since the constant polynomials are not in the \r\n",
    "kernel.  We know that the kernel is an ideal, and by Corollary 12.7, <em>F</em>[<em>x</em>] is a PID, so the kernel can be written as &lang;<em>g</em>(<em>x</em>)&rang; for \r\n",
    "some <em>g</em>(<em>x</em>) in <em>F</em>[<em>x</em>].  Yet <em>f</em>(<em>x</em>) is in the kernel, so <em>g</em>(<em>x</em>) divides <em>f</em>(<em>x</em>).  But \r\n",
    "<em>f</em>(<em>x</em>) is irreducible in <em>F</em>[<em>x</em>], and <em>g</em>(<em>x</em>) cannot be a unit, since we have already observed \r\n",
    "that &lang;<em>g</em>(<em>x</em>)&rang; is not all \r\n",
    "of <em>F</em>[<em>x</em>].  Therefore, the kernel of <em>&#981;<sub>y</sub></em>&prime; is &lang;<em>f</em>(<em>x</em>)&rang;.<br><br>\r\n",
    "\r\n",
    "From the first ring isomorphism theorem (10.2), the image of <em>&#981;<sub>y</sub></em>&prime; is isomorphic to <em>F</em>[<em>x</em>]/&lang;<em>f</em>(<em>x</em>)&rang;.  We \r\n",
    "have already mentioned that <em>F</em>[<em>x</em>] is a PID, so by Lemma 12.6 the image is a field.  But the field must contain <em>F</em>, since this is the image of \r\n",
    "the constant polynomials, and also must contain <em>y</em>, the image of the polynomial <em>x</em>.  The only subfield of <em>K</em> that contains both <em>y</em> and \r\n",
    "<em>F</em> is <em>K</em> itself, so <em>F</em>[<em>x</em>]/&lang;<em>f</em>(<em>x</em>)&rang; is isomorphic to <em>K</em>.<br><br>\r\n",
    "\r\n",
    "<a href=\"#prop136ret\">Return to text</a>\r\n",
    "\r\n",
    "<br><br><br><br><br><br><br><br><br><br><br><br><br><br><br><br><br><br><br><br><br><br><br><br><br><br><br><br><br><br><br><br><br><br><br><br><br><br><br><br><br><br>\r\n",
    "\r\n",
    "<a name=\"cor132\" id=\"cor132\"></a>\r\n",
    "\r\n",
    "Proof of Corollary 13.2:<br><br>\r\n",
    "\r\n",
    "If <em>K</em> is a finite field, by Proposition 13.4, the multiplicative group of <em>K</em><sup>*</sup> is cyclic.  Thus, there must be an element <em>y</em> that \r\n",
    "generates <em>K</em><sup>*</sup> as a group.  Since <em>K</em> must have finite characteristic <em>p</em>, we will let <em>F</em> be the \r\n",
    "subfield <em>Z<sub>p</sub></em>.  Let <em>f</em>(<em>x</em>) be the irreducible polynomial of <em>y</em> over <em>Z<sub>p</sub></em> given by Proposition 13.5.<br><br>\r\n",
    "\r\n",
    "Even though <em>f</em>(<em>x</em>) is irreducible in <em>Z<sub>p</sub></em>[<em>x</em>], <em>f</em>(<em>x</em>) has (<em>x</em> &minus; <em>y</em>) as a factor when viewed \r\n",
    "as a polynomial in <em>K</em>[<em>x</em>].  Note that since <em>y</em> generates all of <em>K</em>, we see that the conditions for Proposition 13.6 are \r\n",
    "satisfied.  Therefore <em>K</em> is isomorphic to <em>Z<sub>p</sub></em>[<em>x</em>]/&lang;<em>f</em>(<em>x</em>)&rang;.<br><br>\r\n",
    "\r\n",
    "<a href=\"#cor132ret\">Return to text</a>\r\n",
    "\r\n",
    "<br><br><br><br><br><br><br><br><br><br><br><br><br><br><br><br><br><br><br><br><br><br><br><br><br><br><br><br><br><br><br><br><br><br><br><br><br><br><br><br><br><br>\r\n",
    "\r\n",
    "<a name=\"lem134\" id=\"lem134\"></a>\r\n",
    "\r\n",
    "Proof of Lemma 13.4:<br><br>\r\n",
    "\r\n",
    "Since <em>F</em> is a finite field, by Corollary 13.2 there is a polynomial <em>f</em>(<em>x</em>) in <em>Z<sub>p</sub></em>[<em>x</em>] such that <em>F</em> is \r\n",
    "isomorphic to <em>Z<sub>p</sub></em>[<em>x</em>]/&lang;<em>f</em>(<em>x</em>)&rang;.<br><br>\r\n",
    "\r\n",
    "Since <em>F</em> and <em>K</em> have the same characteristic, we can consider <em>f</em>(<em>x</em>) to be a polynomial in <em>K</em>[<em>x</em>] as well.  Let \r\n",
    "<em>g</em>(<em>x</em>) be an irreducible factor of <em>f</em>(<em>x</em>) over the domain <em>K</em>[<em>x</em>].  Of course, <em>f</em>(<em>x</em>) may already \r\n",
    "be irreducible in <em>K</em>[<em>x</em>], in which case we let <em>g</em>(<em>x</em>) = <em>f</em>(<em>x</em>).<br><br>\r\n",
    "\r\n",
    "Now consider the ring <em>E</em> = <em>K</em>[<em>x</em>]/&lang;<em>g</em>(<em>x</em>)&rang;.  Since <em>K</em>[<em>x</em>] is a PID, by Lemma 12.6 <em>E</em> is a field.  In \r\n",
    "fact, <em>E</em> contains an element that is a root of the polynomial <em>g</em>(<em>x</em>), namely\r\n",
    "<p style='text-align: center;'><em>y</em> = <em>x</em> + &lang;<em>g</em>(<em>x</em>)&rang;,</p>\r\n",
    "since\r\n",
    "<p style='text-align: center;'><em>g</em>(<em>y</em>) = <em>g</em>(<em>x</em> + &lang;<em>g</em>(<em>x</em>)&rang;) = \r\n",
    "<em>g</em>(<em>x</em>) + &lang;<em>g</em>(<em>x</em>)&rang; = \r\n",
    "0 + &lang;<em>g</em>(<em>x</em>)&rang;.</p>\r\n",
    "We can now consider the evaluation homomorphism\r\n",
    "<p style='text-align: center;'><em>&#981;<sub>y</sub></em> : <em>E</em>[<em>x</em>] &rarr; <em>E</em></p>\r\n",
    "Let us first consider the restriction of this homomorphism to the ring <em>Z<sub>p</sub></em>[<em>x</em>], which we will call <em>&psi;</em>.  Thus <em>&psi;</em> is \r\n",
    "the homomorphism\r\n",
    "<p style='text-align: center;'><em>&psi;</em> : <em>Z<sub>p</sub></em>[<em>x</em>] &rarr; <em>E</em>,&emsp;<em>&psi;</em>(<em>w</em>(<em>x</em>)) = \r\n",
    "<em>w</em>(<em>y</em>).</p>\r\n",
    "Since <em>y</em> is a root of <em>g</em>(<em>x</em>) in the field <em>E</em>, and <em>g</em>(<em>x</em>) in turn is a factor of <em>f</em>(<em>x</em>), we see \r\n",
    "that <em>y</em> is a root of <em>f</em>(<em>x</em>) in the field <em>E</em>.  Thus, <em>f</em>(<em>x</em>) is in the kernel of the homomorphism <em>&psi;</em>.  Since \r\n",
    "<em>Z<sub>p</sub></em>[<em>x</em>] is a PID, the kernel can be written as &lang;<em>h</em>(<em>x</em>)&rang; for some polynomial <em>h</em>(<em>x</em>) in \r\n",
    "<em>Z<sub>p</sub></em>[<em>x</em>]. But since <em>f</em>(<em>x</em>) is in the kernel, <em>h</em>(<em>x</em>) must divide <em>f</em>(<em>x</em>).  But \r\n",
    "<em>f</em>(<em>x</em>) is irreducible, and <em>h</em>(<em>x</em>) cannot be a unit, or else the kernel would be all of <em>Z<sub>p</sub></em>[<em>x</em>], which is \r\n",
    "impossible since the constant polynomials are not in the kernel.  Therefore, the kernel must be &lang;<em>f</em>(<em>x</em>)&rang;, and so by the first ring isomorphism \r\n",
    "theorem (10.2), the image of <em>&psi;</em> is isomorphic to\r\n",
    "<p style='text-align: center;'><em>Z<sub>p</sub></em>[<em>x</em>]/&lang;<em>f</em>(<em>x</em>)&rang;</p>\r\n",
    "which is in turn isomorphic to <em>F</em>.  Thus, there is a subfield of <em>E</em> isomorphic to <em>F</em>.<br><br>\r\n",
    "\r\n",
    "All we have to do is show that there is a copy of the field <em>K</em> inside of <em>E</em> = <em>K</em>[<em>x</em>]/&lang;<em>g</em>(<em>x</em>)&rang;.  But we can consider \r\n",
    "the natural homomorphism\r\n",
    "<p style='text-align: center;'><em>i</em> : <em>K</em>[<em>x</em>] &rarr; <em>E</em></p>\r\n",
    "given by\r\n",
    "<p style='text-align: center;'><em>i</em>(<em>p</em>(<em>x</em>)) = <em>p</em>(<em>x</em>) + &lang;<em>g</em>(<em>x</em>)&rang;.</p>\r\n",
    "If we restrict this homomorphism onto the constant polynomials, we get\r\n",
    "<p style='text-align: center;'><em>i</em>&prime; : <em>K</em> &rarr; <em>E</em>.</p>\r\n",
    "Since <em>g</em>(<em>x</em>) is not a unit, it is clear that the kernel of this homomorphism is just 0.  Thus, there is a subfield of <em>E</em> isomorphic \r\n",
    "to <em>K</em>.  Therefore, we have constructed a field that contains isomorphic copies of both <em>F</em> and <em>K</em> as subfields.<br><br>\r\n",
    "\r\n",
    "<a href=\"#lem134ret\">Return to text</a>\r\n",
    "\r\n",
    "<br><br><br><br><br><br><br><br><br><br><br><br><br><br><br><br><br><br><br><br><br><br><br><br><br><br><br><br><br><br><br><br><br><br><br><br><br><br><br><br><br><br>\r\n",
    "\r\n",
    "<a name=\"cor133\" id=\"cor133\"></a>\r\n",
    "\r\n",
    "Proof of Corollary 13.3:<br><br>\r\n",
    "\r\n",
    "If two fields <em>F</em> and <em>K</em> have the same order, by Proposition 13.3, both must have order <em>p<sup>n</sup></em> for some prime number <em>p</em>, and \r\n",
    "some positive integer <em>n</em>.  Thus, both <em>F</em> and <em>K</em> have characteristic <em>p</em>, so by Lemma 13.4 there exists a field <em>E</em> that \r\n",
    "contains isomorphic copies of both <em>F</em> and <em>K</em> as subfields.  Let <em>F</em>&prime; and <em>K</em>&prime; be the subfields of <em>E</em> isomorphic \r\n",
    "to <em>F</em> and <em>K</em>, respectively.  Consider the polynomial\r\n",
    "<p style='text-align: center;'><em>f</em>(<em>x</em>) = <em>x<sup>p&#8319;</sup></em> &minus; <em>x</em></p>\r\n",
    "in <em>E</em>[<em>x</em>].  Since <em>F</em>&prime; is a subfield of <em>E</em>, the Frobenius automorphism is of order <em>n</em> on this subfield.  Thus, every element \r\n",
    "of <em>F</em>&prime; is a root of <em>f</em>(<em>x</em>).  Likewise, every element of <em>K</em>&prime; is also a root of <em>f</em>(<em>x</em>).  But by \r\n",
    "Corollary 12.2, <em>f</em>(<em>x</em>) can have at most <em>p<sup>n</sup></em> roots.  Thus, the subfields <em>F</em>&prime; and <em>K</em>&prime; must \r\n",
    "coincide, so certainly they are isomorphic.  Hence <em>F</em> and <em>K</em> must be isomorphic.<br><br>\r\n",
    "\r\n",
    "<a href=\"#cor133ret\">Return to text</a>\r\n",
    "\r\n",
    "<br><br><br><br><br><br><br><br><br><br><br><br><br><br><br><br><br><br><br><br><br><br><br><br><br><br><br><br><br><br><br><br><br><br><br><br><br><br><br><br><br><br>\r\n",
    "\r\n",
    "<a name=\"prop137\" id=\"prop137\"></a>\r\n",
    "\r\n",
    "Proof of Proposition 13.7:<br><br>\r\n",
    "\r\n",
    "We will first show that each <em>n</em><sup>th</sup> root of unity is a primitive <em>k</em><sup>th</sup> root of unity for exactly one positive divisor <em>k</em> of <em>n</em>.  If \r\n",
    "<em>z</em> = <em>&omega;<sub>n</sub><sup>s</sup></em> is an <em>n</em><sup>th</sup> root of unity, we can let <em>k</em> = <em>n</em>/gcd(<em>n</em>, <em>s</em>).  Then \r\n",
    "<em>k</em>&middot;<em>s</em> = <em>n</em>&middot;(<em>s</em>/gcd(<em>n</em>, <em>s</em>)) is a multiple of <em>n</em>, so <em>z<sup>k</sup></em> = 1.  Yet \r\n",
    "if <em>z<sup>m</sup></em> = 1, then <em>s</em>&middot;<em>m</em> must be a multiple of <em>n</em>, so (<em>s</em>/gcd(<em>n</em>, <em>s</em>))&middot;<em>m</em> is a \r\n",
    "multiple of <em>n</em>/gcd(<em>n</em>, <em>s</em>).  But (<em>s</em>/gcd(<em>n</em>, <em>s</em>)) and (<em>n</em>/gcd(<em>n</em>, <em>s</em>)) are coprime, so \r\n",
    "<em>m</em> would be a multiple of <em>k</em>.  Thus, <em>&omega;<sub>n</sub><sup>s</sup></em> is a primitive <em>k</em><sup>th</sup> root of unity, \r\n",
    "with <nobr><em>k</em> = <em>n</em>/gcd(<em>n</em>, <em>s</em>).</nobr><br><br>\r\n",
    "\r\n",
    "Since\r\n",
    "<p style='text-align: center;'><em>x<sup>n</sup></em> &minus; 1 = (<em>x</em> &minus; <em>&omega;<sub>n</sub></em>)&middot;(<em>x</em> &minus; \r\n",
    "<em>&omega;<sub>n</sub></em><sup>2</sup>)&middot;(<em>x</em> &minus; <em>&omega;<sub>n</sub></em><sup>3</sup>) &#8943; \r\n",
    "(<em>x</em> &minus; <em>&omega;<sub>n</sub><sup>n</sup></em>),</p>\r\n",
    "we can collect those factors (<em>x</em> &minus; <em>&omega;<sub>n</sub><sup>s</sup></em>) for which <em>&omega;<sub>n</sub><sup>s</sup></em> is a \r\n",
    "primitive <em>k</em><sup>th</sup> root of unity.  The result is the formula\r\n",
    "<br><br>\r\n",
    "<table align=\"center\" border=\"0\" cellspacing=\"0\" cellpadding=\"0\">\r\n",
    "  <tr>\r\n",
    "    <td align=\"right\"><em>x<sup>n</sup></em> &minus; 1 = </td>\r\n",
    "    <td align=\"center\" valign=\"bottom\"><font face=\"Times New Roman, Times, serif\" size=\"+4\">&prod;</font></td>\r\n",
    "    <td align=\"left\">&Phi;<sub><em>k</em></sub>(<em>x</em>).</td>\r\n",
    "  </tr>\r\n",
    "  <tr>\r\n",
    "    <td></td>\r\n",
    "    <td align=\"center\" valign=\"top\"><em>k</em> | <em>n</em></td>\r\n",
    "    <td></td>\r\n",
    "  </tr>\r\n",
    "</table>\r\n",
    "\r\n",
    "<a href=\"#prop137ret\">Return to text</a>\r\n",
    "\r\n",
    "<br><br><br><br><br><br><br><br><br><br><br><br><br><br><br><br><br><br><br><br><br><br><br><br><br><br><br><br><br><br><br><br><br><br><br><br><br><br><br><br><br><br>\r\n",
    "\r\n",
    "<a name=\"cor134\" id=\"cor134\"></a>\r\n",
    "\r\n",
    "Proof of Corollary 13.4:<br><br>\r\n",
    "\r\n",
    "We will prove this using induction on <em>n</em>.  Obviously the first cyclotomic polynomial is <em>x</em> &minus; 1, which has integer \r\n",
    "coefficients.  Let <em>n</em> &gt; 1, and suppose the claim is valid for all previous cyclotomic polynomials.  By Proposition 13.7, we can find the <em>n</em><sup>th</sup>\r\n",
    "cyclotomic polynomial as\r\n",
    "<table align=\"center\" border=\"0\" cellspacing=\"0\" cellpadding=\"0\">\r\n",
    "  <tr>\r\n",
    "    <td rowspan = \"2\" align=\"right\">&Phi;<sub><em>n</em></sub>(<em>x</em>) =&ensp;</td>\r\n",
    "    <td align=\"center\" valign=\"bottom\"><em>x<sup>n</sup></em> &minus; 1</td>\r\n",
    "    <td rowspan = \"2\" align=\"left\">,</td>\r\n",
    "  </tr>\r\n",
    "  <tr>\r\n",
    "    <td align=\"center\" valign=\"top\"><font style=\"text-decoration:overline\">&emsp;<em>f</em>(<em>x</em>)&emsp;</font></td>\r\n",
    "  </tr>\r\n",
    "</table>\r\n",
    "where \r\n",
    "<table align=\"center\" border=\"0\" cellspacing=\"0\" cellpadding=\"0\">\r\n",
    "  <tr>\r\n",
    "    <td rowspan = \"2\" align=\"right\"><em>f</em>(<em>x</em>) = </td>\r\n",
    "    <td align=\"center\" valign=\"bottom\"><font face=\"Times New Roman, Times, serif\" size=\"+4\">&prod;</font></td>\r\n",
    "    <td rowspan = \"2\" align=\"left\">&Phi;<sub><em>k</em></sub>(<em>x</em>).</td>\r\n",
    "  </tr>\r\n",
    "  <tr>\r\n",
    "    <td align=\"center\" valign=\"top\"><em>k</em> | <em>n</em></td>\r\n",
    "  </tr>\r\n",
    "  <tr>\r\n",
    "    <td></td>\r\n",
    "    <td align=\"center\" valign=\"top\"><em>k</em> &lt; <em>n</em></td>\r\n",
    "    <td></td>\r\n",
    "  </tr>\r\n",
    "</table>\r\n",
    "\r\n",
    "<br>\r\n",
    "Since all previous cyclotomic polynomials have integer coefficients, we see by induction that <em>&fnof;</em>(<em>x</em>) has integer coefficients. Furthermore, from \r\n",
    "the definition of the cyclotomic polynomials, we see that the leading coefficients must be 1, hence the leading coefficient of <em>&fnof;</em>(<em>x</em>) is 1. So \r\n",
    "by Corollary 12.1 the quotient<br><br>\r\n",
    " \r\n",
    "<table align=\"center\" border=\"0\" cellspacing=\"0\" cellpadding=\"0\">\r\n",
    "  <tr>\r\n",
    "    <td align=\"center\" valign=\"bottom\"><em>x<sup>n</sup></em> &minus; 1</td>\r\n",
    "  </tr>\r\n",
    "  <tr>\r\n",
    "    <td align=\"center\" valign=\"top\"><font style=\"text-decoration:overline\">&emsp;<em>f</em>(<em>x</em>)&emsp;</font></td>\r\n",
    "  </tr>\r\n",
    "</table>\r\n",
    "<br>\r\n",
    "must in fact have integer coefficients. Therefore, all cyclotomic polynomials have integer coefficients.<br><br>\r\n",
    "\r\n",
    "<a href=\"#cor134ret\">Return to text</a>\r\n",
    "\r\n",
    "<br><br><br><br><br><br><br><br><br><br><br><br><br><br><br><br><br><br><br><br><br><br><br><br><br><br><br><br><br><br><br><br><br><br><br><br><br><br><br><br><br><br>\r\n",
    "\r\n",
    "<a name=\"cor135\" id=\"cor135\"></a>\r\n",
    "\r\n",
    "Proof of Corollary 13.5:<br><br>\r\n",
    "\r\n",
    "Since <em>n</em> is divisible by <em>m</em>, whenever <em>m</em> is divisible by <em>k</em>, then <em>n</em> is divisible by <em>k</em>. Thus, every factor appearing in\r\n",
    "\r\n",
    "<table align=\"center\" border=\"0\" cellspacing=\"0\" cellpadding=\"0\">\r\n",
    "  <tr>\r\n",
    "    <td rowspan = \"2\" align=\"right\"><em>x<sup>m</sup></em> &minus; 1 = </td>\r\n",
    "    <td align=\"center\" valign=\"bottom\"><font face=\"Times New Roman, Times, serif\" size=\"+4\">&prod;</font></td>\r\n",
    "    <td rowspan = \"2\" align=\"left\">&Phi;<sub><em>k</em></sub>(<em>x</em>)</td>\r\n",
    "  </tr>\r\n",
    "  <tr>\r\n",
    "    <td align=\"center\" valign=\"top\"><em>k</em> | <em>m</em></td>\r\n",
    "  </tr>\r\n",
    "</table> \r\n",
    "\r\n",
    "also appears in\r\n",
    "\r\n",
    "<table align=\"center\" border=\"0\" cellspacing=\"0\" cellpadding=\"0\">\r\n",
    "  <tr>\r\n",
    "    <td rowspan = \"2\" align=\"right\"><em>x<sup>n</sup></em> &minus; 1 = </td>\r\n",
    "    <td align=\"center\" valign=\"bottom\"><font face=\"Times New Roman, Times, serif\" size=\"+4\">&prod;</font></td>\r\n",
    "    <td rowspan = \"2\" align=\"left\">&Phi;<sub><em>k</em></sub>(<em>x</em>).</td>\r\n",
    "  </tr>\r\n",
    "  <tr>\r\n",
    "    <td align=\"center\" valign=\"top\"><em>k</em> | <em>n</em></td>\r\n",
    "  </tr>\r\n",
    "</table>\r\n",
    "\r\n",
    "<br>\r\n",
    "In fact, the quotient would be the product of the cyclotomic polynomials &Phi;<sub><em>k</em></sub>(<em>x</em>) for which <em>k</em> is a divisor of <em>n</em>, but not \r\n",
    "of <em>m</em>.  Since the cyclotomic polynomials have integer coefficients,\r\n",
    "\r\n",
    "<table align=\"center\" border=\"0\" cellspacing=\"0\" cellpadding=\"0\">\r\n",
    "  <tr>\r\n",
    "    <td align=\"center\" valign=\"bottom\"><font style=\"text-decoration:underline\"><em>x&#8319;</em> &minus; 1</font></td>\r\n",
    "  </tr>\r\n",
    "  <tr>\r\n",
    "    <td align=\"center\" valign=\"top\"><em>x<sup>m</sup></em> &minus; 1</td>\r\n",
    "  </tr>\r\n",
    "</table>\r\n",
    "\r\n",
    "<br>\r\n",
    "would have integer coefficients. Furthermore, &Phi;<sub><em>n</em></sub>(<em>x</em>) is one of the cyclotomic polynomials in the factorization \r\n",
    "of <em>x<sup>n</sup></em> &minus; 1 which is not in <nobr><em>x<sup>m</sup></em> &minus; 1.</nobr>  Thus, \r\n",
    "the <em>n</em><sup>th</sup> cyclotomic polynomial \r\n",
    "divides (<em>x<sup>n</sup></em> &minus; 1)/(<em>x<sup>m</sup></em> &minus; 1) in &#8484;[<em>x</em>].<br><br>\r\n",
    "\r\n",
    "<a href=\"#cor135ret\">Return to text</a>\r\n",
    "\r\n",
    "<br><br><br><br><br><br><br><br><br><br><br><br><br><br><br><br><br><br><br><br><br><br><br><br><br><br><br><br><br><br><br><br><br><br><br><br><br><br><br><br><br><br>\r\n",
    "\r\n",
    "<a name=\"lem135\" id=\"lem135\"></a>\r\n",
    "\r\n",
    "Proof of Lemma 13.5:<br><br>\r\n",
    "\r\n",
    "We first will ask whether 1 is a multiple root of <em>x<sup>n</sup></em> &minus; 1.  Since 1 is clearly a root,\r\n",
    "<p style='text-align: center;'><em>x<sup>n</sup></em> &minus; 1 = (<em>x</em> &minus; 1)&middot;<em>f</em>(<em>x</em>)</p>\r\n",
    "for some polynomial <em>f</em>(<em>x</em>).  But we can use the division algorithm to produce <em>f</em>(<em>x</em>).  We claim that\r\n",
    "\r\n",
    "<table align=\"center\" border=\"0\" cellspacing=\"0\" cellpadding=\"0\">\r\n",
    "  <tr>\r\n",
    "    <td></td>\r\n",
    "    <td align=\"center\" valign=\"top\"><em>n</em> &minus; 1</td>\r\n",
    "    <td></td>\r\n",
    "  </tr>\r\n",
    "  <tr>\r\n",
    "    <td align=\"right\"><em>f</em>(<em>x</em>) = </td>\r\n",
    "    <td align=\"center\" valign=\"bottom\"><font face=\"Times New Roman, Times, serif\" size=\"+4\">&sum;</font></td>\r\n",
    "    <td align=\"left\"><em>x<sup>k</sup></em> = 1 + <em>x</em> + <em>x</em><sup>2</sup> + <em>x</em><sup>3</sup> + &#8943; + <em>x</em><sup><em>n</em>&minus;2</sup> + \r\n",
    "    <em>x</em><sup><em>n</em>&minus;1</sup>.</td>\r\n",
    "  </tr>\r\n",
    "  <tr>\r\n",
    "    <td></td>\r\n",
    "    <td align=\"center\" valign=\"top\"><em>k</em> = 0</td>\r\n",
    "    <td></td>\r\n",
    "  </tr>\r\n",
    "</table>\r\n",
    "\r\n",
    "To see this, note that\r\n",
    "<p style='text-align: center;'>(<em>x</em> &minus; 1)&middot;<em>f</em>(<em>x</em>) = <em>x</em>&middot;<em>f</em>(<em>x</em>) &minus; <em>f</em>(<em>x</em>) = \r\n",
    "(<em>x</em> + <em>x</em><sup>2</sup> + <em>x</em><sup>3</sup> + &#8943; + <em>x</em><sup><em>n</em>&minus;1</sup> + <em>x<sup>n</sup></em>) &minus; \r\n",
    "(1 + <em>x</em> + <em>x</em><sup>2</sup> + <em>x</em><sup>3</sup> + &#8943; + <em>x</em><sup><em>n</em>&minus;2</sup> + <em>x</em><sup><em>n</em>&minus;1</sup>) \r\n",
    "= <em>x<sup>n</sup></em> &minus; 1.</p>\r\n",
    "To see whether 1 is a double root, we observe that\r\n",
    "\r\n",
    "<table align=\"center\" border=\"0\" cellspacing=\"0\" cellpadding=\"0\">\r\n",
    "  <tr>\r\n",
    "    <td></td>\r\n",
    "    <td align=\"center\" valign=\"top\"><em>n</em> &minus; 1</td>\r\n",
    "    <td></td>\r\n",
    "  </tr>\r\n",
    "  <tr>\r\n",
    "    <td align=\"right\"><em>f</em>(1) = </td>\r\n",
    "    <td align=\"center\" valign=\"bottom\"><font face=\"Times New Roman, Times, serif\" size=\"+4\">&sum;</font></td>\r\n",
    "    <td align=\"left\">1<sup><em>k</em></sup> = 1<sup>0</sup> + 1<sup>1</sup> + 1<sup>2</sup> + 1<sup>3</sup> + &#8943; + 1<sup><em>n</em>&minus;2</sup> + 1<sup><em>n</em>&minus;1</sup> \r\n",
    "    = <em>n</em>.</td>\r\n",
    "  </tr>\r\n",
    "  <tr>\r\n",
    "    <td></td>\r\n",
    "    <td align=\"center\" valign=\"top\"><em>k</em> = 0</td>\r\n",
    "    <td></td>\r\n",
    "  </tr>\r\n",
    "</table>\r\n",
    "\r\n",
    "<br>\r\n",
    "Thus, <em>f</em>(1) is zero if, and only if, <em>n</em> is a multiple of the characteristic of <em>F</em>.  Therefore, 1 is a double root of <em>f</em>(<em>x</em>) precisely \r\n",
    "when the characteristic is positive and divides <em>n</em>.<br><br>\r\n",
    "\r\n",
    "Now suppose that <em>n</em> is not a multiple of the characteristic, and that <em>r</em> is a double root of <em>x<sup>n</sup></em> &minus; 1.  Then<br><br>\r\n",
    "<table align=\"center\" border=\"0\" cellspacing=\"0\" cellpadding=\"0\">\r\n",
    "  <tr>\r\n",
    "    <td align=\"center\"><font style=\"text-decoration:underline\"><em>x&#8319;</em> &minus; 1</font></td>\r\n",
    "  </tr>\r\n",
    "  <tr>\r\n",
    "    <td align=\"center\">(<em>x</em> &minus; <em>r</em>)<sup>2</sup></td>\r\n",
    "  </tr>\r\n",
    "</table>\r\n",
    "is a polynomial in <em>F</em>[<em>x</em>]. If we replace <em>x</em> with <em>x</em>&middot;<em>r</em>, we get\r\n",
    "<table align=\"center\" border=\"0\" cellspacing=\"0\" cellpadding=\"0\">\r\n",
    "  <tr>\r\n",
    "    <td align=\"center\"><font style=\"text-decoration:underline\">(<em>x</em>&middot;<em>r</em>)<em>&#8319;</em> &minus; 1</font></td>\r\n",
    "    <td rowspan = \"2\" align=\"center\">&ensp;=&ensp;</td>\r\n",
    "    <td align=\"center\"><font style=\"text-decoration:underline\"><em>x&#8319;</em>&middot;<em>r&#8319;</em> &minus; 1</font></td>\r\n",
    "    <td rowspan = \"2\" align=\"center\">&ensp;=&ensp;</td>\r\n",
    "    <td align=\"center\"><font style=\"text-decoration:underline\">&emsp;<em>x&#8319;</em> &minus; 1&emsp;</font></td>\r\n",
    "  </tr>\r\n",
    "  <tr>\r\n",
    "    <td align=\"center\">(<em>x</em>&middot;<em>r</em> &minus; <em>r</em>)<sup>2</sup></td>\r\n",
    "    <td align=\"center\">(<em>x</em> &minus; 1)<sup>2</sup>&middot;<em>r</em><sup>2</sup></td>\r\n",
    "    <td align=\"center\">(<em>x</em> &minus; 1)<sup>2</sup>&middot;<em>r</em><sup>2</sup></td>\r\n",
    "  </tr>\r\n",
    "</table>\r\n",
    "\r\n",
    "<br>\r\n",
    "since <em>r<sup>n</sup></em> = 1.  However, we have already shown that 1 is not a double root of <em>x<sup>n</sup></em> &minus; 1, so the right hand side of this \r\n",
    "equation cannot be a polynomial.  Thus, <em>r</em> is not a double root whenever <em>n</em> is not a multiple of the characteristic.<br><br>\r\n",
    "\r\n",
    "<a href=\"#lem135ret\">Return to text</a>\r\n",
    "\r\n",
    "<br><br><br><br><br><br><br><br><br><br><br><br><br><br><br><br><br><br><br><br><br><br><br><br><br><br><br><br><br><br><br><br><br><br><br><br><br><br><br><br><br><br>\r\n",
    "\r\n",
    "<a name=\"theor132\" id=\"theor132\"></a>\r\n",
    "\r\n",
    "Proof of Theorem 13.2:<br><br>\r\n",
    "\r\n",
    "We see from Corollary 13.4 that &Phi;<sub><em>n</em></sub>(<em>x</em>) has integer coefficients.  Let <em>f</em>(<em>x</em>) be an irreducible factor of \r\n",
    "&Phi;<sub><em>n</em></sub>(<em>x</em>), with leading coefficient <em>x<sup>n</sup></em>.  Our goal is to show \r\n",
    "that <em>f</em>(<em>x</em>) = &Phi;<sub><em>n</em></sub>(<em>x</em>).  Since &Phi;<sub><em>n</em></sub>(<em>x</em>) divides <em>x<sup>n</sup></em> &minus; 1, \r\n",
    "we have <em>x<sup>n</sup></em> &minus; 1 = <em>f</em>(<em>x</em>)&middot;<em>g</em>(<em>x</em>) for some <em>g</em>(<em>x</em>) &isin; &#8484;[<em>x</em>].\r\n",
    "Suppose <em>y</em> = <em>&omega;<sub>n</sub><sup>s</sup></em> is a complex root of <em>f</em>(<em>x</em>), which is a primitive <em>n</em><sup>th</sup> root of unity since \r\n",
    "it is also a root of &Phi;<sub><em>n</em></sub>(<em>x</em>), so <em>s</em> will be coprime to <em>n</em>. Let <em>p</em> be a prime that does not divide <em>n</em>.  We want \r\n",
    "to show that <em>y<sup>p</sup></em> is also a root of <em>f</em>(<em>x</em>).<br><br>\r\n",
    "\r\n",
    "Suppose <em>y<sup>p</sup></em> = <em>&omega;<sub>n</sub><sup>s p</sup></em> is not a root of <em>f</em>(<em>x</em>).  Since <em>y<sup>p</sup></em> is also a \r\n",
    "primitive <em>n</em><sup>th</sup> root of unity, &Phi;<sub><em>n</em></sub>(<em>y<sup>p</sup></em>) = 0, \r\n",
    "so <em>f</em>(<em>y<sup>p</sup></em>)&middot;<em>g</em>(<em>y<sup>p</sup></em>) = 0.  Since we are assuming that <em>f</em>(<em>y<sup>p</sup></em>) &ne; 0, we see \r\n",
    "that <em>g</em>(<em>y<sup>p</sup></em>) = 0.  In particular, this means that <em>y</em> is a root of <em>g</em>(<em>x<sup>p</sup></em>).<br><br>\r\n",
    "\r\n",
    "Since <em>y</em> is a root of the irreducible polynomial <em>f</em>(<em>x</em>), and also a root of <em>g</em>(<em>x<sup>p</sup></em>), we see that <em>f</em>(<em>x</em>) \r\n",
    "is a factor of <em>g</em>(<em>x<sup>p</sup></em>) in &#8484;[<em>x</em>].  Hence, we can write \r\n",
    "<em>g</em>(<em>x<sup>p</sup></em>) = <em>f</em>(<em>x</em>)&middot;<em>h</em>(<em>x</em>) for some <em>h</em>(<em>x</em>) in &#8484;[<em>x</em>].<br><br>\r\n",
    "\r\n",
    "We now consider the polynomials <em>F</em>(<em>x</em>), <em>G</em>(<em>x</em>), and <em>H</em>(<em>x</em>) to be the polynomials <em>f</em>(<em>x</em>), \r\n",
    "<em>g</em>(<em>x</em>), and <em>h</em>(<em>x</em>) modulo <em>p</em> in <em>Z<sub>p</sub></em>[<em>x</em>].  Because of the Frobenius \r\n",
    "automorphism, <em>G</em>(<em>x</em>)<sup><em>p</em></sup> = <em>G</em>(<em>x<sup>p</sup></em>) = <em>F</em>(<em>x</em>)&middot;<em>H</em>(<em>x</em>) in \r\n",
    "<em>Z<sub>p</sub></em>[<em>x</em>].  Since <em>Z<sub>p</sub></em>[<em>x</em>] is a UFD, <em>F</em>(<em>x</em>) and <em>G</em>(<em>x</em>) have a common irreducible factor, \r\n",
    "say <em>m</em>(<em>x</em>), in <em>Z<sub>p</sub></em>[<em>x</em>].  This would indicate that <em>m</em>(<em>x</em>) is a repeated factor of <em>x<sup>n</sup></em> &minus; 1 \r\n",
    "in <em>Z<sub>p</sub></em>[<em>x</em>].  But then <em>x<sup>n</sup></em> &minus; 1 would have a multiple root \r\n",
    "in <em>Z<sub>p</sub></em>[<em>x</em>]/&lang;<em>m</em>(<em>x</em>)&rang;, which contradicts Lemma 13.5.  Thus, we find \r\n",
    "that <em>&omega;<sub>n</sub><sup>s p</sup></em> = <em>y<sup>p</sup></em> is a root of <em>f</em>(<em>x</em>).<br><br>  \r\n",
    "\r\n",
    "At this point, we have shown that whenever <em>&omega;<sub>n</sub><sup>s</sup></em> is a root of <em>f</em>(<em>x</em>), and the prime <em>p</em> is coprime \r\n",
    "to <em>n</em>, then <em>&omega;<sub>n</sub><sup>s p</sup></em> is a root of <em>f</em>(<em>x</em>).  By repeating this process, we see \r\n",
    "that <em>&omega;<sub>n</sub><sup>s k</sup></em> is a root of <em>f</em>(<em>x</em>) whenever <em>k</em> is coprime to <em>n</em>.  But this means that all \r\n",
    "primitive <em>n</em><sup>th</sup> roots of unity are roots of <em>f</em>(<em>x</em>), so <em>f</em>(<em>x</em>) = &Phi;<sub><em>n</em></sub>(<em>x</em>).  \r\n",
    "Hence &Phi;<sub><em>n</em></sub>(<em>x</em>) is irreducible.<br><br>\r\n",
    "\r\n",
    "\r\n",
    "<a href=\"#theor132ret\">Return to text</a>\r\n",
    "\r\n",
    "<br><br><br><br><br><br><br><br><br><br><br><br><br><br><br><br><br><br><br><br><br><br><br><br><br><br><br><br><br><br><br><br><br><br><br><br><br><br><br><br><br><br>\r\n",
    "\r\n",
    "<a name=\"prop138\" id=\"prop138\"></a>\r\n",
    "\r\n",
    "Proof of Proposition 13.8:<br><br>\r\n",
    "\r\n",
    "Let <em>h</em>(<em>x</em>) be an irreducible factor of <em>g</em>(<em>x</em>), and let <em>K</em> be the \r\n",
    "field <em>Z<sub>p</sub></em>[<em>x</em>]/&lang;<em>h</em>(<em>x</em>)&rang;.  We wish to show that the order of the field <em>K</em> is <em>p<sup>n</sup></em>, since by \r\n",
    "Proposition 13.2 this would indicate that the degree of <em>h</em>(<em>x</em>) is <em>n</em>.  Let <em>y</em> be the element\r\n",
    "<p style='text-align: center;'><em>y</em> = <em>x</em> + &lang;<em>h</em>(<em>x</em>)&rang;</p>\r\n",
    "in the field <em>K</em>.  Then <em>h</em>(<em>y</em>) = 0, and hence <em>g</em>(<em>y</em>) = 0 in the field <em>K</em>.  In fact, <em>g</em>(<em>x</em>) would be a factor \r\n",
    "of\r\n",
    "<p style='text-align: center;'><em>x</em><sup>(<em>p&#8319;</em> &minus;1)</sup> &minus; 1.</p>\r\n",
    "and so <em>y<sup>p&#8319;</sup></em> = <em>y</em>. In other words, if <em>&fnof;</em>(<em>x</em>) is the Frobienious automorphism on <em>K</em>, \r\n",
    "then <em>&fnof;<sup>&thinsp;n</sup></em>(<em>y</em>) = <em>y</em>.  In fact, <em>&fnof;<sup>&thinsp;n</sup></em>(1) = 1, and <em>Z<sub>p</sub></em>[<em>x</em>] is generated \r\n",
    "by <em>x</em> and 1, so we find that <em>&fnof;<sup>&thinsp;n</sup></em>(<em>x</em>) = <em>x</em> for all <em>x</em> in <em>K</em>.  Thus, the polynomial\r\n",
    "<p style='text-align: center;'><em>x<sup>p&#8319;</sup></em> &minus; <em>x</em></p>\r\n",
    "has at least |<em>K</em>| roots. By Corollary 12.2, |<em>K</em>| can have at most <em>p<sup>n</sup></em> elements.<br><br>\r\n",
    "\r\n",
    "To show that |<em>K</em>| = <em>p<sup>n</sup></em>, let us suppose that |<em>K</em>| = <em>p<sup>i</sup></em>, where <em>i</em> &lt; <em>n</em>.  Then <em>i</em> is \r\n",
    "the smallest number for which <em>&fnof;<sup>&thinsp;i</sup></em>(<em>x</em>) = <em>x</em> for all <em>x</em> in <em>K</em>.  It is clear that <em>i</em> would have to \r\n",
    "divide <em>n</em>, since <nobr><em>&fnof;<sup>&thinsp;n</sup></em>(<em>x</em>)</nobr> is also <em>x</em> for all <em>x</em> in <em>K</em>.<br><br>\r\n",
    "\r\n",
    "Since <em>&fnof;<sup>&thinsp;i</sup></em>(<em>y</em>) = <em>y</em>, we see that <em>y</em> is a root of the polynomial\r\n",
    "<p style='text-align: center;'><em>x</em><sup>(<em>p&#8305;</em> &minus;1)</sup> &minus; 1.</p>\r\n",
    "By Corollary 13.5, &Phi;<sub>(<em>p</em></sub><em>&#8345;</em><sub>&minus;1)</sub>(<em>x</em>) divides\r\n",
    "<br><br>\r\n",
    "<table align=\"center\" border=\"0\" cellspacing=\"0\" cellpadding=\"0\">\r\n",
    "  <tr>\r\n",
    "    <td rowspan = \"3\" align = \"right\"><em>j</em>(<em>x</em>) =&ensp;</td>\r\n",
    "    <td align=\"center\" valign=\"bottom\"><em>x</em><sup>(<em>p&#8319;</em> &minus;1)</sup> &minus; 1</td>\r\n",
    "  </tr>\r\n",
    "  <tr>\r\n",
    "    <td align=\"center\"><hr noshade size=1></td>\r\n",
    "  </tr>\r\n",
    "  <tr>\r\n",
    "    <td align=\"center\" valign=\"top\"><em>x</em><sup>(<em>p&#8305;</em> &minus;1)</sup> &minus; 1</td>\r\n",
    "  </tr>\r\n",
    "</table>\r\n",
    "<br>\r\n",
    "in &#8484;[<em>x</em>], since (<em>p<sup>i</sup></em> &minus; 1) divides (<em>p<sup>n</sup></em> &minus; 1).  Thus, \r\n",
    "in <em>Z<sub>p</sub></em>[<em>x</em>], <em>g</em>(<em>x</em>) divides <em>j</em>(<em>x</em>).\r\n",
    "Since <em>g</em>(<em>y</em>) = 0, and also <em>y</em><sup>(<em>p&#8305;</em> &minus;1)</sup> = 1, we see that <em>y</em> would be a multiple root \r\n",
    "of <nobr><em>x</em><sup>(<em>p&#8319;</em> &minus;1)</sup> &minus; 1.</nobr>  But by Lemma 13.5, this polynomial can only have a multiple root if (<em>p<sup>n</sup></em> &minus; 1) is \r\n",
    "a multiple of <em>p</em>, which it clearly isn't.  Thus, <em>i</em> = <em>n</em>, and so |<em>K</em>| = <em>p<sup>n</sup></em>.  By Proposition 13.2, the irreducible \r\n",
    "factors of <em>g</em>(<em>x</em>) over <em>Z<sub>p</sub></em>[<em>x</em>] all have degree <em>n</em>.<br><br>\r\n",
    "\r\n",
    "<a href=\"#prop138ret\">Return to text</a>\r\n",
    "\r\n",
    "<br><br><br><br><br><br><br><br><br><br><br><br><br><br><br><br><br><br><br><br><br><br><br><br><br><br><br><br><br><br><br><br><br><br><br><br><br><br><br><br><br><br>\r\n",
    "\r\n",
    "<a name=\"cor136\" id=\"cor136\"></a>\r\n",
    "\r\n",
    "Proof of Corollary 13.6:<br><br>\r\n",
    "\r\n",
    "We have already shown in Corollary 13.3 that finite fields of the same order are isomorphic, so all we have to show is that there is a field of \r\n",
    "order <em>p<sup>n</sup></em>.  By Proposition 13.9, the cyclotomic polynomial\r\n",
    "<p style='text-align: center;'>&Phi;<sub>(<em>p</em></sub><em>&#8345;</em><sub>&minus;1)</sub>(<em>x</em>)</p>\r\n",
    "factors in <em>Z<sub>p</sub></em>[<em>x</em>] into irreducible factors of degree <em>n</em>.  If we let <em>A</em>(<em>x</em>) be one of those irreducible factors, then \r\n",
    "by Proposition 13.2, the field \r\n",
    "<p style='text-align: center;'><em>K</em> = <em>Z<sub>p</sub></em>[<em>x</em>]/&lang;<em>A</em>(<em>x</em>)&rang;</p>\r\n",
    "has order <em>p<sup>n</sup></em>.<br><br> \r\n",
    "\r\n",
    "<a href=\"#cor136ret\">Return to text</a>\r\n",
    "\r\n",
    "<br><br><br><br><br><br><br><br><br><br><br><br><br><br><br><br><br><br><br><br><br><br><br><br><br><br><br><br><br><br><br><br><br><br><br><br><br><br><br><br><br><br>\r\n",
    "\r\n",
    "<a name=\"lem136\" id=\"lem136\"></a>\r\n",
    "\r\n",
    "Proof of Lemma 13.6:<br><br>\r\n",
    "\r\n",
    "Let <em>K</em> be a skew field, and let <em>Z</em> be its center.  We first will show that <em>Z</em> is a subring.  If <em>x</em> and <em>y</em> are two elements \r\n",
    "in <em>Z</em>, and <em>k</em> is any element in <em>K</em>, then\r\n",
    "<p style='text-align: center;'>(<em>x</em> &minus; <em>y</em>)&middot;<em>k</em> = <em>x</em>&middot;<em>k</em> &minus; <em>y</em>&middot;<em>k</em> = \r\n",
    "<em>k</em>&middot;<em>x</em> &minus; <em>k</em>&middot;<em>y</em> = <em>k</em>&middot;(<em>x</em> &minus; <em>y</em>)</p>\r\n",
    "and\r\n",
    "<p style='text-align: center;'>(<em>x</em>&middot;<em>y</em>)&middot;<em>k</em> = <em>x</em>&middot;(<em>y</em>&middot;<em>k</em>) = \r\n",
    "<em>x</em>&middot;(<em>k</em>&middot;<em>y</em>) = (<em>x</em>&middot;<em>k</em>)&middot;<em>y</em> = (<em>k</em>&middot;<em>x</em>)&middot;<em>y</em> = \r\n",
    "<em>k</em>&middot;(<em>x</em>&middot;<em>y</em>)</p>\r\n",
    "Thus, both <em>x</em> &minus; <em>y</em> and <em>x</em>&middot;<em>y</em> are in <em>Z</em>.  By Proposition 10.1, <em>Z</em> is a subring of <em>K</em>.<br><br>\r\n",
    "\r\n",
    "Both 0 and the identity element are obviously in <em>Z</em>, so <em>Z</em> is nontrivial.  Since <em>Z</em> is commutative, all we have left to prove is that every \r\n",
    "nonzero element of <em>Z</em> is invertible.<br><br>\r\n",
    "\r\n",
    "If <em>x</em> &ne; 0 is an element in <em>Z</em> and <em>k</em> is in <em>K</em>, then \r\n",
    "<em>x</em>&middot;<em>k</em> = <em>k</em>&middot;<em>x</em>.  The inverse of <em>x</em> exists in <em>K</em>, so we can multiply both sides of the equation on both the \r\n",
    "left and the right by <em>x</em><sup>-1</sup>:\r\n",
    "<p style='text-align: center;'><em>x</em><sup>-1</sup>&middot;(<em>x</em>&middot;<em>k</em>)&middot;<em>x</em><sup>-1</sup> = \r\n",
    "<em>x</em><sup>-1</sup>&middot;(<em>k</em>&middot;<em>x</em>)&middot;<em>x</em><sup>-1</sup>.</p>\r\n",
    "Thus, <em>k</em>&middot;<em>x</em><sup>-1</sup> = <em>x</em><sup>-1</sup>&middot;<em>k</em> for all <em>k</em> in <em>K</em>, and so <em>x</em><sup>-1</sup> is in the \r\n",
    "center <em>Z</em>.  Thus, <em>Z</em> is a field.<br><br>\r\n",
    "\r\n",
    "<a href=\"#lem136ret\">Return to text</a>\r\n",
    "\r\n",
    "<br><br><br><br><br><br><br><br><br><br><br><br><br><br><br><br><br><br><br><br><br><br><br><br><br><br><br><br><br><br><br><br><br><br><br><br><br><br><br><br><br><br>\r\n",
    "\r\n",
    "<a name=\"lem137\" id=\"lem137\"></a>\r\n",
    "\r\n",
    "Proof of Lemma 13.7:<br><br>\r\n",
    "\r\n",
    "Let us begin by rewriting the set <em>Y<sub>k</sub></em>.  Because\r\n",
    "<p style='text-align: center;'><em>N<sub>K</sub></em>&#8270;({<em>k</em>}) = { <em>x</em> &isin; <em>K</em><sup>*</sup> | \r\n",
    "<em>x</em>&middot;<em>k</em>&middot;<em>x</em><sup>-1</sup> = <em>k</em> },</p>\r\n",
    "we can simply say <em>N<sub>K</sub></em>&#8270;({<em>k</em>}) consists of all elements of <em>K</em><sup>*</sup> such that <em>x</em>&middot;<em>k</em> = \r\n",
    "<em>k</em>&middot;<em>x</em>.  Of course 0 satisfies this equation as well, so we can write\r\n",
    "<p style='text-align: center;'><em>Y<sub>k</sub></em> = { <em>x</em> &isin; <em>K</em> | \r\n",
    "<em>x</em>&middot;<em>k</em>  = <em>k</em>&middot;<em>x</em> }.</p>\r\n",
    "When written in this form, it is obvious that the center is in <em>Y<sub>k</sub></em>.  Furthermore, if <em>x</em> and <em>y</em> are in <em>Y<sub>k</sub></em>, then \r\n",
    "<p style='text-align: center;'>(<em>x</em> &minus; <em>y</em>)&middot;<em>k</em> = <em>x</em>&middot;<em>k</em> &minus; <em>y</em>&middot;<em>k</em> = \r\n",
    "<em>k</em>&middot;<em>x</em> &minus; <em>k</em>&middot;<em>y</em> = <em>k</em>&middot;(<em>x</em> &minus; <em>y</em>)</p>\r\n",
    "and\r\n",
    "<p style='text-align: center;'>(<em>x</em>&middot;<em>y</em>)&middot;<em>k</em> = <em>x</em>&middot;(<em>y</em>&middot;<em>k</em>) = \r\n",
    "<em>x</em>&middot;(<em>k</em>&middot;<em>y</em>) = (<em>x</em>&middot;<em>k</em>)&middot;<em>y</em> = (<em>k</em>&middot;<em>x</em>)&middot;<em>y</em> = \r\n",
    "<em>k</em>&middot;(<em>x</em>&middot;<em>y</em>).</p>\r\n",
    "Thus, by Proposition 10.1, <em>Y<sub>k</sub></em> is a subring of <em>K</em>.<br><br>\r\n",
    "\r\n",
    "Finally, if <em>x</em> is a nonzero element in <em>Y<sub>k</sub></em>, then <em>x</em>&middot;<em>k</em> = <em>k</em>&middot;<em>x</em>.  Thus,\r\n",
    "<p style='text-align: center;'><em>x</em><sup>-1</sup>&middot;(<em>x</em>&middot;<em>k</em>)&middot;<em>x</em><sup>-1</sup> = \r\n",
    "<em>x</em><sup>-1</sup>&middot;(<em>k</em>&middot;<em>x</em>)&middot;<em>x</em><sup>-1</sup>,</p>\r\n",
    "so <em>k</em>&middot;<em>x</em><sup>-1</sup> = <em>x</em><sup>-1</sup>&middot;<em>k</em>.  Therefore, every nonzero element of <em>Y<sub>k</sub></em> has its inverse in <em>Y<sub>k</sub></em>, \r\n",
    "so <em>Y<sub>k</sub></em> is a division ring.<br><br>\r\n",
    "\r\n",
    "<a href=\"#lem137ret\">Return to text</a>\r\n",
    "\r\n",
    "<br><br><br><br><br><br><br><br><br><br><br><br><br><br><br><br><br><br><br><br><br><br><br><br><br><br><br><br><br><br><br><br><br><br><br><br><br><br><br><br><br><br>\r\n",
    "\r\n",
    "<a name=\"lem138\" id=\"lem138\"></a>\r\n",
    "\r\n",
    "Proof of Lemma 13.8:<br><br>\r\n",
    "\r\n",
    "First suppose that <em>n</em> is divisible by <em>m</em>. Then by Corollary 13.5, <em>x<sup>m</sup></em> &minus; 1 divides <em>x<sup>n</sup></em> &minus; 1, and in \r\n",
    "fact &Phi;<sub><em>n</em></sub>(<em>x</em>) divides\r\n",
    "<br><br>\r\n",
    "<table align=\"center\" border=\"0\" cellspacing=\"0\" cellpadding=\"0\">\r\n",
    "  <tr>\r\n",
    "    <td align=\"center\" valign=\"bottom\"><em>x<sup>n</sup></em> &minus; 1</td>\r\n",
    "  </tr>\r\n",
    "  <tr>\r\n",
    "    <td align=\"center\"><hr noshade size=1></td>\r\n",
    "  </tr>\r\n",
    "  <tr>\r\n",
    "    <td align=\"center\" valign=\"top\"><em>x<sup>m</sup></em> &minus; 1</td>\r\n",
    "  </tr>\r\n",
    "</table>\r\n",
    "<br>\r\n",
    "Note that since <em>y</em> &gt; 1, <em>y<sup>m</sup></em> &gt; 1, so <em>y<sup>m</sup></em> &minus; 1 &gt; 0.  Thus, <em>y</em> is not a root \r\n",
    "of <em>y<sup>m</sup></em> &minus; 1, so we can apply the evaluation homomorphism <em>&#981;<sub>y</sub></em> and find that\r\n",
    "<br><br>\r\n",
    "<table align=\"center\" border=\"0\" cellspacing=\"0\" cellpadding=\"0\">\r\n",
    "  <tr>\r\n",
    "    <td align=\"center\" valign=\"bottom\"><em>y<sup>n</sup></em> &minus; 1</td>\r\n",
    "  </tr>\r\n",
    "  <tr>\r\n",
    "    <td align=\"center\"><hr noshade size=1></td>\r\n",
    "  </tr>\r\n",
    "  <tr>\r\n",
    "    <td align=\"center\" valign=\"top\"><em>y<sup>m</sup></em> &minus; 1</td>\r\n",
    "  </tr>\r\n",
    "</table>\r\n",
    "is divisible by &Phi;<sub><em>n</em></sub>(<em>y</em>).<br><br>\r\n",
    "\r\n",
    "Now suppose that <em>n</em> is not divisible by <em>m</em>.  Then <em>n</em> = <em>m</em>&middot;<em>k</em> + <em>p</em> for some 0 &lt; <em>p</em> &lt; <em>m</em>.  But \r\n",
    "note that\r\n",
    "<p style='text-align: center;'><em>y<sup>n</sup></em> &minus; 1 = <em>y</em><sup>(<em>m</em>&middot;<em>k</em>+<em>p</em>)</sup> &minus; 1 = \r\n",
    "<em>y</em><sup><em>m</em>&middot;<em>k</em></sup>&middot;<em>y<sup>p</sup></em> &minus; 1 = \r\n",
    "<em>y<sup>p</sup></em>(<em>y</em><sup><em>m</em>&middot;<em>k</em></sup> &minus; 1) + <em>y<sup>p</sup></em> &minus; 1.</p>\r\n",
    "Thus,\r\n",
    "<table align=\"center\" border=\"0\" cellspacing=\"0\" cellpadding=\"0\">\r\n",
    "  <tr>\r\n",
    "    <td align=\"center\" valign=\"bottom\"><em>y<sup>n</sup></em> &minus; 1</td>\r\n",
    "    <td rowspan = \"3\" align = \"right\">&ensp;= <em>y<sup>p</sup></em>&middot;&thinsp;</td>\r\n",
    "    <td align=\"center\" valign=\"bottom\"><em>y</em><sup><em>m</em>&middot;<em>k</em></sup> &minus; 1</td>\r\n",
    "    <td rowspan = \"3\" align = \"right\">&ensp;+&ensp;</td>\r\n",
    "    <td align=\"center\" valign=\"bottom\"><em>y<sup>p</sup></em> &minus; 1</td>\r\n",
    "    <td rowspan = \"3\" align = \"right\">&thinsp;,</td>\r\n",
    "  </tr>\r\n",
    "  <tr>\r\n",
    "    <td align=\"center\"><hr noshade size=1></td>\r\n",
    "    <td align=\"center\"><hr noshade size=1></td>\r\n",
    "    <td align=\"center\"><hr noshade size=1></td>\r\n",
    "  </tr>\r\n",
    "  <tr>\r\n",
    "    <td align=\"center\" valign=\"top\"><em>y<sup>m</sup></em> &minus; 1</td>\r\n",
    "    <td align=\"center\" valign=\"top\"><em>y<sup>m</sup></em> &minus; 1</td>\r\n",
    "    <td align=\"center\" valign=\"top\"><em>y<sup>m</sup></em> &minus; 1</td>\r\n",
    "  </tr>\r\n",
    "</table>\r\n",
    "<br>\r\n",
    "We have already seen that \r\n",
    "<table align=\"center\" border=\"0\" cellspacing=\"0\" cellpadding=\"0\">\r\n",
    "  <tr>\r\n",
    "    <td align=\"center\" valign=\"bottom\"><em>y</em><sup><em>m</em>&middot;<em>k</em></sup> &minus; 1</td>\r\n",
    "  </tr>\r\n",
    "  <tr>\r\n",
    "    <td align=\"center\"><hr noshade size=1></td>\r\n",
    "  </tr>\r\n",
    "  <tr>\r\n",
    "    <td align=\"center\" valign=\"top\"><em>y<sup>m</sup></em> &minus; 1</td>\r\n",
    "  </tr>\r\n",
    "</table>\r\n",
    "<br>\r\n",
    "is an integer, but <em>y<sup>p</sup></em> < <em>y<sup>m</sup></em>, so the last term cannot possibly be an integer.  Therefore,\r\n",
    "<br><br>\r\n",
    "<table align=\"center\" border=\"0\" cellspacing=\"0\" cellpadding=\"0\">\r\n",
    "  <tr>\r\n",
    "    <td align=\"center\" valign=\"bottom\"><em>y<sup>n</sup></em> &minus; 1</td>\r\n",
    "  </tr>\r\n",
    "  <tr>\r\n",
    "    <td align=\"center\"><hr noshade size=1></td>\r\n",
    "  </tr>\r\n",
    "  <tr>\r\n",
    "    <td align=\"center\" valign=\"top\"><em>y<sup>m</sup></em> &minus; 1</td>\r\n",
    "  </tr>\r\n",
    "</table>\r\n",
    "is an integer if, and only if, <em>n</em> is a multiple of <em>m</em>.<br><br>\r\n",
    "\r\n",
    "<a href=\"#lem138ret\">Return to text</a>\r\n",
    "\r\n",
    "<br><br><br><br><br><br><br><br><br><br><br><br><br><br><br><br><br><br><br><br><br><br><br><br><br><br><br><br><br><br><br><br><br><br><br><br><br><br><br><br><br><br>\r\n",
    "\r\n",
    "<a name=\"cor137\" id=\"cor137\"></a>\r\n",
    "\r\n",
    "Proof of Corollary 13.7:<br><br>\r\n",
    "\r\n",
    "Consider the multiplicative groups <em>K</em><sup>*</sup> and <em>F</em><sup>*</sup>.  Certainly <em>F</em><sup>*</sup> is a subgroup of <em>K</em><sup>*</sup>, since \r\n",
    "<em>F</em> is a subring of <em>K</em>.  Notice that <em>K</em><sup>*</sup> contains <em>p<sup>n</sup></em> &minus; 1 elements, \r\n",
    "while |<em>F</em><sup>*</sup>| = <em>p<sup>m</sup></em> &minus; 1.  By Lagrange's theorem (3.1), <em>p<sup>m</sup></em> &minus; 1 must be a factor \r\n",
    "of <em>p<sup>n</sup></em> &minus; 1.  So by Lemma 13.8, <em>n</em> must be a multiple of <em>m</em>.<br><br>\r\n",
    "\r\n",
    "<a href=\"#cor137ret\">Return to text</a>\r\n",
    "\r\n",
    "<br><br><br><br><br><br><br><br><br><br><br><br><br><br><br><br><br><br><br><br><br><br><br><br><br><br><br><br><br><br><br><br><br><br><br><br><br><br><br><br><br><br>\r\n",
    "\r\n",
    "<a name=\"lem139\" id=\"lem139\"></a>\r\n",
    "\r\n",
    "Proof of Lemma 13.9:<br><br>\r\n",
    "\r\n",
    "From the definition, \r\n",
    "\r\n",
    "<table align=\"center\" width=\"450\" border=\"0\" cellspacing=\"0\" cellpadding=\"0\">\r\n",
    "  <tr>\r\n",
    "    <td width=\"187\" > </td>\r\n",
    "    <td width=\"70\" align=\"center\" valign=\"bottom\"><em>n</em></td>\r\n",
    "    <td width=\"193\" ></td>\r\n",
    "  </tr>\r\n",
    "  <tr>\r\n",
    "    <td rowspan = \"2\" align=\"right\">&Phi;<sub><em>n</em></sub>(<em>x</em>) = </td>\r\n",
    "    <td align=\"center\" valign=\"bottom\"><font face=\"Times New Roman, Times, serif\" size=\"+4\">&prod;</font></td>\r\n",
    "    <td rowspan = \"2\" align=\"left\">(<em>x</em> &minus; <em>&omega;<sub>n</sub><sup>k</sup></em>).</td>\r\n",
    "  </tr>\r\n",
    "  <tr>\r\n",
    "    <td align=\"center\" valign=\"top\"><em>k</em> = 1</td>\r\n",
    "  </tr>\r\n",
    "    <tr>\r\n",
    "    <td colspan = \"3\" align=\"center\" valign=\"bottom\">gcd(<em>k</em>, <em>n</em>) = 1&emsp;</td>\r\n",
    "  </tr>\r\n",
    "</table>\r\n",
    "<br>\r\n",
    "Plugging in <em>x</em> = <em>y</em>, and taking the absolute value of both sides, we get \r\n",
    "<br><br>\r\n",
    "<table align=\"center\" border=\"0\" cellspacing=\"0\" cellpadding=\"0\">\r\n",
    "  <tr>\r\n",
    "    <td> </td>\r\n",
    "    <td align=\"center\" valign=\"bottom\"><em>n</em></td>\r\n",
    "    <td></td>\r\n",
    "    <td></td>\r\n",
    "    <td align=\"center\" valign=\"bottom\"><em>n</em></td>\r\n",
    "    <td></td>\r\n",
    "  </tr>\r\n",
    "  <tr>\r\n",
    "    <td rowspan = \"2\" align=\"right\">|&Phi;<sub><em>n</em></sub>(<em>y</em>)| = </td>\r\n",
    "    <td align=\"center\" valign=\"bottom\"><font face=\"Times New Roman, Times, serif\" size=\"+4\">&prod;</font></td>\r\n",
    "    <td rowspan = \"2\" align=\"left\">|<em>y</em> &minus; <em>&omega;<sub>n</sub><sup>k</sup></em>|&ensp;</td>\r\n",
    "    <td rowspan = \"2\" align=\"left\">&gt;&ensp;</td>\r\n",
    "    <td align=\"center\" valign=\"bottom\"><font face=\"Times New Roman, Times, serif\" size=\"+4\">&prod;</font></td>\r\n",
    "    <td rowspan = \"2\" align=\"left\">(<em>y</em> &minus; 1)&ensp;&ge; <em>y</em> &minus; 1.</td>\r\n",
    "  </tr>\r\n",
    "  <tr>\r\n",
    "    <td align=\"center\" valign=\"top\"><em>k</em> = 1</td>\r\n",
    "    <td align=\"center\" valign=\"top\"><em>k</em> = 1</td>\r\n",
    "  </tr>\r\n",
    "    <tr>\r\n",
    "    <td colspan = \"3\" align=\"center\" valign=\"bottom\">gcd(<em>k</em>, <em>n</em>) = 1</td>\r\n",
    "    <td colspan = \"3\" align=\"left\" valign=\"bottom\">gcd(<em>k</em>, <em>n</em>) = 1;</td>\r\n",
    "  </tr>\r\n",
    "</table>\r\n",
    "\r\n",
    "<br>\r\n",
    "Here, the inequality |<em>y</em> &minus; <em>&omega;<sub>n</sub><sup>k</sup></em>| > (<em>y</em> &minus; 1) comes from the fact that real \r\n",
    "part of <em>&omega;<sub>n</sub><sup>k</sup></em> is less than 1 when <em>n</em> &gt; 1.<br><br>\r\n",
    "\r\n",
    "<a href=\"#lem139ret\">Return to text</a>\r\n",
    "\r\n",
    "<br><br><br><br><br><br><br><br><br><br><br><br><br><br><br><br><br><br><br><br><br><br><br><br><br><br><br><br><br><br><br><br><br><br><br><br><br><br><br><br><br><br>\r\n",
    "\r\n",
    "<a name=\"theor133\" id=\"theor133\"></a>\r\n",
    "\r\n",
    "Proof of Theorem 13.3:<br><br>\r\n",
    "\r\n",
    "Suppose that <em>K</em> is a finite skew field.  By Proposition 13.3 <em>K</em> is of order <em>p<sup>m</sup></em> for some prime <em>p</em> and \r\n",
    "some <em>m</em> &gt; 0.  Let <em>Z</em> be the center of <em>K</em>.  Since <em>Z</em> is a subring of <em>K</em> which is a field, by Corollary 13.7, <em>Z</em> is of \r\n",
    "order <em>y</em> = <em>p<sup>a</sup></em>, where <em>m</em> = <em>n</em>&middot;<em>a</em> for \r\n",
    "some <em>n</em> &gt; 0.  Thus, |<em>K</em>| = <em>p</em><sup><em>n</em>&middot;<em>a</em></sup> = <em>y<sup>n</sup></em>.  Note that since <em>K</em> is a skew \r\n",
    "field, <em>n</em> must be greater than 1.  We have from the class equation theorem (7.2)\r\n",
    " <table align=\"center\"border=\"0\" cellspacing=\"0\" cellpadding=\"0\">\r\n",
    "  <tr>\r\n",
    "    <td rowspan = \"2\" align=\"right\">|<em>K</em>| &minus; 1= </td>\r\n",
    "    <td rowspan = \"2\" align=\"center\" valign=\"bottom\"><font face=\"Times New Roman, Times, serif\" size=\"+4\">&sum;</font></td>\r\n",
    "    <td height=\"33\" valign=\"bottom\"><font style=\"text-decoration:underline\">&ensp;|<em>K</em>| &minus; 1&ensp;</font></td>\r\n",
    "    <td rowspan = \"2\" align=\"right\">,</td>\r\n",
    "  </tr>\r\n",
    "  <tr>\r\n",
    "     <td align=\"center\" valign=\"top\">|<em>Y<sub>k</sub></em>| &minus; 1</td>\r\n",
    "  </tr>\r\n",
    "  <tr>\r\n",
    "    <td></td>\r\n",
    "    <td align=\"center\" valign=\"top\"><em>k</em></td>\r\n",
    "    <td></td>\r\n",
    "    <td></td>\r\n",
    "  </tr>\r\n",
    "</table>\r\n",
    "<br>\r\n",
    "where the sum runs from one <em>k</em> from each conjugacy class of <em>K</em><sup>*</sup>.  Note that when <em>k</em> is in <em>Z</em><sup>*</sup>, <em>k</em> is in its \r\n",
    "own conjugacy class, and <em>Y<sub>k</sub></em> = <em>K</em>.  Thus, the terms in the sum corresponding to elements in <em>Z</em><sup>*</sup> are equal to 1.  There are \r\n",
    "of course |<em>Z</em><sup>*</sup>| = <em>y</em> &minus; 1 such terms.  For the other terms in the sum, <em>Y<sub>k</sub></em> is a proper subring of <em>K</em> that \r\n",
    "contains <em>Z</em>.  By Lemma 13.7, <em>Y<sub>k</sub></em> is a division ring, and so by Corollary 13.7, |<em>Y</em><sub>k</sub>| = <em>y<sup>r</sup></em> for \r\n",
    "some <em>r</em> which is a factor of <em>n</em>.  If we let <em>w</em> = &Phi;<sub><em>n</em></sub>(<em>y</em>), we see by Lemma 13.8 that <em>w</em> divides the term<br><br>\r\n",
    "\r\n",
    "<table align=\"center\" border=\"0\" cellspacing=\"0\" cellpadding=\"0\">\r\n",
    "  <tr>\r\n",
    "    <td height=\"33\" align=\"center\" valign=\"bottom\"><font style=\"text-decoration:underline\">&ensp;|<em>K</em>| &minus; 1&ensp;</font></td>\r\n",
    "    <td rowspan = \"2\" align=\"center\">&ensp;=&ensp;</td>\r\n",
    "    <td height=\"33\" align=\"center\" valign=\"bottom\"><font style=\"text-decoration:underline\">&ensp;<em>y&#8319;</em> &minus; 1&ensp;</font></td>\r\n",
    "    <td rowspan = \"2\" align=\"left\">.</td>\r\n",
    "  </tr>\r\n",
    "  <tr>\r\n",
    "     <td align=\"center\" valign=\"top\">|<em>Y<sub>k</sub></em>| &minus; 1</td>\r\n",
    "     <td align=\"center\" valign=\"top\"><em>y<sup>r</sup></em> &minus; 1</td>\r\n",
    "  </tr>\r\n",
    "</table>\r\n",
    "<br>\r\n",
    "Furthermore, <em>w</em> divides the left hand side of the class equation, |<em>K</em>| &minus; 1.  In fact, the only terms in the class equation that are not divisible \r\n",
    "by <em>w</em> are the <em>y</em> &minus; 1 terms that are equal to 1, coming from the invertible elements of the center <em>Z</em>.  Thus, <em>y</em> &minus; 1 must be \r\n",
    "divisible by <em>w</em>.  But this is impossible, since <em>y</em> &minus; 1 &lt; <em>w</em> by Lemma 13.9, for <em>n</em> &gt; 1.  This contradiction proves that \r\n",
    "finite skew fields cannot exist.<br><br>\r\n",
    "\r\n",
    "<a href=\"#theor133ret\">Return to text</a>\r\n",
    "\r\n",
    "<br><br><br><br><br><br><br><br><br><br><br><br><br><br><br><br><br><br><br><br><br><br><br><br><br><br><br><br><br><br><br><br><br><br><br><br><br><br><br><br><br><br>\r\n",
    "\r\n",
    "<a name=\"sec13p\" id=\"sec13p\"></a>\r\n",
    "<h1><em>Sage</em> Interactive Problems</h1>\r\n",
    "\r\n",
    "<br>\r\n",
    "&sect;13.1 #18)<br> \r\n",
    "The polynomial <em>x</em><sup>4</sup> + <em>x</em> + 1 is irreducible in the field <em>Z</em><sub>2</sub>.  Use this polynomial to define a field of order 16 \r\n",
    "in <em>Sage</em>.  Show that there is a subfield of order 4 in this field.  Is there a subfield of order 8 in this field?<br>"
   ]
  },
  {
   "cell_type": "markdown",
   "metadata": {
    "collapsed": false
   },
   "source": [
    "<br>\r\n",
    "&sect;13.1 #19)<br> \r\n",
    "The polynomial <em>x</em><sup>6</sup> + <em>x</em> + 1 is irreducible in the field <em>Z</em><sub>2</sub>.  Use this polynomial to define a field of order 64 \r\n",
    "in <em>Sage</em>.  Show that there is a subfield of order 4 in this field.  Is there a subfield of order 8 in this field?<br>"
   ]
  },
  {
   "cell_type": "markdown",
   "metadata": {
    "collapsed": false
   },
   "source": [
    "<br>\r\n",
    "&sect;13.1 #20)<br> \r\n",
    "The polynomial <em>x</em><sup>4</sup> + <em>x</em> + 2 is irreducible in the field <em>Z</em><sub>2</sub>.  Use this polynomial to define a field of order 81 \r\n",
    "in <em>Sage</em>.  Show that there is a subfield of order 9 in this field.  Is there a subfield of order 27 in this field?<br>"
   ]
  },
  {
   "cell_type": "markdown",
   "metadata": {
    "collapsed": false
   },
   "source": [
    "<br>\r\n",
    "&sect;13.2 #20)<br> \r\n",
    "First define <em>Z</em><sub>3</sub>[<em>x</em>] as follows:<br>"
   ]
  },
  {
   "cell_type": "code",
   "execution_count": 0,
   "metadata": {
    "collapsed": false
   },
   "outputs": [
   ],
   "source": [
    "InitDomain(3, \"x\")"
   ]
  },
  {
   "cell_type": "markdown",
   "metadata": {
    "collapsed": false
   },
   "source": [
    "<br>\r\n",
    "Then find the factorization of the polynomial <em>x</em><sup>3&sup3;</sup> &minus; <em>x</em>.  Show that \r\n",
    "all irreducible polynomials with a leading term of <em>x</em><sup>3</sup> are in this factorization.  For an  explanation see Problem 18.<br>"
   ]
  },
  {
   "cell_type": "markdown",
   "metadata": {
    "collapsed": false
   },
   "source": [
    "<br>\r\n",
    "&sect;13.2 #21)<br> \r\n",
    "First define <em>Z</em><sub>2</sub>[<em>x</em>] as follows:<br>"
   ]
  },
  {
   "cell_type": "code",
   "execution_count": 0,
   "metadata": {
    "collapsed": false
   },
   "outputs": [
   ],
   "source": [
    "InitDomain(2, \"x\")"
   ]
  },
  {
   "cell_type": "markdown",
   "metadata": {
    "collapsed": false
   },
   "source": [
    "<br>\r\n",
    "Then find the factorization of the polynomial <em>x</em><sup>2&#8309;</sup> &minus; <em>x</em>.  Show that all irreducible polynomials of degree 5 are in this factorization.<br>"
   ]
  },
  {
   "cell_type": "markdown",
   "metadata": {
    "collapsed": false
   },
   "source": [
    "<br> \r\n",
    "&sect;13.3 #16)<br>\r\n",
    "First define <em>Z</em><sub>2</sub>[<em>x</em>] in <em>Sage</em>,<br>"
   ]
  },
  {
   "cell_type": "code",
   "execution_count": 0,
   "metadata": {
    "collapsed": false
   },
   "outputs": [
   ],
   "source": [
    "InitDomain(2,\"x\")"
   ]
  },
  {
   "cell_type": "markdown",
   "metadata": {
    "collapsed": false
   },
   "source": [
    "<br>\r\n",
    "and then show that the cyclotomic polynomial &Phi;<sub>(2</sub>&#8323;<sub>&minus;1)</sub>(<em>x</em>) factors in the field <em>Z</em><sub>2</sub> into irreducible \r\n",
    "polynomials of degree 3.  Show by process of elimination that the only irreducible polynomials of degree 3 are the ones given in this factorization.<br>"
   ]
  },
  {
   "cell_type": "markdown",
   "metadata": {
    "collapsed": false
   },
   "source": [
    "<br>\r\n",
    "&sect;13.3 #17)<br>\r\n",
    "First define <em>Z</em><sub>2</sub>[<em>x</em>] in <em>Sage</em> as in Problem 16.  Then show that the cyclotomic \r\n",
    "polynomial &Phi;<sub>(2</sub>&#8324;<sub>&minus;1)</sub>(<em>x</em>) factors in the field <em>Z</em><sub>2</sub> into irreducible polynomials of degree 4.  Find one \r\n",
    "more irreducible polynomial of degree 4 besides the ones given in this factorization.  (Hint: Factor the polynomial <em>x</em><sup>2&#8308;</sup> &minus; <em>x</em>.)<br>"
   ]
  },
  {
   "cell_type": "markdown",
   "metadata": {
    "collapsed": false
   },
   "source": [
    "<br>\r\n",
    "&sect;13.3 #18)<br>\r\n",
    "First define <em>Z</em><sub>2</sub>[<em>x</em>] in <em>Sage</em> as in Problem 16.  Then show that the cyclotomic \r\n",
    "polynomial &Phi;<sub>(2</sub>&#8325;<sub>&minus;1)</sub>(<em>x</em>) factors in the field <em>Z</em><sub>2</sub> into irreducible polynomials of degree 5. Does \r\n",
    "this factorization give all of the irreducible polynomials of degree 5 over <em>Z</em><sub>5</sub>?<br>"
   ]
  },
  {
   "cell_type": "markdown",
   "metadata": {
    "collapsed": false
   },
   "source": [
    "<br>\r\n",
    "&sect;13.3 #19)<br>\r\n",
    "First define <em>Z</em><sub>3</sub>[<em>x</em>] in <em>Sage</em>,<br>"
   ]
  },
  {
   "cell_type": "code",
   "execution_count": 0,
   "metadata": {
    "collapsed": false
   },
   "outputs": [
   ],
   "source": [
    "InitDomain(3, \"x\")"
   ]
  },
  {
   "cell_type": "markdown",
   "metadata": {
    "collapsed": false
   },
   "source": [
    "<br>\r\n",
    "and then show that the cyclotomic polynomial &Phi;<sub>(3</sub>&#8322;<sub>&minus;1)</sub>(<em>x</em>) factors in the field <em>Z</em><sub>3</sub> into irreducible \r\n",
    "polynomials of degree 2.  What irreducible quadratic polynomial in <em>Z</em><sub>3</sub> have we seen that is not in this list of factors?<br>"
   ]
  },
  {
   "cell_type": "markdown",
   "metadata": {
    "collapsed": false
   },
   "source": [
    "<br>\r\n",
    "&sect;13.3 #20)<br>\r\n",
    "Use <em>Sage</em> to find the Conway polynomial of degree 6 over <em>Z</em><sub>2</sub>.  Show that raising a root of this polynomial to the 9<sup>th</sup> power produces a \r\n",
    "zero of the Conway polynomial of degree 3 over <em>Z</em><sub>2</sub>, and raising this root to the 21<sup>st</sup> power produces a zero of the Conway polynomial of degree 2 \r\n",
    "over <em>Z</em><sub>2</sub>.  Hence, the compatibility condition is satisfied.<br>"
   ]
  },
  {
   "cell_type": "markdown",
   "metadata": {
    "collapsed": false
   },
   "source": [
    "<br>\r\n",
    "&sect;13.4 #16)<br>\r\n",
    "<em>Sage</em> can be used to explore skew fields besides &#8461;.  Consider the following ring of characteristic 0:<br>"
   ]
  },
  {
   "cell_type": "code",
   "execution_count": 0,
   "metadata": {
    "collapsed": false
   },
   "outputs": [
   ],
   "source": [
    "InitSkew9()"
   ]
  },
  {
   "cell_type": "markdown",
   "metadata": {
    "collapsed": false
   },
   "source": [
    "<br>\r\n",
    "The ring is defined in terms of 2 generators <em>a</em> and <em>b</em>, such that <em>a</em><sup>3</sup> = 3<em>a</em> + 1, \r\n",
    "<em>b</em><sup>3</sup> = 2, and <em>b</em>&middot;<em>a</em> = (2 &minus; <em>a</em><sup>2</sup>)&middot;<em>b</em>.<br>"
   ]
  },
  {
   "cell_type": "code",
   "execution_count": 0,
   "metadata": {
    "collapsed": false
   },
   "outputs": [
   ],
   "source": [
    "a^3"
   ]
  },
  {
   "cell_type": "code",
   "execution_count": 0,
   "metadata": {
    "collapsed": false
   },
   "outputs": [
   ],
   "source": [
    "b^3"
   ]
  },
  {
   "cell_type": "code",
   "execution_count": 0,
   "metadata": {
    "collapsed": false
   },
   "outputs": [
   ],
   "source": [
    "b*a"
   ]
  },
  {
   "cell_type": "markdown",
   "metadata": {
    "collapsed": false
   },
   "source": [
    "<br>\r\n",
    "This produces a ring that is a 9-dimensional extension of &#8474.  A basis for this ring would be\r\n",
    "<p style='text-align: center;'>{1, <em>a</em>, <em>a</em><sup>2</sup>, <em>b</em>, <em>a</em>&middot;<em>b</em>, \r\n",
    "<em>a</em><sup>2</sup>&middot;<em>b</em>, <em>b</em><sup>2</sup>, <em>a</em>&middot;<em>b</em><sup>2</sup>, \r\n",
    "<em>a</em><sup>2</sup>&middot;<em>b</em><sup>2</sup>}.</p>\r\n",
    "If <br>"
   ]
  },
  {
   "cell_type": "code",
   "execution_count": 0,
   "metadata": {
    "collapsed": false
   },
   "outputs": [
   ],
   "source": [
    "var(\"c1 c2 c3 c4 c5 c6 c7 c8 c9\")\r\n",
    "w1 = c1 + c2*a + c3*a^2\r\n",
    "w2 = c4 + c5*a + c6*a^2\r\n",
    "w3 = c7 + c8*a + c9*a^2\r\n",
    "w = w1 + w2*b + w3*b^2; w"
   ]
  },
  {
   "cell_type": "markdown",
   "metadata": {
    "collapsed": false
   },
   "source": [
    "<br>\r\n",
    "then <em>w</em> is the general element of the ring. To show that this ring is in fact a skew field for rational values of <em>c</em><sub>1</sub>, <em>c</em><sub>2</sub>, &hellip; <em>c</em><sub>9</sub>, perform the following operations:<br>"
   ]
  },
  {
   "cell_type": "code",
   "execution_count": 0,
   "metadata": {
    "collapsed": false
   },
   "outputs": [
   ],
   "source": [
    "v1 = b*w1*b*w1*b - 2*b*w2*b*w3*b\r\n",
    "v2 = 2*w3*b^2*w3*b - w2*b^2*w1*b\r\n",
    "v3 = w2*b*w2*b^2 - w3*b*w1*b^2\r\n",
    "v = v1 + v2*b + v3*b^2;v"
   ]
  },
  {
   "cell_type": "code",
   "execution_count": 0,
   "metadata": {
    "collapsed": false
   },
   "outputs": [
   ],
   "source": [
    "R = v*w"
   ]
  },
  {
   "cell_type": "code",
   "execution_count": 0,
   "metadata": {
    "collapsed": false
   },
   "outputs": [
   ],
   "source": [
    "R"
   ]
  },
  {
   "cell_type": "markdown",
   "metadata": {
    "collapsed": false
   },
   "source": [
    "<br>\r\n",
    "Notice that <em>R</em> does not depend on <em>a</em> or <em>b</em>, hence is an element of &#8474;.  To simplify it, evaluate<br>"
   ]
  },
  {
   "cell_type": "code",
   "execution_count": 0,
   "metadata": {
    "collapsed": false
   },
   "outputs": [
   ],
   "source": [
    "expand(R.vector()[0])"
   ]
  },
  {
   "cell_type": "markdown",
   "metadata": {
    "collapsed": false
   },
   "source": [
    "<br>\r\n",
    "Using this value of <em>R</em>, find a formula for <em>w</em><sup>-1</sup>.  Can you prove that <em>R</em> is never zero if \r\n",
    "<em>c</em><sub>1</sub>, <em>c</em><sub>2</sub>, <em>c</em><sub>3</sub>, &hellip; <em>c</em><sub>9</sub> are rational?\r\n",
    "<br><br>\r\n",
    "Hint: If <em>R</em> = 0 for rational values of <em>c</em><sub>1</sub> &hellip; <em>c</em><sub>9</sub>, we can multiply\r\n",
    "by the common denominator to find a solution to <em>R</em> = 0 for integer values.  In fact, we may assume that \r\n",
    "<em>c</em><sub>1</sub>, <em>c</em><sub>2</sub>, <em>c</em><sub>3</sub>, &hellip; <em>c</em><sub>9</sub> have no common factors.\r\n",
    "Show that the first three constants must be even.  After a substitution, show that <em>c</em><sub>4</sub>, <em>c</em><sub>5</sub>, \r\n",
    "<em>c</em><sub>6</sub> must be even.  After yet another substitution, show that the remaining constants must be even, leading to a \r\n",
    "contradiction.<br>"
   ]
  },
  {
   "cell_type": "markdown",
   "metadata": {
    "collapsed": false
   },
   "source": [
    "<br>\r\n",
    "&sect;13.4 #17)<br>\r\n",
    "Find the center of the skew field from Problem 16.<br>"
   ]
  },
  {
   "cell_type": "markdown",
   "metadata": {
    "collapsed": false
   },
   "source": [
    "<br>\r\n",
    "&sect;13.4 #18)<br>\r\n",
    "Find the normalizer of the element <em>a</em>&middot;<em>b</em> in the skew field from Problem 16.<br><br>\r\n",
    "\r\n",
    "Hint: Use the simplified form of the normalizer from Lemma 13.7.<br>"
   ]
  },
  {
   "cell_type": "markdown",
   "metadata": {
    "collapsed": false
   },
   "source": [
    "<br>\r\n",
    "&sect;13.4 #19)<br>\r\n",
    "Load the unit Hurwitz integers into Mathematica as follows:<br>"
   ]
  },
  {
   "cell_type": "code",
   "execution_count": 0,
   "metadata": {
    "collapsed": false
   },
   "outputs": [
   ],
   "source": [
    "InitQuaternions()"
   ]
  },
  {
   "cell_type": "code",
   "execution_count": 0,
   "metadata": {
    "collapsed": false
   },
   "outputs": [
   ],
   "source": [
    "U = Group(i, (1 + i + j + k)/2)"
   ]
  },
  {
   "cell_type": "markdown",
   "metadata": {
    "collapsed": false
   },
   "source": [
    "<br>\r\n",
    "What is the center of this group?  What group is <em>U</em>/<em>Z</em>(<em>U</em>) isomorphic to?<br>"
   ]
  },
  {
   "cell_type": "markdown",
   "metadata": {
    "collapsed": false
   },
   "source": [
    "<br>\r\n",
    "&sect;13.4 #20)<br>\r\n",
    "Since 13 can be expressed as the sum of 4 squares in 2 different ways, show that there are two ways of factoring 13 in Hurwitz integers.  See Problem 13.  Show that these factorizations are not related by associates in the sense of Problem 14.  The easiest to \r\n",
    "show that the primes <em>p</em> and <em>q</em> are not associates is with a nested <strong>for</strong> loop.<br>"
   ]
  },
  {
   "cell_type": "code",
   "execution_count": 0,
   "metadata": {
    "collapsed": false
   },
   "outputs": [
   ],
   "source": [
    "for x in U:\r\n",
    "    for y in U:\r\n",
    "        if(x*p*y == q):\r\n",
    "            print x, y"
   ]
  },
  {
   "cell_type": "markdown",
   "metadata": {
    "collapsed": false
   },
   "source": [
    "</font>\r\n",
    "\r\n",
    "</body>\r\n",
    "\r\n",
    "</html>"
   ]
  }
 ],
 "metadata": {
  "kernelspec": {
   "display_name": "SageMath (stable)",
   "name": "sagemath"
  },
  "language_info": {
   "codemirror_mode": {
    "name": "ipython",
    "version": 2
   },
   "file_extension": ".py",
   "mimetype": "text/x-python",
   "name": "python",
   "nbconvert_exporter": "python",
   "pygments_lexer": "ipython2",
   "version": "2.7.14"
  }
 },
 "nbformat": 4,
 "nbformat_minor": 0
}