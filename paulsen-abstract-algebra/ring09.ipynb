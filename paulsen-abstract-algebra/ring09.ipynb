{
 "cells": [
  {
   "cell_type": "markdown",
   "metadata": {
    "collapsed": false
   },
   "source": [
    "<!-- Ring09 -->\n",
    "<html>\n",
    "<body>\n",
    "\n",
    "<!-- To make the size of the font bigger for presentations, change the following command from +1 to +2 -->\n",
    "<font size=\"+1\">\n",
    "\n",
    "<p style='font-size: 36px;font-family: Arial;font-style: italic;font-weight: bold;color: #FF00FF;background-color: #80FFFF;text-align: center;'>\n",
    "Abstract Algebra: An Interactive Approach, 2e\n",
    "</p>\n",
    "\n",
    "<p style='font-family: Geneva;font-style: italic;color: #0000FF;background-color: #FFFFFF;'>\n",
    "&copy;2015 This notebook is provided with the textbook, &quot;Abstract Algebra: An Interactive Approach, 2nd Ed.&quot; by William Paulsen. Users of this notebook are encouraged to buy the textbook.\n",
    "</p>\n",
    "\n",
    "\n",
    "\n",
    "<p style='font-size: 36px;font-family: New York;font-weight: bold;color: #000000;background-color: #FFFFFF;text-align: center;border: 1px;border-style: \n",
    "solid;border-color: #000000;'>\n",
    "Chapter 9<br>\n",
    "Introduction to Rings\n",
    "</p>\n",
    "\n",
    "\n",
    "<p style='text-align: center;'>Initialization:  This cell MUST be evaluated first:</p>"
   ]
  },
  {
   "cell_type": "code",
   "execution_count": 0,
   "metadata": {
    "collapsed": false
   },
   "outputs": [
   ],
   "source": [
    "%display latex\n",
    "try:\n",
    "    load('absalgtext.sage')\n",
    "except IOError:\n",
    "    load('/media/sf_sage/absalgtext.sage')"
   ]
  },
  {
   "cell_type": "markdown",
   "metadata": {
    "collapsed": false
   },
   "source": [
    "<br>\r\n",
    "<a href=\"#sec91\">The Definition of a Ring</a><br>\r\n",
    "<a href=\"#sec92\">Entering Finite Rings into <em>Sage</em></a><br>\r\n",
    "<a href=\"#sec93\">Some Properties of Rings</a><br>\r\n",
    "<a href=\"#sec9p\"><em>Sage</em> Interactive Problems</a><br>\r\n",
    "\r\n",
    "<a name=\"sec91\" id=\"sec91\"></a>\r\n",
    "<h1>The Definition of a Ring</h1>\r\n",
    "\r\n",
    "<br>\r\n",
    "While studying the previous chapters on groups, we discovered different patterns in the group's structure by which we could project and prove many useful \r\n",
    "properties.  However, many of the examples of groups we studied possess some additional structure which we have yet to take advantage of. <br><br>\r\n",
    " \r\n",
    "In the remaining chapters we will look at groups which have not just one, but two operations defined on the set of elements. Not only will we be able to multiply \r\n",
    "elements together as we did for groups, but we also will be able to <em>add</em> elements together. <br><br>\r\n",
    " \r\n",
    "The simpliest example to consider is the group of integers, &#8484;. This is a group under the operation of addition, in fact an Abelian group with the identity element \r\n",
    "being 0. However, we can also multiply two integers together, always forming another integer. Is &#8484; a group using multiplication instead of addition?  No, because \r\n",
    "most elements do not have an inverse. However, this extra operation gives &#8484; a much richer structure than standard groups. Can you find some of the \r\n",
    "additional properties?<br><br>\r\n",
    " \r\n",
    "EXPERIMENT:<br>Even though &#8484; is not a group using multiplication, what &quot;grouplike&quot; properties does multiplication have over the integers?  Are there \r\n",
    "any properties which show a relationship between multiplication and addition?<br>"
   ]
  },
  {
   "cell_type": "markdown",
   "metadata": {
    "collapsed": false
   },
   "source": [
    "<br>\r\n",
    "We can also consider subgroups of the group of integers, &#8484;. The simpliest subgroup is the set of <em>even integers</em>.  This still is closed under \r\n",
    "multiplication, since the product of two even numbers is even. But what about the other properties of multiplication?<br><br>\r\n",
    " \r\n",
    "EXPERIMENT:<br>Are there any of the properties discovered in the last experiment which do <em>not</em> hold for the even integers?<br>"
   ]
  },
  {
   "cell_type": "markdown",
   "metadata": {
    "collapsed": false
   },
   "source": [
    "<br>\r\n",
    "Likewise, the group of rationals &#8474; and real numbers &#8477; have two operations.  \r\n",
    "Although these are both abelian groups under addition, they are almost groups under multiplication as well.  The multiplicative inverse exists for all elements except 0.\r\n",
    "If we considered the remaining elements &#8474;-{0} or &#8477;-{0}, we have the multiplicative \r\n",
    "groups denoted &#8474;<sup>*</sup> and &#8477;<sup>*</sup>.<br><br>\r\n",
    "\r\n",
    "Not only do &#8484;, &#8474;, and &#8477; allow for an additional operation to be defined on them, but also some groups that we studied in Chapter 1.\r\n",
    "Take for example the groups formed by modular \r\n",
    "arithmatic, <em>Z<sub>n</sub></em>.  To define <em>Z</em><sub>6</sub>, we used the command:<br>"
   ]
  },
  {
   "cell_type": "code",
   "execution_count": 0,
   "metadata": {
    "collapsed": false
   },
   "outputs": [
   ],
   "source": [
    "G = ZGroup(6); G"
   ]
  },
  {
   "cell_type": "markdown",
   "metadata": {
    "collapsed": false
   },
   "source": [
    "<br>\r\n",
    "Here is the multiplication table for the group <em>Z</em><sub>6</sub>, with 0 being the identity element:<br>"
   ]
  },
  {
   "cell_type": "code",
   "execution_count": 0,
   "metadata": {
    "collapsed": false
   },
   "outputs": [
   ],
   "source": [
    "MultTable(G)"
   ]
  },
  {
   "cell_type": "markdown",
   "metadata": {
    "collapsed": false
   },
   "source": [
    "<br>\r\n",
    "Can we define another operation on this group? The natural operation would be to try multiplication modulo 6. This is defined by the command<br>"
   ]
  },
  {
   "cell_type": "code",
   "execution_count": 0,
   "metadata": {
    "collapsed": false
   },
   "outputs": [
   ],
   "source": [
    "G = MultMod(6); G"
   ]
  },
  {
   "cell_type": "markdown",
   "metadata": {
    "collapsed": false
   },
   "source": [
    "<br>\r\n",
    "Let us look at the new multiplication table.<br>"
   ]
  },
  {
   "cell_type": "code",
   "execution_count": 0,
   "metadata": {
    "collapsed": false
   },
   "outputs": [
   ],
   "source": [
    "MultTable(G)"
   ]
  },
  {
   "cell_type": "markdown",
   "metadata": {
    "collapsed": false
   },
   "source": [
    "<br>\r\n",
    "Notice that this is not a group, since we don't get a Latin square. In particular, the element 0 does not have an inverse. But that shouldn't matter since 0 didn't have \r\n",
    "an inverse in any of the other examples we looked at. What if we considered the set without the zero element? Would this be a group? <br><br>\r\n",
    " \r\n",
    "EXPERIMENT:<br>\r\n",
    "In all of the previous groups we looked at, (&#8484;, Even numbers, &#8474;, Reals,) the product of two nonzero numbers was always nonzero.  This allowed us to \r\n",
    "consider throwing out the zero element, and consider multiplication on the remaining elements. But what about multiplication modulo 6? Is the product of two nonzero \r\n",
    "elements always nonzero? Or is there an example where\r\n",
    "<p style='text-align: center;'><em>x</em> &middot; <em>y</em> = 0</p>\r\n",
    "where <em>x</em> and <em>y</em> are both nonzero? If so, how many examples can you find?<br>"
   ]
  },
  {
   "cell_type": "markdown",
   "metadata": {
    "collapsed": false
   },
   "source": [
    "<br>\r\n",
    "Here is one last example of appending an additional operation on a group.<br><br>\r\n",
    "\r\n",
    "EXAMPLE:<br>  \r\n",
    "The following command produces the quaternion group of order 8 which we studied in chapter 4:<br>"
   ]
  },
  {
   "cell_type": "code",
   "execution_count": 0,
   "metadata": {
    "collapsed": false
   },
   "outputs": [
   ],
   "source": [
    "Q = InitQuaternions(); Q"
   ]
  },
  {
   "cell_type": "markdown",
   "metadata": {
    "collapsed": false
   },
   "source": [
    "<br>\r\n",
    "This group has the following multiplication table:<br>"
   ]
  },
  {
   "cell_type": "code",
   "execution_count": 0,
   "metadata": {
    "collapsed": false
   },
   "outputs": [
   ],
   "source": [
    "MultTable(Q)"
   ]
  },
  {
   "cell_type": "markdown",
   "metadata": {
    "collapsed": false
   },
   "source": [
    "<br>\r\n",
    "Notice that the multiplication of the elements of the group acts a little like the cross product of two vectors in &#8477;<sup>3</sup> expressed in terms \r\n",
    "of <em>i</em>, <em>j</em>, and <em>k</em>. That is,\r\n",
    "<p style='text-align: center;'><em>i</em>&middot;<em>j</em> = <em>k</em>,  <em>j</em>&middot;<em>k</em> = <em>i</em>, and <em>k</em>&middot;<em>i</em> = <em>j</em>.</p>\r\n",
    "This suggests that we can also <em>add</em> multiples of these elements together like vectors, forming such elements as<br>"
   ]
  },
  {
   "cell_type": "code",
   "execution_count": 0,
   "metadata": {
    "collapsed": false
   },
   "outputs": [
   ],
   "source": [
    "i - 2*j - k"
   ]
  },
  {
   "cell_type": "markdown",
   "metadata": {
    "collapsed": false
   },
   "source": [
    "<br>\r\n",
    "which represents the vector &lang; 1, 2,-1&rang;.  Two vectors can be added together in the standard way.<br>"
   ]
  },
  {
   "cell_type": "code",
   "execution_count": 0,
   "metadata": {
    "collapsed": false
   },
   "outputs": [
   ],
   "source": [
    "(i - 2*j - k) + (3*i + j - 2*k)"
   ]
  },
  {
   "cell_type": "markdown",
   "metadata": {
    "collapsed": false
   },
   "source": [
    "Can we define multiplication on all three-dimensional vectors by extending the group of quaternions? <br><br>\r\n",
    " \r\n",
    "EXPERIMENT:<br>\r\n",
    "Is it true that whenever we multiply two three-dimension vectors using the rules in the above table, we get another three-dimension vector? For example, try the \r\n",
    "product:<br>"
   ]
  },
  {
   "cell_type": "code",
   "execution_count": 0,
   "metadata": {
    "collapsed": false
   },
   "outputs": [
   ],
   "source": [
    "(i - 2*j - k)*(4*i + j + 2*k)"
   ]
  },
  {
   "cell_type": "markdown",
   "metadata": {
    "collapsed": false
   },
   "source": [
    "<br>\r\n",
    "Here we get the vector which one might recognize as the cross product. Try changing the numbers in the example to see if the answer is always a three-dimensional \r\n",
    "vector.<br>"
   ]
  },
  {
   "cell_type": "markdown",
   "metadata": {
    "collapsed": false
   },
   "source": [
    "<br>\r\n",
    "In doing the experiment, you may have seen results that look as though a number was added to a vector. This we never allowed in Calculus class!<br>"
   ]
  },
  {
   "cell_type": "code",
   "execution_count": 0,
   "metadata": {
    "collapsed": false
   },
   "outputs": [
   ],
   "source": [
    "(i - 2*j - k)*(3*i + j - 2*k)"
   ]
  },
  {
   "cell_type": "markdown",
   "metadata": {
    "collapsed": false
   },
   "source": [
    "<br>\r\n",
    "What could such an expression represent? We could consider the number added to the vector as a <em>fourth</em> dimension. This extra dimension would represent \r\n",
    "<em>time</em>.  Thus, we would say the expression<br>"
   ]
  },
  {
   "cell_type": "code",
   "execution_count": 0,
   "metadata": {
    "collapsed": false
   },
   "outputs": [
   ],
   "source": [
    "2 + i + 2*j - k"
   ]
  },
  {
   "cell_type": "markdown",
   "metadata": {
    "collapsed": false
   },
   "source": [
    "<br>\r\n",
    "would represent the four-dimensional vector &lang; 2, 1, 2, -1 &rang;. <br><br>\r\n",
    " \r\n",
    "(Notice that the time dimension is listed <em>before</em> the three spacial dimensions.)<br><br>\r\n",
    " \r\n",
    "EXPERIMENT:<br>\r\n",
    "Try multiplying different four dimensional vectors together.  Will the answer always be able to be represented by a four dimentional vector?<br>"
   ]
  },
  {
   "cell_type": "code",
   "execution_count": 0,
   "metadata": {
    "collapsed": false
   },
   "outputs": [
   ],
   "source": [
    "(2 + i + 2*j - k)*(5 + 3*i + j - 2*k)"
   ]
  },
  {
   "cell_type": "markdown",
   "metadata": {
    "collapsed": false
   },
   "source": [
    "<br>\r\n",
    "EXPERIMENT:<br>\r\n",
    "What happens if we try to take an inverse of a vector?<br>"
   ]
  },
  {
   "cell_type": "code",
   "execution_count": 0,
   "metadata": {
    "collapsed": false
   },
   "outputs": [
   ],
   "source": [
    "(2 + i + 2*j - k)^(-1)"
   ]
  },
  {
   "cell_type": "markdown",
   "metadata": {
    "collapsed": false
   },
   "source": [
    "<br>\r\n",
    "Verify that the product of the element with its inverse is 1.<br>"
   ]
  },
  {
   "cell_type": "markdown",
   "metadata": {
    "collapsed": false
   },
   "source": [
    "<br>\r\n",
    "<em>Sage</em> can help us prove the following proposition.\r\n",
    "\r\n",
    "<p />\r\n",
    "<a name=\"prop91ret\" id=\"prop91ret\"></a>\r\n",
    "PROPOSITION 9.1<br>\r\n",
    "The set of nonzero four-dimensional vectors forms a non-abelian group using the multiplication table for the quaternion group <em>Q</em>.<br><br>\r\n",
    "\r\n",
    "<a href=\"#prop91\">Click here for the proof.</a>\r\n",
    "\r\n",
    "<p />\r\n",
    "We call the group of four-dimensional vectors of the form <em>a</em> + <em>bi</em> + <em>cj</em> + <em>dk</em> the <em>quaternions</em>, denoted \r\n",
    "by &#8461; after their descoverer, William Rowan Hamilton (1805-1865). <br><br>\r\n",
    " \r\n",
    "We have seen many examples of groups that exhibit not one but two operations defined on them. One of these operations is represented with the \r\n",
    "plus sign, and the other is usually denoted with a dot. Our goal will be to come up with a definition that unites these examples.  Let us consider which properties these examples have in common.  However, some of the different groups we looked at possessed additional properties. To help us organize our \r\n",
    "findings, let us construct the following table to tell us which property holds for which groups.\r\n",
    "\r\n",
    "<br><br>\r\n",
    "<table align = \"center\" width=\"1000\" border=\"1\">\r\n",
    "  <caption>\r\n",
    "    Property checklist for several groups\r\n",
    "  </caption>\r\n",
    "  <tr>\r\n",
    "    <th width=\"400\" scope=\"col\">Property</th>\r\n",
    "    <th width=\"100\" scope=\"col\">&#8484;</th>\r\n",
    "    <th width=\"100\" scope=\"col\">Even integers</th>\r\n",
    "    <th width=\"100\" scope=\"col\">&#8474;</th>\r\n",
    "    <th width=\"100\" scope=\"col\">Reals</th>\r\n",
    "    <th width=\"100\" scope=\"col\"><em>Z</em><sub>6</sub></th>\r\n",
    "    <th width=\"100\" scope=\"col\">Quaternions</th>\r\n",
    "  </tr>\r\n",
    "  <tr>\r\n",
    "    <th scope=\"row\">Closed under addition</th>\r\n",
    "    <td align = \"center\">x</td>\r\n",
    "    <td align = \"center\">x</td>\r\n",
    "    <td align = \"center\">x</td>\r\n",
    "    <td align = \"center\">x</td>\r\n",
    "    <td align = \"center\">x</td>\r\n",
    "    <td align = \"center\">x</td>\r\n",
    "  </tr>\r\n",
    "  <tr>\r\n",
    "    <th scope=\"row\">Closed under multiplication</th>\r\n",
    "    <td>&nbsp;</td>\r\n",
    "    <td>&nbsp;</td>\r\n",
    "    <td>&nbsp;</td>\r\n",
    "    <td>&nbsp;</td>\r\n",
    "    <td>&nbsp;</td>\r\n",
    "    <td>&nbsp;</td>\r\n",
    "  </tr>\r\n",
    "  <tr>\r\n",
    "    <th scope=\"row\">(<em>a</em> + <em>b</em>) + <em>c</em> = <br><em>a</em> + (<em>b</em> + <em>c</em>)</th>\r\n",
    "    <td>&nbsp;</td>\r\n",
    "    <td>&nbsp;</td>\r\n",
    "    <td>&nbsp;</td>\r\n",
    "    <td>&nbsp;</td>\r\n",
    "    <td>&nbsp;</td>\r\n",
    "    <td>&nbsp;</td>\r\n",
    "  </tr>\r\n",
    "  <tr>\r\n",
    "    <th scope=\"row\">(<em>a</em>&middot;<em>b</em>)&middot;<em>c</em> = <em>a</em>&middot;(<em>b</em>&middot;<em>c</em>)</th>\r\n",
    "    <td>&nbsp;</td>\r\n",
    "    <td>&nbsp;</td>\r\n",
    "    <td>&nbsp;</td>\r\n",
    "    <td>&nbsp;</td>\r\n",
    "    <td>&nbsp;</td>\r\n",
    "    <td>&nbsp;</td>\r\n",
    "  </tr>\r\n",
    "  <tr>\r\n",
    "    <th scope=\"row\">Additive identity (0)</th>\r\n",
    "    <td>&nbsp;</td>\r\n",
    "    <td>&nbsp;</td>\r\n",
    "    <td>&nbsp;</td>\r\n",
    "    <td>&nbsp;</td>\r\n",
    "    <td>&nbsp;</td>\r\n",
    "    <td>&nbsp;</td>\r\n",
    "  </tr>\r\n",
    "  <tr>\r\n",
    "    <th scope=\"row\">Multiplicative identity (1)</th>\r\n",
    "    <td>&nbsp;</td>\r\n",
    "    <td>&nbsp;</td>\r\n",
    "    <td>&nbsp;</td>\r\n",
    "    <td>&nbsp;</td>\r\n",
    "    <td>&nbsp;</td>\r\n",
    "    <td>&nbsp;</td>\r\n",
    "  </tr>\r\n",
    "  <tr>\r\n",
    "    <th scope=\"row\">Additive inverses exist</th>\r\n",
    "    <td>&nbsp;</td>\r\n",
    "    <td>&nbsp;</td>\r\n",
    "    <td>&nbsp;</td>\r\n",
    "    <td>&nbsp;</td>\r\n",
    "    <td>&nbsp;</td>\r\n",
    "    <td>&nbsp;</td>\r\n",
    "  </tr>\r\n",
    "  <tr>\r\n",
    "    <th scope=\"row\">Multiplicative inverses exist except for 0</th>\r\n",
    "    <td>&nbsp;</td>\r\n",
    "    <td>&nbsp;</td>\r\n",
    "    <td>&nbsp;</td>\r\n",
    "    <td>&nbsp;</td>\r\n",
    "    <td>&nbsp;</td>\r\n",
    "    <td>&nbsp;</td>\r\n",
    "  </tr>\r\n",
    "  <tr>\r\n",
    "    <th scope=\"row\"><em>a</em> + <em>b</em> = <em>b</em> + <em>a</em></th>\r\n",
    "    <td>&nbsp;</td>\r\n",
    "    <td>&nbsp;</td>\r\n",
    "    <td>&nbsp;</td>\r\n",
    "    <td>&nbsp;</td>\r\n",
    "    <td>&nbsp;</td>\r\n",
    "    <td>&nbsp;</td>\r\n",
    "  </tr>\r\n",
    "  <tr>\r\n",
    "    <th scope=\"row\"><em>a</em>&middot;<em>b</em> = <em>b</em>&middot;<em>a</em></th>\r\n",
    "    <td>&nbsp;</td>\r\n",
    "    <td>&nbsp;</td>\r\n",
    "    <td>&nbsp;</td>\r\n",
    "    <td>&nbsp;</td>\r\n",
    "    <td>&nbsp;</td>\r\n",
    "    <td>&nbsp;</td>\r\n",
    "  </tr>\r\n",
    "  <tr>\r\n",
    "    <th scope=\"row\"><em>a</em>&middot;<em>b</em> = 0 only if <em>a</em> or <em>b</em> = 0</th>\r\n",
    "    <td>&nbsp;</td>\r\n",
    "    <td>&nbsp;</td>\r\n",
    "    <td>&nbsp;</td>\r\n",
    "    <td>&nbsp;</td>\r\n",
    "    <td>&nbsp;</td>\r\n",
    "    <td>&nbsp;</td>\r\n",
    "  </tr>\r\n",
    "  <tr>\r\n",
    "    <th scope=\"row\">(<em>a</em> + <em>b</em>)&middot;<em>c</em> = <em>a</em>&middot;<em>c</em> + <em>b</em>&middot;<em>c</em></th>\r\n",
    "    <td>&nbsp;</td>\r\n",
    "    <td>&nbsp;</td>\r\n",
    "    <td>&nbsp;</td>\r\n",
    "    <td>&nbsp;</td>\r\n",
    "    <td>&nbsp;</td>\r\n",
    "    <td>&nbsp;</td>\r\n",
    "  </tr>\r\n",
    "  <tr>\r\n",
    "    <th scope=\"row\"><em>a</em>&middot;(<em>b</em> + <em>c</em>) = <em>a</em>&middot;<em>b</em> + <em>a</em>&middot;<em>c</em></th>\r\n",
    "    <td>&nbsp;</td>\r\n",
    "    <td>&nbsp;</td>\r\n",
    "    <td>&nbsp;</td>\r\n",
    "    <td>&nbsp;</td>\r\n",
    "    <td>&nbsp;</td>\r\n",
    "    <td>&nbsp;</td>\r\n",
    "  </tr>\r\n",
    "</table>\r\n",
    "\r\n",
    "\r\n",
    "<br>\r\n",
    "EXPERIMENT:<br>\r\n",
    "Complete the above table by marking an &quot;x&quot; whenever a group possesses a given property for all elements in the group, and marking \r\n",
    "an &quot;o&quot; otherwise. The first row already been done. You may have to redefine some of the groups to test some of this properties. For which groups do all \r\n",
    "of the properties hold? Which properties hold for all of these groups? <br>"
   ]
  },
  {
   "cell_type": "markdown",
   "metadata": {
    "collapsed": false
   },
   "source": [
    "<br>\r\n",
    "We want to pay special attention to the properties that hold for all of the groups studied so far. In fact, let us define a <em>ring</em> as a group possessing all of \r\n",
    "these properties. In this way, we force all six of the above examples to be rings. <br><br>\r\n",
    " \r\n",
    "EXPERIMENT:<br>\r\n",
    "If the above table was completed correctly, one ought to be able to come up with a definition of a ring. Try to find a definition that uses only one sentence.<br>"
   ]
  },
  {
   "cell_type": "markdown",
   "metadata": {
    "collapsed": false
   },
   "source": [
    "<br>\r\n",
    "DEFINITION 9.1<br>\r\n",
    "\r\n",
    "A <em>ring</em> is an abelian group with the operation (+) on which a second associative operation (&middot;) is defined such that the two distributive laws\r\n",
    "<p style='text-align: center;'>(<em>a</em> + <em>b</em>)&middot;<em>c</em> = (<em>a</em>&middot;<em>c</em>) + (<em>b</em>&middot;<em>c</em>)</p> \r\n",
    "and \r\n",
    "<p style='text-align: center;'><em>a</em>&middot;(<em>b</em> + <em>c</em>) = (<em>a</em>&middot;<em>b</em>) + (<em>a</em>&middot;<em>c</em>)</p>\r\n",
    "hold for all <em>a</em>, <em>b</em>, and <em>c</em> in the ring.<br><br>\r\n",
    "\r\n",
    "For any ring we will use the symbol 0 to denote the additive identity of a ring, and the notation &minus;<em>x</em> for the additive inverse of <em>x</em>.<br><br>\r\n",
    " \r\n",
    "Notice that for a group to be a ring, only 9 of the above 13 properties must hold.   However, the other four properties mentioned in the table will sometimes play \r\n",
    "an important role as we study rings.   Thus, if a ring has one of these additional four properties, we will give the ring a special name.<br><br>\r\n",
    " \r\n",
    "DEFINITION 9.2<br>\r\n",
    "A ring for which <em>x</em>&middot;<em>y</em> = <em>y</em>&middot;<em>x</em> for all elements <em>x</em> and <em>y</em> is called a \r\n",
    "<em>commutative ring</em>.<br><br>\r\n",
    "\r\n",
    "Obviously, commutative rings play a similar role in ring theory that abelian groups play in group theory.<br><br>\r\n",
    "\r\n",
    "DEFINITION 9.3<br>\r\n",
    "A ring for which there is an element <em>e</em> such that\r\n",
    "<p style='text-align: center;'><em>x</em>&middot;<em>e</em> = <em>e</em>&middot;<em>x</em> = <em>x</em></p>\r\n",
    "for all elements <em>x</em> in the ring is called a <em>unity ring</em> or <em>ring with identity</em>.  The element <em>e</em> is called the <em>unity</em> or \r\n",
    "<em>multiplicative identity</em> of the ring, to distinguish it from that additive identity 0.<br><br>\r\n",
    "\r\n",
    "It should be noted before we go on that if a ring has a multiplicative identity, it has only one. If there were two, say <em>e</em> and <em>e</em>&prime;, then\r\n",
    "<p style='text-align: center;'><em>e</em> = <em>e</em> &middot; <em>e</em>&prime; = <em>e</em>&prime;.</p>\r\n",
    "\r\n",
    "<br>\r\n",
    "The next definition will deal with rings for which <em>x</em>&middot;<em>y</em> = 0 implies that either <em>x</em> or <em>y</em> must be 0. However, it is reasonable to \r\n",
    "first prove the following lemma:<br>\r\n",
    "\r\n",
    "<p />\r\n",
    "<a name=\"lem91ret\" id=\"lem91ret\"></a>\r\n",
    "LEMMA 9.1<br>\r\n",
    "If <em>x</em> is any element in a ring, then 0&middot;<em>x</em> = <em>x</em>&middot;0 = 0, where 0 is the additive identity.<br><br>\r\n",
    "\r\n",
    "<a href=\"#lem91\">Click here for the proof.</a>\r\n",
    "\r\n",
    "<p />\r\n",
    "This proof shows that we can get the equivalent of subtraction by adding the additive inverse.  But although we can add, subtract, and multiply elements in a ring, we \r\n",
    "cannot, in general, divide elements.  In fact, we can find some rings for which the product of two nonzero elements produces 0, such as 3&middot;2=0 in the ring \r\n",
    "<em>Z</em><sub>6</sub>.<br><br>\r\n",
    "\r\n",
    "DEFINITION 9.4<br>\r\n",
    "If <em>x</em> is a nonzero element of a ring such that either <em>x</em>&middot;<em>y</em> = 0 or <em>y</em>&middot;<em>x</em> = 0 for a nonzero element <em>y</em>, \r\n",
    "then <em>x</em> is called a <em>zero divisor</em> of the ring. If a ring has no zero divisors, it is called a <em>ring without zero divisors</em>.<br>\r\n",
    "\r\n",
    "<br>\r\n",
    "We see from this definition that 2 and 3 are zero divisors of the ring <em>Z</em><sub>6</sub>, since 3&middot;2 = 0 in this ring.  \r\n",
    "A related definition stems from the product of two elements equaling the multiplicative identity.<br><br>\r\n",
    "\r\n",
    "DEFINITION 9.5<br>\r\n",
    "If, for the element <em>x</em> in a ring with identity, there is an element <em>y</em> such that\r\n",
    "<p style='text-align: center;'><em>x</em>&middot;<em>y</em> = <em>y</em>&middot;<em>x</em> = <em>e</em>,</p>\r\n",
    "we say that <em>x</em> has a multiplicative inverse, or is <em>invertible</em>.<br><br>\r\n",
    "\r\n",
    "Just because an element is not a zero divisor does not mean that it is invertiable.  For example, 2 is not a zero divisor of the ring &#8484;, yet 2 is not invertible in \r\n",
    "this ring.<br><br>\r\n",
    " \r\n",
    "There is one special ring to introduce, the smallest possible ring. It is called the <em>trivial</em> ring, and is defined by the command:<br>"
   ]
  },
  {
   "cell_type": "code",
   "execution_count": 0,
   "metadata": {
    "collapsed": false
   },
   "outputs": [
   ],
   "source": [
    "G = ZRing(1); G"
   ]
  },
  {
   "cell_type": "markdown",
   "metadata": {
    "collapsed": false
   },
   "source": [
    "<br>\r\n",
    "The only element of this ring is the zero element, so here are its addition and multiplication tables:<br>"
   ]
  },
  {
   "cell_type": "code",
   "execution_count": 0,
   "metadata": {
    "collapsed": false
   },
   "outputs": [
   ],
   "source": [
    "AddTable(G)"
   ]
  },
  {
   "cell_type": "code",
   "execution_count": 0,
   "metadata": {
    "collapsed": false
   },
   "outputs": [
   ],
   "source": [
    "MultTable(G)"
   ]
  },
  {
   "cell_type": "markdown",
   "metadata": {
    "collapsed": false
   },
   "source": [
    "<br>\r\n",
    "Although this may seem like a boring example, this ring is rather interesting because the multiplicative identity \r\n",
    "is 0!  (Zero times any element is that element, since that element would be 0.) In fact, 0 has itself for its multiplicative inverse. These two facts are true for no other \r\n",
    "ring, since there would be a nonzero element <em>x</em>, and hence\r\n",
    "<p style='text-align: center;'>0&middot;<em>x</em> = 0, not <em><em>x</em></em>.</p>\r\n",
    "Likewise, for a non-trival ring, 0 cannot have a multiplicative inverse, for otherwise\r\n",
    "<p style='text-align: center;'>0&middot;(0<sup>-1</sup>) = 0,</p> \r\n",
    "which we just proved was not the multiplicative identity.<br><br>\r\n",
    "\r\n",
    "Even though 0 is never invertible except for the trivial ring, we have seen several cases where all other elements have inverses.<br><br>\r\n",
    "\r\n",
    "DEFINITION 9.6<br>\r\n",
    "A ring for which every nonzero element has a multiplicative inverse is called a <em>division ring</em>.<br><br>\r\n",
    "\r\n",
    "Note that division rings automatically have some of the other properties we have discussed.<br>\r\n",
    "\r\n",
    "<p />\r\n",
    "<a name=\"prop92ret\" id=\"prop92ret\"></a>\r\n",
    "PROPOSITION 9.2<br>\r\n",
    "A division ring always has a unity and has no zero divisors.<br><br>\r\n",
    "\r\n",
    "<a href=\"#prop92\">Click here for the proof.</a>\r\n",
    "\r\n",
    "<p />\r\n",
    "We see from this proposition that a division ring must have all but one of the 13 properties we listed, the remaining property being the commutivity of multiplication. \r\n",
    "We will give a division ring different names depending on whether or not this last property holds.<br><br>\r\n",
    " \r\n",
    "DEFINITION 9.7<br>\r\n",
    "A nontrivial division ring for which <em>x</em>&middot;<em>y</em> = <em>y</em>&middot;<em>x</em> for all <em>x</em> and <em>y</em> is called a <em>field</em>.  A division \r\n",
    "ring for which multiplication is not commutative is called a <em>skew field</em>.<br><br>\r\n",
    " \r\n",
    "We can now classify each possible type of ring. For example, the ring &#8484; is a commutative unity ring  without zero divisors. The ring of even \r\n",
    "integers, however, has no identity element, so we would call this a commutative ring without zero divisors. Both &#8474; and the reals satisfied all 13 properties, \r\n",
    "so these two rings are fields. The ring <em>Z</em><sub>6</sub> has zero divisors, so we would call this a commutative unity ring.  The quaternions have all \r\n",
    "the properties of a field except that multiplication is not commutative, so this would be an example of a skew field.<br>\r\n",
    "\r\n",
    "<br>\r\n",
    "EXPERIMENT:<br>\r\n",
    "How many different classifications of rings are possible? Note that the trivial ring is technically not a field, so this ring would be in a catagory all by itself.  By \r\n",
    "the end of this chapter we will see examples of each different type of ring.<br>"
   ]
  },
  {
   "cell_type": "markdown",
   "metadata": {
    "collapsed": false
   },
   "source": [
    "<br><br>\r\n",
    "<a name=\"sec92\" id=\"sec92\"></a>\r\n",
    "<h1>Entering Finite Rings into <em>Sage</em></h1>\r\n",
    "\r\n",
    "<br>\r\n",
    "Now that we have started working with rings, it is time to learn how to program <em>Sage</em> to work with any finite ring. <br><br>In the first eight chapters, \r\n",
    "we entered finite groups into <em>Sage</em> by using the generators of the group. We will use a very similar process for finite rings. If we consider a finite ring simply \r\n",
    "as an abelian group under addition, we can find a set of generators <em>B</em> for this group. That is, we temporally ignore the multiplication structure, and proceed as \r\n",
    "we did for groups. For each element in <em>B</em> we determine the additive order of the element. That is, for each generator <em>x</em> we want to find the smallest \r\n",
    "number <em>n</em> such that\r\n",
    "$$\\underbrace{x+x+\\dots+x+x}_{n\\rm\\;times} = 0.$$</p>\r\n",
    "\r\n",
    "<br>\r\n",
    "We introduce a simple notation for the above equation.<br><br>\r\n",
    "\r\n",
    "DEFINITION 9.8<br>\r\n",
    "If <em>n</em> is a positive integer, and <em>x</em> is any element in a ring, we define <em>n x</em> inductively by letting 1 <em>x</em> = <em>x</em>, and\r\n",
    "<p style='text-align: center;'><em>n x</em> = (<em>n</em> &minus; 1) <em>x</em> + <em>x</em>.</p>\r\n",
    "We also define (&minus;<em>n</em>) <em>x</em>  to be &minus;(<em>n x</em>) for <em>n</em> a positive integer. Finally, we define 0 <em>x</em> = 0. <br>\r\n",
    "\r\n",
    "<br>\r\n",
    "Because this &quot;multiplication by an integer&quot; is merely a shorthand for repeated addition, we immediately see that<br><br>\r\n",
    "<p style='text-align: center;'>(<em>m</em> + <em>n</em>) <em>x</em> = <em>m x</em> + <em>n x</em>&emsp;and&emsp;(<em>m n</em>) <em>x</em> = <em>m</em> (<em>n x</em>)</p>\r\n",
    "for any element <em>x</em> and any integers <em>n</em> and <em>m</em>.<br><br>\r\n",
    "\r\n",
    "However, there are other properties which are true for this notation.\r\n",
    "\r\n",
    "<p />\r\n",
    "<a name=\"lem92ret\" id=\"lem92ret\"></a>\r\n",
    "LEMMA 9.2<br>Let <em>x</em> and <em>y</em> be any two elements in a ring, and let <em>n</em> be an integer. Then\r\n",
    "<p style='text-align: center;'>(<em>n x</em>)&middot;<em>y</em> = <em>n</em> (<em>x</em>&middot;<em>y</em>) = <em>x</em>&middot;(<em>n y</em>).</p>\r\n",
    "\r\n",
    "<a href=\"#lem92\">Click here for the proof.</a>\r\n",
    "\r\n",
    "<p />\r\n",
    "We can now use this notation within <em>Sage</em> to generate a finite ring. For example, suppose that we wish to define a ring whose additive group is isomorphic to \r\n",
    "<p style='text-align: center;'><em>Z</em><sub>15</sub><sup>*</sup> = {1, 2, 4, 7, 8, 11, 13, 14}.</p>\r\n",
    "Two elements which generate this group are <em>a</em> = 2 and <em>b</em> = 14. Since \r\n",
    "<p style='text-align: center;'>2<sup>4</sup> &#8801; 1 (mod 15)  and  14<sup>2</sup> &#8801; 1 (mod 15),</p>\r\n",
    "<em>a</em> is of order 4 and <em>b</em> is of order 2. But in the new notation, we would write\r\n",
    "<p style='text-align: center;'> 4 <em>a</em> = 0  and  2 <em>b</em> = 0.</p>\r\n",
    "since 0 is the additive identity for the ring.<br><br>\r\n",
    "\r\n",
    "To define this group in <em>Sage</em>, we begin by declaring that <em>a</em> and <em>b</em> will be the variables.  We do this as we initialize the ring, putting \r\n",
    "the variables in quotations, just as we did with <strong>AddGroupVar</strong> for groups.<br>"
   ]
  },
  {
   "cell_type": "code",
   "execution_count": 0,
   "metadata": {
    "collapsed": false
   },
   "outputs": [
   ],
   "source": [
    "InitRing(\"a\",\"b\")"
   ]
  },
  {
   "cell_type": "markdown",
   "metadata": {
    "collapsed": false
   },
   "source": [
    "<br>\r\n",
    "Next, we need to tell <em>Sage</em> what the additive order of this elements would be, expressed as a list.  Since <em>a</em> is of order 4, and <em>b</em> is of \r\n",
    "order 2, this could be writen as the list <strong>[4, 2]</strong>.  The following command gives us the additive group that we want.<br>"
   ]
  },
  {
   "cell_type": "code",
   "execution_count": 0,
   "metadata": {
    "collapsed": false
   },
   "outputs": [
   ],
   "source": [
    "DefineRing([4,2], [[0,0],[0,0]])"
   ]
  },
  {
   "cell_type": "markdown",
   "metadata": {
    "collapsed": false
   },
   "source": [
    "<br>\r\n",
    "We will explain the meaning of the second parameter <strong>[[0,0],[0,0]]</strong> later.  For now, \r\n",
    "this is sufficient to define the group structure of the ring to <em>Sage</em>.  The eight elements of the group are denoted as follows:<br>"
   ]
  },
  {
   "cell_type": "code",
   "execution_count": 0,
   "metadata": {
    "collapsed": false
   },
   "outputs": [
   ],
   "source": [
    "R = ListRing(); R"
   ]
  },
  {
   "cell_type": "markdown",
   "metadata": {
    "collapsed": false
   },
   "source": [
    "<br>\r\n",
    "We notice several things from this list.  First of all, the zero element is listed as <strong>0*a</strong>, not just 0.  <em>Sage</em> interprets 0 to mean only the \r\n",
    "integer 0, so the zero element of a ring needs a different notation.  Of course 0&middot;<em>a</em> would give us the zero element for any generator <em>a</em>, so \r\n",
    "<em>Sage</em> picks the first generator mentioned. \r\n",
    "\r\n",
    "Also, we see that <strong>3*a</strong> is simplified to <strong>-a</strong>.  <em>Sage</em> tries to find the simplest way to express the elements of the ring.  We combine \r\n",
    "two elements of this group with a plus sign rather than the dot that we used for groups. For example, here is the sum of two elements:<br>"
   ]
  },
  {
   "cell_type": "code",
   "execution_count": 0,
   "metadata": {
    "collapsed": false
   },
   "outputs": [
   ],
   "source": [
    "(-a+b) + (2*a)"
   ]
  },
  {
   "cell_type": "markdown",
   "metadata": {
    "collapsed": false
   },
   "source": [
    "<br>\r\n",
    "We can then produce an <em>addition</em> table for this group as follows:<br>"
   ]
  },
  {
   "cell_type": "code",
   "execution_count": 0,
   "metadata": {
    "collapsed": false
   },
   "outputs": [
   ],
   "source": [
    "AddTable(R)"
   ]
  },
  {
   "cell_type": "markdown",
   "metadata": {
    "collapsed": false
   },
   "source": [
    "<br>\r\n",
    "Notice that there are several differences between defining a group and defining the group structure of a ring.  The obvious difference is that we use the plus sign \r\n",
    "instead of the dot for our operation.  Also, when we defined a group, we began by telling <em>Sage</em> the identity element.  But for a ring, the additive identity is \r\n",
    "always denoted <strong>0*a</strong>, and the multiplicative identity may not exist.  So the first statement tells <em>Sage</em> the generators for the ring.  Finally, all of \r\n",
    "the <strong>Define</strong> commands are combined into a single <strong>DefineRing</strong> command, which gives all of the necessary information about the ring.<br>\r\n",
    "<br>\r\n",
    "\r\n",
    "There is one drawback to this approach&#8213;we must choose our generators carefully!  Suppose we had chosen the generators <em>a</em> = 2 and <em>b</em> = 7.  These \r\n",
    "two elements generate the group <em>Z</em><sub>15</sub><sup>*</sup>, but both are of order 4.  So the <em>Sage</em> commands for entering these two generators would be<br>"
   ]
  },
  {
   "cell_type": "code",
   "execution_count": 0,
   "metadata": {
    "collapsed": false
   },
   "outputs": [
   ],
   "source": [
    "InitRing(\"a\",\"b\");\r\n",
    "DefineRing([4,4],[[0,0],[0,0]]);\r\n",
    "R = ListRing(); R"
   ]
  },
  {
   "cell_type": "markdown",
   "metadata": {
    "collapsed": false
   },
   "source": [
    "<br>\r\n",
    "This gives 16 elements instead of 8.  The problem is that <em>Sage</em> is not using the identity 2 <em>a</em> = 2 <em>b</em>, which is true since \r\n",
    "2<sup>2</sup> &#8801; 7<sup>2</sup> (mod 15).  Trying to add an additional <em>Sage</em> command defining 2 <em>a</em> = 2 <em>b</em> would produce some potiential \r\n",
    "problems later on.  A better solution is simply to make the following restriction on the set of generators.<br>\r\n",
    "\r\n",
    "<br>\r\n",
    "DEFINITION 9.9<br>\r\n",
    "Let <em>G</em> be an abelian group. A <em>basis</em> is a set \r\n",
    "<em>B</em> = {<em>x</em><sub>1</sub>, <em>x</em><sub>2</sub>, <em>x</em><sub>3</sub>, &hellip;<em>x<sub>k</sub></em>} which generates the group such that the only \r\n",
    "way in which\r\n",
    "<p style='text-align: center;'><em>n</em><sub>1</sub> <em>x</em><sub>1</sub> + <em>n</em><sub>2</sub> <em>x</em><sub>2</sub> + <em>n</em><sub>3</sub> <em>x</em><sub>3</sub>\r\n",
    "+ &middot;&middot;&middot; + <em>n<sub>k</sub></em> <em>x<sub>k</sub></em> = 0</p>\r\n",
    "for integers <em>n</em><sub>1</sub>, <em>n</em><sub>2</sub>, <em>n</em><sub>3</sub>, &hellip; <em>n<sub>k</sub></em>\r\n",
    "is if \r\n",
    "<p style='text-align: center;'><em>n</em><sub>1</sub> <em>x</em><sub>1</sub> = <em>n</em><sub>2</sub> <em>x</em><sub>2</sub> = <em>n</em><sub>3</sub> <em>x</em><sub>3</sub>\r\n",
    "= &middot;&middot;&middot; = <em>n<sub>k</sub></em> <em>x<sub>k</sub></em> = 0.</p>\r\n",
    "<br>\r\n",
    "\r\n",
    "<br>\r\n",
    "For a finite group, it is clear that if we have a basis, then every combination of the form\r\n",
    "<p style='text-align: center;'><em>n</em><sub>1</sub> <em>x</em><sub>1</sub> + <em>n</em><sub>2</sub> <em>x</em><sub>2</sub> + \r\n",
    "<em>n</em><sub>3</sub> <em>x</em><sub>3</sub> + &middot;&middot;&middot; + <em>n<sub>k</sub></em> <em>x<sub>k</sub></em></p>\r\n",
    "where each <em>n<sub>i</sub></em> is non-negative and less then the order of <em>x<sub>i</sub></em>, forms a distinct element.  Also, every element of <em>G</em> could be \r\n",
    "put in that form.  Thus, the product of the orders of all the elements of <em>B</em> equals the order of the group.<br><br>\r\n",
    "\r\n",
    "It should be noted that <em>any</em> finite abelian group has a basis, as guaranteed by the fundemental theorem of finite abelian groups (6.2).  See Problem 17.  For example, we found \r\n",
    "two elements of orders 4 and 2 which generate <em>Z</em><sub>15</sub><sup>*</sup> , and since 4&middot;2 = 8, the order of the group, so these two generators form a \r\n",
    "basis.<br><br>\r\n",
    "\r\n",
    "If we begin with a basis, it is clear that entering the order of the generators as a list like <strong>[4,2]</strong> is sufficient to define the additive group. \r\n",
    "All we need to consider now is the multiplicative definitions.<br><br>\r\n",
    "\r\n",
    "Since we have two generators <em>a</em> and <em>b</em> we will need to define 2<sup>2</sup> = 4 multiplications:\r\n",
    "<em>a</em>&middot;<em>a</em>,  <em>a</em>&middot;<em>b</em>,  <em>b</em>&middot;<em>a</em>,  and  <em>b</em>&middot;<em>b</em>.<br><br>\r\n",
    "\r\n",
    "\r\n",
    "These four products could be defined to be any of the 8 elements of the ring.  This means that there are up to 8<sup>4</sup> = 4096 ways to finish defining \r\n",
    "this ring!  However, \r\n",
    "very few of these ways of defining the products will satisfy both the distributive laws and the associative laws.  For example, <em>b&middot;b</em> \r\n",
    "cannot be defined to be <em>a</em>, otherwise we have the contradiction\r\n",
    "<p style='text-align: center;'>2 <em>a</em> = <em>a</em> + <em>a</em> = <em>b</em>&middot;<em>b</em> + <em>b</em>&middot;<em>b</em> = (<em>b</em> + \r\n",
    "<em>b</em>)&middot;<em>b</em> = (<em>2</em> <em>b</em>)&middot;<em>b</em> = 0&middot;<em>b</em> = 0.</p>\r\n",
    "\r\n",
    "An example of a ring definition that does not produce such a contradiction comes from defining <em>a</em><sup>2</sup> = <em>a</em>, <em>b</em><sup>2</sup> = <em>b</em>, and \r\n",
    "<em>a</em>&middot;<em>b</em> = <em>b</em>&middot;<em>a</em> = 0.  All other products in the ring can be determined from these using the distributive law.  For example,\r\n",
    "<p style='text-align: center;'>(2 <em>a</em> + <em>b</em>)&middot;(<em>a</em> + <em>b</em>) = 2 <em>a</em><sup>2</sup> + <em>b</em>&middot;<em>a</em> + \r\n",
    "2 <em>a</em>&middot;<em>b</em> + <em>b</em><sup>2</sup> = 2 <em>a</em> + 0 + 0 + <em>b</em> = 2 <em>a</em> + <em>b</em>.</p>\r\n",
    "\r\n",
    "<br>\r\n",
    "The second argument of the <strong>DefineRing</strong> command allows us to tell <em>Sage</em> all of the possible products of two generators.  These are entered as a \r\n",
    "array, using the same ordering as the original basis elements were ordered.  For example, if <em>a</em> and <em>b</em> are the two generators, then the array would consist \r\n",
    "of \r\n",
    "<p style='text-align: center;'>[[<em>a</em>&middot;<em>a</em>, <em>a</em>&middot;<em>b</em>], [<em>b</em>&middot;<em>a</em>, <em>b</em>&middot;<em>b</em>]].</p>\r\n",
    "To define the ring described in the above paragraph, we can use<br>"
   ]
  },
  {
   "cell_type": "code",
   "execution_count": 0,
   "metadata": {
    "collapsed": false
   },
   "outputs": [
   ],
   "source": [
    "InitRing(\"a\",\"b\");\r\n",
    "DefineRing([4, 2],[[a, 0],[0, b]]);\r\n",
    "R = ListRing(); R"
   ]
  },
  {
   "cell_type": "markdown",
   "metadata": {
    "collapsed": false
   },
   "source": [
    "<br>\r\n",
    "Here is a table of both the addition and multiplication operation:<br>"
   ]
  },
  {
   "cell_type": "code",
   "execution_count": 0,
   "metadata": {
    "collapsed": false
   },
   "outputs": [
   ],
   "source": [
    "AddTable(R)"
   ]
  },
  {
   "cell_type": "code",
   "execution_count": 0,
   "metadata": {
    "collapsed": false
   },
   "outputs": [
   ],
   "source": [
    "MultTable(R)"
   ]
  },
  {
   "cell_type": "markdown",
   "metadata": {
    "collapsed": false
   },
   "source": [
    "<br>\r\n",
    "Of course we still have not <em>proven</em> that this is a ring, since we have not verified the distributive laws and the associativity law for multiplication.  This \r\n",
    "tedious task can be handled my <em>Sage</em> by the command<br>\r\n",
    "</p>"
   ]
  },
  {
   "cell_type": "code",
   "execution_count": 0,
   "metadata": {
    "collapsed": false
   },
   "outputs": [
   ],
   "source": [
    "CheckRing()"
   ]
  },
  {
   "cell_type": "markdown",
   "metadata": {
    "collapsed": false
   },
   "source": [
    "<br>\r\n",
    "Here <em>Sage</em> knows to check the ring that we have just defined, so we don't need an argument for the <strong>CheckRing</strong> command.  <em>Sage</em> found that \r\n",
    "this was indeed a ring.  \r\n",
    " \r\n",
    "Since <em>R</em> is obviously commutative from the multiplication table, the next question is whether <em>R</em> has a unity.  <em>Sage</em> can search the \r\n",
    "ring for a unity element with the command<br>"
   ]
  },
  {
   "cell_type": "code",
   "execution_count": 0,
   "metadata": {
    "collapsed": false
   },
   "outputs": [
   ],
   "source": [
    "FindUnity(R)"
   ]
  },
  {
   "cell_type": "markdown",
   "metadata": {
    "collapsed": false
   },
   "source": [
    "<br>\r\n",
    "Even though we did not use the unity to construct the ring, <em>Sage</em> found one!<br><br>\r\n",
    "By looking at the multiplication table<br>"
   ]
  },
  {
   "cell_type": "code",
   "execution_count": 0,
   "metadata": {
    "collapsed": false
   },
   "outputs": [
   ],
   "source": [
    "MultTable(R)"
   ]
  },
  {
   "cell_type": "markdown",
   "metadata": {
    "collapsed": false
   },
   "source": [
    "<br>\r\n",
    "we see that there are many zero-divisors. (How many?) Hence, this is not a division ring. Nonetheless, <em>Sage</em> can try to \r\n",
    "take the inverses of some of the elements.<br>"
   ]
  },
  {
   "cell_type": "code",
   "execution_count": 0,
   "metadata": {
    "collapsed": false
   },
   "outputs": [
   ],
   "source": [
    "(-a+b)^-1"
   ]
  },
  {
   "cell_type": "code",
   "execution_count": 0,
   "metadata": {
    "collapsed": false
   },
   "outputs": [
   ],
   "source": [
    "(2*a+b)^-1"
   ]
  },
  {
   "cell_type": "markdown",
   "metadata": {
    "collapsed": false
   },
   "source": [
    "<br>\r\n",
    "In many respects, this ring has similar properties as the ring <em>Z</em><sub>6</sub> \r\n",
    "that was studied in the last section.<br>\r\n",
    "<br>\r\n",
    "\r\n",
    "Can we try defining a non-commutative ring? It is apparent that we need at least two additive generators, since the multiplication is completely determined by the \r\n",
    "products of the generators.<br><br>\r\n",
    "\r\n",
    "EXAMPLE:<br>\r\n",
    "Try to define a non-commutative ring using <em>Z</em><sub>15</sub><sup>*</sup> as the additive group.<br><br>\r\n",
    "\r\n",
    "\r\n",
    "If we make <em>a</em>&middot;<em>b</em> = <em>b</em>, and <em>b</em>&middot;<em>a</em> = 2<em>a</em>, then the ring will not be commutative.<br>"
   ]
  },
  {
   "cell_type": "code",
   "execution_count": 0,
   "metadata": {
    "collapsed": false
   },
   "outputs": [
   ],
   "source": [
    "InitRing(\"a\",\"b\");\r\n",
    "DefineRing([4, 2],[[0,b],[2*a,0]]);\r\n",
    "CheckRing()"
   ]
  },
  {
   "cell_type": "markdown",
   "metadata": {
    "collapsed": false
   },
   "source": [
    "<br>\r\n",
    "Does this form a ring? No, <em>Sage</em> complained that sometimes the associative law doesn't hold.  Can we change the definition of <em>a</em><sup>2</sup> and \r\n",
    "<em>b</em><sup>2</sup> to make this a ring?<br><br>\r\n",
    " \r\n",
    "EXPERIMENT:<br>\r\n",
    "By changing only the <strong>???</strong> in the <em>Sage</em> command<br>"
   ]
  },
  {
   "cell_type": "code",
   "execution_count": 0,
   "metadata": {
    "collapsed": false
   },
   "outputs": [
   ],
   "source": [
    "InitRing(\"a\",\"b\");\r\n",
    "DefineRing([4,2],[[???, b],[2*a, ???]]);\r\n",
    "CheckRing()"
   ]
  },
  {
   "cell_type": "markdown",
   "metadata": {
    "collapsed": false
   },
   "source": [
    "<br> \r\n",
    "see if you can form a ring. <br><br>\r\n",
    " \r\n",
    "Hint: Although this seems like a trial and error process with 8&middot;8 = 64 combinations, all but a handful can be eliminated using algebra!  (There are actually \r\n",
    "two different solutions.)  For example, since (<em>a</em>&middot;<em>b</em>)&middot;<em>a</em> = <em>a</em>&middot;(<em>b</em>&middot;<em>a</em>), we see \r\n",
    "that 2 <em>a</em> = 2 <em>a</em><sup>2</sup>.<br>"
   ]
  },
  {
   "cell_type": "markdown",
   "metadata": {
    "collapsed": false
   },
   "source": [
    "<br>\r\n",
    "Assuming that you have found the right definition for <em>a</em><sup>2</sup> and <em>b</em><sup>2</sup>, you can list the elements of the ring with the command<br>"
   ]
  },
  {
   "cell_type": "code",
   "execution_count": 0,
   "metadata": {
    "collapsed": false
   },
   "outputs": [
   ],
   "source": [
    "R = ListRing(); R"
   ]
  },
  {
   "cell_type": "markdown",
   "metadata": {
    "collapsed": false
   },
   "source": [
    "<br>\r\n",
    "Does this ring have a unity? We can find out:<br>"
   ]
  },
  {
   "cell_type": "code",
   "execution_count": 0,
   "metadata": {
    "collapsed": false
   },
   "outputs": [
   ],
   "source": [
    "FindUnity(R)"
   ]
  },
  {
   "cell_type": "markdown",
   "metadata": {
    "collapsed": false
   },
   "source": [
    "<br>\r\n",
    "So there is no unity element.  In fact, if we look at the multiplication table:<br>"
   ]
  },
  {
   "cell_type": "code",
   "execution_count": 0,
   "metadata": {
    "collapsed": false
   },
   "outputs": [
   ],
   "source": [
    "MultTable(R)"
   ]
  },
  {
   "cell_type": "markdown",
   "metadata": {
    "collapsed": false
   },
   "source": [
    "<br>\r\n",
    "we find that there is one element which, when multiplied by any element, gives 0! Hence every element is a zero-divisor.  This example shows that rings can have \r\n",
    "rather bizarre multiplication properties.<br><br>\r\n",
    " \r\n",
    "Since we have seen an example of a non-communitive ring without a unity, can we find a non-communitive unity ring?  The \r\n",
    "following proposition shows that we will not be able to use <em>Z</em><sub>15</sub><sup>*</sup> for the additive group.\r\n",
    "\r\n",
    "<p />\r\n",
    "<a name=\"prop93ret\" id=\"prop93ret\"></a>\r\n",
    "PROPOSITION 9.3<br>\r\n",
    "If a ring with identity has an additive structure that can be generated with less than three elements, then the ring is commutative.<br><br>\r\n",
    "\r\n",
    "<a href=\"#prop93\">Click here for the proof.</a>\r\n",
    "\r\n",
    "<p />\r\n",
    "The smallest group which requires more than two generators is the group <em>Z</em><sub>24</sub><sup>*</sup>.  So naturally we should begin with this group in looking \r\n",
    "for a non-communative unity ring.  We may suppose that the ring is additively generated by the unity <em>e</em>, along with two other \r\n",
    "elements <em>a</em> and <em>b</em>.   Since <em>e</em> is the unity, we know that <em>e</em><sup>2</sup> = <em>e</em>, \r\n",
    "<em>e</em>&middot;<em>a</em> = <em>a</em>&middot;<em>e</em> = <em>a</em>, and <em>e</em>&middot;<em>b</em> = <em>b</em>&middot;<em>e</em> = <em>b</em>.  We can enter \r\n",
    "this information into <em>Sage</em> with the following commands:<br>"
   ]
  },
  {
   "cell_type": "code",
   "execution_count": 0,
   "metadata": {
    "collapsed": false
   },
   "outputs": [
   ],
   "source": [
    "InitRing(\"e\",\"a\",\"b\");\r\n",
    "DefineRing([2,2,2],[[e,a,b],[a,0,0],[b,0,0]]);"
   ]
  },
  {
   "cell_type": "markdown",
   "metadata": {
    "collapsed": false
   },
   "source": [
    "<br>\r\n",
    "Finally, we have to define <em>a</em>&middot;<em>a</em>, <em>a</em>&middot;<em>b</em>, <em>b</em>&middot;<em>a</em>, and <em>b</em>&middot;<em>b</em>.  These entries were\r\n",
    "entered as 0 in the previous command.  Suppose we instead have <em>a</em>&middot;<em>b</em> = <em>a</em> and <em>b</em>&middot;<em>a</em> = <em>b</em>.  \r\n",
    "This would make the ring non-commutative.  Let's try it out:<br>"
   ]
  },
  {
   "cell_type": "code",
   "execution_count": 0,
   "metadata": {
    "collapsed": false
   },
   "outputs": [
   ],
   "source": [
    "InitRing(\"e\",\"a\",\"b\");\r\n",
    "DefineRing([2,2,2],[[e,a,b],[a,0,a],[b,b,0]]);\r\n",
    "CheckRing()"
   ]
  },
  {
   "cell_type": "markdown",
   "metadata": {
    "collapsed": false
   },
   "source": [
    "<br>\r\n",
    "<em>Sage</em> complains that this is not a ring.  Can we try changing the definitions for <em>a</em><sup>2</sup> and <em>b</em><sup>2</sup> \r\n",
    "so that the result will be a ring?<br><br>\r\n",
    " \r\n",
    "EXPERIMENT: <br>\r\n",
    "Can you form a ring by changing the two <strong>???</strong>'s in the following command? <br>"
   ]
  },
  {
   "cell_type": "code",
   "execution_count": 0,
   "metadata": {
    "collapsed": false
   },
   "outputs": [
   ],
   "source": [
    "InitRing(\"e\",\"a\",\"b\");\r\n",
    "DefineRing([2,2,2],[[e,a,b],[a,???,a],[b,b,???]]);\r\n",
    "CheckRing()"
   ]
  },
  {
   "cell_type": "markdown",
   "metadata": {
    "collapsed": false
   },
   "source": [
    "<br>\r\n",
    "There is a unique answer, and it can be found without resorting to trial and error methods.<br>"
   ]
  },
  {
   "cell_type": "markdown",
   "metadata": {
    "collapsed": false
   },
   "source": [
    "<br>\r\n",
    "Once we have completed the definition of the ring, we can look at the addition and multiplication tables.<br>"
   ]
  },
  {
   "cell_type": "code",
   "execution_count": 0,
   "metadata": {
    "collapsed": false
   },
   "outputs": [
   ],
   "source": [
    "T8 = ListRing()\r\n",
    "AddTable(T8)"
   ]
  },
  {
   "cell_type": "code",
   "execution_count": 0,
   "metadata": {
    "collapsed": false
   },
   "outputs": [
   ],
   "source": [
    "MultTable(T8)"
   ]
  },
  {
   "cell_type": "markdown",
   "metadata": {
    "collapsed": false
   },
   "source": [
    "<br>\r\n",
    "We can verify by looking at the tables that this ring indeed has a unity, or we can use <em>Sage</em> to find it.<br>"
   ]
  },
  {
   "cell_type": "code",
   "execution_count": 0,
   "metadata": {
    "collapsed": false
   },
   "outputs": [
   ],
   "source": [
    "FindUnity(T8)"
   ]
  },
  {
   "cell_type": "markdown",
   "metadata": {
    "collapsed": false
   },
   "source": [
    "<br>\r\n",
    "Because we will refer to this ring often, we will call this ring <em>T</em><sub>8</sub>.<br><br>\r\n",
    "\r\n",
    "\r\n",
    "It is easy to see that any finite ring can be quickly entered into <em>Sage</em>.  In fact many infinite rings such as the quaternions, \r\n",
    "can also be explored with <em>Sage</em>.  This will allow us to experiment with many different rings, and find properties which are common to all rings.  In the next\r\n",
    "section we will look at some of the basic relationships between rings.<br><br>\r\n",
    "\r\n",
    "<a name=\"sec93\" id=\"sec93\"></a>\r\n",
    "<h1>Some Properties of Rings</h1>\r\n",
    "\r\n",
    "<br>\r\n",
    "Now that we can enter finite rings into <em>Sage</em>, let us turn our attention to using <em>Sage</em> to help us discover some truths about rings. In particular, we want \r\n",
    "to study in what circumstances multiplicative inverses exist. <br><br>\r\n",
    " \r\n",
    "One of the simpliest rings to study are the rings <em>Z<sub>n</sub></em> for <em>n</em> &gt; 1.<br><br>\r\n",
    "We have learned how to define the addition structure with a <strong>ZGroup</strong> command, and the multiplication can be defined using a <strong>ZStar </strong>\r\n",
    "command.  We actually can define both of these at once with the command <br>"
   ]
  },
  {
   "cell_type": "code",
   "execution_count": 0,
   "metadata": {
    "collapsed": false
   },
   "outputs": [
   ],
   "source": [
    "Z15 = ZRing(15)"
   ]
  },
  {
   "cell_type": "markdown",
   "metadata": {
    "collapsed": false
   },
   "source": [
    "<br>\r\n",
    "This defines both the addition and multiplication operations at the same time.  The ring is generated by the identity element, 1.  Thus, the elements of the ring \r\n",
    "<em>Z</em><sub>15</sub> are:<br>"
   ]
  },
  {
   "cell_type": "code",
   "execution_count": 0,
   "metadata": {
    "collapsed": false
   },
   "outputs": [
   ],
   "source": [
    "Z15"
   ]
  },
  {
   "cell_type": "markdown",
   "metadata": {
    "collapsed": false
   },
   "source": [
    "<br>\r\n",
    "We can see both the addition and multiplication table for <em>Z</em><sub>15</sub>:<br>"
   ]
  },
  {
   "cell_type": "code",
   "execution_count": 0,
   "metadata": {
    "collapsed": false
   },
   "outputs": [
   ],
   "source": [
    "AddTable(Z15)"
   ]
  },
  {
   "cell_type": "code",
   "execution_count": 0,
   "metadata": {
    "collapsed": false
   },
   "outputs": [
   ],
   "source": [
    "MultTable(Z15)"
   ]
  },
  {
   "cell_type": "markdown",
   "metadata": {
    "collapsed": false
   },
   "source": [
    "<br>\r\n",
    "We can perform simple operations in <em>Z</em><sub>15</sub><br>"
   ]
  },
  {
   "cell_type": "code",
   "execution_count": 0,
   "metadata": {
    "collapsed": false
   },
   "outputs": [
   ],
   "source": [
    "Z15[9] + Z15[7]"
   ]
  },
  {
   "cell_type": "code",
   "execution_count": 0,
   "metadata": {
    "collapsed": false
   },
   "outputs": [
   ],
   "source": [
    "Z15[9] * Z15[7]"
   ]
  },
  {
   "cell_type": "code",
   "execution_count": 0,
   "metadata": {
    "collapsed": false
   },
   "outputs": [
   ],
   "source": [
    "Z15[9] / Z15[7]"
   ]
  },
  {
   "cell_type": "markdown",
   "metadata": {
    "collapsed": false
   },
   "source": [
    "<br>\r\n",
    "This last operation shows that we can take multiplicative inverses of some of the elements.<br><br>\r\n",
    " \r\n",
    "EXPERIMENT:<br>\r\n",
    "Change the 15 in the following command to other positive integers.  This produces both a multiplication table for <em>Z<sub>n</sub></em> along with a circle graph of \r\n",
    "the inverse function.<br>"
   ]
  },
  {
   "cell_type": "code",
   "execution_count": 0,
   "metadata": {
    "collapsed": false
   },
   "outputs": [
   ],
   "source": [
    "R = ZRing(15);\r\n",
    "MultTable(R)\r\n",
    "CircleGraph(R, Inv)"
   ]
  },
  {
   "cell_type": "markdown",
   "metadata": {
    "collapsed": false
   },
   "source": [
    "<br>\r\n",
    "In each case, observe from the circle graph which elements have multiplicative inverses.  Which elements are zero divisors?  Is there a relationship between the \r\n",
    "invertible elements and the zero divisors?  Can you replace the 15 with some integer so that the ring has no zero divisors?<br>"
   ]
  },
  {
   "cell_type": "markdown",
   "metadata": {
    "collapsed": false
   },
   "source": [
    "<br>\r\n",
    "Before going on, we should double check that it is imposible for an element to have <em>two</em> inverses.  The proof is similar to the corrisponding result for \r\n",
    "groups.\r\n",
    "\r\n",
    "<p />\r\n",
    "<a name=\"lem93ret\" id=\"lem93ret\"></a>\r\n",
    "LEMMA 9.3<br>\r\n",
    "Let <em>x</em> be an element in a ring with identity. Then if <em>x</em> has a multiplicative inverse, the inverse is unique.  We denote the multiplicative \r\n",
    "inverse of <em>x</em> by <em>x</em><sup>-1</sup>.<br><br>\r\n",
    "\r\n",
    "<a href=\"#lem93\">Click here for the proof.</a>\r\n",
    "\r\n",
    "<p />\r\n",
    "<a name=\"prop94ret\" id=\"prop94ret\"></a>\r\n",
    "PROPOSITION 9.4<br>\r\n",
    "If <em>R</em> is a unity ring, then the invertible elements of <em>R</em> form a group under multiplication.  This group is \r\n",
    "denoted <em>R</em><sup>*</sup>.<br><br>\r\n",
    "\r\n",
    "<a href=\"#prop94\">Click here for the proof.</a>\r\n",
    "\r\n",
    "<p />\r\n",
    "Now we can return our attention to the ring <em>Z<sub>n</sub></em>. In trying to find values for <em>n</em> in which <em>Z<sub>n</sub></em> has no zero divisors, you \r\n",
    "may have noticed the following:\r\n",
    " \r\n",
    "<p />\r\n",
    "<a name=\"prop95ret\" id=\"prop95ret\"></a>\r\n",
    "PROPOSITION 9.5<br>\r\n",
    "For <em>n</em> &gt; 1, the ring <em>Z<sub>n</sub></em> has no zero divisors if, and only if, <em>n</em> is prime.<br><br>\r\n",
    "\r\n",
    "<a href=\"#prop95\">Click here for the proof.</a>\r\n",
    "\r\n",
    "<p />\r\n",
    "Even if <em>n</em> is not prime, one of the observations that can be made while studying <em>Z<sub>n</sub></em> is that the zero divisors were precisely the nonzero \r\n",
    "elements that did not have an inverse. Is this true in the other rings that we have studied? For example, here is the \r\n",
    "multiplication table of the non-commutative unity ring <em>T</em><sub>8</sub>\r\n",
    "that we found before:<br>"
   ]
  },
  {
   "cell_type": "code",
   "execution_count": 0,
   "metadata": {
    "collapsed": false
   },
   "outputs": [
   ],
   "source": [
    "InitRing(\"e\",\"a\",\"b\")\r\n",
    "DefineRing([2,2,2],[[e,a,b],[a,a,a],[b,b,b]])\r\n",
    "T8 = ListRing()\r\n",
    "MultTable(T8)"
   ]
  },
  {
   "cell_type": "markdown",
   "metadata": {
    "collapsed": false
   },
   "source": [
    "<br>\r\n",
    "Notice that there are two invertible elements, determined by the 2 <em>e</em>'s inside the table. The other 5 nonzero elements \r\n",
    "can be seen to be zero divisors. \r\n",
    "This suggests a pattern, but before we can prove that this pattern continues to other rings, we will need the following lemma.\r\n",
    " \r\n",
    "<p /> \r\n",
    "<a name=\"lem94ret\" id=\"lem94ret\"></a>\r\n",
    "LEMMA 9.4<br>\r\n",
    "Let <em>a</em>, <em>b</em>, and <em>c</em> be elements of a ring. If <em>a</em> is nonzero, and is not a zero divisor, and \r\n",
    "<p style='text-align: center;'><em>a</em>&middot;<em>b</em> = <em>a</em>&middot;<em>c</em>,</p>\r\n",
    "then <em>b</em> = <em>c</em>. Likewise, if\r\n",
    "<p style='text-align: center;'><em>b</em>&middot;<em>a</em> = <em>c</em>&middot;<em>a</em></p>\r\n",
    "for <em>a</em> nonzero and not a zero divisor, then <em>b</em> = <em>c</em>. This is called the <em>cancellation law for multiplication</em>.<br><br>\r\n",
    "\r\n",
    "<a href=\"#lem94\">Click here for the proof.</a>\r\n",
    "\r\n",
    "<p />\r\n",
    "We are now ready to show a relationship between zero divisors and invertible elements. Notice that in the ring &#8484;, the element 2 is not invertible, but neither \r\n",
    "is it a zero divisor. This example seems to break the pattern that we have been observing, but also notice that &#8484; is an <em>infinite</em> ring. Perhaps if we \r\n",
    "consider only <em>finite</em> rings, that is, rings with only a finite number of elements, we will be able to prove that a relationship between zero divisors and \r\n",
    "invertible elements.\r\n",
    "\r\n",
    "<p />\r\n",
    "<a name=\"prop96ret\" id=\"prop96ret\"></a>\r\n",
    "PROPOSITION 9.6<br>\r\n",
    "Let <em>R</em> be a finite ring. If <em>b</em> is a nonzero element of <em>R</em> which is not a zero divisor, then <em>R</em> has a unity element and <em>b</em> has \r\n",
    "a multiplicative inverse in <em>R</em>. Hence, every nonzero element in <em>R</em> is either a zero divisor or is invertible.<br><br>\r\n",
    "\r\n",
    "<a href=\"#prop96\">Click here for the proof.</a>\r\n",
    "\r\n",
    "<p />\r\n",
    "There are some immediate consequences to Proposition 9.6.\r\n",
    " \r\n",
    "<p /> \r\n",
    "<a name=\"cor91ret\" id=\"cor91ret\"></a>\r\n",
    "COROLLARY 9.1<br>Every finite ring with no zero divisors is a division ring.<br><br>\r\n",
    "\r\n",
    "<a href=\"#cor91\">Click here for the proof.</a>\r\n",
    "\r\n",
    "<p />\r\n",
    "This corollary allows us to find many examples of fields.<br>\r\n",
    "\r\n",
    "<p /> \r\n",
    "<a name=\"cor92ret\" id=\"cor92ret\"></a>\r\n",
    "COROLLARY 9.2<br>\r\n",
    "The ring <em>Z<sub>n</sub></em> is a field if, and only if, <em>n</em> is prime.<br><br>\r\n",
    "\r\n",
    "<a href=\"#cor92\">Click here for the proof.</a>\r\n",
    "\r\n",
    "<p />\r\n",
    "To conclude this chapter, let us find an example of each of the 11 different types of rings that could exist. Every ring will fall into one of the following catagories.<br>\r\n",
    "<br>\r\n",
    "\r\n",
    "<p class='Text' style='font-size: 24px;font-family: Arial;'>\r\n",
    "Type I: The Trivial Ring\r\n",
    "</p>\r\n",
    "\r\n",
    "<br>\r\n",
    "Of course, there is only the one ring in this catagory, whose addition and multiplication tables are both given by the following command:<br>"
   ]
  },
  {
   "cell_type": "code",
   "execution_count": 0,
   "metadata": {
    "collapsed": false
   },
   "outputs": [
   ],
   "source": [
    "R = ZRing(1)\r\n",
    "AddTable(R)\r\n",
    "MultTable(R)"
   ]
  },
  {
   "cell_type": "markdown",
   "metadata": {
    "collapsed": false
   },
   "source": [
    "<p class='Text' style='font-size: 24px;font-family: Arial;'>\r\n",
    "Type II: Fields\r\n",
    "</p>\r\n",
    "\r\n",
    "<br>\r\n",
    "We have already seen several examples of fields in the first section, such as the rational numbers and the real numbers. But Corollary 9.2 has given us many more \r\n",
    "examples.  Here is the addition and multiplication table for one of the finite fields, <em>Z</em><sub>7</sub>:<br>"
   ]
  },
  {
   "cell_type": "code",
   "execution_count": 0,
   "metadata": {
    "collapsed": false
   },
   "outputs": [
   ],
   "source": [
    "R = ZRing(7)\r\n",
    "AddTable(R)\r\n",
    "MultTable(R)"
   ]
  },
  {
   "cell_type": "markdown",
   "metadata": {
    "collapsed": false
   },
   "source": [
    "<p class='Text' style='font-size: 24px;font-family: Arial;'>\r\n",
    "Type III: Skew Fields\r\n",
    "</p>\r\n",
    "\r\n",
    "<br>\r\n",
    "The only example of a skew field that we have seen so far is the quaternions, the first known example.  Unlike fields, skew fields are quite rare&#8213;in fact there are \r\n",
    "no finite skew fields. \r\n",
    "\r\n",
    "<p class='Text' style='font-size: 24px;font-family: Arial;'>\r\n",
    "Type IV: Commutative unity rings without zero divisors, but which are not fields\r\n",
    "</p>\r\n",
    "\r\n",
    "<br>\r\n",
    "We have seen one important example of a ring of this type, namely the ring of integers &#8484;. All rings of this type possess many of the properties of integers, \r\n",
    "such as having &quot;prime elements.&quot;. Thus, we give this important class of rings a special name&#8213;<em>integral domains</em>. We will study integral domains \r\n",
    "in depth in Chapters 10 and 13.\r\n",
    "\r\n",
    "<p class='Text' style='font-size: 24px;font-family: Arial;'>\r\n",
    "Type V: Non-commutative unity rings without zero divisors, but which are not skew fields\r\n",
    "</p>\r\n",
    "\r\n",
    "<br>\r\n",
    "By Proposition 9.6, any ring of this type must be an infinite ring. So the natural place to look for such a ring would be some restriction of the quaternions. \r\n",
    "We consider the <em>integer quaternions</em>, that is, quaternions of the form\r\n",
    "<p style='text-align: center;'><em>a</em> + <em>b i</em> + <em>c j</em> + <em>d k</em></p>\r\n",
    "where <em>a</em>, <em>b</em>, <em>c</em>, and <em>d</em> are all integers.  Certainly the product and sum of two integer quaternions would yield integer quaternions, \r\n",
    "and so these would form a ring. However, 2 has no inverse in the integer quaternions, so this is not a skew field.\r\n",
    "\r\n",
    "<p class='Text' style='font-size: 24px;font-family: Arial;'>\r\n",
    "Type VI: Commutative rings without unity and without zero divisors\r\n",
    "</p>\r\n",
    "\r\n",
    "<br>\r\n",
    "We saw one example of a ring of this type in the first section, the even integers.  In fact, if <em>n</em> > 1, then all multiples of <em>n</em> will form a ring of \r\n",
    "this type.  We will see more examples of rings of this type when we study <em>ideals</em> in Chapter 10.\r\n",
    "\r\n",
    "<p class='Text' style='font-size: 24px;font-family: Arial;'>\r\n",
    "Type VII: Non-commutative rings without unity and without zero divisors\r\n",
    "</p>\r\n",
    "\r\n",
    "<br>\r\n",
    "Again, by Proposition 9.6, all rings of this form must be infinite rings. We can apply the same trick used for the type VI ring to the integer quaternions, and obtain the\r\n",
    "<em>even quaternions</em>, that is, quaternions of the form\r\n",
    "<p style='text-align: center;'><em>a</em> + <em>b i</em> + <em>c j</em> + <em>d k</em></p>\r\n",
    "where <em>a</em>, <em>b</em>, <em>c</em>, and <em>d</em> are all even integers. It is easy to check that the sum and product of two even quaternions yield even \r\n",
    "quaternions. However, this ring does not have a unity element.\r\n",
    "\r\n",
    "<p class='Text' style='font-size: 24px;font-family: Arial;'>\r\n",
    "Type VIII: Commutative unity rings  with zero divisors\r\n",
    "</p>\r\n",
    "\r\n",
    "<br>\r\n",
    "Proposition 9.5 gives us many examples of such rings&#8213;<em>Z<sub>n</sub></em> for any <em>n</em> > 1 which is not prime.  Here is one example:<br>"
   ]
  },
  {
   "cell_type": "code",
   "execution_count": 0,
   "metadata": {
    "collapsed": false
   },
   "outputs": [
   ],
   "source": [
    "R = ZRing(8)\r\n",
    "AddTable(R)\r\n",
    "MultTable(R)"
   ]
  },
  {
   "cell_type": "markdown",
   "metadata": {
    "collapsed": false
   },
   "source": [
    "<p class='Text' style='font-size: 24px;font-family: Arial;'>\r\n",
    "Type IX: Non-commutative unity rings with zero divisors.\r\n",
    "</p>\r\n",
    "\r\n",
    "<br>\r\n",
    "We constructed one example of this type of ring in the last section. We called this ring <em>T</em><sub>8</sub>, the smallest non-commutative ring with an identity. \r\n",
    "Here is the addition and multiplication table of <em>T</em><sub>8</sub>:<br>"
   ]
  },
  {
   "cell_type": "code",
   "execution_count": 0,
   "metadata": {
    "collapsed": false
   },
   "outputs": [
   ],
   "source": [
    "InitRing(\"e\",\"a\",\"b\")\r\n",
    "DefineRing([2,2,2], [[e,a,b],[a,a,a],[b,b,b]])\r\n",
    "R = ListRing()\r\n",
    "AddTable(R)\r\n",
    "MultTable(R)"
   ]
  },
  {
   "cell_type": "markdown",
   "metadata": {
    "collapsed": false
   },
   "source": [
    "<br>\r\n",
    "Proposition 9.3 shows that there is no smaller ring of this type.<br>\r\n",
    "\r\n",
    "\r\n",
    "\r\n",
    "<p class='Text' style='font-size: 24px;font-family: Arial;'>\r\n",
    "Type X: Commutative rings without unity and with zero divisors\r\n",
    "</p>\r\n",
    "\r\n",
    "<br>\r\n",
    "One of the simpliest example of ring of this type would be the ring of even elements of <em>Z</em><sub>8</sub>: {0,2,4,6}.  By setting <em>a</em> = <em>2</em>, we can \r\n",
    "list the elements of this ring as {0, a, 2a, 3a}, and hence enter this ring into <em>Sage</em> with the commands<br>"
   ]
  },
  {
   "cell_type": "code",
   "execution_count": 0,
   "metadata": {
    "collapsed": false
   },
   "outputs": [
   ],
   "source": [
    "InitRing(\"a\")\r\n",
    "DefineRing([4], [[2*a]])\r\n",
    "R = ListRing()\r\n",
    "AddTable(R)\r\n",
    "MultTable(R)"
   ]
  },
  {
   "cell_type": "markdown",
   "metadata": {
    "collapsed": false
   },
   "source": [
    "<br>\r\n",
    "Are there any smaller rings which fit into this catagory?<br>\r\n",
    "\r\n",
    "<p class='Text' style='font-size: 24px;font-family: Arial;'>\r\n",
    "Type XI: Non-commutative rings without unity and with zero divisors\r\n",
    "</p>\r\n",
    "\r\n",
    "<br>\r\n",
    "We constructed one example of a ring of this type in the previous section:<br>"
   ]
  },
  {
   "cell_type": "code",
   "execution_count": 0,
   "metadata": {
    "collapsed": false
   },
   "outputs": [
   ],
   "source": [
    "InitRing(\"a\",\"b\")\r\n",
    "DefineRing([4,2], [[a, b], [2*a, 0]])\r\n",
    "R = ListRing()\r\n",
    "AddTable(R)\r\n",
    "MultTable(R)"
   ]
  },
  {
   "cell_type": "markdown",
   "metadata": {
    "collapsed": false
   },
   "source": [
    "<br>\r\n",
    "This is not the smallest ring of this type. In fact, there is a non-commutative ring of order 4, with the following addition and multiplication tables:\r\n",
    "<br><br>\r\n",
    "\r\n",
    "<table align = \"center\" width=\"200\" border=\"1\">\r\n",
    "  <tr>\r\n",
    "    <th scope=\"col\">+</th>\r\n",
    "    <th scope=\"col\">0</th>\r\n",
    "    <th scope=\"col\"><em>a</em></th>\r\n",
    "    <th scope=\"col\"><em>b</em></th>\r\n",
    "    <th scope=\"col\"><em>c</em></th>\r\n",
    "  </tr>\r\n",
    "  <tr>\r\n",
    "    <th scope=\"row\">0</th>\r\n",
    "    <td>&ensp;0</td>\r\n",
    "    <td>&ensp;<em>a</em></td>\r\n",
    "    <td>&ensp;<em>b</em></td>\r\n",
    "    <td>&ensp;<em>c</em></td>\r\n",
    "  </tr>\r\n",
    "  <tr>\r\n",
    "    <th scope=\"row\"><em>a</em></th>\r\n",
    "    <td>&ensp;<em>a</em></td>\r\n",
    "    <td>&ensp;0</td>\r\n",
    "    <td>&ensp;<em>c</em></td>\r\n",
    "    <td>&ensp;<em>b</em></td>\r\n",
    "  </tr>\r\n",
    "  <tr>\r\n",
    "    <th scope=\"row\"><em>b</em></th>\r\n",
    "    <td>&ensp;<em>b</em></td>\r\n",
    "    <td>&ensp;<em>c</em></td>\r\n",
    "    <td>&ensp;0</td>\r\n",
    "    <td>&ensp;<em>a</em></td>\r\n",
    "  </tr>\r\n",
    "  <tr>\r\n",
    "    <th scope=\"row\"><em>c</em></th>\r\n",
    "    <td>&ensp;<em>c</em></td>\r\n",
    "    <td>&ensp;<em>b</em></td>\r\n",
    "    <td>&ensp;<em>a</em></td>\r\n",
    "    <td>&ensp;0</td>\r\n",
    "  </tr>\r\n",
    "</table>\r\n",
    "<br>\r\n",
    "<table align = \"center\" width=\"200\" border=\"1\">\r\n",
    "  <tr>\r\n",
    "    <th scope=\"col\">&middot;</th>\r\n",
    "    <th scope=\"col\">0</th>\r\n",
    "    <th scope=\"col\"><em>a</em></th>\r\n",
    "    <th scope=\"col\"><em>b</em></th>\r\n",
    "    <th scope=\"col\"><em>c</em></th>\r\n",
    "  </tr>\r\n",
    "  <tr>\r\n",
    "    <th scope=\"row\">0</th>\r\n",
    "    <td>&ensp;0</td>\r\n",
    "    <td>&ensp;0</td>\r\n",
    "    <td>&ensp;0</td>\r\n",
    "    <td>&ensp;0</td>\r\n",
    "  </tr>\r\n",
    "  <tr>\r\n",
    "    <th scope=\"row\"><em>a</em></th>\r\n",
    "    <td>&ensp;0</td>\r\n",
    "    <td>&ensp;<em>a</em></td>\r\n",
    "    <td>&ensp;<em>a</em></td>\r\n",
    "    <td>&ensp;0</td>\r\n",
    "  </tr>\r\n",
    "  <tr>\r\n",
    "    <th scope=\"row\"><em>b</em></th>\r\n",
    "    <td>&ensp;0</td>\r\n",
    "    <td>&ensp;<em>b</em></td>\r\n",
    "    <td>&ensp;<em>b</em></td>\r\n",
    "    <td>&ensp;0</td>\r\n",
    "  </tr>\r\n",
    "  <tr>\r\n",
    "    <th scope=\"row\"><em>c</em></th>\r\n",
    "    <td>&ensp;0</td>\r\n",
    "    <td>&ensp;<em>c</em></td>\r\n",
    "    <td>&ensp;<em>c</em></td>\r\n",
    "    <td>&ensp;0</td>\r\n",
    "  </tr>\r\n",
    "</table>\r\n",
    "\r\n",
    "<br>\r\n",
    "We will refer to this ring as <em>T</em><sub>4</sub>.<br>\r\n",
    "\r\n",
    "<br>\r\n",
    "EXPERIMENT:<br>\r\n",
    "See if you can change the definition of the last ring to produce this non-commutative ring of order 4.<br>"
   ]
  },
  {
   "cell_type": "markdown",
   "metadata": {
    "collapsed": false
   },
   "source": [
    "<br>\r\n",
    "After the trivial ring, these rings are basically ordered from the most important to the least. As you might guess from this list, \r\n",
    "the study of rings can go deeper than group theory. However, by making observations on the rings mentioned in this list we can get a feel for how rings of different \r\n",
    "types behave.<br><br>\r\n",
    "\r\n",
    "<br><br><br><br><br><br><br><br><br><br><br><br><br><br><br><br><br><br><br><br><br><br><br><br><br><br><br><br><br><br><br><br><br><br><br><br><br><br><br><br><br><br>\r\n",
    "\r\n",
    "<h1>Proofs:</h1>\r\n",
    " \r\n",
    "<a name=\"prop91\" id=\"prop91\"></a>\r\n",
    "\r\n",
    "Proof of Proposition 9.1:<br><br>\r\n",
    "If <em>x</em> = <em>a</em> + <em>b i</em> + <em>c j</em> + <em>d k</em> is non-zero, then<br><br>\r\n",
    "<table align=\"center\" border=\"0\" cellspacing=\"0\" cellpadding=\"0\">\r\n",
    "  <tr>\r\n",
    "    <td rowspan = \"2\" align=\"left\"><em>x</em><sup>-1</sup> = &ensp;</td>\r\n",
    "    <td align=\"center\" valign=\"bottom\"><font style=\"text-decoration:underline\">&emsp;&emsp;&emsp;&emsp;<em>a</em>&emsp;&emsp;&emsp;&emsp;</font></td>\r\n",
    "    <td rowspan = \"2\" align=\"left\">&ensp; + &ensp;</td>\r\n",
    "    <td align=\"center\" valign=\"bottom\"><font style=\"text-decoration:underline\">&emsp;&emsp;&ensp;&ensp;&minus; <em>b</em>&ensp;&emsp;&ensp;&emsp;</font></td>\r\n",
    "    <td rowspan = \"2\" align=\"left\">&thinsp;<em>i</em> + &ensp;</td>\r\n",
    "    <td align=\"center\" valign=\"bottom\"><font style=\"text-decoration:underline\">&emsp;&emsp;&ensp;&ensp;&minus; <em>c</em>&ensp;&emsp;&ensp;&emsp;</font></td>\r\n",
    "    <td rowspan = \"2\" align=\"left\">&thinsp;<em>j</em> + &ensp;</td>\r\n",
    "    <td align=\"center\" valign=\"bottom\"><font style=\"text-decoration:underline\">&emsp;&emsp;&ensp;&ensp;&minus; <em>d</em>&ensp;&emsp;&ensp;&emsp;</font></td>\r\n",
    "    <td rowspan = \"2\" align=\"left\">&thinsp;<em>k</em></td>\r\n",
    "  </tr>\r\n",
    "  <tr>\r\n",
    "    <td align=\"center\" valign=\"top\"><em>a</em>&sup2; + <em>b</em>&sup2; + <em>c</em>&sup2; + <em>d</em>&sup2;</td>\r\n",
    "    <td align=\"center\" valign=\"top\"><em>a</em>&sup2; + <em>b</em>&sup2; + <em>c</em>&sup2; + <em>d</em>&sup2;</td>\r\n",
    "    <td align=\"center\" valign=\"top\"><em>a</em>&sup2; + <em>b</em>&sup2; + <em>c</em>&sup2; + <em>d</em>&sup2;</td>\r\n",
    "    <td align=\"center\" valign=\"top\"><em>a</em>&sup2; + <em>b</em>&sup2; + <em>c</em>&sup2; + <em>d</em>&sup2;</td>\r\n",
    "  </tr>\r\n",
    "</table>\r\n",
    "<br>\r\n",
    "forms a multiplicative inverse, since it is a simple exerise to show that <em>x</em>&middot;<em>x</em><sup>-1</sup> = <em>x</em><sup>-1</sup>&middot;<em>x</em> = 1, the multiplicative \r\n",
    "identity. (See Problem 10.)<br>\r\n",
    "<br>\r\n",
    "Note that since <em>x</em> &ne;0, the denominator <em>a</em><sup>2</sup> + <em>b</em><sup>2</sup> + <em>c</em><sup>2</sup> + <em>d</em><sup>2</sup> > 0.  It is easy to \r\n",
    "see that multiplication is closed.  The only hard part is to show that the associative law holds, which is best \r\n",
    "done in <em>Sage</em>.<br><br>"
   ]
  },
  {
   "cell_type": "code",
   "execution_count": 0,
   "metadata": {
    "collapsed": false
   },
   "outputs": [
   ],
   "source": [
    "Q = InitQuaternions(); Q"
   ]
  },
  {
   "cell_type": "markdown",
   "metadata": {
    "collapsed": false
   },
   "source": [
    "<br>\r\n",
    "First we define lots of variables.<br>"
   ]
  },
  {
   "cell_type": "code",
   "execution_count": 0,
   "metadata": {
    "collapsed": false
   },
   "outputs": [
   ],
   "source": [
    "var('a1 b1 c1 d1 a2 b2 c2 d2 a3 b3 c3 d3')"
   ]
  },
  {
   "cell_type": "markdown",
   "metadata": {
    "collapsed": false
   },
   "source": [
    "<br>\r\n",
    "Next, we define three general quaternions.<br>"
   ]
  },
  {
   "cell_type": "code",
   "execution_count": 0,
   "metadata": {
    "collapsed": false
   },
   "outputs": [
   ],
   "source": [
    "x = a1 + b1*i + c1*j + d1*k; x"
   ]
  },
  {
   "cell_type": "code",
   "execution_count": 0,
   "metadata": {
    "collapsed": false
   },
   "outputs": [
   ],
   "source": [
    "y = a2 + b2*i + c2*j + d2*k; y"
   ]
  },
  {
   "cell_type": "code",
   "execution_count": 0,
   "metadata": {
    "collapsed": false
   },
   "outputs": [
   ],
   "source": [
    "z = a3 + b3*i + c3*j + d3*k; z"
   ]
  },
  {
   "cell_type": "markdown",
   "metadata": {
    "collapsed": false
   },
   "source": [
    "<br>\r\n",
    "Let us find (<em>x</em>&middot;<em>y</em>)&middot;<em>z</em> in two steps, and call this <em>w</em><br>"
   ]
  },
  {
   "cell_type": "code",
   "execution_count": 0,
   "metadata": {
    "collapsed": false
   },
   "outputs": [
   ],
   "source": [
    "x*y"
   ]
  },
  {
   "cell_type": "code",
   "execution_count": 0,
   "metadata": {
    "collapsed": false
   },
   "outputs": [
   ],
   "source": [
    "w = _*z; w"
   ]
  },
  {
   "cell_type": "markdown",
   "metadata": {
    "collapsed": false
   },
   "source": [
    "<br>\r\n",
    "This looks like a total mess.  Now let us find <em>x</em>&middot;(<em>y</em>&middot;<em>z</em>).<br>"
   ]
  },
  {
   "cell_type": "code",
   "execution_count": 0,
   "metadata": {
    "collapsed": false
   },
   "outputs": [
   ],
   "source": [
    "y*z"
   ]
  },
  {
   "cell_type": "code",
   "execution_count": 0,
   "metadata": {
    "collapsed": false
   },
   "outputs": [
   ],
   "source": [
    "x*_"
   ]
  },
  {
   "cell_type": "markdown",
   "metadata": {
    "collapsed": false
   },
   "source": [
    "<br>\r\n",
    "This gives another big mess.  Are the two messes equal?<br>"
   ]
  },
  {
   "cell_type": "code",
   "execution_count": 0,
   "metadata": {
    "collapsed": false
   },
   "outputs": [
   ],
   "source": [
    "_ - w"
   ]
  },
  {
   "cell_type": "markdown",
   "metadata": {
    "collapsed": false
   },
   "source": [
    "<br>\r\n",
    "This produces 0, showing that (<em>x</em>&middot;<em>y</em>)&middot;<em>z</em> = <em>x</em>&middot;(<em>y</em>&middot;<em>z</em>).  Thus, <em>Sage</em> has proven that multiplication is associative. <br><br>\r\n",
    "\r\n",
    "Given that the associative law holds, it is easy to see that the product of two nonzero vectors must be nonzero.  If <em>x</em>&middot;<em>y</em> =0, and say \r\n",
    "<em>x</em> &ne; 0, then \r\n",
    "<p style='text-align: center;'><em>y</em> = (<em>x</em><sup>-1</sup>&middot;<em>x</em>)&middot;<em>y</em> = <em>x</em><sup>-1</sup>&middot;(<em>x</em>&middot;<em>y</em>) = \r\n",
    "<em>x</em><sup>-1</sup>&middot;0 = 0.</p>\r\n",
    "Thus, if both <em>x</em>&ne;0 and <em>y</em>&ne;0, then <em>x</em>&middot;<em>y</em>&ne;0.<br><br>\r\n",
    "\r\n",
    "<a href=\"#prop91ret\">Return to text</a>\r\n",
    "\r\n",
    "<br><br><br><br><br><br><br><br><br><br><br><br><br><br><br><br><br><br><br><br><br><br><br><br><br><br><br><br><br><br><br><br><br><br><br><br><br><br><br><br><br><br>\r\n",
    "\r\n",
    "<a name=\"lem91\" id=\"lem91\"></a>\r\n",
    "\r\n",
    "Proof of Lemma 9.1:<br><br>\r\n",
    "This proof is just a little tricky because there are no other propositions to rely on.  Thus, every step must directly use one of the nine properties of \r\n",
    "rings. (The temptation is to rely on some property we suspect is true, but haven't yet proven.)<br><br>\r\n",
    " \r\n",
    "Note that\r\n",
    "<p style='text-align: center;'>(0&middot;<em>x</em> + 0&middot;<em>x</em>) =(0 + 0)&middot;<em>x</em> = 0&middot;<em>x</em>,</p>\r\n",
    "so\r\n",
    "<p style='text-align: center;'>(0&middot;<em>x</em> + 0&middot;<em>x</em>) + (&minus;(0&middot;<em>x</em>)) = 0&middot;<em>x</em> + (&minus;(0&middot;<em>x</em>)) = 0.</p>\r\n",
    "Hence\r\n",
    "<p style='text-align: center;'>0&middot;<em>x</em> + (0&middot;<em>x</em> + (&minus;(0&middot;<em>x</em>))) = 0,</p>\r\n",
    "so\r\n",
    "<p style='text-align: center;'>0&middot;<em>x</em> + 0 = 0&middot;<em>x</em> = 0.</p><br>\r\n",
    "\r\n",
    "Similarly,\r\n",
    "<p style='text-align: center;'>(<em>x</em>&middot;0 + <em>x</em>&middot;0) = <em>x</em>&middot;(0 + 0) = <em>x</em>&middot;0,</p>\r\n",
    "so\r\n",
    "<p style='text-align: center;'>(<em>x</em>&middot;0 + <em>x</em>&middot;0) + (&minus;(<em>x</em>&middot;0)) = <em>x</em>&middot;0 + (&minus;(<em>x</em>&middot;0)) = 0.</p>\r\n",
    "Hence\r\n",
    "<p style='text-align: center;'><em>x</em>&middot;0 + (<em>x</em>&middot;0 + (&minus;(<em>x</em>&middot;0))) = 0,</p>\r\n",
    "so\r\n",
    "<p style='text-align: center;'><em>x</em>&middot;0 + 0 = <em>x</em>&middot;0= 0.</p><br><br>\r\n",
    "\r\n",
    "<a href=\"#lem91ret\">Return to text</a>\r\n",
    "\r\n",
    "<br><br><br><br><br><br><br><br><br><br><br><br><br><br><br><br><br><br><br><br><br><br><br><br><br><br><br><br><br><br><br><br><br><br><br><br><br><br><br><br><br><br>\r\n",
    "\r\n",
    "<a name=\"prop92\" id=\"prop92\"></a>\r\n",
    "\r\n",
    "Proof of Proposition 9.2:<br><br>\r\n",
    " \r\n",
    "We just saw that the trivial ring has a unity and has no zero divisors, so we may assume that the ring has a nonzero element <em>y</em>. Then <em>y</em> has \r\n",
    "a multiplicative inverse <em>z</em>, so we have <em>y</em>&middot;<em>z</em> = <em>e</em>, the unity. Thus, every division ring must have a unity.<br><br>\r\n",
    "\r\n",
    "Now suppose that <em>x</em>&middot;<em>y</em> = 0 in a division ring, with both <em>x</em> and <em>y</em> nonzero. Then <em>y</em> has a multiplicative inverse <em>z</em>, \r\n",
    "so that <em>y</em>&middot;<em>z</em> = e. But then \r\n",
    "<p style='text-align: center;'><em>x</em> = <em>x</em>&middot;<em>e</em> = <em>x</em>&middot;(<em>y</em>&middot;<em>z</em>) = \r\n",
    "(<em>x</em>&middot;<em>y</em>)&middot;<em>z</em> = 0&middot;<em>z</em> = 0,</p>\r\n",
    "which contradicts the fact that <em>x</em> is nonzero. Thus, a division ring has no zero divisors.<br><br>\r\n",
    "\r\n",
    "<a href=\"#prop92ret\">Return to text</a>\r\n",
    "\r\n",
    "<br><br><br><br><br><br><br><br><br><br><br><br><br><br><br><br><br><br><br><br><br><br><br><br><br><br><br><br><br><br><br><br><br><br><br><br><br><br><br><br><br><br>\r\n",
    "  \r\n",
    "<a name=\"lem92\" id=\"lem92\"></a>\r\n",
    "\r\n",
    "Proof of Lemma 9.2:<br><br>  \r\n",
    "\r\n",
    "We will proceed by induction. The statement is certainly true for <em>n</em>  = 0 or <em>n</em> = 1. Suppose that the statement is true for the previous case \r\n",
    "<em>n</em> &minus; 1.  But then\r\n",
    "<p style='text-align: center;'>((<em>n</em> &minus; 1) <em>x</em>)&middot;<em>y</em> + <em>x</em>&middot;<em>y</em> = (<em>n</em> &minus; 1) (<em>x</em>&middot;<em>y</em>) \r\n",
    "+ <em>x</em>&middot;<em>y</em> = <em>x</em>&middot;((<em>n</em> &minus; 1) <em>y</em>) + <em>x</em>&middot;<em>y</em>.</p>\r\n",
    "Hence, by the distributive law,\r\n",
    "<p style='text-align: center;'>((<em>n</em> &minus; 1) <em>x</em> + <em>x</em>)&middot;<em>y</em> = ((<em>n</em> &minus; 1) + 1) (<em>x</em>&middot;<em>y</em>) = \r\n",
    "<em>x</em>&middot;((<em>n</em> &minus; 1) <em>y</em> + <em>y</em>),</p>\r\n",
    "and so\r\n",
    "<p style='text-align: center;'>(<em>n x</em>)&middot;<em>y</em> = <em>n</em> (<em>x</em>&middot;<em>y</em>) = <em>x</em>&middot;(<em>n y</em>).</p>\r\n",
    "Hence, the statement is true for all positive integers. <br><br>\r\n",
    "\r\n",
    "For negative integers, we can merely show that\r\n",
    "<p style='text-align: center;'>(<em>n x</em>)&middot;<em>y</em> + ((&minus;<em>n</em>) <em>x</em>)&middot;<em>y</em> = \r\n",
    "(<em>n x</em> + (&minus;<em>n</em>) <em>x</em>)&middot;<em>y</em> = ((<em>n</em> &minus; <em>n</em>) <em>x</em>)&middot;<em>y</em> = 0&middot;<em>y</em> = 0.</p>\r\n",
    "<p style='text-align: center;'><em>n</em> (<em>x</em>&middot;<em>y</em>) + (&minus;<em>n</em>) (<em>x</em>&middot;<em>y</em>) = \r\n",
    "(<em>n</em> &minus; <em>n</em>) (<em>x</em>&middot;<em>y</em>) = 0 (<em>x</em>&middot;<em>y</em>) = 0.</p>\r\n",
    "<p style='text-align: center;'><em>x</em>&middot;(<em>n y</em>) + <em>x</em>&middot;((&minus;<em>n</em>) <em>y</em>) = \r\n",
    "<em>x</em>&middot;(<em>n y</em> + (&minus;<em>n</em>) <em>y</em>) = <em>x</em>&middot;(( &minus; <em>n</em>) <em>y</em>) = <em>x</em>&middot;0 = 0.</p>\r\n",
    "Thus, ((&minus;<em>n</em>) <em>x</em>)&middot;<em>y</em>, (&minus;<em>n</em>) (<em>x</em>&middot;<em>y</em>), and <em>x</em>&middot;((&minus;<em>n</em>) <em>y</em>) \r\n",
    "are the additive inverses of (<em>n x</em>)&middot;<em>y</em>, <em>n</em> (<em>x</em>&middot;<em>y</em>) and <em>x</em>&middot;(<em>n y</em>), respectively. \r\n",
    "But since these latter three are equal for positive <em>n</em>, we have\r\n",
    "<p style='text-align: center;'>((&minus;<em>n</em>) <em>x</em>)&middot;<em>y</em> = (&minus;<em>n</em>) (<em>x</em>&middot;<em>y</em>) = \r\n",
    "<em>x</em>&middot;((&minus;<em>n</em>) <em>y</em>).</p>\r\n",
    "\r\n",
    "Hence the lemma is proven for all integers <em>n</em>.<br><br>\r\n",
    "  \r\n",
    "<a href=\"#lem92ret\">Return to text</a>\r\n",
    "\r\n",
    "<br><br><br><br><br><br><br><br><br><br><br><br><br><br><br><br><br><br><br><br><br><br><br><br><br><br><br><br><br><br><br><br><br><br><br><br><br><br><br><br><br><br>   \r\n",
    "  \r\n",
    "<a name=\"prop93\" id=\"prop93\"></a>\r\n",
    "\r\n",
    "Proof of Proposition 9.3:<br><br> \r\n",
    "\r\n",
    "Suppose that <em>x</em> and <em>y</em> are two elements of the ring that generate the group under addition. That is, every element can be expressed as \r\n",
    "<em>m x</em> + <em>n y</em> for integers <em>m</em> and <em>n</em>.  In particular, the unity\r\n",
    "<p style='text-align: center;'><em>e</em> = <em>m x</em> + <em>n y</em></p>\r\n",
    "for some integers <em>m</em> and <em>n</em>. Since <em>e</em> commutes with both <em>x</em> and <em>y</em>, we have\r\n",
    "<p style='text-align: center;'><em>m x</em>&middot;<em>x</em> + <em>n y</em>&middot;<em>x</em> = (<em>m x</em> + <em>n y</em>)&middot;<em>x</em> = \r\n",
    "<em>e</em>&middot;<em>x</em> = <em>x</em>&middot;<em>e</em> = <em>m x</em>&middot;<em>x</em> + <em>n x</em>&middot;<em>y</em>,</p>\r\n",
    "so  <em>n y</em>&middot;<em>x</em> = <em>n x</em>&middot;<em>y</em>.<br><br>\r\n",
    "\r\n",
    "Likewise, \r\n",
    "<p style='text-align: center;'><em>m x</em>&middot;<em>y</em> + <em>n y</em>&middot;<em>y</em> = (<em>m x</em> + <em>n y</em>)&middot;<em>y</em> = \r\n",
    "<em>e</em>&middot;<em>y</em> = <em>y</em>&middot;<em>e</em> = <em>m y</em>&middot;<em>x</em> + <em>n y</em>&middot;<em>y</em>,</p>\r\n",
    "so <em>m x</em>&middot;<em>y</em> = <em>m y</em>&middot;<em>x</em>.<br><br>\r\n",
    "\r\n",
    "By the greatest common divisor theorem (0.4), there are integers <em>u</em> and <em>v</em> such that \r\n",
    "<p style='text-align: center;'><em>u m</em> + <em>v n</em> = gcd(<em>m</em>, <em>n</em>).</p>\r\n",
    "If we let <em>c</em> denote the greatest common divisor of <em>m</em> and <em>n</em>, then\r\n",
    "<p style='text-align: center;'><em>c</em>(<em>x</em>&middot;<em>y</em> &minus; <em>y</em>&middot;<em>x</em>) = \r\n",
    "(<em>u m</em> + <em>v n</em>)(<em>x</em>&middot;<em>y</em> &minus; <em>y</em>&middot;<em>x</em>) = \r\n",
    "<em>u</em> (<em>m x</em>&middot;<em>y</em> &minus; <em>m y</em>&middot;<em>x</em>) + <em>v</em> (<em>n x</em>&middot;<em>y</em> &minus; <em>n y</em>&middot;<em>x</em>) = 0.</p>\r\n",
    "<br>\r\n",
    "What we need to show is that <em>x</em>&middot;<em>y</em> &minus; <em>y</em>&middot;<em>x</em> = 0. The tempting thing to do is divide by <em>c</em>, but this operation is \r\n",
    "not allowed in rings. Instead, we will again utilize the unity. Since <em>c</em> = gcd(<em>m</em>, <em>n</em>), there are integers <em>a</em> and <em>b</em> \r\n",
    "such that <em>m</em> = <em>a c</em> and <em>n</em> = <em>b c</em>.<br> <br>\r\n",
    "\r\n",
    "Then \r\n",
    "<p style='text-align: center;'><em>x</em>&middot;<em>y</em> &minus; <em>y</em>&middot;<em>x</em> = \r\n",
    "<em>e</em>&middot;(<em>x</em>&middot;<em>y</em> &minus; <em>y</em>&middot;<em>x</em>) = \r\n",
    "(<em>a</em>&middot;<em>c</em>&middot;<em>x</em> + <em>b</em>&middot;<em>c</em>&middot;<em>y</em>)&middot;(<em>x</em>&middot;<em>y</em> &minus; \r\n",
    "<em>y</em>&middot;<em>x</em>) = (<em>a</em>&middot;<em>x</em> + <em>b</em>&middot;<em>y</em>)&middot;(<em>c</em>&middot;(<em>x</em>&middot;<em>y</em> &minus; \r\n",
    "<em>y</em>&middot;<em>x</em>)) = (<em>a</em>&middot;<em>x</em> + <em>b</em>&middot;<em>y</em>)&middot;0 = 0.</p>\r\n",
    "So <em>x</em>&middot;<em>y</em> = <em>y</em>&middot;<em>x</em>, and the ring is commutative. <br><br>\r\n",
    "  \r\n",
    "<a href=\"#prop93ret\">Return to text</a>\r\n",
    "\r\n",
    "<br><br><br><br><br><br><br><br><br><br><br><br><br><br><br><br><br><br><br><br><br><br><br><br><br><br><br><br><br><br><br><br><br><br><br><br><br><br><br><br><br><br>\r\n",
    "\r\n",
    "<a name=\"lem93\" id=\"lem93\"></a>\r\n",
    "\r\n",
    "Proof of Lemma 9.3:<br><br> \r\n",
    "\r\n",
    "Suppose that <em>y</em> and <em>z</em> are two inverses of <em>x</em>. Then\r\n",
    "<p style='text-align: center;'><em>y</em> = <em>y</em>&middot;<em>e</em> = <em>y</em>&middot;(<em>x</em>&middot;<em>z</em>) = \r\n",
    "(<em>y</em>&middot;<em>x</em>)&middot;<em>z</em> = <em>e</em>&middot;<em>z</em> = <em>z</em>,</p>\r\n",
    "which is a contradiction.<br><br>\r\n",
    "\r\n",
    "<a href=\"#lem93ret\">Return to text</a>\r\n",
    "\r\n",
    "<br><br><br><br><br><br><br><br><br><br><br><br><br><br><br><br><br><br><br><br><br><br><br><br><br><br><br><br><br><br><br><br><br><br><br><br><br><br><br><br><br><br>\r\n",
    "\r\n",
    "<a name=\"prop94\" id=\"prop94\"></a>\r\n",
    "\r\n",
    "Proof of Proposition 9.4:<br><br> \r\n",
    "\r\n",
    "Since the unity element is invertible, <em>R</em><sup>*</sup> is non-empty. Also, if <em>x</em> is invertible, then (<em>x</em><sup>-1</sup>)<sup>-1</sup> = \r\n",
    "<em>x</em>, so <em>x</em><sup>-1</sup> is also in <em>R</em><sup>*</sup>. Finally, if <em>x</em> and <em>y</em> are both invertible, then since\r\n",
    "<p style='text-align: center;'>(<em>x</em>&middot;<em>y</em>)&middot;(<em>y</em><sup>-1</sup>&middot;<em>x</em><sup>-1</sup>) = \r\n",
    "<em>x</em>&middot;<em>x</em><sup>-1</sup> = <em>e</em>,</p>\r\n",
    "we see that <em>x</em>&middot;<em>y</em> is invertible. The associative law comes from the associative multiplication of the \r\n",
    "ring. So the set of invertible elements forms a group.<br><br>\r\n",
    "\r\n",
    "<a href=\"#prop94ret\">Return to text</a>\r\n",
    "\r\n",
    "<br><br><br><br><br><br><br><br><br><br><br><br><br><br><br><br><br><br><br><br><br><br><br><br><br><br><br><br><br><br><br><br><br><br><br><br><br><br><br><br><br><br> \r\n",
    "\r\n",
    "<a name=\"prop95\" id=\"prop95\"></a>\r\n",
    "\r\n",
    "Proof of Proposition 9.5:<br><br> \r\n",
    "\r\n",
    "First suppose that <em>n</em> is not prime. Then we can express <em>n</em> = <em>a b</em>, where <em>a</em> and <em>b</em> are less then <em>n</em>. \r\n",
    "If <em>e</em> represents the identity element of <em>Z<sub>n</sub></em>, we would then have\r\n",
    "<p style='text-align: center;'>(<em>a e</em>)&middot;(<em>b e</em>) = (<em>a b</em>) (<em>e</em>&middot;<em>e</em>) = (<em>a b</em>) <em>e</em> = <em>n e</em> = 0.</p>\r\n",
    "\r\n",
    "But since <em>a</em> and <em>b</em> are both less than <em>n</em>, (<em>a e</em>) and (<em>b e</em>) are both nonzero. \r\n",
    "Hence, these would both be zero divisors in <em>Z<sub>n</sub></em>.<br><br>\r\n",
    "\r\n",
    "Now suppose that <em>n</em> is prime, and that there are two nonzero elements (<em>a e</em>) and (<em>b e</em>) such that (<em>a e</em>)&middot;(<em>b e</em>) = 0.  Then\r\n",
    "<p style='text-align: center;'>(<em>a e</em>)&middot;(<em>b e</em>) = (<em>a b</em>) (<em>e</em>&middot;<em>e</em>) = (<em>a b</em>) e = 0.</p>\r\n",
    "This would imply that (<em>a b</em>) is a multiple of <em>n</em>. But since <em>n</em> is prime, we would have to conclude that either \r\n",
    "<em>a</em> or <em>b</em> is a multiple of <em>n</em>. But this contradicts the fact that both (<em>a e</em>) and (<em>b e</em>) are nonzero. Thus, if <em>n</em> is prime, \r\n",
    "there are no zero divisors in <em>Z<sub>n</sub></em>.<br><br>\r\n",
    "\r\n",
    "<a href=\"#prop95ret\">Return to text</a>\r\n",
    "\r\n",
    "<br><br><br><br><br><br><br><br><br><br><br><br><br><br><br><br><br><br><br><br><br><br><br><br><br><br><br><br><br><br><br><br><br><br><br><br><br><br><br><br><br><br> \r\n",
    "\r\n",
    "<a name=\"lem94\" id=\"lem94\"></a>\r\n",
    "\r\n",
    "Proof of Lemma 9.4:<br><br> \r\n",
    "The tempting thing to do is to multiply both sides of the equation by <em>a</em><sup>-1</sup>. But the inverse of <em>a</em> may not exist, so we have to use the \r\n",
    "properties of rings instead.<br><br>\r\n",
    "\r\n",
    "If <em>a</em>&middot;<em>b</em> = <em>a</em>&middot;<em>c</em>, then we have\r\n",
    "<p style='text-align: center;'>0 = <em>a</em>&middot;<em>b</em> &minus; <em>a</em>&middot;<em>c</em> = <em>a</em>&middot;(<em>b</em> &minus; <em>c</em>).</p>\r\n",
    "But since <em>a</em> is not a zero-divisor and is nonzero, we must have that <em>b</em> &minus; <em>c</em> = 0. Hence <em>b</em> = <em>c</em>.<br><br>\r\n",
    "\r\n",
    "Likewise, if <em>b</em>&middot;<em>a</em> = <em>c</em>&middot;<em>a</em>, then\r\n",
    "<p style='text-align: center;'>0 = <em>b</em>&middot;<em>a</em> &minus; <em>c</em>&middot;<em>a</em> = (<em>b</em> &minus; <em>c</em>)&middot;<em>a</em>,</p>\r\n",
    "and since <em>a</em> is nonzero and not a zero divisor, <em>b</em> &minus; <em>c</em> = 0, and so <em>b</em> = <em>c</em>.<br><br>\r\n",
    "\r\n",
    "<a href=\"#lem94ret\">Return to text</a>\r\n",
    "\r\n",
    "<br><br><br><br><br><br><br><br><br><br><br><br><br><br><br><br><br><br><br><br><br><br><br><br><br><br><br><br><br><br><br><br><br><br><br><br><br><br><br><br><br><br>\r\n",
    "\r\n",
    "<a name=\"prop96\" id=\"prop96\"></a>\r\n",
    "\r\n",
    "Proof of Proposition 9.6:<br><br> \r\n",
    "\r\n",
    "To utilize the fact that <em>R</em> is finite, let us construct a sequence of powers of <em>b</em>:\r\n",
    "<p style='text-align: center;'>{<em>b</em><sup>1</sup>, <em>b</em><sup>2</sup>, <em>b</em><sup>3</sup>, <em>b</em><sup>4</sup>, &hellip;}</p>\r\n",
    "Since <em>R</em> is finite, two elements of this sequence must be equal, say <em>b<sup>m</sup></em> = <em>b<sup>n</sup></em> for <em>m</em> < <em>n</em>.\r\n",
    "Using the law of cancellation, we have <em>b</em><sup><em>m</em>&minus;1</sup> = <em>b</em><sup><em>n</em>&minus;1</sup>. Continuing this way, we eventually get\r\n",
    "<p style='text-align: center;'><em>b</em> = <em>b</em><sup><em>n</em>&minus;<em>m</em>+1</sup></p>\r\n",
    "(It is tempting to use Lemma 9.4 one more time to get <em>e</em> = <em>b</em><sup><em>n</em>&minus;<em>m</em></sup>, but unfortunately we have yet to prove that <em>R</em> \r\n",
    "has a unity.)<br><br>\r\n",
    "\r\n",
    "If we now let  <em>a</em> = <em>n</em> &minus; <em>m</em> + 1, we have that <em>a</em> > 1 and <em>b<sup>a</sup></em> = <em>b</em>.<br><br>\r\n",
    "\r\n",
    "Next, let us show that <em>b</em><sup><em>a</em>&minus;1</sup> is a unity element in <em>R</em>. For any element <em>x</em> in <em>R</em>, we have\r\n",
    "<p style='text-align: center;'><em>x</em>&middot;<em>b<sup>a</sup></em> = <em>x</em>&middot;<em>b</em>,</p>\r\n",
    "and since <em>b</em> is nonzero and not a zero divisor, we can use the law of cancellation to get \r\n",
    "<p style='text-align: center;'><em>x</em>&middot;<em>b</em><sup><em>a</em>&minus;1</sup> = <em>x</em>.</p>\r\n",
    "Likewise, since <em>b<sup>a</sup></em>&middot;<em>x</em> = <em>b</em>&middot;<em>x</em>, we have that <em>b</em><sup><em>a</em>&minus;1</sup>&middot;<em>x</em> = <em>x</em>. \r\n",
    "Hence, there is a unity element in <em>R</em>, namely <em>b</em><sup><em>a</em>&minus;1</sup>.<br><br>\r\n",
    "\r\n",
    "Finally, we need to construct an inverse for the element <em>b</em>. If <em>a</em> = 2, then we have just shown that <em>b</em> = <em>e</em>, and hence <em>b</em> is its \r\n",
    "own inverse. If <em>a</em> > 2, consider the element <em>b</em><sup><em>a</em>&minus;2</sup>.  We have that\r\n",
    "<p style='text-align: center;'><em>b</em>&middot;<em>b</em><sup><em>a</em>&minus;2</sup> = <em>b</em><sup><em>a</em>&minus;1</sup> = <em>e</em>, and \r\n",
    "<em>b</em><sup><em>a</em>&minus;2</sup>&middot;<em>b</em> = <em>b</em><sup><em>a</em>&minus;1</sup> = <em>e</em>.</p>  \r\n",
    "So <em>b</em><sup><em>a</em>&minus;2</sup> is the multiplicative inverse of <em>b</em>.<br><br>\r\n",
    "\r\n",
    "<a href=\"#prop96ret\">Return to text</a>\r\n",
    "\r\n",
    "<br><br><br><br><br><br><br><br><br><br><br><br><br><br><br><br><br><br><br><br><br><br><br><br><br><br><br><br><br><br><br><br><br><br><br><br><br><br><br><br><br><br>\r\n",
    "\r\n",
    "<a name=\"cor91\" id=\"cor91\"></a>\r\n",
    "\r\n",
    "Proof of Corollary 9.1:<br><br> \r\n",
    "\r\n",
    "The trivial ring is already considered to be a division ring, so we may assume that the ring is nontrivial. Then there exists a nonzero element that is not a zero divisor, \r\n",
    "so by Proposition 9.6, the ring has a unity. Also by Proposition 9.6, every nonzero element will have a multiplicative inverse, so the ring is a division ring.<br><br>\r\n",
    " \r\n",
    "<a href=\"#cor91ret\">Return to text</a>\r\n",
    "\r\n",
    "<br><br><br><br><br><br><br><br><br><br><br><br><br><br><br><br><br><br><br><br><br><br><br><br><br><br><br><br><br><br><br><br><br><br><br><br><br><br><br><br><br><br>  \r\n",
    " \r\n",
    "<a name=\"cor92\" id=\"cor92\"></a>\r\n",
    "\r\n",
    "Proof of Corollary 9.2:<br><br>  \r\n",
    " \r\n",
    "If <em>n</em> = 1, then the ring <em>Z<sub>n</sub></em> = <em>Z</em><sub>1</sub> is the trivial ring, which we did not consider to be a field. \r\n",
    "We may suppose that <em>n</em> > 1. If <em>n</em> is prime, then by Proposition 9.5, <em>Z<sub>n</sub></em> has no zero divisors, and so by \r\n",
    "Corollary 9.1 <em>Z<sub>n</sub></em> is a division ring. Since <em>Z<sub>n</sub></em> is obviously commutative, this tells us that <em>Z<sub>n</sub></em> is a \r\n",
    "field.<br><br>\r\n",
    "\r\n",
    "Now suppose that <em>n</em> > 1 and <em>n</em> is not prime. By Proposition 9.5, <em>Z<sub>n</sub></em> has zero divisors, which cannot exist is a field according \r\n",
    "to Proposition 9.2. Therefore <em>Z<sub>n</sub></em> is a field if, and only if, <em>n</em> is prime.<br><br>\r\n",
    " \r\n",
    "<a href=\"#cor92ret\">Return to text</a>\r\n",
    "\r\n",
    "<br><br><br><br><br><br><br><br><br><br><br><br><br><br><br><br><br><br><br><br><br><br><br><br><br><br><br><br><br><br><br><br><br><br><br><br><br><br><br><br><br><br> \r\n",
    " \r\n",
    "<a name=\"sec9p\" id=\"sec9p\"></a>\r\n",
    "<h1><em>Sage</em> Interactive Problems</h1>\r\n",
    "\r\n",
    "<br>\r\n",
    "&sect;9.1 #20)<br>\r\n",
    "We saw that the ring <em>Z</em><sub>6</sub> had zero divisors.  We can enter this ring in <em>Sage</em> with the command<br>"
   ]
  },
  {
   "cell_type": "code",
   "execution_count": 0,
   "metadata": {
    "collapsed": false
   },
   "outputs": [
   ],
   "source": [
    "R = ZRing(6); R"
   ]
  },
  {
   "cell_type": "markdown",
   "metadata": {
    "collapsed": false
   },
   "source": [
    "<br>\r\n",
    "Try this with <em>Z</em><sub>5</sub>, <em>Z</em><sub>7</sub>, <em>Z</em><sub>8</sub>, <em>Z</em><sub>9</sub>, <em>Z</em><sub>10</sub>, <em>Z</em><sub>11</sub>, and \r\n",
    "<em>Z</em><sub>12</sub>, and form the multiplication tables of these rings.  Which ones have zero divisors?  Which ones are fields?<br>"
   ]
  },
  {
   "cell_type": "markdown",
   "metadata": {
    "collapsed": false
   },
   "source": [
    "<br>\r\n",
    "&sect;9.1 #21)<br>\r\n",
    "Use <em>Sage</em> to show that quaternion multiplication is associative.  That is, if we define<br>"
   ]
  },
  {
   "cell_type": "code",
   "execution_count": 0,
   "metadata": {
    "collapsed": false
   },
   "outputs": [
   ],
   "source": [
    "Q = InitQuaternions()\r\n",
    "var(\"a1 a2 a3 b1 b2 b3 c1 c2 c3 d1 d2 d3\")\r\n",
    "x = a1 + b1*i + c1*j + d1*k\r\n",
    "y = a2 + b2*i + c2*j + d2*k\r\n",
    "z = a3 + b3*i + c3*j + d3*k"
   ]
  },
  {
   "cell_type": "markdown",
   "metadata": {
    "collapsed": false
   },
   "source": [
    "<br>\r\n",
    "then show that (<em>x</em>&middot;<em>y</em>)&middot;<em>z</em> = <em>x</em>&middot;(<em>y</em>&middot;<em>z</em>).<br>"
   ]
  },
  {
   "cell_type": "markdown",
   "metadata": {
    "collapsed": false
   },
   "source": [
    "<br>\r\n",
    "&sect;9.2 #18)<br>\r\n",
    "Use <em>Sage</em> or define a ring of order 2 that has no identity element. Show both the addition table and the multiplication table.<br>"
   ]
  },
  {
   "cell_type": "markdown",
   "metadata": {
    "collapsed": false
   },
   "source": [
    "<br>\r\n",
    "&sect;9.2 #19)<br>\r\n",
    "Use <em>Sage</em> to find a non-commutative ring of order 8, for which the additive group is isomorphic to <em>Z</em><sub>24</sub><sup>*</sup>, formed \r\n",
    "from the basis {<em>a</em>, <em>b</em>, <em>c</em>}, and for which \r\n",
    "<p style='text-align: center;'><em>a</em>&middot;<em>b</em> = <em>a</em>, <em>b</em>&middot;<em>a</em> = <em>b</em>, \r\n",
    "<em>a</em>&middot;<em>c</em> = <em>c</em>, and <em>c</em>&middot;<em>a</em> = <em>a</em>.</p>\r\n",
    " \r\n",
    "(Hint: Using the associtivity law, determine what <em>a</em><sup>2</sup>, <em>b</em><sup>2</sup>, and <em>c</em><sup>2</sup> must be. Then show that \r\n",
    "<em>c</em>&middot;<em>b</em> must commute with <em>a</em>. Use trial and error to determine <em>b</em>&middot;<em>c</em>.<br>"
   ]
  },
  {
   "cell_type": "markdown",
   "metadata": {
    "collapsed": false
   },
   "source": [
    "<br>\r\n",
    "&sect;9.2 #20)<br>\r\n",
    "Use <em>Sage</em> to find a non-commutative ring of order 8, for which the additive group is isomorphic to <em>Z</em><sub>24</sub><sup>*</sup>, formed \r\n",
    "from the basis {<em>a</em>, <em>b</em>, <em>c</em>}, and for which\r\n",
    "<p style='text-align: center;'><em>a</em><sup>2</sup> = <em>a</em> + <em>c</em>, <em>a</em>&middot;<em>b</em> = <em>b</em> + <em>c</em>, \r\n",
    "<em>b</em>&middot;<em>a</em> = <em>b</em>, and <em>c</em>&middot;<em>b</em> = <em>c</em>.</p>"
   ]
  },
  {
   "cell_type": "markdown",
   "metadata": {
    "collapsed": false
   },
   "source": [
    "<br>\r\n",
    "&sect;9.2 #21)<br>\r\n",
    "Define in <em>Sage</em> a non-commutative ring of order 4.<br><br>\r\n",
    "(Hint:  By Problem 12, the additive group must be isomorphic to <em>Z</em><sub>8</sub><sup>*</sup>.)<br>"
   ]
  },
  {
   "cell_type": "markdown",
   "metadata": {
    "collapsed": false
   },
   "source": [
    "<br>\r\n",
    "&sect;9.3 #19)<br>\r\n",
    "9.4 ) Define in <em>Sage</em> the smallest non-commutative ring <em>T</em><sub>4</sub> described in the text. Use <em>a</em> and <em>c</em> for the generators.<br>"
   ]
  },
  {
   "cell_type": "markdown",
   "metadata": {
    "collapsed": false
   },
   "source": [
    "<br>\r\n",
    "&sect;9.3 #20)<br>\r\n",
    "Define in <em>Sage</em> the smallest non-commutative unity ring <em>T</em><sub>8</sub> described in the text.<br><br>\r\n",
    "(Hint: The basis can be chosen to be <em>e</em>, <em>a</em>, and <em>b</em>.)<br>"
   ]
  },
  {
   "cell_type": "markdown",
   "metadata": {
    "collapsed": false
   },
   "source": [
    "</font>\r\n",
    "\r\n",
    "</body>\r\n",
    "\r\n",
    "</html>"
   ]
  }
 ],
 "metadata": {
  "kernelspec": {
   "display_name": "SageMath (stable)",
   "name": "sagemath"
  },
  "language_info": {
   "codemirror_mode": {
    "name": "ipython",
    "version": 2
   },
   "file_extension": ".py",
   "mimetype": "text/x-python",
   "name": "python",
   "nbconvert_exporter": "python",
   "pygments_lexer": "ipython2",
   "version": "2.7.14"
  }
 },
 "nbformat": 4,
 "nbformat_minor": 0
}