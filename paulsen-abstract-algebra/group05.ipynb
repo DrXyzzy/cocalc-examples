{
 "cells": [
  {
   "cell_type": "markdown",
   "metadata": {
    "collapsed": false
   },
   "source": [
    "<!-- Group05 -->\n",
    "<html>\n",
    "<body>\n",
    "\n",
    "<!-- To make the size of the font bigger for presentations, change the following command from +1 to +2 -->\n",
    "<font size=\"+1\">\n",
    "\n",
    "<p style='font-size: 36px;font-family: Arial;font-style: italic;font-weight: bold;color: #FF00FF;background-color: #80FFFF;text-align: center;'>\n",
    "Abstract Algebra: An Interactive Approach, 2e\n",
    "</p>\n",
    "\n",
    "<p style='font-family: Geneva;font-style: italic;color: #0000FF;background-color: #FFFFFF;'>\n",
    "&copy;2015 This notebook is provided with the textbook, &quot;Abstract Algebra: An Interactive Approach, 2nd Ed.&quot; by William Paulsen. Users of this notebook are encouraged to buy the textbook.\n",
    "</p>\n",
    "\n",
    "\n",
    "\n",
    "<p style='font-size: 36px;font-family: New York;font-weight: bold;color: #000000;background-color: #FFFFFF;text-align: center;border: 1px;border-style: \n",
    "solid;border-color: #000000;'>\n",
    "Chapter 5<br>\n",
    "Permutation Groups\n",
    "</p>\n",
    "\n",
    "\n",
    "<p style='text-align: center;'>Initialization:  This cell MUST be evaluated first:</p>"
   ]
  },
  {
   "cell_type": "code",
   "execution_count": 0,
   "metadata": {
    "collapsed": false
   },
   "outputs": [
   ],
   "source": [
    "%display latex\n",
    "try:\n",
    "    load('absalgtext.sage')\n",
    "except IOError:\n",
    "    load('/media/sf_sage/absalgtext.sage')"
   ]
  },
  {
   "cell_type": "markdown",
   "metadata": {
    "collapsed": false
   },
   "source": [
    "<br>\r\n",
    "<a href=\"#sec51\">Symmetric Groups</a><br>\r\n",
    "<a href=\"#sec52\">Cycles</a><br>\r\n",
    "<a href=\"#sec53\">Cayley's Theorem</a><br>\r\n",
    "<a href=\"#sec54\">Numbering the Permutations</a><br>\r\n",
    "<a href=\"#sec5p\"><em>Sage</em> Interactive Problems</a><br>\r\n",
    "\r\n",
    "<a name=\"sec51\" id=\"sec51\"></a>\r\n",
    "<h1>Symmetric Groups</h1>\r\n",
    "\r\n",
    "<br>\r\n",
    "In this chapter we will explore one class of finite groups that has important applications. These groups are called the <em>permutation groups</em>, \r\n",
    "or <em>symmetric groups</em>. We have already seen <em>S</em><sub>3</sub>, the permutation group on 3 objects.<br><br>\r\n",
    "\r\n",
    "Recall that we used 3 different colored books to illustrate this group. We can easily generalize this to consider the group of all permutations of <em>n</em> objects. For example, with four books the beginning position would be<br>"
   ]
  },
  {
   "cell_type": "code",
   "execution_count": 0,
   "metadata": {
    "collapsed": false
   },
   "outputs": [
   ],
   "source": [
    "InitBooks(4)"
   ]
  },
  {
   "cell_type": "markdown",
   "metadata": {
    "collapsed": false
   },
   "source": [
    "<br>\r\n",
    " We have seen several ways of rearranging the books. We can swap the first two books with the command<br>"
   ]
  },
  {
   "cell_type": "code",
   "execution_count": 0,
   "metadata": {
    "collapsed": false
   },
   "outputs": [
   ],
   "source": [
    "MoveBooks(First)"
   ]
  },
  {
   "cell_type": "markdown",
   "metadata": {
    "collapsed": false
   },
   "source": [
    "<br>\r\n",
    "We can also swap the last two books:<br>"
   ]
  },
  {
   "cell_type": "code",
   "execution_count": 0,
   "metadata": {
    "collapsed": false
   },
   "outputs": [
   ],
   "source": [
    "MoveBooks(Last)"
   ]
  },
  {
   "cell_type": "markdown",
   "metadata": {
    "collapsed": false
   },
   "source": [
    "<br>\r\n",
    "We can move the first book to the end, sliding the other books to the left.<br>"
   ]
  },
  {
   "cell_type": "code",
   "execution_count": 0,
   "metadata": {
    "collapsed": false
   },
   "outputs": [
   ],
   "source": [
    "MoveBooks(Left)"
   ]
  },
  {
   "cell_type": "markdown",
   "metadata": {
    "collapsed": false
   },
   "source": [
    "<br>\r\n",
    "The opposite of the proceedure is to move the last book to the beginning.<br>"
   ]
  },
  {
   "cell_type": "code",
   "execution_count": 0,
   "metadata": {
    "collapsed": false
   },
   "outputs": [
   ],
   "source": [
    "MoveBooks(Right)"
   ]
  },
  {
   "cell_type": "markdown",
   "metadata": {
    "collapsed": false
   },
   "source": [
    "<br>\r\n",
    "We can also reverse the order of the books.<br>"
   ]
  },
  {
   "cell_type": "code",
   "execution_count": 0,
   "metadata": {
    "collapsed": false
   },
   "outputs": [
   ],
   "source": [
    "MoveBooks(Rev)"
   ]
  },
  {
   "cell_type": "markdown",
   "metadata": {
    "collapsed": false
   },
   "source": [
    "<br>\r\n",
    "Finally, we can leave the books alone.<br>"
   ]
  },
  {
   "cell_type": "code",
   "execution_count": 0,
   "metadata": {
    "collapsed": false
   },
   "outputs": [
   ],
   "source": [
    "MoveBooks(Stay)"
   ]
  },
  {
   "cell_type": "markdown",
   "metadata": {
    "collapsed": false
   },
   "source": [
    "<br>\r\n",
    "For three books, any permutation can be obtained by just one of these six commands. \r\n",
    "But it is apparent that with four books, there are even more ways to rearrange the books. One possible operation would be to move the left-most book two positions to \r\n",
    "the right. This can be accomplished by the sequence<br>"
   ]
  },
  {
   "cell_type": "code",
   "execution_count": 0,
   "metadata": {
    "collapsed": false
   },
   "outputs": [
   ],
   "source": [
    "MoveBooks(Left, Last)"
   ]
  },
  {
   "cell_type": "markdown",
   "metadata": {
    "collapsed": false
   },
   "source": [
    "<br>\r\n",
    "EXPERIMENT:<br>\r\n",
    "Using just the six commands mentioned above, put the books back into their original positions (Red, Red, Purple, Orange). \r\n",
    "Try doing this using the fewest number of commands.<br>"
   ]
  },
  {
   "cell_type": "markdown",
   "metadata": {
    "collapsed": false
   },
   "source": [
    "<br>\r\n",
    "This experment shows that it can be somewhat tricky to represent any permutation order using only a few commands. The more books there are, the more of a puzzle \r\n",
    "this can be. Let us introduce a notation for a permutation of books that explicitly states where each book ends up.<br><br>\r\n",
    "\r\n",
    "One natural way to do this is to number the books in consecutive order, and determine the numbers in the final position. For example, if we put the books in their \r\n",
    "original order, <br>"
   ]
  },
  {
   "cell_type": "code",
   "execution_count": 0,
   "metadata": {
    "collapsed": false
   },
   "outputs": [
   ],
   "source": [
    "InitBooks(4)"
   ]
  },
  {
   "cell_type": "markdown",
   "metadata": {
    "collapsed": false
   },
   "source": [
    "<br>\r\n",
    "and then shift the books to the left,<br>"
   ]
  },
  {
   "cell_type": "code",
   "execution_count": 0,
   "metadata": {
    "collapsed": false
   },
   "outputs": [
   ],
   "source": [
    "MoveBooks(Left)"
   ]
  },
  {
   "cell_type": "markdown",
   "metadata": {
    "collapsed": false
   },
   "source": [
    "<br>\r\n",
    "we find that if the books started in 1, 2, 3, 4 order, the final position will be 2, 3, 4, 1.  Here, book 1 is red, book 2 is green, book 3 is purple, and book 4 is orange.  Since the final position of the books (green, purple, orange, red) translates to 2, 3, 4, 1.  We write the ending position below the starting position, as follows.\r\n",
    "<br><br>\r\n",
    "<table align=\"center\" width=\"160\" border=\"0\" cellspacing=\"0\" cellpadding=\"0\">\r\n",
    "  <tr>\r\n",
    "    <td align=\"right\" valign=\"bottom\">&#9115;</td>\r\n",
    "    <td align=\"center\">1</td>\r\n",
    "    <td align=\"center\">2</td>\r\n",
    "    <td align=\"center\">3</td>\r\n",
    "    <td align=\"center\">4</td>\r\n",
    "    <td align=\"left\" valign=\"bottom\">&#9118;</td>\r\n",
    "  </tr>\r\n",
    "  <tr>\r\n",
    "    <td align=\"right\" valign=\"top\">&#9117;</td>\r\n",
    "    <td align=\"center\">2</td>\r\n",
    "    <td align=\"center\">3</td>\r\n",
    "    <td align=\"center\">4</td>\r\n",
    "    <td align=\"center\">1</td>\r\n",
    "    <td align=\"left\" valign=\"top\">&#9120;</td>\r\n",
    "  </tr>\r\n",
    "</table>\r\n",
    "<br>\r\n",
    "We can now multiply the permutations by first performing one action, and then the other. For example, doing the opperation <strong>Left</strong>, followed \r\n",
    "by <strong>Last</strong>, leaves us with the books in the order\r\n",
    "<p style='text-align: center;'>green purple red orange</p>\r\n",
    "which, when compared to the original position, translates to 2, 3, 1, 4, giving the permutation<br><br>\r\n",
    "\r\n",
    "<table align=\"center\" width=\"160\" border=\"0\" cellspacing=\"0\" cellpadding=\"0\">\r\n",
    "  <tr>\r\n",
    "    <td align=\"right\" valign=\"bottom\">&#9115;</td>\r\n",
    "    <td align=\"center\">1</td>\r\n",
    "    <td align=\"center\">2</td>\r\n",
    "    <td align=\"center\">3</td>\r\n",
    "    <td align=\"center\">4</td>\r\n",
    "    <td align=\"left\" valign=\"bottom\">&#9118;</td>\r\n",
    "  </tr>\r\n",
    "  <tr>\r\n",
    "    <td align=\"right\" valign=\"top\">&#9117;</td>\r\n",
    "    <td align=\"center\">2</td>\r\n",
    "    <td align=\"center\">3</td>\r\n",
    "    <td align=\"center\">1</td>\r\n",
    "    <td align=\"center\">4</td>\r\n",
    "    <td align=\"left\" valign=\"top\">&#9120;</td>\r\n",
    "  </tr>\r\n",
    "</table>\r\n",
    "<br>\r\n",
    "We write the <strong>Left</strong>&middot;<strong>Last</strong> as a product of two permutations<br><br>\r\n",
    "<table align=\"center\" width=\"500\" border=\"0\" cellspacing=\"0\" cellpadding=\"0\">\r\n",
    "  <tr>\r\n",
    "    <td align=\"right\" valign=\"bottom\">&#9115;</td>\r\n",
    "    <td align=\"center\">1</td>\r\n",
    "    <td align=\"center\">2</td>\r\n",
    "    <td align=\"center\">3</td>\r\n",
    "    <td align=\"center\">4</td>\r\n",
    "    <td align=\"left\" valign=\"bottom\">&#9118;</td>\r\n",
    "    <td rowspan = \"2\" align=\"center\">&middot;</td>\r\n",
    "    <td align=\"right\" valign=\"bottom\">&#9115;</td>\r\n",
    "    <td align=\"center\">1</td>\r\n",
    "    <td align=\"center\">2</td>\r\n",
    "    <td align=\"center\">3</td>\r\n",
    "    <td align=\"center\">4</td>\r\n",
    "    <td align=\"left\" valign=\"bottom\">&#9118;</td>\r\n",
    "    <td rowspan = \"2\" align=\"center\">=</td>\r\n",
    "    <td align=\"right\" valign=\"bottom\">&#9115;</td>\r\n",
    "    <td align=\"center\">1</td>\r\n",
    "    <td align=\"center\">2</td>\r\n",
    "    <td align=\"center\">3</td>\r\n",
    "    <td align=\"center\">4</td>\r\n",
    "    <td align=\"left\" valign=\"bottom\">&#9118;</td>\r\n",
    "  </tr>\r\n",
    "  <tr>\r\n",
    "    <td align=\"right\" valign=\"top\">&#9117;</td>\r\n",
    "    <td align=\"center\">2</td>\r\n",
    "    <td align=\"center\">3</td>\r\n",
    "    <td align=\"center\">4</td>\r\n",
    "    <td align=\"center\">1</td>\r\n",
    "    <td align=\"left\" valign=\"top\">&#9120;</td>\r\n",
    "    <td align=\"right\" valign=\"top\">&#9117;</td>\r\n",
    "    <td align=\"center\">1</td>\r\n",
    "    <td align=\"center\">2</td>\r\n",
    "    <td align=\"center\">4</td>\r\n",
    "    <td align=\"center\">3</td>\r\n",
    "    <td align=\"left\" valign=\"top\">&#9120;</td>\r\n",
    "    <td align=\"right\" valign=\"top\">&#9117;</td>\r\n",
    "    <td align=\"center\">2</td>\r\n",
    "    <td align=\"center\">3</td>\r\n",
    "    <td align=\"center\">1</td>\r\n",
    "    <td align=\"center\">4</td>\r\n",
    "    <td align=\"left\" valign=\"top\">&#9120;</td>\r\n",
    "  </tr>\r\n",
    "</table>\r\n",
    "<br>\r\n",
    "\r\n",
    "If we did these operations in the other order, we would get<br><br>\r\n",
    "<table align=\"center\" width=\"500\" border=\"0\" cellspacing=\"0\" cellpadding=\"0\">\r\n",
    "  <tr>\r\n",
    "    <td align=\"right\" valign=\"bottom\">&#9115;</td>\r\n",
    "    <td align=\"center\">1</td>\r\n",
    "    <td align=\"center\">2</td>\r\n",
    "    <td align=\"center\">3</td>\r\n",
    "    <td align=\"center\">4</td>\r\n",
    "    <td align=\"left\" valign=\"bottom\">&#9118;</td>\r\n",
    "    <td rowspan = \"2\" align=\"center\">&middot;</td>\r\n",
    "    <td align=\"right\" valign=\"bottom\">&#9115;</td>\r\n",
    "    <td align=\"center\">1</td>\r\n",
    "    <td align=\"center\">2</td>\r\n",
    "    <td align=\"center\">3</td>\r\n",
    "    <td align=\"center\">4</td>\r\n",
    "    <td align=\"left\" valign=\"bottom\">&#9118;</td>\r\n",
    "    <td rowspan = \"2\" align=\"center\">=</td>\r\n",
    "    <td align=\"right\" valign=\"bottom\">&#9115;</td>\r\n",
    "    <td align=\"center\">1</td>\r\n",
    "    <td align=\"center\">2</td>\r\n",
    "    <td align=\"center\">3</td>\r\n",
    "    <td align=\"center\">4</td>\r\n",
    "    <td align=\"left\" valign=\"bottom\">&#9118;</td>\r\n",
    "  </tr>\r\n",
    "  <tr>\r\n",
    "    <td align=\"right\" valign=\"top\">&#9117;</td>\r\n",
    "    <td align=\"center\">1</td>\r\n",
    "    <td align=\"center\">2</td>\r\n",
    "    <td align=\"center\">4</td>\r\n",
    "    <td align=\"center\">3</td>\r\n",
    "    <td align=\"left\" valign=\"top\">&#9120;</td>\r\n",
    "    <td align=\"right\" valign=\"top\">&#9117;</td>\r\n",
    "    <td align=\"center\">2</td>\r\n",
    "    <td align=\"center\">3</td>\r\n",
    "    <td align=\"center\">4</td>\r\n",
    "    <td align=\"center\">1</td>\r\n",
    "    <td align=\"left\" valign=\"top\">&#9120;</td>\r\n",
    "    <td align=\"right\" valign=\"top\">&#9117;</td>\r\n",
    "    <td align=\"center\">2</td>\r\n",
    "    <td align=\"center\">4</td>\r\n",
    "    <td align=\"center\">3</td>\r\n",
    "    <td align=\"center\">1</td>\r\n",
    "    <td align=\"left\" valign=\"top\">&#9120;</td>\r\n",
    "  </tr>\r\n",
    "</table>\r\n",
    "<br>\r\n",
    "\r\n",
    "Obviously, <strong>Left</strong> &middot; <strong>Last</strong> does not equal <strong>Last</strong> &middot; <strong>Left</strong>.<br><br>\r\n",
    "\r\n",
    "We can also view a permutation as a <em>function</em> whose domain is a subset of the integers. Consider the functions <em>&fnof;</em>(<em>x</em>) and \r\n",
    "<em>&#981;</em>(<em>x</em>) given by the table<br><br>\r\n",
    "\r\n",
    "<table align = \"center\" width=\"300\" border=\"0\">\r\n",
    "  <tr>\r\n",
    "    <td align = \"center\"><em>&fnof;</em>(1) = 2</td>\r\n",
    "    <td align = \"center\"><em>&#981;</em>(1) = 2</td>\r\n",
    "  </tr>\r\n",
    "  <tr>\r\n",
    "    <td align = \"center\"><em>&fnof;</em>(2) = 3</td>\r\n",
    "    <td align = \"center\"><em>&#981;</em>(2) = 3</td>\r\n",
    "  </tr>\r\n",
    "  <tr>\r\n",
    "    <td align = \"center\"><em>&fnof;</em>(3) = 1</td>\r\n",
    "    <td align = \"center\"><em>&#981;</em>(3) = 4</td>\r\n",
    "  </tr>\r\n",
    "  <tr>\r\n",
    "    <td align = \"center\"><em>&fnof;</em>(4) = 4</td>\r\n",
    "    <td align = \"center\"><em>&#981;</em>(4) = 1.</td>\r\n",
    "  </tr>\r\n",
    "</table>\r\n",
    "<br>\r\n",
    "We could denote these two functions by the same type of notation, as follows:<br><br>\r\n",
    "<table align=\"center\" width=\"500\" border=\"0\" cellspacing=\"0\" cellpadding=\"0\">\r\n",
    "  <tr>\r\n",
    "    <td rowspan = \"2\" align=\"right\"><em>&fnof;</em>(<em>x</em>) =</td>\r\n",
    "    <td align=\"right\" valign=\"bottom\">&#9115;</td>\r\n",
    "    <td align=\"center\">1</td>\r\n",
    "    <td align=\"center\">2</td>\r\n",
    "    <td align=\"center\">3</td>\r\n",
    "    <td align=\"center\">4</td>\r\n",
    "    <td align=\"left\" valign=\"bottom\">&#9118;</td>\r\n",
    "    <td rowspan = \"2\" align=\"right\"><em>&#981;</em>(<em>x</em>) =</td>\r\n",
    "    <td align=\"right\" valign=\"bottom\">&#9115;</td>\r\n",
    "    <td align=\"center\">1</td>\r\n",
    "    <td align=\"center\">2</td>\r\n",
    "    <td align=\"center\">3</td>\r\n",
    "    <td align=\"center\">4</td>\r\n",
    "    <td align=\"left\" valign=\"bottom\">&#9118;</td>\r\n",
    "  </tr>\r\n",
    "  <tr>\r\n",
    "    <td align=\"right\" valign=\"top\">&#9117;</td>\r\n",
    "    <td align=\"center\">2</td>\r\n",
    "    <td align=\"center\">3</td>\r\n",
    "    <td align=\"center\">1</td>\r\n",
    "    <td align=\"center\">4</td>\r\n",
    "    <td align=\"left\" valign=\"top\">&#9120;</td>\r\n",
    "    <td align=\"right\" valign=\"top\">&#9117;</td>\r\n",
    "    <td align=\"center\">2</td>\r\n",
    "    <td align=\"center\">3</td>\r\n",
    "    <td align=\"center\">4</td>\r\n",
    "    <td align=\"center\">1</td>\r\n",
    "    <td align=\"left\" valign=\"top\">&#9120;</td>\r\n",
    "  </tr>\r\n",
    "</table>\r\n",
    "<br>\r\n",
    "\r\n",
    "Notice that each column shows the value of <em>&fnof;</em>(<em>x</em>) or <em>&#981;</em>(<em>x</em>) directly beneath <em>x</em>. Since the range and domain of \r\n",
    "these functions are the same, we can consider the composition of the two functions. Let us consider <em>&fnof;</em>&middot;<em>&#981;</em>:<br>\r\n",
    "<p style='text-align: center;'><em>&fnof;</em>(<em>&#981;</em>(1)) = <em>&fnof;</em>(2) = 3<br>\r\n",
    "                               <em>&fnof;</em>(<em>&#981;</em>(2)) = <em>&fnof;</em>(3) = 1<br>\r\n",
    "                               <em>&fnof;</em>(<em>&#981;</em>(3)) = <em>&fnof;</em>(4) = 4<br>\r\n",
    "                               <em>&fnof;</em>(<em>&#981;</em>(4)) = <em>&fnof;</em>(1) = 2</p>\r\n",
    "\r\n",
    "So the composition function <em>&fnof;</em>(<em>&#981;</em>(<em>x</em>)), that is, of doing <em>&#981;</em> first, and then <em>&fnof;</em>, can be written as<br><br>\r\n",
    "<table align=\"center\" width=\"160\" border=\"0\" cellspacing=\"0\" cellpadding=\"0\">\r\n",
    "  <tr>\r\n",
    "    <td align=\"right\" valign=\"bottom\">&#9115;</td>\r\n",
    "    <td align=\"center\">1</td>\r\n",
    "    <td align=\"center\">2</td>\r\n",
    "    <td align=\"center\">3</td>\r\n",
    "    <td align=\"center\">4</td>\r\n",
    "    <td align=\"left\" valign=\"bottom\">&#9118;</td>\r\n",
    "  </tr>\r\n",
    "  <tr>\r\n",
    "    <td align=\"right\" valign=\"top\">&#9117;</td>\r\n",
    "    <td align=\"center\">3</td>\r\n",
    "    <td align=\"center\">1</td>\r\n",
    "    <td align=\"center\">4</td>\r\n",
    "    <td align=\"center\">2</td>\r\n",
    "    <td align=\"left\" valign=\"top\">&#9120;</td>\r\n",
    "  </tr>\r\n",
    "</table>\r\n",
    "<br>\r\n",
    "We can write this permutation as <em>&fnof;</em>&middot;<em>&#981;</em>, so we have that \r\n",
    "<p style='text-align: center;'><em>&fnof;</em>(<em>&#981;</em>(<em>x</em>)) = (<em>&fnof;</em>&middot;<em>&#981;</em>)(<em>x</em>).</p>\r\n",
    "\r\n",
    "<br>\r\n",
    "There is something curious here. When we view permutations as ways to rearrange a set of objects, such as books, the permutations are multiplied from left to right, which \r\n",
    "is the natural order.  But when we view permutations as functions, the permutations are multiplied from right to left, which is again the natural order for function \r\n",
    "composition.\r\n",
    "<br><br>\r\n",
    "\r\n",
    "DEFINITION 5.1<br>\r\n",
    "For the set {1, 2, 3, &hellip; <em>n</em>}, we define the group of permutations on the set by <em>S<sub>n</sub></em>.  That is, <em>S<sub>n</sub></em> is the set of functions \r\n",
    "which are one-to-one and onto on the set {1, 2, 3, &hellip; <em>n</em>}.  The group operation is function composition.<br><br>\r\n",
    "\r\n",
    "EXPERIMENT: <br>Consider the following product:\r\n",
    "<table align=\"center\" width=\"320\" border=\"0\" cellspacing=\"0\" cellpadding=\"0\">\r\n",
    "  <tr>\r\n",
    "    <td align=\"right\" valign=\"bottom\">&#9115;</td>\r\n",
    "    <td align=\"center\">1</td>\r\n",
    "    <td align=\"center\">2</td>\r\n",
    "    <td align=\"center\">3</td>\r\n",
    "    <td align=\"center\">4</td>\r\n",
    "    <td align=\"center\">5</td>\r\n",
    "    <td align=\"left\" valign=\"bottom\">&#9118;</td>\r\n",
    "    <td rowspan = \"2\" align=\"center\">&middot;</td>\r\n",
    "    <td align=\"right\" valign=\"bottom\">&#9115;</td>\r\n",
    "    <td align=\"center\">1</td>\r\n",
    "    <td align=\"center\">2</td>\r\n",
    "    <td align=\"center\">3</td>\r\n",
    "    <td align=\"center\">4</td>\r\n",
    "    <td align=\"center\">5</td>\r\n",
    "    <td align=\"left\" valign=\"bottom\">&#9118;</td>\r\n",
    "  </tr>\r\n",
    "  <tr>\r\n",
    "    <td align=\"right\" valign=\"top\">&#9117;</td>\r\n",
    "    <td align=\"center\">5</td>\r\n",
    "    <td align=\"center\">4</td>\r\n",
    "    <td align=\"center\">1</td>\r\n",
    "    <td align=\"center\">2</td>\r\n",
    "    <td align=\"center\">3</td>    \r\n",
    "    <td align=\"left\" valign=\"top\">&#9120;</td>\r\n",
    "    <td align=\"right\" valign=\"top\">&#9117;</td>\r\n",
    "    <td align=\"center\">4</td>\r\n",
    "    <td align=\"center\">3</td>\r\n",
    "    <td align=\"center\">5</td>\r\n",
    "    <td align=\"center\">1</td>\r\n",
    "    <td align=\"center\">2</td>\r\n",
    "    <td align=\"left\" valign=\"top\">&#9120;</td>\r\n",
    "  </tr>\r\n",
    "</table>\r\n",
    "<br>\r\n",
    "First work this product by viewing the permutations as two ways to rearrange 5 books.  If you work the rearrangements from left to right, what is the resulting \r\n",
    "rearrangement of the books?  Now work this product by viewing the permutations as functions, working from right to left.  Do you get the same answer?  Which of the \r\n",
    "two methods was easier?  If you work the problem viewing the permutations as functions, and worked from left to right, would you get the right answer?<br>"
   ]
  },
  {
   "cell_type": "markdown",
   "metadata": {
    "collapsed": false
   },
   "source": [
    "<br>\r\n",
    "<em>Sage</em> can easily work with permutations. The top line of the permutation is only for convenience since the bottom line contains all of the information about \r\n",
    "the permutation. Thus, we can write these permutations like this:\r\n",
    "<p style='text-align: center;'>P(5,4,1,2,3) &middot; P(4,3,5,1,2).</p>\r\n",
    "In general, a permutation in <em>S<sub>n</sub></em> can be written\r\n",
    "<p style='text-align: center;'>P(<em>x</em><sub>1</sub>, <em>x</em><sub>2</sub>, <em>x</em><sub>3</sub>, &hellip; <em>x<sub>n</sub></em>).</p>\r\n",
    "Note that the numbers <em>x</em><sub>1</sub>, <em>x</em><sub>2</sub>, <em>x</em><sub>3</sub>, &hellip; <em>x<sub>n</sub></em> must all be different and must consist of \r\n",
    "the numbers from 1 to <em>n</em>.  This permutation corresponds to the function\r\n",
    "<p style='text-align: center;'><em>&fnof;</em>(1) = <em>x</em><sub>1</sub><br>\r\n",
    "                               <em>&fnof;</em>(2) = <em>x</em><sub>2</sub><br>\r\n",
    "                               <em>&fnof;</em>(3) = <em>x</em><sub>3</sub><br>\r\n",
    "                               &hellip;&hellip;&hellip;<br>\r\n",
    "                               <em>&fnof;</em>(<em>n</em>) = <em>x<sub>n</sub></em>.</p>\r\n",
    "This notation is a little more difficult since one must count four numbers to determine <em>&fnof;</em>(4). Yet <em>Sage</em> prefers this notation for its \r\n",
    "conciseness.  Let's try using <em>Sage</em> to check the above product: <br>"
   ]
  },
  {
   "cell_type": "code",
   "execution_count": 0,
   "metadata": {
    "collapsed": false
   },
   "outputs": [
   ],
   "source": [
    "P(5,4,1,2,3)*P(4,3,5,1,2)"
   ]
  },
  {
   "cell_type": "markdown",
   "metadata": {
    "collapsed": false
   },
   "source": [
    "<br>\r\n",
    "Is this the answer you got?  We do not have to define this group the way we have been defining the other groups in these notebooks.  The symmetric group is pre-loaded in \r\n",
    "the initialization.  Let us determine the product of these two permutations multiplied in the other order:<br>"
   ]
  },
  {
   "cell_type": "code",
   "execution_count": 0,
   "metadata": {
    "collapsed": false
   },
   "outputs": [
   ],
   "source": [
    "P(4,3,5,1,2)*P(5,4,1,2,3)"
   ]
  },
  {
   "cell_type": "markdown",
   "metadata": {
    "collapsed": false
   },
   "source": [
    "<br>\r\n",
    "What happened to the 5?  Since the composition function maps 5 to itself, <em>Sage</em> can safety drop the 5, treating this as a permutation on four objects \r\n",
    "instead.  To save space <em>Sage</em> displays only up to the last number which is out of position.  All of the necessary information is still in the \r\n",
    "permutation.<br><br>\r\n",
    "\r\n",
    "Since all permutations in <em>S</em><sub>4</sub> can be expressed in terms of some combinations of the <strong>Left</strong> and <strong>Last</strong> book rearrangements, \r\n",
    "we can find all of the elements of <em>S</em><sub>4</sub>.<br>"
   ]
  },
  {
   "cell_type": "code",
   "execution_count": 0,
   "metadata": {
    "collapsed": false
   },
   "outputs": [
   ],
   "source": [
    "S4 = Group(P(2, 3, 4, 1), P(1, 2, 4, 3)); S4"
   ]
  },
  {
   "cell_type": "code",
   "execution_count": 0,
   "metadata": {
    "collapsed": false
   },
   "outputs": [
   ],
   "source": [
    "len(S4)"
   ]
  },
  {
   "cell_type": "markdown",
   "metadata": {
    "collapsed": false
   },
   "source": [
    "<br> \r\n",
    "Note that the identity element of <em>S</em><sub>4</sub> is denoted by <strong>P()</strong>, since the corresponding function leaves all objects fixed.  \r\n",
    "We can determine the size of the group <em>S<sub>n</sub></em> in general, by counting the number of one-to-one and onto functions from the set {1, 2, 3, &hellip; <em>n</em>} to \r\n",
    "itself.  We have <em>n</em> choices for <em>f</em>(1), but then there will be only <em>n</em> &minus; 1 choices for <em>f</em>(2), <em>n</em> &minus; 2 choices for <em>f</em>(3), and \r\n",
    "so on.  Thus, the size of the group <em>S<sub>n</sub></em> is given by\r\n",
    "<p style='text-align: center;'><em>n</em>! = <em>n</em>&middot;(<em>n</em> &minus; 1)&middot;(<em>n</em> &minus; 2)&middot;(<em>n</em> &minus; 3)&middot;&hellip; &middot; \r\n",
    "2&middot;1</p>\r\n",
    "The number <em>n</em>! is read &quot;<em>n</em> factorial,&quot; and represents the product of the first <em>n</em> numbers. Here is a short table of <em>n</em>!:<br><br>\r\n",
    "\r\n",
    "<table align=\"center\" width=\"180\" border=\"0\">\r\n",
    "   <tr>\r\n",
    "     <td align=\"right\">1!</td>\r\n",
    "     <td align=\"center\">=</td>\r\n",
    "     <td>1</td>\r\n",
    "   </tr>\r\n",
    "   <tr>\r\n",
    "     <td align=\"right\">2!</td>\r\n",
    "     <td align=\"center\">=</td>\r\n",
    "     <td>2</td>\r\n",
    "   </tr>\r\n",
    "   <tr>\r\n",
    "     <td align=\"right\">3!</td>\r\n",
    "     <td align=\"center\">=</td>\r\n",
    "     <td>6</td>\r\n",
    "   </tr>\r\n",
    "   <tr>\r\n",
    "     <td align=\"right\">4!</td>\r\n",
    "     <td align=\"center\">=</td>\r\n",
    "     <td>24</td>\r\n",
    "   </tr>\r\n",
    "   <tr>\r\n",
    "     <td align=\"right\">5!</td>\r\n",
    "     <td align=\"center\">=</td>\r\n",
    "     <td>120</td>\r\n",
    "   </tr>\r\n",
    "   <tr>\r\n",
    "     <td align=\"right\">6!</td>\r\n",
    "     <td align=\"center\">=</td>\r\n",
    "     <td>720</td>\r\n",
    "   </tr>\r\n",
    "   <tr>\r\n",
    "     <td align=\"right\">7!</td>\r\n",
    "     <td align=\"center\">=</td>\r\n",
    "     <td>5040</td>\r\n",
    "   </tr>\r\n",
    "   <tr>\r\n",
    "     <td align=\"right\">8!</td>\r\n",
    "     <td align=\"center\">=</td>\r\n",
    "     <td>40320</td>\r\n",
    "   </tr>\r\n",
    "   <tr>\r\n",
    "     <td align=\"right\">9!</td>\r\n",
    "     <td align=\"center\">=</td>\r\n",
    "     <td>362880</td>\r\n",
    "   </tr>\r\n",
    "   <tr>\r\n",
    "     <td align=\"right\">10!</td>\r\n",
    "     <td align=\"center\">=</td>\r\n",
    "     <td>3628800</td>\r\n",
    "   </tr>\r\n",
    "</table>\r\n",
    "<br>\r\n",
    "From this table we see that 4! = 24, so this verifies that <em>S</em><sub>4</sub> has 24 elements.  One can see that the size \r\n",
    "of <em>S<sub>n</sub></em> grows very quickly. <em>S</em><sub>1</sub> has only one element, so it is the trivial group. <em>S</em><sub>2</sub> has two elements, so this \r\n",
    "must be isomorphic to <em>Z</em><sub>2</sub>.  We have already seen <em>S</em><sub>3</sub> was isomorphic to Terry's group.  Now we find that <em>S</em><sub>4</sub> has \r\n",
    "24 elements.  Since the octahedral group also has 24 elements, so we could ask if these two groups are isomorphic. The octahedral group can be reloaded by the commands<br>"
   ]
  },
  {
   "cell_type": "code",
   "execution_count": 0,
   "metadata": {
    "collapsed": false
   },
   "outputs": [
   ],
   "source": [
    "InitGroup(\"e\")\r\n",
    "AddGroupVar(\"a\", \"b\", \"c\")\r\n",
    "Define(a^2, e)\r\n",
    "Define(b^3, e)\r\n",
    "Define(c^4, e)\r\n",
    "Define(b*a, a*b^2)\r\n",
    "Define(c*a, a*b*c)\r\n",
    "Define(c*b, a*c^2)\r\n",
    "Oct = ListGroup();Oct"
   ]
  },
  {
   "cell_type": "markdown",
   "metadata": {
    "collapsed": false
   },
   "source": [
    "Let us try to find an isomorphism. We discovered that there is a copy of <em>S</em><sub>3</sub> inside of the octahedral group, generated by the elements <em>a</em> and \r\n",
    "<em>b</em>. Let us begin there. In <em>S</em><sub>3</sub>, the element <em>a</em> represented an element of order 2, such \r\n",
    "as <strong>P(2, 1)</strong>, and <em>b</em> represented an element \r\n",
    "of order 3, such as <strong>P(2, 3, 1)</strong>. Let us construct a possible isomorphism.  The command<br>"
   ]
  },
  {
   "cell_type": "code",
   "execution_count": 0,
   "metadata": {
    "collapsed": false
   },
   "outputs": [
   ],
   "source": [
    "F = Homomorph(Oct, S4)"
   ]
  },
  {
   "cell_type": "markdown",
   "metadata": {
    "collapsed": false
   },
   "source": [
    "<br>\r\n",
    "defines <strong>F</strong> to be a homomorphism. We can tell <em>Sage</em> where the elements <em>a</em> and <em>b</em> are mapped to:<br>"
   ]
  },
  {
   "cell_type": "code",
   "execution_count": 0,
   "metadata": {
    "collapsed": false
   },
   "outputs": [
   ],
   "source": [
    "HomoDef(F, a, P(2,1) )"
   ]
  },
  {
   "cell_type": "code",
   "execution_count": 0,
   "metadata": {
    "collapsed": false
   },
   "outputs": [
   ],
   "source": [
    "HomoDef(F, b, P(2,3,1) )"
   ]
  },
  {
   "cell_type": "markdown",
   "metadata": {
    "collapsed": false
   },
   "source": [
    "<br>\r\n",
    "This should be consistent, since\r\n",
    "<p style='text-align: center;'><em>&fnof;</em>(<em>b</em>)&middot;<em>&fnof;</em>(<em>a</em>) = \r\n",
    "<em>&fnof;</em>(<em>a</em>)&middot;<em>&fnof;</em>(<em>b</em>)&middot;<em>&fnof;</em>(<em>b</em>).</p>\r\n",
    "The way to have <em>Sage</em> check that <em>&fnof;</em> is so far defined consistently is to find whether <em>&fnof;</em> is a homomorphism on \r\n",
    "the <em>subgroup</em> containing <em>a</em> and <em>b</em>.  If we enter<br>"
   ]
  },
  {
   "cell_type": "code",
   "execution_count": 0,
   "metadata": {
    "collapsed": false
   },
   "outputs": [
   ],
   "source": [
    "FinishHomo(F)"
   ]
  },
  {
   "cell_type": "markdown",
   "metadata": {
    "collapsed": false
   },
   "source": [
    "<br>\r\n",
    "then <em>Sage</em> indicates that so far the homomorphism is consistant, but it still is not defined for the whole group <strong>Oct</strong>.  We can find the range \r\n",
    "of <strong>F</strong> so far with the command<br>"
   ]
  },
  {
   "cell_type": "code",
   "execution_count": 0,
   "metadata": {
    "collapsed": false
   },
   "outputs": [
   ],
   "source": [
    "HomoRange(F)"
   ]
  },
  {
   "cell_type": "markdown",
   "metadata": {
    "collapsed": false
   },
   "source": [
    "<br>\r\n",
    "This shows that we have defined the homomorphism for 6 elements.<br><br>\r\n",
    "\r\n",
    "We now need to determine a value for <em>&fnof;</em>(<em>c</em>) that makes an isomorphism.  Note that <em>&fnof;</em>(<em>c</em>) must be  \r\n",
    "of order 4.  We want to find all elements of <em>S</em><sub>4</sub> which are of order 4 so we will be able to choose one for <em>&fnof;</em>(<em>c</em>).<br><br>\r\n",
    "\r\n",
    "Finding all of the elements of a given order is not hard using <em>Sage</em>. This is because <em>Sage</em> can raise all of the elements to a given power in one \r\n",
    "step.  Here is every element squared:<br>"
   ]
  },
  {
   "cell_type": "code",
   "execution_count": 0,
   "metadata": {
    "collapsed": false
   },
   "outputs": [
   ],
   "source": [
    "[ x^2 for x in S4]"
   ]
  },
  {
   "cell_type": "markdown",
   "metadata": {
    "collapsed": false
   },
   "source": [
    "<br>\r\n",
    "Note that many of the elements, when squared, yield the identity element. In fact, elements 1, 2, 3, 6, 7, 8, 15, 17, 22, and 24 (counting from the left) have \r\n",
    "<em>a</em><sup>2</sup> = <em>e</em>.  The first element is the identity, but the others must be elements of order 2.  Thus there are nine elements \r\n",
    "of <em>S</em><sub>4</sub> that are of order 2.<br><br>\r\n",
    " \r\n",
    "We can use the same method to find the elements of order 4. Let us raise all elements to the fourth power:<br>"
   ]
  },
  {
   "cell_type": "code",
   "execution_count": 0,
   "metadata": {
    "collapsed": false
   },
   "outputs": [
   ],
   "source": [
    "[ x^4 for x in S4]"
   ]
  },
  {
   "cell_type": "markdown",
   "metadata": {
    "collapsed": false
   },
   "source": [
    "<br>\r\n",
    "So elements 1, 2, 3, 6, 7, 8, 10, 11, 14, 15, 17, 18, 19, 22, 23, and 24 have the fourth power equaling the identity.  Many of these are of order 2, as we have seen \r\n",
    "before.  But the square of elements 10, 11, 14, 18, 19 and 23 are not the identity.  Therefore, we have six elements of order 4.  Comparing this with the original \r\n",
    "group<br>"
   ]
  },
  {
   "cell_type": "code",
   "execution_count": 0,
   "metadata": {
    "collapsed": false
   },
   "outputs": [
   ],
   "source": [
    "S4"
   ]
  },
  {
   "cell_type": "markdown",
   "metadata": {
    "collapsed": false
   },
   "source": [
    "<br>\r\n",
    "tells us the six elements:<br>\r\n",
    "<p style='text-align: center;'>P(4, 1, 2, 3)<br>\r\n",
    "P(2, 4, 1, 3)<br>\r\n",
    "P(3, 1, 4, 2)<br>\r\n",
    "P(4, 3, 1, 2)<br>\r\n",
    "P(2, 3, 4, 1)<br>\r\n",
    "P(3, 4, 2, 1)</p>\r\n",
    "If the octahedronal group is isomorphic to <em>S</em><sub>4</sub>, then the element <em>c</em> must map to one of these six elements. But which one? Let us try the \r\n",
    "first permutation, <nobr>P(4, 1, 2, 3).</nobr>  The entire homomorphism would be defined by the commands<br>"
   ]
  },
  {
   "cell_type": "code",
   "execution_count": 0,
   "metadata": {
    "collapsed": false
   },
   "outputs": [
   ],
   "source": [
    "F = Homomorph(Oct, S4)\r\n",
    "HomoDef(F, a, P(2, 1) )\r\n",
    "HomoDef(F, b, P(2, 3, 1) )\r\n",
    "HomoDef(F, c, P(4, 1, 2, 3) )\r\n",
    "FinishHomo(F)"
   ]
  },
  {
   "cell_type": "markdown",
   "metadata": {
    "collapsed": false
   },
   "source": [
    "<br>\r\n",
    "Unfortunately, this does not produce a homomorphism, since <em>Sage</em> found a contradiction.  But perhaps by defining <strong>F(c)</strong> to be one of the other \r\n",
    "six elements of <em>S</em><sub>4</sub> which is of order 4, we can produce a homomorphism.<br><br>\r\n",
    " \r\n",
    "EXPERIMENT:<br>\r\n",
    "By changing P(4, 1, 2, 3) with one of the other elements of <em>S</em><sub>4</sub> which is of order 4:\r\n",
    "<p style='text-align: center;'>P(2, 4, 1, 3)<br>\r\n",
    "P(3, 1, 4, 2)<br>\r\n",
    "P(4, 3, 1, 2)<br>\r\n",
    "P(2, 3, 4, 1)<br>\r\n",
    "P(3, 4, 2, 1)</p>\r\n",
    "see if you can find one which creates a homomorphism.<br>"
   ]
  },
  {
   "cell_type": "markdown",
   "metadata": {
    "collapsed": false
   },
   "source": [
    "<br>\r\n",
    "Once we have found a homomorphism, we want to see that <em>&fnof;</em> is an isomorphism by showing that the kernel of <em>&fnof;</em> is just the identity.<br>"
   ]
  },
  {
   "cell_type": "code",
   "execution_count": 0,
   "metadata": {
    "collapsed": false
   },
   "outputs": [
   ],
   "source": [
    "Kernel(F)"
   ]
  },
  {
   "cell_type": "markdown",
   "metadata": {
    "collapsed": false
   },
   "source": [
    "<br>\r\n",
    "Since the kernel is the identity element, <em>&fnof;</em> is an isomorphism. <br><br>\r\n",
    " \r\n",
    "Finally, we can check that the image of <em>&fnof;</em> is <em>S</em><sub>4</sub>. The image is generated by the command<br>"
   ]
  },
  {
   "cell_type": "code",
   "execution_count": 0,
   "metadata": {
    "collapsed": false
   },
   "outputs": [
   ],
   "source": [
    "Image(F, Oct)"
   ]
  },
  {
   "cell_type": "code",
   "execution_count": 0,
   "metadata": {
    "collapsed": false
   },
   "outputs": [
   ],
   "source": [
    "len(_)"
   ]
  },
  {
   "cell_type": "markdown",
   "metadata": {
    "collapsed": false
   },
   "source": [
    "<br>\r\n",
    "Since there are 24 elements here, all of which are in <em>S</em><sub>4</sub>, this must be <em>S</em><sub>4</sub>.  Therefore, we have shown \r\n",
    "that <em>S</em><sub>4</sub> is isomorphic to the octahedral group.  So we immediately see a relationship between one of the groups we have been working \r\n",
    "with and the permutation groups.  Later this chapter, we will see an application of the permutation groups that will apply to <em>any</em> finite group.<br><br>\r\n",
    "\r\n",
    "Since a permutation is a function from the integers 1, 2, 3, &hellip; <em>n</em> onto themselves, we can use the circle graphs that we have used before to visualize \r\n",
    "these permutations.  For example, to draw a picture of the permutation P(5,4,1,2,3), use the command:<br>"
   ]
  },
  {
   "cell_type": "code",
   "execution_count": 0,
   "metadata": {
    "collapsed": false
   },
   "outputs": [
   ],
   "source": [
    "CircleGraph([1,2,3,4,5], P(5,4,1,2,3))"
   ]
  },
  {
   "cell_type": "markdown",
   "metadata": {
    "collapsed": false
   },
   "source": [
    "<br>\r\n",
    "Notice that this forms one triangle in red, which maps 1 to 5, 5 to 3, and then 3 back to 1. There is also a green &quot;double arrow&quot; that maps 2 to 4 and \r\n",
    "back to 2. So this circle graph reveals some additional structure to the permutation which we will study later.  For now, let us study the geometrical significance \r\n",
    "of multiplying two permutations together.<br><br>\r\n",
    "\r\n",
    "We can graph two or more permutations simutaneously by adding the additional permutations to the <em>Sage</em> command.<br>"
   ]
  },
  {
   "cell_type": "code",
   "execution_count": 0,
   "metadata": {
    "collapsed": false
   },
   "outputs": [
   ],
   "source": [
    "CircleGraph([1,2,3,4,5], P(5,4,1,2,3), P(4,3,5,1,2))"
   ]
  },
  {
   "cell_type": "markdown",
   "metadata": {
    "collapsed": false
   },
   "source": [
    "<br>\r\n",
    "Here, the red arrows represent the permutation P(5,4,1,2,3), while the green arrows represent P(4,3,5,1,2).<br><br>\r\n",
    " \r\n",
    "EXPERIMENT:<br>\r\n",
    "On the above circle graph, imagine what would happen if for each of the numbers {1,2,3,4,5}, one first traveled through a green arrow, \r\n",
    "and then traveled through a red arrow. Does this form a permutation on the set {1,2,3,4,5}? If so, which permutation is it? Is it the same permutation as  \r\n",
    "P(5,4,1,2,3)&middot;P(4,3,5,1,2) ?<br>"
   ]
  },
  {
   "cell_type": "markdown",
   "metadata": {
    "collapsed": false
   },
   "source": [
    "<br>\r\n",
    "The following command maps <em>three</em> permutations simutaniously:<br>"
   ]
  },
  {
   "cell_type": "code",
   "execution_count": 0,
   "metadata": {
    "collapsed": false
   },
   "outputs": [
   ],
   "source": [
    "CircleGraph([1,2,3,4,5], P(5,4,1,2,3), P(4,3,5,1,2),  P(2,1,3,5,4))"
   ]
  },
  {
   "cell_type": "markdown",
   "metadata": {
    "collapsed": false
   },
   "source": [
    "<br>\r\n",
    "This circle graph answers the questions raised in the last experiment. In this graph, if one travels a green arrow, and immediately travel through a red arrow, one ends \r\n",
    "up exactly in the same place as if one traveled just a purple arrow. Thus, this &quot;arrow composition&quot; results in the permutation P(2,1,3,5,4), which is the product \r\n",
    "of P(5,4,1,2,3) and P(4,3,5,1,2). Note that the arrows are like functions, in that we apply the arrow of the second permutation first, and then the arrow for the first permutation.<br><br>\r\n",
    "\r\n",
    "<em>Sage</em> can help us to find the inverse of a permutation. The inverse of P(5,4,1,2,3) would be<br>"
   ]
  },
  {
   "cell_type": "code",
   "execution_count": 0,
   "metadata": {
    "collapsed": false
   },
   "outputs": [
   ],
   "source": [
    "P(5,4,1,2,3)^-1"
   ]
  },
  {
   "cell_type": "markdown",
   "metadata": {
    "collapsed": false
   },
   "source": [
    "<br>\r\n",
    "We can make a circle graph of this new permutation.<br>"
   ]
  },
  {
   "cell_type": "code",
   "execution_count": 0,
   "metadata": {
    "collapsed": false
   },
   "outputs": [
   ],
   "source": [
    "CircleGraph([1,2,3,4,5], P(5,4,1,2,3)^-1 )"
   ]
  },
  {
   "cell_type": "markdown",
   "metadata": {
    "collapsed": false
   },
   "source": [
    "<br>\r\n",
    "How does this circle graph compare to the circle graph of the original permutation?<br>"
   ]
  },
  {
   "cell_type": "code",
   "execution_count": 0,
   "metadata": {
    "collapsed": false
   },
   "outputs": [
   ],
   "source": [
    "CircleGraph([1,2,3,4,5],  P(5,4,1,2,3) )"
   ]
  },
  {
   "cell_type": "markdown",
   "metadata": {
    "collapsed": false
   },
   "source": [
    "<br>\r\n",
    "It is easy to see that the graphs are the same, except that the arrows are all going in the opposite direction. (Of course, when the direction is reversed on the \r\n",
    "green &quot;double arrow,&quot; it remains a double arrow.) Thus, we see that<br><br>\r\n",
    "<table align=\"center\" width=\"320\" border=\"0\" cellspacing=\"0\" cellpadding=\"0\">\r\n",
    "  <tr>\r\n",
    "    <td align=\"right\" valign=\"bottom\">&#9115;</td>\r\n",
    "    <td align=\"center\">1</td>\r\n",
    "    <td align=\"center\">2</td>\r\n",
    "    <td align=\"center\">3</td>\r\n",
    "    <td align=\"center\">4</td>\r\n",
    "    <td align=\"center\">5</td>\r\n",
    "    <td align=\"left\" valign=\"bottom\">&#9118;<sup>-1</sup></td>\r\n",
    "    <td rowspan = \"2\" align=\"center\">=</td>\r\n",
    "    <td align=\"right\" valign=\"bottom\">&#9115;</td>\r\n",
    "    <td align=\"center\">1</td>\r\n",
    "    <td align=\"center\">2</td>\r\n",
    "    <td align=\"center\">3</td>\r\n",
    "    <td align=\"center\">4</td>\r\n",
    "    <td align=\"center\">5</td>\r\n",
    "    <td align=\"left\" valign=\"bottom\">&#9118;</td>\r\n",
    "  </tr>\r\n",
    "  <tr>\r\n",
    "    <td align=\"right\" valign=\"top\">&#9117;</td>\r\n",
    "    <td align=\"center\">5</td>\r\n",
    "    <td align=\"center\">4</td>\r\n",
    "    <td align=\"center\">1</td>\r\n",
    "    <td align=\"center\">2</td>\r\n",
    "    <td align=\"center\">3</td>    \r\n",
    "    <td align=\"left\" valign=\"top\">&#9120;</td>\r\n",
    "    <td align=\"right\" valign=\"top\">&#9117;</td>\r\n",
    "    <td align=\"center\">3</td>\r\n",
    "    <td align=\"center\">4</td>\r\n",
    "    <td align=\"center\">5</td>\r\n",
    "    <td align=\"center\">2</td>\r\n",
    "    <td align=\"center\">1</td>\r\n",
    "    <td align=\"left\" valign=\"top\">&#9120;</td>\r\n",
    "  </tr>\r\n",
    "</table> \r\n",
    "<br>\r\n",
    "We can check this using <em>Sage</em> to see if the product of the two really is the identity:<br>"
   ]
  },
  {
   "cell_type": "code",
   "execution_count": 0,
   "metadata": {
    "collapsed": false
   },
   "outputs": [
   ],
   "source": [
    "P(5,4,1,2,3)*P(3,4,5,2,1)"
   ]
  },
  {
   "cell_type": "markdown",
   "metadata": {
    "collapsed": false
   },
   "source": [
    "<br>\r\n",
    "We noted before that <em>Sage</em> displays only up to the last number not in position.  The identity element has all of its numbers in position, so <em>Sage</em> does \r\n",
    "not display any of them!  Therefore, <strong>P()</strong> represents the identity element of this group.<br><br>\r\n",
    "\r\n",
    "Because we can think of a permutation as a function of positive integers, we can evaluate a permutation at a given number. For example, the permutation\r\n",
    "<br><br>\r\n",
    "<table align=\"center\" width=\"180\" border=\"0\" cellspacing=\"0\" cellpadding=\"0\">\r\n",
    "  <tr>\r\n",
    "    <td align=\"right\" valign=\"bottom\">&#9115;</td>\r\n",
    "    <td align=\"center\">1</td>\r\n",
    "    <td align=\"center\">2</td>\r\n",
    "    <td align=\"center\">3</td>\r\n",
    "    <td align=\"center\">4</td>\r\n",
    "    <td align=\"center\">5</td>\r\n",
    "    <td align=\"left\" valign=\"bottom\">&#9118;</td>\r\n",
    "  </tr>\r\n",
    "  <tr>\r\n",
    "    <td align=\"right\" valign=\"top\">&#9117;</td>\r\n",
    "    <td align=\"center\">5</td>\r\n",
    "    <td align=\"center\">4</td>\r\n",
    "    <td align=\"center\">1</td>\r\n",
    "    <td align=\"center\">2</td>\r\n",
    "    <td align=\"center\">3</td>    \r\n",
    "    <td align=\"left\" valign=\"top\">&#9120;</td>\r\n",
    "  </tr>\r\n",
    "</table> \r\n",
    "<br>\r\n",
    "evaluated at 2 gives us 4.  Since the <em>Sage</em> notation for a function of <em>x</em> is <strong>F(x)</strong>, the <em>Sage</em> command for evaluation this \r\n",
    "permutation at 2 is:<br>"
   ]
  },
  {
   "cell_type": "code",
   "execution_count": 0,
   "metadata": {
    "collapsed": false
   },
   "outputs": [
   ],
   "source": [
    "P(5,4,1,2,3)(2)"
   ]
  },
  {
   "cell_type": "markdown",
   "metadata": {
    "collapsed": false
   },
   "source": [
    "<br>\r\n",
    "We can evaluate this permutation at 7 as well.<br>"
   ]
  },
  {
   "cell_type": "code",
   "execution_count": 0,
   "metadata": {
    "collapsed": false
   },
   "outputs": [
   ],
   "source": [
    "P(5,4,1,2,3)(7)"
   ]
  },
  {
   "cell_type": "markdown",
   "metadata": {
    "collapsed": false
   },
   "source": [
    "<br>\r\n",
    "Since this permutation does not mention the number 7, <em>Sage</em> assumes that it is fixed.<br><br>\r\n",
    "\r\n",
    "In spite of the simplicity of the notations for a permutation, we will find that there is yet another notation that is even more concise.  We will study \r\n",
    "this in the next section.<br><br>\r\n",
    "  \r\n",
    "<a name=\"sec52\" id=\"sec52\"></a>\r\n",
    "<h1>Cycles</h1>\r\n",
    "\r\n",
    "<br>\r\n",
    "Throughout this chapter, we have been using the circle graphs to represent a permutation in <em>S<sub>n</sub></em>.  For example, the permutation P(5,4,1,2,3) could \r\n",
    "be diagramed by the following graph:<br>"
   ]
  },
  {
   "cell_type": "code",
   "execution_count": 0,
   "metadata": {
    "collapsed": false
   },
   "outputs": [
   ],
   "source": [
    "CircleGraph([1,2,3,4,5], P(5,4,1,2,3) )"
   ]
  },
  {
   "cell_type": "markdown",
   "metadata": {
    "collapsed": false
   },
   "source": [
    "<br>\r\n",
    "We can immediately see from this graph the red triangle connecting 1, 5, and 3, while a green &quot;double arrow&quot; connecting 2 and 4. In this section we will \r\n",
    "consider the significance of the two different colors of arrows.<br><br>\r\n",
    " \r\n",
    "We begin by noticing that some of the permutations have circle graphs that are all in one color. Consider the graph of the permutation P(4,5,2,3,1):<br>"
   ]
  },
  {
   "cell_type": "code",
   "execution_count": 0,
   "metadata": {
    "collapsed": false
   },
   "outputs": [
   ],
   "source": [
    "CircleGraph([1,2,3,4,5], P(4,5,2,3,1) )"
   ]
  },
  {
   "cell_type": "markdown",
   "metadata": {
    "collapsed": false
   },
   "source": [
    "<br>\r\n",
    "This circle graph consists entirely of red arrows. These arrows indicate that the permutation can be expressed by a single chain\r\n",
    "<p style='text-align: center;'>1 &rarr; 4 &rarr; 3 &rarr; 2 &rarr; 5 &rarr; 1.</p>\r\n",
    "This can be read, &quot;1 goes to 4 which goes to 3 which goes to 2 which goes to 5 which goes back to 1.&quot; \r\n",
    "Any permutation which can be expressed as a chain like this one is called a <em>cycle</em>.<br><br>\r\n",
    "\r\n",
    "Here is another example of a circle graph of a permutation.<br>"
   ]
  },
  {
   "cell_type": "code",
   "execution_count": 0,
   "metadata": {
    "collapsed": false
   },
   "outputs": [
   ],
   "source": [
    "CircleGraph([1,2,3,4,5,6], P(2,4,1,6,5,3) )"
   ]
  },
  {
   "cell_type": "markdown",
   "metadata": {
    "collapsed": false
   },
   "source": [
    "<br>\r\n",
    "In this graph, there is a green loop mapping 5 to itself, but all of the <em>straight</em> arrows are the same color&#8213;red. We can still represent this \r\n",
    "permutation by a single chain:\r\n",
    "<p style='text-align: center;'>1 &rarr; 2 &rarr; 4 &rarr; 6 &rarr; 3 &rarr; 1.</p>\r\n",
    "This chain states where each number goes except for the number 5. However, if we stipulate that all numbers that are not mentioned \r\n",
    "in the chain map to themselves, we have expressed the permutation P(2,4,1,6,5,3) as a single chain, and hence this is also a cycle. <br>\r\n",
    "\r\n",
    "<br>\r\n",
    "<br>DEFININTION 5.2<br>\r\n",
    "Any permutation that can be expressed as a single chain is called a <em>cycle</em>. A cycle that moves exactly <em>r</em> of the numbers is called an \r\n",
    "<em>r</em>-<em>cycle</em>.<br><br>\r\n",
    "\r\n",
    "Whenever a permutation can be expressed as an <em>r</em>-cycle, it is easier to read the chain then the permutation. For example, to find where 4 is mapped to in \r\n",
    "the permutation P(2,4,1,6,5,3), one must count 4 numbers from the left, whereas in the notation\r\n",
    "<p style='text-align: center;'>1 &rarr; 2 &rarr; 4 &rarr; 6 &rarr; 3 &rarr; 1.</p>\r\n",
    "one only has to spot the 4 and see that it maps to 6. We can further simplify the chains by using a more compact notation:\r\n",
    "<p style='text-align: center;'>(1 2 4 6 3)</p>\r\n",
    "Here, each number is mapped to the next number in the chain. The last number always maps back to the first number. This notation is called the \r\n",
    "<em>cycle notation</em> of the permutation.<br><br>\r\n",
    "\r\n",
    "In general, the <em>r</em>-cycle (<em>i</em><sub>1</sub> <em>i</em><sub>2</sub> <em>i</em><sub>3</sub> &middot;&middot;&middot; <em>i<sub>r</sub></em>) represents \r\n",
    "the permutation that maps <em>i</em><sub>1</sub> to <em>i</em><sub>2</sub>, <em>i</em><sub>2</sub> to <em>i</em><sub>3</sub>, etc., and finally <em>i<sub>r</sub></em> back\r\n",
    "to <em>i</em><sub>1</sub>. Notice that\r\n",
    "<p style='text-align: center;'>(<em>i</em><sub>1</sub> <em>i</em><sub>2</sub> <em>i</em><sub>3</sub> &middot;&middot;&middot; <em>i<sub>r</sub></em>)<sup>-1</sup> =\r\n",
    "(<em>i<sub>r</sub></em> <em>i</em><sub><em>r</em>&minus;1</sub> &middot;&middot;&middot; <em>i</em><sub>3</sub> <em>i</em><sub>2</sub> <em>i</em><sub>1</sub>).</p>\r\n",
    "so the inverse of an <em>r</em>-cycle will always be an <em>r</em>-cycle. However, the product of two cycles may not always give a cycle, but a permutation. The \r\n",
    "identity element can be written as the 0-cycle ( ).<br><br>\r\n",
    "\r\n",
    "A 1-cycle is actually impossible, since if one number is not fixed by a permutation, then the number that it maps to cannot be fixed.  \r\n",
    "Thus, a non-identity permutation must move at least two numbers. We say that \r\n",
    "an <nobr><em>r</em>-cycle</nobr> is a <em>nontrivial cycle</em> if <em>r</em> &gt; 1.<br><br>\r\n",
    "\r\n",
    "Because the cycle notation is in general easier to use then standard permutation notation, we would like to find a way to write any permutation in terms of cycles. \r\n",
    "If we look back at the first circle graph of a permutation,<br>"
   ]
  },
  {
   "cell_type": "code",
   "execution_count": 0,
   "metadata": {
    "collapsed": false
   },
   "outputs": [
   ],
   "source": [
    "CircleGraph([1,2,3,4,5], P(5,4,1,2,3) )"
   ]
  },
  {
   "cell_type": "markdown",
   "metadata": {
    "collapsed": false
   },
   "source": [
    "<br>\r\n",
    "we see that this permutation cannot be expressed as a single chain. However, the two different colored arrows suggests the following idea. Suppose we considered \r\n",
    "one permutation which consisted mainly of the red triangle, (with 2 and 4 mapping to themselves) and another permutation consisting mainly of the green double arrow, \r\n",
    "with 1, 3, and 5 mapping to themselves. These two permutations are given by<br>"
   ]
  },
  {
   "cell_type": "code",
   "execution_count": 0,
   "metadata": {
    "collapsed": false
   },
   "outputs": [
   ],
   "source": [
    "CircleGraph([1,2,3,4,5], P(5,2,1,4,3) )"
   ]
  },
  {
   "cell_type": "markdown",
   "metadata": {
    "collapsed": false
   },
   "source": [
    "and"
   ]
  },
  {
   "cell_type": "code",
   "execution_count": 0,
   "metadata": {
    "collapsed": false
   },
   "outputs": [
   ],
   "source": [
    "CircleGraph([1,2,3,4,5], P(1,4,3,2,5) )"
   ]
  },
  {
   "cell_type": "markdown",
   "metadata": {
    "collapsed": false
   },
   "source": [
    "<br>\r\n",
    "EXPERIMENT:<br>\r\n",
    "Is there a way to multiply the permutations P(5,2,1,4,3) and P(1,4,3,2,5) to produce the original permutation P(5,2,1,4,3)?  Which order do the permutations need to \r\n",
    "be multiplied?<br>"
   ]
  },
  {
   "cell_type": "markdown",
   "metadata": {
    "collapsed": false
   },
   "source": [
    "<br>\r\n",
    "To help explain why the permutations acted the way that they did in the experiment, try graphing both permutations on the same graph:<br>"
   ]
  },
  {
   "cell_type": "code",
   "execution_count": 0,
   "metadata": {
    "collapsed": false
   },
   "outputs": [
   ],
   "source": [
    "CircleGraph([1,2,3,4,5], P(5,2,1,4,3), P(1,4,3,2,5) )"
   ]
  },
  {
   "cell_type": "markdown",
   "metadata": {
    "collapsed": false
   },
   "source": [
    "<br>\r\n",
    "One can see the simularity between this graph and the graph of P(5,4,1,2,3). Let us write the permutations P(5,2,1,4,3) and P(1,4,3,2,5) in cycle notation:\r\n",
    "<p style='text-align: center;'>P(5,4,1,2,3) = (1 5 3),&emsp;&emsp; P(1,4,3,2,5) = (2 4).</p>\r\n",
    "<br>Notice that when these two permutations are writen as cycles, there are no numbers in common between these two cycles. We give a name to these type of cycles.<br><br>\r\n",
    "  \r\n",
    "  \r\n",
    "DEFINITION 5.3<br>\r\n",
    "Two cycles \r\n",
    "<p style='text-align: center;'>(<em>i</em><sub>1</sub> <em>i</em><sub>2</sub> <em>i</em><sub>3</sub> &middot;&middot;&middot; <em>i<sub>r</sub></em>) and\r\n",
    "                               (<em>j</em><sub>1</sub> <em>j</em><sub>2</sub> <em>j</em><sub>3</sub> &middot;&middot;&middot; <em>j<sub>s</sub></em>)</p>\r\n",
    "are <em>disjoint</em> if none of the <em>i</em>'s are equal to any of the <em>j</em>'s.<br><br>\r\n",
    "\r\n",
    "We saw that (1 5 3) and (2 4) are disjoint. It is fairly clear that two disjoint cycles will commute with one another, as demonstrated in the experiment.<br><br>\r\n",
    "\r\n",
    "Can we express other permutations as a product of cycles? Consider the permutation\r\n",
    "<br><br>\r\n",
    "<table align=\"center\" width=\"250\" border=\"0\" cellspacing=\"0\" cellpadding=\"0\">\r\n",
    "  <tr>\r\n",
    "    <td align=\"right\" valign=\"bottom\">&#9115;</td>\r\n",
    "    <td align=\"center\">1</td>\r\n",
    "    <td align=\"center\">2</td>\r\n",
    "    <td align=\"center\">3</td>\r\n",
    "    <td align=\"center\">4</td>\r\n",
    "    <td align=\"center\">5</td>\r\n",
    "    <td align=\"center\">6</td>\r\n",
    "    <td align=\"center\">7</td>\r\n",
    "    <td align=\"center\">8</td>                \r\n",
    "    <td align=\"left\" valign=\"bottom\">&#9118;</td>\r\n",
    "  </tr>\r\n",
    "  <tr>\r\n",
    "    <td align=\"right\" valign=\"top\">&#9117;</td>\r\n",
    "    <td align=\"center\">4</td>\r\n",
    "    <td align=\"center\">6</td>\r\n",
    "    <td align=\"center\">1</td>\r\n",
    "    <td align=\"center\">8</td>\r\n",
    "    <td align=\"center\">2</td>\r\n",
    "    <td align=\"center\">5</td>\r\n",
    "    <td align=\"center\">7</td>\r\n",
    "    <td align=\"center\">3</td>    \r\n",
    "    <td align=\"left\" valign=\"top\">&#9120;</td>\r\n",
    "  </tr>\r\n",
    "</table>\r\n",
    "Here is the circle graph of this permutation:<br>"
   ]
  },
  {
   "cell_type": "code",
   "execution_count": 0,
   "metadata": {
    "collapsed": false
   },
   "outputs": [
   ],
   "source": [
    "CircleGraph([1,2,3,4,5,6,7,8], P(4,6,1,8,2,5,7,3) )"
   ]
  },
  {
   "cell_type": "markdown",
   "metadata": {
    "collapsed": false
   },
   "source": [
    "<br>\r\n",
    "We see from the circle graph that this permutation maps 1 into 4, 4 into 8, 8 into 3, and 3 back into 1. So the cycle (1 4 8 3) describes part of the permutation. \r\n",
    "However, we also have 2 mapping to 6, which maps to 5, which maps back to 2. So the cycle (2 6 5) is also a component of the permutation. Finally, 7 maps to itself, \r\n",
    "so it will not be the part of any cycle. Thus we can describe this permutation as\r\n",
    "<p style='text-align: center;'>(1 4 8 3)&middot;(2 6 5).</p>\r\n",
    "We can imitate this process for any permutation. As a result, we have the following lemma:\r\n",
    "\r\n",
    "<p />\r\n",
    "<a name=\"lem51ret\" id=\"lem51ret\"></a>\r\n",
    "LEMMA 5.1<br>\r\n",
    "Let <em>x</em> be an element of <em>S<sub>n</sub></em> which is not the identity. Then <em>x</em> can be written as a product of nontrivial disjoint cycles. \r\n",
    "This representation of <em>x</em> is unique up to the rearrangement of the cycles.<br><br>\r\n",
    "\r\n",
    "<a href=\"#lem51\">Click here for the proof.</a>\r\n",
    "\r\n",
    "<p />\r\n",
    "Since any permutation can be written succinctly in terms of cycles, we are given another way to express any permutation. <em>Sage</em> uses the notation\r\n",
    "<p style='text-align: center;'>C(<em>i</em>, <em>j</em>, <em>k</em>, &hellip; )</p>\r\n",
    "to denote the cycle (<em>i</em> <em>j</em> <em>k</em> &hellip;). <em>Sage</em> can multiply two cycles together. For example, to multiply (2 3 4 5)&middot;(1 2 4), type<br>"
   ]
  },
  {
   "cell_type": "code",
   "execution_count": 0,
   "metadata": {
    "collapsed": false
   },
   "outputs": [
   ],
   "source": [
    "C(2,3,4,5)*C(1,2,4)"
   ]
  },
  {
   "cell_type": "markdown",
   "metadata": {
    "collapsed": false
   },
   "source": [
    "<br>\r\n",
    "Notice that <em>Sage</em> forms the answer as a product of 2 disjoint cycles, without the times sign between them. We call this the <em>cycle decomposition</em> of the permutation.  Can we see why this is the product?  Remember to work from right to left in \r\n",
    "multiplying permutations or cycles.<br><br>\r\n",
    " \r\n",
    "We can convert back and forth between the permutation notation and the cycles. The commands\r\n",
    "<p style='text-align: center;'>PermToCycle( P(&hellip;&hellip;&hellip;)) &emsp; and &emsp; CycleToPerm( C(&hellip;&hellip;&hellip;))</p>\r\n",
    "tell <em>Sage</em> to switch between the two notations. Thus, to convert our answer to a permutation, we type<br>"
   ]
  },
  {
   "cell_type": "code",
   "execution_count": 0,
   "metadata": {
    "collapsed": false
   },
   "outputs": [
   ],
   "source": [
    "CycleToPerm( C(1,3,4)*C(2,5) )"
   ]
  },
  {
   "cell_type": "markdown",
   "metadata": {
    "collapsed": false
   },
   "source": [
    "<br>\r\n",
    "Likewise, <em>Sage</em> can use the procedure described in Lemma 5.1 to find the cycle decomposition of the permutation\r\n",
    "<br><br>\r\n",
    "<table align=\"center\" width=\"250\" border=\"0\" cellspacing=\"0\" cellpadding=\"0\">\r\n",
    "  <tr>\r\n",
    "    <td align=\"right\" valign=\"bottom\">&#9115;</td>\r\n",
    "    <td align=\"center\">1</td>\r\n",
    "    <td align=\"center\">2</td>\r\n",
    "    <td align=\"center\">3</td>\r\n",
    "    <td align=\"center\">4</td>\r\n",
    "    <td align=\"center\">5</td>\r\n",
    "    <td align=\"center\">6</td>\r\n",
    "    <td align=\"center\">7</td>\r\n",
    "    <td align=\"center\">8</td>                \r\n",
    "    <td align=\"left\" valign=\"bottom\">&#9118;</td>\r\n",
    "  </tr>\r\n",
    "  <tr>\r\n",
    "    <td align=\"right\" valign=\"top\">&#9117;</td>\r\n",
    "    <td align=\"center\">4</td>\r\n",
    "    <td align=\"center\">6</td>\r\n",
    "    <td align=\"center\">1</td>\r\n",
    "    <td align=\"center\">8</td>\r\n",
    "    <td align=\"center\">2</td>\r\n",
    "    <td align=\"center\">5</td>\r\n",
    "    <td align=\"center\">7</td>\r\n",
    "    <td align=\"center\">3</td>    \r\n",
    "    <td align=\"left\" valign=\"top\">&#9120;</td>\r\n",
    "  </tr>\r\n",
    "</table>\r\n",
    "<br>\r\n",
    "by the command<br>"
   ]
  },
  {
   "cell_type": "code",
   "execution_count": 0,
   "metadata": {
    "collapsed": false
   },
   "outputs": [
   ],
   "source": [
    "PermToCycle( P(4,6,1,8,2,5,7,3) )"
   ]
  },
  {
   "cell_type": "markdown",
   "metadata": {
    "collapsed": false
   },
   "source": [
    "<br>\r\n",
    "To enter the identity element in <em>Sage</em>, use <strong>C( )</strong>, which corresponds to the 0-cycle (). <br><br>\r\n",
    "\r\n",
    "We may even mix the two notations within an expression:<br>"
   ]
  },
  {
   "cell_type": "code",
   "execution_count": 0,
   "metadata": {
    "collapsed": false
   },
   "outputs": [
   ],
   "source": [
    "C(1,2,3)*P(3,1,2,5,4)*C(4,5)"
   ]
  },
  {
   "cell_type": "markdown",
   "metadata": {
    "collapsed": false
   },
   "source": [
    "<br>\r\n",
    "Whenever <em>Sage</em> encounters a mixture like this, it puts the answer in terms of cycles. In this case the answer is the identity permutation, \r\n",
    "so <em>Sage</em> returned <strong>( )</strong>.<br><br>\r\n",
    " \r\n",
    "We can evaluate a cycle or a product of cycles at a given number, just as we did for permutations.  For example, to determine where the cycle (1 4 8 3) sends the \r\n",
    "number 3, type<br>"
   ]
  },
  {
   "cell_type": "code",
   "execution_count": 0,
   "metadata": {
    "collapsed": false
   },
   "outputs": [
   ],
   "source": [
    "C(1,4,8,3)(3)"
   ]
  },
  {
   "cell_type": "markdown",
   "metadata": {
    "collapsed": false
   },
   "source": [
    "This evaluates the cycle at 3, giving the value 1. We can also form a circle graph of a cycle as we would a permutation:<br>"
   ]
  },
  {
   "cell_type": "code",
   "execution_count": 0,
   "metadata": {
    "collapsed": false
   },
   "outputs": [
   ],
   "source": [
    "CircleGraph([1,2,3,4,5,6,7,8], C(1,4,8,3) )"
   ]
  },
  {
   "cell_type": "markdown",
   "metadata": {
    "collapsed": false
   },
   "source": [
    "<br>\r\n",
    "This even works for a product of cycles.<br>"
   ]
  },
  {
   "cell_type": "code",
   "execution_count": 0,
   "metadata": {
    "collapsed": false
   },
   "outputs": [
   ],
   "source": [
    "CircleGraph([1,2,3,4,5,6,7,8], C(1,4,8,3)*C(2,6,5) )"
   ]
  },
  {
   "cell_type": "markdown",
   "metadata": {
    "collapsed": false
   },
   "source": [
    "<br>\r\n",
    "However, to evaluate a product of cycles at a given number, we need an extra pair of parentheses:<br>"
   ]
  },
  {
   "cell_type": "code",
   "execution_count": 0,
   "metadata": {
    "collapsed": false
   },
   "outputs": [
   ],
   "source": [
    "(C(1,4,8,3)*C(2,6,5))(2)"
   ]
  },
  {
   "cell_type": "markdown",
   "metadata": {
    "collapsed": false
   },
   "source": [
    "<br>\r\n",
    "Although <em>Sage</em> works faster using the standard permutation notation, cycles are more succinct in most cases and more readable.  Thus, for large operations that \r\n",
    "could take time, such as checking that a function is a homomorphism, it will be much faster using the <strong>P</strong>(&hellip;&hellip;&hellip;) notation.<br><br>\r\n",
    "\r\n",
    "We mentioned that there are no permutations that move just one element, but the permutations which move exactly 2 elements will be important. We will give these 2-cycles \r\n",
    "a special name.<br><br>\r\n",
    "\r\n",
    "DEFINITION 5.4<br>\r\n",
    "\r\n",
    "A <em>transposition</em> is a 2-cycle (<em>i</em><sub>1</sub> <em>i</em><sub>2</sub>), where <em>i</em><sub>1</sub> &ne; <em>i</em><sub>2</sub>.<br><br>\r\n",
    "\r\n",
    "We can find the number of transpositions in <em>S<sub><n></sub></em> as follows: <em>i</em><sub>1</sub> can be any of the <em>n</em> integers, \r\n",
    "and <em>i</em><sub>2</sub> can be any of the <em>n</em> &minus; 1 integers left over. \r\n",
    "Thus, there are \r\n",
    "<p style='text-align: center;'><em>n</em>(<em>n</em> &minus; 1) = <em>n</em><sup>2</sup> &minus; <em>n</em></p> \r\n",
    "ways of forming an ordered pair (<em>i</em><sub>1</sub>, <em>i</em><sub>2</sub>) with \r\n",
    "<em>i</em><sub>1</sub> unequal to <em>i</em><sub>2</sub>. However, the transposition (<em>i</em><sub>1</sub> <em>i</em><sub>2</sub>) is the same as the transposition \r\n",
    "(<em>i</em><sub>2</sub> <em>i</em><sub>1</sub>). Thus, by counting ordered pairs, we have counted each transposition twice. Therefore, to find the number of \r\n",
    "transpositions, we divide that count by 2 to get<br><br>\r\n",
    "<table align=\"center\" border=\"0\" cellspacing=\"0\" cellpadding=\"0\">\r\n",
    "  <tr>\r\n",
    "    <td height=\"33\" valign=\"bottom\"><em>n</em><sup>2</sup> &minus; <em>n</em></td>\r\n",
    "    <td rowspan = \"2\" align=\"right\">.</td>\r\n",
    "  </tr>\r\n",
    "  <tr>\r\n",
    "     <td valign=\"top\" align=\"center\"><font style=\"text-decoration:overline\">&emsp;2&emsp;</font></td>\r\n",
    "  </tr>\r\n",
    "</table>\r\n",
    "<br>\r\n",
    "\r\n",
    "<a name=\"lem52ret\" id=\"lem52ret\"></a>\r\n",
    "<br>LEMMA 5.2<br>\r\n",
    "For <em>n</em> > 1, the set of transpositions in <em>S<sub>n</sub></em> generates <em>S<sub>n</sub></em>.<br><br>\r\n",
    "\r\n",
    "<a href=\"#lem52\">Click here for the proof.</a>\r\n",
    "\r\n",
    "<p />\r\n",
    "Of course, a particular permutation can be expressed as a product of transpositions in more than one way. But an important property of the symmetric groups is that the \r\n",
    "number of transpositions used to represent a given permutation will always have the same parity, that is, even or odd. To show this, \r\n",
    "we will first prove the following lemma.\r\n",
    "\r\n",
    "<p />\r\n",
    "<a name=\"lem53ret\" id=\"lem53ret\"></a>\r\n",
    "LEMMA 5.3<br>\r\n",
    "The product of an odd number of transpositions in <em>S<sub>n</sub></em> cannot equal the identity element.<br><br>\r\n",
    "\r\n",
    "<a href=\"#lem53\">Click here for the proof.</a>\r\n",
    "\r\n",
    "<p />\r\n",
    "We can use this lemma to prove the following theorem.<br>\r\n",
    "\r\n",
    "<p />\r\n",
    "<a name=\"theor51ret\" id=\"theor51ret\"></a>\r\n",
    "THEOREM 5.1:  The Signature Theorem<br>For the symmetric group <em>S<sub>n</sub></em>, define the function \r\n",
    "<p style='text-align: center;'><em>&sigma;</em>:  <em>S<sub>n</sub></em> &rarr; &#8484;</p>\r\n",
    "by\r\n",
    "<p style='text-align: center;'><em>&sigma;</em>(<em>x</em>) = (&minus;1)<sup><em>N</em>(<em>x</em>)</sup>,</p>\r\n",
    "where <em>N</em>(<em>x</em>) is the minimum number of transpositions needed to express <em>x</em> as a product of transpositions.  Then this function, called \r\n",
    "the <em>signature function</em>, is a homomorphism from <em>S<sub>n</sub></em> to the integers {&minus;1, 1}.<br><br>\r\n",
    " \r\n",
    "<a href=\"#theor51\">Click here for the proof.</a> \r\n",
    "\r\n",
    "<p />\r\n",
    "With <em>Sage</em>, can compute the signature function on both permutations and products of cycles, using the <strong>Signature</strong> command.<br>"
   ]
  },
  {
   "cell_type": "code",
   "execution_count": 0,
   "metadata": {
    "collapsed": false
   },
   "outputs": [
   ],
   "source": [
    "Signature( P(4,3,5,1,2) )"
   ]
  },
  {
   "cell_type": "code",
   "execution_count": 0,
   "metadata": {
    "collapsed": false
   },
   "outputs": [
   ],
   "source": [
    "Signature( C(1,4,2,7)*C(6,7,3) )"
   ]
  },
  {
   "cell_type": "markdown",
   "metadata": {
    "collapsed": false
   },
   "source": [
    "<br>\r\n",
    "Try this out with several permutations. You will notice that the signature will always be  &plusmn;1.<br><br>"
   ]
  },
  {
   "cell_type": "markdown",
   "metadata": {
    "collapsed": false
   },
   "source": [
    "<br>\r\n",
    "The signature of an <em>r</em>-cycle will be &minus;1 if <em>r</em> is even, and +1 if <em>r</em> is odd. The fact that this function is a homomorphism has some important ramifications.<br><br>\r\n",
    " \r\n",
    "DEFINITION 5.5<br>\r\n",
    "A permutation is an <em>alternating permutation</em> or an <em>even permutation</em> if the signature of the permutation is 1. A permutation is an \r\n",
    "<em>odd permutation</em> if it is not even, that is, if the signature is &minus;1.  The set of all alternating permutations of order <em>n</em> is written \r\n",
    "<em>A<sub>n</sub></em>.\r\n",
    "\r\n",
    "<p />\r\n",
    "<a name=\"cor51ret\" id=\"cor51ret\"></a>\r\n",
    "COROLLARY 5.1<br>\r\n",
    "The set of all alternating permutations <em>A<sub>n</sub></em> is a normal subgroup of <em>S<sub>n</sub></em>. If <em>n</em> > 1, then \r\n",
    "<em>S<sub>n</sub></em>/<em>A<sub>n</sub></em> is isomorphic to <em>Z</em><sub>2</sub>.<br><br>\r\n",
    "\r\n",
    "<a href=\"#cor51\">Click here for the proof.</a> \r\n",
    "\r\n",
    "<p />\r\n",
    "Finally, we can ask which permutations generate the group <em>A<sub>n</sub></em>.  Since the set of 2-cycles generated <em>S<sub>n</sub></em>, it is not too \r\n",
    "surprising that <em>A<sub>n</sub></em> can also be generated by cycles.\r\n",
    " \r\n",
    "<p />\r\n",
    "<a name=\"prop51ret\" id=\"prop51ret\"></a> \r\n",
    "PROPOSITION 5.1<br>\r\n",
    "\r\n",
    "For <em>n</em> > 2, the alternating group <em>A<sub>n</sub></em> is generated by the set of 3-cycles.<br><br>\r\n",
    "\r\n",
    "<a href=\"#prop51\">Click here for the proof.</a> \r\n",
    "\r\n",
    "<p />\r\n",
    "Let us use this proposition to find the elements of <em>A</em><sub>4</sub>. We know that this is generated by 3-cycles, and has 24/2 = 12 elements. Let us see if \r\n",
    "two cycles are enough to give us twelve elements.<br>"
   ]
  },
  {
   "cell_type": "code",
   "execution_count": 0,
   "metadata": {
    "collapsed": false
   },
   "outputs": [
   ],
   "source": [
    "Group( C(1,2,3), C(1,2,4) )"
   ]
  },
  {
   "cell_type": "code",
   "execution_count": 0,
   "metadata": {
    "collapsed": false
   },
   "outputs": [
   ],
   "source": [
    "len(_)"
   ]
  },
  {
   "cell_type": "markdown",
   "metadata": {
    "collapsed": false
   },
   "source": [
    "<br>\r\n",
    "Since this gives us 12 elements, this is <em>A</em><sub>4</sub>. Eight of the twelve elements are 3-cycles. Do you recognize the other 4 elements?<br><br>\r\n",
    "\r\n",
    "<a name=\"sec53\" id=\"sec53\"></a>\r\n",
    "<h1>Cayley's Theorem</h1>\r\n",
    "\r\n",
    "<br>\r\n",
    "In the last section, we used the circle graph to illustrate a given permutation. The circle graphs produced had the property that every point on the circle had \r\n",
    "exactly one arrow which points to it. In Chapter 3 we mentioned that such a graph was <em>one-to-one</em> and <em>onto</em>. Where else have we seen circle graphs \r\n",
    "with this property?<br><br>\r\n",
    "\r\n",
    "Although we have seen circle graphs that are one-to-one and onto in several places, many of them were in Chapter 3 when we were working with cosets. To illustrate, \r\n",
    "the following command loads the quaternionic group <em>Q</em> discovered in the last chapter.<br>"
   ]
  },
  {
   "cell_type": "code",
   "execution_count": 0,
   "metadata": {
    "collapsed": false
   },
   "outputs": [
   ],
   "source": [
    "Q = InitQuaternions(); Q"
   ]
  },
  {
   "cell_type": "markdown",
   "metadata": {
    "collapsed": false
   },
   "source": [
    "<br>\r\n",
    "Recall the multiplication table for <em>Q</em> is given by:<br>"
   ]
  },
  {
   "cell_type": "code",
   "execution_count": 0,
   "metadata": {
    "collapsed": false
   },
   "outputs": [
   ],
   "source": [
    "MultTable(Q)"
   ]
  },
  {
   "cell_type": "markdown",
   "metadata": {
    "collapsed": false
   },
   "source": [
    "<br>\r\n",
    "We can know look at the circle graph of <strong>LeftMult</strong>(<em>x</em>) and <strong>RightMult</strong>(<em>x</em>) for \r\n",
    "different elements <em>x</em> in <em>Q</em>.<br>"
   ]
  },
  {
   "cell_type": "code",
   "execution_count": 0,
   "metadata": {
    "collapsed": false
   },
   "outputs": [
   ],
   "source": [
    "CircleGraph(Q, LeftMult(i) )"
   ]
  },
  {
   "cell_type": "code",
   "execution_count": 0,
   "metadata": {
    "collapsed": false
   },
   "outputs": [
   ],
   "source": [
    "CircleGraph(Q, RightMult(i) )"
   ]
  },
  {
   "cell_type": "markdown",
   "metadata": {
    "collapsed": false
   },
   "source": [
    "<br>\r\n",
    "Look carefully. These two circle graphs are not the same, even though they are very similar. Notice that these circle graphs are one-to-one and onto, \r\n",
    "just as the graphs of a permutation. Could we view these circle graphs as permutations in <em>S</em><sub>8</sub>? Suppose we numbered the elements of the group, starting \r\n",
    "at the top and working clockwise. That is, we would assign\r\n",
    "<br><br>\r\n",
    "<table align = \"center\" border=\"0\">\r\n",
    "  <tr>\r\n",
    "    <td align=\"right\">1)&emsp;</td>\r\n",
    "    <td>1</td>\r\n",
    "  </tr>\r\n",
    "  <tr>\r\n",
    "    <td align=\"right\">2)&emsp;</td>\r\n",
    "    <td><em>i</em></td>\r\n",
    "  </tr>\r\n",
    "    <tr>\r\n",
    "    <td align=\"right\">3)&emsp;</td>\r\n",
    "    <td><em>j</em></td>\r\n",
    "  </tr>\r\n",
    "  <tr>\r\n",
    "    <td align=\"right\">4)&emsp;</td>\r\n",
    "    <td><em>k</em></td>\r\n",
    "  </tr>\r\n",
    "  <tr>\r\n",
    "    <td align=\"right\">5)&emsp;</td>\r\n",
    "    <td>&minus;1</td>\r\n",
    "  </tr>\r\n",
    "  <tr>\r\n",
    "    <td align=\"right\">6)&emsp;</td>\r\n",
    "    <td>&minus;<em>i</em></td>\r\n",
    "  </tr>\r\n",
    "    <tr>\r\n",
    "    <td align=\"right\">7)&emsp;</td>\r\n",
    "    <td>&minus;<em>j</em></td>\r\n",
    "  </tr>\r\n",
    "  <tr>\r\n",
    "    <td align=\"right\">8)&emsp;</td>\r\n",
    "    <td>&minus;<em>k</em></td>\r\n",
    "  </tr>\r\n",
    "</table>\r\n",
    "<br>\r\n",
    "We can then create graphs of permutations that simulate the two graphs we see above.<br>"
   ]
  },
  {
   "cell_type": "code",
   "execution_count": 0,
   "metadata": {
    "collapsed": false
   },
   "outputs": [
   ],
   "source": [
    "CircleGraph([1,2,3,4,5,6,7,8], C(1,2,5,6)*C(3,8,7,4) )"
   ]
  },
  {
   "cell_type": "code",
   "execution_count": 0,
   "metadata": {
    "collapsed": false
   },
   "outputs": [
   ],
   "source": [
    "CircleGraph([1,2,3,4,5,6,7,8], C(1,2,5,6)*C(3,4,7,8) )"
   ]
  },
  {
   "cell_type": "markdown",
   "metadata": {
    "collapsed": false
   },
   "source": [
    "<br>\r\n",
    "EXPERIMENT:<br>\r\n",
    "Replace the <em>i</em> in the two circle graphs on <em>Q</em> with other elements of <em>Q</em>, such as <em>j</em>, -1, and <em>k</em>. Can you find the \r\n",
    "permutations in <em>S</em><sub>8</sub> which produce the same circle graphs? Remember that there will be two permutations for each element of <em>Q</em>: one \r\n",
    "that simulates <strong>LeftMult(x)</strong>, and one that simulates <strong>RightMult(x)</strong>. Are there any elements for which the graphs \r\n",
    "for <strong>LeftMult(x)</strong> and <strong>RightMult(x)</strong> are the same?<br>"
   ]
  },
  {
   "cell_type": "markdown",
   "metadata": {
    "collapsed": false
   },
   "source": [
    "<br>\r\n",
    "We see from this experiment that we each element of <em>Q</em> will correspond to two elements of <em>S</em><sub>8</sub>, one that simulates <strong>LeftMult(x)</strong>,\r\n",
    "which we will call <em>&fnof;</em>(<em>x</em>), and one that simulates <strong>RightMult(x)</strong>, called <em>&#981;</em>(<em>x</em>). Here is a table of these permutations:<br>\r\n",
    "\r\n",
    "<table align=\"center\" width=\"550\" border=\"0\">\r\n",
    "  <tr>\r\n",
    "    <th width=\"60\" scope=\"col\"><em>x</em></th>\r\n",
    "    <th width=\"250\" scope=\"col\"><em>&fnof;</em>(<em>x</em>)<br> LeftMult(x)</th>\r\n",
    "    <th width=\"250\" scope=\"col\"><em>&#981;</em>(<em>x</em>)<br> RightMult(x)</th>\r\n",
    "  </tr>\r\n",
    "  <tr>\r\n",
    "    <th scope=\"row\">1</th>\r\n",
    "    <td align=\"center\">( )</td>\r\n",
    "    <td align=\"center\">( )</td>\r\n",
    "  </tr>\r\n",
    "  <tr>\r\n",
    "    <th scope=\"row\"><em>i</em></th>\r\n",
    "    <td align=\"center\">(1 2 5 6)(3 8 7 4)</td>\r\n",
    "    <td align=\"center\">(1 2 5 6)(3 4 7 8)</td>\r\n",
    "  </tr>\r\n",
    "  <tr>\r\n",
    "    <th scope=\"row\"><em>j</em></th>\r\n",
    "    <td align=\"center\">(1 3 5 7)(2 4 6 8)</td>\r\n",
    "    <td align=\"center\">(1 3 5 7)(2 8 6 4)</td>\r\n",
    "  </tr>\r\n",
    "  <tr>\r\n",
    "    <th scope=\"row\"><em>k</em></th>\r\n",
    "    <td align=\"center\">(1 4 5 8)(2 7 6 3)</td>\r\n",
    "    <td align=\"center\">(1 4 5 8)(2 3 6 7)</td>\r\n",
    "  </tr>  \r\n",
    "  <tr>\r\n",
    "    <th scope=\"row\">&minus;1</th>\r\n",
    "    <td align=\"center\">(1 5)(2 6)(3 7)(4 8)</td>\r\n",
    "    <td align=\"center\">(1 5)(2 6)(3 7)(4 8)</td>\r\n",
    "  </tr>\r\n",
    "  <tr>\r\n",
    "    <th scope=\"row\">&minus;<em>i</em></th>\r\n",
    "    <td align=\"center\">(1 6 5 2)(3 4 7 8)</td>\r\n",
    "    <td align=\"center\">(1 6 5 2)(3 8 7 4)</td>\r\n",
    "  </tr>\r\n",
    "  <tr>\r\n",
    "    <th scope=\"row\">&minus;<em>j</em></th>\r\n",
    "    <td align=\"center\">(1 7 5 3)(2 8 6 4)</td>\r\n",
    "    <td align=\"center\">(1 7 5 3)(2 4 6 8)</td>\r\n",
    "  </tr>\r\n",
    "  <tr>\r\n",
    "    <th scope=\"row\">&minus;<em>k</em></th>\r\n",
    "    <td align=\"center\">(1 8 5 4)(2 3 6 7)</td>\r\n",
    "    <td align=\"center\">(1 8 5 4)(2 7 6 3)</td>\r\n",
    "  </tr>\r\n",
    "</table>\r\n",
    "<br>\r\n",
    "By labling the permutations by <em>&fnof;</em>(<em>x</em>) and <em>&#981;</em>(<em>x</em>), we emphisize that these two functions map elements of <em>Q</em> to elements \r\n",
    "of <em>S</em><sub>8</sub>. So here's the natural question: Are either of these homomorphisms?<br><br>\r\n",
    "\r\n",
    "EXAMPLE:<br>\r\n",
    "Use <em>Sage</em> to see if either of the two functions <em>f</em> or <em>&#981;</em> are homomorphisms.<br><br>\r\n",
    "\r\n",
    "Let's begin by testing <em>&fnof;</em>.\r\n",
    "Normally, in defining a homomorphism, we first determine the domain group and the target group.  But in this case the target group is <em>S</em><sub>8</sub>, which \r\n",
    "has 40320 elements.  Rather than having <em>Sage</em> construct all of the elements of this group, which would take an unreasonable amount of time, we can find the \r\n",
    "range of the homomorphism by determining which group is generated by <em>&fnof;</em>(<em>i</em>) and <em>&fnof;</em>(<em>j</em>).<br>"
   ]
  },
  {
   "cell_type": "code",
   "execution_count": 0,
   "metadata": {
    "collapsed": false
   },
   "outputs": [
   ],
   "source": [
    "Q = InitQuaternions(); Q"
   ]
  },
  {
   "cell_type": "code",
   "execution_count": 0,
   "metadata": {
    "collapsed": false
   },
   "outputs": [
   ],
   "source": [
    "T = Group(C(1,2,5,6)*C(3,8,7,4), C(1,3,5,7)*C(2,4,6,8)); T"
   ]
  },
  {
   "cell_type": "markdown",
   "metadata": {
    "collapsed": false
   },
   "source": [
    "<br>\r\n",
    "Now we can try to create the homomorphism.<br>"
   ]
  },
  {
   "cell_type": "code",
   "execution_count": 0,
   "metadata": {
    "collapsed": false
   },
   "outputs": [
   ],
   "source": [
    "F = Homomorph(Q, T)"
   ]
  },
  {
   "cell_type": "code",
   "execution_count": 0,
   "metadata": {
    "collapsed": false
   },
   "outputs": [
   ],
   "source": [
    "HomoDef(F, i, C(1,2,5,6)*C(3,8,7,4) )\r\n",
    "HomoDef(F, j, C(1,3,5,7)*C(2,4,6,8) )\r\n",
    "HomoDef(F, k, C(1,4,5,8)*C(2,7,6,3) )"
   ]
  },
  {
   "cell_type": "code",
   "execution_count": 0,
   "metadata": {
    "collapsed": false
   },
   "outputs": [
   ],
   "source": [
    "FinishHomo(F)"
   ]
  },
  {
   "cell_type": "markdown",
   "metadata": {
    "collapsed": false
   },
   "source": [
    "So this is not a homomorphism.  What about <em>&#981;</em>?<br>\r\n",
    "\r\n",
    "<br>\r\n",
    "EXPERIMENT:<br>\r\n",
    "See if <em>&#981;</em> is a homomorphism using the above table.  If it seems to produce a homomorphism, use <strong>GraphHomo</strong> to verify that it is one-to-one \r\n",
    "and onto.<br>"
   ]
  },
  {
   "cell_type": "markdown",
   "metadata": {
    "collapsed": false
   },
   "source": [
    "<br>\r\n",
    "So apparently, <em>&#981;</em>(<em>x</em>) is a homomorphism from <em>Q</em> to <em>S</em><sub>8</sub>. In fact, it is clear that this is one-to-one, so \r\n",
    "<em>&#981;</em>(<em>x</em>) is an isomorphism from <em>Q</em> onto a subgroup of <em>S</em><sub>8</sub>. Will <strong>RightMult</strong> produce an isomorphism for any \r\n",
    "group? The answer is yes, and the proof reveals an important property of permutation groups. You should be able to use the <strong>RightMult</strong> function to prove \r\n",
    "the following theorem:\r\n",
    "\r\n",
    "<p />\r\n",
    "<a name=\"theor52ret\" id=\"theor52ret\"></a>\r\n",
    "THEOREM 5.2:Cayley's Theorem<br>\r\n",
    "Every finite group of order <em>n</em> is isomorphic to a subgroup of <em>S<sub>n</sub></em>.<br><br>\r\n",
    "\r\n",
    "<a href=\"#theor52\">Click here for the proof.</a>\r\n",
    "\r\n",
    "<p />\r\n",
    "Although this theorem shows that all finite groups can be considered as a subgroup of a symmetric group, the theorem can also apply to infinite groups as well. \r\n",
    "Of course we then must consider <em>infinite</em> symmetric groups, whose elements would be permutations on an infinite collection of objects. We might have a difficult \r\n",
    "time expressing some of the permutations! For example, if we had a library of an infinite number of books, we could not begin to express how one could rearrange the \r\n",
    "books. Some of the permutations could be expressed as one-to-one and onto functions. However, most of the permutations in an infinite symmetric group are not \r\n",
    "expressable using a finite number of words or symbols. Problems 10 through 12 of &sect;5.2 reveal some of the unusual properties of infinite symmetric groups. \r\n",
    "Fortunately, we will mainly work with finite symmetric groups.\r\n",
    "\r\n",
    "<br><br>\r\n",
    "Although Cayley's theorem (5.2) shows that any finite group <em>G</em> is a subgroup of <em>S<sub>n</sub></em>, where <em>n</em> is the size of the group <em>G</em>, \r\n",
    "we often can find a smaller symmetric group that contains an isomorphic copy of <em>G</em>.<br><br>\r\n",
    "\r\n",
    "EXAMPLE:<br>  \r\n",
    "Consider the group <em>D</em><sub>4</sub>, introduced in the last chapter, for which <nobr><em>a</em><sup>4</sup> = \r\n",
    "<em>b</em><sup>2</sup> = <em>e</em>,</nobr> and \r\n",
    "<em>b</em>&middot;<em>a</em> = <em>a</em><sup>3</sup>&middot;<em>b</em>.  Consider the effects of <strong>RightMult</strong> on the set of cosets, using \r\n",
    "a <em>non-normal</em> subgroup.<br>"
   ]
  },
  {
   "cell_type": "code",
   "execution_count": 0,
   "metadata": {
    "collapsed": false
   },
   "outputs": [
   ],
   "source": [
    "InitGroup(\"e\")\r\n",
    "AddGroupVar(\"a\", \"b\")\r\n",
    "Define(a^4, e)\r\n",
    "Define(b^2, e)\r\n",
    "Define(b*a, a^3*b)\r\n",
    "D4 = ListGroup()\r\n",
    "D4"
   ]
  },
  {
   "cell_type": "markdown",
   "metadata": {
    "collapsed": false
   },
   "source": [
    "<br>\r\n",
    " Let us consider a <em>non-normal</em> subgroup of <em>D</em><sub>4</sub>,<br>"
   ]
  },
  {
   "cell_type": "code",
   "execution_count": 0,
   "metadata": {
    "collapsed": false
   },
   "outputs": [
   ],
   "source": [
    "H = Group(b); H"
   ]
  },
  {
   "cell_type": "markdown",
   "metadata": {
    "collapsed": false
   },
   "source": [
    "<br>\r\n",
    "We saw in Cayley's theorem (5.2) that <strong>RightMult</strong> applied to the elements ofthe group derived a homomorphism.  What if we applied <strong>RightMult</strong> \r\n",
    "to the <em>cosets</em> of the subgroup?  Recall that <strong>RightMult(g)</strong> can be thought as a \r\n",
    "function <em>p<sub>g</sub></em>(<em>x</em>) = <em>g</em>&middot;<em>x</em>,\r\n",
    "that is, it multiplies the argument of the function to the right of <em>g</em>. If we apply this function to a left coset of <em>H</em>, we have \r\n",
    "<em>p<sub>g</sub></em>(<em>x H</em>) = <em>g</em>&middot;<em>x H</em>, which yields another left coset. (Right cosets won't work here, since \r\n",
    "<em>p<sub>g</sub></em>(<em>H x</em>) = <em>g</em>&middot;<em>H x</em>, which is neither a left nor right coset.)  Let us first create a list of left cosets.<br>"
   ]
  },
  {
   "cell_type": "code",
   "execution_count": 0,
   "metadata": {
    "collapsed": false
   },
   "outputs": [
   ],
   "source": [
    "L = LftCoset(D4, H); L"
   ]
  },
  {
   "cell_type": "markdown",
   "metadata": {
    "collapsed": false
   },
   "source": [
    "<br>\r\n",
    "What happens if we multiply each of the cosets by a fixed element of the group, say <em>a</em>?<br>"
   ]
  },
  {
   "cell_type": "code",
   "execution_count": 0,
   "metadata": {
    "collapsed": false
   },
   "outputs": [
   ],
   "source": [
    "CircleGraph(L, RightMult(a) )"
   ]
  },
  {
   "cell_type": "markdown",
   "metadata": {
    "collapsed": false
   },
   "source": [
    "<br>\r\n",
    "We see that each coset is mapped to another coset.  Once again, we have a one-to-one and onto mapping, which we can treat as a permutation.  Let us first number the \r\n",
    "right cosets of <em>H</em>.<br>\r\n",
    "\r\n",
    "<table align=\"center\" border=\"0\">\r\n",
    "  <tr>\r\n",
    "    <td align=\"right\">1 )</td>\r\n",
    "    <td align=\"left\">&emsp;{ <em>e</em>, <em>b</em> }</td>\r\n",
    "  </tr>\r\n",
    "  <tr>\r\n",
    "    <td align=\"right\">2 )</td>\r\n",
    "    <td align=\"left\">&emsp;{ <em>a</em>, <em>a</em>&middot;<em>b</em> }</td>\r\n",
    "  </tr>\r\n",
    "  <tr>\r\n",
    "    <td align=\"right\">3 )</td>\r\n",
    "    <td align=\"left\">&emsp;{ <em>a</em><sup>2</sup>, <em>a</em><sup>2</sup>&middot;<em>b</em> }</td>\r\n",
    "  </tr>\r\n",
    "  <tr>\r\n",
    "    <td align=\"right\">4 )</td>\r\n",
    "    <td align=\"left\">&emsp;{ <em>a</em><sup>3</sup>, <em>a</em><sup>3</sup>&middot;<em>b</em> }</td>\r\n",
    "  </tr>\r\n",
    "</table>\r\n",
    "\r\n",
    "<br>\r\n",
    "Then the circle graph shows that left multiplication by <em>a</em> is equivalent to the permutation (1 2 3 4).\r\n",
    "If we try this with the element <em>b</em> instead,<br>"
   ]
  },
  {
   "cell_type": "code",
   "execution_count": 0,
   "metadata": {
    "collapsed": false
   },
   "outputs": [
   ],
   "source": [
    "CircleGraph(L, RightMult(b) )"
   ]
  },
  {
   "cell_type": "markdown",
   "metadata": {
    "collapsed": false
   },
   "source": [
    "<br>\r\n",
    "the circle graph shows that right multiplication by <em>b</em> is equivalent to the permutation (2 4).<br>\r\n",
    "<br>\r\n",
    "\r\n",
    "EXPERIMENT:<br>\r\n",
    "Try replacing the elements <em>a</em> and <em>b</em> with other elements of the group.  Do the \r\n",
    "circle graphs produce permutations?<br>"
   ]
  },
  {
   "cell_type": "markdown",
   "metadata": {
    "collapsed": false
   },
   "source": [
    "<br>\r\n",
    "Since we have a permutation for each element of the group, the natural question is whether we have a homomorphism between the group \r\n",
    "<em>D</em><sub>4</sub> and the permutation group.  <em>Sage</em> can check for us.<br>"
   ]
  },
  {
   "cell_type": "code",
   "execution_count": 0,
   "metadata": {
    "collapsed": false
   },
   "outputs": [
   ],
   "source": [
    "S4 = Group(C(1,2), C(1,2,3), C(1,2,3,4) ); S4"
   ]
  },
  {
   "cell_type": "code",
   "execution_count": 0,
   "metadata": {
    "collapsed": false
   },
   "outputs": [
   ],
   "source": [
    "F = Homomorph(D4, S4)\r\n",
    "HomoDef(F, a, C(1,2,3,4) )\r\n",
    "HomoDef(F, b, C(2,4) )"
   ]
  },
  {
   "cell_type": "code",
   "execution_count": 0,
   "metadata": {
    "collapsed": false
   },
   "outputs": [
   ],
   "source": [
    "FinishHomo(F)"
   ]
  },
  {
   "cell_type": "markdown",
   "metadata": {
    "collapsed": false
   },
   "source": [
    "<br>\r\n",
    "So we indeed have a homomorhism, just as in Cayley's theorem. What is the kernel of this homomorphism?<br>"
   ]
  },
  {
   "cell_type": "code",
   "execution_count": 0,
   "metadata": {
    "collapsed": false
   },
   "outputs": [
   ],
   "source": [
    "Kernel(F)"
   ]
  },
  {
   "cell_type": "markdown",
   "metadata": {
    "collapsed": false
   },
   "source": [
    "<br>\r\n",
    "This proves that <em>D</em><sub>4</sub> is isomorphic to a subgroup of <em>S</em><sub>4</sub>.  Note that this is a much stronger result than Cayley's theorem (5.2), \r\n",
    "which only says that <em>D</em><sub>4</sub> is isomorphic to a subgroup of the larger group <em>S</em><sub>8</sub>.<br><br>\r\n",
    "\r\n",
    "We can now see the subgroup of <em>S</em><sub>4</sub> isomorphic to <em>D</em><sub>4</sub>.<br>"
   ]
  },
  {
   "cell_type": "code",
   "execution_count": 0,
   "metadata": {
    "collapsed": false
   },
   "outputs": [
   ],
   "source": [
    "Image(F, D4)"
   ]
  },
  {
   "cell_type": "code",
   "execution_count": 0,
   "metadata": {
    "collapsed": false
   },
   "outputs": [
   ],
   "source": [
    "MultTable(_)"
   ]
  },
  {
   "cell_type": "markdown",
   "metadata": {
    "collapsed": false
   },
   "source": [
    "<br>\r\n",
    "The multiplication table reveals a non-abelian group with 5 elements of order 2, so this is indeed isomorphic to <em>D</em><sub>4</sub>.  \r\n",
    "We can generalize this procedure to produce the following result:\r\n",
    "\r\n",
    "<p />\r\n",
    "<a name=\"theor53ret\" id=\"theor53ret\"></a>\r\n",
    "THEOREM 5.3: Generalized Cayley's Theorem<br>\r\n",
    "Let <em>G</em> be a finite group of order <em>n</em>, and <em>H</em> a subgroup of order <em>m</em>.  Then there is a homomophism \r\n",
    "from <em>G</em> to <em>S<sub>k</sub></em>, with <em>k</em> = <em>n</em>/<em>m</em>, and whose kernel is a subgroup of <em>H</em>.<br><br>\r\n",
    "\r\n",
    "<a href=\"#theor53\">Click here for the proof.</a>\r\n",
    "\r\n",
    "<p />\r\n",
    "We see one application of this proposition in the case of <em>D</em><sub>4</sub>.  Since <em>H</em> was a subgroup of order 2 which was <em>not</em> normal, the only \r\n",
    "normal subgroup of <em>G</em> that is contained in <em>H</em> is the trivial subgroup.  Thus, the homomorphism is an isomorphism, and we find a copy \r\n",
    "of <em>D</em><sub>4</sub> inside of <em>S</em><sub>4</sub> instead of having to look in the larger group <em>S</em><sub>8</sub>.  This idea can be applied \r\n",
    "whenever we can find a subgroup of <em>G</em> that does not contain any nontrivial normal subgroups of <em>G</em>.<br><br>\r\n",
    "\r\n",
    "But there is another important ramification from this proposition. We can prove the existence of a normal subgroup of a group, knowing only the order of the group!\r\n",
    "\r\n",
    "<p />\r\n",
    "<a name=\"cor52ret\" id=\"cor52ret\"></a>\r\n",
    "COROLLARY 5.2<br>\r\n",
    "Let <em>G</em> be a finite group, and <em>H</em> any subgroup of <em>G</em>. Then <em>H</em> contains a subgroup <em>N</em>, which is a normal subgroup of <em>G</em>, \r\n",
    "such that |<em>G</em>| divides (|<em>G</em>|/|<em>H</em>|)! &middot; |<em>N</em>|.<br><br>\r\n",
    "\r\n",
    "<a href=\"#cor52\">Click here for the proof.</a>\r\n",
    "\r\n",
    "<p />\r\n",
    "Here is an example of how we can prove the existence of a nontrivial normal subgroup, using just the order of the group.  Suppose we have a group <em>G</em> \r\n",
    "of order 108.  Suppose that <em>G</em> has a subgroup of order 27.  (We will find in &sect;7.4 that all groups of order 108 must have a subgroup of order 27.)  Using \r\n",
    "|<em>G</em>|=108 and |<em>H</em>|=27, we find that G must contain a normal subgroup <em>N</em> such that\r\n",
    "<p style='text-align: center;'>108 divides (108/27)! &middot;|<em>N</em>|=24&middot;|<em>N</em>|.</p>  \r\n",
    "But this means that |<em>N</em>| must be a multiple of 9.  Since <em>N</em> is a subgroup of <em>H</em>, which has order 27, we see that <em>N</em> is of \r\n",
    "order 9 or 27.  Hence, we have proven that <em>G</em> contains a normal subgroup of either order 9 or 27.  \r\n",
    "This will go a long way in finding the possible group structures of <em>G</em>, using only the size of the group <em>G</em>.<br><br>\r\n",
    "\r\n",
    "<a name=\"sec54\" id=\"sec54\"></a>\r\n",
    "<h1>Numbering the Permutations</h1>\r\n",
    "\r\n",
    "<br>\r\n",
    "We have seen that from Cayley's theorem that any group can be represented as the subgroup of a symmetric group. In turn, most of the permutations in the symmetric group \r\n",
    "can be written succinctly as a product of disjoint cycles. So naturally, we can express any group in terms of cycles.<br><br>\r\n",
    "\r\n",
    "For example, we saw using Cayley theorem a copy of the quaternionic group <em>Q</em> as a subgroup of <em>S<sub>8</sub></em>. It was generated by the elements\r\n",
    "<p style='text-align: center;'><em>&#981;</em>(<em>i</em>) = (1 2 5 6)(3 4 7 8)<br>\r\n",
    "                               <em>&#981;</em>(<em>j</em>) = (1 3 5 7)(2 8 6 4).</p>\r\n",
    "In fact, the entire group is given by<br>"
   ]
  },
  {
   "cell_type": "code",
   "execution_count": 0,
   "metadata": {
    "collapsed": false
   },
   "outputs": [
   ],
   "source": [
    "Q = Group( C(1,2,4,6)*C(3,5,7,8) , C(1,3,4,7)*C(2,8,6,5) ); Q"
   ]
  },
  {
   "cell_type": "markdown",
   "metadata": {
    "collapsed": false
   },
   "source": [
    "<br>\r\n",
    "To compare notation, let us convert these elements to permutaions.<br>"
   ]
  },
  {
   "cell_type": "code",
   "execution_count": 0,
   "metadata": {
    "collapsed": false
   },
   "outputs": [
   ],
   "source": [
    "[ CycleToPerm(x) for x in Q ]"
   ]
  },
  {
   "cell_type": "markdown",
   "metadata": {
    "collapsed": false
   },
   "source": [
    "<br>\r\n",
    "Which method is best?  For small groups, using cycles would be a good choice, because the results are easy to read. But for larger groups (say over 100 elements, and \r\n",
    "yes, we will be working with groups that large in the next chapter) having <em>Sage</em> write out all of the elements in terms of cycles would be time consuming \r\n",
    "and messy. It would be nice to have a succinct way to describe each permutation using some kind of abbreviation.<br><br>\r\n",
    "\r\n",
    "The clue for seeing how such an abbreviation is possible is to look again at the group <em>S</em><sub>4</sub>, using permutation notation.<br>"
   ]
  },
  {
   "cell_type": "code",
   "execution_count": 0,
   "metadata": {
    "collapsed": false
   },
   "outputs": [
   ],
   "source": [
    "S4 = Group( P(2,1), P(2,3,1), P(2,3,4,1) ); S4"
   ]
  },
  {
   "cell_type": "markdown",
   "metadata": {
    "collapsed": false
   },
   "source": [
    "<br>\r\n",
    "Notice that <em>Sage</em> sorts the elements, first listing the identity, then the transposition which exchanges 1 and 2, then the permutations which change \r\n",
    "only the first three elements, and finally the permutations which move the fourth element. But if we look closely we can find even more patterns. \r\n",
    "For example, the last six elements are the six elements which map 4 into 1. Can you see any other patterns?<br><br>\r\n",
    "\r\n",
    "<em>Sage</em> uses a predefined order to list all of the permutations.  As a result, we can number the permutations as follows:<br><br>\r\n",
    "\r\n",
    "<table align=\"center\" border=\"0\">\r\n",
    "  <tr>\r\n",
    "    <td align=\"right\">1<sup>st</sup> permutation = </td>\r\n",
    "    <td align=\"left\">&ensp;<em>P</em>( )</td>\r\n",
    "  </tr>\r\n",
    "  <tr>\r\n",
    "    <td align=\"right\">2<sup>nd</sup> permutation = </td>\r\n",
    "    <td align=\"left\">&ensp;<em>P</em>(2, 1)</td>\r\n",
    "  </tr>\r\n",
    "  <tr>\r\n",
    "    <td align=\"right\">3<sup>rd</sup> permutation = </td>\r\n",
    "    <td align=\"left\">&ensp;<em>P</em>(1, 3, 2)</td>\r\n",
    "  </tr>\r\n",
    "  <tr>\r\n",
    "    <td align=\"right\">4<sup>th</sup> permutation = </td>\r\n",
    "    <td align=\"left\">&ensp;<em>P</em>(3, 1, 2)</td>\r\n",
    "  </tr>\r\n",
    "  <tr>\r\n",
    "    <td align=\"right\">5<sup>th</sup> permutation = </td>\r\n",
    "    <td align=\"left\">&ensp;<em>P</em>(2, 3, 1)</td>\r\n",
    "  </tr>\r\n",
    "  <tr>\r\n",
    "    <td align=\"right\">6<sup>th</sup> permutation = </td>\r\n",
    "    <td align=\"left\">&ensp;<em>P</em>(3, 2, 1)</td>\r\n",
    "  </tr>\r\n",
    "  <tr>\r\n",
    "    <td align=\"right\">7<sup>th</sup> permutation = </td>\r\n",
    "    <td align=\"left\">&ensp;<em>P</em>(1, 2, 4, 3)</td>\r\n",
    "  </tr>\r\n",
    "  <tr>\r\n",
    "    <td align=\"right\">&hellip;&hellip;&hellip; </td>\r\n",
    "    <td align=\"left\">&hellip;&hellip;&hellip;</td>\r\n",
    "  </tr>\r\n",
    "  <tr>\r\n",
    "    <td align=\"right\">24<sup>th</sup> permutation = </td>\r\n",
    "    <td align=\"left\">&ensp;<em>P</em>(4, 3, 2, 1)</td>\r\n",
    "  </tr>        \r\n",
    "</table>\r\n",
    "<br>\r\n",
    "In this list the first 2 elements give the group <em>S</em><sub>2</sub>, the first 6 give  <em>S</em><sub>3</sub>, and the first 24 elements give  <em>S</em><sub>4</sub>.\r\n",
    "This pattern can be extended to higher order permutations, so that the first <em>n!</em> permutations gives the group <em>S<sub>n</sub></em>.<br><br>\r\n",
    " \r\n",
    "The advantage of sorting the permutations in this way is that <em>Sage</em> can quickly find the <em>n</em><sup>th</sup> permutation without having to find any of the \r\n",
    "previous permutations.  For example, to find out what the 2000th permutation would be on this list, type<br>"
   ]
  },
  {
   "cell_type": "code",
   "execution_count": 0,
   "metadata": {
    "collapsed": false
   },
   "outputs": [
   ],
   "source": [
    "NthPerm(2000)"
   ]
  },
  {
   "cell_type": "markdown",
   "metadata": {
    "collapsed": false
   },
   "source": [
    "<br>\r\n",
    "<em>Sage</em> can also determine where a given permutation is on the list of permutations. The command <strong>PermToInt</strong>( P(&hellip;&hellip;&hellip;) ) converts \r\n",
    "a permutation to a number<br>"
   ]
  },
  {
   "cell_type": "code",
   "execution_count": 0,
   "metadata": {
    "collapsed": false
   },
   "outputs": [
   ],
   "source": [
    "PermToInt(P(4,1,7,6,3,2,5))"
   ]
  },
  {
   "cell_type": "markdown",
   "metadata": {
    "collapsed": false
   },
   "source": [
    "<br>\r\n",
    "We now have found a way of abbreviating permutations.  Rather than spelling out where each element is mapped, we can give a single number that describes where the \r\n",
    "permutation is on the list of permutations. This will be called the <em>integer representation</em> of the permutation. Although this representation hides most of \r\n",
    "the information about the permutation, <em>Sage</em> can quickly recover all of the information needed to do group operations.<br><br>\r\n",
    "\r\n",
    "For example, suppose we want to multiply the 3<sup>rd</sup> permutation with the 21<sup>st</sup>. We could enter the command<br>"
   ]
  },
  {
   "cell_type": "code",
   "execution_count": 0,
   "metadata": {
    "collapsed": false
   },
   "outputs": [
   ],
   "source": [
    "NthPerm(3) * NthPerm(21)"
   ]
  },
  {
   "cell_type": "markdown",
   "metadata": {
    "collapsed": false
   },
   "source": [
    "<br>\r\n",
    "We could convert this back to a number as follows:<br>"
   ]
  },
  {
   "cell_type": "code",
   "execution_count": 0,
   "metadata": {
    "collapsed": false
   },
   "outputs": [
   ],
   "source": [
    "PermToInt( NthPerm(3) * NthPerm(21) )"
   ]
  },
  {
   "cell_type": "markdown",
   "metadata": {
    "collapsed": false
   },
   "source": [
    "<br>\r\n",
    "So the 3<sup>rd</sup> permutation times the 21<sup>st</sup> permutation gives the 23<sup>rd</sup> permutation. If we multiplied in the other order, we would have<br>"
   ]
  },
  {
   "cell_type": "code",
   "execution_count": 0,
   "metadata": {
    "collapsed": false
   },
   "outputs": [
   ],
   "source": [
    "PermToInt( NthPerm(21) * NthPerm(3) )"
   ]
  },
  {
   "cell_type": "markdown",
   "metadata": {
    "collapsed": false
   },
   "source": [
    "<br>\r\n",
    "So the 21<sup>st</sup> permutation times the 3<sup>rd</sup> permutation gives the 19<sup>th</sup> permutation.<br>\r\n",
    "<br>\r\n",
    " \r\n",
    "EXPERIMENT:<br>\r\n",
    "Try entering in different numbers in place of 21 and 3, to see what happens.<br>"
   ]
  },
  {
   "cell_type": "markdown",
   "metadata": {
    "collapsed": false
   },
   "source": [
    "<br>\r\n",
    "<em>Sage</em> provides an abbreviation to the permutations.  By setting the variable <strong>DisplayPermInt</strong> to true, permutations will be displayed as \r\n",
    "their integer counterpart.<br>"
   ]
  },
  {
   "cell_type": "code",
   "execution_count": 0,
   "metadata": {
    "collapsed": false
   },
   "outputs": [
   ],
   "source": [
    "DisplayPermInt = true"
   ]
  },
  {
   "cell_type": "code",
   "execution_count": 0,
   "metadata": {
    "collapsed": false
   },
   "outputs": [
   ],
   "source": [
    "P(4,1,7,6,3,2,5)"
   ]
  },
  {
   "cell_type": "markdown",
   "metadata": {
    "collapsed": false
   },
   "source": [
    "<br>\r\n",
    "Now many of <em>Sage</em>'s operations can be done with integer abreviation of the elements.  For example, we found that the quaternionic group <em>Q</em> was \r\n",
    "isomorphic to a subgroup of <em>S</em><sub>8</sub>, generated by the elements \r\n",
    "<p style='text-align: center;'>(1 2 5 6)(3 4 7 8) and (1 3 5 7)(2 8 6 4).</p> \r\n",
    "We first convert these cycles to permutations, which will display as integers.<br>"
   ]
  },
  {
   "cell_type": "code",
   "execution_count": 0,
   "metadata": {
    "collapsed": false
   },
   "outputs": [
   ],
   "source": [
    "CycleToPerm( C(1,2,5,6)*C(3,4,7,8) )"
   ]
  },
  {
   "cell_type": "code",
   "execution_count": 0,
   "metadata": {
    "collapsed": false
   },
   "outputs": [
   ],
   "source": [
    "CycleToPerm( C(1,3,5,7)*C(2,8,6,4) )"
   ]
  },
  {
   "cell_type": "markdown",
   "metadata": {
    "collapsed": false
   },
   "source": [
    "<br>\r\n",
    "So we find that the quaternionic group contains the 25827<sup>th</sup> and 14805<sup>th</sup> permutations.  Now we can form the group using these two permutaions as generators.<br>"
   ]
  },
  {
   "cell_type": "code",
   "execution_count": 0,
   "metadata": {
    "collapsed": false
   },
   "outputs": [
   ],
   "source": [
    "Q = Group(NthPerm(25827), NthPerm(14805)); Q"
   ]
  },
  {
   "cell_type": "markdown",
   "metadata": {
    "collapsed": false
   },
   "source": [
    "<br>\r\n",
    "So the entire group can be given on a single line in a way which expresses the entire structure of the group. We can see the multiplication table of the group<br>"
   ]
  },
  {
   "cell_type": "code",
   "execution_count": 0,
   "metadata": {
    "collapsed": false
   },
   "outputs": [
   ],
   "source": [
    "MultTable(Q)"
   ]
  },
  {
   "cell_type": "markdown",
   "metadata": {
    "collapsed": false
   },
   "source": [
    "<br>\r\n",
    "and see that the group is isomorphic to <em>Q</em>.  This integer representation is succint enough to form such a table, and has many other advantages over cyclic \r\n",
    "permutations, especially when we are working with large subgroups of the symmetric groups.  Not only is it much easier to identify two elements as being the same, \r\n",
    "but also the elements do not take up as much room to display.<br><br>\r\n",
    "\r\n",
    "We can return to the standard notation for permutations by setting <strong>DisplayPermInt</strong> to false.<br>"
   ]
  },
  {
   "cell_type": "code",
   "execution_count": 0,
   "metadata": {
    "collapsed": false
   },
   "outputs": [
   ],
   "source": [
    "DisplayPermInt = false"
   ]
  },
  {
   "cell_type": "code",
   "execution_count": 0,
   "metadata": {
    "collapsed": false
   },
   "outputs": [
   ],
   "source": [
    "MultTable(Q)"
   ]
  },
  {
   "cell_type": "markdown",
   "metadata": {
    "collapsed": false
   },
   "source": [
    "<br>\r\n",
    "This multiplication table is harder to read.  Thus, it is worthwhile to introduce the new representation.<br><br>\r\n",
    "\r\n",
    "There are simple algorithms to convert from the permutation representation to the integer representation and back without a computer.  We begin by presenting a method of converting from a permutation to a integer.<br><br>\r\n",
    "\r\n",
    "EXAMPLE:<br>\r\n",
    "\r\n",
    "Demonstrate without <em>Sage</em> that P(4, 1, 7, 6, 3, 2, 5) is the 2000<sup>th</sup> permutation.<br><br>\r\n",
    "\r\n",
    "For each number in the permutation, we count how many numbers further left are larger than that number.  For example, the 4 has no numbers further left, so the count \r\n",
    "would be 0.  The 3, however, has three numbers to the left of it which are larger, namely 4, 7, and 6.\r\n",
    "Here are the results of these counts.\r\n",
    "<p style='text-align: center;'>P(4, 1, 7, 6, 3, 2, 5)<br>\r\n",
    "                                 &ensp;0&ensp;&thinsp;1&ensp;&thinsp;0&ensp;&thinsp;1&ensp;&thinsp;3&ensp;&thinsp;4&ensp;&thinsp;2</p>\r\n",
    "Next, we multiply each of these counts by (<em>n</em> &minus; 1)!, and add the products together, and finally add 1.  Thus, \r\n",
    "<p style='text-align: center;'>0 &middot; 0! + 1 &middot; 1! + 0 &middot; 2! + 1 &middot; 3! + 3 &middot; 4! + 4 &middot; 5! + 2 &middot; 6! + 1 = 2000.</p>\r\n",
    "<br>\r\n",
    "A similar algorithm reverses the procedure, and determines the <em>n</em><sup>th</sup> permutation.<br><br>\r\n",
    "\r\n",
    "EXAMPLE:<br>\r\n",
    "Determine the 4000<sup>th</sup> permutation without <em>Sage</em>.<br><br>\r\n",
    "\r\n",
    "We begin by subtracting 1, then using the division algorithm to successively divide by 2, 3, 4, etc., until the quotient is 0.<br><br>\r\n",
    "\r\n",
    "<table align=\"center\" border=\"0\">\r\n",
    "  <tr>\r\n",
    "    <td align=\"right\">3999 = 2 &middot;</td>\r\n",
    "    <td align=\"right\">1999 + 1</td>\r\n",
    "  </tr>\r\n",
    "  <tr>\r\n",
    "    <td align=\"right\">1999 = 3 &middot;</td>\r\n",
    "    <td align=\"right\">666 + 1</td>\r\n",
    "  </tr>\r\n",
    "  <tr>\r\n",
    "    <td align=\"right\">666 = 4 &middot;</td>\r\n",
    "    <td align=\"right\">166 + 2</td>\r\n",
    "  </tr>\r\n",
    "  <tr>\r\n",
    "    <td align=\"right\">166 = 5 &middot;</td>\r\n",
    "    <td align=\"right\">33 + 1</td>\r\n",
    "  </tr>\r\n",
    "  <tr>\r\n",
    "    <td align=\"right\">33 = 6 &middot;</td>\r\n",
    "    <td align=\"right\">5 + 3</td>\r\n",
    "  </tr>\r\n",
    "  <tr>\r\n",
    "    <td align=\"right\">5 = 7 &middot;</td>\r\n",
    "    <td align=\"right\">0 + 5</td>\r\n",
    "  </tr>        \r\n",
    "</table>\r\n",
    "\r\n",
    "<br>\r\n",
    "Since the last division was by <em>n</em> = 7, the permutation is in <em>S</em><sub>7</sub>.  We will use the remainders to determine the permutation, starting from the \r\n",
    "last remainder, and working towards the first.  We start with a list of numbers from 1 to <em>n</em>:  \r\n",
    "<p style='text-align: center;'>{1, 2, 3, 4, 5, 6, 7}</p>\r\n",
    "\r\n",
    "For each remainder <em>m</em>, we \r\n",
    "consider the (<em>m</em> + 1)<sup>st</sup> largest number in the list which has not been crossed out.  Since the last remainder is 5, we take the 6<sup>th</sup> largest number, which is 2.  This eliminates 2 from the list.<br><br>\r\n",
    "\r\n",
    "<table align=\"center\" border=\"0\">\r\n",
    "  <tr>\r\n",
    "    <td align=\"right\">3999 = 2 &middot;</td>\r\n",
    "    <td align=\"right\">1999 + 1</td>\r\n",
    "    <td></td>\r\n",
    "  </tr>\r\n",
    "  <tr>\r\n",
    "    <td align=\"right\">1999 = 3 &middot;</td>\r\n",
    "    <td align=\"right\">666 + 1</td>\r\n",
    "    <td></td>\r\n",
    "  </tr>\r\n",
    "  <tr>\r\n",
    "    <td align=\"right\">666 = 4 &middot;</td>\r\n",
    "    <td align=\"right\">166 + 2</td>\r\n",
    "    <td></td>\r\n",
    "  </tr>\r\n",
    "  <tr>\r\n",
    "    <td align=\"right\">166 = 5 &middot;</td>\r\n",
    "    <td align=\"right\">33 + 1</td>\r\n",
    "    <td></td>\r\n",
    "  </tr>\r\n",
    "  <tr>\r\n",
    "    <td align=\"right\">33 = 6 &middot;</td>\r\n",
    "    <td align=\"right\">5 + 3</td>\r\n",
    "    <td></td>\r\n",
    "  </tr>\r\n",
    "  <tr>\r\n",
    "    <td align=\"right\">5 = 7 &middot;</td>\r\n",
    "    <td align=\"right\">0 + 5</td>\r\n",
    "    <td align=\"left\"> &#10233; 2</td>\r\n",
    "  </tr>        \r\n",
    "</table>  \r\n",
    "<p style='text-align: center;'>{1, <font style=\"text-decoration:line-through\">2</font>, 3, 4, 5, 6, 7}</p>\r\n",
    "\r\n",
    "Here is the result after processing two more remainders.\r\n",
    "\r\n",
    "<table align=\"center\" border=\"0\">\r\n",
    "  <tr>\r\n",
    "    <td align=\"right\">3999 = 2 &middot;</td>\r\n",
    "    <td align=\"right\">1999 + 1</td>\r\n",
    "    <td></td>\r\n",
    "  </tr>\r\n",
    "  <tr>\r\n",
    "    <td align=\"right\">1999 = 3 &middot;</td>\r\n",
    "    <td align=\"right\">666 + 1</td>\r\n",
    "    <td></td>\r\n",
    "  </tr>\r\n",
    "  <tr>\r\n",
    "    <td align=\"right\">666 = 4 &middot;</td>\r\n",
    "    <td align=\"right\">166 + 2</td>\r\n",
    "    <td></td>\r\n",
    "  </tr>\r\n",
    "  <tr>\r\n",
    "    <td align=\"right\">166 = 5 &middot;</td>\r\n",
    "    <td align=\"right\">33 + 1</td>\r\n",
    "    <td align=\"left\"> &#10233; 6</td>\r\n",
    "  </tr>\r\n",
    "  <tr>\r\n",
    "    <td align=\"right\">33 = 6 &middot;</td>\r\n",
    "    <td align=\"right\">5 + 3</td>\r\n",
    "    <td align=\"left\"> &#10233; 4</td>\r\n",
    "  </tr>\r\n",
    "  <tr>\r\n",
    "    <td align=\"right\">5 = 7 &middot;</td>\r\n",
    "    <td align=\"right\">0 + 5</td>\r\n",
    "    <td align=\"left\"> &#10233; 2</td>\r\n",
    "  </tr>        \r\n",
    "</table>  \r\n",
    "<p style='text-align: center;'>{1, <font style=\"text-decoration:line-through\">2</font>, 3, <font style=\"text-decoration:line-through\">4</font>, 5, <font style=\"text-decoration:line-through\">6</font>, 7}</p>\r\n",
    "\r\n",
    "The next remainder is 2, so we take the 3<sup>rd</sup> largest number which is not crossed out, which is 3.  Continuing, we get the following.<br><br>\r\n",
    "\r\n",
    "<table align=\"center\" border=\"0\">\r\n",
    "  <tr>\r\n",
    "    <td align=\"right\">3999 = 2 &middot;</td>\r\n",
    "    <td align=\"right\">1999 + 1</td>\r\n",
    "    <td align=\"left\"> &#10233; 1</td>\r\n",
    "  </tr>\r\n",
    "  <tr>\r\n",
    "    <td align=\"right\">1999 = 3 &middot;</td>\r\n",
    "    <td align=\"right\">666 + 1</td>\r\n",
    "    <td align=\"left\"> &#10233; 5</td>\r\n",
    "  </tr>\r\n",
    "  <tr>\r\n",
    "    <td align=\"right\">666 = 4 &middot;</td>\r\n",
    "    <td align=\"right\">166 + 2</td>\r\n",
    "    <td align=\"left\"> &#10233; 3</td>\r\n",
    "  </tr>\r\n",
    "  <tr>\r\n",
    "    <td align=\"right\">166 = 5 &middot;</td>\r\n",
    "    <td align=\"right\">33 + 1</td>\r\n",
    "    <td align=\"left\"> &#10233; 6</td>\r\n",
    "  </tr>\r\n",
    "  <tr>\r\n",
    "    <td align=\"right\">33 = 6 &middot;</td>\r\n",
    "    <td align=\"right\">5 + 3</td>\r\n",
    "    <td align=\"left\"> &#10233; 4</td>\r\n",
    "  </tr>\r\n",
    "  <tr>\r\n",
    "    <td align=\"right\">5 = 7 &middot;</td>\r\n",
    "    <td align=\"right\">0 + 5</td>\r\n",
    "    <td align=\"left\"> &#10233; 2</td>\r\n",
    "  </tr>        \r\n",
    "</table>  \r\n",
    "<p style='text-align: center;'>{<font style=\"text-decoration:line-through\">1</font>, <font style=\"text-decoration:line-through\">2</font>, <font style=\"text-decoration:line-through\">3</font>, <font style=\"text-decoration:line-through\">4</font>, <font style=\"text-decoration:line-through\">5</font>, <font style=\"text-decoration:line-through\">6</font>, 7}</p> \r\n",
    "\r\n",
    "The only number not crossed out is 7, which becomes the first number in the permutation. The rest of the permutation can be read from the new numbers from top to bottom, producing P(7, 1, 5, 3, 6, 4, 2).<br><br>\r\n",
    "\r\n",
    "EXPERIMENT:<br>\r\n",
    "Use the method of the previous example to verify that P(7, 1, 5, 3, 6, 4, 2) is indeed the 4000<sup>th</sup> permutation.<br><br>\r\n",
    "\r\n",
    "The simple algorithms for converting permutations to integers and back make this association more natural. It also explains why Mathematica is able to convert \r\n",
    "permutations so quickly.\r\n",
    "\r\n",
    "<br><br><br><br><br><br><br><br><br><br><br><br><br><br><br><br><br><br><br><br><br><br><br><br><br><br><br><br><br><br><br><br><br><br><br><br><br><br><br><br><br><br>\r\n",
    "\r\n",
    "<h1>Proofs:</h1>\r\n",
    "\r\n",
    "<a name=\"lem51\" id=\"lem51\"></a>\r\n",
    "\r\n",
    "Proof of Lemma 5.1:<br><br>\r\n",
    "\r\n",
    "Let us say that <em>x</em> fixes the integer <em>i</em> if <em>x</em>(<em>i</em>) = <em>i</em>. We will use induction on the number of integers not left fixed \r\n",
    "by <em>x</em>, denoted by <em>m</em>. Because <em>x</em> is not the identity, there is at least one integer not fixed by <em>x</em>. In fact, <em>m</em> must \r\n",
    "be at least 2, for the first integer must have somewhere to go.<br><br>\r\n",
    "\r\n",
    "If <em>m</em> = 2, then only two numbers <em>i</em><sub>1</sub> and <em>i</em><sub>2</sub> are moved. Since these are the only two integers not fixed, <em>x</em> must be \r\n",
    "a 2-cycle (<em>i</em><sub>1</sub> <em>i</em><sub>2</sub>).<br><br>\r\n",
    "\r\n",
    "We now will assume by induction that the lemma is true whenever the number of integers not left fixed by <em>x</em> is fewer than <em>m</em>. Let <em>i</em><sub>1</sub>\r\n",
    "be one integer that is not fixed, and let <em>i</em><sub>2</sub> = <em>x</em>(<em>i</em><sub>1</sub>). Then <em>x</em>(<em>i</em><sub>2</sub>) cannot be \r\n",
    "<em>i</em><sub>2</sub> for <em>x</em> is one-to-one, and if <em>x</em>(<em>i</em><sub>2</sub>) is not <em>i</em><sub>1</sub>, we define \r\n",
    "<em>i</em><sub>3</sub> = <em>x</em>(<em>i</em><sub>2</sub>).  Likewise, <em>x</em>(<em>i</em><sub>3</sub>) cannot be either <em>i</em><sub>2</sub> or \r\n",
    "<em>i</em><sub>3</sub>, since <em>x</em> is one-to-one.  If <em>x</em>(<em>i</em><sub>3</sub>) is not <em>i</em><sub>1</sub>, we define \r\n",
    "<em>i</em><sub>4</sub> = <em>x</em>(<em>i</em><sub>3</sub>).<br><br>\r\n",
    " \r\n",
    "Eventually this process must stop, for there are only <em>m</em> elements that are not fixed by <em>x</em>. Thus, there must be some value <em>k</em> such that \r\n",
    "<em>x</em>(<em>i<sub>k</sub></em>) = <em>i</em><sub>1</sub>. Define the permutation <em>y</em> to be the <em>k</em>-cycle \r\n",
    "(<em>i</em><sub>1</sub> <em>i</em><sub>2</sub> <em>i</em><sub>3</sub> &hellip; <em>i<sub>k</sub></em>).  <br>\r\n",
    "Then <em>x</em>&middot;<em>y</em><sup>-1</sup> fixes \r\n",
    "all of the integers fixed by <em>x</em>, along with <em>i</em><sub>1</sub>, <em>i</em><sub>2</sub>, <em>i</em><sub>3</sub>, &hellip; <em>i<sub>k</sub></em>.\r\n",
    "By induction, since there are fewer integers not fixed by <em>x</em>&middot;<em>y</em><sup>-1</sup> then by <em>x</em>, <em>x</em>&middot;<em>y</em><sup>-1</sup>\r\n",
    "can be espressed by a series of nontrivial disjoint cycles \r\n",
    "<em>c</em><sub>1</sub>&middot;<em>c</em><sub>2</sub>&middot;<em>c</em><sub>3</sub>&middot;&hellip;&middot;<em>c<sub>t</sub></em>.  Moreover, the integers appearing \r\n",
    "in <em>c</em><sub>1</sub>&middot;<em>c</em><sub>2</sub>&middot;<em>c</em><sub>3</sub>&middot;&hellip;&middot;<em>c<sub>t</sub></em> are just those that are not fixed \r\n",
    "by <em>x</em>&middot;<em>y</em><sup>-1</sup>. Thus, <em>c</em><sub>1</sub>, <em>c</em><sub>2</sub>, <em>c</em><sub>3</sub>, &hellip;, <em>c<sub>t</sub></em>\r\n",
    "are disjoint from <em>y</em>.  Finally, we have\r\n",
    "<p style='text-align: center;'><em>x</em> = \r\n",
    "<em>y</em>&middot;<em>c</em><sub>1</sub>&middot;<em>c</em><sub>2</sub>&middot;<em>c</em><sub>3</sub>&middot;&hellip;&middot;<em>c<sub>t</sub></em>.</p>\r\n",
    "Therefore, <em>x</em> can be written as a product of disjoint nontrivial cycles. By induction, every permutation besides the identity can be written as a product \r\n",
    "of nontrivial disjoint cycles.<br><br>\r\n",
    "\r\n",
    "For the uniqueness, suppose that a permutation <em>x</em> has two ways of being written is terms of nontrivial disjoint cycles:\r\n",
    "<p style='text-align: center;'><em>x</em> = <em>c</em><sub>1</sub>&middot;<em>c</em><sub>2</sub>&middot;<em>c</em><sub>3</sub>&middot;&hellip;&middot;<em>c<sub>r</sub></em>\r\n",
    "= <em>d</em><sub>1</sub>&middot;<em>d</em><sub>2</sub>&middot;<em>d</em><sub>3</sub>&middot;&hellip;&middot;<em>d<sub>s</sub></em>.</p>\r\n",
    "For any integer <em>i</em><sub>1</sub>  not fixed by <em>x</em>, one and only one cycle must contain <em>i</em><sub>1</sub>.  Suppose that cycle is \r\n",
    "<em>c<sub>j</sub></em> = (<em>i</em><sub>1</sub>, <em>i</em><sub>2</sub>, <em>i</em><sub>3</sub>, &hellip; <em>i<sub>q</sub></em>).  But by the way we constructed \r\n",
    "the cycles above, this cycle must also be one of the <em>d<sub>k</sub></em>'s.  Thus, each cycle <em>c<sub>j</sub></em> is equal to \r\n",
    "<em>d<sub>k</sub></em> for some <em>k</em>. By symmetry, each <em>d<sub>k</sub></em> is equal to <em>c<sub>j</sub></em> for some <em>j</em>. Thus, the two ways of \r\n",
    "writing <em>x</em> in terms of nontrivial disjoint cycles are merely rearrangements of the cycles.<br><br>\r\n",
    "\r\n",
    "<a href=\"#lem51ret\">Return to text</a>\r\n",
    "\r\n",
    "<br><br><br><br><br><br><br><br><br><br><br><br><br><br><br><br><br><br><br><br><br><br><br><br><br><br><br><br><br><br><br><br><br><br><br><br><br><br><br><br><br><br>\r\n",
    "\r\n",
    "<a name=\"lem52\" id=\"lem52\"></a>\r\n",
    "\r\n",
    "Proof of Lemma 5.2:<br><br>\r\n",
    "\r\n",
    "We need to show that every element of <em>S<sub>n</sub></em> can be written as a product of transpositions.  The identity element can be written as <nobr>(1 2)(1 2),</nobr> so we let \r\n",
    "<em>x</em> be a permutation that is not the identity.  By Lemma 5.1, we can express <em>x</em> as a product of nontrivial disjoint cycles:\r\n",
    "<p style='text-align: center;'><em>x</em> = (<em>i</em><sub>1</sub> <em>i</em><sub>2</sub> <em>i</em><sub>3</sub> &hellip; \r\n",
    "<em>i<sub>r</sub></em>)&middot;(<em>j</em><sub>1</sub> <em>j</em><sub>2</sub> &hellip; <em>j<sub>s</sub></em>)&middot;(<em>k</em><sub>1</sub> <em>k</em><sub>2</sub> \r\n",
    "&hellip; <em>k<sub>t</sub></em>)&middot;&hellip;.</p>\r\n",
    "Now, consider the product of transpositions\r\n",
    "<p style='text-align: center;'>(<em>i</em><sub>1</sub> <em>i</em><sub>2</sub>)&middot;(<em>i</em><sub>2</sub> \r\n",
    "<em>i</em><sub>3</sub>)&middot; &#8943; &middot;(<em>i</em><sub><em>r</em>&minus;1</sub> <em>i<sub>r</sub></em>)&middot;(<em>j</em><sub>1</sub> \r\n",
    "<em>j</em><sub>2</sub>)&middot;(<em>j</em><sub>2</sub> <em>j</em><sub>3</sub>)&middot; &#8943; &middot;(<em>j</em><sub><em>s</em>&minus;1</sub> \r\n",
    "<em>j<sub>s</sub></em>)&middot;(<em>k</em><sub>1</sub> <em>k</em><sub>2</sub>)&middot; &#8943; &middot;(<em>k</em><sub><em>t</em>&minus;1</sub> <em>k<sub>t</sub></em>)&middot; &#8943; .</p>\r\n",
    "Note that this product is equal to <em>x</em>. (Recall that we are working from right to left.)  Therefore, we have expressed every element of <em>S<sub>n</sub></em>\r\n",
    "as a product of transpositions.<br><br>\r\n",
    "\r\n",
    "<a href=\"#lem52ret\">Return to text</a>\r\n",
    "\r\n",
    "<br><br><br><br><br><br><br><br><br><br><br><br><br><br><br><br><br><br><br><br><br><br><br><br><br><br><br><br><br><br><br><br><br><br><br><br><br><br><br><br><br><br>\r\n",
    "\r\n",
    "<a name=\"lem53\" id=\"lem53\"></a>\r\n",
    "\r\n",
    "Proof of Lemma 5.3:<br><br>\r\n",
    "\r\n",
    "Since <em>S</em><sub>2</sub> only contains one transposition, (1 2), raising this to an odd power will not be the identity element, so the lemma is true for the case \r\n",
    "<em>n</em> = 2.  So by induction we can assume that the lemma is true for <em>S</em><sub><em>n</em>&minus;1</sub>.  Suppose that there is an odd number of transpositions \r\n",
    "producing the identity in <em>S<sub>n</sub></em>.  Then we can find such a product that uses the fewest number of transpositions, say <em>k</em> transpositions, \r\n",
    "with <em>k</em> odd.  At least one transposition will \r\n",
    "involve moving <em>n</em>, since the lemma is true for <em>S</em><sub><em>n</em>&minus;1</sub>.  \r\n",
    "Suppose that the <em>m</em><sup>th</sup> transposition is the last one that \r\n",
    "moves <em>n</em>.  If <em>m</em> = 1, then only the first transposition moves <em>n</em>, so the product cannot be the identity.  We \r\n",
    "will now use induction on <em>m</em>.  That is, \r\n",
    "we will assume that no product of <em>k</em> transpositions can be the identity for a smaller <em>m</em>.   But then the (<em>m</em> &minus; 1)<sup>st</sup> \r\n",
    "and <em>m</em><sup>th</sup> transpositions are one of the four possibilities\r\n",
    "<p style='text-align: center;'>(<em>n</em> <em>x</em>)(<em>n</em> <em>x</em>), (<em>n</em> <em>x</em>)(<em>n</em> <em>y</em>), \r\n",
    "(<em>x</em> <em>y</em>)(<em>n</em> <em>x</em>), or (<em>y</em> <em>x</em>)(<em>n</em> <em>x</em>)</p>\r\n",
    "for some <em>x</em>, <em>y</em>, and <em>z</em>.  In the first case, the two transpositions cancel, so we can form a product using a fewer number of transpositions.  In \r\n",
    "the other three cases, we can replase the pair with another pair,\r\n",
    "<p style='text-align: center;'>(<em>n</em> <em>x</em>)(<em>n</em> <em>y</em>) = (<em>n</em> <em>y</em>)(<em>x</em> <em>y</em>);&emsp; \r\n",
    "(<em>x</em> <em>y</em>)(<em>n</em> <em>x</em>) = (<em>n</em> <em>y</em>)(<em>x</em> <em>y</em>);&emsp;\r\n",
    "(<em>y</em> <em>z</em>)(<em>n</em> <em>x</em>) = (<em>n</em> <em>x</em>)(<em>y</em> <em>z</em>);</p>\r\n",
    "for which <em>m</em> is smaller.  Thus, there is no odd product of transpositions in <em>S<sub>n</sub></em> equaling the identity.<br><br>\r\n",
    "  \r\n",
    "<a href=\"#lem53ret\">Return to text</a>\r\n",
    "\r\n",
    "<br><br><br><br><br><br><br><br><br><br><br><br><br><br><br><br><br><br><br><br><br><br><br><br><br><br><br><br><br><br><br><br><br><br><br><br><br><br><br><br><br><br>\r\n",
    "\r\n",
    "<a name=\"theor51\" id=\"theor51\"></a>\r\n",
    "\r\n",
    "Proof of Theorem 5.1:<br><br>  \r\n",
    "  \r\n",
    "By Lemma 5.2, every element of <em>S<sub>n</sub></em> can be written as a product of transpositions, so <em>&sigma;</em>(<em>x</em>) is well defined.  Obviously this \r\n",
    "maps <em>S<sub>n</sub></em> to {&minus;1, 1}, so we only need to establish that this is a homomorphism.  Suppose that \r\n",
    "<p style='text-align: center;'><em>&sigma;</em>(<em>x</em>&middot;<em>y</em>) &ne; <em>&sigma;</em>(<em>x</em>)&middot;<em>&sigma;</em>(<em>y</em>).</p> \r\n",
    "Then <em>N</em>(<em>x</em>&middot;<em>y</em>) &minus; (<em>N</em>(<em>x</em>) + <em>N</em>(<em>y</em>)) would be an odd number.  Since \r\n",
    "<em>N</em>(<em>x</em><sup>-1</sup>) = <em>N</em>(<em>x</em>), we would also have <em>N</em>(<em>x</em>&middot;<em>y</em>) + (<em>N</em>(<em>y</em><sup>-1</sup>) + \r\n",
    "<em>N</em>(<em>x</em><sup>-1</sup>))\r\n",
    "being an odd number. But then we would have three sets of transpositions, totaling an odd number, which when strung together produce \r\n",
    "<em>x</em>&middot;<em>y</em>&middot;<em>y</em><sup>-1</sup>&middot;<em>x</em><sup>-1</sup> = ( ).  This contradicts Lemma 5.3, so in fact \r\n",
    "<em>&sigma;</em>(<em>x</em>&middot;<em>y</em>) = <em>&sigma;</em>(<em>x</em>)&middot;<em>&sigma;</em>(<em>y</em>) for all <em>x</em> and <em>y</em> in \r\n",
    "<em>S<sub>n</sub></em>.<br><br>\r\n",
    "  \r\n",
    "<a href=\"#theor51ret\">Return to text</a>  \r\n",
    "\r\n",
    "<br><br><br><br><br><br><br><br><br><br><br><br><br><br><br><br><br><br><br><br><br><br><br><br><br><br><br><br><br><br><br><br><br><br><br><br><br><br><br><br><br><br>\r\n",
    "\r\n",
    "<a name=\"cor51\" id=\"cor51\"></a>\r\n",
    "\r\n",
    "Proof of Corollary 5.1:<br><br>    \r\n",
    " \r\n",
    "Clearly <em>A<sub>n</sub></em> is a normal subgroup of <em>S<sub>n</sub></em>, since <em>A<sub>n</sub></em> is the kernel of the signature homomorphism.  \r\n",
    "Also if <em>n</em> > 1, then <em>S<sub>n</sub></em> contains at least one transposition whose signature would be &minus;1. Thus, the image of the \r\n",
    "homomorphism is {1, &minus;1}.  This group is isomorphic to <em>Z</em><sub>2</sub>. Then by the first isomorphism theorem (4.1), \r\n",
    "<em>S<sub>n</sub></em>/<em>A<sub>n</sub></em> is isomorphic to <em>Z</em><sub>2</sub>.<br><br> \r\n",
    "  \r\n",
    "<a href=\"#cor51ret\">Return to text</a>  \r\n",
    "    \r\n",
    "<br><br><br><br><br><br><br><br><br><br><br><br><br><br><br><br><br><br><br><br><br><br><br><br><br><br><br><br><br><br><br><br><br><br><br><br><br><br><br><br><br><br>\r\n",
    "    \r\n",
    "<a name=\"prop51\" id=\"prop51\"></a>\r\n",
    "\r\n",
    "Proof of Proposition 5.1:<br><br>   \r\n",
    " \r\n",
    "Since every 3-cycle is a product of two transpositions, every 3-cycle is in <em>A<sub>n</sub></em>. Thus, it is sufficient to show that every element \r\n",
    "in <em>A<sub>n</sub></em> can be expressed in terms of 3-cycles.  We have already seen that any element can be expressed as a product of an even number of \r\n",
    "transpositions. Suppose we group these in pairs as follows:\r\n",
    "<p style='text-align: center;'><em>x</em> = [(<em>i</em><sub>1</sub>&ensp;<em>j</em><sub>1</sub>)&middot;(<em>k</em><sub>1</sub>&ensp;<em>l</em><sub>1</sub>)] &middot; \r\n",
    "                                            [(<em>i</em><sub>2</sub>&ensp;<em>j</em><sub>2</sub>)&middot;(<em>k</em><sub>2</sub>&ensp;<em>l</em><sub>2</sub>)] &middot;\r\n",
    "                          &hellip; &middot; [(<em>i<sub>r</sub></em>&ensp;<em>j<sub>r</sub></em>)&middot;(<em>k<sub>r</sub></em>&ensp;<em>l<sub>r</sub></em>)].</p>\r\n",
    "If we could convert each pair of transpositions into 3-cycles, we would have the permutation <em>x</em> expressed as a product of 3-cycles. \r\n",
    "There are three cases to consider:<br><br>\r\n",
    "\r\n",
    "Case 1: The integers <em>i<sub>m</sub></em>, <em>j<sub>m</sub></em>, <em>k<sub>m</sub></em>, and <em>l<sub>m</sub></em> are all distinct. In this case,\r\n",
    "<p style='text-align: center;'>(<em>i<sub>m</sub></em>&ensp;<em>j<sub>m</sub></em>)&middot;(<em>k<sub>m</sub></em>&ensp;<em>l<sub>m</sub></em>) = \r\n",
    "(<em>i<sub>m</sub></em>&ensp;<em>k<sub>m</sub></em>&ensp;<em>l<sub>m</sub></em>)&middot;(<em>i<sub>m</sub></em>&ensp;<em>j<sub>m</sub></em>&ensp;<em>l<sub>m</sub></em>).</p>\r\n",
    "<br>\r\n",
    "Case 2: Three of the four integers  <em>i<sub>m</sub></em>, <em>j<sub>m</sub></em>, <em>k<sub>m</sub></em>, and <em>l<sub>m</sub></em> are distinct. The four \r\n",
    "combinations that would produce this situation are\r\n",
    "<p style='text-align: center;'><em>i<sub>m</sub></em> = <em>k<sub>m</sub></em>,&emsp;<em>i<sub>m</sub></em> = <em>l<sub>m</sub></em>,&emsp;<em>j<sub>m</sub></em> = \r\n",
    "<em>k<sub>m</sub></em>,&emsp;or <em>j<sub>m</sub></em> = <em>l<sub>m</sub></em></p>\r\n",
    "However, these four possibilities are essentially the same, so we only have to check one of these four combinations: <em>i<sub>m</sub></em> = <em>k<sub>m</sub></em>. \r\n",
    "Then we have\r\n",
    "<p style='text-align: center;'>(<em>i<sub>m</sub></em>&ensp;<em>j<sub>m</sub></em>)&middot;(<em>i<sub>m</sub></em>&ensp;<em>l<sub>m</sub></em>) = \r\n",
    "(<em>i<sub>m</sub></em>&ensp;<em>l<sub>m</sub></em>&ensp;<em>j<sub>m</sub></em>).</p>\r\n",
    "<br>\r\n",
    "Case 3: Only two of the four integers <em>i<sub>m</sub></em>, <em>j<sub>m</sub></em>, <em>k<sub>m</sub></em>, and <em>l<sub>m</sub></em> are distinct. \r\n",
    "Then we must either have <em>i<sub>m</sub></em> = <em>k<sub>m</sub></em> and <em>j<sub>m</sub></em> = <em>l<sub>m</sub></em>, or \r\n",
    "<em>i<sub>m</sub></em> = <em>l<sub>m</sub></em> and <em>j<sub>m</sub></em> = <em>k<sub>m</sub></em>.  In either case, we have\r\n",
    "<p style='text-align: center;'>(<em>i<sub>m</sub></em>&ensp;<em>j<sub>m</sub></em>)&middot;(<em>k<sub>m</sub></em>&ensp;<em>l<sub>m</sub></em>) = \r\n",
    "( ) = (1 2 3)&middot;(1 3 2).</p>\r\n",
    "In all three cases, we were able to express a pair of transpositions in terms of a product of one or two 3-cycles.  Therefore, the permutation <em>x</em> can be \r\n",
    "written as a product of 3-cycles.<br><br>\r\n",
    "  \r\n",
    "<a href=\"#prop51ret\">Return to text</a>\r\n",
    "  \r\n",
    "<br><br><br><br><br><br><br><br><br><br><br><br><br><br><br><br><br><br><br><br><br><br><br><br><br><br><br><br><br><br><br><br><br><br><br><br><br><br><br><br><br><br>\r\n",
    "  \r\n",
    "<a name=\"theor52\" id=\"theor52\"></a>\r\n",
    "\r\n",
    "Proof of Theorem 5.2:<br><br>   \r\n",
    "  \r\n",
    "Let <em>G</em> be a group of order <em>n</em>. For each <em>g</em> in <em>G</em>, define the mapping\r\n",
    "<p style='text-align: center;'><em>p<sub>g</sub></em> : <em>G</em> &rarr; <em>G</em>&emsp;by&emsp;<em>p<sub>g</sub></em>(<em>x</em>) = <em>g</em>&middot;<em>x</em>.</p>\r\n",
    "For a given <em>g</em>, if <em>p<sub>g</sub></em>(<em>x</em>) = <em>p<sub>g</sub></em>(<em>y</em>), then <em>g</em>&middot;<em>x</em> = <em>g</em>&middot;<em>y</em>, \r\n",
    "so <em>x</em> = <em>y</em>. Hence, <em>p<sub>g</sub></em> is a one-to-one mapping.  Since <em>G</em> is a finite group, we can use to pigeonhole principle to show that\r\n",
    "<em>p<sub>g</sub></em> is also onto, and hence is a permutation of the elements of <em>G</em>.<br><br>\r\n",
    "\r\n",
    "We now can consider the mapping <em>&#981;</em> from <em>G</em> to the symmetric group <em>S</em><sub>|<em>G</em>|</sub> on the elements of <em>G</em>, given by\r\n",
    "<p style='text-align: center;'><em>&#981;</em>(<em>g</em>) = <em>p<sub>g</sub></em>.</p>\r\n",
    "Now, consider two elements <em>&#981;</em>(<em>g</em>) and <em>&#981;</em>(<em>h</em>).  The product of these is the mapping\r\n",
    "<p style='text-align: center;'><em>x</em> &rarr; (<em>p<sub>g</sub></em>&middot;<em>p<sub>h</sub></em>)(<em>x</em>) = <em>p<sub>g</sub></em>(<em>p<sub>h</sub></em>(<em>x</em>)) = <em>p<sub>g</sub></em>(<em>h</em>&middot;<em>x</em>) = \r\n",
    "<em>g</em>&middot;(<em>h</em>&middot;<em>x</em>) = (<em>g</em>&middot;<em>h</em>)&middot;<em>x</em>.</p>\r\n",
    "Since this is the same as <em>&#981;</em>(<em>g</em>&middot;<em>h</em>), <em>&#981;</em> is a homomorphism.<br><br>\r\n",
    "\r\n",
    "The element <em>g</em> will be in the kernel of the homomorphism <em>&#981;</em> only if <em>p<sub>g</sub></em>(<em>x</em>) is the identity permutation.  \r\n",
    "This means that <em>g</em>&middot;<em>x</em> = <em>x</em> for all elements <em>x</em> in <em>G</em>.  Thus, the kernel consists just of the identity element \r\n",
    "of <em>G</em>, and hence <em>&#981;</em> is an isomorphism.  Therefore, <em>G</em> is isomorphic to a subgroup of <em>S</em><sub>|<em>G</em>|</sub>.<br><br>  \r\n",
    "  \r\n",
    "<a href=\"#theor52ret\">Return to text</a>   \r\n",
    "\r\n",
    "<br><br><br><br><br><br><br><br><br><br><br><br><br><br><br><br><br><br><br><br><br><br><br><br><br><br><br><br><br><br><br><br><br><br><br><br><br><br><br><br><br><br>\r\n",
    " \r\n",
    "<a name=\"theor53\" id=\"theor53\"></a>\r\n",
    "\r\n",
    "Proof of Theorem 5.3:<br><br>     \r\n",
    "  \r\n",
    "Let <em>Q</em> be the set of left cosets <em>G</em>/<em>H</em>.  For each <em>g</em> in <em>G</em>, define the mapping\r\n",
    "<p style='text-align: center;'><em>p<sub>g</sub></em> : <em>Q</em> &rarr; <em>Q</em>&emsp;by&emsp; <em>p<sub>g</sub></em>(<em>x H</em>) = <em>g</em>&middot;<em>x H</em>.</p>\r\n",
    "Note that this is well defined, since if <em>x H</em> = <em>y H</em>, then <em>g</em>&middot;<em>x H</em> = <em>g</em>&middot;<em>y H</em>.<br><br>\r\n",
    "\r\n",
    "For a given <em>g</em>, if <em>p<sub>g</sub></em>(<em>x H</em>) = <em>p<sub>g</sub></em>(<em>y H</em>), then <em>g</em>&middot;<em>x H</em> = <em>g</em>&middot;<em>y H</em>,\r\n",
    "so <em>x H</em> = <em>y H</em>.  Hence, <em>p<sub>g</sub></em> is a one-to-one mapping.  Since <em>Q</em> is a finite set, by the \r\n",
    "pigeonhole principle, <em>p<sub>g</sub></em> must also be onto, and hence is a permutation of the elements of <em>Q</em>.<br><br>\r\n",
    "\r\n",
    "We now can consider the mapping <em>&#981;</em> from <em>G</em> to the symmetric group <em>S</em><sub>|<em>Q</em>|</sub> on the elements of <em>Q</em>, given by\r\n",
    "<p style='text-align: center;'><em>&#981;</em>(<em>g</em>) = <em>p<sub>g</sub></em>.</p>\r\n",
    "Now, consider two elements <em>&#981;</em>(<em>g</em>) and <em>&#981;</em>(<em>h</em>).  The product of these is the mapping\r\n",
    "<p style='text-align: center;'><em>x H</em> &rarr; (<em>p<sub>g</sub></em>&middot;<em>p<sub>h</sub></em>)(<em>x H</em>) = \r\n",
    "<em>p<sub>g</sub></em>(<em>p<sub>h</sub></em>(<em>x H</em>)) = <em>p<sub>g</sub></em>(<em>h</em>&middot;<em>x H</em>) = \r\n",
    "<em>g</em>&middot;(<em>h</em>&middot;<em>x H</em>) = (<em>g</em>&middot;<em>h</em>)&middot;<em>x H</em>.</p>\r\n",
    "Since this is the same as <em>&#981;</em>(<em>g</em>&middot;<em>h</em>), <em>&#981;</em> is a homomorphism.<br><br>\r\n",
    "\r\n",
    "Finally, we must show that the kernel of <em>&#981;</em> is a subgroup of <em>H</em>. The element <em>g</em> will be in the kernel of the homomorphism <em>&#981;</em> \r\n",
    "only if <em>p<sub>g</sub></em>(<em>x H</em>) is the identity permutation.  This means that <em>g</em>&middot;<em>x H</em> = <em>x H</em> \r\n",
    "for all right cosets <em>x H</em> in <em>Q</em>.  In particular, the left coset <em>e</em>&middot;<em>H</em> = <em>H</em> is in <em>Q</em>, so\r\n",
    "<em>g</em>&middot;<em>H</em> = <em>H</em>.  This can only happen if <em>g</em> is in <em>H</em>.  Thus, the kernel is a subgroup of <em>H</em>.  We have found a \r\n",
    "homomorphism <em>&#981;</em> from the group <em>G</em> to the group <em>S</em><sub>|<em>Q</em>|</sub>, whose kernel is a subgroup of <em>H</em>.<br><br> \r\n",
    "  \r\n",
    "<a href=\"#theor53ret\">Return to text</a>   \r\n",
    "\r\n",
    "<br><br><br><br><br><br><br><br><br><br><br><br><br><br><br><br><br><br><br><br><br><br><br><br><br><br><br><br><br><br><br><br><br><br><br><br><br><br><br><br><br><br>\r\n",
    "  \r\n",
    "<a name=\"cor52\" id=\"cor52\"></a>\r\n",
    "\r\n",
    "Proof of Corollary 5.2:<br><br>   \r\n",
    "  \r\n",
    "By the generized Cayley's theorem (5.3), there is a homomorphism <em>&#981;</em> from <em>G</em> to <em>S<sub>k</sub></em>, where <em>k</em> = |<em>G</em>|/|<em>H</em>|. Furthermore, the \r\n",
    "kernel is a subgroup of <em>H</em>.  If we let <em>N</em> be the kernel, and let <em>I</em> be the image of the homomorphism, we have by the first isomorphism \r\n",
    "theorem (4.1) that \r\n",
    "<p style='text-align: center;'><em>G</em>/<em>N</em> &asymp; <em>I</em>.</p>\r\n",
    "In particular, |<em>G</em>|/|<em>N</em>| = |<em>I</em>|, and |<em>I</em>| is a factor \r\n",
    "of |<em>S<sub>k</sub></em>| = <em>k</em>!.  This means that |<em>G</em>| is a factor of <em>k</em>!&middot; |<em>N</em>|.<br><br>\r\n",
    "  \r\n",
    "<a href=\"#cor52ret\">Return to text</a>\r\n",
    "\r\n",
    "<br><br><br><br><br><br><br><br><br><br><br><br><br><br><br><br><br><br><br><br><br><br><br><br><br><br><br><br><br><br><br><br><br><br><br><br><br><br><br><br><br><br> \r\n",
    "  \r\n",
    "<a name=\"sec5p\" id=\"sec5p\"></a>\r\n",
    "<h1><em>Sage</em> Problems</h1>\r\n",
    "\r\n",
    "<br>\r\n",
    "For Problems 17 through 20: Determine how the following permutations can be expressed in terms of the book \r\n",
    "rearrangements <strong>First</strong>, <strong>Last</strong>, <strong>Left</strong>, <strong>Right</strong>, and <strong>Rev</strong>.<br><br>\r\n",
    "\r\n",
    "&sect;5.1 #17)<br>\r\n",
    "\r\n",
    "<table align=\"center\" width=\"160\" border=\"0\" cellspacing=\"0\" cellpadding=\"0\">\r\n",
    "  <tr>\r\n",
    "    <td align=\"right\" valign=\"bottom\">&#9115;</td>\r\n",
    "    <td align=\"center\">1</td>\r\n",
    "    <td align=\"center\">2</td>\r\n",
    "    <td align=\"center\">3</td>\r\n",
    "    <td align=\"center\">4</td>\r\n",
    "    <td align=\"left\" valign=\"bottom\">&#9118;</td>\r\n",
    "  </tr>\r\n",
    "  <tr>\r\n",
    "    <td align=\"right\" valign=\"top\">&#9117;</td>\r\n",
    "    <td align=\"center\">1</td>\r\n",
    "    <td align=\"center\">3</td>\r\n",
    "    <td align=\"center\">2</td>\r\n",
    "    <td align=\"center\">4</td>\r\n",
    "    <td align=\"left\" valign=\"top\">&#9120;</td>\r\n",
    "  </tr>\r\n",
    "</table>"
   ]
  },
  {
   "cell_type": "markdown",
   "metadata": {
    "collapsed": false
   },
   "source": [
    "<br>\r\n",
    "&sect;5.1 #18)<br>\r\n",
    "\r\n",
    "<table align=\"center\" width=\"160\" border=\"0\" cellspacing=\"0\" cellpadding=\"0\">\r\n",
    "  <tr>\r\n",
    "    <td align=\"right\" valign=\"bottom\">&#9115;</td>\r\n",
    "    <td align=\"center\">1</td>\r\n",
    "    <td align=\"center\">2</td>\r\n",
    "    <td align=\"center\">3</td>\r\n",
    "    <td align=\"center\">4</td>\r\n",
    "    <td align=\"left\" valign=\"bottom\">&#9118;</td>\r\n",
    "  </tr>\r\n",
    "  <tr>\r\n",
    "    <td align=\"right\" valign=\"top\">&#9117;</td>\r\n",
    "    <td align=\"center\">4</td>\r\n",
    "    <td align=\"center\">2</td>\r\n",
    "    <td align=\"center\">3</td>\r\n",
    "    <td align=\"center\">1</td>\r\n",
    "    <td align=\"left\" valign=\"top\">&#9120;</td>\r\n",
    "  </tr>\r\n",
    "</table>"
   ]
  },
  {
   "cell_type": "markdown",
   "metadata": {
    "collapsed": false
   },
   "source": [
    "<br>\r\n",
    "&sect;5.1 #19)<br>\r\n",
    "\r\n",
    "<table align=\"center\" width=\"160\" border=\"0\" cellspacing=\"0\" cellpadding=\"0\">\r\n",
    "  <tr>\r\n",
    "    <td align=\"right\" valign=\"bottom\">&#9115;</td>\r\n",
    "    <td align=\"center\">1</td>\r\n",
    "    <td align=\"center\">2</td>\r\n",
    "    <td align=\"center\">3</td>\r\n",
    "    <td align=\"center\">4</td>\r\n",
    "    <td align=\"left\" valign=\"bottom\">&#9118;</td>\r\n",
    "  </tr>\r\n",
    "  <tr>\r\n",
    "    <td align=\"right\" valign=\"top\">&#9117;</td>\r\n",
    "    <td align=\"center\">3</td>\r\n",
    "    <td align=\"center\">1</td>\r\n",
    "    <td align=\"center\">4</td>\r\n",
    "    <td align=\"center\">2</td>\r\n",
    "    <td align=\"left\" valign=\"top\">&#9120;</td>\r\n",
    "  </tr>\r\n",
    "</table>"
   ]
  },
  {
   "cell_type": "markdown",
   "metadata": {
    "collapsed": false
   },
   "source": [
    "<br>\r\n",
    "&sect;5.1 #20)<br>\r\n",
    "\r\n",
    "<table align=\"center\" width=\"160\" border=\"0\" cellspacing=\"0\" cellpadding=\"0\">\r\n",
    "  <tr>\r\n",
    "    <td align=\"right\" valign=\"bottom\">&#9115;</td>\r\n",
    "    <td align=\"center\">1</td>\r\n",
    "    <td align=\"center\">2</td>\r\n",
    "    <td align=\"center\">3</td>\r\n",
    "    <td align=\"center\">4</td>\r\n",
    "    <td align=\"left\" valign=\"bottom\">&#9118;</td>\r\n",
    "  </tr>\r\n",
    "  <tr>\r\n",
    "    <td align=\"right\" valign=\"top\">&#9117;</td>\r\n",
    "    <td align=\"center\">2</td>\r\n",
    "    <td align=\"center\">4</td>\r\n",
    "    <td align=\"center\">1</td>\r\n",
    "    <td align=\"center\">3</td>\r\n",
    "    <td align=\"left\" valign=\"top\">&#9120;</td>\r\n",
    "  </tr>\r\n",
    "</table>"
   ]
  },
  {
   "cell_type": "markdown",
   "metadata": {
    "collapsed": false
   },
   "source": [
    "<br>\r\n",
    "&sect;5.2 #18)<br> \r\n",
    "Use <em>Sage</em> to find a pair of 3-cycles whose product is a 3-cycle. Can there be a product of two 4-cycles that yields a 4-cycle?<br>"
   ]
  },
  {
   "cell_type": "markdown",
   "metadata": {
    "collapsed": false
   },
   "source": [
    "<br>\r\n",
    "&sect;5.2 #19)<br>\r\n",
    "The <em>cycle structure</em> of a permutation is the number of 2-cycles, 3-cycles, etc. it contains when written as a product of disjoint cycles.  For example, (1 2 3)(4 5) and (3 4 5)(1 2) have the same cycle structure.  Consider the elements<br>"
   ]
  },
  {
   "cell_type": "code",
   "execution_count": 0,
   "metadata": {
    "collapsed": false
   },
   "outputs": [
   ],
   "source": [
    "a = C(1, 2, 3); a"
   ]
  },
  {
   "cell_type": "code",
   "execution_count": 0,
   "metadata": {
    "collapsed": false
   },
   "outputs": [
   ],
   "source": [
    "b = C(1, 4, 2, 5, 6, 7); b"
   ]
  },
  {
   "cell_type": "markdown",
   "metadata": {
    "collapsed": false
   },
   "source": [
    "<br>\r\n",
    "\r\n",
    "Predict the cycle structure of <em>a</em><sup>2</sup>, <em>a</em><sup>3</sup>, <em>b</em><sup>2</sup>, <em>b</em><sup>3</sup>, and <em>b</em><sup>6</sup>.  Check your answers with <em>Sage</em>.<br>"
   ]
  },
  {
   "cell_type": "markdown",
   "metadata": {
    "collapsed": false
   },
   "source": [
    "<br>\r\n",
    "&sect;5.2 #20)<br>\r\n",
    "Calculate <em>a</em>&middot;<em>b</em> from Problem 19.  Predict the cycle structure of (<em>a</em>&middot;<em>b</em>)<sup>2</sup>, \r\n",
    "(<em>a</em>&middot;<em>b</em>)<sup>3</sup>, and (<em>a</em>&middot;<em>b</em>)<sup>4</sup>, and verify your predictions with <em>Sage</em>.<br>"
   ]
  },
  {
   "cell_type": "markdown",
   "metadata": {
    "collapsed": false
   },
   "source": [
    "<br>\r\n",
    "&sect;5.2 #21)<br>\r\n",
    "Calculate <em>a</em>&middot;<em>b</em>&middot;<em>a</em><sup>-1</sup> from Problem 19.  Notice that it has the same cycle structure as <em>b</em>.  Try this with other \r\n",
    "random permutations.  Does <em>a</em>&middot;<em>b</em>&middot;<em>a</em><sup>-1</sup> always have the same cycle structure as <em>b</em>?  How do Problems 16 and 17 \r\n",
    "explain what is happening?<br>"
   ]
  },
  {
   "cell_type": "markdown",
   "metadata": {
    "collapsed": false
   },
   "source": [
    "<br>\r\n",
    "&sect;5.3 #20)<br>\r\n",
    "Use Cayley's theorem (5.2) to find a subgroup of <em>S</em><sub>12</sub> that is isomorphic to <em>Z</em><sub>21</sub><sup>*</sup>.<br>"
   ]
  },
  {
   "cell_type": "markdown",
   "metadata": {
    "collapsed": false
   },
   "source": [
    "<br>\r\n",
    "&sect;5.3 #21)<br> \r\n",
    "Use Cayley's theorem (5.2) to find a subgroup of <em>S</em><sub>12</sub> that is isomorphic to the following group:<br>"
   ]
  },
  {
   "cell_type": "code",
   "execution_count": 0,
   "metadata": {
    "collapsed": false
   },
   "outputs": [
   ],
   "source": [
    "InitGroup(\"e\")\r\n",
    "AddGroupVar(\"a\", \"b\")\r\n",
    "Define(a^3, e)\r\n",
    "Define(b^4, e)\r\n",
    "Define(b*a, a^2*b)\r\n",
    "G = ListGroup(); G"
   ]
  },
  {
   "cell_type": "markdown",
   "metadata": {
    "collapsed": false
   },
   "source": [
    "<br>\r\n",
    "&sect;5.3 #22)<br>\r\n",
    "Use the generalized Cayley's theorem (5.3) to find a subgroup of <em>S</em><sub>8</sub> that is isomorphic to the following group:<br>"
   ]
  },
  {
   "cell_type": "code",
   "execution_count": 0,
   "metadata": {
    "collapsed": false
   },
   "outputs": [
   ],
   "source": [
    "InitGroup(\"e\")\r\n",
    "AddGroupVar(\"a\", \"b\")\r\n",
    "Define(a^2, e)\r\n",
    "Define(b^8, e)\r\n",
    "Define(b*a, a*b^5)\r\n",
    "G = ListGroup(); G"
   ]
  },
  {
   "cell_type": "markdown",
   "metadata": {
    "collapsed": false
   },
   "source": [
    "<br>\r\n",
    "Hint: Find a subgroup of order 2 that is not normal.<br>"
   ]
  },
  {
   "cell_type": "markdown",
   "metadata": {
    "collapsed": false
   },
   "source": [
    "<br>\r\n",
    "&sect;5.4 #19)<br>\r\n",
    "Find the elements of <em>A</em><sub>4</sub> converted to the integer representation. Is there a pattern as to which positive integers correspond to the \r\n",
    "even permutations, and which correspond to odd?  Does the pattern continue to <em>A</em><sub>5</sub>?<br>"
   ]
  },
  {
   "cell_type": "markdown",
   "metadata": {
    "collapsed": false
   },
   "source": [
    "<br>\r\n",
    "&sect;5.4 #20)<br>\r\n",
    "Use <em>Sage</em> to find all elements of <em>S</em><sub>7</sub> whose square is P(3,5,1,7,6,2,4).<br>\r\n",
    "(Hint: Use a &quot;for&quot; loop to test all of the elements of <em>S</em><sub>7</sub>):<br>"
   ]
  },
  {
   "cell_type": "code",
   "execution_count": 0,
   "metadata": {
    "collapsed": false
   },
   "outputs": [
   ],
   "source": [
    "for i in range(5040):\r\n",
    "   if NthPerm(i)^2 == P(3,5,1,7,6,2,4):\r\n",
    "       print(NthPerm(i))"
   ]
  },
  {
   "cell_type": "markdown",
   "metadata": {
    "collapsed": false
   },
   "source": [
    "<br>\r\n",
    "&sect;5.4 #21)<br>\r\n",
    "Use <em>Sage</em> to find all elements of <em>S</em><sub>6</sub> whose cube is P(3,5,6,1,2,4). (See the hint for Problem 20.)<br>"
   ]
  },
  {
   "cell_type": "markdown",
   "metadata": {
    "collapsed": false
   },
   "source": [
    "</font>\r\n",
    "\r\n",
    "</body>\r\n",
    "\r\n",
    "</html>"
   ]
  }
 ],
 "metadata": {
  "kernelspec": {
   "display_name": "SageMath (stable)",
   "name": "sagemath"
  },
  "language_info": {
   "codemirror_mode": {
    "name": "ipython",
    "version": 2
   },
   "file_extension": ".py",
   "mimetype": "text/x-python",
   "name": "python",
   "nbconvert_exporter": "python",
   "pygments_lexer": "ipython2",
   "version": "2.7.14"
  }
 },
 "nbformat": 4,
 "nbformat_minor": 0
}