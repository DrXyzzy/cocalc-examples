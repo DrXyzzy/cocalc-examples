{
 "cells": [
  {
   "cell_type": "markdown",
   "metadata": {
    "collapsed": false
   },
   "source": [
    "<!-- Group07 -->\n",
    "<html>\n",
    "<body>\n",
    "\n",
    "<!-- To make the size of the font bigger for presentations, change the following command from +1 to +2 -->\n",
    "<font size=\"+1\">\n",
    "\n",
    "<p style='font-size: 36px;font-family: Arial;font-style: italic;font-weight: bold;color: #FF00FF;background-color: #80FFFF;text-align: center;'>\n",
    "Abstract Algebra: An Interactive Approach, 2e\n",
    "</p>\n",
    "\n",
    "<p style='font-family: Geneva;font-style: italic;color: #0000FF;background-color: #FFFFFF;'>\n",
    "&copy;2015 This notebook is provided with the textbook, &quot;Abstract Algebra: An Interactive Approach, 2nd Ed.&quot; by William Paulsen. Users of this notebook are encouraged to buy the textbook.\n",
    "</p>\n",
    "\n",
    "\n",
    "\n",
    "<p style='font-size: 36px;font-family: New York;font-weight: bold;color: #000000;background-color: #FFFFFF;text-align: center;border: 1px;border-style: \n",
    "solid;border-color: #000000;'>\n",
    "Chapter 7<br>\n",
    "The Search for Normal Subgroups\n",
    "</p>\n",
    "\n",
    "\n",
    "<p style='text-align: center;'>Initialization:  This cell MUST be evaluated first:</p>"
   ]
  },
  {
   "cell_type": "code",
   "execution_count": 0,
   "metadata": {
    "collapsed": false
   },
   "outputs": [
   ],
   "source": [
    "%display latex\n",
    "try:\n",
    "    load('absalgtext.sage')\n",
    "except IOError:\n",
    "    load('/media/sf_sage/absalgtext.sage')"
   ]
  },
  {
   "cell_type": "markdown",
   "metadata": {
    "collapsed": false
   },
   "source": [
    "<br>\r\n",
    "<a href=\"#sec71\">The Center of a Group</a><br>\r\n",
    "<a href=\"#sec72\">The Normalizer and Normal Closure Subgroups</a><br>\r\n",
    "<a href=\"#sec73\">Conjugacy Classes and Simple Groups</a><br>\r\n",
    "<a href=\"#sec74\">The Class Equation and Sylow's Theorems</a><br>\r\n",
    "<a href=\"#sec7p\"><em>Sage</em> Interactive Problems</a><br>\r\n",
    "\r\n",
    "<a name=\"sec71\" id=\"sec71\"></a>\r\n",
    "<h1>The Center of a Group</h1>\r\n",
    "\r\n",
    "<br>\r\n",
    "We saw several instances in the last chapter in which the structure of a group hinges on its normal subgroups.  For example, in the last section we saw that if a \r\n",
    "group <em>G</em> has a normal subgroup <em>N</em>, and if there is one other group <em>H</em> such that <em>G</em> = \r\n",
    "<em>H</em>&middot;<em>N</em> and <em>H</em> &cap; <em>N</em> = {<em>e</em>}, then <em>G</em> is either a direct product <em>H</em> &times; <em>N</em>, or a semi-direct product \r\n",
    "of <em>N</em> with <em>H</em>. <br><br>\r\n",
    "\r\n",
    "Because of the special importance of normal subgroups, we will want to develop techniques for finding <em>all</em> of the normal subgroups of a given \r\n",
    "group <em>G</em>.  We will discover in the process that some of the normal groups have additional properties.<br><br>\r\n",
    "\r\n",
    "Since every subgroup of an abelian group is automatically a normal subgroup we will concentrate our attention in this chapter to non-abelian groups.  Consider, for \r\n",
    "example, the dihedral group <em>D</em><sub>4</sub>.  We can define this group using <em>a</em> and <em>b</em> as generators.<br>"
   ]
  },
  {
   "cell_type": "code",
   "execution_count": 0,
   "metadata": {
    "collapsed": false
   },
   "outputs": [
   ],
   "source": [
    "InitGroup(\"e\")\r\n",
    "AddGroupVar(\"a\", \"b\")\r\n",
    "Define(a^4, e)\r\n",
    "Define(b^2, e)\r\n",
    "Define(b*a, a^3*b)\r\n",
    "D4 = ListGroup(); D4"
   ]
  },
  {
   "cell_type": "code",
   "execution_count": 0,
   "metadata": {
    "collapsed": false
   },
   "outputs": [
   ],
   "source": [
    "MultTable(D4)"
   ]
  },
  {
   "cell_type": "markdown",
   "metadata": {
    "collapsed": false
   },
   "source": [
    "<br>\r\n",
    "Recall that there are 5 elements of order 2 in this group, but one of these, \r\n",
    "namely <em>a</em><sup>2</sup>, has another important property in the multiplication table.  Look at the \r\n",
    "pattern of all of the yellow and cyan squares in the table.  (Yellow and \r\n",
    "cyan squares correspond to <em>e</em> and <em>a</em><sup>2</sup>.)  These two colors, considered alone, form a symmetrical pattern reflected along the main diagonal,  even though \r\n",
    "the entire table is not symetric.  We could interpret this by saying that whenever <em>x</em>&middot;<em>y</em> = <em>a</em><sup>2</sup> in <em>D</em><sub>4</sub>, then \r\n",
    "<em>y</em>&middot;<em>x</em> is also <em>a</em><sup>2</sup>.  Thus, \r\n",
    "<p style='text-align: center;'><em>y</em> = <em>x</em><sup>-1</sup>&middot;<em>a</em><sup>2</sup> = <em>a</em><sup>2</sup>&middot;<em>x</em><sup>-1</sup></p> \r\n",
    "for all elements <em>x</em>.  In order for this to happen, <em>a</em><sup>2</sup> must commute with <em>all</em> of the elements in <em>D</em><sub>4</sub>.  We can see this \r\n",
    "using <em>Sage</em>.  For example, compute<br>"
   ]
  },
  {
   "cell_type": "code",
   "execution_count": 0,
   "metadata": {
    "collapsed": false
   },
   "outputs": [
   ],
   "source": [
    "[ e * x * a^2 == a^2 * x for x in D4 ]"
   ]
  },
  {
   "cell_type": "markdown",
   "metadata": {
    "collapsed": false
   },
   "source": [
    "<br>\r\n",
    "Since this returned all true statements, we see that every element in <em>D</em><sub>4</sub> commutes \r\n",
    "with <em>a</em><sup>2</sup>.<br><br>\r\n",
    "\r\n",
    "Whenever we have a non-commutative group, we want to identify all such elements.  Thus, we make the following definition.<br><br>\r\n",
    "\r\n",
    "DEFINITION 7.1<br>\r\n",
    "Given a group <em>G</em>, the <em>center</em> of <em>G</em> is defined to be the set of elements <em>x</em> for \r\n",
    "which <em>x</em>&middot;<em>y</em> = <em>y</em>&middot;<em>x</em> for all elements <em>y</em> &isin; <em>G</em>.  The center of a group <em>G</em> is customary \r\n",
    "denoted <em>Z</em>(<em>G</em>) because of the German word for center, <em>zentrum</em>.<br><br>\r\n",
    "\r\n",
    "We then have the following easy proposition:\r\n",
    "\r\n",
    "<p />\r\n",
    "<a name=\"prop71ret\" id=\"prop71ret\"></a>\r\n",
    "PROPOSITION 7.1<br>\r\n",
    "Given a group <em>G</em>, then <em>Z</em>(<em>G</em>) is a normal subgroup of <em>G</em>.<br><br>\r\n",
    "\r\n",
    "<a href=\"#prop71\">Click here for the proof.</a>\r\n",
    "\r\n",
    "<p />\r\n",
    "We use the command <strong>GroupCenter(G)</strong> to find the center of a group in <em>Sage</em>.  For example, the center of the <em>D</em><sub>4</sub> group is<br>"
   ]
  },
  {
   "cell_type": "code",
   "execution_count": 0,
   "metadata": {
    "collapsed": false
   },
   "outputs": [
   ],
   "source": [
    "Z = GroupCenter(D4); Z"
   ]
  },
  {
   "cell_type": "markdown",
   "metadata": {
    "collapsed": false
   },
   "source": [
    "<br>\r\n",
    "So <em>Z</em>(<em>D</em><sub>4</sub>) consists just of the identity and <em>a</em><sup>2</sup>.  To verify that this is indeed a normal subgroup, let us look at the left and \r\n",
    "right cosets.<br>"
   ]
  },
  {
   "cell_type": "code",
   "execution_count": 0,
   "metadata": {
    "collapsed": false
   },
   "outputs": [
   ],
   "source": [
    "LftCoset(D4, Z)"
   ]
  },
  {
   "cell_type": "code",
   "execution_count": 0,
   "metadata": {
    "collapsed": false
   },
   "outputs": [
   ],
   "source": [
    "RtCoset(D4, Z)"
   ]
  },
  {
   "cell_type": "markdown",
   "metadata": {
    "collapsed": false
   },
   "source": [
    "<br>\r\n",
    "So these are the same, which demonstrates the fact that <em>Z</em>(<em>D</em><sub>4</sub>) is indeed normal.<br><br>\r\n",
    "\r\n",
    "Sometimes the center of a group consists of just the identity element.  For example, consider the symmetric group <em>S</em><sub>3</sub>:<br>"
   ]
  },
  {
   "cell_type": "code",
   "execution_count": 0,
   "metadata": {
    "collapsed": false
   },
   "outputs": [
   ],
   "source": [
    "InitGroup(\"e\")\r\n",
    "AddGroupVar(\"a\",\"b\")\r\n",
    "Define(a^2, e)\r\n",
    "Define(b^3, e)\r\n",
    "Define(b*a, a*b*b)\r\n",
    "S3 = ListGroup(); S3"
   ]
  },
  {
   "cell_type": "markdown",
   "metadata": {
    "collapsed": false
   },
   "source": [
    "<br>\r\n",
    "The center of this group is<br>"
   ]
  },
  {
   "cell_type": "code",
   "execution_count": 0,
   "metadata": {
    "collapsed": false
   },
   "outputs": [
   ],
   "source": [
    "GroupCenter(S3)"
   ]
  },
  {
   "cell_type": "markdown",
   "metadata": {
    "collapsed": false
   },
   "source": [
    "<br>\r\n",
    "So the center of <em>S</em><sub>3</sub> is just {<em>e</em>}.<br><br>\r\n",
    "\r\n",
    "Whenever the center is just the identity element, we say that the group is <em>centerless</em>.  Of course this is a normal \r\n",
    "subgroup, but it hampers our efforts in finding proper normal subgroups.  In fact, this will happen for all of the permutation groups larger \r\n",
    "than <em>S</em><sub>3</sub>.  Since the proof involves an even permutation, we end up finding the center of <em>A<sub>n</sub></em> at the same time.\r\n",
    "\r\n",
    "<p />\r\n",
    "<a name=\"prop72ret\" id=\"prop72ret\"></a>\r\n",
    "PROPOSITION 7.2<br>\r\n",
    "If <em>n</em> &gt; <em>3</em>, then the groups <em>S<sub>n</sub></em> and <em>A<sub>n</sub></em> are centerless.<br><br> \r\n",
    "\r\n",
    "<a href=\"#prop72\">Click here for the proof.</a>\r\n",
    "\r\n",
    "<p />\r\n",
    "The other extreme is if <em>Z</em>(<em>G</em>) is the entire group <em>G</em>.  In this case every element of <em>G</em> must commute with all other elements \r\n",
    "of <em>G</em>, so this happens if, and only if, the group <em>G</em> is abelian.<br><br>\r\n",
    "\r\n",
    "Since <em>Z</em>(<em>G</em>) is a normal subgroup of <em>G</em>, what is the quotient group?  The answer is rather interesting.\r\n",
    "\r\n",
    "<p />\r\n",
    "<a name=\"prop73ret\" id=\"prop73ret\"></a>\r\n",
    "PROPOSITION 7.3<br>\r\n",
    "If <em>G</em> is a group, then <em>G</em>/<em>Z</em>(<em>G</em>) &asymp; Inn(<em>G</em>).<br><br>\r\n",
    "\r\n",
    "<a href=\"#prop73\">Click here for the proof.</a>\r\n",
    "\r\n",
    "<p />\r\n",
    "The center of a group possesses a characteristic that is even stronger than that of a normal subgroup.  To illustrate this characteristic, consider the next \r\n",
    "proposition.\r\n",
    "\r\n",
    "<p />\r\n",
    "<a name=\"prop74ret\" id=\"prop74ret\"></a>\r\n",
    "PROPOSITION 7.4<br>\r\n",
    "Let <em>N</em> be a normal subgroup of a group <em>G</em>.  Then <em>Z</em>(<em>N</em>) is a normal subgroup not only of <em>N</em>, but of <em>G</em>.<br><br>\r\n",
    "\r\n",
    "<a href=\"#prop74\">Click here for the proof.</a>\r\n",
    "\r\n",
    "<p />\r\n",
    "This proposition demonstrates a very unusual property of a center of a group since, in general, the normal subgroup of a normal subgroup is not a normal subgroup.  To \r\n",
    "give an example, consider the octahedronal group.<br>"
   ]
  },
  {
   "cell_type": "code",
   "execution_count": 0,
   "metadata": {
    "collapsed": false
   },
   "outputs": [
   ],
   "source": [
    "S4 = Group( C(1,2), C(1,2,3), C(1,2,3,4) )"
   ]
  },
  {
   "cell_type": "markdown",
   "metadata": {
    "collapsed": false
   },
   "source": [
    "<br>\r\n",
    "We have found a normal subgroup of order 4, namely<br>"
   ]
  },
  {
   "cell_type": "code",
   "execution_count": 0,
   "metadata": {
    "collapsed": false
   },
   "outputs": [
   ],
   "source": [
    "M = Group( C(1,2)*C(3,4), C(1,3)*C(2,4) ); M"
   ]
  },
  {
   "cell_type": "markdown",
   "metadata": {
    "collapsed": false
   },
   "source": [
    "<br>\r\n",
    "Now we can find a normal subgroup of <em>M</em>.  (In fact, since <em>M</em> is abelian, any subgroup of <em>M</em> is a normal subgroup.)  For example, let us pick \r\n",
    "the subgroup<br>"
   ]
  },
  {
   "cell_type": "code",
   "execution_count": 0,
   "metadata": {
    "collapsed": false
   },
   "outputs": [
   ],
   "source": [
    "H = Group(C(1,2)*C(3,4)); H"
   ]
  },
  {
   "cell_type": "markdown",
   "metadata": {
    "collapsed": false
   },
   "source": [
    "<br>\r\n",
    "Now <em>H</em> is a normal subgroup of <em>M</em>, and <em>M</em> is a normal subgroup of <em>G</em>.  But when we compare<br>"
   ]
  },
  {
   "cell_type": "code",
   "execution_count": 0,
   "metadata": {
    "collapsed": false
   },
   "outputs": [
   ],
   "source": [
    "LftCoset(S4, H)"
   ]
  },
  {
   "cell_type": "markdown",
   "metadata": {
    "collapsed": false
   },
   "source": [
    "<br>\r\n",
    "with<br>"
   ]
  },
  {
   "cell_type": "code",
   "execution_count": 0,
   "metadata": {
    "collapsed": false
   },
   "outputs": [
   ],
   "source": [
    "RtCoset(S4, H)"
   ]
  },
  {
   "cell_type": "markdown",
   "metadata": {
    "collapsed": false
   },
   "source": [
    "<br>\r\n",
    "we see that <em>H</em> is not a normal subgroup of <em>G</em>.  Thus, a normal subgroup of a normal subgroup is not necessarily normal.<br><br>\r\n",
    "\r\n",
    "Contrast this situation to the center of a group.  Here, we found that the \r\n",
    "center <em>Z</em>(<em>N</em>) is a normal subgroup of <em>G</em>, even \r\n",
    "though <em>Z</em>(<em>N</em>) contains no information about <em>G</em>.  Proposition 7.4 tells us that for any group that contains <em>N</em> as a normal subgroup, such as \r\n",
    "a semi-direct product of <em>N</em> by another group, <em>Z</em>(<em>N</em>) will be a normal subgroup.<br><br> \r\n",
    "\r\n",
    "<a name=\"sec72\" id=\"sec72\"></a>\r\n",
    "<h1>The Normalizer and Normal Closure Subgroups</h1>\r\n",
    "\r\n",
    "<br>\r\n",
    "In the last section, we found a subgroup of <em>N</em> that was not only normal, but also was normal in any group <em>G</em> for which <em>N</em> was a normal \r\n",
    "subgroup.  In this section, we will essentially turn the question around: Given a subgroup <em>H</em> of <em>G</em>, can we find a subgroup <em>N</em> of <em>G</em> for \r\n",
    "which <em>H</em> lies inside of <em>N</em> as a normal subgroup?<br><br>\r\n",
    "\r\n",
    "We answer this question by defining the <em>normalizer</em> of a group <em>H</em> in <em>G</em>.<br><br>\r\n",
    "\r\n",
    "DEFINITION 7.2<br>\r\n",
    "Let <em>S</em> be a <em>subset</em> of a group <em>G</em>.  We define the <em>normalizer</em> of <em>S</em> by <em>G</em>, denoted <em>N<sub>G</sub></em>(<em>S</em>), to \r\n",
    "be the set\r\n",
    "<p style='text-align: center;'><em>N<sub>G</sub></em>(<em>S</em>) = { <em>g</em> &isin; <em>G</em> | <em>g</em>&middot;<em>S</em>&middot;<em>g</em><sup>-1</sup> = \r\n",
    "<em>S</em> }.</p>\r\n",
    "Notice that this definition allows for <em>S</em> to be merely a <em>subset</em> of <em>G</em>, not necessarily a subgroup.  We will later find uses for having a \r\n",
    "more generalized definition.  For now, let us show that the normalizer has some of the properties that we are looking for.\r\n",
    "\r\n",
    "<p />\r\n",
    "<a name=\"prop75ret\" id=\"prop75ret\"></a>\r\n",
    "PROPOSITION 7.5<br>\r\n",
    "Let <em>S</em> be a subset of the group <em>G</em>.  Then <em>N<sub>G</sub></em>(<em>S</em>) is a subgroup of <em>G</em>.<br><br>\r\n",
    "\r\n",
    "<a href=\"#prop75\">Click here for the proof.</a>\r\n",
    "\r\n",
    "<p />\r\n",
    "\r\n",
    "EXAMPLE:<br>\r\n",
    "Consider the group <em>Q</em> = {1, <em>i</em>, <em>j</em>, <em>k</em>, &minus;1, &minus;<em>i</em>, &minus;<em>j</em>, &minus;<em>k</em>}.  Find the normalizer of the single element { <em>i</em> }.<br><br>\r\n",
    "\r\n",
    "We want to find the elements such that <em>g</em>&middot;<em>i</em>&middot;<em>g</em><sup>-1</sup> = <em>i</em>, which clearly contains <em>i</em>.  Since we know \r\n",
    "from Proposition 7.5 that the normalizer is a subgroup, {1, <em>i</em>, &minus;1, &minus;<em>i</em>} is in the normalizer.  But <em>j</em> is not in the normalizer, \r\n",
    "so <em>N<sub>G</sub></em>({<em>i</em>}) = {1, <em>i</em>, &minus;1, &minus;<em>i</em>}.<br><br>\r\n",
    "\r\n",
    "If, in addition, <em>S</em> is a subgroup of <em>G</em>, then the normalizer lives up to its name.\r\n",
    " \r\n",
    "<p />\r\n",
    "<a name=\"prop76ret\" id=\"prop76ret\"></a>\r\n",
    "PROPOSITION 7.6<br>\r\n",
    "Let <em>H</em> be a subgroup of the group <em>G</em>.  Then <em>N<sub>G</sub></em>(<em>H</em>) is the largest subgroup of <em>G</em> that contains <em>H</em> as a \r\n",
    "normal subgroup.<br><br>\r\n",
    "\r\n",
    "<a href=\"#prop76\">Click here for the proof.</a>\r\n",
    "\r\n",
    "<p />\r\n",
    "\r\n",
    "EXAMPLE:<br>\r\n",
    "Find the normalizer of the subgroup [ <em>i</em> ] = {1, <em>i</em>, &minus;1, &minus;<em>i</em>} of <em>Q</em>.<br><br>\r\n",
    "\r\n",
    "Since this is a normal subgroup of <em>Q</em>, the normalizer is all of <em>Q</em>, since it is the largest group for which [ <em>i</em> ] is normal.  \r\n",
    "In general, the normalizer of a normal subgroup by <em>G</em> will produce the whole group <em>G</em>.<br><br>\r\n",
    "\r\n",
    "The <em>Sage</em> command for finding the normalizer <em>N<sub>G</sub></em>(<em>H</em>) of the set <em>H</em> in <em>G</em> is given by <strong>Normalizer(G, H)</strong>.\r\n",
    "We can redo the last two examples using <em>Sage</em>. Let us reload the group <em>Q</em>.<br>"
   ]
  },
  {
   "cell_type": "code",
   "execution_count": 0,
   "metadata": {
    "collapsed": false
   },
   "outputs": [
   ],
   "source": [
    "Q = InitQuaternions(); Q"
   ]
  },
  {
   "cell_type": "markdown",
   "metadata": {
    "collapsed": false
   },
   "source": [
    "<br>\r\n",
    "To find <em>N<sub>G</sub></em>({<em>i</em>}) in <em>Sage</em> we would enter:<br>"
   ]
  },
  {
   "cell_type": "code",
   "execution_count": 0,
   "metadata": {
    "collapsed": false
   },
   "outputs": [
   ],
   "source": [
    "H = Normalizer(Q, [i]); H"
   ]
  },
  {
   "cell_type": "markdown",
   "metadata": {
    "collapsed": false
   },
   "source": [
    "<br>\r\n",
    "(Recall that to <em>enter</em> a set in <em>Sage</em>, we enclose the list in brackets.)  Likewise, to find <em>N<sub>G</sub></em>([<em>i</em>]), we note that <em>H</em> = [ <em>i</em> ], and enter<br>"
   ]
  },
  {
   "cell_type": "code",
   "execution_count": 0,
   "metadata": {
    "collapsed": false
   },
   "outputs": [
   ],
   "source": [
    "Normalizer(Q, H)"
   ]
  },
  {
   "cell_type": "markdown",
   "metadata": {
    "collapsed": false
   },
   "source": [
    "<br>\r\n",
    "This gives us the entire group <em>Q</em>.  Let us try the normalizer of another element.  Since we often want to find the normalizer of a single element, \r\n",
    "<em>Sage</em> allows us to enter the single element without putting it in a list.<br>"
   ]
  },
  {
   "cell_type": "code",
   "execution_count": 0,
   "metadata": {
    "collapsed": false
   },
   "outputs": [
   ],
   "source": [
    "Normalizer(Q, j)"
   ]
  },
  {
   "cell_type": "markdown",
   "metadata": {
    "collapsed": false
   },
   "source": [
    "<br>\r\n",
    "This time we get the subgroup generated by <em>j</em>.  What if we tried the subset containing both <em>i</em> and <em>j</em>?<br>"
   ]
  },
  {
   "cell_type": "code",
   "execution_count": 0,
   "metadata": {
    "collapsed": false
   },
   "outputs": [
   ],
   "source": [
    "Normalizer(Q, [i, j])"
   ]
  },
  {
   "cell_type": "markdown",
   "metadata": {
    "collapsed": false
   },
   "source": [
    "<br>\r\n",
    "What happened this time?  The normalizer doesn't contain either <em>i</em> or <em>j</em>!  When <em>H</em> is a <em>subgroup</em> we can say that the normalizer \r\n",
    "of <em>H</em> by <em>G</em> will contain <em>H</em>.  In general though, all we can say is that the normalizer will be a subgroup, which this example \r\n",
    "illustrates.<br><br>\r\n",
    "\r\n",
    "There is one other case in which we can say that the normalizer will contain <em>H</em>.  Notice that in the two examples we did where <em>H</em> was a single element, \r\n",
    "the normalizer contained that element.  In fact, <em>N<sub>G</sub></em>({<em>g</em>}) will consist of all elements of <em>G</em> that commute with <em>g</em>.  It should \r\n",
    "be noted that <em>N<sub>G</sub></em>({<em>g</em>}) is not the same thing as <em>N<sub>G</sub></em>([<em>g</em>]), the normalizer of the group generated \r\n",
    "by <em>g</em>.  The former is the set of elements which commute with <em>g</em>, and the latter is the largest subgroup which contains [<em>g</em>] as a normal \r\n",
    "subgroup.<br><br>\r\n",
    "\r\n",
    "We have seen that the normalizer of a subgroup <em>H</em> by <em>G</em> finds the largest subgroup of <em>G</em> that contains <em>H</em> as a normal subgroup.  We could \r\n",
    "turn the question around and ask for the <em>smallest</em> subgroup containing <em>H</em> that is a normal subgroup of <em>G</em>.  In this case, it does not matter \r\n",
    "whether <em>H</em> is a subgroup or just a subset, the answer is given in the following proposition.\r\n",
    "\r\n",
    "<p />\r\n",
    "<a name=\"prop77ret\" id=\"prop77ret\"></a>\r\n",
    "PROPOSITION 7.7<br>\r\n",
    "Let <em>S</em> be a <em>subset</em> of a group <em>G</em>.  Then the smallest group containing <em>S</em> that is a normal subgroup of <em>G</em> is given by\r\n",
    "<br><br>\r\n",
    "<table align=\"center\" width=\"160\" border=\"0\" cellspacing=\"0\" cellpadding=\"0\">\r\n",
    "  <tr>\r\n",
    "    <td align=\"right\"><em>N</em><sup>*</sup> = </td>\r\n",
    "    <td align=\"center\"><font face=\"Times New Roman, Times, serif\" size=\"+4\">&cap;</font></td>\r\n",
    "    <td align=\"left\"><em>N</em>,</td>\r\n",
    "  </tr>\r\n",
    "  <tr>\r\n",
    "    <td></td>\r\n",
    "    <td align=\"center\" valign=\"top\"><em>N</em> &isin; <em>L</em></td>\r\n",
    "    <td></td>\r\n",
    "  </tr>\r\n",
    "</table>\r\n",
    "<br>\r\n",
    "where <em>L</em> denotes the collection of normal subgroups of <em>G</em> that contain <em>S</em>.<br><br>\r\n",
    "\r\n",
    "<a href=\"#prop77\">Click here for the proof.</a>\r\n",
    "\r\n",
    "<p />\r\n",
    "We will call this subgroup the <em>normal closure</em> of <em>S</em>.  We can use the <em>Sage</em> command <strong>NormalClosure(G, S)</strong> to compute this \r\n",
    "subgroup, thereby systematically find <em>all</em> of the normal subgroups of a given group.<br><br>\r\n",
    "\r\n",
    "EXAMPLE:<br>\r\n",
    "Find all of the normal subgroups of <em>S</em><sub>3</sub>.<br><br>\r\n",
    "\r\n",
    "First, we load the group into <em>Sage</em>.<br>"
   ]
  },
  {
   "cell_type": "code",
   "execution_count": 0,
   "metadata": {
    "collapsed": false
   },
   "outputs": [
   ],
   "source": [
    "InitGroup(\"e\")\r\n",
    "AddGroupVar(\"a\", \"b\")\r\n",
    "Define(a^2, e)\r\n",
    "Define(b^3, e)\r\n",
    "Define(b*a, a*b*b)\r\n",
    "S3 = ListGroup(); S3"
   ]
  },
  {
   "cell_type": "markdown",
   "metadata": {
    "collapsed": false
   },
   "source": [
    "<br>\r\n",
    "We will always have two trivial normal subgroups, namely the entire group and the group containing just the identity element.  We would like to see if there are any \r\n",
    "other normal subgroups of <em>S</em><sub>3</sub>. Since a proper subgroup must contain one of the elements \r\n",
    "{<em>a</em>, <em>b</em>, <em>a</em>&middot;<em>b</em>, <em>b</em><sup>2</sup>, <em>a</em>&middot;<em>b</em><sup>2</sup>}, we have five groups to try.  Let us see if we \r\n",
    "can find the smallest normal subgroup which contains the element <em>a</em>.<br>"
   ]
  },
  {
   "cell_type": "code",
   "execution_count": 0,
   "metadata": {
    "collapsed": false
   },
   "outputs": [
   ],
   "source": [
    "NormalClosure(S3, [a])"
   ]
  },
  {
   "cell_type": "markdown",
   "metadata": {
    "collapsed": false
   },
   "source": [
    "<br>\r\n",
    "Since the whole group is the smallest normal subgroup containing <em>a</em>, it is apparent that there are no nontrivial normal subgroups containing <em>a</em>.  Let us \r\n",
    "move on to the next element.<br>"
   ]
  },
  {
   "cell_type": "code",
   "execution_count": 0,
   "metadata": {
    "collapsed": false
   },
   "outputs": [
   ],
   "source": [
    "NormalClosure(S3, [b])"
   ]
  },
  {
   "cell_type": "markdown",
   "metadata": {
    "collapsed": false
   },
   "source": [
    "<br>\r\n",
    "This gives us a nontrivial subgroup.  In fact, this subgroup of order 3 is equivalent to the subgroup <em>A</em><sub>3</sub> which we saw was a normal subgroup in \r\n",
    "Corollary 5.1.  Let us keep trying to find other normal subgroups.  As with <strong>Normalizer</strong>, if the list contains only one element, we can just enter the \r\n",
    "lone element.<br>"
   ]
  },
  {
   "cell_type": "code",
   "execution_count": 0,
   "metadata": {
    "collapsed": false
   },
   "outputs": [
   ],
   "source": [
    "NormalClosure(S3, a*b)"
   ]
  },
  {
   "cell_type": "code",
   "execution_count": 0,
   "metadata": {
    "collapsed": false
   },
   "outputs": [
   ],
   "source": [
    "NormalClosure(S3, b^2)"
   ]
  },
  {
   "cell_type": "code",
   "execution_count": 0,
   "metadata": {
    "collapsed": false
   },
   "outputs": [
   ],
   "source": [
    "NormalClosure(S3, a*b^2)"
   ]
  },
  {
   "cell_type": "markdown",
   "metadata": {
    "collapsed": false
   },
   "source": [
    "<br>\r\n",
    "We didn't find any new normal subgroups.  In fact, we discovered that a nontrivial normal subgroup cannot contain the elements <em>a</em>, <em>a</em>&middot;<em>b</em>, \r\n",
    "or <em>a</em>&middot;<em>b</em><sup>2</sup>.  Of course the element <em>e</em> would have to be included in the subgroup, but if either of the other two \r\n",
    "elements <em>b</em> or <em>b</em><sup>2</sup> were in the subgroup, both of them had to be in the subgroup.  Therefore, the only nontrivial normal subgroup \r\n",
    "is {<em>e</em>, <em>b</em>, <em>b</em><sup>2</sup>}.<br><br>\r\n",
    "\r\n",
    "We have just used <em>Sage</em> to <em>prove</em> that the only nontrivial normal subgroup of <em>S</em><sub>3</sub> is <em>A</em><sub>3</sub>.  This method of exhausting \r\n",
    "all possibilities works well for small groups, but one can imagine that this method would be time consuming for larger groups.  In the next section, we will find a \r\n",
    "shortcut so that we will not have to try every element of the group, but rather just a handful of elements.<br><br>\r\n",
    "\r\n",
    "<a name=\"sec73\" id=\"sec73\"></a>\r\n",
    "<h1>Conjugacy Classes and Simple Groups</h1>\r\n",
    "\r\n",
    "<br>\r\n",
    "In the last section, we used the <em>Sage</em> command <strong>NormalClosure(G, S)</strong> to find the smallest group containing the subset <em>S</em> that was \r\n",
    "a normal group of <em>G</em>.  Although we proved that such a group existed, we made no mention as to how <em>Sage</em> found this group.<br><br>\r\n",
    "\r\n",
    "The idea behind the function <strong>NormalClosure</strong> is really quite simple.  We know that if <em>a</em> is in this normal subgroup, \r\n",
    "then <em>g</em>&middot;<em>a</em>&middot;<em>g</em><sup>-1</sup> must also be in the group for all <em>g</em> in <em>G</em>.  Thus, if we can find the elements \r\n",
    "of <em>G</em> that can be expressed as <em>g</em>&middot;<em>a</em>&middot;<em>g</em><sup>-1</sup> for some <em>g</em>, we know many of the elements that must be in \r\n",
    "the normal group.  Let us make the following definition:<br><br>\r\n",
    "\r\n",
    "DEFINITION 7.3<br>\r\n",
    "Let <em>G</em> be a group. We say that the element <em>u</em> is <em>conjugate</em> to the element <em>v</em> if there exists an element <em>g</em> in <em>G</em> such that\r\n",
    "<p style='text-align: center;'><em>u</em> = <em>g</em>&middot;<em>v</em>&middot;<em>g</em><sup>-1</sup>.</p>\r\n",
    "\r\n",
    "<br>Note that every element is conjugate to itself, for we can let <em>g</em> be the identity element.  Also note that if <em>u</em> is conjugate to <em>v</em>, \r\n",
    "then <em>v</em> is also conjugate to <em>u</em>, since \r\n",
    "<p style='text-align: center;'><em>v</em> = (<em>g</em><sup>-1</sup>)&middot;<em>u</em>&middot;(<em>g</em><sup>-1</sup>)<sup>-1</sup>.</p>\r\n",
    "Finally, let us suppose that <em>u</em> is conjugate to <em>v</em>, that is, <em>u</em> = <em>g</em>&middot;<em>v</em>&middot;<em>g</em><sup>-1</sup> for \r\n",
    "some <em>g</em> in <em>G</em>, and <em>v</em> in turn is conjugate to <em>w</em>, that is <em>v</em> = <em>h</em>&middot;<em>w</em>&middot;<em>h</em><sup>-1</sup> for \r\n",
    "some <em>h</em> in <em>G</em>.  Is <em>u</em> conjugate to <em>w</em>?  We have\r\n",
    "<p style='text-align: center;'><em>u</em> = <em>g</em>&middot;<em>v</em>&middot;<em>g</em><sup>-1</sup> = \r\n",
    "<em>g</em>&middot;(<em>h</em>&middot;<em>w</em>&middot;<em>h</em><sup>-1</sup>)&middot;<em>g</em><sup>-1</sup> = \r\n",
    "(<em>g</em>&middot;<em>h</em>)&middot;<em>w</em>&middot;(<em>g</em>&middot;<em>h</em>)<sup>-1</sup>.</p>\r\n",
    "So <em>u</em> is then conjugate to <em>w</em>.<br><br>\r\n",
    "\r\n",
    "Recall that in Definition 1.3, we defined an equivalence relationship as a relationship having three properties:<br><br>\r\n",
    "\r\n",
    "1) Evert element <em>u</em> is equivalent to itself.<br><br>\r\n",
    "\r\n",
    "2) If <em>u</em> is equivalent to <em>v</em>, then <em>v</em> is equivalent to <em>u</em>.<br><br>\r\n",
    "\r\n",
    "3) If <em>u</em> is equivalent to <em>v</em>, and <em>v</em> in turn is equivalent to <em>w</em>, then <em>u</em> is equivalent to <em>w</em>.<br><br>\r\n",
    "\r\n",
    "These were called the reflexive, symmetric, and transitive properties.  In &sect;3.4, we applied these properties to modular arithmetic, but we have just shown that \r\n",
    "the conjugate relationship between two elements of <em>G</em> also has all three of these properties. Hence the conjugate relationship is an equivalence \r\n",
    "relationship.<br><br>\r\n",
    "\r\n",
    "What does this mean?  It means that we can divide the group <em>G</em> into different <em>conjugacy classes</em>.  Two elements are in the same conjugacy class if, and \r\n",
    "only if, they are conjugate to one another.  In fact, if <em>u</em> is an element of <em>G</em>, then the conjugacy class which contains <em>u</em> is given by\r\n",
    "<p style='text-align: center;'>{ <em>g</em>&middot;<em>u</em>&middot;<em>g</em><sup>-1</sup> | <em>g</em> &isin; <em>G</em> }.</p>\r\n",
    "Moreover, no two of these conjugacy classes have any elements in common, and every element of <em>G</em> is in one of the conjugacy classes.<br><br>\r\n",
    "\r\n",
    "Before we proceed with proving some properties of the conjugacy classes, let us explore some examples with <em>Sage</em>.  This will allow us to see the usefulness of \r\n",
    "the conjugacy classes, as well as show us some patterns.<br><br>\r\n",
    "\r\n",
    "The <em>Sage</em> command for finding all of the conjugacy classes of a group <em>G</em> is <strong>ConjugacyClasses(G)</strong>.<br><br> \r\n",
    "\r\n",
    "EXAMPLE:<br>\r\n",
    "Find the conjugacy classes of <em>S</em><sub>4</sub>.<br><br>\r\n",
    "\r\n",
    "We will use the cycle notation, noting that the group is generated by the cycles (1 2) and (2 3 4).<br>"
   ]
  },
  {
   "cell_type": "code",
   "execution_count": 0,
   "metadata": {
    "collapsed": false
   },
   "outputs": [
   ],
   "source": [
    "S4 = Group(C(1,2), C(2,3,4) ); S4"
   ]
  },
  {
   "cell_type": "markdown",
   "metadata": {
    "collapsed": false
   },
   "source": [
    "<br>\r\n",
    "We can find the conjugacy classes by the command<br>"
   ]
  },
  {
   "cell_type": "code",
   "execution_count": 0,
   "metadata": {
    "collapsed": false
   },
   "outputs": [
   ],
   "source": [
    "ConjugacyClasses(S4)"
   ]
  },
  {
   "cell_type": "markdown",
   "metadata": {
    "collapsed": false
   },
   "source": [
    "<br>\r\n",
    "Notice that the identity element is in a class by itself since <em>g</em>&middot;<em>e</em>&middot;<em>g</em><sup>-1</sup> will always by <em>e</em>.  But notice \r\n",
    "something interesting about the other four classes: one contains all of the transpositions, one contains all of the 3-cycles, one contains all of the 4-cycles, and the \r\n",
    "last conjugacy class contains the products of two disjoint transpositions.  Problems 16 and 17 of &sect;5.2 may help shed some light on why this happens.  \r\n",
    "Let us give names to these 5 conjagacy classes: <br><br>\r\n",
    "<table align = \"center\" border=\"0\">\r\n",
    "  <tr>\r\n",
    "    <td><em>A</em> =</td>\r\n",
    "    <td>{ (1 2), (1 3), (1 4), (2 3), (2 4), (3 4) }</td>\r\n",
    "  </tr> \r\n",
    "  <tr>\r\n",
    "    <td><em>B</em> =</td>\r\n",
    "    <td>{ (1 2)(3 4), (1 3)(2 4), (1 4)(2 3) }</td>\r\n",
    "  </tr> \r\n",
    "  <tr>\r\n",
    "    <td><em>C</em> =</td>\r\n",
    "    <td>{ (1 2 3), (1 2 4), (1 3 2), (1 3 4), (1 4 2), (1 4 3), (2 3 4), (2 4 3) }</td>\r\n",
    "  </tr> \r\n",
    "  <tr>\r\n",
    "    <td><em>D</em> =</td>\r\n",
    "    <td>{ (1 2 3 4), (1 2 4 3), (1 3 2 4), (1 3 4 2), (1 4 2 3), (1 4 3 2) }</td>\r\n",
    "  </tr> \r\n",
    "  <tr>\r\n",
    "    <td><em>E</em> =</td>\r\n",
    "    <td>{ ( ) }</td>\r\n",
    "  </tr> \r\n",
    "</table> \r\n",
    "\r\n",
    "<br>\r\n",
    "What is the usefulness of the conjugacy classes?  We know that whenever one element of a conjugacy class is in a normal subgroup of <em>G</em>, the entire conjugacy \r\n",
    "class must be in the normal subgroup.  Thus, in order to find <em>all</em> normal subgroups of <em>S</em><sub>4</sub> we only have to try the different combinations of \r\n",
    "the conjugacy classes.<br><br>\r\n",
    "\r\n",
    "EXAMPLE:<br>\r\n",
    "Use the previous example to find all of the normal subgroups of <em>S</em><sub>4</sub>.<br><br>\r\n",
    "\r\n",
    " Since <em>E</em> = {( )} is guaranteed to be in every subgroup, this means that any nontrivial normal subgroup of <em>S</em><sub>4</sub> must be one \r\n",
    "of the 14 possible subsets:\r\n",
    "<br><br>\r\n",
    "<table align = \"center\" border=\"0\">\r\n",
    "  <tr>\r\n",
    "    <td>1)</td>\r\n",
    "    <td><em>E</em> &cup; <em>A</em></td>\r\n",
    "  </tr> \r\n",
    "  <tr>\r\n",
    "    <td>2)</td>\r\n",
    "    <td><em>E</em> &cup; <em>B</em></td>\r\n",
    "  </tr> \r\n",
    "  <tr>\r\n",
    "    <td>3)</td>\r\n",
    "    <td><em>E</em> &cup; <em>C</em></td>\r\n",
    "  </tr> \r\n",
    "  <tr>\r\n",
    "    <td>4)</td>\r\n",
    "    <td><em>E</em> &cup; <em>D</em></td>\r\n",
    "  </tr> \r\n",
    "  <tr>\r\n",
    "    <td>5)</td>\r\n",
    "    <td><em>E</em> &cup; <em>A</em> &cup; <em>B</em></td>\r\n",
    "  </tr> \r\n",
    "  <tr>\r\n",
    "    <td>6)</td>\r\n",
    "    <td><em>E</em> &cup; <em>A</em> &cup; <em>C</em></td>\r\n",
    "  </tr> \r\n",
    "  <tr>\r\n",
    "    <td>7)</td>\r\n",
    "    <td><em>E</em> &cup; <em>A</em> &cup; <em>D</em></td>\r\n",
    "  </tr> \r\n",
    "  <tr>\r\n",
    "    <td>8)</td>\r\n",
    "    <td><em>E</em> &cup; <em>B</em> &cup; <em>C</em></td>\r\n",
    "  </tr> \r\n",
    "  <tr>\r\n",
    "    <td>9)</td>\r\n",
    "    <td><em>E</em> &cup; <em>B</em> &cup; <em>D</em></td>\r\n",
    "  </tr> \r\n",
    "  <tr>\r\n",
    "    <td>10)</td>\r\n",
    "    <td><em>E</em> &cup; <em>C</em> &cup; <em>D</em></td>\r\n",
    "  </tr> \r\n",
    "  <tr>\r\n",
    "    <td>11)</td>\r\n",
    "    <td><em>E</em> &cup; <em>A</em> &cup; <em>B</em> &cup; <em>C</em></td>\r\n",
    "  </tr> \r\n",
    "  <tr>\r\n",
    "    <td>12)</td>\r\n",
    "    <td><em>E</em> &cup; <em>A</em> &cup; <em>B</em> &cup; <em>D</em></td>\r\n",
    "  </tr> \r\n",
    "  <tr>\r\n",
    "    <td>13)</td>\r\n",
    "    <td><em>E</em> &cup; <em>A</em> &cup; <em>C</em> &cup; <em>D</em></td>\r\n",
    "  </tr> \r\n",
    "  <tr>\r\n",
    "    <td>14)&ensp;</td>\r\n",
    "    <td><em>E</em> &cup; <em>B</em> &cup; <em>C</em> &cup; <em>D</em></td>\r\n",
    "  </tr>                         \r\n",
    "</table> \r\n",
    "\r\n",
    "<br>\r\n",
    "The 15th combination, <em>E</em> &cup; <em>A</em> &cup; <em>B</em> &cup; <em>C</em> &cup; <em>D</em>, obviously would give us the whole group.  As we try some of \r\n",
    "these combinations to find proper normal subgroups, we will be able to eliminate other combinations.<br><br>\r\n",
    "\r\n",
    "With <em>Sage</em>'s <strong>NormalClosure</strong> command, we can eliminate many of these combinations at once.  For example, let us see if <em>E</em> &cup; <em>A</em> is \r\n",
    "a normal subgroup, we can actually test at the same time whether <em>A</em> can be contained in <em>any</em> nontrivial normal subgroup with the command:<br>"
   ]
  },
  {
   "cell_type": "code",
   "execution_count": 0,
   "metadata": {
    "collapsed": false
   },
   "outputs": [
   ],
   "source": [
    "NormalClosure(S4, C(1,2) )"
   ]
  },
  {
   "cell_type": "markdown",
   "metadata": {
    "collapsed": false
   },
   "source": [
    "<br>\r\n",
    "This gives us the whole group.  Thus, the element (1 2) cannot be in any nontrivial normal subgroup.  That eliminates not just the first combination, but 6 other \r\n",
    "combinations as well!  Let us try using the combination <em>E</em> &cup; <em>B</em> instead:<br>"
   ]
  },
  {
   "cell_type": "code",
   "execution_count": 0,
   "metadata": {
    "collapsed": false
   },
   "outputs": [
   ],
   "source": [
    "NormalClosure(S4, C(1,2)*C(3,4) )"
   ]
  },
  {
   "cell_type": "markdown",
   "metadata": {
    "collapsed": false
   },
   "source": [
    "<br>\r\n",
    "This is a subgroup of order 4, which we have seen many times before.  It is isomorphic to <em>Z</em><sub>8</sub><sup>*</sup>.  Let us \r\n",
    "consider <em>E</em> &cup; <em>C</em>:<br>"
   ]
  },
  {
   "cell_type": "code",
   "execution_count": 0,
   "metadata": {
    "collapsed": false
   },
   "outputs": [
   ],
   "source": [
    "NormalClosure(S4, C(1,2,3) )"
   ]
  },
  {
   "cell_type": "markdown",
   "metadata": {
    "collapsed": false
   },
   "source": [
    "<br>\r\n",
    "This gives us a proper subgroup, but in fact this is the subgroup <em>E</em> &cup; <em>B</em> &cup; <em>C</em>. If we look at the length:<br>"
   ]
  },
  {
   "cell_type": "code",
   "execution_count": 0,
   "metadata": {
    "collapsed": false
   },
   "outputs": [
   ],
   "source": [
    "len(_)"
   ]
  },
  {
   "cell_type": "markdown",
   "metadata": {
    "collapsed": false
   },
   "source": [
    "<br>\r\n",
    "We see that this group is of order 12.  In fact, since all of the elements are even permutations, this must be the group <em>A</em><sub>4</sub> which we knew was \r\n",
    "normal.  In fact, Proposition 5.1 would tell us that <em>A</em><sub>4</sub> is the subgroup generated by the 3-cycles.  Let us go on and try the next \r\n",
    "combination <em>E</em> &cup; <em>D</em>.<br>"
   ]
  },
  {
   "cell_type": "code",
   "execution_count": 0,
   "metadata": {
    "collapsed": false
   },
   "outputs": [
   ],
   "source": [
    "NormalClosure(S4, C(1,2,3,4) )"
   ]
  },
  {
   "cell_type": "markdown",
   "metadata": {
    "collapsed": false
   },
   "source": [
    "<br>\r\n",
    "This is the whole group again, so no nontrivial normal group can contain the element (1 2 3 4).<br><br> \r\n",
    "\r\n",
    "Since we know that a proper normal subgroup cannot contain either <em>A</em> or <em>D</em>, and also <em>E</em> &cup; <em>C</em> is not a normal subgroup, there can only \r\n",
    "be 2 nontrivial normal subgroups: <nobr><em>E</em> &cup; <em>B</em> &cup; <em>C</em> = <em>A</em><sub>4</sub>,</nobr> and \r\n",
    "<nobr><em>E</em> &cup; <em>B</em> &asymp; <em>Z</em><sub>8</sub><sup>*</sup>.</nobr><br><br>\r\n",
    "\r\n",
    "What if were not able to have <em>Sage</em> help us determine which combinations were normal subgroups?  Note that almost all of the 14 combinations listed could \r\n",
    "be eliminated simply by <em>counting</em>.  For example, here are the number of elements in these 14 sets.\r\n",
    "<br><br>\r\n",
    "<table align = \"center\" border=\"0\">\r\n",
    "  <tr>\r\n",
    "    <td>1)</td>\r\n",
    "    <td><em>E</em> &cup; <em>A</em></td>\r\n",
    "    <td>7 elements</td>\r\n",
    "  </tr> \r\n",
    "  <tr>\r\n",
    "    <td>2)</td>\r\n",
    "    <td><em>E</em> &cup; <em>B</em></td>\r\n",
    "    <td>4 elements</td>\r\n",
    "  </tr> \r\n",
    "  <tr>\r\n",
    "    <td>3)</td>\r\n",
    "    <td><em>E</em> &cup; <em>C</em></td>\r\n",
    "    <td>9 elements</td>\r\n",
    "  </tr> \r\n",
    "  <tr>\r\n",
    "    <td>4)</td>\r\n",
    "    <td><em>E</em> &cup; <em>D</em></td>\r\n",
    "    <td>7 elements</td>\r\n",
    "  </tr> \r\n",
    "  <tr>\r\n",
    "    <td>5)</td>\r\n",
    "    <td><em>E</em> &cup; <em>A</em> &cup; <em>B</em></td>\r\n",
    "    <td>10 elements</td>\r\n",
    "  </tr> \r\n",
    "  <tr>\r\n",
    "    <td>6)</td>\r\n",
    "    <td><em>E</em> &cup; <em>A</em> &cup; <em>C</em></td>\r\n",
    "    <td>15 elements</td>\r\n",
    "  </tr> \r\n",
    "  <tr>\r\n",
    "    <td>7)</td>\r\n",
    "    <td><em>E</em> &cup; <em>A</em> &cup; <em>D</em></td>\r\n",
    "    <td>13 elements</td>\r\n",
    "  </tr> \r\n",
    "  <tr>\r\n",
    "    <td>8)</td>\r\n",
    "    <td><em>E</em> &cup; <em>B</em> &cup; <em>C</em></td>\r\n",
    "    <td>12 elements</td>\r\n",
    "  </tr> \r\n",
    "  <tr>\r\n",
    "    <td>9)</td>\r\n",
    "    <td><em>E</em> &cup; <em>B</em> &cup; <em>D</em></td>\r\n",
    "    <td>10 elements</td>\r\n",
    "  </tr> \r\n",
    "  <tr>\r\n",
    "    <td>10)</td>\r\n",
    "    <td><em>E</em> &cup; <em>C</em> &cup; <em>D</em></td>\r\n",
    "    <td>15 elements</td>\r\n",
    "  </tr> \r\n",
    "  <tr>\r\n",
    "    <td>11)</td>\r\n",
    "    <td><em>E</em> &cup; <em>A</em> &cup; <em>B</em> &cup; <em>C</em></td>\r\n",
    "    <td>18 elements</td>\r\n",
    "  </tr> \r\n",
    "  <tr>\r\n",
    "    <td>12)</td>\r\n",
    "    <td><em>E</em> &cup; <em>A</em> &cup; <em>B</em> &cup; <em>D</em></td>\r\n",
    "    <td>16 elements</td>\r\n",
    "  </tr> \r\n",
    "  <tr>\r\n",
    "    <td>13)</td>\r\n",
    "    <td><em>E</em> &cup; <em>A</em> &cup; <em>C</em> &cup; <em>D</em></td>\r\n",
    "    <td>21 elements</td>\r\n",
    "  </tr> \r\n",
    "  <tr>\r\n",
    "    <td>14)&ensp;</td>\r\n",
    "    <td><em>E</em> &cup; <em>B</em> &cup; <em>C</em> &cup; <em>D</em>&emsp;</td>\r\n",
    "    <td>18 elements</td>\r\n",
    "  </tr>                         \r\n",
    "</table> \r\n",
    "\r\n",
    "<br>\r\n",
    "However, by Lagrange's theorem, the number of elements in a subgroup must divide the order of the group <em>S</em><sub>4</sub> which is 24. Only the second and \r\n",
    "eighth combinations has the number of elements divide 24. Thus, there can be at most 2 nontrivial normal subgroups of <em>S</em><sub>4</sub>: <em>E</em> &cup; <em>B</em> and \r\n",
    "<em>E</em> &cup; <em>B</em> &cup; <em>C</em>.  Of course we would still need to verify that these are indeed normal subgroups.<br><br>\r\n",
    "\r\n",
    "Since we have found all normal subgroups of <em>S</em><sub>3</sub> and <em>S</em><sub>4</sub>, let us move on to even larger groups.  The next group that comes to mind \r\n",
    "is <em>S</em><sub>5</sub>, which is a group of order 120.  However, we will find it easier to first find all of the normal subgroups of <em>A</em><sub>5</sub>.  After all, \r\n",
    "any normal subgroup of <em>S</em><sub>5</sub>, when intersected with <em>A</em><sub>5</sub>, gives a normal subgroup of <em>A</em><sub>5</sub>. Thus, if we can find all \r\n",
    "of the normal subgroups of <em>A</em><sub>5</sub>, we will be on our way to finding all normal subgroups of <em>S</em><sub>5</sub>.<br><br>\r\n",
    "\r\n",
    "EXAMPLE:<br>\r\n",
    "Use <em>Sage</em> to find all of the normal subgroups of <em>S</em><sub></sub>.<br><br>\r\n",
    "\r\n",
    "Since the group <em>A</em><sub>5</sub> is generated by the two cycles (1 2 3) and (3 4 5), we have<br>"
   ]
  },
  {
   "cell_type": "code",
   "execution_count": 0,
   "metadata": {
    "collapsed": false
   },
   "outputs": [
   ],
   "source": [
    "A5 = Group(C(1,2,3), C(3,4,5)); A5"
   ]
  },
  {
   "cell_type": "markdown",
   "metadata": {
    "collapsed": false
   },
   "source": [
    "<br>\r\n",
    "The length of this group is<br>"
   ]
  },
  {
   "cell_type": "code",
   "execution_count": 0,
   "metadata": {
    "collapsed": false
   },
   "outputs": [
   ],
   "source": [
    "len(_)"
   ]
  },
  {
   "cell_type": "markdown",
   "metadata": {
    "collapsed": false
   },
   "source": [
    "<br>\r\n",
    "which is half of 5! = 120.  The conjugacy classes are as follows:<br>"
   ]
  },
  {
   "cell_type": "code",
   "execution_count": 0,
   "metadata": {
    "collapsed": false
   },
   "outputs": [
   ],
   "source": [
    "ConjugacyClasses(A5)"
   ]
  },
  {
   "cell_type": "markdown",
   "metadata": {
    "collapsed": false
   },
   "source": [
    "<br>\r\n",
    "Looking at the list we see only five conjugacy classes with one of the five containing just the identity.  Thus, finding all of the normal subgroups is no more difficult \r\n",
    "for this group than for <em>S</em><sub>4</sub>.  We can pick the representatives (1 2 3), (1 2)(3 4), (1 2 3 4 5), and (1 2 3 5 4).<br><br>\r\n",
    "\r\n",
    "Let us find the normal group generated by the 3-cycles.<br>"
   ]
  },
  {
   "cell_type": "code",
   "execution_count": 0,
   "metadata": {
    "collapsed": false
   },
   "outputs": [
   ],
   "source": [
    "NormalClosure(A5, C(1,2,3))"
   ]
  },
  {
   "cell_type": "markdown",
   "metadata": {
    "collapsed": false
   },
   "source": [
    "<br>\r\n",
    "The length of this is<br>"
   ]
  },
  {
   "cell_type": "code",
   "execution_count": 0,
   "metadata": {
    "collapsed": false
   },
   "outputs": [
   ],
   "source": [
    "len(_)"
   ]
  },
  {
   "cell_type": "markdown",
   "metadata": {
    "collapsed": false
   },
   "source": [
    "<br>\r\n",
    "So this gives the whole group.  This should come as no surprise since we have shown in Proposition 5.1 that <em>A</em><sub>5</sub> was generated by the set \r\n",
    "of 3-cycles.  Next let us try the next representative element.<br>"
   ]
  },
  {
   "cell_type": "code",
   "execution_count": 0,
   "metadata": {
    "collapsed": false
   },
   "outputs": [
   ],
   "source": [
    "NormalClosure(A5, C(1,2)*C(3,4))"
   ]
  },
  {
   "cell_type": "markdown",
   "metadata": {
    "collapsed": false
   },
   "source": [
    "<br>\r\n",
    "The length of this is<br>"
   ]
  },
  {
   "cell_type": "code",
   "execution_count": 0,
   "metadata": {
    "collapsed": false
   },
   "outputs": [
   ],
   "source": [
    "len(_)"
   ]
  },
  {
   "cell_type": "markdown",
   "metadata": {
    "collapsed": false
   },
   "source": [
    "<br>\r\n",
    "So again we get the whole group. If we used the 5-cycle we get<br>"
   ]
  },
  {
   "cell_type": "code",
   "execution_count": 0,
   "metadata": {
    "collapsed": false
   },
   "outputs": [
   ],
   "source": [
    "NormalClosure(A5, C(1,2,3,4,5))"
   ]
  },
  {
   "cell_type": "markdown",
   "metadata": {
    "collapsed": false
   },
   "source": [
    "<br>\r\n",
    "The length of this one is<br>"
   ]
  },
  {
   "cell_type": "code",
   "execution_count": 0,
   "metadata": {
    "collapsed": false
   },
   "outputs": [
   ],
   "source": [
    "len(_)"
   ]
  },
  {
   "cell_type": "markdown",
   "metadata": {
    "collapsed": false
   },
   "source": [
    "<br>\r\n",
    "So this produces the same thing.  So we have found that a nontrivial normal subgroup of <em>A</em><sub>5</sub> cannot contain an element from the first three conjugacy classes.  There's only one \r\n",
    "more conjugacy class to try.<br><br>\r\n",
    "\r\n",
    "EXPERIMENT:<br>\r\n",
    "Find the normal subgroup of <em>A</em><sub>5</sub> generated by the other five cycle (1 2 3 5 4).  Does this also give the whole group <em>A</em><sub>5</sub>?<br>"
   ]
  },
  {
   "cell_type": "markdown",
   "metadata": {
    "collapsed": false
   },
   "source": [
    "<br>\r\n",
    "This experiment demonstrates that the group <em>A</em><sub>5</sub> does not contain <em>any</em> proper normal subgroups.  (See Problem 9 for a non-computerized way \r\n",
    "to prove this.)  We will see that this is a rather unusual property for a group to have, so we will give this a special name.<br><br>\r\n",
    "\r\n",
    "DEFINITION 7.4<br>\r\n",
    "A group is said to be <em>simple</em> if it contains no normal subgroups besides itself, and the identity subgroup.<br><br>\r\n",
    "\r\n",
    "What are some examples of simple groups?  Suppose that the group is of prime order <em>p</em>.  Then by Lagrange's theorem, the order of any subgroup must \r\n",
    "divide <em>p</em>, so the only two subgroups are the group itself and the trivial subgroup.  We noticed in Corollary 3.3 that this meant that the group was the \r\n",
    "cyclic group, <em>Z<sub>p</sub></em>.<br>\r\n",
    "<br>\r\n",
    "\r\n",
    "We now have seen an example of a non-cyclic simple group, <em>A</em><sub>5</sub>.  In fact this is the <em>smallest</em> non-cyclic simple \r\n",
    "group! (See Problem 19 of &sect;7.4.)<br><br>\r\n",
    "\r\n",
    "Let us see if there are any other simple groups.  The natural place to look is higher order alternating groups, so let us begin there. \r\n",
    "We can use <em>Sage</em> to find the sizes of the conjugacy classes of <em>A</em><sub>6</sub>.  This group is generated by the cycles (1 2 3) and (2 3 4 5 6).<br>"
   ]
  },
  {
   "cell_type": "code",
   "execution_count": 0,
   "metadata": {
    "collapsed": false
   },
   "outputs": [
   ],
   "source": [
    "A6 = Group(C(1, 2, 3), C(2, 3, 4, 5, 6))"
   ]
  },
  {
   "cell_type": "code",
   "execution_count": 0,
   "metadata": {
    "collapsed": false
   },
   "outputs": [
   ],
   "source": [
    "len(A6)"
   ]
  },
  {
   "cell_type": "code",
   "execution_count": 0,
   "metadata": {
    "collapsed": false
   },
   "outputs": [
   ],
   "source": [
    "S = ConjugacyClasses(A6)"
   ]
  },
  {
   "cell_type": "code",
   "execution_count": 0,
   "metadata": {
    "collapsed": false
   },
   "outputs": [
   ],
   "source": [
    "[ len(x) for x in S ]"
   ]
  },
  {
   "cell_type": "markdown",
   "metadata": {
    "collapsed": false
   },
   "source": [
    "<br>\r\n",
    "Thus, we see that there are 7 conjugacy classes of <em>A</em><sub>6</sub>, one of size 1 (the identity), two of size 40, two of size 72, one of size 45, \r\n",
    "and one of size 90.<br><br>\r\n",
    "\r\n",
    "EXAMPLE:<br>\r\n",
    "Use the above result to show that <em>A</em><sub>6</sub> is simple.<br><br>\r\n",
    "\r\n",
    "If there were a non-trivial subgroup <em>N</em>, its size would be a factor of 360, hence |<em>N</em>| = 180, 120, 90, 72, 60, or 45.  Note it cannot be 40 or smaller, \r\n",
    "since it must contain the identity and at least one other conjugacy class.  Clearly |<em>N</em>| &ne; 45, since there is no conjugacy class of size 44.  \r\n",
    "Thus, |<em>N</em>| is even, so we must include both odd conjugacy classes, 1 and 45, plus at least one other.  Hence, |<em>N</em>| &ge; 86.  \r\n",
    "At this point we see that |<em>N</em>| is a multiple of 5, so both conjugacy classes of size 72 must be included to get the sum to be a multiple of 5.  At this point |<em>N</em>| &ge; 190, which is impossible.  So <em>A</em><sub>6</sub> is a simple group.<br><br>\r\n",
    "\r\n",
    "Our goal is to show that <em>A<sub>n</sub></em> is simple for all <em>n</em> &gt; 4.  We begin by showing that all 3-cycles are in one conjugacy class.\r\n",
    "\r\n",
    "<p />  \r\n",
    "<a name=\"lem71ret\" id=\"lem71ret\"></a>\r\n",
    "LEMMA 7.1<br>\r\n",
    "If <em>n</em> &gt; 4, any two 3-cycles are conjugate in <em>A<sub>n</sub></em>. Furthermore, the conjugate of a 3-cycle is again a 3-cycle.<br><br> \r\n",
    "\r\n",
    "<a href=\"#lem71\">Click here for the proof.</a>\r\n",
    "\r\n",
    "<p />\r\n",
    "With this lemma, we can show that <em>A<sub>n</sub></em> will be a simple group whenever <em>n</em> &gt; 4.  This was originally proved by Abel using a long \r\n",
    "case-by-case argument.  Since <em>Sage</em> has already shown that <em>A</em><sub>5</sub> and <em>A</em><sub>6</sub> are simple, most of the cases can be taken care of at once.\r\n",
    "\r\n",
    "<p />  \r\n",
    "<a name=\"theor71ret\" id=\"theor71ret\"></a>\r\n",
    "THEOREM 7.1:Abel's Theorem<br>\r\n",
    "The alternating group <em>A<sub>n</sub></em> and is simple for all <em>n</em> &gt; 4.<br><br>\r\n",
    "\r\n",
    "<a href=\"#theor71\">Click here for the proof.</a>\r\n",
    "\r\n",
    "<p />\r\n",
    "This theorem has an immediate application to the permutation groups <em>S<sub>n</sub></em>.\r\n",
    "\r\n",
    "<p />  \r\n",
    "<a name=\"cor71ret\" id=\"cor71ret\"></a>\r\n",
    "COROLLARY 7.1<br>\r\n",
    "If <em>n</em> &gt; 4 then the only proper normal subgroup of <em>S<sub>n</sub></em> is <em>A<sub>n</sub></em>.<br><br>\r\n",
    "\r\n",
    "<a href=\"#cor71\">Click here for the proof.</a>\r\n",
    "\r\n",
    "<p />\r\n",
    "We now have found two sequences of simple groups, namely <em>Z<sub>p</sub></em> for <em>p</em> being a prime number, and <em>A<sub>n</sub></em> for \r\n",
    "all <em>n</em> &gt; 4.  Are any of the other groups that we have looked at simple groups?<br><br>\r\n",
    "\r\n",
    "EXAMPLE:<br>\r\n",
    "Find the normal subgroups of the group Aut(<em>Z</em><sub>24</sub><sup>*</sup>), the group of order 168 generated by the 187th and 723rd permutation elements.<br>"
   ]
  },
  {
   "cell_type": "code",
   "execution_count": 0,
   "metadata": {
    "collapsed": false
   },
   "outputs": [
   ],
   "source": [
    "DisplayPermInt = true"
   ]
  },
  {
   "cell_type": "code",
   "execution_count": 0,
   "metadata": {
    "collapsed": false
   },
   "outputs": [
   ],
   "source": [
    "A = Group(NthPerm(149), NthPerm(735)); A"
   ]
  },
  {
   "cell_type": "markdown",
   "metadata": {
    "collapsed": false
   },
   "source": [
    "<br>\r\n",
    "As large as this group is, we can still break this up into conjugacy classes in a reasonable amount of time.<br>"
   ]
  },
  {
   "cell_type": "code",
   "execution_count": 0,
   "metadata": {
    "collapsed": false
   },
   "outputs": [
   ],
   "source": [
    "ConjugacyClasses(A)"
   ]
  },
  {
   "cell_type": "markdown",
   "metadata": {
    "collapsed": false
   },
   "source": [
    "<br>\r\n",
    "So we have six conjugacy classes of this group, one of which is just the identity.  The other five classes are represented by the 27<sup>th</sup>, 149<sup>th</sup>, \r\n",
    "231<sup>st</sup>, 918<sup>st</sup>, and \r\n",
    "953<sup>th</sup> permutations.  Thus, if we can show that a proper normal subgroup cannot contain any of these five elements, we have shown that there are no proper normal \r\n",
    "subgroups.<br><br>\r\n",
    "\r\n",
    "Let us try to find a normal subgroup containing the 27<sup>th</sup> permutation.<br>"
   ]
  },
  {
   "cell_type": "code",
   "execution_count": 0,
   "metadata": {
    "collapsed": false
   },
   "outputs": [
   ],
   "source": [
    "NormalClosure(A, NthPerm(27))"
   ]
  },
  {
   "cell_type": "markdown",
   "metadata": {
    "collapsed": false
   },
   "source": [
    "<br>\r\n",
    "The length of this is<br>"
   ]
  },
  {
   "cell_type": "code",
   "execution_count": 0,
   "metadata": {
    "collapsed": false
   },
   "outputs": [
   ],
   "source": [
    "len(_)"
   ]
  },
  {
   "cell_type": "markdown",
   "metadata": {
    "collapsed": false
   },
   "source": [
    "<br>\r\n",
    "so this is the whole group.<br><br>\r\n",
    "\r\n",
    "EXPERIMENT:<br><br>\r\n",
    "\r\n",
    "Replace the 27 above with 149, 231, 918, and 953, re-executing the command each time.  Is the length of the normal subgroup generated 168 each time?<br>"
   ]
  },
  {
   "cell_type": "markdown",
   "metadata": {
    "collapsed": false
   },
   "source": [
    "<br>\r\n",
    "This experiment shows that no proper normal subgroup can contain any of these five elements, and so there are no proper normal subgroups.  Therefore, this group is \r\n",
    "simple.<br><br>\r\n",
    "\r\n",
    "It should be pointed out that Aut(<em>Z</em><sub>24</sub><sup>*</sup>) is the second smallest non-cyclic simple group. (<em>A</em><sub>5</sub> is the smallest \r\n",
    "and <em>A</em><sub>6</sub> is the third smallest.)  In fact, Aut(<em>Z</em><sub>24</sub><sup>*</sup>) is the beginning of yet another infinite family of simple groups, \r\n",
    "called the <em>Chevalley groups</em>.  We will not go into all of the ways this group can be generalized to produce these other groups, but we will mention an \r\n",
    "important result that has taken place during the 20th century.  It was once thought that <em>all</em> finite simple groups were either the cyclic groups of prime order, \r\n",
    "the alternating groups, or one of the Chevalley or twisted Chevalley groups.  (One of these groups turned out to be not quite simple.  Yet taking half of the elements \r\n",
    "forms a new simple group, just as we took half of the elements of <em>S<sub>n</sub></em> to form the simple groups <em>A<sub>n</sub></em>.)  But there were several \r\n",
    "other simple groups that were discovered, called <em>sporadic</em> groups.  In the 1960s and 1970s it was proved that there are exactly 26 sporadic groups, ranging in \r\n",
    "size from a mere 7,920 elements to the monstrous\r\n",
    "<p style='text-align: center;'>808,017,424,794,512,875,886,459,904,961,710,757,005,754,368,000,000,000</p>\r\n",
    "elements!  These 26 sporatic groups are listed in the Atlas of Finite Groups, edited by J. Conway et al. (Oxford University Press, 1984)  Because these are the only \r\n",
    "sporatic groups, all finite simple groups have been found and classified.<br><br> \r\n",
    "\r\n",
    "<a name=\"sec74\" id=\"sec74\"></a>\r\n",
    "<h1>The Class Equation and Sylow's Theorems</h1>\r\n",
    "\r\n",
    "<br>\r\n",
    "In the last section, we noticed some uses for the conjugacy classes of a group, namely finding all normal subgroups, or proving that a given group was simple. However, \r\n",
    "one may have noticed a pattern in the conjugacy classes. In particular, let us look at the <em>size</em> of each of the classes. Let us reload <em>S</em><sub>4</sub>:<br>"
   ]
  },
  {
   "cell_type": "code",
   "execution_count": 0,
   "metadata": {
    "collapsed": false
   },
   "outputs": [
   ],
   "source": [
    "S4 = Group(C(1,2), C(2,3,4) ); S4"
   ]
  },
  {
   "cell_type": "markdown",
   "metadata": {
    "collapsed": false
   },
   "source": [
    "<br>\r\n",
    "We found the conjugacy classes to be<br>"
   ]
  },
  {
   "cell_type": "code",
   "execution_count": 0,
   "metadata": {
    "collapsed": false
   },
   "outputs": [
   ],
   "source": [
    "ConjugacyClasses(S4)"
   ]
  },
  {
   "cell_type": "markdown",
   "metadata": {
    "collapsed": false
   },
   "source": [
    "<br>\r\n",
    "Now let us count the number of elements in each class.  The first class has only the identity element, so there is only 1 element there.  The class with the \r\n",
    "transpositions has exactly six elements, while the class with the 3-cycles has eight elements.  So immediately we see that the number of elements in the classes may \r\n",
    "be different.  There are six elements in the class of 4-cycles, and finally there are three elements in the remaining conjugacy class.<br><br>\r\n",
    "\r\n",
    "So what is the pattern here?  One thing we can notice is that\r\n",
    "<p style='text-align: center;'>1 + 6 + 8 + 3 + 6 = 24,</p>\r\n",
    "which is the order of the group.  But this is obviously going to be the case, since every element in the group belongs to one and only one conjugacy class.  Is there \r\n",
    "another pattern?  Notice that the number of elements in each class is always a <em>divisor</em> of the order of the group.<br><br>\r\n",
    "\r\n",
    "EXPERIMENT:<br><br>\r\n",
    "Recompute the conjugacy classes of <em>A</em><sub>5</sub> with the following commands:<br>"
   ]
  },
  {
   "cell_type": "code",
   "execution_count": 0,
   "metadata": {
    "collapsed": false
   },
   "outputs": [
   ],
   "source": [
    "A5 = Group(C(1,2,3), C(3,4,5) )\r\n",
    "ConjugacyClasses(A5)"
   ]
  },
  {
   "cell_type": "markdown",
   "metadata": {
    "collapsed": false
   },
   "source": [
    "<br>\r\n",
    "Is the size of each conjugacy class a divisor of 60? Is this a coincidence?<br>"
   ]
  },
  {
   "cell_type": "markdown",
   "metadata": {
    "collapsed": false
   },
   "source": [
    "<br>\r\n",
    "Let us look back at the group Aut(<em>Z</em><sub>24</sub><sup>*</sup>).  (We won't bother to recompute them here.)  We had 6 conjugacy classes of size 1, 21, 56, 42, 24, \r\n",
    "and 24.  We can double check that\r\n",
    "<p style='text-align: center;'>1 + 21 + 56 + 42 + 24 + 24 = 168.</p>\r\n",
    "Once again, we find that 21, 56, 42, and 24 are all divisors of 168.<br><br>\r\n",
    "\r\n",
    "This is no longer looking like a coincidence. Let's see if we can discover why this pattern exists.\r\n",
    "\r\n",
    "<p />  \r\n",
    "<a name=\"lem72ret\" id=\"lem72ret\"></a>\r\n",
    "LEMMA 7.2<br>\r\n",
    "Let <em>G</em> be a finite group, and let <em>g</em> be an element of <em>G</em>.  Then the number of elements of <em>G</em> that are conjugate to <em>g</em> is given by\r\n",
    "<table align=\"center\" border=\"0\" cellspacing=\"0\" cellpadding=\"0\">\r\n",
    "  <tr>\r\n",
    "    <td align=\"center\" valign=\"bottom\"><font style=\"text-decoration:underline\">&ensp;&emsp;| <em>G</em> |&emsp;&ensp;</font></td>\r\n",
    "    <td rowspan = \"2\" align=\"left\">,</td>\r\n",
    "  </tr>\r\n",
    "  <tr>\r\n",
    "    <td align=\"center\" valign=\"top\">| <em>N<sub>G</sub></em>({<em>g</em>}) |</td>\r\n",
    "  </tr>\r\n",
    "</table>\r\n",
    "\r\n",
    "where <em>N<sub>G</sub></em>({<em>g</em>}) denotes the normalizer of the single element {<em>g</em>}.<br><br>\r\n",
    "\r\n",
    "<a href=\"#lem72\">Click here for the proof.</a>\r\n",
    "\r\n",
    "<p />\r\n",
    "We have already observed that the sum of the number of elements in each of the conjugacy classes must give the number of elements in the group.  Since we now know how \r\n",
    "many elements are in each conjugacy class, we can derive what is called the <em>class equation</em>.\r\n",
    "\r\n",
    "<p />  \r\n",
    "<a name=\"theor72ret\" id=\"theor72ret\"></a>\r\n",
    "THEOREM 7.2: The Class Equation Theorem<br>\r\n",
    "Let <em>G</em> be a finite group.  Then\r\n",
    "\r\n",
    "<table align=\"center\" border=\"0\" cellspacing=\"0\" cellpadding=\"0\">\r\n",
    "  <tr>\r\n",
    "    <td rowspan = \"2\" align=\"right\">|<em>G</em>| =</td>\r\n",
    "    <td rowspan = \"2\" align=\"center\" valign=\"bottom\">&thinsp;<font face=\"Times New Roman, Times, serif\" size=\"+4\">&sum;</font>&thinsp;</td>\r\n",
    "    <td height=\"33\" valign=\"bottom\"><font style=\"text-decoration:underline\">&ensp;&emsp;| <em>G</em> |&emsp;&ensp;</font></td>\r\n",
    "    <td rowspan = \"2\" align=\"right\">,</td>\r\n",
    "  </tr>\r\n",
    "  <tr>\r\n",
    "     <td valign=\"top\">| <em>N<sub>G</sub></em>({<em>g</em>}) |</td>\r\n",
    "  </tr>\r\n",
    "  <tr>\r\n",
    "    <td></td>\r\n",
    "    <td align=\"center\" valign=\"top\"><em>g</em></td>\r\n",
    "    <td></td>\r\n",
    "    <td></td>\r\n",
    "  </tr>\r\n",
    "</table>\r\n",
    "\r\n",
    "where the sum runs over one <em>g</em> from each conjugacy class.<br><br>\r\n",
    "\r\n",
    "<a href=\"#theor72\">Click here for the proof.</a>\r\n",
    "\r\n",
    "<p />\r\n",
    "It is helpful to give an example of the class equation, to understand the notation. The group Aut(<em>Z</em><sub>24</sub><sup>*</sup>) had 168 elements and 6 \r\n",
    "conjugacy classes.<br>"
   ]
  },
  {
   "cell_type": "code",
   "execution_count": 0,
   "metadata": {
    "collapsed": false
   },
   "outputs": [
   ],
   "source": [
    "DisplayPermInt = true"
   ]
  },
  {
   "cell_type": "code",
   "execution_count": 0,
   "metadata": {
    "collapsed": false
   },
   "outputs": [
   ],
   "source": [
    "A = Group(NthPerm(187), NthPerm(723)); A"
   ]
  },
  {
   "cell_type": "markdown",
   "metadata": {
    "collapsed": false
   },
   "source": [
    "<br>\r\n",
    "The six conjugacy classes were represented by the elements 1, 27, 149, 231, 931, and 957.  The normalizers of these six elements are as follows:<br>"
   ]
  },
  {
   "cell_type": "code",
   "execution_count": 0,
   "metadata": {
    "collapsed": false
   },
   "outputs": [
   ],
   "source": [
    "len(Normalizer(A, NthPerm(1) ))"
   ]
  },
  {
   "cell_type": "code",
   "execution_count": 0,
   "metadata": {
    "collapsed": false
   },
   "outputs": [
   ],
   "source": [
    "len(Normalizer(A, NthPerm(27) ))"
   ]
  },
  {
   "cell_type": "code",
   "execution_count": 0,
   "metadata": {
    "collapsed": false
   },
   "outputs": [
   ],
   "source": [
    "len(Normalizer(A, NthPerm(149) ))"
   ]
  },
  {
   "cell_type": "code",
   "execution_count": 0,
   "metadata": {
    "collapsed": false
   },
   "outputs": [
   ],
   "source": [
    "len(Normalizer(A, NthPerm(231) ))"
   ]
  },
  {
   "cell_type": "code",
   "execution_count": 0,
   "metadata": {
    "collapsed": false
   },
   "outputs": [
   ],
   "source": [
    "len(Normalizer(A, NthPerm(931) ))"
   ]
  },
  {
   "cell_type": "code",
   "execution_count": 0,
   "metadata": {
    "collapsed": false
   },
   "outputs": [
   ],
   "source": [
    "len(Normalizer(A, NthPerm(957) ))"
   ]
  },
  {
   "cell_type": "markdown",
   "metadata": {
    "collapsed": false
   },
   "source": [
    "<br>\r\n",
    "Finally, we form the sum\r\n",
    "<br><br>\r\n",
    "<table align=\"center\" border=\"0\" cellspacing=\"0\" cellpadding=\"0\">\r\n",
    "  <tr>\r\n",
    "    <td rowspan = \"2\" align=\"center\" valign=\"bottom\">&thinsp;<font face=\"Times New Roman, Times, serif\" size=\"+4\">&sum;</font>&thinsp;</td>\r\n",
    "    <td height=\"33\" valign=\"bottom\"><font style=\"text-decoration:underline\">&ensp;&emsp;| <em>G</em> |&emsp;&ensp;</font></td>\r\n",
    "    <td rowspan = \"2\" align=\"right\">&ensp;=&ensp;</td>\r\n",
    "    <td height=\"33\" valign=\"bottom\"><font style=\"text-decoration:underline\">&ensp;168&ensp;</font></td>\r\n",
    "    <td rowspan = \"2\" align=\"right\">&ensp;+&ensp;</td>\r\n",
    "    <td height=\"33\" valign=\"bottom\"><font style=\"text-decoration:underline\">&ensp;168&ensp;</font></td>\r\n",
    "    <td rowspan = \"2\" align=\"right\">&ensp;+&ensp;</td>\r\n",
    "    <td height=\"33\" valign=\"bottom\"><font style=\"text-decoration:underline\">&ensp;168&ensp;</font></td>\r\n",
    "    <td rowspan = \"2\" align=\"right\">&ensp;+&ensp;</td>\r\n",
    "    <td height=\"33\" valign=\"bottom\"><font style=\"text-decoration:underline\">&ensp;168&ensp;</font></td>\r\n",
    "    <td rowspan = \"2\" align=\"right\">&ensp;+&ensp;</td>\r\n",
    "    <td height=\"33\" valign=\"bottom\"><font style=\"text-decoration:underline\">&ensp;168&ensp;</font></td>\r\n",
    "    <td rowspan = \"2\" align=\"right\">&ensp;+&ensp;</td>\r\n",
    "    <td height=\"33\" valign=\"bottom\"><font style=\"text-decoration:underline\">&ensp;168&ensp;</font></td>\r\n",
    "    <td rowspan = \"2\" align=\"right\">&ensp;= 168.</td>                    \r\n",
    "  </tr>\r\n",
    "  <tr>\r\n",
    "     <td valign=\"top\">| <em>N<sub>G</sub></em>({<em>g</em>}) |</td>\r\n",
    "     <td align = \"center\" valign=\"top\">168</td>\r\n",
    "     <td align = \"center\" valign=\"top\">8</td>\r\n",
    "     <td align = \"center\" valign=\"top\">3</td>\r\n",
    "     <td align = \"center\" valign=\"top\">4</td>\r\n",
    "     <td align = \"center\" valign=\"top\">7</td>\r\n",
    "     <td align = \"center\" valign=\"top\">7</td>\r\n",
    "  </tr>\r\n",
    "  <tr>\r\n",
    "    <td align=\"center\" valign=\"top\"><em>g</em></td>\r\n",
    "    <td></td>\r\n",
    "    <td></td>\r\n",
    "    <td></td>\r\n",
    "    <td></td>\r\n",
    "    <td></td>\r\n",
    "    <td></td>\r\n",
    "    <td></td>\r\n",
    "    <td></td>\r\n",
    "    <td></td>\r\n",
    "    <td></td>\r\n",
    "    <td></td>\r\n",
    "    <td></td>\r\n",
    "    <td></td>\r\n",
    "    <td></td>\r\n",
    "  </tr>\r\n",
    "</table>\r\n",
    "\r\n",
    "<br>\r\n",
    "We will see many very important applications of this equation, but let us begin by learning what this has to say about groups whose order is a power of a prime.\r\n",
    "\r\n",
    "<p />  \r\n",
    "<a name=\"cor72ret\" id=\"cor72ret\"></a>\r\n",
    "COROLLARY 7.2<br>\r\n",
    "If <em>G</em> is a group of order <em>p<sup>n</sup></em> where <em>p</em> is a prime and <em>n</em> is a positive integer, then <em>G</em> is not centerless.<br><br>\r\n",
    "\r\n",
    "<a href=\"#cor72\">Click here for the proof.</a>\r\n",
    "\r\n",
    "<p />\r\n",
    "This corollary is useful in finding all non-isomorphic groups of order <em>p<sup>n</sup></em>, where <em>p</em> is a prime.  For example, we can easily find \r\n",
    "all non-isomorphic groups of order <em>p</em><sup>2</sup>.\r\n",
    "\r\n",
    "<p />  \r\n",
    "<a name=\"cor73ret\" id=\"cor73ret\"></a>\r\n",
    "COROLLARY 7.3<br>\r\n",
    "If <em>p</em> is a prime then there are exactly two non-isomorphic groups of order <em>p</em><sup>2</sup>, namely <em>Z<sub>p</sub></em>&#8322; and \r\n",
    "<em>Z<sub>p</sub></em> &times; <em>Z<sub>p</sub></em>.<br><br>\r\n",
    "\r\n",
    "<a href=\"#cor73\">Click here for the proof.</a>\r\n",
    "\r\n",
    "<p />\r\n",
    "In particular we can use Corollary 7.3 to see that there are only two non-isomorphic groups of order 9: <em>Z</em><sub>9</sub> and \r\n",
    "<em>Z</em><sub>3</sub> &times; <em>Z</em><sub>3</sub>.<br><br>\r\n",
    "\r\n",
    "One of the keys for finding all groups of a certain order is knowing whether there is a normal subgroup of a certain order. The next proposition will allow us to know \r\n",
    "that there will be a normal subgroup <em>without</em> knowing the structure of the group.\r\n",
    "\r\n",
    "<p />  \r\n",
    "<a name=\"prop78ret\" id=\"prop78ret\"></a>\r\n",
    "PROPOSITION 7.8<br>\r\n",
    "Let <em>G</em> be a group of order <em>p<sup>n</sup></em>.  Then <em>G</em> contains a normal subgroup of order <em>p</em><sup><em>n</em>&minus;1</sup>.<br><br>\r\n",
    "\r\n",
    "<a href=\"#prop78\">Click here for the proof.</a>\r\n",
    "\r\n",
    "<p />\r\n",
    "We now are ready to start finding normal subgroups of a more general group, knowing only the group's order.  The most important set of theorems that tackle this problem \r\n",
    "are by a Norwegian high school teacher named Ludwig Sylow (1832-1918).  Before we work on finding normal subgroups let us see if we can find a subgroup of a given \r\n",
    "order within a group.\r\n",
    "\r\n",
    "<p />  \r\n",
    "<a name=\"theor73ret\" id=\"theor73ret\"></a>\r\n",
    "THEOREM 7.3:The First Sylow Theorem<br>\r\n",
    "Suppose that <em>G</em> is a group of order <em>p<sup>n</sup></em>&middot;<em>m</em>, where <em>p</em> is a prime, and <em>m</em> is coprime to <em>p</em>.  Then \r\n",
    "<em>G</em> has a subgroup of order <em>p<sup>n</sup></em>.<br><br>\r\n",
    "\r\n",
    "<a href=\"#theor73\">Click here for the proof.</a>\r\n",
    "\r\n",
    "<p />\r\n",
    "Because these subgroups of order <em>p<sup>n</sup></em> are so important, we will give them a special name<br><br>\r\n",
    "\r\n",
    "DEFINITION 7.5<br>\r\n",
    "If <em>G</em> is a group of order <em>p<sup>n</sup></em>&middot;<em>m</em>, where <em>m</em> is coprime to the prime <em>p</em>, then a subgroup of \r\n",
    "order <em>p<sup>n</sup></em> is called a <em>p</em>-<em>Sylow subgroup</em>.<br><br>\r\n",
    "\r\n",
    "Let us give a quick application of the first Sylow theorem (7.3).  Suppose we have a group <em>G</em> of order 10.  There is guaranteed to be a 5-Sylow subgroup, \r\n",
    "say <em>K</em>, and a 2-Sylow subgroup, say <em>H</em>.  Obviously,\r\n",
    "<p style='text-align: center;'><em>K</em> &asymp; <em>Z</em><sub>5</sub>&emsp;and&emsp;<em>H</em> &asymp; <em>Z</em><sub>2</sub>.</p>\r\n",
    "Furthermore, the intersection of <em>K</em> and <em>H</em> must just be the identity, since <em>Z</em><sub>5</sub> does not have any elements of order 2.  Also, <em>K</em> \r\n",
    "is a subgroup of <em>G</em> with index 2, so by Proposition 3.5, <em>K</em> is a normal subgroup of <em>G</em>.  If <em>H</em> is also normal, we have by the direct \r\n",
    "product theorem (6.1) that \r\n",
    "<p style='text-align: center;'><em>K</em>&middot;<em>H</em> &asymp; <em>K</em> &times; <em>H</em> &asymp; <em>Z</em><sub>5</sub> &times; <em>Z</em><sub>2</sub> &asymp; \r\n",
    "<em>Z</em><sub>10</sub>.</p>\r\n",
    "On the other hand, if <em>H</em> is not a normal subgroup, then by the semi-direct product theorem (6.3),\r\n",
    "<p style='text-align: center;'><em>K</em>&middot;<em>H</em> &asymp; <em>K</em> &#8906;<sub><em>&#981;</em></sub> <em>H</em></p>\r\n",
    "for some nontrivial homomorphism <em>&#981;</em> from <em>H</em> to Aut(<em>K</em>).  But in chapter 6, we found that there were only one nontrivial homomorphism, \r\n",
    "yielding <em>D</em><sub>5</sub>.  In either case, <em>K</em>&middot;<em>N</em> must be isomorphic to one of these two groups.  In either case, <em>K</em>&middot;<em>H</em> \r\n",
    "is of order 10, so\r\n",
    "<em>G</em> is either isomorphic to <em>Z</em><sub>10</sub> or <em>D</em><sub>5</sub>.<br><br>\r\n",
    "\r\n",
    "Even though Sylow's first theorem (7.3) guarantees that there will be at least one <em>p</em>-Sylow subgroup, there may be more than one.  The next of Sylow's theorems \r\n",
    "shows that any two <em>p</em>-Sylow subgroups are related.\r\n",
    "\r\n",
    "<p />  \r\n",
    "<a name=\"theor74ret\" id=\"theor74ret\"></a>\r\n",
    "THEOREM 7.4:The Second Sylow Theorem<br>\r\n",
    "If <em>H</em> and <em>K</em> are two <em>p</em>-Sylow subgroups of <em>G</em>, then there exists an element <em>u</em> in <em>G</em> such that <em>H</em> = \r\n",
    "<em>u</em>&middot;<em>K</em>&middot;<em>u</em><sup>-1</sup>.<br><br>\r\n",
    "\r\n",
    "<a href=\"#theor74\">Click here for the proof.</a>\r\n",
    "\r\n",
    "<p />\r\n",
    "The second Sylow theorem (7.4) allows us to know exactly when a <em>p</em>-Sylow subgroup is normal.\r\n",
    "\r\n",
    "<p />  \r\n",
    "<a name=\"cor74ret\" id=\"cor74ret\"></a>\r\n",
    "COROLLARY 7.4<br>\r\n",
    "The group <em>G</em> has only one <em>p</em>-Sylow subgroup for a given prime <em>p</em> if, and only if, <em>G</em> has a <em>p</em>-Sylow subgroup that is normal.<br><br>\r\n",
    "\r\n",
    "<a href=\"#cor74\">Click here for the proof.</a>\r\n",
    "\r\n",
    "<p />\r\n",
    "Of course, the natural question that Corollary 7.4 raises is, &quot;How do we know if there is only one <em>p</em>-Sylow subgroup?&quot;  The next lemma allows us to find \r\n",
    "the number of <em>p</em>-Sylow subgroups in terms of the size of the normalizer.  In fact it allows us to find the number of <em>p</em>-Sylow subgroups of a certain \r\n",
    "type.\r\n",
    "\r\n",
    "<p />  \r\n",
    "<a name=\"lem73ret\" id=\"lem73ret\"></a>\r\n",
    "LEMMA 7.3<br>\r\n",
    "Let <em>G</em> be a group of order <em>p<sup>n</sup></em>&middot;<em>m</em>, with <em>m</em> coprime to the prime <em>p</em>, and let <em>P</em> be \r\n",
    "a <em>p</em>-Sylow subgroup of <em>G</em>.  Let <em>H</em> be any other subgroup of <em>G</em>.  Then the number of <em>p</em>-Sylow subgroups that can be written \r\n",
    "as <em>u</em>&middot;<em>P</em>&middot;<em>u</em><sup>-1</sup> with <em>u</em> an element of <em>H</em> is given by\r\n",
    "<table align=\"center\" border=\"0\" cellspacing=\"0\" cellpadding=\"0\">\r\n",
    "  <tr>\r\n",
    "    <td align=\"center\" valign=\"bottom\"><font style=\"text-decoration:underline\">&emsp;&emsp;| <em>H</em> |&emsp;&emsp;</font></td>\r\n",
    "    <td rowspan = \"2\" align=\"left\">.</td>\r\n",
    "  </tr>\r\n",
    "  <tr>\r\n",
    "    <td align=\"center\" valign=\"top\">| <em>N<sub>G</sub></em>(<em>P</em>) &cap;<em>H</em> |</td>\r\n",
    "  </tr>\r\n",
    "</table>\r\n",
    "\r\n",
    "<a href=\"#lem73\">Click here for the proof.</a>\r\n",
    "\r\n",
    "<p />\r\n",
    "We now are ready to prove the last of Sylow's theorem, which in many cases will tell us the number of <em>p</em>-Sylow subgroups of a group.\r\n",
    "\r\n",
    "<p />  \r\n",
    "<a name=\"theor75ret\" id=\"theor75ret\"></a>\r\n",
    "THEOREM 7.5:The Third Sylow Theorem<br>\r\n",
    "Suppose that the number of <em>p</em>-Sylow subgroups of <em>G</em> is <em>k</em>.  Then <em>k</em> divides |<em>G</em>|, and <em>k</em> &equiv; 1 (mod <em>p</em>).<br><br>\r\n",
    "\r\n",
    "<a href=\"#theor75\">Click here for the proof.</a>\r\n",
    "\r\n",
    "<p />\r\n",
    "These three theorems of Sylow provide a means of finding normal subgroups of a group <em>G</em> even if all we know is the order of <em>G</em>.  For example, suppose that \r\n",
    "all that we know about a group is that the order is 45.  How can we find some normal subgroups?  Since 3<sup>2</sup> divides 45, there is a 3-Sylow subgroup of \r\n",
    "order 9.  How many of them will there be?  We know that the number of 3-Sylow subgroups divides 45, so this number must be 1, 3, 5, 9, 15, or 45.  However, the number must \r\n",
    "be congruent to 1 (mod 3).  Thus, the only possibility is that there is only one subgroup of order 9, say <em>H</em>.  But then this subgroup is normal.<br><br>\r\n",
    "\r\n",
    "We can use the same argument to find a normal subgroup of order 5.  Again, the number of 5-Sylow subgroups must be 1, 3, 5, 9, 15, or 45.  But this number must also \r\n",
    "be congruent to 1 (mod 5), and so there is only 1 subgroup of order 5.  This group must also be normal.<br><br>\r\n",
    "\r\n",
    "Although the Sylow theorems are powerful tools, when combined with the tools of semi-direct products and the computational power of <em>Sage</em>, we can determine most \r\n",
    "of the finite groups.<br><br>\r\n",
    "\r\n",
    "EXAMPLE:<br>\r\n",
    "Find all of the groups of order 12.<br><br>\r\n",
    "\r\n",
    "Suppose that <em>G</em> is a group of order 12. The divisors of 12 are 1, 2, 3, 4, 6, and 12, and so by the third Sylow theorem there are either one or four \r\n",
    "3-Sylow subgroups and there are either one or three 2-Sylow subgroups.  Let <em>H</em> be a 3-Sylow subgroup, and let <em>K</em> be a 2-Sylow subgroup (which will be of \r\n",
    "order 4).  Certainly the intersection of <em>H</em> and <em>K</em> is just the identity element since <em>K</em> cannot contain an element of order 3.<br><br>\r\n",
    "\r\n",
    "Even though we do not know whether <em>H</em> or <em>K</em> is normal, we would like to show that at least one of them is.  Suppose that <em>H</em> is not normal.  Then \r\n",
    "there must be four 3-Sylow subgroups of <em>G</em>.  Each of these 3-Sylow groups contain two different elements of order 3, so <em>G</em> must have eight elements of \r\n",
    "order 3.  But then there are only four elements left over, and so <em>K</em> must be composed of all of those four elements.  Then there would be only one 2-Sylow \r\n",
    "subgroup, which would be normal.<br><br>\r\n",
    "\r\n",
    "Since <em>H</em> must be isomorphic to <em>Z</em><sub>3</sub>, and <em>K</em> must be isomorphic to either <em>Z</em><sub>4</sub> or <em>Z</em><sub>8</sub><sup>*</sup>, we \r\n",
    "have by the direct product theorem (6.1) and the semi-direct product theorem (6.3) that <em>H</em>&middot;<em>K</em> is one of these six forms:<br><br>\r\n",
    "1)&emsp;<em>H</em>&middot;<em>K</em> &asymp; <em>Z</em><sub>3</sub> &times; <em>Z</em><sub>4</sub> &asymp; <em>Z</em><sub>12</sub>,<br>\r\n",
    "2)&emsp;<em>H</em>&middot;<em>K</em> &asymp; <em>Z</em><sub>3</sub> &times; <em>Z</em><sub>8</sub><sup>*</sup> &asymp; \r\n",
    "<em>Z</em><sub>3</sub> &times; <em>Z</em><sub>2</sub> &times; <em>Z</em><sub>2</sub>,<br>\r\n",
    "3)&emsp;<em>H</em>&middot;<em>K</em> &asymp; <em>Z</em><sub>4</sub> &#8906;<sub><em>&#981;</em></sub> <em>Z</em><sub>3</sub>,<br>\r\n",
    "4)&emsp;<em>H</em>&middot;<em>K</em> &asymp; <em>Z</em><sub>8</sub><sup>*</sup> &#8906;<sub><em>&#981;</em></sub> <em>Z</em><sub>3</sub>,<br>\r\n",
    "5)&emsp;<em>H</em>&middot;<em>K</em> &asymp; <em>Z</em><sub>3</sub> &#8906;<sub><em>&#981;</em></sub> <em>Z</em><sub>4</sub>,<br>\r\n",
    "6)&emsp;<em>H</em>&middot;<em>K</em> &asymp; <em>Z</em><sub>3</sub> &#8906;<sub><em>&#981;</em></sub> <em>Z</em><sub>8</sub><sup>*</sup>.<br><br>\r\n",
    "\r\n",
    "\r\n",
    "In all six cases <em>H</em>&middot;<em>K</em> contains 12 elements, and so <em>G</em> = <em>H</em>&middot;<em>K</em>.  Let us work these six cases separately.  The first \r\n",
    "two give the two possible abelian groups of order 12.<br><br>\r\n",
    "\r\n",
    "Case 3)<br><br>\r\n",
    "The nontrivial homomorphism <em>&#981;</em> maps <em>Z</em><sub>3</sub> to Aut(<em>Z</em><sub>4</sub>).  An element of order 3 must map to an element of order 3.  But \r\n",
    "Aut(<em>Z</em><sub>4</sub>) has only two elements, and therefore has no elements of order 3.  So there are no groups of this form.<br><br>\r\n",
    "\r\n",
    "Case 4)<br><br>\r\n",
    "\r\n",
    "The nontrivial homomorphism <em>&#981;</em> maps <em>Z</em><sub>3</sub> to Aut(<em>Z</em><sub>8</sub><sup>*</sup>).  Again, an element of order 3 must map to an element \r\n",
    "of order 3.  This time we have Aut(<em>Z</em><sub>8</sub><sup>*</sup>) isomorphic to <em>S</em><sub>3</sub>, which has exactly two elements of order 3. Thus, \r\n",
    "<em>&#981;</em> maps the two non-identity elements in <em>Z</em><sub>3</sub> to the two elements of order 3 in Aut(<em>Z</em><sub>8</sub><sup>*</sup>).  By \r\n",
    "Proposition 6.7, it does not matter which element of <em>Z</em><sub>3</sub> maps to which elements in Aut(<em>Z</em><sub>8</sub><sup>*</sup>).  Thus, there is only \r\n",
    "one non-isomorphic group of the form <nobr><em>Z</em><sub>8</sub><sup>*</sup> &#8906;<sub><em>&#981;</em></sub> <em>Z</em><sub>3</sub>.</nobr>  Rather than \r\n",
    "having <em>Sage</em> produce the group, let us see if we can find it by process of elimination.  We know that <em>A</em><sub>4</sub> is a group of order 12, has a \r\n",
    "normal subgroup isomorphic to <em>Z</em><sub>8</sub><sup>*</sup>, and does not have a normal subgroup of order 3.  This cannot be covered by cases 5 or 6, and this \r\n",
    "certainly is not the abelian groups covered in cases 1 and 2.  Thus, <em>A</em><sub>4</sub> must be the \r\n",
    "group <em>Z</em><sub>3</sub> &#8905;<sub><em>&#981;</em></sub> <em>Z</em><sub>8</sub><sup>*</sup>.<br><br>\r\n",
    "\r\n",
    "Case 5)<br><br>\r\n",
    "\r\n",
    "The homomorphism <em>&#981;</em> maps <em>Z</em><sub>4</sub> to Aut(<em>Z</em><sub>3</sub>).  The homomorphism is completely determined by where it sends a \r\n",
    "generator.  But Aut(<em>Z</em><sub>3</sub>) has only two elements, so there is only one nontrivial homomorphism.  Let us use <em>Sage</em> to explore the \r\n",
    "homomorphism.  First, we define <em>Z</em><sub>3</sub> and <em>Z</em><sub>4</sub>:<br>"
   ]
  },
  {
   "cell_type": "code",
   "execution_count": 0,
   "metadata": {
    "collapsed": false
   },
   "outputs": [
   ],
   "source": [
    "InitGroup(\"e\")\r\n",
    "AddGroupVar(\"a\", \"b\")\r\n",
    "Define(a^3, e)\r\n",
    "Define(b^4, e)"
   ]
  },
  {
   "cell_type": "markdown",
   "metadata": {
    "collapsed": false
   },
   "source": [
    "<br>\r\n",
    "Now we know that <em>b</em>&middot;<em>a</em> equals <em>&#981;<sub>b</sub></em>(<em>a</em>)&middot;<em>b</em>.  But <em>&#981;<sub>b</sub></em> must be nontrivial, \r\n",
    "so <em>&#981;<sub>b</sub></em>(<em>a</em>) would be <em>a</em><sup>2</sup>. Thus, <em>b</em>&middot;<em>a</em> = <em>a</em><sup>2</sup>&middot;<em>b</em>, and \r\n",
    "we can define<br>"
   ]
  },
  {
   "cell_type": "code",
   "execution_count": 0,
   "metadata": {
    "collapsed": false
   },
   "outputs": [
   ],
   "source": [
    "Define(b*a, a^2*b)"
   ]
  },
  {
   "cell_type": "markdown",
   "metadata": {
    "collapsed": false
   },
   "source": [
    "<br>\r\n",
    "Let us see if this forms a group.<br>"
   ]
  },
  {
   "cell_type": "code",
   "execution_count": 0,
   "metadata": {
    "collapsed": false
   },
   "outputs": [
   ],
   "source": [
    "M = ListGroup(); M"
   ]
  },
  {
   "cell_type": "code",
   "execution_count": 0,
   "metadata": {
    "collapsed": false
   },
   "outputs": [
   ],
   "source": [
    "MultTable(M)"
   ]
  },
  {
   "cell_type": "markdown",
   "metadata": {
    "collapsed": false
   },
   "source": [
    "<br>\r\n",
    "We can find the orders of the elements by computing <em>R<sub>k</sub></em>(<em>M</em>).<br>"
   ]
  },
  {
   "cell_type": "code",
   "execution_count": 0,
   "metadata": {
    "collapsed": false
   },
   "outputs": [
   ],
   "source": [
    "RootCount(M, 2)"
   ]
  },
  {
   "cell_type": "code",
   "execution_count": 0,
   "metadata": {
    "collapsed": false
   },
   "outputs": [
   ],
   "source": [
    "RootCount(M, 3)"
   ]
  },
  {
   "cell_type": "code",
   "execution_count": 0,
   "metadata": {
    "collapsed": false
   },
   "outputs": [
   ],
   "source": [
    "RootCount(M, 4)"
   ]
  },
  {
   "cell_type": "markdown",
   "metadata": {
    "collapsed": false
   },
   "source": [
    "<br>\r\n",
    "This non-abelian group has only one element of\r\n",
    "order 2.  Thus, it is not isomorphic to any group we \r\n",
    "have studied before.  We can describe this group simply as the semi-direct product\r\n",
    "<p style='text-align: center;'><em>Z</em><sub>3</sub> &#8906; <em>Z</em><sub>4</sub>.</p>\r\n",
    "In fact, this is the name that <em>Sage</em> gives to this group.<br>"
   ]
  },
  {
   "cell_type": "code",
   "execution_count": 0,
   "metadata": {
    "collapsed": false
   },
   "outputs": [
   ],
   "source": [
    "StructureDescription()"
   ]
  },
  {
   "cell_type": "markdown",
   "metadata": {
    "collapsed": false
   },
   "source": [
    "<br>\r\n",
    "Case 6)<br><br>\r\n",
    "\r\n",
    "The homomorphism <em>&#981;</em> maps <em>Z</em><sub>8</sub><sup>*</sup> to Aut(<em>Z</em><sub>3</sub>).  Since Aut(<em>Z</em><sub>3</sub>) contains only two elements, \r\n",
    "the homomorphism <em>&#981;</em> is completely determined by its kernel.  The kernel of <em>&#981;</em> cannot be just the identity, for this would indicate \r\n",
    "that <em>&#981;</em> is an isomorphism, and Aut(<em>Z</em><sub>3</sub>) does not have enough elements.  On the other hand, the kernel of a nontrivial homomorphism connot \r\n",
    "be all of <em>Z</em><sub>8</sub><sup>*</sup>.  So the kernal must be a subgroup of order 2.  Since there is an automorphism of <em>Z</em><sub>8</sub><sup>*</sup> mapping \r\n",
    "one subgroup of order 2 to any other, it will not matter which subgroup of order 2 we pick.  Thus, there is only one semi-direct \r\n",
    "product <em>Z</em><sub>3</sub> &#8906;<sub><em>&#981;</em></sub> <em>Z</em><sub>8</sub><sup>*</sup>.  This group contains <em>Z</em><sub>3</sub> as a normal subgroup. Can \r\n",
    "we find such a group?  Consider the group <em>Z</em><sub>2</sub> &times; <em>S</em><sub>3</sub>.  Since <em>S</em><sub>3</sub> contains a normal subgroup of order 3, so \r\n",
    "will <em>Z</em><sub>2</sub> &times; <em>S</em><sub>3</sub>.  Also, this group contains 2 elements of order 3, and no elements of \r\n",
    "order 6.  Hence <em>Z</em><sub>2</sub> &times; <em>S</em><sub>3</sub> is not \r\n",
    "isomorphic to <em>A</em><sub>4</sub> or <em>Z</em><sub>4</sub> &#8905; <em>Z</em><sub>3</sub>.  So <em>Z</em><sub>2</sub> &times; <em>S</em><sub>3</sub> must be the \r\n",
    "remaining group covered by case 6.  So by process of elimination,  <em>Z</em><sub>2</sub> &times; <em>S</em><sub>3</sub> &asymp; \r\n",
    "<em>Z</em><sub>3</sub> &#8906;<sub><em>&#981;</em></sub> <em>Z</em><sub>8</sub><sup>*</sup>.  Therefore, we have found 5 possible groups of order 12:\r\n",
    "<p style='text-align: center;'><em>Z</em><sub>12</sub>,&emsp;<em>A</em><sub>4</sub>,&emsp;<em>Z</em><sub>3</sub> &times; <em>Z</em><sub>2</sub> &times; \r\n",
    "<em>Z</em><sub>2</sub>,&emsp;<em>Z</em><sub>2</sub> &times; <em>S</em><sub>3</sub>,&ensp;and&ensp;<em>Z</em><sub>3</sub> &#8906; <em>Z</em><sub>4</sub>.</p>\r\n",
    "We can summarize all of our findings plus a few more in the following proposition.\r\n",
    "\r\n",
    "<p />  \r\n",
    "<a name=\"prop79ret\" id=\"prop79ret\"></a>\r\n",
    "PROPOSITION 7.9<br>\r\n",
    "There are exactly 28 non-isomorphic groups of order less than 16.<br><br>\r\n",
    "\r\n",
    "<a href=\"#prop79\">Click here for the proof.</a>\r\n",
    "\r\n",
    "<p />\r\n",
    "Unfortunately, finding all the groups of order 16 is a difficult problem.  Even though Proposition 7.8 tells us that there must be a normal subgroup <em>K</em> of \r\n",
    "order 8, there is no guarantee that there would be a subgroup <em>H</em> of order 2 such that <em>K</em>&middot;<em>H</em> gives the whole group.  Thus, we would not \r\n",
    "be able to use the semi-direct product theorem (6.3) to find <em>all</em> of the groups of order 16 (although we can find many of them, as we did \r\n",
    "in the last chapter).\r\n",
    "\r\n",
    "<br><br><br><br><br><br><br><br><br><br><br><br><br><br><br><br><br><br><br><br><br><br><br><br><br><br><br><br><br><br><br><br><br><br><br><br><br><br><br><br><br><br>\r\n",
    "\r\n",
    "<h1>Proofs:</h1>\r\n",
    "\r\n",
    "<a name=\"prop71\" id=\"prop71\"></a>\r\n",
    "\r\n",
    "Proof of Proposition 7.1:<br><br>\r\n",
    "\r\n",
    "First, we need to show that <em>Z</em>(<em>G</em>) is a subgroup of <em>G</em>.  If <em>x</em> and <em>y</em> are in <em>Z</em>(<em>G</em>), and <em>a</em> is any element \r\n",
    "in <em>G</em>, then\r\n",
    "<p style='text-align: center;'><em>x</em>&middot;<em>y</em>&middot;<em>a</em> = <em>x</em>&middot;<em>a</em>&middot;<em>y</em> = \r\n",
    "<em>a</em>&middot;<em>x</em>&middot;<em>y</em>.</p>\r\n",
    "So <em>x</em>&middot;<em>y</em> commutes with all of the elements of <em>G</em>.  Thus, <em>x</em>&middot;<em>y</em> is in <em>Z</em>(<em>G</em>).<br><br>\r\n",
    "\r\n",
    "Also, we have\r\n",
    "<p style='text-align: center;'><em>x</em><sup>-1</sup>&middot;<em>a</em> = (<em>a</em><sup>-1</sup>&middot;<em>x</em>)<sup>-1</sup> = \r\n",
    "(<em>x</em>&middot;<em>a</em><sup>-1</sup>)<sup>-1</sup> = <em>a</em>&middot;<em>x</em><sup>-1</sup>.</p>\r\n",
    "So <em>x</em><sup>-1</sup> must also be in <em>Z</em>(<em>G</em>).  Thus, by Proposition 2.2, <em>Z</em>(<em>G</em>) is a subgroup of <em>G</em>.<br><br>\r\n",
    "\r\n",
    "Next, we can see that\r\n",
    "<p style='text-align: center;'><em>a</em>&middot;<em>x</em>&middot;<em>a</em><sup>-1</sup> = <em>x</em>&middot;<em>a</em>&middot;<em>a</em><sup>-1</sup> = <em>x</em>.</p>\r\n",
    "So <em>a</em>&middot;<em>x</em>&middot;<em>a</em><sup>-1</sup> is in <em>Z</em>(<em>G</em>) whenever <em>x</em> is in <em>Z</em>(<em>G</em>) and <em>a</em> is \r\n",
    "in <em>G</em>.  Thus, by Proposition 3.4, <em>Z</em>(<em>G</em>) is a normal subgroup of <em>G</em>.<br><br>\r\n",
    "\r\n",
    "<a href=\"#prop71ret\">Return to text</a>\r\n",
    "\r\n",
    "<br><br><br><br><br><br><br><br><br><br><br><br><br><br><br><br><br><br><br><br><br><br><br><br><br><br><br><br><br><br><br><br><br><br><br><br><br><br><br><br><br><br>\r\n",
    "\r\n",
    "<a name=\"prop72\" id=\"prop72\"></a>\r\n",
    "\r\n",
    "Proof of Proposition 7.2:<br><br>\r\n",
    "\r\n",
    "Suppose that <em>&#981;</em> is an element of <em>S<sub>n</sub></em> or <em>A<sub>n</sub></em> which is not the identity.  We need to show that <em>&#981;</em> cannot be \r\n",
    "in the center of either <em>S<sub>n</sub></em> or <em>A<sub>n</sub></em>, which amounts to finding an element of <em>A<sub>n</sub></em> that does not commute \r\n",
    "with <em>&#981;</em>.<br><br>\r\n",
    "\r\n",
    "Since <em>&#981;</em> is not the identity, there is some number <em>x</em> that is not fixed by <em>&#981;</em>, say <em>x</em> is mapped to <em>y</em>.  Since \r\n",
    "<em>n</em> &gt; 3, there is at least one number not in the list <nobr>{<em>x</em>, <em>y</em>, <em>&#981;</em>(<em>y</em>)}.</nobr>  Let <em>z</em> be one of these remaining \r\n",
    "numbers.  Finally, we let <em>&fnof;</em> be the 3-cycle (<em>x</em> <em>y</em> <em>z</em>).<br><br>\r\n",
    "\r\n",
    "Since <em>&fnof;</em> is an even permutation <em>&fnof;</em> is in <em>A<sub>n</sub></em>.  Then <em>&fnof;</em>&middot;<em>&#981;</em> sends <em>x</em> to <em>z</em>, but \r\n",
    "<em>&#981;</em>&middot;<em>&fnof;</em> sends <em>x</em> to <em>&#981;</em>(<em>y</em>) &ne; <em>z</em>.  Thus, <em>&fnof;</em>&middot;<em>&#981;</em> &ne; \r\n",
    "<em>&#981;</em>&middot;<em>&fnof;</em>, and <em>&#981;</em> is not in the center of either <em>S<sub>n</sub></em> or <em>A<sub>n</sub></em>.<br><br>\r\n",
    "\r\n",
    "<a href=\"#prop72ret\">Return to text</a>\r\n",
    "\r\n",
    "<br><br><br><br><br><br><br><br><br><br><br><br><br><br><br><br><br><br><br><br><br><br><br><br><br><br><br><br><br><br><br><br><br><br><br><br><br><br><br><br><br><br>\r\n",
    "\r\n",
    "<a name=\"prop73\" id=\"prop73\"></a>\r\n",
    "\r\n",
    "Proof of Proposition 7.3:<br><br>\r\n",
    "\r\n",
    "We begin by observing that the mapping\r\n",
    "<p style='text-align: center;'><em>&#981;</em> : <em>G</em> &rarr; Inn(<em>G</em>)</p>\r\n",
    "given by\r\n",
    "<p style='text-align: center;'><em>&#981;<sub>x</sub></em>(<em>y</em>) = <em>x</em>&middot;<em>y</em>&middot;<em>x</em><sup>-1</sup></p>\r\n",
    "is a homomorphism, as we saw in the proof of the semi-direct product theorem (6.3).  By the definition of the inner automorphisms, this mapping is surjective.  However, \r\n",
    "this mapping is not necessarily injective.  Let us determine the kernel of <em>&#981;</em>.<br><br>\r\n",
    "\r\n",
    "Suppose that <em>&#981;<sub>x</sub></em> is the identity homomorphism.  Then <em>&#981;<sub>x</sub></em>(<em>y</em>) = <em>y</em> for all <em>y</em> in <em>G</em>.  This \r\n",
    "means that <em>x</em>&middot;<em>y</em>&middot;<em>x</em><sup>-1</sup> = <em>y</em>, or <em>x</em>&middot;<em>y</em> = <em>y</em>&middot;<em>x</em>, for all <em>y</em> \r\n",
    "in <em>G</em>.  Thus, <em>x</em> is in the center of <em>G</em>.<br><br>\r\n",
    "\r\n",
    "Now, suppose <em>x</em> is in <em>Z</em>(<em>G</em>).  Then \r\n",
    "<p style='text-align: center;'> <em>&#981;<sub>x</sub></em>(<em>y</em>) = <em>x</em>&middot;<em>y</em>&middot;<em>x</em><sup>-1</sup> = \r\n",
    "<em>y</em>&middot;<em>x</em>&middot;<em>x</em><sup>-1</sup> = <em>y</em>,</p>\r\n",
    "so <em>&#981;<sub>x</sub></em> is the identity homomorphism.  Thus the kernel of <em>&#981;</em> is precisely the center of <em>G</em>.  Therefore, by the first isomorphism \r\n",
    "theorem (4.1), we have\r\n",
    "<p style='text-align: center;'><em>G</em>/<em>Z</em>(<em>G</em>) &asymp; Inn(<em>G</em>).</p>\r\n",
    "\r\n",
    "<a href=\"#prop73ret\">Return to text</a>\r\n",
    "\r\n",
    "<br><br><br><br><br><br><br><br><br><br><br><br><br><br><br><br><br><br><br><br><br><br><br><br><br><br><br><br><br><br><br><br><br><br><br><br><br><br><br><br><br><br>\r\n",
    "\r\n",
    "<a name=\"prop74\" id=\"prop74\"></a>\r\n",
    "\r\n",
    "Proof of Proposition 7.4:<br><br>\r\n",
    "\r\n",
    "Let <em>g</em> be an element of <em>G</em>, and <em>z</em> an element of <em>Z</em>(<em>N</em>).  We need to show \r\n",
    "that <em>g</em>&middot;<em>z</em>&middot;<em>g</em><sup>-1</sup> is in <em>Z</em>(<em>N</em>).   Since <em>N</em> is a normal subgroup of <em>G</em>, we certainly know \r\n",
    "that <em>g</em>&middot;<em>z</em>&middot;<em>g</em><sup>-1</sup> is in <em>N</em>, so the way to test that it is in <em>Z</em>(<em>N</em>) is to show that it commutes \r\n",
    "with every element of <em>N</em>.<br><br>\r\n",
    "\r\n",
    "Let <em>n</em> be an element of <em>N</em>.  We want to show that <em>g</em>&middot;<em>z</em>&middot;<em>g</em><sup>-1</sup>&middot;<em>n</em> = \r\n",
    "<em>n</em>&middot;<em>g</em>&middot;<em>z</em>&middot;<em>g</em><sup>-1</sup>.  Let <em>h</em> = <em>g</em><sup>-1</sup>&middot;<em>n</em>&middot;<em>g</em>. Then \r\n",
    "<em>h</em> is in <em>N</em>, since <em>N</em> is normal in <em>G</em>.  Also, <em>n</em> = <em>g</em>&middot;<em>h</em>&middot;<em>g</em><sup>-1</sup>, so\r\n",
    "<p style='text-align: center;'><em>g</em>&middot;<em>z</em>&middot;<em>g</em><sup>-1</sup>&middot;<em>n</em> = \r\n",
    "(<em>g</em>&middot;<em>z</em>&middot;<em>g</em><sup>-1</sup>)&middot;(<em>g</em>&middot;<em>h</em>&middot;<em>g</em><sup>-1</sup>) =\r\n",
    "<em>g</em>&middot;<em>z</em>&middot;<em>h</em>&middot;<em>g</em><sup>-1</sup> = <em>g</em>&middot;<em>h</em>&middot;<em>z</em>&middot;<em>g</em><sup>-1</sup> =\r\n",
    "(<em>g</em>&middot;<em>h</em>&middot;<em>g</em><sup>-1</sup>)&middot;(<em>g</em>&middot;<em>z</em>&middot;<em>g</em><sup>-1</sup>) = \r\n",
    "<em>n</em>&middot;<em>g</em>&middot;<em>z</em>&middot;<em>g</em><sup>-1</sup>.</p>\r\n",
    "Hence, <em>g</em>&middot;<em>z</em>&middot;<em>g</em><sup>-1</sup> commutes with every element <em>n</em> in <em>N</em>, so \r\n",
    "<em>g</em>&middot;<em>z</em>&middot;<em>g</em><sup>-1</sup> is in <em>Z</em>(<em>N</em>).  By Proposition 3.4, we have that <em>Z</em>(<em>N</em>) is a normal subgroup \r\n",
    "of <em>G</em>.<br><br>\r\n",
    "\r\n",
    "<a href=\"#prop74ret\">Return to text</a>\r\n",
    "\r\n",
    "<br><br><br><br><br><br><br><br><br><br><br><br><br><br><br><br><br><br><br><br><br><br><br><br><br><br><br><br><br><br><br><br><br><br><br><br><br><br><br><br><br><br>\r\n",
    "\r\n",
    "<a name=\"prop75\" id=\"prop75\"></a>\r\n",
    "\r\n",
    "Proof of Proposition 7.5:<br><br>\r\n",
    "\r\n",
    "Suppose <em>x</em> and <em>y</em> are in <em>N<sub>G</sub></em>(<em>S</em>).  Then <em>x</em>&middot;<em>S</em>&middot;<em>x</em><sup>-1</sup> = <em>S</em>, and \r\n",
    "<em>y</em>&middot;<em>S</em>&middot;<em>y</em><sup>-1</sup> = <em>S</em>. Thus, <em>S</em> = <em>y</em><sup>-1</sup>&middot;<em>S</em>&middot;<em>y</em>, and so\r\n",
    "<p style='text-align: center;'>(<em>x</em>&middot;<em>y</em><sup>-1</sup>)&middot;<em>S</em>&middot;(<em>x</em>&middot;<em>y</em><sup>-1</sup>)<sup>-1</sup> = \r\n",
    "<em>x</em>&middot;(<em>y</em><sup>-1</sup>&middot;<em>S</em>&middot;<em>y</em>)&middot;<em>x</em><sup>-1</sup> = \r\n",
    "<em>x</em>&middot;<em>S</em>&middot;<em>x</em><sup>-1</sup> = <em>S</em>.</p>\r\n",
    "Hence, <em>x</em>&middot;<em>y</em><sup>-1</sup> is in <em>N<sub>G</sub></em>(<em>S</em>), and so by Proposition 2.2, <em>N<sub>G</sub></em>(<em>S</em>) is a subgroup \r\n",
    "of <em>G</em>.<br><br>\r\n",
    "\r\n",
    "<a href=\"#prop75ret\">Return to text</a>\r\n",
    "\r\n",
    "<br><br><br><br><br><br><br><br><br><br><br><br><br><br><br><br><br><br><br><br><br><br><br><br><br><br><br><br><br><br><br><br><br><br><br><br><br><br><br><br><br><br>\r\n",
    "\r\n",
    "<a name=\"prop76\" id=\"prop76\"></a>\r\n",
    "\r\n",
    "Proof of Proposition 7.6:<br><br>\r\n",
    "\r\n",
    "First, we must check to see that <em>H</em> is a normal subgroup of <em>N<sub>G</sub></em>(<em>H</em>). But this is obvious, since \r\n",
    "<em>g</em>&middot;<em>H</em>&middot;<em>g</em><sup>-1</sup> = <em>H</em> for all <em>g</em> in <em>N<sub>G</sub></em>(<em>H</em>).<br><br>\r\n",
    "\r\n",
    "Next, we must see that <em>N<sub>G</sub></em>(<em>H</em>) is the largest such group.  Suppose that <em>Y</em> is another subgroup of <em>G</em> that contained <em>H</em> as \r\n",
    "a normal subgroup.  Then\r\n",
    "<p style='text-align: center;'><em>y</em>&middot;<em>H</em>&middot;<em>y</em><sup>-1</sup> = <em>H</em>&emsp;for all <em>y</em> &isin; <em>Y</em>.</p>\r\n",
    "Thus, <em>Y</em> &sube; <em>N<sub>G</sub></em>(<em>H</em>).  Since any subgroup of <em>G</em> that contains <em>H</em> as a normal subgroup is itself contained in \r\n",
    "<em>N<sub>G</sub></em>(<em>H</em>), we have that <em>N<sub>G</sub></em>(<em>H</em>) is the largest such group.<br><br>\r\n",
    "\r\n",
    "<a href=\"#prop76ret\">Return to text</a>\r\n",
    "\r\n",
    "<br><br><br><br><br><br><br><br><br><br><br><br><br><br><br><br><br><br><br><br><br><br><br><br><br><br><br><br><br><br><br><br><br><br><br><br><br><br><br><br><br><br>\r\n",
    "\r\n",
    "<a name=\"prop77\" id=\"prop77\"></a>\r\n",
    "\r\n",
    "Proof of Proposition 7.7:<br><br>\r\n",
    "\r\n",
    "The group <em>G</em> itself is in the collection <em>L</em>, so this collection is not empty. Thus, by Proposition 2.3, <em>N</em><sup>*</sup> is a subgroup \r\n",
    "of <em>G</em>.  Also, since each <em>N</em> in the collection contained the set <em>S</em>, the intersection will also contain <em>S</em>.  All that needs to be shown \r\n",
    "is that <em>N</em><sup>*</sup> is normal.<br><br>\r\n",
    " \r\n",
    "If <em>n</em> is an element of <em>N</em><sup>*</sup>, and <em>g</em> is an element of <em>G</em>, then since each <em>N</em> is a normal subgroup of <em>G</em>, \r\n",
    "and <em>n</em> would be in all of the groups <em>N</em>,\r\n",
    "<p style='text-align: center;'><em>g</em>&middot;<em>n</em>&middot;<em>g</em><sup>-1</sup> &isin; <em>N</em>&emsp;for all <em>N</em> &isin; <em>L</em>.</p>\r\n",
    "Thus, <em>g</em>&middot;<em>n</em>&middot;<em>g</em><sup>-1</sup> is in the intersection of all of the <em>N</em>'s, which is <em>N</em><sup>*</sup>.  Hence, by \r\n",
    "Proposition 3.4, <em>N</em><sup>*</sup> is a normal subgroup of <em>G</em>.<br><br>\r\n",
    "\r\n",
    "<a href=\"#prop77ret\">Return to text</a>\r\n",
    "\r\n",
    "<br><br><br><br><br><br><br><br><br><br><br><br><br><br><br><br><br><br><br><br><br><br><br><br><br><br><br><br><br><br><br><br><br><br><br><br><br><br><br><br><br><br>\r\n",
    "\r\n",
    "<a name=\"lem71\" id=\"lem71\"></a>\r\n",
    "\r\n",
    "Proof of Lemma 7.1:<br><br>\r\n",
    "\r\n",
    "We begin by showing that the conjugate of a 3-cycle is again a 3-cycle.  Let (<em>a</em> <em>b</em> <em>c</em>) be a 3-cycle, and let <em>&#981;</em> be any permutation \r\n",
    "in <em>A<sub>n</sub></em>.  Suppose that <nobr><em>x</em> = <em>&#981;</em>(<em>a</em>),</nobr>&ensp;<nobr><em>y</em> = <em>&#981;</em>(<em>b</em>),</nobr> and \r\n",
    "<nobr><em>z</em> = <em>&#981;</em>(<em>c</em>).</nobr>  Then we can compute\r\n",
    "<p style='text-align: center;'><em>&#981;</em>&middot;(<em>a</em> <em>b</em> <em>c</em>)&middot;<em>&#981;</em><sup>-1</sup> = (<em>x</em> <em>y</em> <em>z</em>).</p>\r\n",
    "Thus the conjugate of a 3-cycle is another 3-cycle.<br><br>\r\n",
    "\r\n",
    "Next we will show that any 3-cycle is conjugate to the element (1 2 3) in <em>A<sub>n</sub></em>. Let (<em>u</em> <em>v</em> <em>w</em>) be a \r\n",
    "3-cycle.  Since <em>n</em> &gt; 4 there must be at least two numbers not mentioned in this 3-cycle, so we will call two of them <em>x</em> and <em>y</em>.  Consider \r\n",
    "the permutation\r\n",
    "<br><br>\r\n",
    "<table align=\"center\" width=\"250\" border=\"0\" cellspacing=\"0\" cellpadding=\"0\">\r\n",
    "  <tr>\r\n",
    "    <td rowspan = \"2\" align=\"right\"><em>&#981;</em> =</td>\r\n",
    "    <td align=\"right\" valign=\"bottom\">&#9115;</td>\r\n",
    "    <td align=\"center\">1</td>\r\n",
    "    <td align=\"center\">2</td>\r\n",
    "    <td align=\"center\">3</td>\r\n",
    "    <td align=\"center\">4</td>\r\n",
    "    <td align=\"center\">5</td>\r\n",
    "    <td align=\"center\">&#8943;</td>\r\n",
    "    <td align=\"left\" valign=\"bottom\">&#9118;</td>\r\n",
    "    <td rowspan = \"2\" align=\"left\">.</td>\r\n",
    "  </tr>\r\n",
    "  <tr>\r\n",
    "    <td align=\"right\" valign=\"top\">&#9117;</td>\r\n",
    "    <td align=\"center\"><em>u</em></td>\r\n",
    "    <td align=\"center\"><em>v</em></td>\r\n",
    "    <td align=\"center\"><em>w</em></td>\r\n",
    "    <td align=\"center\"><em>x</em></td>\r\n",
    "    <td align=\"center\"><em>y</em></td>\r\n",
    "    <td align=\"center\">&#8943;</td>\r\n",
    "    <td align=\"left\" valign=\"top\">&#9120;</td>\r\n",
    "  </tr>\r\n",
    "</table>\r\n",
    "\r\n",
    "<br>\r\n",
    "Here, the dots indicate that when <em>n</em> &gt; 5, we can complete the permutation in any way so that the numbers on the bottom row will be a permutation of the \r\n",
    "numbers 1 through <em>n</em>.<br><br>\r\n",
    "\r\n",
    "Now <em>&#981;</em> will either be an even permutation or an odd permutation.  If <em>&#981;</em> is an odd permutation, we can consider instead the permutation\r\n",
    "<br><br>\r\n",
    "<table align=\"center\" width=\"250\" border=\"0\" cellspacing=\"0\" cellpadding=\"0\">\r\n",
    "  <tr>\r\n",
    "    <td rowspan = \"2\" align=\"right\"><em>&#981;</em> =</td>\r\n",
    "    <td align=\"right\" valign=\"bottom\">&#9115;</td>\r\n",
    "    <td align=\"center\">1</td>\r\n",
    "    <td align=\"center\">2</td>\r\n",
    "    <td align=\"center\">3</td>\r\n",
    "    <td align=\"center\">4</td>\r\n",
    "    <td align=\"center\">5</td>\r\n",
    "    <td align=\"center\">&#8943;</td>\r\n",
    "    <td align=\"left\" valign=\"bottom\">&#9118;</td>\r\n",
    "    <td rowspan = \"2\" align=\"left\">.</td>\r\n",
    "  </tr>\r\n",
    "  <tr>\r\n",
    "    <td align=\"right\" valign=\"top\">&#9117;</td>\r\n",
    "    <td align=\"center\"><em>u</em></td>\r\n",
    "    <td align=\"center\"><em>v</em></td>\r\n",
    "    <td align=\"center\"><em>w</em></td>\r\n",
    "    <td align=\"center\"><em>y</em></td>\r\n",
    "    <td align=\"center\"><em>x</em></td>\r\n",
    "    <td align=\"center\">&#8943;</td>\r\n",
    "    <td align=\"left\" valign=\"top\">&#9120;</td>\r\n",
    "  </tr>\r\n",
    "</table>\r\n",
    "<br>\r\n",
    "So we may assume that <em>&#981;</em> is an even permutation.  Thus <em>&#981;</em> is in <em>A<sub>n</sub></em>, and we can compute\r\n",
    "<p style='text-align: center;'><em>&#981;</em>&middot;(1 2 3)&middot;<em>&#981;</em><sup>-1</sup> = (<em>u v w</em>).</p>\r\n",
    "Therefore, any 3-cycle is conjugate to (1 2 3), and so any two 3-cycles are conjugate to each other in <em>A<sub>n</sub></em> whenever <em>n</em> &gt; 4.<br><br>\r\n",
    "\r\n",
    "<a href=\"#lem71ret\">Return to text</a>\r\n",
    "\r\n",
    "<br><br><br><br><br><br><br><br><br><br><br><br><br><br><br><br><br><br><br><br><br><br><br><br><br><br><br><br><br><br><br><br><br><br><br><br><br><br><br><br><br><br>\r\n",
    "\r\n",
    "<a name=\"theor71\" id=\"theor71\"></a>\r\n",
    "\r\n",
    "Proof of Theorem 7.1:<br><br>\r\n",
    "\r\n",
    "Suppose that <em>N</em> is a proper normal subgroup of <em>A<sub>n</sub></em>, and let <em>&#981;</em> be an element of <em>N</em> besides the identity.  By \r\n",
    "Proposition 7.2, <em>A<sub>n</sub></em> is centerless.  Since Proposition 5.1 tells us that <em>A<sub>n</sub></em> is generated by 3-cycles, there must be at least \r\n",
    "one 3-cycle that does not commute with <em>&#981;</em>, say (<em>a b c</em>).  Thus, <em>&#981;</em>&middot;(<em>a</em> <em>b</em> <em>c</em>) is not \r\n",
    "equal to (<em>a b c</em>)&middot;<em>&#981;</em>, or \r\n",
    "equivalently, <nobr>(<em>a b c</em>)&middot;<em>&#981;</em>&middot;(<em>a c b</em>)&middot;<em>&#981;</em><sup>-1</sup></nobr> is \r\n",
    "not the identity element.<br><br>\r\n",
    "\r\n",
    "Since <em>N</em> is a normal subgroup, (<em>a b c</em>)&middot;<em>&#981;</em>&middot;(<em>a c b</em>) must be \r\n",
    "in <em>N</em>.  Thus, (<em>a b c</em>)&middot;<em>&#981;</em>&middot;(<em>a c b</em>)&middot;<em>&#981;</em><sup>-1</sup> must also be \r\n",
    "in <em>N</em>.  But <em>&#981;</em>&middot;(<em>a c b</em>)&middot;<em>&#981;</em><sup>-1</sup> is the conjugate of a 3-cycle, so by Lemma 7.1 this is also a 3-cycle, \r\n",
    "say (<em>x y z</em>).  Thus, <em>N</em> contains a product of two 3-cycles, (<em>a b c</em>)&middot;(<em>x y z</em>), which is not the identity.  In essence \r\n",
    "we can say that there is a non-identity element of <em>N</em> that moves at most six numbers,\r\n",
    "labeled <em>a</em>, <em>b</em>, <em>c</em>, <em>x</em>, <em>y</em>, and <em>z</em>.  If there are duplicates in this list, we can add arbitrary numbers \r\n",
    "so that we have six different numbers.<br><br>\r\n",
    "\r\n",
    "Here's where we can take advantage of the fact that <em>A</em><sub>6</sub> is known to be simple.  Consider the subgroup <em>H</em> of <em>A<sub>n</sub></em> consisting \r\n",
    "of all even permutations of the six numbers <em>a</em>, <em>b</em>, <em>c</em>, <em>x</em>, <em>y</em>, and <em>z</em>.  \r\n",
    "We have just showed that there is a nontrivial intersection \r\n",
    "of <em>N</em> and <em>H</em>.  Let this intersection be <em>M</em>.  Whenever <em>x</em> is in <em>M</em> and <em>h</em> is in <em>H</em>, \r\n",
    "then <em>h</em>&middot;<em>x</em>&middot;<em>h</em><sup>-1</sup> is in both <em>H</em> and <em>N</em>.  Thus <em>h</em>&middot;<em>x</em>&middot;<em>h</em><sup>-1</sup> is \r\n",
    "in <em>M</em>.  Hence <em>M</em> is a nontrivial normal subgroup of <em>H</em>.<br><br>\r\n",
    "\r\n",
    "But <em>H</em> is isomorphic to <em>A</em><sub>6</sub> which we have proven to be a simple group.  Thus <em>M</em> must be all of \r\n",
    "<em>H</em>.  In particular <em>M</em> contains a 3-cycle, and so <em>N</em> contains a 3-cycle.  By Lemma 7.1 all 3-cycles of <em>A<sub>n</sub></em> are conjugate, so \r\n",
    "<em>N</em> contains all 3-cycles of <em>A<sub>n</sub></em>.  Finally, by Proposition 5.1 the 3-cycles generate <em>A<sub>n</sub></em>, so <em>N</em> must be all \r\n",
    "of <em>A<sub>n</sub></em>.  Therefore, <em>A<sub>n</sub></em> is simple whenever <em>n</em> &gt; 4.<br><br>\r\n",
    "\r\n",
    "<a href=\"#theor71ret\">Return to text</a>\r\n",
    "\r\n",
    "<br><br><br><br><br><br><br><br><br><br><br><br><br><br><br><br><br><br><br><br><br><br><br><br><br><br><br><br><br><br><br><br><br><br><br><br><br><br><br><br><br><br>\r\n",
    "\r\n",
    "<a name=\"cor71\" id=\"cor71\"></a>\r\n",
    "\r\n",
    "Proof of Corollary 7.1:<br><br>\r\n",
    "\r\n",
    "Suppose that there were another normal subgroup, <em>N</em>.  Then the intersection of <em>N</em> with <em>A<sub>n</sub></em> would be another normal subgroup of \r\n",
    "<em>S<sub>n</sub></em>, and so would be a normal subgroup of <em>A<sub>n</sub></em>.  Since <em>A<sub>n</sub></em> is simple for <em>n</em> &gt; 4, this intersection \r\n",
    "must either be the identity or all of <em>A<sub>n</sub></em>.<br><br>\r\n",
    "\r\n",
    "Suppose that the intersection is all of <em>A<sub>n</sub></em>.  Then <em>N</em> contains <em>A<sub>n</sub></em>, and \r\n",
    "if <em>N</em> is not equal to <em>A<sub>n</sub></em>, <em>N</em> would contain more than half of the elements of <em>S<sub>n</sub></em>.  But this would contradict \r\n",
    "Lagrange's theorem (3.1) unless <em>N</em> = <em>S<sub>n</sub></em>.<br><br>\r\n",
    "\r\n",
    "Suppose that the intersection of <em>N</em> and <em>A<sub>n</sub></em> is just the identity element.  Then since both <em>N</em> and <em>A<sub>n</sub></em> are \r\n",
    "normal subgroups, we have by Corollary 6.1,\r\n",
    "<p style='text-align: center;'><em>N</em>&middot;<em>A<sub>n</sub></em> &asymp; <em>N</em> &times; <em>A<sub>n</sub></em>.</p>\r\n",
    "If <em>N</em> is not just the identity element, this quickly leads to a contradiction, for <em>N</em> could have order of at most 2, telling us \r\n",
    "that <em>S<sub>n</sub></em> was isomorphic to <em>Z</em><sub>2</sub> &times; <em>A<sub>n</sub></em>.  But this is ridiculous, for we saw in Proposition 7.2 \r\n",
    "that <em>S<sub>n</sub></em> was centerless, whereas <em>Z</em><sub>2</sub> &times; <em>A<sub>n</sub></em> has both (0, ( )) and (1, ( )) in its center.  Therefore, \r\n",
    "the only normal subgroups of <em>S<sub>n</sub></em> for <em>n</em> &gt; 4 are <em>S<sub>n</sub></em> itself, <em>A<sub>n</sub></em>, and the identity element.<br><br>\r\n",
    "\r\n",
    "<a href=\"#cor71ret\">Return to text</a>\r\n",
    "\r\n",
    "<br><br><br><br><br><br><br><br><br><br><br><br><br><br><br><br><br><br><br><br><br><br><br><br><br><br><br><br><br><br><br><br><br><br><br><br><br><br><br><br><br><br>\r\n",
    "\r\n",
    "<a name=\"lem72\" id=\"lem72\"></a>\r\n",
    "\r\n",
    "Proof of Lemma 7.2:<br><br>\r\n",
    "\r\n",
    "We saw in Proposition 7.5 that <em>N<sub>G</sub></em>({<em>g</em>}) is a subgroup of <em>G</em>.  We want to determine all possible conjugates of the \r\n",
    "element <em>g</em>.  Note that if <em>u</em> and <em>v</em> are two elements of <em>G</em>, then <em>u</em>&middot;<em>g</em>&middot;<em>u</em><sup>-1</sup> \r\n",
    "and <em>v</em>&middot;<em>g</em>&middot;<em>v</em><sup>-1</sup> will represent the same element if, and only if,\r\n",
    "<p style='text-align: center;'><em>u</em>&middot;<em>g</em>&middot;<em>u</em><sup>-1</sup> = \r\n",
    "<em>v</em>&middot;<em>g</em>&middot;<em>v</em><sup>-1</sup>&emsp;&#10234;&emsp;<em>v</em><sup>-1</sup>&middot;<em>u</em>&middot;<em>g</em>&middot;<em>u</em><sup>-1</sup>&middot;<em>v</em> \r\n",
    "= <em>g</em>&emsp;&#10234;&emsp;(<em>v</em><sup>-1</sup>&middot;<em>u</em>)&middot;<em>g</em>&middot;(<em>v</em><sup>-1</sup>&middot;<em>u</em>)<sup>-1</sup> = \r\n",
    "<em>g</em>&emsp;&#10234;&emsp;<em>v</em><sup>-1</sup>&middot;<em>u</em> &isin; \r\n",
    "<em>N<sub>G</sub></em>({<em>g</em>})&emsp;&#10234;&emsp;<em>u</em> &isin; \r\n",
    "<em>v</em>&middot;<em>N<sub>G</sub></em>({<em>g</em>})&emsp;&#10234;&emsp;<em>u</em>&middot;<em>N<sub>G</sub></em>({<em>g</em>}) = \r\n",
    "<em>v</em>&middot;<em>N<sub>G</sub></em>({<em>g</em>}).</p>\r\n",
    "Thus <em>u</em>&middot;<em>g</em>&middot;<em>u</em><sup>-1</sup> and <em>v</em>&middot;<em>g</em>&middot;<em>v</em><sup>-1</sup> represent the same element if, and only \r\n",
    "if, <em>u</em> and <em>v</em> belong to the same left coset of <em>N<sub>G</sub></em>({<em>g</em>}).  Therefore, to count all of the possible conjugates \r\n",
    "of <em>g</em>, we merely count the number of left cosets of <em>N<sub>G</sub></em>({<em>g</em>}), which is\r\n",
    "<table align=\"center\" border=\"0\" cellspacing=\"0\" cellpadding=\"0\">\r\n",
    "  <tr>\r\n",
    "    <td align=\"center\" valign=\"bottom\"><font style=\"text-decoration:underline\">&ensp;&emsp;| <em>G</em> |&emsp;&ensp;</font></td>\r\n",
    "    <td rowspan = \"2\" align=\"left\">.</td>\r\n",
    "  </tr>\r\n",
    "  <tr>\r\n",
    "    <td align=\"center\" valign=\"top\">| <em>N<sub>G</sub></em>({<em>g</em>}) |</td>\r\n",
    "  </tr>\r\n",
    "</table>\r\n",
    "\r\n",
    "<a href=\"#lem72ret\">Return to text</a>\r\n",
    "\r\n",
    "<br><br><br><br><br><br><br><br><br><br><br><br><br><br><br><br><br><br><br><br><br><br><br><br><br><br><br><br><br><br><br><br><br><br><br><br><br><br><br><br><br><br>\r\n",
    "\r\n",
    "<a name=\"theor72\" id=\"theor72\"></a>\r\n",
    "\r\n",
    "Proof of Theorem 7.2:<br><br>\r\n",
    "\r\n",
    "We simply observe that every element of <em>G</em> appears in exactly one of the conjugacy classes.  Thus, |<em>G</em>| is the sum of the sizes of all of \r\n",
    "the conjugacy classes.  We have by Lemma 7.2 that the size of each conjugacy class is<br><br> \r\n",
    "<table align=\"center\" border=\"0\" cellspacing=\"0\" cellpadding=\"0\">\r\n",
    "  <tr>\r\n",
    "    <td align=\"center\" valign=\"bottom\"><font style=\"text-decoration:underline\">&ensp;&emsp;| <em>G</em> |&emsp;&ensp;</font></td>\r\n",
    "    <td rowspan = \"2\" align=\"left\">,</td>\r\n",
    "  </tr>\r\n",
    "  <tr>\r\n",
    "    <td align=\"center\" valign=\"top\">| <em>N<sub>G</sub></em>({<em>g</em>}) |</td>\r\n",
    "  </tr>\r\n",
    "</table>\r\n",
    "<br>\r\n",
    "where <em>g</em> is a representative element of the conjugacy class. Thus we get the class equation.<br><br>\r\n",
    "\r\n",
    "<a href=\"#theor72ret\">Return to text</a>\r\n",
    "\r\n",
    "<br><br><br><br><br><br><br><br><br><br><br><br><br><br><br><br><br><br><br><br><br><br><br><br><br><br><br><br><br><br><br><br><br><br><br><br><br><br><br><br><br><br>\r\n",
    "\r\n",
    "<a name=\"cor72\" id=\"cor72\"></a>\r\n",
    "\r\n",
    "Proof of Corollary 7.2:<br><br>\r\n",
    "\r\n",
    "First we observe that an element <em>g</em> is in the center of <em>G</em> if, and only if, <em>y</em>&middot;<em>g</em>&middot;<em>y</em><sup>-1</sup> = <em>g</em> for \r\n",
    "all <em>y</em> in <em>G</em>, which would happen if, and only if, the conjugacy class of <em>g</em> consists of just <em>g</em> by itself.<br><br>\r\n",
    "\r\n",
    "Now suppose <em>G</em> is centerless.  Then the only conjugacy class that contains just one element would be the class {<em>e</em>}.  All other conjugacy classes \r\n",
    "would have a size that is a divisor of <em>p<sup>n</sup></em>, so the number of elements in the other conjugacy classes would be a power of <em>p</em>.  But this \r\n",
    "is impossible since \r\n",
    "the sum on the right hand side of the class equation (7.2) would be congruent to 1 (mod <em>p</em>), while the left hand side of the class equation would \r\n",
    "be <em>p<sup>n</sup></em> which is congruent to 0 (mod <em>p</em>). Therefore, <em>G</em> is not centerless.<br><br>\r\n",
    "\r\n",
    "<a href=\"#cor72ret\">Return to text</a>\r\n",
    "\r\n",
    "<br><br><br><br><br><br><br><br><br><br><br><br><br><br><br><br><br><br><br><br><br><br><br><br><br><br><br><br><br><br><br><br><br><br><br><br><br><br><br><br><br><br>\r\n",
    "\r\n",
    "<a name=\"cor73\" id=\"cor73\"></a>\r\n",
    "\r\n",
    "Proof of Corollary 7.3:<br><br>\r\n",
    "\r\n",
    "If <em>G</em> is a group of order <em>p</em><sup>2</sup>, then by Corollary 7.2, <em>G</em> has a nontrivial center.  Since the number of elements \r\n",
    "of <em>Z</em>(<em>G</em>) must divide <em>p</em><sup>2</sup>, so |<em>Z</em>(<em>G</em>)| is either equal to <em>p</em> or <em>p</em><sup>2</sup>.<br><br>\r\n",
    "\r\n",
    "Suppose that |<em>Z</em>(<em>G</em>)| = <em>p</em>.  Then there exists an element <em>g</em> not in <em>Z</em>(<em>G</em>).  Then <em>N<sub>G</sub></em>({<em>g</em>}) \r\n",
    "denotes the set of elements that commute with <em>g</em>.  Certainly <em>Z</em>(<em>G</em>) &sube; <em>N<sub>G</sub></em>({<em>g</em>}), and \r\n",
    "also <em>g</em> &isin; <em>N<sub>G</sub></em>({<em>g</em>}), so <em>N<sub>G</sub></em>({<em>g</em>}) contains at least <em>p</em> + 1 elements.  But this is a subgroup \r\n",
    "of <em>G</em>, so the number of elements must divide <em>p</em><sup>2</sup>.  Hence, <em>N<sub>G</sub></em>({<em>g</em>}) contains all of <em>G</em>, but this would say \r\n",
    "that <em>g</em> is in the center <em>Z</em>(<em>G</em>), which contradicts our assumption.  Thus, there are <em>p</em><sup>2</sup> elements in <em>Z</em>(<em>G</em>), \r\n",
    "and hence <em>G</em> is an abelian group.<br><br>\r\n",
    "\r\n",
    "Finally, we can use the fundamental theorem of finite abelian groups (6.2) to say that <em>G</em> must be isomorphic to the direct product of cyclic groups.  It is easy \r\n",
    "to see that there are exactly two possibilities for such a product to have <em>p</em><sup>2</sup> elements, namely <em>Z<sub>p</sub></em>&#8322; and \r\n",
    "<nobr><em>Z<sub>p</sub></em> &times; <em>Z<sub>p</sub></em></nobr>.<br><br>\r\n",
    "\r\n",
    "<a href=\"#cor73ret\">Return to text</a>\r\n",
    "\r\n",
    "<br><br><br><br><br><br><br><br><br><br><br><br><br><br><br><br><br><br><br><br><br><br><br><br><br><br><br><br><br><br><br><br><br><br><br><br><br><br><br><br><br><br>\r\n",
    "\r\n",
    "<a name=\"prop78\" id=\"prop78\"></a>\r\n",
    "\r\n",
    "Proof of Proposition 7.8:<br><br>\r\n",
    "\r\n",
    "We will proceed by using induction on <em>n</em>.  Note that if <em>n</em> = 1, then there is obviously a normal subgroup of order <em>p</em><sup>1&minus;1</sup> = \r\n",
    "<em>p</em><sup>0</sup> = 1, namely the trivial subgroup {<em>e</em>}.<br><br>\r\n",
    "\r\n",
    "Suppose that we know that every group of order <em>p</em><sup><em>n</em>&minus;1</sup> has a normal subgroup of order <em>p</em><sup><em>n</em>&minus;2</sup>.  Let \r\n",
    "<em>G</em> be a group of order <em>p<sup>n</sup></em>.  Then by Corollary 7.2, the center of <em>G</em> is not just the identity element.  Since <em>p</em> would then \r\n",
    "divide the order of <em>Z</em>(<em>G</em>), by Lemma 6.2 there is an element of <em>Z</em>(<em>G</em>) of order <em>p</em>, say <em>x</em>.  Then the group generated \r\n",
    "by <em>x</em> would be of order <em>p</em>, and since <em>x</em> is in the center, all elements of <em>G</em> would commute with <em>x</em>.  Thus, \r\n",
    "<em>X</em> = [<em>x</em>] would be a normal subgroup of <em>G</em>.<br><br>\r\n",
    "\r\n",
    "We then can consider the quotient group <em>G</em>/<em>X</em>.  This would have order <em>p</em><sup><em>n</em>&minus;1</sup>, and we would have the canonical \r\n",
    "homomorphism\r\n",
    "<p style='text-align: center;'><em>&#981;</em> : <em>G</em> &rarr; <em>G</em>/<em>X</em></p>\r\n",
    "whose kernel is the subgroup <em>X</em>.  By the induction hypothesis, <em>G</em>/<em>X</em> is a group of order <em>p</em><sup><em>n</em>&minus;1</sup>, and so has a \r\n",
    "normal subgroup of order <em>p</em><sup><em>n</em>&minus;2</sup>, say <em>Y</em>.<br><br>\r\n",
    "\r\n",
    "We will now &quot;lift&quot; the subgroup <em>Y</em> back to the original group.  Since <em>&#981;</em><sup>-1</sup>(<em>Y</em>) is the inverse image of a normal \r\n",
    "subgroup, by Corollary 4.2, this is a normal subgroup of <em>G</em>.  Note <em>Y</em> is a set of cosets, and \r\n",
    "that\r\n",
    "<p style='text-align: center;'><em>g</em> &isin; <em>&#981;</em><sup>-1</sup>(<em>Y</em>)</p> \r\n",
    "if, and only if, <em>g</em> is contained in one of the cosets of <em>Y</em>.  Since each of the cosets \r\n",
    "of <em>Y</em> contains <em>p</em> elements, it is clear that the size of <em>&#981;</em><sup>-1</sup>(<em>Y</em>) is \r\n",
    "<em>p</em>&middot;<em>p</em><sup><em>n</em>&minus;2</sup>  = <em>p</em><sup><em>n</em>&minus;1</sup>.  Therefore, we have proved by induction that there is a normal \r\n",
    "subgroup of <em>G</em> of order <em>p</em><sup><em>n</em>&minus;1</sup>.<br><br>\r\n",
    "\r\n",
    "<a href=\"#prop78ret\">Return to text</a>\r\n",
    "\r\n",
    "<br><br><br><br><br><br><br><br><br><br><br><br><br><br><br><br><br><br><br><br><br><br><br><br><br><br><br><br><br><br><br><br><br><br><br><br><br><br><br><br><br><br>\r\n",
    "\r\n",
    "<a name=\"theor73\" id=\"theor73\"></a>\r\n",
    "\r\n",
    "Proof of Theorem 7.3:<br><br>\r\n",
    "\r\n",
    "We will proceed by using induction on the size of the group <em>G</em>.  That is, we will assume that the theorem is true for all groups smaller \r\n",
    "than <em>G</em>.<br><br>\r\n",
    "\r\n",
    "If <em>p<sup>n</sup></em> divided |<em>H</em>| for some proper subgroup <em>H</em> of <em>G</em>, then by our induction hypothesis, <em>H</em> would have a subgroup of \r\n",
    "order <em>p<sup>n</sup></em>, which would be a subgroup of <em>G</em> for which we are searching.  So we may assume that <em>p<sup>n</sup></em> does not divide the order \r\n",
    "of any proper subgroup of <em>G</em>.<br><br>\r\n",
    "\r\n",
    "In particular, if <em>g</em> is not in the center of <em>G</em>, then <em>N<sub>G</sub></em>({<em>g</em>}) will not be all of <em>G</em>.  Hence, \r\n",
    "<em>p<sup>n</sup></em> does not divide |<em>N<sub>G</sub></em>({<em>g</em>})|.  But since <em>p<sup>n</sup></em> does divide |<em>G</em>|, we have from Lemma 7.2 that \r\n",
    "the number of conjugates of <em>g</em> is |<em>G</em>|/ |<em>N<sub>G</sub></em>({<em>g</em>})|, which must be a multiple of <em>p</em>.<br><br>\r\n",
    "\r\n",
    "Now we can use the argument that we used in Corollary 7.2.  The class equation theorem (7.2) states that<br><br>\r\n",
    "<table align=\"center\" border=\"0\" cellspacing=\"0\" cellpadding=\"0\">\r\n",
    "  <tr>\r\n",
    "    <td rowspan = \"2\" align=\"right\">|<em>G</em>| = </td>\r\n",
    "    <td rowspan = \"2\" align=\"center\" valign=\"bottom\">&thinsp;<font face=\"Times New Roman, Times, serif\" size=\"+4\">&sum;</font>&thinsp;</td>\r\n",
    "    <td height=\"33\" valign=\"bottom\"><font style=\"text-decoration:underline\">&ensp;&emsp;| <em>G</em> |&emsp;&ensp;</font></td>\r\n",
    "    <td rowspan = \"2\" align=\"right\">,</td>\r\n",
    "  </tr>\r\n",
    "  <tr>\r\n",
    "     <td valign=\"top\">| <em>N<sub>G</sub></em>({<em>g</em>}) |</td>\r\n",
    "  </tr>\r\n",
    "  <tr>\r\n",
    "    <td></td>\r\n",
    "    <td align=\"center\" valign=\"top\"><em>g</em></td>\r\n",
    "    <td></td>\r\n",
    "    <td></td>\r\n",
    "  </tr>\r\n",
    "</table>\r\n",
    "<br>\r\n",
    "where the sum runs over one <em>g</em> from each conjugacy class.  For those <em>g</em> in the center of <em>G</em>, |<em>G</em>|/ |<em>N<sub>G</sub></em>({<em>g</em>})| \r\n",
    "will be 1, while for all other terms, |<em>G</em>|/ |<em>N<sub>G</sub></em>({<em>g</em>})| will be a multiple of <em>p</em>.  Since the sum \r\n",
    "is <em>p<sup>n</sup></em>&middot;<em>m</em> which is a multiple of <em>p</em>, the number of elements in <em>Z</em>(<em>G</em>) must be a multiple \r\n",
    "of <em>p</em>.<br><br>\r\n",
    "\r\n",
    "Since <em>Z</em>(<em>G</em>) is an abelian group and <em>p</em> divides |<em>Z</em>(<em>G</em>)|, we have by Lemma 6.2 that there is an element of <em>Z</em>(<em>G</em>) \r\n",
    "of order <em>p</em>, say <em>x</em>.  We now can proceed in the same way as we did in Proposition 7.8.  Since <em>x</em> is in the center, all elements of <em>G</em> \r\n",
    "would commute with <em>x</em>, and so <em>X</em> = [<em>x</em>] would be a normal subgroup of order <em>p</em>.<br><br>\r\n",
    "\r\n",
    "The quotient group <em>G</em>/<em>X</em> would then have order <em>p</em><sup><em>n</em>&minus;1</sup>&middot;<em>m</em>, and we would have the canonical \r\n",
    "homomorphism\r\n",
    "<p style='text-align: center;'><em>&#981;</em> : <em>G</em> &rarr; <em>G</em>/<em>X</em></p>\r\n",
    "whose kernel is the subgroup <em>X</em>.  By the induction hypothesis, <em>G</em>/<em>X</em> is smaller than <em>G</em>, and so has a subgroup of \r\n",
    "order <em>p</em><sup><em>n</em>&minus;1</sup>, say <em>Y</em>.  We can then lift <em>Y</em> back to the original group.  Since <em>&#981;</em><sup>-1</sup>(<em>Y</em>) is \r\n",
    "the inverse image of a subgroup, by Corollary 4.2, this is a subgroup of <em>G</em>.  But the kernel of the homomorphism is of order <em>p</em>, so the size \r\n",
    "of <em>&#981;</em><sup>-1</sup>(<em>Y</em>) is <em>p</em>&middot;<em>p</em><sup><em>n</em>&minus;1</sup> = <em>p<sup>n</sup></em>.  Therefore, we have proved by \r\n",
    "induction that there is a subgroup of <em>G</em> of order <em>p<sup>n</sup></em>.<br><br>\r\n",
    "\r\n",
    "<a href=\"#theor73ret\">Return to text</a>\r\n",
    "\r\n",
    "<br><br><br><br><br><br><br><br><br><br><br><br><br><br><br><br><br><br><br><br><br><br><br><br><br><br><br><br><br><br><br><br><br><br><br><br><br><br><br><br><br><br>\r\n",
    "\r\n",
    "<a name=\"theor74\" id=\"theor74\"></a>\r\n",
    "\r\n",
    "Proof of Theorem 7.4:<br><br>\r\n",
    "\r\n",
    "Let <em>G</em> be a group of order <em>p<sup>n</sup></em>&middot;<em>m</em>, where <em>m</em> is coprime to the prime <em>p</em>.  We begin by showing that \r\n",
    "whenever <em>K</em> is a <em>p</em>-Sylow subgroup of <em>G</em> then <em>u</em>&middot;<em>K</em>&middot;<em>u</em><sup>-1</sup> will also be \r\n",
    "a <em>p</em>-Sylow subgroup for all <em>u</em> in <em>G</em>.  Note that the number of elements in <em>u</em>&middot;<em>K</em>&middot;<em>u</em><sup>-1</sup> is \r\n",
    "also <em>p<sup>n</sup></em>, and if <em>u</em>&middot;<em>k</em><sub>1</sub>&middot;<em>u</em><sup>-1</sup> and \r\n",
    "<em>u</em>&middot;<em>k</em><sub>2</sub>&middot;<em>u</em><sup>-1</sup> are two elements of <em>u</em>&middot;<em>K</em>&middot;<em>u</em><sup>-1</sup>, then\r\n",
    "<p style='text-align: center;'>\r\n",
    "(<em>u</em>&middot;<em>k</em><sub>1</sub>&middot;<em>u</em><sup>-1</sup>)&middot;(<em>u</em>&middot;<em>k</em><sub>2</sub>&middot;<em>u</em><sup>-1</sup>)<sup>-1</sup> = \r\n",
    "<em>u</em>&middot;<em>k</em><sub>1</sub>&middot;<em>u</em><sup>-1</sup>&middot;(<em>u</em>&middot;<em>k</em><sub>2</sub><sup>-1</sup>&middot;<em>u</em><sup>-1</sup>) = \r\n",
    "<em>u</em>&middot;(<em>k</em><sub>1</sub>&middot;<em>k</em><sub>2</sub><sup>-1</sup>)&middot;<em>u</em><sup>-1</sup>.</p>\r\n",
    "which is in <em>u</em>&middot;<em>K</em>&middot;<em>u</em><sup>-1</sup>.  So by Proposition 2.2, <em>u</em>&middot;<em>K</em>&middot;<em>u</em><sup>-1</sup> is \r\n",
    "a <em>p</em>-Sylow subgroup of <em>G</em>.<br><br>\r\n",
    "\r\n",
    "If there is only one <em>p</em>-Sylow subgroup of <em>G</em> there is nothing to prove.  Suppose <em>H</em> and <em>K</em> are two subgroups of \r\n",
    "order <em>p<sup>n</sup></em>.  Let us call two elements <em>u</em> and <em>v</em> of <em>G</em> to be &quot;related&quot; if \r\n",
    "<em>u</em> = <em>h</em>&middot;<em>v</em>&middot;<em>k</em> for some <em>h</em> in <em>H</em> and <em>k</em> in <em>K</em>.  Note that every element is related to itself, \r\n",
    "for <em>u</em> = <em>e</em>&middot;<em>u</em>&middot;<em>e</em>, and <em>e</em> is in both <em>H</em> and <em>K</em>.  Also, if <em>u</em> is related to <em>v</em>, \r\n",
    "then <em>v</em> is related to <em>u</em>, for\r\n",
    "<p style='text-align: center;'><em>u</em> = <em>h</em>&middot;<em>v</em>&middot;<em>k</em>&emsp;&#10234;&emsp;<em>v</em> = \r\n",
    "<em>h</em><sup>-1</sup>&middot;<em>u</em>&middot;<em>k</em><sup>-1</sup>.</p>\r\n",
    "Finally, if <em>u</em> is related to <em>v</em>, and <em>v</em> is related to <em>w</em>, then <em>u</em> = \r\n",
    "<em>h</em><sub>1</sub>&middot;<em>v</em>&middot;<em>k</em><sub>1</sub> and <em>v</em> = \r\n",
    "<em>h</em><sub>2</sub>&middot;<em>w</em>&middot;<em>k</em><sub>2</sub>, and so\r\n",
    "<p style='text-align: center;'>\r\n",
    "<em>u</em> = <em>h</em><sub>1</sub>&middot;(<em>h</em><sub>2</sub>&middot;<em>w</em>&middot;<em>k</em><sub>2</sub>)&middot;<em>k</em><sub>1</sub> = \r\n",
    "(<em>h</em><sub>1</sub>&middot;<em>h</em><sub>2</sub>)&middot;<em>w</em>&middot;(<em>k</em><sub>2</sub>&middot;<em>k</em><sub>1</sub>),</p>\r\n",
    "so <em>u</em> and <em>w</em> are related.  Therefore, we can partition the group <em>G</em> into &quot;families,&quot; where each family consists of all elements \r\n",
    "related to one element.<br><br>\r\n",
    "\r\n",
    "Now suppose that there are <em>j</em> families, and we select one element <em>u<sub>i</sub></em> from each family.  Each of the families can be described \r\n",
    "as <em>H</em>&middot;<em>u<sub>i</sub></em>&middot;<em>K</em>.  Hence, we can write\r\n",
    "<p style='text-align: center;'><em>G</em> = (<em>H</em>&middot;<em>u</em><sub>1</sub>&middot;<em>K</em>) &cup; \r\n",
    "(<em>H</em>&middot;<em>u</em><sub>2</sub>&middot;<em>K</em>) &cup; &#8943; &cup; (<em>H</em>&middot;<em>u<sub>j</sub></em>&middot;<em>K</em>).</p>\r\n",
    "Since each of the families have no elements in common, we have\r\n",
    "<p style='text-align: center;'>|<em>G</em>| = |<em>H</em>&middot;<em>u</em><sub>1</sub>&middot;<em>K</em>| + \r\n",
    "|<em>H</em>&middot;<em>u</em><sub>2</sub>&middot;<em>K</em>| + &#8943; + |<em>H</em>&middot;<em>u<sub>j</sub></em>&middot;<em>K</em>|.</p>\r\n",
    "How many elements are in each family?  We note that <em>H</em>&middot;<em>u<sub>i</sub></em>&middot;<em>K</em> has the same number of elements \r\n",
    "as <em>H</em>&middot;<em>u<sub>i</sub></em>&middot;<em>K</em>&middot;<em>u<sub>i</sub></em><sup>-1</sup>.  We saw \r\n",
    "that <em>u<sub>i</sub></em>&middot;<em>K</em>&middot;<em>u<sub>i</sub></em><sup>-1</sup> is a group, and so even though the product of two groups was not always a \r\n",
    "group, Proposition 4.9 gave us the number of elements in the set to be \r\n",
    "<br><br>\r\n",
    "<table align=\"center\" border=\"0\" cellspacing=\"0\" cellpadding=\"0\">\r\n",
    "  <tr>\r\n",
    "    <td rowspan = \"3\" align = \"right\">| <em>H</em>&middot;<em>u<sub>i</sub></em>&middot;<em>K</em> | = \r\n",
    "    | <em>H</em>&middot;<em>u<sub>i</sub></em>&middot;<em>K</em>&middot;<em>u<sub>i</sub></em><sup>-1</sup> | =&ensp;</td>\r\n",
    "    <td align=\"center\" valign=\"bottom\">| <em>H</em> |&middot;| <em>u<sub>i</sub></em>&middot;<em>K</em>&middot;<em>u<sub>i</sub></em><sup>-1</sup> |</td>\r\n",
    "    <td rowspan = \"3\" align = \"right\">&ensp;=&ensp;</td>\r\n",
    "    <td align=\"center\" valign=\"bottom\"><em>p&#8319;</em>&middot;<em>p&#8319;</em></td>\r\n",
    "    <td rowspan = \"3\" align = \"right\">.</td>\r\n",
    "  </tr>\r\n",
    "  <tr>\r\n",
    "    <td align=\"center\"><hr noshade size=1></td>\r\n",
    "    <td align=\"center\"><hr noshade size=1></td>\r\n",
    "  </tr>\r\n",
    "  <tr>\r\n",
    "    <td align=\"center\" valign=\"top\">| <em>H</em> &cap; (<em>u<sub>i</sub></em>&middot;<em>K</em>&middot;<em>u<sub>i</sub></em><sup>-1</sup>)|</td>\r\n",
    "    <td align=\"center\" valign=\"top\">| <em>H</em> &cap; (<em>u<sub>i</sub></em>&middot;<em>K</em>&middot;<em>u<sub>i</sub></em><sup>-1</sup>)|</td>\r\n",
    "  </tr>\r\n",
    "</table>\r\n",
    "<br>\r\n",
    "\r\n",
    "If we plug this formula into the equation above it, we have that\r\n",
    "<br><br>\r\n",
    "<table align=\"center\" border=\"0\" cellspacing=\"0\" cellpadding=\"0\">\r\n",
    "  <tr>\r\n",
    "    <td rowspan = \"2\" align=\"right\">|<em>G</em>| = <em>p<sup>n</sup></em>&middot;<em>m</em> =&ensp;</td>\r\n",
    "    <td height=\"33\" valign=\"bottom\"><font style=\"text-decoration:underline\">&ensp;&emsp;&emsp;<em>p&#8319;</em>&middot;<em>p&#8319;</em>&emsp;&emsp;&ensp;</font></td>\r\n",
    "    <td rowspan = \"2\" align=\"right\">&ensp;+&ensp;</td>\r\n",
    "    <td height=\"33\" valign=\"bottom\"><font style=\"text-decoration:underline\">&ensp;&emsp;&emsp;<em>p&#8319;</em>&middot;<em>p&#8319;</em>&emsp;&emsp;&ensp;</font></td>\r\n",
    "    <td rowspan = \"2\" align=\"right\">&ensp;+ &#8943; +&ensp;</td>\r\n",
    "    <td height=\"33\" valign=\"bottom\"><font style=\"text-decoration:underline\">&ensp;&emsp;&emsp;<em>p&#8319;</em>&middot;<em>p&#8319;</em>&emsp;&emsp;&ensp;</font></td>\r\n",
    "    <td rowspan = \"2\" align=\"right\">.</td>\r\n",
    "  </tr>\r\n",
    "  <tr>\r\n",
    "     <td valign=\"top\">| <em>H</em> &cap; (<em>u</em><sub>1</sub>&middot;<em>K</em>&middot;<em>u</em><sub>1</sub><sup>-1</sup>)|</td>\r\n",
    "     <td valign=\"top\">| <em>H</em> &cap; (<em>u</em><sub>2</sub>&middot;<em>K</em>&middot;<em>u</em><sub>2</sub><sup>-1</sup>)|</td>\r\n",
    "     <td valign=\"top\">| <em>H</em> &cap; (<em>u<sub>j</sub></em>&middot;<em>K</em>&middot;<em>u<sub>j</sub></em><sup>-1</sup>)|</td>\r\n",
    "  </tr>\r\n",
    "</table>\r\n",
    "\r\n",
    "<br>\r\n",
    "Note that the intersection of two groups is a subgroup of both the groups, and so the denominators will all be powers of <em>p</em>.  Dividing both sides of the \r\n",
    "equation by <em>p<sup>n</sup></em> we have\r\n",
    "<br><br>\r\n",
    "<table align=\"center\" border=\"0\" cellspacing=\"0\" cellpadding=\"0\">\r\n",
    "  <tr>\r\n",
    "    <td rowspan = \"2\" align=\"right\"><em>m</em> =&ensp;</td>\r\n",
    "    <td height=\"33\" valign=\"bottom\"><font style=\"text-decoration:underline\">&emsp;&emsp;&emsp;<em>p&#8319;</em>&emsp;&emsp;&emsp;</font></td>\r\n",
    "    <td rowspan = \"2\" align=\"right\">&ensp;+&ensp;</td>\r\n",
    "    <td height=\"33\" valign=\"bottom\"><font style=\"text-decoration:underline\">&emsp;&emsp;&emsp;<em>p&#8319;</em>&emsp;&emsp;&emsp;</font></td>\r\n",
    "    <td rowspan = \"2\" align=\"right\">&ensp;+ &#8943; +&ensp;</td>\r\n",
    "    <td height=\"33\" valign=\"bottom\"><font style=\"text-decoration:underline\">&emsp;&emsp;&emsp;<em>p&#8319;</em>&emsp;&emsp;&emsp;</font></td>\r\n",
    "    <td rowspan = \"2\" align=\"right\">.</td>\r\n",
    "  </tr>\r\n",
    "  <tr>\r\n",
    "     <td valign=\"top\">| <em>H</em> &cap; (<em>u</em><sub>1</sub>&middot;<em>K</em>&middot;<em>u</em><sub>1</sub><sup>-1</sup>)|</td>\r\n",
    "     <td valign=\"top\">| <em>H</em> &cap; (<em>u</em><sub>2</sub>&middot;<em>K</em>&middot;<em>u</em><sub>2</sub><sup>-1</sup>)|</td>\r\n",
    "     <td valign=\"top\">| <em>H</em> &cap; (<em>u<sub>j</sub></em>&middot;<em>K</em>&middot;<em>u<sub>j</sub></em><sup>-1</sup>)|</td>\r\n",
    "  </tr>\r\n",
    "</table>\r\n",
    "\r\n",
    "<br>\r\n",
    "Since <em>m</em> is not a multiple of <em>p</em>, there must be some term on the right hand side of this equation that is not a multiple of <em>p</em>.  But this can \r\n",
    "happen only if one of the denominators is <em>p<sup>n</sup></em>, that is,\r\n",
    "<p style='text-align: center;'>|<em>H</em> &cap; (<em>u<sub>i</sub></em>&middot;<em>K</em>&middot;<em>u<sub>i</sub></em><sup>-1</sup>)| = |<em>H</em>|</p>\r\n",
    "for some <em>i</em>.  Since <em>H</em> and <em>u<sub>i</sub></em>&middot;<em>K</em>&middot;<em>u<sub>i</sub></em><sup>-1</sup> both have <em>p<sup>n</sup></em> elements, \r\n",
    "we must have <em>H</em> = <em>u<sub>i</sub></em>&middot;<em>K</em>&middot;<em>u<sub>i</sub></em><sup>-1</sup>. Therefore, for any two <em>p</em>-Sylow subgroups of <em>G</em>, \r\n",
    "there is a <em>u</em> such that <em>H</em> = <em>u</em>&middot;<em>K</em>&middot;<em>u</em><sup>-1</sup>.<br><br>\r\n",
    "\r\n",
    "<a href=\"#theor74ret\">Return to text</a>\r\n",
    "\r\n",
    "<br><br><br><br><br><br><br><br><br><br><br><br><br><br><br><br><br><br><br><br><br><br><br><br><br><br><br><br><br><br><br><br><br><br><br><br><br><br><br><br><br><br>\r\n",
    "\r\n",
    "<a name=\"cor74\" id=\"cor74\"></a>\r\n",
    "\r\n",
    "Proof of Corollary 7.4:<br><br>\r\n",
    "\r\n",
    "Suppose that <em>H</em> is the only <em>p</em>-Sylow subgroup of <em>G</em>.  Then for any element <em>u</em> \r\n",
    "in <em>G</em>, <em>u</em>&middot;<em>H</em>&middot;<em>u</em><sup>-1</sup> will be a <em>p</em>-Sylow subgroup of <em>G</em>.  But since there is only \r\n",
    "one <em>p</em>-Sylow subgroup, we have <em>u</em>&middot;<em>H</em>&middot;<em>u</em><sup>-1</sup> = <em>H</em> for all <em>u</em> in <em>G</em>.  Hence, <em>H</em> is a \r\n",
    "normal subgroup.<br><br>\r\n",
    "\r\n",
    "Now suppose that <em>H</em> is a normal <em>p</em>-Sylow subgroup of <em>G</em>.  By the second Sylow theorem (7.4) every other <em>p</em>-Sylow subgroup is of the \r\n",
    "form <em>u</em>&middot;<em>H</em>&middot;<em>u</em><sup>-1</sup>.  But since <em>H</em> is \r\n",
    "normal, <em>u</em>&middot;<em>H</em>&middot;<em>u</em><sup>-1</sup> = <em>H</em>.  Therefore, <em>H</em> is the only <em>p</em>-Sylow subgroup.<br><br>\r\n",
    "\r\n",
    "<a href=\"#cor74ret\">Return to text</a>\r\n",
    "\r\n",
    "<br><br><br><br><br><br><br><br><br><br><br><br><br><br><br><br><br><br><br><br><br><br><br><br><br><br><br><br><br><br><br><br><br><br><br><br><br><br><br><br><br><br>\r\n",
    "\r\n",
    "<a name=\"lem73\" id=\"lem73\"></a>\r\n",
    "\r\n",
    "Proof of Lemma 7.3:<br><br>\r\n",
    "\r\n",
    "Since <em>P</em> is a subgroup of <em>G</em>, <em>N<sub>G</sub></em>(<em>P</em>) is a subgroup of <em>G</em>, so the intersection \r\n",
    "of <em>N<sub>G</sub></em>(<em>P</em>) and <em>H</em> will be a subgroup of <em>H</em>.  We can use the same argument as Lemma 7.2, and note that if <em>u</em> and \r\n",
    "<em>v</em> are two elements of <em>H</em>, then <em>u</em>&middot;<em>P</em>&middot;<em>u</em><sup>-1</sup> and \r\n",
    "<em>v</em>&middot;<em>P</em>&middot;<em>v</em><sup>-1</sup> will represent the same <em>p</em>-Sylow subgroup if, and only if,\r\n",
    "<p style='text-align: center;'><em>u</em>&middot;<em>P</em>&middot;<em>u</em><sup>-1</sup> = \r\n",
    "<em>v</em>&middot;<em>P</em>&middot;<em>v</em><sup>-1</sup>&emsp;&#10234;&emsp;<em>v</em><sup>-1</sup>&middot;<em>u</em>&middot;<em>P</em>&middot;<em>u</em><sup>-1</sup>&middot;<em>v</em> \r\n",
    "= <em>P</em>&emsp;&#10234;&emsp;(<em>v</em><sup>-1</sup>&middot;<em>u</em>)&middot;<em>P</em>&middot;(<em>v</em><sup>-1</sup>&middot;<em>u</em>)<sup>-1</sup> = \r\n",
    "<em>P</em>&emsp;&#10234;&emsp;<em>v</em><sup>-1</sup>&middot;<em>u</em> &isin; \r\n",
    "<em>N<sub>G</sub></em>(<em>P</em>) &cap; <em>H</em><br>&emsp;&#10234;&emsp;<em>u</em> &isin; \r\n",
    "<em>v</em>&middot;(<em>N<sub>G</sub></em>(<em>P</em>) &cap; <em>H</em>)&emsp;&#10234;&emsp;<em>u</em>&middot;(<em>N<sub>G</sub></em>(<em>P</em>) &cap; <em>H</em>) = \r\n",
    "<em>v</em>&middot;(<em>N<sub>G</sub></em>(<em>P</em>) &cap; <em>H</em>).</p>\r\n",
    "Thus, <em>u</em>&middot;<em>P</em>&middot;<em>u</em><sup>-1</sup> and <em>v</em>&middot;<em>P</em>&middot;<em>v</em><sup>-1</sup> represent the same <em>p</em>-Sylow \r\n",
    "subgroup if, and only if, <em>u</em>&middot;(<em>N<sub>G</sub></em>(<em>P</em>) &cap; <em>H</em>) and \r\n",
    "<em>v</em>&middot;(<em>N<sub>G</sub></em>(<em>P</em>) &cap; <em>H</em>) are the same left cosets of <em>N<sub>G</sub></em>(<em>P</em>) &cap; <em>H</em> over <em>H</em>.  Therefore, \r\n",
    "the number of <em>p</em>-Sylow subgroups that can be expressed as <em>u</em>&middot;<em>P</em>&middot;<em>u</em><sup>-1</sup> with <em>u</em> an element of <em>H</em>, \r\n",
    "is\r\n",
    "<br><br>\r\n",
    "<table align=\"center\" border=\"0\" cellspacing=\"0\" cellpadding=\"0\">\r\n",
    "  <tr>\r\n",
    "    <td align=\"center\" valign=\"bottom\"><font style=\"text-decoration:underline\">&emsp;&emsp;| <em>H</em> |&emsp;&emsp;</font></td>\r\n",
    "    <td rowspan = \"2\" align=\"left\">.</td>\r\n",
    "  </tr>\r\n",
    "  <tr>\r\n",
    "    <td align=\"center\" valign=\"top\">| <em>N<sub>G</sub></em>(<em>P</em>) &cap; <em>H</em> |</td>\r\n",
    "  </tr>\r\n",
    "</table>\r\n",
    "\r\n",
    "<a href=\"#lem73ret\">Return to text</a>\r\n",
    "\r\n",
    "<br><br><br><br><br><br><br><br><br><br><br><br><br><br><br><br><br><br><br><br><br><br><br><br><br><br><br><br><br><br><br><br><br><br><br><br><br><br><br><br><br><br>\r\n",
    "\r\n",
    "<a name=\"theor75\" id=\"theor75\"></a>\r\n",
    "\r\n",
    "Proof of Theorem 7.5:<br><br>\r\n",
    "\r\n",
    "Suppose that we label the <em>p</em>-Sylow subgroups of <em>G</em> as <em>P</em><sub>0</sub>, <em>P</em><sub>1</sub>, <em>P</em><sub>1</sub>, &hellip; \r\n",
    "<em>P</em><sub><em>k</em>&minus;1</sub>.  Let us partition all of the <em>p</em>-Sylow subgroups of <em>G</em> into different categories where two <em>p</em>-Sylow \r\n",
    "subgroups <em>P<sub>i</sub></em> and <em>P<sub>j</sub></em> are in the same category if there is an element <em>u</em> in <em>P</em><sub>0</sub> such that\r\n",
    "<p style='text-align: center;'><em>P<sub>j</sub></em> = <em>u</em>&middot;<em>P<sub>i</sub></em>&middot;<em>u</em><sup>-1</sup>.</p>\r\n",
    "Note that <em>P</em><sub>0</sub> would be in its own category while the number of <em>p</em>-Sylow subgroups in the other categories would be, according to Lemma 7.3,\r\n",
    "<table align=\"center\" border=\"0\" cellspacing=\"0\" cellpadding=\"0\">\r\n",
    "  <tr>\r\n",
    "    <td align=\"center\" valign=\"bottom\"><font style=\"text-decoration:underline\">&emsp;&emsp;| <em>P</em>&#8320; |&emsp;&emsp;</font></td>\r\n",
    "  </tr>\r\n",
    "  <tr>\r\n",
    "    <td align=\"center\" valign=\"top\">| <em>N<sub>G</sub></em>(<em>P<sub>i</sub></em>) &cap;<em>P</em><sub>0</sub> |</td>\r\n",
    "  </tr>\r\n",
    "</table>\r\n",
    "where <em>P<sub>i</sub></em> is one <em>p</em>-Sylow subgroup in the category.<br><br>\r\n",
    "\r\n",
    "Recall that the normalizer of each <em>P<sub>i</sub></em> contains <em>P<sub>i</sub></em> as a normal subgroup, so <em>N<sub>G</sub></em>(<em>P<sub>i</sub></em>) is \r\n",
    "divisible by <em>p<sup>n</sup></em>, and hence by Corollary 7.4 the only <em>p</em>-Sylow subgroup of <em>N<sub>G</sub></em>(<em>P<sub>i</sub></em>) is \r\n",
    "<em>P<sub>i</sub></em>.  Thus, <em>N<sub>G</sub></em>(<em>P<sub>i</sub></em>) cannot contain <em>P</em><sub>0</sub>, least there would be 2 <em>p</em>-Sylow subgroups \r\n",
    "of <em>N<sub>G</sub></em>(<em>P<sub>i</sub></em>).  This makes |<em>N<sub>G</sub></em>(<em>P<sub>i</sub></em>) &cap; <em>P</em><sub>0</sub> | < <em>p<sup>n</sup></em>, \r\n",
    "so we have that the number of <em>p</em>-Sylow subgroups in each category, besides \r\n",
    "the category containing just <em>P</em><sub>0</sub>, is a power of <em>p</em>, and hence is a multiple of <em>p</em>.<br>\r\n",
    "<br>\r\n",
    "\r\n",
    "Therefore, the total number of <em>p</em>-Sylow subgroups is one more than a multiple of <em>p</em>, so <em>k</em> &equiv; 1 (mod <em>p</em>).<br><br>\r\n",
    "\r\n",
    "Finally, if we let <em>H</em> <em>=</em> <em>G</em> in Lemma 7.3, we find that the number of conjugates of <em>P</em><sub>0</sub> is \r\n",
    "<table align=\"center\" border=\"0\" cellspacing=\"0\" cellpadding=\"0\">\r\n",
    "  <tr>\r\n",
    "    <td align=\"center\" valign=\"bottom\"><font style=\"text-decoration:underline\">&ensp;&emsp;| <em>G</em> |&emsp;&ensp;</font></td>\r\n",
    "    <td rowspan = \"2\" align=\"left\">.</td>\r\n",
    "  </tr>\r\n",
    "  <tr>\r\n",
    "    <td align=\"center\" valign=\"top\">| <em>N<sub>G</sub></em>(<em>P</em><sub>0</sub>) |</td>\r\n",
    "  </tr>\r\n",
    "</table>\r\n",
    "<br>\r\n",
    "By the second Sylow theorem (7.4), this would give us all of the <em>p</em>-Sylow subgroups.  Therefore, <em>k</em> is also a divisor of the order of the \r\n",
    "group <em>G</em>.<br><br>\r\n",
    "\r\n",
    "<a href=\"#theor75ret\">Return to text</a>\r\n",
    "\r\n",
    "<br><br><br><br><br><br><br><br><br><br><br><br><br><br><br><br><br><br><br><br><br><br><br><br><br><br><br><br><br><br><br><br><br><br><br><br><br><br><br><br><br><br>\r\n",
    "\r\n",
    "<a name=\"prop79\" id=\"prop79\"></a>\r\n",
    "\r\n",
    "Proof of Proposition 7.9:<br><br>\r\n",
    "\r\n",
    "The trivial group is the only group of order 1, and since 2, 3, 5, 7, 11, and 13 are prime, we have only one non-isomorphic group of each of these orders.<br><br>\r\n",
    "\r\n",
    "In Chapter 4 we found that the only non-isomorphic groups of order 4 were\r\n",
    "<p style='text-align: center;'><em>Z</em><sub>4</sub>&ensp;and&ensp;<em>Z</em><sub>8</sub><sup>*</sup>,</p>\r\n",
    "the only non-isomorphic groups of order 6 were\r\n",
    "<p style='text-align: center;'><em>Z</em><sub>6</sub>&ensp;and&ensp;<em>S</em><sub>3</sub>,</p>\r\n",
    "and the only non-isomorphic groups of order 8 were\r\n",
    "<p style='text-align: center;'>\r\n",
    "<em>Z</em><sub>8</sub>,&emsp;<em>Z</em><sub>15</sub><sup>*</sup>,&emsp;<em>Z</em><sub>24</sub><sup>*</sup>,&emsp;<em>Q</em>&ensp;and&ensp;<em>D</em><sub>4</sub>.</p>\r\n",
    "By Corollary 7.3 the only two non-isomorphic groups of order 9 are\r\n",
    "<p style='text-align: center;'><em>Z</em><sub>9</sub>&ensp;and&ensp;<em>Z</em><sub>3</sub> &times; <em>Z</em><sub>3</sub>.</p>\r\n",
    "We have already used the first Sylow theorem (7.3) to find all of the non-isomorphic groups of order 10:\r\n",
    "<p style='text-align: center;'><em>Z</em><sub>10</sub>&ensp;and&ensp;<em>D</em><sub>5</sub>.</p>\r\n",
    "We just found all of the groups of order 12:\r\n",
    "<p style='text-align: center;'><em>Z</em><sub>12</sub>,&emsp;<em>A</em><sub>4</sub>,&emsp;<em>Z</em><sub>3</sub> &times; <em>Z</em><sub>2</sub> &times; \r\n",
    "<em>Z</em><sub>2</sub>,&emsp;<em>Z</em><sub>2</sub> &times; <em>S</em><sub>3</sub>,&ensp;and&ensp;<em>Z</em><sub>3</sub> &#8906; <em>Z</em><sub>4</sub>.</p>\r\n",
    "We can use the same argument to find all of the non-isomorphic groups of order 14.  If |<em>G</em>| = 14, there must be a 7-Sylow subgroup of <em>G</em>, \r\n",
    "say <em>K</em>.  Since <em>K</em> contains half of the elements, by Proposition 3.5, <em>K</em> is normal.  We also must have \r\n",
    "a 2-Sylow subgroup, <em>H</em>.  Since <em>K</em> cannot have an element of order 2, <em>K</em> and <em>H</em> have only the identity element in common.<br><br>\r\n",
    "\r\n",
    "If <em>H</em> is normal, then <em>K</em>&middot;<em>H</em> &asymp; <em>K</em> &times; <em>H</em> &asymp; <em>Z</em><sub>7</sub> &times; <em>Z</em><sub>2</sub> \r\n",
    "&asymp; <em>Z</em><sub>14</sub>.  If <em>H</em> is not normal, by the semi-direct product theorem (6.3),\r\n",
    "<p style='text-align: center;'><em>K</em>&middot;<em>H</em> &asymp; <em>K</em> &#8906;<sub><em>&#981;</em></sub> <em>H</em></p>\r\n",
    "for some homomorphism <em>&#981;</em> from <em>H</em> to Aut(<em>K</em>).  In either case <em>K</em>&middot;<em>H</em> has 14 elements, and \r\n",
    "so <em>G</em> = <em>K</em>&middot;<em>H</em>.  Also, <em>&#981;</em> is determined by where the non-identity element of <em>H</em> is mapped.  Since this must be \r\n",
    "an element of Aut(<em>K</em>) of order 2, and since\r\n",
    "<p style='text-align: center;'>Aut(<em>K</em>) &asymp; Aut(<em>Z</em><sub>7</sub>) &asymp; <em>Z</em><sub>7</sub><sup>*</sup> &asymp; <em>Z</em><sub>6</sub></p>\r\n",
    "has only one element of order 2, there can only be one such homomorphism.  Since <em>D</em><sub>7</sub> is a non-abelian group of order 14, this must be the one \r\n",
    "semi-direct product that we found.  Thus, the only two groups of order 14 are\r\n",
    "<p style='text-align: center;'><em>Z</em><sub>14</sub>&ensp;and&ensp;<em>D</em><sub>7</sub>.</p>\r\n",
    "Let us move on to find all groups of order 15.  Suppose |<em>G</em>| = 15.  Then the number of 3-Sylow subgroups and the number of 5-Sylow subgroups must both divide 15, \r\n",
    "so both of these numbers must be one of 1, 3, 5, or 15.  But 1 is the only number in this set that is congruent to 1 (mod 5).  So there is only \r\n",
    "one 5-Sylow subgroup, <em>K</em>.  Likewise, 1 is the only number in the set that is congruent to 1 (mod 3).  So there is only \r\n",
    "one 3-Sylow subgroup, <em>H</em> . By Corollary 7.4 both <em>K</em> and <em>H</em> are normal subgroups of <em>G</em>, and the intersection must be just the identity \r\n",
    "element.  Thus, by Corollary 6.1,\r\n",
    "<p style='text-align: center;'><em>K</em>&middot;<em>H</em> &asymp;<em>K</em> &times; <em>H</em> &asymp; <em>Z</em><sub>5</sub> &times; <em>Z</em><sub>3</sub> &asymp; \r\n",
    "<em>Z</em><sub>15</sub>.</p>\r\n",
    "Since this has all 15 elements, this must be all of <em>G</em>, and so there is only one non-isomorphic group of order 15, namely <em>Z</em><sub>15</sub>.<br><br>\r\n",
    "\r\n",
    "Therefore, counting all of the groups of order less than 16, we find that there are exactly 28 of them.<br><br>\r\n",
    "\r\n",
    "<a href=\"#prop79ret\">Return to text</a>\r\n",
    "\r\n",
    "<br><br><br><br><br><br><br><br><br><br><br><br><br><br><br><br><br><br><br><br><br><br><br><br><br><br><br><br><br><br><br><br><br><br><br><br><br><br><br><br><br><br>\r\n",
    "\r\n",
    "<a name=\"sec7p\" id=\"sec7p\"></a>\r\n",
    "<h1><em>Sage</em> Interactive Problems</h1>\r\n",
    "\r\n",
    "<br>\r\n",
    "&sect;7.1 #18)<br>\r\n",
    "Use <em>Sage</em> to find the center of the group <em>D</em><sub>6</sub>.  This can be loaded by the commands:<br>"
   ]
  },
  {
   "cell_type": "code",
   "execution_count": 0,
   "metadata": {
    "collapsed": false
   },
   "outputs": [
   ],
   "source": [
    "InitGroup(\"e\")\r\n",
    "AddGroupVar(\"a\", \"b\")\r\n",
    "Define(a^6, e)\r\n",
    "Define(b^2, e)\r\n",
    "Define(b*a, a^5*b)\r\n",
    "D6 = ListGroup(); D6"
   ]
  },
  {
   "cell_type": "markdown",
   "metadata": {
    "collapsed": false
   },
   "source": [
    "<br>\r\n",
    "What familar group is the quotient group <em>D</em><sub>6</sub>/<em>Z</em>(<em>D</em><sub>6</sub>) isomorphic to?<br>"
   ]
  },
  {
   "cell_type": "markdown",
   "metadata": {
    "collapsed": false
   },
   "source": [
    "<br>\r\n",
    "&sect;7.1 #19)<br> \r\n",
    "In Problem 22 of &sect;6.3, we computed the group <em>G</em> = Aut(<em>Z</em><sub>3</sub> &times; <em>Z</em><sub>3</sub>).  Find the center of this group.  \r\n",
    "What familiar group is <em>G</em>/<em>Z</em>(<em>G</em>) isomorphic to?<br>"
   ]
  },
  {
   "cell_type": "markdown",
   "metadata": {
    "collapsed": false
   },
   "source": [
    "<br>\r\n",
    "&sect;7.1 #20)<br>\r\n",
    "Find the centers of the groups <em>D</em><sub>3</sub>, <em>D</em><sub>4</sub>, <em>D</em><sub>5</sub>, <em>D</em><sub>6</sub>, <em>D</em><sub>7</sub>, <em>D</em><sub>8</sub>.  \r\n",
    "Do you see any patterns?<br>"
   ]
  },
  {
   "cell_type": "markdown",
   "metadata": {
    "collapsed": false
   },
   "source": [
    "<br>\r\n",
    "&sect;7.2 #21)<br>\r\n",
    "Use <em>Sage</em> to find the normalizer <em>N</em><sub><em>D</em>&#8326;</sub>({<em>x</em>}) for each of the 12 elements of <em>D</em><sub>6</sub> listed \r\n",
    "in Problem 18 of &sect;7.1.  For which elements is the normalizer the same subgroup?<br>"
   ]
  },
  {
   "cell_type": "markdown",
   "metadata": {
    "collapsed": false
   },
   "source": [
    "<br>\r\n",
    "&sect;7.2 #22)<br> \r\n",
    "Use <em>Sage</em>'s <strong>NormalClosure</strong> command to find all of the normal subgroups of the group <em>D</em><sub>6</sub> given in Problem 18 of &sect;7.1.<br>"
   ]
  },
  {
   "cell_type": "markdown",
   "metadata": {
    "collapsed": false
   },
   "source": [
    "<br>\r\n",
    "&sect;732 #20)<br> \r\n",
    "The following commands load a group of order 20 into <em>Sage</em>.<br>"
   ]
  },
  {
   "cell_type": "code",
   "execution_count": 0,
   "metadata": {
    "collapsed": false
   },
   "outputs": [
   ],
   "source": [
    "InitGroup(\"e\")\r\n",
    "AddGroupVar(\"a\", \"b\")\r\n",
    "Define(a^5, e)\r\n",
    "Define(b^4, e)\r\n",
    "Define(b*a, a^2*b)\r\n",
    "M = ListGroup(); M"
   ]
  },
  {
   "cell_type": "markdown",
   "metadata": {
    "collapsed": false
   },
   "source": [
    "<br>\r\n",
    "Find the conjugacy classes of this group, and use this to find all of the normal subgroups of <em>M</em>.<br>"
   ]
  },
  {
   "cell_type": "markdown",
   "metadata": {
    "collapsed": false
   },
   "source": [
    "<br>\r\n",
    "&sect;7.3 #21)<br>\r\n",
    "The following commands load a group of order 24 into <em>Sage</em>.<br>"
   ]
  },
  {
   "cell_type": "code",
   "execution_count": 0,
   "metadata": {
    "collapsed": false
   },
   "outputs": [
   ],
   "source": [
    "DisplayPermInt = true\r\n",
    "G = Group(NthPerm(2374), NthPerm(6212)); G"
   ]
  },
  {
   "cell_type": "code",
   "execution_count": 0,
   "metadata": {
    "collapsed": false
   },
   "outputs": [
   ],
   "source": [
    "StructureDescription(2374, 6212)"
   ]
  },
  {
   "cell_type": "markdown",
   "metadata": {
    "collapsed": false
   },
   "source": [
    "<br>\r\n",
    "Find the conjugacy classes of this group, and use this to find all of the normal subgroups of <em>G</em>.<br>"
   ]
  },
  {
   "cell_type": "markdown",
   "metadata": {
    "collapsed": false
   },
   "source": [
    "<br>\r\n",
    "&sect;7.4 #20)<br> \r\n",
    "Use <em>Sage</em> to find all of the 2-Sylow and 5-Sylow subgroups of the group <em>M</em> defined in Problem 20 of &sect;7.3.  How many of the \r\n",
    "subgroups are there?  Does this agree with the prediction given by the third Sylow theorem?<br>"
   ]
  },
  {
   "cell_type": "markdown",
   "metadata": {
    "collapsed": false
   },
   "source": [
    "<br>\r\n",
    "&sect;7.4 #21)<br>\r\n",
    "Using <em>Sage</em>, find all non-isomorphic groups of order 21. (Hint: What can you determine from Sylow's theorems?  Which semi-direct products are possible?)<br>"
   ]
  },
  {
   "cell_type": "markdown",
   "metadata": {
    "collapsed": false
   },
   "source": [
    "</font>\r\n",
    "\r\n",
    "</body>\r\n",
    "\r\n",
    "</html>"
   ]
  }
 ],
 "metadata": {
  "kernelspec": {
   "display_name": "SageMath (stable)",
   "name": "sagemath"
  },
  "language_info": {
   "codemirror_mode": {
    "name": "ipython",
    "version": 2
   },
   "file_extension": ".py",
   "mimetype": "text/x-python",
   "name": "python",
   "nbconvert_exporter": "python",
   "pygments_lexer": "ipython2",
   "version": "2.7.14"
  }
 },
 "nbformat": 4,
 "nbformat_minor": 0
}