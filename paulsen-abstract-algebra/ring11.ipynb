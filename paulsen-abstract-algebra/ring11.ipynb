{
 "cells": [
  {
   "cell_type": "markdown",
   "metadata": {
    "collapsed": false
   },
   "source": [
    "<!-- Ring11 -->\n",
    "<html>\n",
    "<body>\n",
    "\n",
    "<!-- To make the size of the font bigger for presentations, change the following command from +1 to +2 -->\n",
    "<font size=\"+1\">\n",
    "\n",
    "<p style='font-size: 36px;font-family: Arial;font-style: italic;font-weight: bold;color: #FF00FF;background-color: #80FFFF;text-align: center;'>\n",
    "Abstract Algebra: An Interactive Approach, 2e\n",
    "</p>\n",
    "\n",
    "<p style='font-family: Geneva;font-style: italic;color: #0000FF;background-color: #FFFFFF;'>\n",
    "&copy;2015 This notebook is provided with the textbook, &quot;Abstract Algebra: An Interactive Approach, 2nd Ed.&quot; by William Paulsen. Users of this notebook are encouraged to buy the textbook.\n",
    "</p>\n",
    "\n",
    "\n",
    "\n",
    "<p style='font-size: 36px;font-family: New York;font-weight: bold;color: #000000;background-color: #FFFFFF;text-align: center;border: 1px;border-style: \n",
    "solid;border-color: #000000;'>\n",
    "Chapter 11<br>\n",
    "Integral Domains and Fields\n",
    "</p>\n",
    "\n",
    "\n",
    "<p style='text-align: center;'>Initialization:  This cell MUST be evaluated first:</p>"
   ]
  },
  {
   "cell_type": "code",
   "execution_count": 0,
   "metadata": {
    "collapsed": false
   },
   "outputs": [
   ],
   "source": [
    "%display latex\n",
    "try:\n",
    "    load('absalgtext.sage')\n",
    "except IOError:\n",
    "    load('/media/sf_sage/absalgtext.sage')"
   ]
  },
  {
   "cell_type": "markdown",
   "metadata": {
    "collapsed": false
   },
   "source": [
    "<br>\r\n",
    "<a href=\"#sec111\">Polynomial Rings</a><br>\r\n",
    "<a href=\"#sec112\">The Field of Quotients</a><br>\r\n",
    "<a href=\"#sec113\">Complex Numbers</a><br>\r\n",
    "<a href=\"#sec114\">Ordered Communative Rings</a><br>\r\n",
    "<a href=\"#sec11p\"><em>Sage</em> Interactive Problems</a><br>\r\n",
    "\r\n",
    "<a name=\"sec111\" id=\"sec111\"></a>\r\n",
    "<h1>Polynomial Rings</h1>\r\n",
    "\r\n",
    "<br>\r\n",
    "In this chapter we will consider some useful ways of forming integral domains and fields from smaller rings. These provide us with useful examples for experimentation in hopes of finding properties of general integral domains and fields.<br><br>\r\n",
    "\r\n",
    "One major source of integral domains are the <em>polynomial rings</em>.  We can construct a polynomial ring from any ring, but the polynomial rings with the familiar properties are formed either from fields or integral domains.<br><br>\r\n",
    "\r\n",
    "DEFINITION 11.1<br>\r\n",
    "\r\n",
    "Let <em>K</em> be a communitive ring. We define the set of polynomials in <em>x</em> over <em>K</em>, denoted <em>K</em>[<em>x</em>], to be the set of all expressions \r\n",
    "of the form\r\n",
    "<p style='text-align: center;'><em>k</em><sub>0</sub> + <em>k</em><sub>1</sub> <em>x</em> + <em>k</em><sub>2</sub> <em>x</em><sup>2</sup> + \r\n",
    "<em>k</em><sub>3</sub> <em>x</em><sup>3</sup> + &#8943;</p>\r\n",
    "where the coefficients <em>k<sub>n</sub></em> are elements of <em>K</em>, and only a <em>finite</em> number of the coefficients are nonzero. If <em>k<sub>d</sub></em> is \r\n",
    "the last nonzero coefficient, then <em>d</em> is called the <em>degree</em> of the polynomial.<br><br>\r\n",
    "\r\n",
    "Notice that if <em>d</em> = 0, we essentually obtain elements of <em>K</em>. Thus, the nonzero elements of <em>K</em> are the polynomials of degree 0, which are refered to \r\n",
    "as <em>constant</em> polynomials. The degree for the zero polynomial\r\n",
    "<p style='text-align: center;'>0 + 0 <em>x</em> + 0 <em>x</em><sup>2</sup> + 0 <em>x</em><sup>3</sup> + &#8943;</p>\r\n",
    "is not defined.<br><br>\r\n",
    "\r\n",
    "By convention, the terms with zero coefficients are omited when writing polynomials.  Thus, the second degree polynomial in &#8484;[<em>x</em>]\r\n",
    "<p style='text-align: center;'>1 + 0 <em>x</em> + 3 <em>x</em><sup>2</sup> + 0 <em>x</em><sup>3</sup> + &#8943;</p>\r\n",
    "would be writen 1 + 3 <em>x</em><sup>2</sup>.  The one exception to this convention is the zero polynomial,  which is simply writen as 0.<br><br>\r\n",
    "\r\n",
    "We can define the sum and product of two polynomial in the familar way. If\r\n",
    "<p style='text-align: center;'><em>A</em> = <em>a</em><sub>0</sub> + <em>a</em><sub>1</sub> <em>x</em> + <em>a</em><sub>2</sub> <em>x</em><sup>2</sup> + \r\n",
    "<em>a</em><sub>3</sub> <em>x</em><sup>3</sup> + &#8943;,&emsp;and</p>\r\n",
    "<p style='text-align: center;'><em>B</em> = <em>b</em><sub>0</sub> + <em>b</em><sub>1</sub> <em>x</em> + <em>b</em><sub>2</sub> <em>x</em><sup>2</sup> + \r\n",
    "<em>b</em><sub>3</sub> <em>x</em><sup>3</sup> + &#8943;,&emsp;then</p>\r\n",
    "<p style='text-align: center;'><em>A</em> + <em>B</em> = (<em>a</em><sub>0</sub> + <em>b</em><sub>0</sub>) + (<em>a</em><sub>1</sub> + <em>b</em><sub>1</sub>) <em>x</em> \r\n",
    "+ (<em>a</em><sub>2</sub> + <em>b</em><sub>2</sub>) <em>x</em><sup>2</sup> + (<em>a</em><sub>3</sub> + <em>b</em><sub>3</sub>) <em>x</em><sup>3</sup> + &#8943;,&emsp;and</p>\r\n",
    "<br>\r\n",
    "<table align=\"center\" border=\"0\" cellspacing=\"0\" cellpadding=\"0\">\r\n",
    "  <tr>\r\n",
    "    <td></td>\r\n",
    "    <td align=\"center\" valign=\"bottom\">&infin;</td>\r\n",
    "    <td align=\"center\" valign=\"bottom\">&infin;</td>\r\n",
    "    <td></td>\r\n",
    "  </tr>\r\n",
    "  <tr>\r\n",
    "    <td align=\"right\"><em>A</em>&middot;<em>B</em> =</td>\r\n",
    "    <td align=\"center\">&thinsp;<font face=\"Times New Roman, Times, serif\" size=\"+4\">&sum;</font>&thinsp;</td>\r\n",
    "    <td align=\"center\">&thinsp;<font face=\"Times New Roman, Times, serif\" size=\"+4\">&sum;</font>&thinsp;</td>\r\n",
    "    <td >(<em>a<sub>i</sub></em>&middot;<em>b<sub>j</sub></em>) <em>x</em><sup><em>i</em>+<em>j</em></sup>.</td>\r\n",
    "  </tr>\r\n",
    "  <tr>\r\n",
    "    <td></td>\r\n",
    "    <td align=\"center\" valign=\"top\">&thinsp;<em>i</em>=0&thinsp;</td>\r\n",
    "    <td align=\"center\" valign=\"top\">&thinsp;<em>j</em>=0&thinsp;</td>\r\n",
    "    <td></td>\r\n",
    "  </tr>\r\n",
    "</table>\r\n",
    "<br>\r\n",
    "Although this looks like a double infinite sum, bear in mind that only a finite number of the terms will be nonzero. Thus, we do not need to be concerned about such issues \r\n",
    "as &quot;convergence.&quot;  If fact, this product could be written as\r\n",
    "<p style='text-align: center;'><em>A</em>&middot;<em>B</em> = <em>a</em><sub>0</sub>&middot;<em>b</em><sub>0</sub> + \r\n",
    "(<em>a</em><sub>0</sub>&middot;<em>b</em><sub>1</sub> + <em>a</em><sub>1</sub>&middot;<em>b</em><sub>0</sub>) <em>x</em>+ \r\n",
    "(<em>a</em><sub>0</sub>&middot;<em>b</em><sub>2</sub> + <em>a</em><sub>1</sub>&middot;<em>b</em><sub>1</sub> + <em>a</em><sub>2</sub>&middot;<em>b</em><sub>0</sub> ) \r\n",
    "<em>x</em><sup>2</sup> +\r\n",
    "(<em>a</em><sub>0</sub>&middot;<em>b</em><sub>3</sub> + <em>a</em><sub>1</sub>&middot;<em>b</em><sub>2</sub> + <em>a</em><sub>2</sub>&middot;<em>b</em><sub>1</sub> + \r\n",
    "<em>a</em><sub>3</sub>&middot;<em>b</em><sub>0</sub>) <em>x</em><sup>3</sup> + &#8943;</p>\r\n",
    "so each coefficient is determined by a finite sum. <br><br>\r\n",
    "\r\n",
    "Before we prove that the set of polynomials forms a ring, we need the following lemma:\r\n",
    "\r\n",
    "<p />\r\n",
    "<a name=\"lem111ret\" id=\"lem111ret\"></a>\r\n",
    "LEMMA 11.1<br>\r\n",
    "\r\n",
    "Let <em>A</em> and <em>B</em> be two nonzero polynomials in <em>x</em> over <em>K</em> of degree <em>m</em> and <em>n</em> respectively, where <em>K</em> has no zero divisors.  Then <em>A</em>&middot;<em>B</em> is a polynomial of degree <em>m</em> + <em>n</em>, and <em>A</em> + <em>B</em> is a polynomial of degree \r\n",
    "no greater than the larger of <em>m</em> or <em>n</em>.<br><br>\r\n",
    "\r\n",
    "<a href=\"#lem111\">Click here for the proof.</a>\r\n",
    "\r\n",
    "<p />\r\n",
    "This lemma verifies that the both sum and product of two polynomials are polynomials. The remaining ring properties are not difficult to verify.\r\n",
    "\r\n",
    "<p />\r\n",
    "<a name=\"prop111ret\" id=\"prop111ret\"></a>\r\n",
    "PROPOSITION 11.1<br>\r\n",
    "Let <em>K</em> be an integral domain or a field. Then the set of polynomials in <em>x</em> over <em>K</em> forms an integral domain.<br><br>\r\n",
    "\r\n",
    "<a href=\"#prop111\">Click here for the proof.</a>\r\n",
    "\r\n",
    "<p />\r\n",
    "Although this proposition holds for polynomials defined over a integral domain, there is no reason why we cannot have <em>Sage</em> work with polynomials defined over \r\n",
    "any commutative ring.  However, we will discover that the familar properties of polynomials will radically change!<br><br>\r\n",
    "\r\n",
    "Let us consider the commutative ring of order 8 that we worked with in Chapter 9.<br>"
   ]
  },
  {
   "cell_type": "code",
   "execution_count": 0,
   "metadata": {
    "collapsed": false
   },
   "outputs": [
   ],
   "source": [
    "InitRing(\"a\",\"b\")\r\n",
    "DefineRing([4,2],[[a,0],[0,b]])\r\n",
    "R = ListRing(); R"
   ]
  },
  {
   "cell_type": "markdown",
   "metadata": {
    "collapsed": false
   },
   "source": [
    "<br>\r\n",
    "We form a polynomial ring over <em>R</em> by defining a new symbol <em>x</em>, which is an indeterminant over the ring <em>R</em>.<br>"
   ]
  },
  {
   "cell_type": "code",
   "execution_count": 0,
   "metadata": {
    "collapsed": false
   },
   "outputs": [
   ],
   "source": [
    "AddRingVar(\"x\")"
   ]
  },
  {
   "cell_type": "markdown",
   "metadata": {
    "collapsed": false
   },
   "source": [
    "<br> \r\n",
    "We can now enter in a typical polynomial.<br>"
   ]
  },
  {
   "cell_type": "code",
   "execution_count": 0,
   "metadata": {
    "collapsed": false
   },
   "outputs": [
   ],
   "source": [
    "Y = a*x + b; Y"
   ]
  },
  {
   "cell_type": "markdown",
   "metadata": {
    "collapsed": false
   },
   "source": [
    "<br>\r\n",
    "We can experiment with powers of this first degree polynomial.<br>"
   ]
  },
  {
   "cell_type": "code",
   "execution_count": 0,
   "metadata": {
    "collapsed": false
   },
   "outputs": [
   ],
   "source": [
    "Y^2"
   ]
  },
  {
   "cell_type": "code",
   "execution_count": 0,
   "metadata": {
    "collapsed": false
   },
   "outputs": [
   ],
   "source": [
    "Y^3"
   ]
  },
  {
   "cell_type": "code",
   "execution_count": 0,
   "metadata": {
    "collapsed": false
   },
   "outputs": [
   ],
   "source": [
    "Y^4"
   ]
  },
  {
   "cell_type": "markdown",
   "metadata": {
    "collapsed": false
   },
   "source": [
    "<br>\r\n",
    "It seems as though (<em>a</em>&middot;<em>x</em> + <em>b</em>) satisfies the simplistic property:\r\n",
    "<p style='text-align: center;'>(<em>u</em> + <em>v</em>)<sup><em>n</em></sup> = <em>u<sup>n</sup></em> + <em>v<sup>n</sup></em>.</p>\r\n",
    "Does this hold for all polynomials in this ring?<br><br>\r\n",
    "\r\n",
    "EXPERIMENT:<br>\r\n",
    "\r\n",
    "Try to find a first degree polynomial (<em>u</em>&middot;<em>x</em> + <em>v</em>), where <em>u</em> and <em>v</em> are in <em>R</em>, which does not satisfy the \r\n",
    "above property for some value of <em>n</em>.<br>"
   ]
  },
  {
   "cell_type": "markdown",
   "metadata": {
    "collapsed": false
   },
   "source": [
    "<br>\r\n",
    "In the process of doing this experiment, you may have noticed a property that is even more bizarre:  Sometimes the square of a first degree polynomial is not a \r\n",
    "second degree polynomial! In fact, consider<br>"
   ]
  },
  {
   "cell_type": "code",
   "execution_count": 0,
   "metadata": {
    "collapsed": false
   },
   "outputs": [
   ],
   "source": [
    "(2*a*x + a + b)^2"
   ]
  },
  {
   "cell_type": "markdown",
   "metadata": {
    "collapsed": false
   },
   "source": [
    "<br>\r\n",
    "which yields the identity element in <em>R</em>.  Thus, (2 <em>a</em>&middot;<em>x</em> + <em>a</em> + <em>b</em>) is its own multiplicative inverse!  To further \r\n",
    "complicate matters, notice that polynomials may be &quot;factored&quot; in more than one way. Note that<br>"
   ]
  },
  {
   "cell_type": "code",
   "execution_count": 0,
   "metadata": {
    "collapsed": false
   },
   "outputs": [
   ],
   "source": [
    "(2*a*x + b)*(a*x + b)"
   ]
  },
  {
   "cell_type": "code",
   "execution_count": 0,
   "metadata": {
    "collapsed": false
   },
   "outputs": [
   ],
   "source": [
    "(2*a*x + b)*(a*x + 2*a + b)"
   ]
  },
  {
   "cell_type": "markdown",
   "metadata": {
    "collapsed": false
   },
   "source": [
    "<br>\r\n",
    "yield the same quadratic polynomial.<br><br>\r\n",
    "\r\n",
    "EXPERIMENT:<br>\r\n",
    "\r\n",
    "See if you can find a third polynomial whose product with (<em>b</em> + 2 <em>a</em>&middot;<em>x</em>) is the same as the two above.<br>"
   ]
  },
  {
   "cell_type": "markdown",
   "metadata": {
    "collapsed": false
   },
   "source": [
    "<br>\r\n",
    "Such properties of polynomials are enough to drive any begining algebra student crazy.  Because of the bizarre properties of polynomials over general rings, we mainly \r\n",
    "focus out attention to polynomial rings <em>K</em>[<em>x</em>], where <em>K</em> is an integral domain or field.  We will discover in Chapter 12 the exact conditions \r\n",
    "for which every polynomial in <em>K</em>[<em>x</em>] will have a unique factorization. <br><br>\r\n",
    "\r\n",
    "In order to find new integral domains and fields, we will use a simple property that will classify all rings.<br><br>\r\n",
    "\r\n",
    "DEFINITION 11.2<br>\r\n",
    "\r\n",
    "Let <em>R</em> be a ring. We define the <em>characteristic</em> of <em>R</em> to be the smallest positive number <em>n</em> such that <em>n x</em> = 0 \r\n",
    "for all elements <em>x</em> of <em>R</em>.  If no such positive number exists, we say the ring has <em>characteristic zero</em>. <br><br>\r\n",
    "\r\n",
    "For integral domains or fields, the characteristic plays an extremely important role, as the next proposition illustrates.\r\n",
    "\r\n",
    "<p />\r\n",
    "<a name=\"prop112ret\" id=\"prop112ret\"></a>\r\n",
    "PROPOSITION 11.2<br>\r\n",
    "\r\n",
    "Let <em>R</em> be a nontrivial ring with no zero-divisors. If the characteristic is 0, then for <em>n</em> an integer and <em>x</em> a nonzero element \r\n",
    "of <em>R</em>, <em>n x</em> = 0 only if <em>n</em> = 0. If the characteristic is positive then it is a prime number <em>p</em>, and for \r\n",
    "nonzero <em>x</em>, <em>n x</em> = 0 if, and only if, <em>n</em> is a multiple of <em>p</em>.<br><br>\r\n",
    "\r\n",
    "<a href=\"#prop112\">Click here for the proof.</a>\r\n",
    "\r\n",
    "<p />\r\n",
    "Characteristics are important because they give us a way of finding domains and fields in <em>Sage</em>.  We begin by telling <em>Sage</em> the characteristic <em>p</em> \r\n",
    "of the ring we want to define with the command <strong>InitDomain</strong>(<em>p</em>).  Because of Proposition 11.2, we see that <em>p</em> must either be 0 or a \r\n",
    "prime number.  This command does three things. First, it tells <em>Sage</em> that the ring to be defined is commutative.  <em>Sage</em> also defines the identity element \r\n",
    "to be 1.  Finally, <em>Sage</em> assumes that the ring to be defined has no zero-divisors, and may latter report an error if zero divisors are found.<br><br>\r\n",
    "\r\n",
    "For example, let us find a new ring with characteristic 3.  We begin with the command<br>"
   ]
  },
  {
   "cell_type": "code",
   "execution_count": 0,
   "metadata": {
    "collapsed": false
   },
   "outputs": [
   ],
   "source": [
    "InitDomain(3)"
   ]
  },
  {
   "cell_type": "markdown",
   "metadata": {
    "collapsed": false
   },
   "source": [
    "<br>\r\n",
    "This actually defines the field <em>Z</em><sub>3</sub>, as we can see with the command<br>"
   ]
  },
  {
   "cell_type": "code",
   "execution_count": 0,
   "metadata": {
    "collapsed": false
   },
   "outputs": [
   ],
   "source": [
    "Z3 = ListField(); Z3"
   ]
  },
  {
   "cell_type": "markdown",
   "metadata": {
    "collapsed": false
   },
   "source": [
    "We can create polynomials over this new domain by the <strong>AddFieldVar</strong> command.<br>"
   ]
  },
  {
   "cell_type": "code",
   "execution_count": 0,
   "metadata": {
    "collapsed": false
   },
   "outputs": [
   ],
   "source": [
    "AddFieldVar(\"i\")"
   ]
  },
  {
   "cell_type": "markdown",
   "metadata": {
    "collapsed": false
   },
   "source": [
    "<br>\r\n",
    "Now we can do computations in the polynomial ring <em>Z</em><sub>3</sub>[<em>i</em>]:<br>"
   ]
  },
  {
   "cell_type": "code",
   "execution_count": 0,
   "metadata": {
    "collapsed": false
   },
   "outputs": [
   ],
   "source": [
    "2*i + 5*i"
   ]
  },
  {
   "cell_type": "code",
   "execution_count": 0,
   "metadata": {
    "collapsed": false
   },
   "outputs": [
   ],
   "source": [
    "(2*i + 1)^2"
   ]
  },
  {
   "cell_type": "markdown",
   "metadata": {
    "collapsed": false
   },
   "source": [
    "<br>\r\n",
    "Let us try imitating the complex numbers, and tell <em>Sage</em> that <em>i</em><sup>2</sup> = &minus;1.<br>"
   ]
  },
  {
   "cell_type": "code",
   "execution_count": 0,
   "metadata": {
    "collapsed": false
   },
   "outputs": [
   ],
   "source": [
    "Define(i^2, -1)"
   ]
  },
  {
   "cell_type": "markdown",
   "metadata": {
    "collapsed": false
   },
   "source": [
    "<br>\r\n",
    "This now defines a new ring!  We will use the command <strong>ListField</strong> to see the new ring.<br>"
   ]
  },
  {
   "cell_type": "code",
   "execution_count": 0,
   "metadata": {
    "collapsed": false
   },
   "outputs": [
   ],
   "source": [
    "K = ListField(); K"
   ]
  },
  {
   "cell_type": "markdown",
   "metadata": {
    "collapsed": false
   },
   "source": [
    "<br>\r\n",
    "This gives us a ring with nine elements. Let us look at the addition and multiplication tables.<br>"
   ]
  },
  {
   "cell_type": "code",
   "execution_count": 0,
   "metadata": {
    "collapsed": false
   },
   "outputs": [
   ],
   "source": [
    "AddTable(K)"
   ]
  },
  {
   "cell_type": "code",
   "execution_count": 0,
   "metadata": {
    "collapsed": false
   },
   "outputs": [
   ],
   "source": [
    "MultTable(K)"
   ]
  },
  {
   "cell_type": "markdown",
   "metadata": {
    "collapsed": false
   },
   "source": [
    "<br>\r\n",
    "The multiplication table shows that there are no zero divisors. By Corollary 9.1, <em>K</em> is a field.  (You might have guessed this, since we used \r\n",
    "the <strong>ListField</strong> command.)  We could call <em>K</em> the field \r\n",
    "of &quot;complex numbers modulo 3&quot;.<br><br>\r\n",
    "\r\n",
    "What if we tried to define complex numbers modulo 5?<br>"
   ]
  },
  {
   "cell_type": "code",
   "execution_count": 0,
   "metadata": {
    "collapsed": false
   },
   "outputs": [
   ],
   "source": [
    "InitDomain(5)"
   ]
  },
  {
   "cell_type": "code",
   "execution_count": 0,
   "metadata": {
    "collapsed": false
   },
   "outputs": [
   ],
   "source": [
    "AddFieldVar(\"i\")"
   ]
  },
  {
   "cell_type": "code",
   "execution_count": 0,
   "metadata": {
    "collapsed": false
   },
   "outputs": [
   ],
   "source": [
    "Define(i^2, -1)"
   ]
  },
  {
   "cell_type": "markdown",
   "metadata": {
    "collapsed": false
   },
   "source": [
    "<br>\r\n",
    "<em>Sage</em> complains about a modulus that is not irreducible.  The problem is that the polynomial <em>x</em><sup>2</sup> + 1 is <em>not</em> irreducible \r\n",
    "in <em>Z</em><sub>5</sub>[<em>x</em>].  If we tried to define this as a ring,<br>"
   ]
  },
  {
   "cell_type": "code",
   "execution_count": 0,
   "metadata": {
    "collapsed": false
   },
   "outputs": [
   ],
   "source": [
    "InitRing(\"e\", \"i\")\r\n",
    "DefineRing([5,5],[[e,i],[i,-e]])\r\n",
    "K = ListRing(); K"
   ]
  },
  {
   "cell_type": "markdown",
   "metadata": {
    "collapsed": false
   },
   "source": [
    "<br>\r\n",
    "we find that there are zero divisors.<br>"
   ]
  },
  {
   "cell_type": "code",
   "execution_count": 0,
   "metadata": {
    "collapsed": false
   },
   "outputs": [
   ],
   "source": [
    "MultTable(K)"
   ]
  },
  {
   "cell_type": "markdown",
   "metadata": {
    "collapsed": false
   },
   "source": [
    "<br>\r\n",
    "EXPERIMENT:<br>\r\n",
    "\r\n",
    "Try defining a ring using <strong>InitDomain(5)</strong>, but have <em>i</em><sup>2</sup> be some integer other than &minus;1.  Does this new ring have zero \r\n",
    "divisors?  Is this a field?<br>"
   ]
  },
  {
   "cell_type": "markdown",
   "metadata": {
    "collapsed": false
   },
   "source": [
    "<br>\r\n",
    "<em>Sage</em> can now work with polynomials over an integral domain or field.  We can add an additional parameter for the <strong>InitDomain</strong> command that will \r\n",
    "tell <em>Sage</em> the name of the polynomial variable, usually <strong>\"x\"</strong>.  For example, with the command<br>"
   ]
  },
  {
   "cell_type": "code",
   "execution_count": 0,
   "metadata": {
    "collapsed": false
   },
   "outputs": [
   ],
   "source": [
    "InitDomain(3, \"x\")"
   ]
  },
  {
   "cell_type": "markdown",
   "metadata": {
    "collapsed": false
   },
   "source": [
    "<br>\r\n",
    "we can now form polynomials in <em>Z</em><sub>3</sub>[<em>x</em>]:<br>"
   ]
  },
  {
   "cell_type": "code",
   "execution_count": 0,
   "metadata": {
    "collapsed": false
   },
   "outputs": [
   ],
   "source": [
    "(x + 2)^2"
   ]
  },
  {
   "cell_type": "code",
   "execution_count": 0,
   "metadata": {
    "collapsed": false
   },
   "outputs": [
   ],
   "source": [
    "factor(x^2 + 2)"
   ]
  },
  {
   "cell_type": "code",
   "execution_count": 0,
   "metadata": {
    "collapsed": false
   },
   "outputs": [
   ],
   "source": [
    "factor(x^2 + 1)"
   ]
  },
  {
   "cell_type": "markdown",
   "metadata": {
    "collapsed": false
   },
   "source": [
    "<br>\r\n",
    "If we continue to expand the field to \"complex numbers modulo 3\",<br>"
   ]
  },
  {
   "cell_type": "code",
   "execution_count": 0,
   "metadata": {
    "collapsed": false
   },
   "outputs": [
   ],
   "source": [
    "AddFieldVar(\"i\")\r\n",
    "Define(i^2, -1)"
   ]
  },
  {
   "cell_type": "markdown",
   "metadata": {
    "collapsed": false
   },
   "source": [
    "<br>\r\n",
    "the variable <em>x</em> automatically promotes to a variable of the larger field.  Thus, we can form polynomials like<br>"
   ]
  },
  {
   "cell_type": "code",
   "execution_count": 0,
   "metadata": {
    "collapsed": false
   },
   "outputs": [
   ],
   "source": [
    "y = (1 + i)*x + 2; y"
   ]
  },
  {
   "cell_type": "code",
   "execution_count": 0,
   "metadata": {
    "collapsed": false
   },
   "outputs": [
   ],
   "source": [
    "z = (2 + i)*x^2 + 2*i*x + 1 + 2*i; z"
   ]
  },
  {
   "cell_type": "markdown",
   "metadata": {
    "collapsed": false
   },
   "source": [
    "<br>\r\n",
    "We can form products as we would with standard polynomials.<br>"
   ]
  },
  {
   "cell_type": "code",
   "execution_count": 0,
   "metadata": {
    "collapsed": false
   },
   "outputs": [
   ],
   "source": [
    "y^2"
   ]
  },
  {
   "cell_type": "code",
   "execution_count": 0,
   "metadata": {
    "collapsed": false
   },
   "outputs": [
   ],
   "source": [
    "y*z"
   ]
  },
  {
   "cell_type": "markdown",
   "metadata": {
    "collapsed": false
   },
   "source": [
    "<br>\r\n",
    "<em>Sage</em> can factor polynomials defined over any finite field.  In the next chapter we will prove that such factorizations are unique. (We will also see an example \r\n",
    "of an integral domain, not a field, for which factorizations are not unique.)  If <em>Sage</em> tries to factor <em>x</em><sup>2</sup> + 1 in the standard way \r\n",
    "(using the ring &#8484;),<br>"
   ]
  },
  {
   "cell_type": "code",
   "execution_count": 0,
   "metadata": {
    "collapsed": false
   },
   "outputs": [
   ],
   "source": [
    "var(\"X\")\r\n",
    "factor(X^2 + 1)"
   ]
  },
  {
   "cell_type": "markdown",
   "metadata": {
    "collapsed": false
   },
   "source": [
    "<br>\r\n",
    "it finds the polynomial is irreducable.  But if we factor the polynomial over the field of \"complex numbers modulo 3\",<br>"
   ]
  },
  {
   "cell_type": "code",
   "execution_count": 0,
   "metadata": {
    "collapsed": false
   },
   "outputs": [
   ],
   "source": [
    "factor(x^2 + 1)"
   ]
  },
  {
   "cell_type": "markdown",
   "metadata": {
    "collapsed": false
   },
   "source": [
    "<br>\r\n",
    "we find that it does factor.<br><br>\r\n",
    "\r\n",
    "EXPERIMENT:<br>\r\n",
    "\r\n",
    "Try looking at other quadratic polynomials which do not factor over the integers. Do they factor using the \"complex numbers modulo 3\"? What about cubic \r\n",
    "polynomials?<br>"
   ]
  },
  {
   "cell_type": "markdown",
   "metadata": {
    "collapsed": false
   },
   "source": [
    "<br>\r\n",
    "The polynomial rings defined over integral domains give us some good examples of integral domains.  In the next chapter we will find other ways of forming integral \r\n",
    "domains, some of which have some unusual properties.  But even these are based on polynomial rings.  So polynomials are the basic building blocks that are used for \r\n",
    "forming new integral domains and fields.<br><br>\r\n",
    "\r\n",
    "<a name=\"sec112\" id=\"sec112\"></a>\r\n",
    "<h1>The Field of Quotients</h1>\r\n",
    "\r\n",
    "<br>\r\n",
    "In the last section, we found a way to form integral domains by imitating the familar polynomials from high school algebra.  In this section we will show how we can form \r\n",
    "a field from an integral domain.  In fact we will imitate mathematics from grade school&mdash;the fractions.<br><br>\r\n",
    "\r\n",
    "We can view a fraction as one integer divided by another.  Thus, the properties of the rational numbers stem entirely on the properties of the integers, &#8484;.  \r\n",
    "Although the integers have some special properties, some of which we will discover later in this chapter, perhaps the most important property of the integers is that it \r\n",
    "is a simple example of an integral domain.  This raises the question: Can we form fractions out of any integral domain?  The answer is &quot;yes&quot;, but before we \r\n",
    "can proceed, let us review the basic definitions of addition, multiplication, and equality of the rational numbers &#8474;.<br><br>\r\n",
    "\r\n",
    "First of all, there is a restriction that we put on the rational number <sup><em>p</em></sup>&frasl;<sub><em>q</em></sub>: that <em>q</em> cannot be 0. \r\n",
    "It is reasonable to expect that we will have to make a similar restriction for general integal domains.<br><br>\r\n",
    "\r\n",
    "We can have <em>Sage</em> show us how two rational numbers are added:<br>"
   ]
  },
  {
   "cell_type": "code",
   "execution_count": 0,
   "metadata": {
    "collapsed": false
   },
   "outputs": [
   ],
   "source": [
    "var('x y u v')\r\n",
    "Together(x/y + u/v)"
   ]
  },
  {
   "cell_type": "markdown",
   "metadata": {
    "collapsed": false
   },
   "source": [
    "<br>\r\n",
    "Since nether <em>y</em> nor <em>v</em> are 0, the denominator of the sum is not zero, so this is a rational number.  Similarly, the product<br>"
   ]
  },
  {
   "cell_type": "code",
   "execution_count": 0,
   "metadata": {
    "collapsed": false
   },
   "outputs": [
   ],
   "source": [
    "Together(x/y * u/v)"
   ]
  },
  {
   "cell_type": "markdown",
   "metadata": {
    "collapsed": false
   },
   "source": [
    "<br>\r\n",
    "is a rational number. However, there is a twist in how we view two rational numbers as being <em>equal</em>.  Since fourth grade, we view\r\n",
    "<p style='text-align: center;'><sup>2</sup>&frasl;<sub>4</sub> = <sup>3</sup>&frasl;<sub>6</sub>,</p>\r\n",
    "even though these are two different fractions.  Both the numerators and denominators are different.  What we really mean is that these two fractions \r\n",
    "are <em>equivalent</em>, and in fact we define\r\n",
    "<p style='text-align: center;'><sup><em>x</em></sup>&frasl;<sub><em>y</em></sub> &equiv; \r\n",
    "<sup><em>u</em></sup>&frasl;<sub><em>v</em></sub>&emsp;if, and only if,&emsp;<em>x</em>&middot;<em>v</em> = <em>u</em>&middot;<em>y</em>.</p>\r\n",
    "\r\n",
    "<br>\r\n",
    "This forms an equivalence relation on the set of fractions <sup><em>x</em></sup>&frasl;<sub><em>y</em></sub>. We have already seen equivalence relations while working \r\n",
    "with cosets of a group.  What we call a rational number is really a set of fractions of the form <sup><em>x</em></sup>&frasl;<sub><em>y</em></sub> which are all \r\n",
    "equivalent.  In other words, <sup>1</sup>&frasl;<sub>2</sub> really represents a <em>set</em> of fractions\r\n",
    "<p style='text-align: center;'>{<sup>1</sup>&frasl;<sub>2</sub>, <sup>-1</sup>&frasl;<sub>-2</sub>, <sup>2</sup>&frasl;<sub>4</sub>, <sup>-2</sup>&frasl;<sub>-4</sub>,\r\n",
    "<sup>3</sup>&frasl;<sub>6</sub>, <sup>-3</sup>&frasl;<sub>-6</sub>, &hellip;}</p>\r\n",
    "with each element of this set equivalent to any other.  Since <sup>2</sup>&frasl;<sub>4</sub> and <sup>3</sup>&frasl;<sub>6</sub> are both in this set, we consider them \r\n",
    "to be <em>equal</em> to <sup>1</sup>&frasl;<sub>2</sub>.<br><br>\r\n",
    "\r\n",
    "We can define a similar equivalence relation for any integral domain <em>K</em>.<br><br>\r\n",
    "\r\n",
    "DEFINITION 11.3<br>\r\n",
    "Let <em>K</em> be an integral domain, and let <em>P</em> denote the set of all ordered pairs (<em>x</em>, <em>y</em>) of elements of <em>K</em>, with <em>y</em> \r\n",
    "nonzero:\r\n",
    "<p style='text-align: center;'><em>P</em> = { (<em>x</em>, <em>y</em>) | <em>x</em>, <em>y</em> &isin; <em>K</em>&ensp;and&ensp;<em>y</em> &ne; 0 }.</p>\r\n",
    "We define a relation on <em>P</em> by\r\n",
    "<p style='text-align: center;'>(<em>x</em>, <em>y</em>) &equiv; (<em>u</em>, <em>v</em>)&emsp;if&ensp;<em>x</em>&middot;<em>v</em> = <em>y</em>&middot;<em>u</em>.</p>\r\n",
    "The first step is to show that this relation is an equivalence relation.\r\n",
    "\r\n",
    "<p />\r\n",
    "<a name=\"lem112ret\" id=\"lem112ret\"></a>\r\n",
    "LEMMA 11.2<br>The above relation is an equivalence relation on <em>P</em>.<br><br>\r\n",
    "\r\n",
    "<a href=\"#lem112\">Click here for the proof.</a>\r\n",
    "\r\n",
    "<p />\r\n",
    "This equivalence relation becomes the key for defining our field of quotients, as the next definition shows.<br><br>\r\n",
    "\r\n",
    "DEFINITION 11.4<br>\r\n",
    "Let <em>K</em> be an integral domain, let <em>P</em> denote the set\r\n",
    "<p style='text-align: center;'><em>P</em> = { (<em>x</em>, <em>y</em>) | <em>x</em>, <em>y</em> &isin; <em>K</em>&ensp;and&ensp;<em>y</em> &ne; 0 },</p>\r\n",
    "and let the equivalence relation on <em>P</em> be\r\n",
    "<p style='text-align: center;'>(<em>x</em>, <em>y</em>) &equiv; (<em>u</em>, <em>v</em>)&emsp;if&ensp;<em>x</em>&middot;<em>v</em> = <em>y</em>&middot;<em>u</em>.</p>\r\n",
    "For each (<em>x</em>, <em>y</em>) in <em>P</em>, let <span style=\"font-size:24px\">(</span><sup><em>x</em></sup>&frasl;<sub><em>y</em></sub><span \r\n",
    "style=\"font-size:24px\">)</span> denote the equivalence class of <em>P</em> that contains (<em>x</em>, <em>y</em>). Let <em>Q</em> denote the set of all equivalence classes \r\n",
    "<span style=\"font-size:24px\">(</span><sup><em>a</em></sup>&frasl;<sub><em>b</em></sub><span style=\"font-size:24px\">)</span>.\r\n",
    "The set <em>Q</em> is called the <em>set of quotients for K</em>.<br><br>\r\n",
    "\r\n",
    "This definition allows us to replace an equivalence of two expressions with an equality. We now have that\r\n",
    "<p style='text-align: center;'><span style=\"font-size:24px\">(</span><sup><em>x</em></sup>&frasl;<sub><em>y</em></sub><span style=\"font-size:24px\">)</span> = \r\n",
    "<span style=\"font-size:24px\">(</span><sup><em>u</em></sup>&frasl;<sub><em>v</em></sub><span style=\"font-size:24px\">)</span>&emsp;if, and only \r\n",
    "if,&ensp;<em>x</em>&middot;<em>v</em> = <em>u</em>&middot;<em>y</em>.</p>\r\n",
    "For example, \r\n",
    "<span style=\"font-size:24px\">(</span><sup><em>x</em>&middot;<em>z</em></sup>&frasl;<sub><em>y</em>&middot;<em>z</em></sub><span style=\"font-size:24px\">)</span> = \r\n",
    "<span style=\"font-size:24px\">(</span><sup><em>x</em></sup>&frasl;<sub><em>y</em></sub><span style=\"font-size:24px\">)</span> \r\n",
    "for any nonzero <em>z</em>, since <em>x</em>&middot;<em>z</em>&middot;<em>y</em> = <em>y</em>&middot;<em>z</em>&middot;<em>x</em>.<br><br>\r\n",
    "\r\n",
    "The next step is to define addition and multiplication on our set of quotients <em>Q</em>. Once again, we will use the rational numbers to guide us in the definition.\r\n",
    "\r\n",
    "<p />\r\n",
    "<a name=\"lem113ret\" id=\"lem113ret\"></a>\r\n",
    "LEMMA 11.3<br>\r\n",
    "Let <em>K</em> be an integral domain, and let <em>Q</em> be the set of quotients for <em>K</em>. The addition and multiplication of two equivalence classed in \r\n",
    "<em>Q</em>, defined by\r\n",
    "<p style='text-align: center;'><span style=\"font-size:24px\">(</span><sup><em>x</em></sup>&frasl;<sub><em>y</em></sub><span style=\"font-size:24px\">)</span> + \r\n",
    "<span style=\"font-size:24px\">(</span><sup><em>u</em></sup>&frasl;<sub><em>v</em></sub><span style=\"font-size:24px\">)</span> = \r\n",
    "<span style=\"font-size:24px\">(</span><sup><em>x</em>&middot;<em>v</em> + <em>u</em>&middot;<em>y</em></sup>&frasl;<sub><em>y</em>&middot;<em>v</em></sub><span \r\n",
    "style=\"font-size:24px\">)</span></p>\r\n",
    "and\r\n",
    "<p style='text-align: center;'><span style=\"font-size:24px\">(</span><sup><em>x</em></sup>&frasl;<sub><em>y</em></sub><span style=\"font-size:24px\">)</span>&middot;<span \r\n",
    "style=\"font-size:24px\">(</span><sup><em>u</em></sup>&frasl;<sub><em>v</em></sub><span style=\"font-size:24px\">)</span> = \r\n",
    "<span style=\"font-size:24px\">(</span><sup><em>x</em>&middot;<em>u</em></sup>&frasl;<sub><em>y</em>&middot;<em>v</em></sub><span style=\"font-size:24px\">)</span></p>\r\n",
    "are both well defined operations on <em>Q</em>. That is, the sum and product do not depend on the choice of the representative elements <nobr>(<em>x</em>, <em>y</em>)</nobr> and \r\n",
    "(<em>u</em>, <em>v</em>) of the equivalence classes.<br><br>\r\n",
    "\r\n",
    "<a href=\"#lem113\">Click here for the proof.</a>\r\n",
    "\r\n",
    "<p />\r\n",
    "Now that we have defined addition and multiplication on the sets of equivalent classes <em>Q</em>, we are ready to show that <em>Q</em> is in fact a <em>field</em>.\r\n",
    "\r\n",
    "<p />\r\n",
    "<a name=\"theor111ret\" id=\"theor111ret\"></a>\r\n",
    "THEOREM 11.1:The Field of Quotients Theorem<br>\r\n",
    "\r\n",
    "Let <em>K</em> be an integral domain, and let <em>Q</em> be the set of quotients for <em>K</em>. Then <em>Q</em> forms a field using the above definitions of addition \r\n",
    "and multiplication. The field <em>Q</em> is called <em>the field of quotients for K</em>.<br><br>\r\n",
    "\r\n",
    "<a href=\"#theor111\">Click here for the proof.</a>\r\n",
    "\r\n",
    "<p />\r\n",
    "Notice that in the construction of the field <em>Q</em>, we never used the identity element of <em>K</em>.  Hence, if we started with a commutative ring without zero \r\n",
    "divisors instead of an integral domain, the construction would still produce a field.  We can mention this as a corollary.\r\n",
    "\r\n",
    "<p />\r\n",
    "COROLLARY 11.1<br>\r\n",
    "Let <em>K</em> be any commutative ring with no zero divisors.  Then the set of quotients <em>Q</em> defined above forms a field.\r\n",
    "\r\n",
    "<p />\r\n",
    "Although the field of quotients was designed from the way we formed rational numbers from the set of integers, we can apply the field of quotients to any other \r\n",
    "integral domain. The only other integral domains that we have worked with so far are the polynomial rings from the last section.  What happens if we form a \r\n",
    "field of quotients for the polynomial ring <em>K</em>[<em>x</em>]? <br><br>\r\n",
    "\r\n",
    "Let us first consider the most familar polynomial ring &#8484;[<em>x</em>]&mdash;the polynomials with integer coefficients.  An element in the field of quotients would \r\n",
    "be of the form <sup><em>p</em>(<em>x</em>)</sup>&frasl;<sub><em>q</em>(<em>x</em>)</sub>, where <em>p</em>(<em>x</em>) and <em>q</em>(<em>x</em>) are polynomials with \r\n",
    "integer coefficients. But we consider two such fractions\r\n",
    "<p style='text-align: center;'>\r\n",
    "<sup><em>p</em>(<em>x</em>)</sup>&frasl;<sub><em>q</em>(<em>x</em>)</sub>&ensp;and&ensp;<sup><em>r</em>(<em>x</em>)</sup>&frasl;<sub><em>s</em>(<em>x</em>)</sub></p>\r\n",
    "to be equivalent if <em>p</em>(<em>x</em>)&middot;<em>s</em>(<em>x</em>) = <em>r</em>(<em>x</em>)&middot;<em>q</em>(<em>x</em>). Thus, if there are any common factors \r\n",
    "between <em>p</em>(<em>x</em>) and <em>q</em>(<em>x</em>), we can cancel them out to produce a simpler, equivalent fraction. <br><br>\r\n",
    "\r\n",
    "For example, the fractions<br>"
   ]
  },
  {
   "cell_type": "code",
   "execution_count": 0,
   "metadata": {
    "collapsed": false
   },
   "outputs": [
   ],
   "source": [
    "var(\"x\")\r\n",
    "A = (3*x^2 + 5*x -2)/(2*x^2 + 7*x + 6); A"
   ]
  },
  {
   "cell_type": "markdown",
   "metadata": {
    "collapsed": false
   },
   "source": [
    "<br>\r\n",
    "and<br>"
   ]
  },
  {
   "cell_type": "code",
   "execution_count": 0,
   "metadata": {
    "collapsed": false
   },
   "outputs": [
   ],
   "source": [
    "B = (3*x^2 - 4*x + 1)/(2*x^2 + x - 3); B"
   ]
  },
  {
   "cell_type": "markdown",
   "metadata": {
    "collapsed": false
   },
   "source": [
    "<br>\r\n",
    "can be seen to be equivalent, since<br>"
   ]
  },
  {
   "cell_type": "code",
   "execution_count": 0,
   "metadata": {
    "collapsed": false
   },
   "outputs": [
   ],
   "source": [
    "expand((3*x^2 + 5*x - 2) * (2*x^2 + x - 3))"
   ]
  },
  {
   "cell_type": "markdown",
   "metadata": {
    "collapsed": false
   },
   "source": [
    "<br>\r\n",
    "and<br>"
   ]
  },
  {
   "cell_type": "code",
   "execution_count": 0,
   "metadata": {
    "collapsed": false
   },
   "outputs": [
   ],
   "source": [
    "expand((3*x^2 - 4*x + 1) * (2*x^2 + 7*x + 6))"
   ]
  },
  {
   "cell_type": "markdown",
   "metadata": {
    "collapsed": false
   },
   "source": [
    "<br>\r\n",
    "are the same.<br><br>\r\n",
    "\r\n",
    "EXPERIMENT:<br>\r\n",
    "Can you find a simpler polynomial that is equivalent to <em>A</em> and <em>B</em>?<br>"
   ]
  },
  {
   "cell_type": "markdown",
   "metadata": {
    "collapsed": false
   },
   "source": [
    "<br>\r\n",
    "We call the field of quotients for the polynomials &#8484;[<em>x</em>] the <em>field of rational functions in x</em>, denoted &#8484;(<em>x</em>). <br><br>\r\n",
    "\r\n",
    "Here two other ways to verify that the two polynomials are equivalent:<br>"
   ]
  },
  {
   "cell_type": "code",
   "execution_count": 0,
   "metadata": {
    "collapsed": false
   },
   "outputs": [
   ],
   "source": [
    "Together(A - B)"
   ]
  },
  {
   "cell_type": "code",
   "execution_count": 0,
   "metadata": {
    "collapsed": false
   },
   "outputs": [
   ],
   "source": [
    "Together(A/B)"
   ]
  },
  {
   "cell_type": "markdown",
   "metadata": {
    "collapsed": false
   },
   "source": [
    "<br>\r\n",
    "The first command obviously shows that <em>A</em> and <em>B</em> are equal.  The second command shows that the quotient of the two polynomials is the identity element, \r\n",
    "hence <em>A</em> and <em>B</em> must represent the same element in the field. <br><br>\r\n",
    "\r\n",
    "It should be mentioned that a rational function, in this context, is not a function! The rational functions <em>A</em> and <em>B</em> are merely <em>elements</em> \r\n",
    "of &#8484;(<em>x</em>), which may in turn be arguments for some homomorphism.  To say that &quot;<em>A</em> is undefined when <em>x</em> = &minus;2&quot; or \r\n",
    "&quot;<em>B</em> is undefined at <em>x</em> = 1&quot; is meaningless, since <em>x</em> is not a variable for which numbers can be plugged in.  Rather, <em>x</em> is merely \r\n",
    "a symbol that is used as a place holder.  This is why we can say that <em>A</em> and <em>B</em> are truely equal, even though the &quot;graphs&quot; would disagree at \r\n",
    "two points.<br><br>\r\n",
    "\r\n",
    "We can form rational functions from any integral domain <em>K</em>.  This produces the field <em>K</em>(<em>x</em>), \r\n",
    "the <em>rational functions in x over K</em>.<br><br>\r\n",
    "\r\n",
    "EXAMPLE:<br>\r\n",
    "Using the field of order 9 that was discovered in the last section,<br>"
   ]
  },
  {
   "cell_type": "code",
   "execution_count": 0,
   "metadata": {
    "collapsed": false
   },
   "outputs": [
   ],
   "source": [
    "InitDomain(3, \"x\")\r\n",
    "AddFieldVar(\"i\")\r\n",
    "Define(i^2, -1)"
   ]
  },
  {
   "cell_type": "markdown",
   "metadata": {
    "collapsed": false
   },
   "source": [
    "<br>\r\n",
    "simplify the following rational function.<br>"
   ]
  },
  {
   "cell_type": "code",
   "execution_count": 0,
   "metadata": {
    "collapsed": false
   },
   "outputs": [
   ],
   "source": [
    "A = (i*x^2 + x^2 + 2*x*i + 2*x + 2)/(x^2 + i*x + 1)"
   ]
  },
  {
   "cell_type": "markdown",
   "metadata": {
    "collapsed": false
   },
   "source": [
    "<br>\r\n",
    "Can <em>Sage</em> factor this over a finite field <em>K</em>? Let us see.<br>"
   ]
  },
  {
   "cell_type": "code",
   "execution_count": 0,
   "metadata": {
    "collapsed": false
   },
   "outputs": [
   ],
   "source": [
    "A"
   ]
  },
  {
   "cell_type": "markdown",
   "metadata": {
    "collapsed": false
   },
   "source": [
    "We see that <em>Sage</em> automatically simplifies the rational function for us.  However, if we consider the simplier looking rational function<br>"
   ]
  },
  {
   "cell_type": "code",
   "execution_count": 0,
   "metadata": {
    "collapsed": false
   },
   "outputs": [
   ],
   "source": [
    "B = (2*x - i)/(x - i*x + i); B"
   ]
  },
  {
   "cell_type": "markdown",
   "metadata": {
    "collapsed": false
   },
   "source": [
    "<br>\r\n",
    "we find that they are equal<br>"
   ]
  },
  {
   "cell_type": "code",
   "execution_count": 0,
   "metadata": {
    "collapsed": false
   },
   "outputs": [
   ],
   "source": [
    "B - A"
   ]
  },
  {
   "cell_type": "markdown",
   "metadata": {
    "collapsed": false
   },
   "source": [
    "<br>\r\n",
    "<em>Sage</em> shows us that these two expressions are the same rational function in <em>K</em>(<em>x</em>)! <br><br>\r\n",
    "\r\n",
    "As you can see from this experiment, the definition of the quotient field does not depend whether elements in the integral domain can be factored uniquely.  \r\n",
    "However, unique factorization is an important property that we will study in depth in chapter 12. We will learn that the polynomial \r\n",
    "ring <em>K</em>[<em>x</em>] used in the above example really <em>does</em> have a type of unique factorization, after we have studied the true definition of what a \r\n",
    "unique factorization is.  But before we go into this, let us look closely at some of the more familiar fields: the rational numbers, the real numbers, and the \r\n",
    "complex numbers. These fields will be the basis for defining many other fields, so it is natural to learn the properties of these fields before going on to study \r\n",
    "more complicated fields.<br><br>\r\n",
    "\r\n",
    "<a name=\"sec113\" id=\"sec113\"></a>\r\n",
    "<h1>Complex Numbers</h1>\r\n",
    "\r\n",
    "<br>\r\n",
    "In this section we will explore the field of complex numbers. Although we will develop this field algebraically, the results of this section have applications in \r\n",
    "many different fields, including differential equations.<br><br>\r\n",
    "\r\n",
    "We are somewhat familar with complex numbers from algebra.  These are numbers of the form <em>a</em> + <em>b i</em> where <em>i</em> represents the &quot;square \r\n",
    "root of negative one.&quot;  <em>Sage</em> can perform all algebraic opperations in complex numbers as easily as it can with real numbers.<br>"
   ]
  },
  {
   "cell_type": "code",
   "execution_count": 0,
   "metadata": {
    "collapsed": false
   },
   "outputs": [
   ],
   "source": [
    "(2 + 3*I) + (4 - I)"
   ]
  },
  {
   "cell_type": "code",
   "execution_count": 0,
   "metadata": {
    "collapsed": false
   },
   "outputs": [
   ],
   "source": [
    "(2 + 3*I)*(4 - I)"
   ]
  },
  {
   "cell_type": "code",
   "execution_count": 0,
   "metadata": {
    "collapsed": false
   },
   "outputs": [
   ],
   "source": [
    "(2 + 3*I)/(4 - I)"
   ]
  },
  {
   "cell_type": "markdown",
   "metadata": {
    "collapsed": false
   },
   "source": [
    "<br>\r\n",
    "However, in this definition it is not at all clear where the &quot;<em>i</em>&thinsp;&quot; came from. This gives the complex numbers a rather mysterious quality that is \r\n",
    "compounded by their common misnomer, &quot;imaginary numbers.&quot;<br><br>\r\n",
    "\r\n",
    "We would like to define the complex numbers in a way that is more realistic.  Instead of considering quantities of the form (<em>a</em> + <em>b i</em>), we will \r\n",
    "consider ordered pairs (<em>a</em>, <em>b</em>).  This identifies the complex numbers with points in the plane, which makes them easier to visualize.<br><br>\r\n",
    "\r\n",
    "Let us declare the following properties for ordered pairs of real numbers:<br><br>\r\n",
    "<table border=0 cellspacing=0 cellpadding=0 width=\"100%\" align=center class=\"equation\">\r\n",
    "  <tr>\r\n",
    "    <td nowrap >1)</td>\r\n",
    "    <td width=\"50%\"></td>\r\n",
    "    <td nowrap>(<em>a</em>, <em>b</em>) = (<em>c</em>, <em>d</em>) if, and only if, <em>a</em> = <em>c</em> and <em>b</em> = <em>d</em>.</td>\r\n",
    "    <td width=\"50%\"></td>\r\n",
    "  </tr>\r\n",
    "</table>\r\n",
    "<br>\r\n",
    "<table border=0 cellspacing=0 cellpadding=0 width=\"100%\" align=center class=\"equation\">\r\n",
    "  <tr>\r\n",
    "    <td nowrap >2)</td>\r\n",
    "    <td width=\"50%\"></td>\r\n",
    "    <td nowrap>(<em>a</em>, <em>b</em>) + (<em>c</em>, <em>d</em>) = (<em>a</em> + <em>c</em>, <em>b</em> + <em>d</em>).</td>\r\n",
    "    <td width=\"50%\"></td>\r\n",
    "  </tr>\r\n",
    "</table>\r\n",
    "<br>\r\n",
    "<table border=0 cellspacing=0 cellpadding=0 width=\"100%\" align=center class=\"equation\">\r\n",
    "  <tr>\r\n",
    "    <td nowrap >3)</td>\r\n",
    "    <td width=\"50%\"></td>\r\n",
    "    <td nowrap>(<em>a</em>, <em>b</em>)&middot;(<em>c</em>, <em>d</em>) = (<em>a</em>&middot;<em>c</em> &minus; <em>b</em>&middot;<em>d</em>, <em>a</em>&middot;<em>d</em> + \r\n",
    "<em>b</em>&middot;<em>c</em>).</td>\r\n",
    "    <td width=\"50%\"></td>\r\n",
    "  </tr>\r\n",
    "</table>\r\n",
    "<br>\r\n",
    "We define &#8450; to be the set of all ordered pairs of real numbers.  Using these three properties, it is not hard to prove the following:\r\n",
    "\r\n",
    "<p />\r\n",
    "<a name=\"prop113ret\" id=\"prop113ret\"></a>\r\n",
    "PROPOSITION 11.3<br>\r\n",
    "\r\n",
    "The set &#8450; forms a field, called the <em>field of complex numbers</em>. This field contains a subfield isomorphic to the real numbers.<br><br>\r\n",
    "\r\n",
    "<a href=\"#prop113\">Click here for the proof.</a>\r\n",
    "\r\n",
    "<p />\r\n",
    "The purpose of constructing the complex numbers was to produce a field for which we can take the square root of negative one. We can now show that we have succeeded in \r\n",
    "doing this.\r\n",
    "\r\n",
    "<p />\r\n",
    "<a name=\"lem114ret\" id=\"lem114ret\"></a>\r\n",
    "LEMMA 11.4<br>\r\n",
    "\r\n",
    "There are exactly two solutions to the equation <em>x</em><sup>2</sup> = (&minus;1, 0) in the field &#8450;, given by (0, &plusmn;1).<br><br>\r\n",
    "\r\n",
    "<a href=\"#lem114\">Click here for the proof.</a>\r\n",
    "\r\n",
    "<p />\r\n",
    "By defining the complex numbers as ordered pairs, we have taken some of the mystery out of the complex numbers.  Lemma 11.4 shows that the square root of negative one \r\n",
    "comes as a natural consequence of the way we defined the product.<br><br>\r\n",
    "\r\n",
    "We can now convert ordered pairs to the customary notation by defining <em>i</em> = (0,1), and identifying the identity element (1,0) with 1. Then any complex \r\n",
    "number (<em>a</em>, <em>b</em>) can be written\r\n",
    "<p style='text-align: center;'>(<em>a</em>, <em>b</em>) = (<em>a</em>, 0) + (0, <em>b</em>) = <em>a</em>&middot;(1, 0) + <em>b</em>&middot; (0, 1) = \r\n",
    "<em>a</em> + <em>b</em> <em>i</em>.</p>\r\n",
    "We can rewrite the rules for addition and multiplication in &#8450; as follows:\r\n",
    "<p style='text-align: center;'>(<em>a</em> + <em>b i</em>) + (<em>c</em> + <em>d i</em>) = (<em>a</em> + <em>c</em>) + (<em>b</em> + <em>d</em>) <em>i</em>.<br><br>\r\n",
    "(<em>a</em> + <em>b i</em>)&middot;(<em>c</em> + <em>d i</em>) = (<em>a</em>&middot;<em>c</em> &minus; <em>b</em>&middot;<em>d</em>) + \r\n",
    "(<em>b</em>&middot;<em>c</em> + <em>a</em>&middot;<em>d</em>) <em>i</em>.</p>\r\n",
    "In working with groups, we found that the group automorphisms revealed many of the important properties of the group.  This will also be true for rings.  Let us extend \r\n",
    "the group automorphisms to apply to rings.<br><br>\r\n",
    "\r\n",
    "DEFINITION 11.5<br>\r\n",
    "A <em>ring automorphism</em> is a one-to-one and onto ring homomorphism that maps a ring to itself.\r\n",
    "\r\n",
    "<p />\r\n",
    "<a name=\"lem115ret\" id=\"lem115ret\"></a>\r\n",
    "LEMMA 11.5<br>The set of all ring automorphisms forms a group.<br><br>\r\n",
    "\r\n",
    "<a href=\"#lem115\">Click here for the proof.</a>\r\n",
    "\r\n",
    "<p />\r\n",
    "The natural question that arises is determining all of the group of ring automorphisms of &#8450;. <br>\r\n",
    "This is in fact a difficult question to answer in general, but if we only consider the automorphisms that <br>\r\n",
    "send each real number to itself, the question becomes easy to answer.\r\n",
    "<p />\r\n",
    "<a name=\"prop114ret\" id=\"prop114ret\"></a>\r\n",
    "PROPOSITION 11.4<br>\r\n",
    "Besides the identity automorphism, there is another automorphism on &#8450;, given by\r\n",
    "<p style='text-align: center;'><em>&#981;</em>(<em>a</em> + <em>b i</em>) = <em>a</em> &minus; <em>b i</em>.</p>\r\n",
    "In fact, these are the only automorphisms for which <em>&#981;</em>(<em>x</em>) = <em>x</em> for all real numbers <em>x</em>.<br><br>\r\n",
    "\r\n",
    "<a href=\"#prop114\">Click here for the proof.</a>\r\n",
    "\r\n",
    "<p />\r\n",
    "The automorphism found in Proposition 11.4 is called the <em>conjugate</em>. The conjugate of <em>z</em> is generally denoted by \r\n",
    "<font style=\"text-decoration:overline\"><em>z</em></font>. That is, if <em>z</em> = <em>a</em> + <em>b i</em>, then\r\n",
    "<p style='text-align: center;'><font style=\"text-decoration:overline\"><em>z</em></font> = <em>&#981;</em>(<em>z</em>) = <em>a</em> &minus; <em>b i</em>.</p>\r\n",
    "We call an element of &#8450; to be <em>real</em> if <font style=\"text-decoration:overline\"><em>z</em></font> = <em>z</em>. \r\n",
    "Clearly the real elements of &#8450; are \r\n",
    "<p style='text-align: center;'>{ <em>x</em> + 0 <em>i</em> | <em>x</em> &isin; &#8477; }.</p>\r\n",
    "These elements are, of course, the image of the mapping found in Proposition 11.3 of the reals into &#8450;.<br><br>\r\n",
    "\r\n",
    "The conjugate automorphism is defined in <em>Sage</em> as<br>"
   ]
  },
  {
   "cell_type": "code",
   "execution_count": 0,
   "metadata": {
    "collapsed": false
   },
   "outputs": [
   ],
   "source": [
    "var('z')\r\n",
    "conjugate(z)"
   ]
  },
  {
   "cell_type": "markdown",
   "metadata": {
    "collapsed": false
   },
   "source": [
    "<br>\r\n",
    "so the conjugate of 3 + 4<em>i</em> is given by:<br>"
   ]
  },
  {
   "cell_type": "code",
   "execution_count": 0,
   "metadata": {
    "collapsed": false
   },
   "outputs": [
   ],
   "source": [
    "conjugate(3 + 4*I)"
   ]
  },
  {
   "cell_type": "markdown",
   "metadata": {
    "collapsed": false
   },
   "source": [
    "<br>\r\n",
    "EXPERIMENT:<br>\r\n",
    "Try multiplying an element by its conjugate.<br>"
   ]
  },
  {
   "cell_type": "code",
   "execution_count": 0,
   "metadata": {
    "collapsed": false
   },
   "outputs": [
   ],
   "source": [
    "(3 + 4*I) * conjugate(3 + 4*I)"
   ]
  },
  {
   "cell_type": "markdown",
   "metadata": {
    "collapsed": false
   },
   "source": [
    "<br>\r\n",
    "Try this with several different elements of &#8450;. What do you observe?<br>"
   ]
  },
  {
   "cell_type": "markdown",
   "metadata": {
    "collapsed": false
   },
   "source": [
    "<br>\r\n",
    "It is an easy computation to prove that the observation found by this experiment holds for all complex numbers:\r\n",
    "<p style='text-align: center;'><em>z</em>&middot;<font style=\"text-decoration:overline\"><em>z</em></font> = \r\n",
    "(<em>a</em> + <em>b i</em>)&middot;(<em>a</em> &minus; <em>b i</em>) =\r\n",
    "<em>a</em><sup>2</sup> + <em>a</em>&middot;<em>b</em>&middot;<em>i</em> &minus; <em>a</em>&middot;<em>b</em>&middot;<em>i</em> &minus; \r\n",
    "<em>b</em><sup>2</sup>&middot;<em>i</em><sup>2</sup> = <em>a</em><sup>2</sup> + <em>b</em><sup>2</sup>.</p>\r\n",
    "Not only is <em>z</em>&middot;<font style=\"text-decoration:overline\"><em>z</em></font> always a real number, but it is also non-negative.  Moreover, there is a \r\n",
    "geometric significance to this formula <em>a</em><sup>2</sup> + <em>b</em><sup>2</sup>. By the Pythagorian theorem, this is the square of the distance from the point \r\n",
    "(<em>a</em>, <em>b</em>) to the origin. Thus, it makes sense to give a special name to the square root \r\n",
    "of <em>z</em>&middot;<font style=\"text-decoration:overline\"><em>z</em></font>.<br><br>\r\n",
    "\r\n",
    "DEFINITION 11.6<br>\r\n",
    "We say the <em>absolute value</em> of a complex number <em>z</em> = <em>a</em> + <em>b i</em> is\r\n",
    "<table align=\"center\" border=\"0\" cellspacing=\"0\" cellpadding=\"0\">\r\n",
    "  <tr>\r\n",
    "    <td></td>\r\n",
    "    <td align=\"center\" valign=\"bottom\">&emsp;<font style=\"text-decoration:underline\">&emsp;&emsp;&ensp;</font></td>\r\n",
    "    <td></td>\r\n",
    "  </tr>\r\n",
    "  <tr>\r\n",
    "    <td>|<em>z</em>| =&ensp;</td>\r\n",
    "    <td align=\"center\" valign=\"top\">&radic; <em>z</em> &middot; <font style=\"text-decoration:overline\"><em>z</em></font></td>\r\n",
    "    <td>.</td>\r\n",
    "  </tr>\r\n",
    "</table>\r\n",
    "<br>\r\n",
    "Since <em>z</em>&middot;<font style=\"text-decoration:overline\"><em>z</em></font> is non-negative real number for all elements of &#8450;, |<em>z</em>| is well defined and \r\n",
    "is non-negative.  The geometric interpretation of |<em>z</em>| is the distance from <nobr>(<em>a</em>, <em>b</em>)</nobr> to the origin. In <em>Sage</em>, the \r\n",
    "function <span style='font-weight: bold;'>abs(z)</span> gives the absolute value for both real and complex numbers.<br>"
   ]
  },
  {
   "cell_type": "code",
   "execution_count": 0,
   "metadata": {
    "collapsed": false
   },
   "outputs": [
   ],
   "source": [
    "abs(3 + 4*I)"
   ]
  },
  {
   "cell_type": "markdown",
   "metadata": {
    "collapsed": false
   },
   "source": [
    "<br>\r\n",
    "The familar property for the absolute value of real numbers holds for all complex numbers as well.\r\n",
    "\r\n",
    "<p />\r\n",
    "<a name=\"prop115ret\" id=\"prop115ret\"></a>\r\n",
    "PROPOSITION 11.5<br>\r\n",
    "\r\n",
    "For any two elements <em>x</em> and <em>y</em> in &#8450;, |<em>x</em>&middot;<em>y</em>| = |<em>x</em>|&middot;|<em>y</em>|.<br><br>\r\n",
    "\r\n",
    "<a href=\"#prop115\">Click here for the proof.</a>\r\n",
    "\r\n",
    "<p />\r\n",
    "Since there is a geometric interpretation of the absolute value, this proposition suggests that there is also a geometric interpretation to the product of two \r\n",
    "complex numbers.<br><br>\r\n",
    " \r\n",
    "From polar coordinates it is known that any point in the plane can be located by knowing its distance <em>r</em> from the origin, and its angle <em>&theta;</em> from \r\n",
    "the positive <em>x</em>-axis. Execute the following command to see a picture.<br>"
   ]
  },
  {
   "cell_type": "code",
   "execution_count": 0,
   "metadata": {
    "collapsed": false
   },
   "outputs": [
   ],
   "source": [
    "PolarPlot()"
   ]
  },
  {
   "cell_type": "markdown",
   "metadata": {
    "collapsed": false
   },
   "source": [
    "<br>\r\n",
    "Since <em>r</em> is the absolute value of (<em>x</em> + <em>y i</em>), perhaps the angle <em>&theta;</em> also is significant to the complex number. By using trigonometry \r\n",
    "in the above figure, we have that\r\n",
    "<p style='text-align: center;'><em>x</em> = <em>r</em> cos <em>&theta;</em>,&emsp;and&emsp;<em>y</em> = <em>r</em> sin <em>&theta;</em>.</p>\r\n",
    "Thus, \r\n",
    "<p style='text-align: center;'><em>x</em> + <em>y i</em> = <em>r</em>(cos <em>&theta;</em> + <em>i</em> sin <em>&theta;</em>).</p>\r\n",
    "This form is called the <em>polar form</em> of the complex number <em>x</em> + <em>y i</em>. We have already seen that <em>r</em> is the absolute value \r\n",
    "of <em>x</em> + <em>y i</em>.  The angle <em>&theta;</em> is called the <em>argument</em> of <em>x</em> + <em>y i</em>.  We can find the argument of a complex number \r\n",
    "in <em>Sage</em> with the command <span style='font-weight: bold;'>arg(z)</span>.<br>"
   ]
  },
  {
   "cell_type": "code",
   "execution_count": 0,
   "metadata": {
    "collapsed": false
   },
   "outputs": [
   ],
   "source": [
    "arg(3 + 4*I)"
   ]
  },
  {
   "cell_type": "markdown",
   "metadata": {
    "collapsed": false
   },
   "source": [
    "<br>\r\n",
    "This angle is approximately<br>"
   ]
  },
  {
   "cell_type": "code",
   "execution_count": 0,
   "metadata": {
    "collapsed": false
   },
   "outputs": [
   ],
   "source": [
    "N(_)"
   ]
  },
  {
   "cell_type": "markdown",
   "metadata": {
    "collapsed": false
   },
   "source": [
    "<br>\r\n",
    "<em>Sage</em> puts the answer in radians, and we will soon understand why radians should always be used in expressing the angle <em>&theta;</em>. <br><br>\r\n",
    "\r\n",
    "Although the absolute value of a complex number is unique, the argument is not uniquely determined. This is because for every angle <em>&theta;</em>, we consider the angles\r\n",
    "<p style='text-align: center;'>&hellip;, <em>&theta;</em> &minus; 6 <em>&pi;</em>, <em>&theta;</em> &minus; 4 <em>&pi;</em>, <em>&theta;</em> &minus; 2 <em>&pi;</em>, \r\n",
    "<em>&theta;</em>, <em>&theta;</em> + 2 <em>&pi;</em>, <em>&theta;</em> + 4 <em>&pi;</em>, <em>&theta;</em> + 6 <em>&pi;</em>, &hellip;.</p>\r\n",
    "All of these angles have the same sine and cosine, and hence are interchangable in the polar coordinate system.  We call these angles <em>coterminal</em>.  The set of \r\n",
    "angles coterminal to <em>&theta;</em> can be writen\r\n",
    "<p style='text-align: center;'>{<em>&theta;</em> + 2 <em>&pi;</em> <em>n</em> | <em>n</em> &isin; &#8484;}.</p>\r\n",
    "<em>Sage</em> always picks <em>&theta;</em> to be between &minus;<em>&pi;</em> and <em>&pi;</em>, but there are times when we need to consider the angles coterminal \r\n",
    "to <em>&theta;</em> as well.<br><br>\r\n",
    "\r\n",
    "For example, let us use <em>Sage</em> to help us find the polar form of &minus;&radic;<font style=\"text-decoration:overline\">3</font> &minus; <em>i</em>.\r\n",
    "The absolute value is given by<br>"
   ]
  },
  {
   "cell_type": "code",
   "execution_count": 0,
   "metadata": {
    "collapsed": false
   },
   "outputs": [
   ],
   "source": [
    "abs(-sqrt(3) - I)"
   ]
  },
  {
   "cell_type": "code",
   "execution_count": 0,
   "metadata": {
    "collapsed": false
   },
   "outputs": [
   ],
   "source": [
    "simplify(_)"
   ]
  },
  {
   "cell_type": "markdown",
   "metadata": {
    "collapsed": false
   },
   "source": [
    "<br>\r\n",
    "while the argument is given by<br>"
   ]
  },
  {
   "cell_type": "code",
   "execution_count": 0,
   "metadata": {
    "collapsed": false
   },
   "outputs": [
   ],
   "source": [
    "arg(-sqrt(3) - I)"
   ]
  },
  {
   "cell_type": "code",
   "execution_count": 0,
   "metadata": {
    "collapsed": false
   },
   "outputs": [
   ],
   "source": [
    "simplify(_)"
   ]
  },
  {
   "cell_type": "markdown",
   "metadata": {
    "collapsed": false
   },
   "source": [
    "<br> \r\n",
    "So <em>Sage</em> has converted the point (&minus;&radic;<font style=\"text-decoration:overline\">3</font>, &minus;1) into polar coordinates, and found that\r\n",
    "<p style='text-align: center;'>&minus;&radic;<font style=\"text-decoration:overline\">3</font> &minus; <em>i</em> = \r\n",
    "2 <span style=\"font-size:24px\">(</span>&minus; <sup>&radic;<font style=\"text-decoration:overline\">3</font></sup>&frasl;<sub>2</sub> &minus; \r\n",
    "<sup><em>i</em></sup>&frasl;<sub>2</sub><span style=\"font-size:24px\">)</span> = \r\n",
    "2 <span style=\"font-size:24px\">(</span> cos<span style=\"font-size:24px\">(</span>&minus;<sup>5<em>&pi;</em></sup>&frasl;<sub>6</sub><span style=\"font-size:24px\">)</span> + \r\n",
    "<em>i</em> sin<span style=\"font-size:24px\">(</span>&minus;<sup>5<em>&pi;</em></sup>&frasl;<sub>6</sub><span style=\"font-size:24px\">) )</span>.</p>\r\n",
    "However, we could have used any coterminal angle instead of the one <em>Sage</em> gave us.  Thus, the following are also polar forms \r\n",
    "of &minus;&radic;<font style=\"text-decoration:overline\">3</font> &minus; <em>i</em>:\r\n",
    "<p style='text-align: center;'>2 \r\n",
    "<span style=\"font-size:24px\">(</span> cos<span style=\"font-size:24px\">(</span><sup>7<em>&pi;</em></sup>&frasl;<sub>6</sub><span style=\"font-size:24px\">)</span> + \r\n",
    "<em>i</em> sin<span style=\"font-size:24px\">(</span><sup>7<em>&pi;</em></sup>&frasl;<sub>6</sub><span style=\"font-size:24px\">) )</span>, &emsp;\r\n",
    "2 <span style=\"font-size:24px\">(</span> cos<span style=\"font-size:24px\">(</span><sup>19<em>&pi;</em></sup>&frasl;<sub>6</sub><span style=\"font-size:24px\">)</span> + \r\n",
    "<em>i</em> sin<span style=\"font-size:24px\">(</span><sup>19<em>&pi;</em></sup>&frasl;<sub>6</sub><span style=\"font-size:24px\">) )</span>, &hellip;.</p>\r\n",
    "There actually will be an infinite number of such expressions.<br><br>\r\n",
    "\r\n",
    "The usefulness of the polar form of a complex number is hinted at by the next lemma. This lemma makes use of the trigonometric identities\r\n",
    "<p style='text-align: center;'>cos(<em>A</em> + <em>B</em>) = cos(<em>A</em>) cos(<em>B</em>) &middot; sin(<em>A</em>) sin(<em>B</em>),&emsp;and&emsp;sin(<em>A</em> + \r\n",
    "<em>B</em>) = sin(<em>A</em>) cos(<em>B</em>) + cos(<em>A</em>) sin(<em>B</em>).</p>\r\n",
    "\r\n",
    "<p />\r\n",
    "<a name=\"lem116ret\" id=\"lem116ret\"></a>\r\n",
    "LEMMA 11.6<br>\r\n",
    "If \r\n",
    "<p style='text-align: center;'><em>z</em><sub>1</sub> = \r\n",
    "<em>r</em><sub>1</sub>( cos <em>&theta;</em><sub>1</sub> + <em>i</em> sin <em>&theta;</em><sub>1</sub>)&emsp;and&emsp;<em>z</em><sub>2</sub> = \r\n",
    "<em>r</em><sub>2</sub>( cos <em>&theta;</em><sub>2</sub> + <em>i</em> sin <em>&theta;</em><sub>2</sub>),</p>\r\n",
    "then \r\n",
    "<p style='text-align: center;'><em>z</em><sub>1</sub>&middot;<em>z</em><sub>2</sub> = \r\n",
    "<em>r</em><sub>1</sub>&middot;<em>r</em><sub>2</sub>( cos(<em>&theta;</em><sub>1</sub> + <em>&theta;</em><sub>2</sub>) + <em>i</em> sin(<em>&theta;</em><sub>1</sub> + \r\n",
    "<em>&theta;</em><sub>2</sub>) ).</p>\r\n",
    "So the argument of the product is the sum of the arguments.<br><br>\r\n",
    "\r\n",
    "<a href=\"#lem116\">Click here for the proof.</a>\r\n",
    "\r\n",
    "<p />\r\n",
    "We can now use induction to prove the following important theorem:\r\n",
    "\r\n",
    "<p />\r\n",
    "<a name=\"theor112ret\" id=\"theor112ret\"></a>\r\n",
    "THEOREM 11.2: De Moivre's Theorem<br>\r\n",
    "\r\n",
    "If <em>n</em> is an integer, and\r\n",
    "<p style='text-align: center;'><em>z</em> = <em>r</em> ( cos <em>&theta;</em> + <em>i</em> sin <em>&theta;</em> )</p>\r\n",
    "is a nonzero complex number in polar form, then \r\n",
    "<p style='text-align: center;'><em>z<sup>n</sup></em> = <em>r<sup>n</sup></em> ( cos(<em>n &theta;</em>) + <em>i</em> sin(<em>n &theta;</em>) ).</p>\r\n",
    "\r\n",
    "<a href=\"#theor112\">Click here for the proof.</a>\r\n",
    "\r\n",
    "<p />\r\n",
    "De Moivre's Theorem (11.2) allows us to quickly raise a complex number to an integer power.<br><br>\r\n",
    "\r\n",
    "EXAMPLE:<br>\r\n",
    "Compute (&minus;&radic;<font style=\"text-decoration:overline\">3</font> &minus; <em>i</em>)<sup>5</sup>.<br><br>\r\n",
    "\r\n",
    "Since\r\n",
    "<table align=\"center\" border=\"0\" cellspacing=\"0\" cellpadding=\"0\">\r\n",
    "  <tr>\r\n",
    "    <td></td>\r\n",
    "    <td align=\"left\" valign=\"bottom\">&ensp;<font style=\"text-decoration:underline\">&emsp;&emsp;&emsp;&emsp;&emsp;&emsp;&emsp;&emsp;</font></td>\r\n",
    "    <td></td>\r\n",
    "  </tr>\r\n",
    "  <tr>\r\n",
    "    <td><em>r</em> =&ensp;</td>\r\n",
    "    <td align=\"center\" valign=\"top\">&radic; (&minus;&radic;<font style=\"text-decoration:overline\">3</font>)&sup2; + (&minus;1)&sup2;</td>\r\n",
    "    <td>&ensp;= 2,</td>\r\n",
    "  </tr>\r\n",
    "</table>\r\n",
    "and <em>&theta;</em> = tan<sup>-1</sup>((&minus;1)/(&minus;&radic;<font style=\"text-decoration:overline\">3</font>)) &minus; <em>&pi;</em> = &minus;5<em>&pi;</em>/6, then\r\n",
    "\r\n",
    "<p style='text-align: center;'>(&minus;&radic;<font style=\"text-decoration:overline\">3</font> &minus; <em>i</em>)<sup>5</sup> = \r\n",
    "2<sup>5</sup><span style=\"font-size:24px\">(</span> \r\n",
    "cos<span style=\"font-size:24px\">(</span>&minus;<sup>25<em>&pi;</em></sup>&frasl;<sub>6</sub><span style=\"font-size:24px\">)</span> + \r\n",
    "<em>i</em> sin<span style=\"font-size:24px\">(</span>&minus;<sup>25<em>&pi;</em></sup>&frasl;<sub>6</sub><span style=\"font-size:24px\">) )</span> = \r\n",
    "32<span style=\"font-size:24px\">(</span><sup>&radic;<font style=\"text-decoration:overline\">3</font></sup>&frasl;<sub>2</sub> &minus; \r\n",
    "<sup><em>i</em></sup>&frasl;<sub>2</sub><span style=\"font-size:24px\">)</span> = 16 &radic;<font style=\"text-decoration:overline\">3</font> &minus; 16 <em>i</em>.</p>\r\n",
    "We can check this result with <em>Sage</em>:<br>"
   ]
  },
  {
   "cell_type": "code",
   "execution_count": 0,
   "metadata": {
    "collapsed": false
   },
   "outputs": [
   ],
   "source": [
    "expand( (-sqrt(3) - I)^5 )"
   ]
  },
  {
   "cell_type": "markdown",
   "metadata": {
    "collapsed": false
   },
   "source": [
    "<br><br>\r\n",
    "EXAMPLE:<br>\r\n",
    "Compute (</span><sup>&radic;<font style=\"text-decoration:overline\">2</font></sup>&frasl;<sub>2</sub> &minus; \r\n",
    "<sup>&radic;<font style=\"text-decoration:overline\">2</font></sup>&frasl;<sub>2</sub> <em>i</em><span style=\"font-size:24px\">)</span><sup>27</sup>.<br><br>\r\n",
    "\r\n",
    "<p style='text-align: center;'><span style=\"font-size:24px\">(</span><sup>&radic;<font style=\"text-decoration:overline\">2</font></sup>&frasl;<sub>2</sub> &minus; \r\n",
    "<sup>&radic;<font style=\"text-decoration:overline\">2</font></sup>&frasl;<sub>2</sub> <em>i</em><span style=\"font-size:24px\">)</span><sup>27</sup> =\r\n",
    "<span style=\"font-size:24px\">(</span> 1 <span style=\"font-size:24px\">(</span> \r\n",
    "cos<span style=\"font-size:24px\">(</span>&minus;<sup><em>&pi;</em></sup>&frasl;<sub>4</sub><span style=\"font-size:24px\">)</span> + \r\n",
    "<em>i</em> sin<span style=\"font-size:24px\">(</span>&minus;<sup><em>&pi;</em></sup>&frasl;<sub>4</sub><span style=\"font-size:24px\">) ) )</span><sup>27</sup> =\r\n",
    "1<sup>27</sup><span style=\"font-size:24px\">(</span> \r\n",
    "cos<span style=\"font-size:24px\">(</span>&minus;<sup>27<em>&pi;</em></sup>&frasl;<sub>4</sub><span style=\"font-size:24px\">)</span> + \r\n",
    "<em>i</em> sin<span style=\"font-size:24px\">(</span>&minus;<sup>27<em>&pi;</em></sup>&frasl;<sub>4</sub><span style=\"font-size:24px\">) )</span> = \r\n",
    "&minus; <sup>&radic;<font style=\"text-decoration:overline\">2</font></sup>&frasl;<sub>2</sub> &minus; \r\n",
    "<sup>&radic;<font style=\"text-decoration:overline\">2</font></sup>&frasl;<sub>2</sub> <em>i</em>.</p>\r\n",
    "This can also be verified using <em>Sage</em>:<br>"
   ]
  },
  {
   "cell_type": "code",
   "execution_count": 0,
   "metadata": {
    "collapsed": false
   },
   "outputs": [
   ],
   "source": [
    "expand( (sqrt(2)/2 - I*sqrt(2)/2)^27 )"
   ]
  },
  {
   "cell_type": "markdown",
   "metadata": {
    "collapsed": false
   },
   "source": [
    "<br>\r\n",
    "We can also use De Moivre's theorem to find the <em>n</em><sup>th</sup> root of 1.  We first define\r\n",
    "<p style='text-align: center;'><em>&omega;<sub>n</sub></em> = \r\n",
    "cos<span style=\"font-size:24px\">(</span><sup>2<em>&pi;</em></sup>&frasl;<sub><em>n</em></sub><span style=\"font-size:24px\">)</span> + \r\n",
    "<em>i</em> sin<span style=\"font-size:24px\">(</span><sup>2<em>&pi;</em></sup>&frasl;<sub><em>n</em></sub><span style=\"font-size:24px\">)</span>.</p>\r\n",
    "For example, <em>&omega;</em><sub>1</sub> = 1, <em>&omega;</em><sub>2</sub> = &minus;1, <em>&omega;</em><sub>3</sub> = \r\n",
    "(&minus;1 + <em>i</em>&radic;<font style=\"text-decoration:overline\">3</font>)/2, and <em>&omega;</em><sub>4</sub> = <em>i</em>.\r\n",
    "From DeMoivre's theorem (11.2), \r\n",
    "<p style='text-align: center;'>(<em>&omega;<sub>n</sub></em>)<sup><em>n</em></sup> = cos(2<em>&pi;</em>) + <em>i</em> sin(2<em>&pi;</em>) = 1.</p>\r\n",
    "So <em>&omega;<sub>n</sub></em> is a <em>n</em><sup>th</sup> root of 1.  In fact, all <em>n</em><sup>th</sup> roots of 1 are given by the numbers <em>&omega;<sub>n</sub></em>, \r\n",
    "<em>&omega;<sub>n</sub></em><sup>2</sup>, <em>&omega;<sub>n</sub></em><sup>3</sup>, &hellip; up to <em>&omega;<sub>n</sub><sup>n</sup></em> = 1.<br><br>\r\n",
    "\r\n",
    "EXAMPLE:<br>\r\n",
    "The eighth root of unity, <em>&omega;</em><sub>8</sub>, is given by \r\n",
    "<p style='text-align: center;'><em>&omega;</em><sub>8</sub> = <span style=\"font-size:24px\">(</span><sup>1</sup>&frasl;<sub>2</sub> + \r\n",
    "<sup><em>i</em></sup>&frasl;<sub>2</sub><span style=\"font-size:24px\">)</span>&radic;<font style=\"text-decoration:overline\">2</font>.</p>\r\n",
    "We can enter this into <em>Sage</em> with the command<br>"
   ]
  },
  {
   "cell_type": "code",
   "execution_count": 0,
   "metadata": {
    "collapsed": false
   },
   "outputs": [
   ],
   "source": [
    "w8 = (1/2 + I/2)*sqrt(2); w8"
   ]
  },
  {
   "cell_type": "markdown",
   "metadata": {
    "collapsed": false
   },
   "source": [
    "<br>\r\n",
    "Then<br>"
   ]
  },
  {
   "cell_type": "code",
   "execution_count": 0,
   "metadata": {
    "collapsed": false
   },
   "outputs": [
   ],
   "source": [
    "w8*w8"
   ]
  },
  {
   "cell_type": "markdown",
   "metadata": {
    "collapsed": false
   },
   "source": [
    "<br>\r\n",
    "simplifies to just <em>i</em>.<br><br>\r\n",
    "\r\n",
    "We can now consider the group generated by <em>&omega;</em><sub>8</sub>:<br>"
   ]
  },
  {
   "cell_type": "code",
   "execution_count": 0,
   "metadata": {
    "collapsed": false
   },
   "outputs": [
   ],
   "source": [
    "G = Group(w8); G"
   ]
  },
  {
   "cell_type": "markdown",
   "metadata": {
    "collapsed": false
   },
   "source": [
    "<br>\r\n",
    "This gives the eight roots of unity, and shows that these elements form a group. In fact, the <em>n</em><sup>th</sup> roots of unity will form a cyclic group \r\n",
    "isomorphic to <em>Z<sub>8</sub></em>.<br><br>\r\n",
    "\r\n",
    "Let us rearrange the elements of <em>G</em><br>"
   ]
  },
  {
   "cell_type": "code",
   "execution_count": 0,
   "metadata": {
    "collapsed": false
   },
   "outputs": [
   ],
   "source": [
    "G = [I, (1/2 + I/2)*sqrt(2), 1, (1/2 - I/2)*sqrt(2), -I, (-1/2 - I/2)*sqrt(2), -1, (-1/2 + I/2)*sqrt(2)]"
   ]
  },
  {
   "cell_type": "markdown",
   "metadata": {
    "collapsed": false
   },
   "source": [
    "<br>\r\n",
    "so that the elements appear in the circle graph as they do in the complex plane. For example, the circle graph which multiplies every element \r\n",
    "by <em>&omega;</em><sub>8</sub> is given by<br>"
   ]
  },
  {
   "cell_type": "code",
   "execution_count": 0,
   "metadata": {
    "collapsed": false
   },
   "outputs": [
   ],
   "source": [
    "CircleGraph(G, Mult(w8))"
   ]
  },
  {
   "cell_type": "markdown",
   "metadata": {
    "collapsed": false
   },
   "source": [
    "<br>\r\n",
    "We are mainly interested in those elements of this subgroup that are generators.<br><br>\r\n",
    "\r\n",
    "DEFINITION 11.7:<br>\r\n",
    "A complex number <em>z</em> is called a <em>primitive</em> <em>n</em><sup>th</sup> root of unity if the powers of <em>z</em> produce all <em>n</em> solutions to the \r\n",
    "equation <em>x<sup>n</sup></em> = 1.<br><br>\r\n",
    "\r\n",
    "It is clear that <em>&omega;<sub>n</sub></em> is a primitive <em>n</em><sup>th</sup> root of unity, but also (<em>&omega;<sub>n</sub></em>)<sup><em>k</em></sup> is \r\n",
    "an <em>n</em><sup>th</sup> root of unity if <em>k</em> and <em>n</em> are coprime. <br><br>\r\n",
    "\r\n",
    "EXPERIMENT:<br>\r\n",
    "By trial and error, determine which elements of <em>G</em> are primitive eighth roots of unity. Note that <em>&omega;</em><sub>8</sub><sup>2</sup> \r\n",
    "is <em>not</em> is primitive eighth root, since the circle graph<br>"
   ]
  },
  {
   "cell_type": "code",
   "execution_count": 0,
   "metadata": {
    "collapsed": false
   },
   "outputs": [
   ],
   "source": [
    "CircleGraph(G, Mult(w8^2))"
   ]
  },
  {
   "cell_type": "markdown",
   "metadata": {
    "collapsed": false
   },
   "source": [
    "<br>\r\n",
    "shows that <em>&omega;</em><sub>8</sub><sup>2</sup> does not generate the group. Replace the 2 in the above example until all primitive eighth roots are found.<br>"
   ]
  },
  {
   "cell_type": "markdown",
   "metadata": {
    "collapsed": false
   },
   "source": [
    "<br>\r\n",
    "EXAMPLE:<br>\r\n",
    "One twelvth root of unity is given by\r\n",
    "<p style='text-align: center;'><em>&omega;</em><sub>12</sub> = <sup>&radic;<font style=\"text-decoration:overline\">3</font></sup>&frasl;<sub>2</sub> + \r\n",
    "<sup><em>i</em></sup>&frasl;<sub>2</sub>.</p>\r\n",
    "Form a circle graphs of the twelvth roots of unity.<br>"
   ]
  },
  {
   "cell_type": "code",
   "execution_count": 0,
   "metadata": {
    "collapsed": false
   },
   "outputs": [
   ],
   "source": [
    "w12 = sqrt(3)/2 + I/2\r\n",
    "H = [I, 1/2 + I*sqrt(3)/2, I/2 + sqrt(3)/2, 1, -I/2 + sqrt(3)/2, 1/2 - I*sqrt(3)/2, -I, -1/2 - I*sqrt(3)/2, -I/2 - sqrt(3)/2, -1, I/2 - sqrt(3)/2, -1/2 + I*sqrt(3)/2]"
   ]
  },
  {
   "cell_type": "code",
   "execution_count": 0,
   "metadata": {
    "collapsed": false
   },
   "outputs": [
   ],
   "source": [
    "CircleGraph(H, Mult(w12^3))"
   ]
  },
  {
   "cell_type": "markdown",
   "metadata": {
    "collapsed": false
   },
   "source": [
    "<br>\r\n",
    "This graph shows that <em>&omega;</em><sub>12</sub><sup>3</sup> = <em>i</em>, and hence this is not a primitive twelve root of unity. But it is not hard to find \r\n",
    "primitive twelve roots from this circle graph.<br><br>\r\n",
    "\r\n",
    "EXPERIMENT:<br>\r\n",
    "Try changing the power in the last command to find all primitive twelvth roots of unity.<br>"
   ]
  },
  {
   "cell_type": "markdown",
   "metadata": {
    "collapsed": false
   },
   "source": [
    "<br>\r\n",
    "Thus, De Moivre's Theorem (11.2) gives us a very fast means of raising complex numbers to integer powers. It is not difficult to imagine that this formula could be used \r\n",
    "to raise a complex number to any real number as well.  But what if we want to consider raising a number to a <em>complex</em> power? Could we somehow use De Moivre's \r\n",
    "Theorem (11.2) to help us find, for example, 2<sup><em>i</em></sup>?<br><br>\r\n",
    "\r\n",
    "First, we need to clarify exactly what we mean by raising an element to the power of an element. Since this is not a standard field operation, it is not surprising to \r\n",
    "learn that in most fields, raising an element to the power of an element is absurd. However, since the complex numbers contain a copy of the real numbers, such a \r\n",
    "concept seems plausible. If we examine how we take powers in the real number system we will discover that we utilize the exponiential function <em>e<sup>x</sup></em> \r\n",
    "to compute quantities such as 2<sup>&radic;<font style=\"text-decoration:overline\">2</font></sup>. We use the fact that\r\n",
    "<p style='text-align: center;'>2 = <em>e</em><sup>ln 2</sup>,&emsp;so&emsp;2<sup>&radic;<font style=\"text-decoration:overline\">2</font></sup> =\r\n",
    "(<em>e</em><sup>ln 2</sup>)<sup>&radic;<font style=\"text-decoration:overline\">2</font></sup> = \r\n",
    "<em>e</em><sup>(ln 2)&radic;<font style=\"text-decoration:overline\">2</font></sup>,</p>\r\n",
    "which is approximately<br>"
   ]
  },
  {
   "cell_type": "code",
   "execution_count": 0,
   "metadata": {
    "collapsed": false
   },
   "outputs": [
   ],
   "source": [
    "N(E^(sqrt(2)*log(2)))"
   ]
  },
  {
   "cell_type": "markdown",
   "metadata": {
    "collapsed": false
   },
   "source": [
    "<br>\r\n",
    "It is clear that if we know how to take the exponential function of a complex number, we will be able to raise any positive number to a complex power.<br><br>\r\n",
    "\r\n",
    "The key algebraic property of the exponiential function is that\r\n",
    "<p style='text-align: center;'><em>e</em><sup><em>x</em>+<em>y</em></sup> = <em>e<sup>x</sup></em>&middot;<em>e<sup>y</sup></em>&emsp;for all&ensp;<em>x</em>, \r\n",
    "<em>y</em> &isin; &#8477;.</p>\r\n",
    "This indicates that the exponiential function is a <em>group</em> homomorphism mapping the additive group of real numbers to the multiplicative group of real numbers. \r\n",
    "The reason we can consider raising an element of the real numbers to the power of an element stems from the existance of a group homomorphism between the additive \r\n",
    "structure and the multiplicative structure. <br><br>\r\n",
    "\r\n",
    "Using this obversation about the real numbers, let us rephase the question. Can we use De Moivre's theorem (11.2) to extend the exponiential function into a \r\n",
    "group homomorphism from the additive structure of &#8450; (denoted &#8450;<sup>+</sup>) to the multiplicative structure &#8450;<sup>*</sup>, thereby allowing us to \r\n",
    "compute expressions such as 2<sup><em>i</em></sup>? <br><br>\r\n",
    "\r\n",
    "If such a group homomorphism exists, then\r\n",
    "<p style='text-align: center;'><em>e</em><sup><em>a</em>+<em>b i</em></sup> = <em>e<sup>a</sup></em>&middot;(<em>e<sup>i</sup></em>)<sup><em>b</em></sup></p>\r\n",
    "so using De Moivre's theorem we can compute the exponential of any complex number (<em>a</em> + <em>b i</em>) where <em>b</em> is an integer, provided we know the value \r\n",
    "of <em>e<sup>i</sup></em>.  Can <em>Sage</em> give us a hint as to what <em>e<sup>i</sup></em> should be? Let's try it.<br>"
   ]
  },
  {
   "cell_type": "code",
   "execution_count": 0,
   "metadata": {
    "collapsed": false
   },
   "outputs": [
   ],
   "source": [
    "E^I"
   ]
  },
  {
   "cell_type": "markdown",
   "metadata": {
    "collapsed": false
   },
   "source": [
    "<br>\r\n",
    "That didn't help much. Let us try looking at the approximation.<br>"
   ]
  },
  {
   "cell_type": "code",
   "execution_count": 0,
   "metadata": {
    "collapsed": false
   },
   "outputs": [
   ],
   "source": [
    "N(E^I)"
   ]
  },
  {
   "cell_type": "markdown",
   "metadata": {
    "collapsed": false
   },
   "source": [
    "<br>\r\n",
    "This at least tells us that <em>e<sup>i</sup></em> is a complex number, but the decimals don't look familar.  What we are really interested in is the absolute value \r\n",
    "and the argument.<br><br>\r\n",
    "\r\n",
    "EXPERIMENT:<br>\r\n",
    "Using <em>Sage</em>, try to determine the <em>exact</em> value for the absolute value and the argument of the number <em>e<sup>i</sup></em>.<br>"
   ]
  },
  {
   "cell_type": "markdown",
   "metadata": {
    "collapsed": false
   },
   "source": [
    "<br>\r\n",
    "Although the absolute value and argument of <em>e<sup>i</sup></em> seem simple enough, there is no way to algebraically <em>prove</em> that these values are correct. \r\n",
    "The reason is simple enough: there are <em>many</em> ways to extend the exponiental function to become a group homomorphism \r\n",
    "from &#8450;<sup>+</sup> to &#8450;<sup>*</sup>. So typically an additional property of the homomorphism is imposed, such as the new function must have the derivative \r\n",
    "equal to itself. However, such additional properties are not algebraic: they all involve calculus in some way. In fact we cannot determine the value \r\n",
    "of <em>e<sup>i</sup></em> without calculus. Problems 11.21 through 11.23 show three ways of using calculus to determining the value of <em>e<sup>i</sup></em>.<br><br>\r\n",
    "\r\n",
    "For now, let us just use our observations from the experiment and assume that\r\n",
    "<p style='text-align: center;'><em>e<sup>i</sup></em> = cos( 1 radian ) + <em>i</em> sin( 1 radian ).</p>\r\n",
    "From this, we have by De Moivre's theorem (11.2) that\r\n",
    "<p style='text-align: center;'><em>e</em><sup><em>a</em>+<em>b i</em></sup> = <em>e<sup>a</sup></em>&middot;(<em>e<sup>i</sup></em>)<sup><em>b</em></sup> = \r\n",
    "<em>e<sup>a</sup></em>&middot;1<sup><em>b</em></sup>&middot;( cos (<em>b</em>&middot;1) + <em>i</em> sin(<em>b</em>&middot;1) ) = \r\n",
    "<em>e<sup>a</sup></em>&middot;( cos <em>b</em> + <em>i</em> sin <em>b</em> )</p>\r\n",
    "whenever <em>b</em> is an integer. It makes sence to define this as the exponiential function for all complex numbers.  Notice that radian measure must be used in \r\n",
    "this formula!\r\n",
    "\r\n",
    "<p />\r\n",
    "<a name=\"prop116ret\" id=\"prop116ret\"></a>\r\n",
    "PROPOSITION 11.6<br>\r\n",
    "For <em>z</em> = <em>a</em> + <em>b i</em>, the function\r\n",
    "<p style='text-align: center;'><em>&fnof;</em>(<em>z</em>) = <em>e<sup>a</sup></em>&middot;( cos <em>b</em> + <em>i</em> sin <em>b</em> )</p>\r\n",
    "defines a group homomorphism from &#8450;<sup>+</sup> to &#8450;<sup>*</sup>, which is an extension of the standard exponiential function.  \r\n",
    "This function is called the <em>complex exponiential function</em>, and is also denoted <em>e<sup>z</sup></em>.<br><br>\r\n",
    "\r\n",
    "<a href=\"#prop116\">Click here for the proof.</a>\r\n",
    "\r\n",
    "<p />\r\n",
    "This allows us another way of expressing <em>&omega;<sub>n</sub></em>.  Notice that\r\n",
    "<p style='text-align: center;'><em>e</em><sup>2<em>&pi;i</em>/<em>n</em></sup> = \r\n",
    "cos<span style=\"font-size:24px\">(</span><sup>2<em>&pi;</em></sup>&frasl;<sub><em>n</em></sub><span style=\"font-size:24px\">)</span> + \r\n",
    "<em>i</em> sin<span style=\"font-size:24px\">(</span><sup>2<em>&pi;</em></sup>&frasl;<sub><em>n</em></sub><span style=\"font-size:24px\">)</span> = <em>&omega;<sub>n</sub></em>.</p>\r\n",
    "So we now have a more succinct way of defining the <em>n</em><sup>th</sup> root of 1.<br><br>\r\n",
    "\r\n",
    "The real exponential function is one-to-one, but is not onto since there is no number for which <em>e<sup>x</sup></em> = &minus;1.  However, the complex exponential \r\n",
    "function <em>is</em> onto, since for every nonzero complex number in polar form, \r\n",
    "<p style='text-align: center;'><em>z</em> = <em>r</em>( cos <em>&theta;</em> + <em>i</em> sin <em>&theta;</em> ),</p>\r\n",
    "there is a complex number whose exponential is <em>z</em>, namely ln(<em>r</em>) + <em>i &theta;</em>. This can be seen by observing that\r\n",
    "<p style='text-align: center;'><em>e</em><sup>(ln <em>r</em>+<em>i &theta;</em>)</sup> = \r\n",
    "<em>e</em><sup>ln <em>r</em></sup>( cos <em>&theta;</em> + <em>i</em> sin <em>&theta;</em> ) = \r\n",
    "<em>r</em>( cos <em>&theta;</em> + <em>i</em> sin <em>&theta;</em> ) = <em>z</em>.</p>\r\n",
    "The drawback of the complex exponential function is that it is <em>not</em> one-to-one! Note that<br>"
   ]
  },
  {
   "cell_type": "code",
   "execution_count": 0,
   "metadata": {
    "collapsed": false
   },
   "outputs": [
   ],
   "source": [
    "E^(2*pi*I)"
   ]
  },
  {
   "cell_type": "markdown",
   "metadata": {
    "collapsed": false
   },
   "source": [
    "<br>\r\n",
    "gives the same result as <em>e</em><sup>0</sup>. This suggests that we should look at the kernal of the group homomorphism, that is, the set of \r\n",
    "all <em>z</em> = <em>x</em> + <em>i y</em> such that\r\n",
    "<p style='text-align: center;'><em>e<sup>z</sup></em> = <em>e</em><sup><em>x</em>+<em>y i</em></sup> = 1.</p>\r\n",
    "It is apparent that <em>x</em> must be 1, cos(<em>y</em>) = 1, and sin(<em>y</em>) = 0.  Thus, the kernal of the complex exponiential function is the set\r\n",
    "<p style='text-align: center;'><em>N</em> = {2 <em>k &pi; i</em> | <em>k</em> &isin; &#8484; }.</p>\r\n",
    "<br>This is, of course, a normal subgroup of the additive group &#8450;<sup>+</sup>.   We can denote this set by <em>N</em> = <em>&fnof;</em><sup>&minus;1</sup>(1).  We can \r\n",
    "similarly define the inverse exponiential for any nonzero number.<br><br>\r\n",
    "  \r\n",
    "DEFINITION 11.8<br>\r\n",
    "For any nonzero complex number <em>z</em>, we define the <em>complex logarithm</em> of <em>z</em>, denoted log(<em>z</em>), to be the set of elements <em>x</em> such \r\n",
    "that <em>e<sup>x</sup></em> = <em>z</em>.<br><br>\r\n",
    "  \r\n",
    "Notice that we use the function ln(<em>x</em>) to denote the <em>real</em> logarithm, while we use log(<em>z</em>) to denote the complex logarithm.<br><br>\r\n",
    "  \r\n",
    "We have already observed that when <em>z</em> is written in polar form,\r\n",
    "<p style='text-align: center;'><em>z</em> = <em>r</em>( cos <em>&theta;</em> + <em>i</em> sin <em>&theta;</em> ),</p>\r\n",
    "that one value of <em>x</em> which satisfies the equation is <em>x</em> = ln(<em>r</em>) + <em>&theta; i</em>. We also know \r\n",
    "that <em>&fnof;</em><sup>&minus;1</sup>(<em>z</em>) will be a coset of the kernal of <em>&fnof;</em>.  Thus, we have\r\n",
    "<p style='text-align: center;'>log(<em>z</em>) = ln(<em>r</em>) + <em>&theta; i</em> + <em>N</em>.</p>\r\n",
    "For example, log(&minus;1) is the set\r\n",
    "<p style='text-align: center;'>{ <em>&pi; i</em> + 2 <em>k &pi; i</em> | <em>k</em> &isin; &#8484; } = \r\n",
    "{&hellip;, &minus;5 <em>&pi; i</em>, &minus;3 <em>&pi; i</em>, &minus;<em>&pi; i</em>, <em>&pi; i</em>, 3 <em>&pi; i</em>, 5 <em>&pi; i</em>, &hellip;}.</p>\r\n",
    "The <em>Sage</em> <strong>log</strong> function works for complex numbers,<br>"
   ]
  },
  {
   "cell_type": "code",
   "execution_count": 0,
   "metadata": {
    "collapsed": false
   },
   "outputs": [
   ],
   "source": [
    "log(I)"
   ]
  },
  {
   "cell_type": "markdown",
   "metadata": {
    "collapsed": false
   },
   "source": [
    "<br>\r\n",
    "but only gives one element of the set.  Thus, we must add the kernal <em>N</em> to this result to obtain the set given by log(<em>z</em>).<br><br>\r\n",
    "\r\n",
    "It is informative to see the graphs of the complex exponiential and complex logarithm. Even though these graphs are really surfaces in four dimensions, we can look at \r\n",
    "the real part and the complex part of the functions separately, giving us two three dimensional graphs. For example, the real part of the exponiential function is \r\n",
    "given by:<br>"
   ]
  },
  {
   "cell_type": "code",
   "execution_count": 0,
   "metadata": {
    "collapsed": false
   },
   "outputs": [
   ],
   "source": [
    "var(\"x y\")"
   ]
  },
  {
   "cell_type": "code",
   "execution_count": 0,
   "metadata": {
    "collapsed": false
   },
   "outputs": [
   ],
   "source": [
    "plot3d(E^x*cos(y), (x,-2,2), (y,-6,6))"
   ]
  },
  {
   "cell_type": "markdown",
   "metadata": {
    "collapsed": false
   },
   "source": [
    "<br>\r\n",
    "The graph of the imaginary part is very similar.<br>"
   ]
  },
  {
   "cell_type": "code",
   "execution_count": 0,
   "metadata": {
    "collapsed": false
   },
   "outputs": [
   ],
   "source": [
    "plot3d(E^x*sin(y), (x,-2,2), (y,-6,6))"
   ]
  },
  {
   "cell_type": "markdown",
   "metadata": {
    "collapsed": false
   },
   "source": [
    "<br>\r\n",
    "The real part of the logarithm function does not depend on which number of the set we pick.  Therefore we can draw a graph of the real part of the logarithm function.<br>"
   ]
  },
  {
   "cell_type": "code",
   "execution_count": 0,
   "metadata": {
    "collapsed": false
   },
   "outputs": [
   ],
   "source": [
    "var(\"t r\")"
   ]
  },
  {
   "cell_type": "code",
   "execution_count": 0,
   "metadata": {
    "collapsed": false
   },
   "outputs": [
   ],
   "source": [
    "parametric_plot3d([r*cos(t), r*sin(t), log(r)], (t, -pi, pi), (r, .01, 3))"
   ]
  },
  {
   "cell_type": "markdown",
   "metadata": {
    "collapsed": false
   },
   "source": [
    "<br>\r\n",
    "This surface looks like a tornado funnel.  Even though there are many values for the imaginary part of the logarithm function, we could consider graphing all possible \r\n",
    "values at once. The result looks like the following graph.<br>"
   ]
  },
  {
   "cell_type": "code",
   "execution_count": 0,
   "metadata": {
    "collapsed": false
   },
   "outputs": [
   ],
   "source": [
    "parametric_plot3d([r*cos(t), r*sin(t), t], (t, -3*pi, 3*pi), (r, 0, 10), plot_points = [75,5])"
   ]
  },
  {
   "cell_type": "markdown",
   "metadata": {
    "collapsed": false
   },
   "source": [
    "<br>\r\n",
    "This graph looks like a multi-level parking garage. Notice that for any ordered pair (<em>x</em>, <em>y</em>), there will be an infinite number of points for \r\n",
    "<em>z</em>. Yet one can travel on this surface from any point to any other point.  The different &quot;levels&quot; of the parking garage correspond to different \r\n",
    "values of the logarithm. <br><br>\r\n",
    "\r\n",
    "Once the logarithm is defined, we can actually define raising any complex number to any complex power!  We simply use the laws of exponients and say that\r\n",
    "<p style='text-align: center;'><em>x<sup>z</sup></em> = (<em>e</em><sup>log(<em>x</em>)</sup>)<sup><em>z</em></sup> = \r\n",
    "<em>e</em><sup><em>z</em>&middot;log(<em>x</em>)</sup>.</p>\r\n",
    "Notice that this gives a <em>set</em> of numbers, not just a single number. In other words, we are to take the set log(<em>x</em>), multiply each element by <em>z</em>, \r\n",
    "and take the exponiential of this collection to get a collection of answers.  Although there will at times be an infinite number of elements in the \r\n",
    "set <em>x<sup>z</sup></em>, this will not always be so.<br><br>\r\n",
    "\r\n",
    "EXPERIMENT:<br><br>\r\n",
    "Use <em>Sage</em> to find some of the elements of the set (8 <em>i</em>)<sup>1/3</sup>.  Consider 5 different values for the logarithm. You may have to \r\n",
    "use <strong>N(_)</strong> to see an approximation of your answers.  What do you observe about the solutions?<br>"
   ]
  },
  {
   "cell_type": "markdown",
   "metadata": {
    "collapsed": false
   },
   "source": [
    "<br>\r\n",
    "The duplications observed in this experiment are not a coincidence.  Whenever <em>z</em> is a real, rational number, there will only be a finite number of possible \r\n",
    "values for <em>x<sup>z</sup></em>.  This is seen by the next proposition.\r\n",
    "\r\n",
    "<p />\r\n",
    "<a name=\"prop117ret\" id=\"prop117ret\"></a>\r\n",
    "PROPOSITION 11.7<br>\r\n",
    "For each integer <em>n</em> &gt; 0, and any nonzero complex number <em>z</em>, then there are exactly <em>n</em> values for <em>z</em><sup>1/<em>n</em></sup>.  Thus, \r\n",
    "there are exactly <em>n</em> solutions for <em>x</em> to the equation <em>x<sup>n</sup></em> = <em>z</em>.<br><br>\r\n",
    "\r\n",
    "<a href=\"#prop117\">Click here for the proof.</a>\r\n",
    "\r\n",
    "<p />\r\n",
    "This last proposition is very useful for finding square roots and cube roots of complex numbers. This turns out to have some important applications in finding the \r\n",
    "roots of real polynomials!  In fact, complex numbers and the functions we have defined in this section have many applications in the real world. The complex \r\n",
    "exponiential function was fundamental to the invention of the short wave radio. The complex logarithm can be used in solving real valued differential equations. \r\n",
    "So even though these numbers are labled &quot;imaginary,&quot; they are by no means just a figment of someone's imagination.<br><br>\r\n",
    "\r\n",
    "<a name=\"sec114\" id=\"sec114\"></a>\r\n",
    "<h1>Ordered Commutative Rings</h1>\r\n",
    "\r\n",
    "<br>\r\n",
    "The integers, the rational numbers, and the real numbers all have one property that most rings do not have&mdash;these three rings have an <em>ordering</em>. That is, \r\n",
    "given two different elements in the ring, we say that one of them is greater than the other.  Most rings do not have such an ordering, but we will find that some rings \r\n",
    "can be ordered in more than one way!  The ordering of a ring can give us new insight into the structure of the ring.<br><br>\r\n",
    "\r\n",
    "We begin by making a formal definition of an ordered ring <em>R</em>.  If there is a way to tell whether one element is greater than another, we should be able to \r\n",
    "distinquish those elements that are greater than zero, called the <em>positive elements</em> <em>P</em>. The main properties of positive numbers that we want to mimic \r\n",
    "is that the sum and product of two positive numbers yields positive numbers.  Thus we have the following definition.<br><br>\r\n",
    "\r\n",
    "DEFINITION 11.9<br>\r\n",
    "A commutative ring <em>R</em> is <em>ordered</em> if there exists a set <em>P</em> such that the three properties hold:<br><br>\r\n",
    "\r\n",
    "1) <em>P</em> is closed under addition.<br><br>\r\n",
    "\r\n",
    "2) <em>P</em> is closed under multiplication.<br><br>\r\n",
    "\r\n",
    "3) For each <em>x</em> in <em>R</em>, one and only one of the following statements is true:\r\n",
    "<p style='text-align: center;'><em>x</em> &isin; <em>P</em>,&emsp;<em>x</em> = 0,&ensp;or&ensp;&minus;<em>x</em> &isin; <em>P</em>.</p>\r\n",
    "The third property is sometimes called the <em>law of trichotomy</em>.  With this law, we can define what it means for one element to be greater than another.<br><br>\r\n",
    "\r\n",
    "DEFINITION 11.10<br>\r\n",
    "We say that <em>x</em> is greater than <em>y</em>, denoted <em>x</em> &gt; <em>y</em>, if <em>x</em> &minus; <em>y</em> &isin; <em>P</em>.\r\n",
    "Likewise, we say that <em>x</em> is smaller than <em>y</em>, denoted <em>x</em> &lt; <em>y</em>, if <em>y</em> &minus; <em>x</em> &isin; <em>P</em>.<br><br>\r\n",
    "\r\n",
    "By the law of trichotomy, either\r\n",
    "<p style='text-align: center;'><em>x</em> &gt; <em>y</em>,&emsp;<em>x</em> &lt; <em>y</em>,&ensp;or&ensp;<em>x</em> = <em>y</em>.</p>\r\n",
    "This notation keeps us from having to constantly refer to the set <em>P</em>. Instead of writing <em>x</em> &isin; <em>P</em>, we can merely \r\n",
    "write <em>x</em> &gt; 0.<br><br>\r\n",
    "\r\n",
    "We begin by proving some simple properties of the &quot;greater than&quot; sign.\r\n",
    "\r\n",
    "<p />\r\n",
    "<a name=\"lem117ret\" id=\"lem117ret\"></a>\r\n",
    "LEMMA 11.7<br>\r\n",
    "If <em>x</em>, <em>y</em>, and <em>z</em> are elements in an ordered ring, then we have the following three properties:<br><br>\r\n",
    "\r\n",
    "1) If <em>x</em> &gt; <em>y</em>, then <em>x</em> + <em>z</em> &gt; <em>y</em> + <em>z</em>.<br><br>\r\n",
    "\r\n",
    "2) If <em>x</em> &gt; <em>y</em> and <em>z</em> &gt; 0, then <em>x</em>&middot;<em>z</em> &gt; <em>y</em>&middot;<em>z</em>.<br><br>\r\n",
    "\r\n",
    "3) If <em>x</em> &gt; <em>y</em> and <em>y</em> &gt; <em>z</em>, then <em>x</em> &gt; <em>z</em>.<br><br>\r\n",
    "\r\n",
    "<a href=\"#lem117\">Click here for the proof.</a>\r\n",
    "\r\n",
    "<p />\r\n",
    "Given a ring that has an ordering, one of the great challenges is determining the set of positive elements <em>P</em>.  Are there any elements of an ordered ring that we \r\n",
    "know <em>must</em> be in <em>P</em>?  Yes, there are at least some elements given by the next proposition.\r\n",
    "\r\n",
    "<p />\r\n",
    "<a name=\"prop118ret\" id=\"prop118ret\"></a>\r\n",
    "PROPOSITION 11.8<br>\r\n",
    "For any nonzero element <em>x</em> in an ordered ring, <em>x</em><sup>2</sup> is in <em>P</em>.<br><br>\r\n",
    "\r\n",
    "<a href=\"#prop118\">Click here for the proof.</a>\r\n",
    "\r\n",
    "<p />\r\n",
    "An immediate consequence of this is that if the ring has an identity <em>e</em>, then <em>e</em> &gt; 0, since <em>e</em> = <em>e</em><sup>2</sup>.  We can prove even \r\n",
    "more.\r\n",
    "\r\n",
    "<p />\r\n",
    "<a name=\"cor112ret\" id=\"cor112ret\"></a>\r\n",
    "COROLLARY 11.2<br>\r\n",
    "If <em>R</em> is an ordered ring with multiplicative identity 1, and <em>n</em> is any positive integer, then <em>n</em>&middot;1 is in <em>P</em>.  In particular, \r\n",
    "the characteristic of <em>R</em> must be 0.<br><br>\r\n",
    "\r\n",
    "<a href=\"#cor112\">Click here for the proof.</a>\r\n",
    "\r\n",
    "<p />\r\n",
    "The standard examples of ordered rings are the integers, the rationals, and the real numbers.  It should be noted that the complex numbers do <em>not</em> form an \r\n",
    "ordered ring, since <em>i</em><sup>2</sup> = &minus;1 < 0, and by Proposition 11.8, any square must be positive.<br><br>\r\n",
    "\r\n",
    "EXAMPLE<br>\r\n",
    "Consider the set\r\n",
    "<p style='text-align: center;'><em>S</em> = {<em>x</em> + <em>y</em>&radic;<font style=\"text-decoration:overline\">2</font> | <em>x</em>, <em>y</em> &isin; &#8484;}.</p>\r\n",
    "We saw in &sect;10.1 that this is a subring of &#8477;.  We will call this ring &#8484;[&radic;<font style=\"text-decoration:overline\">2</font>], the ring formed by ajoining the square root of 2 to &#8484;.  Find a non-standard ordering on this ring.<br><br>\r\n",
    "\r\n",
    "We can verify that the product of two elements of <em>S</em>,<br>"
   ]
  },
  {
   "cell_type": "code",
   "execution_count": 0,
   "metadata": {
    "collapsed": false
   },
   "outputs": [
   ],
   "source": [
    "var(\"x1 x2 y1 y2\")\r\n",
    "expand( (x1 + y1*sqrt(2))*(x2 + y2*sqrt(2)) )"
   ]
  },
  {
   "cell_type": "markdown",
   "metadata": {
    "collapsed": false
   },
   "source": [
    "<br>\r\n",
    "yields a number of the same form.  By propostion 0.5, this ring has no zero divisors, so this is an integral domain.<br><br>\r\n",
    "\r\n",
    "Since all elements of &#8484;[&radic;<font style=\"text-decoration:overline\">2</font>] are real, we could use the standard ordering, letting <em>P</em> consist of all \r\n",
    "numbers that, when viewed as a real number, are positive. But we could order these numbers in a non-standard way!  By Corollary 11.2, the positive integers must be \r\n",
    "in <em>P</em>, but there is no way of proving that the square root of 2 is in <em>P</em>.  (There is no number \r\n",
    "in &#8484;[&radic;<font style=\"text-decoration:overline\">2</font>] whose square is &radic;<font style=\"text-decoration:overline\">2</font>.)  Thus, there is nothing \r\n",
    "preventing us from stating that &radic;<font style=\"text-decoration:overline\">2</font> is negative, and \r\n",
    "therefore &minus;&radic;<font style=\"text-decoration:overline\">2</font> would be in <em>P</em>!  The rest of the elements would be identified as either positive or \r\n",
    "negative accordingly.<br><br>\r\n",
    "\r\n",
    "For example, 1 + &radic;<font style=\"text-decoration:overline\">2</font> would be negative, since\r\n",
    "<p style='text-align: center;'>(1 + &radic;<font style=\"text-decoration:overline\">2</font>)&middot;(1 &minus; \r\n",
    "&radic;<font style=\"text-decoration:overline\">2</font>) = &minus;1 < 0,</p>\r\n",
    "and 1 &minus; &radic;<font style=\"text-decoration:overline\">2</font> is the sum of two positive numbers, so this term is positive.<br><br>\r\n",
    "\r\n",
    "EXPERIMENT:<br>\r\n",
    "If &radic;<font style=\"text-decoration:overline\">2</font> &lt; 0, is 3 + 2&radic;<font style=\"text-decoration:overline\">2</font> positive or negative? <br>\r\n",
    "(Hint: multiply by the &quot;conjugate&quot; as we did in the last example.)<br>"
   ]
  },
  {
   "cell_type": "markdown",
   "metadata": {
    "collapsed": false
   },
   "source": [
    "<br>\r\n",
    "To see what is really going on in this example, it is helpful to look at the ring automorphisms, which were introduced in the last section.The automorphism of \r\n",
    "particular interest is as follows:\r\n",
    "<p style='text-align: center;'><em>&fnof;</em> : &#8484;[&radic;<font style=\"text-decoration:overline\">2</font>] &rarr; \r\n",
    "&#8484;[&radic;<font style=\"text-decoration:overline\">2</font>],</p>\r\n",
    "<p style='text-align: center;'><em>&fnof;</em>(<em>x</em> + <em>y</em>&radic;<font style=\"text-decoration:overline\">2</font>) = \r\n",
    "<em>x</em> &minus; <em>y</em>&radic;<font style=\"text-decoration:overline\">2</font>.</p>\r\n",
    "This automorphism can be defined in <em>Sage</em>.  Since <em>Sage</em> already knows that sqrt(2) &middot; sqrt(2) = 2, we do not need to tell <em>Sage</em> anything to define the ring &#8484;[&radic;<font style=\"text-decoration:overline\">2</font>]!<br><br>\r\n",
    "\r\n",
    "We now can define the homomorphism.  Since this is a field homomorphism on an infinite set of objects, the format is slightly different.<br>"
   ]
  },
  {
   "cell_type": "code",
   "execution_count": 0,
   "metadata": {
    "collapsed": false
   },
   "outputs": [
   ],
   "source": [
    "InitDomain(0)\r\n",
    "F = FieldHomo()\r\n",
    "HomoDef(F, sqrt(2), -sqrt(2))"
   ]
  },
  {
   "cell_type": "markdown",
   "metadata": {
    "collapsed": false
   },
   "source": [
    "<br>\r\n",
    "We do not have to indicate the domain and \r\n",
    "target, since the domain will be the currently defined field, which in this case is a subset of the real numbers.  \r\n",
    "The command <strong>InitDomain(0)</strong> merely clears out any previous fields that have been defined, such as \r\n",
    "the \"complex numbers modulo 3\".<br><br>\r\n",
    "\r\n",
    "Since <em>F</em>(1) must be 1, this is all we \r\n",
    "need to define the homomorphism.  We can check that this is a homomophism with the command<br>"
   ]
  },
  {
   "cell_type": "code",
   "execution_count": 0,
   "metadata": {
    "collapsed": false
   },
   "outputs": [
   ],
   "source": [
    "CheckHomo(F)"
   ]
  },
  {
   "cell_type": "markdown",
   "metadata": {
    "collapsed": false
   },
   "source": [
    "<br>\r\n",
    "We can try this homomorphism out on different numbers.<br>"
   ]
  },
  {
   "cell_type": "code",
   "execution_count": 0,
   "metadata": {
    "collapsed": false
   },
   "outputs": [
   ],
   "source": [
    "F(2 + 3*sqrt(2))"
   ]
  },
  {
   "cell_type": "markdown",
   "metadata": {
    "collapsed": false
   },
   "source": [
    "<br>\r\n",
    "\r\n",
    "What is the relationship between this homomorphism and the unusual ordering that we gave the ring &#8484;[&radic;<font style=\"text-decoration:overline\">2</font>]?  If we \r\n",
    "let <em>P</em> denote the set of positive elements using the &quot;standard&quot; ordering, and let <em>P</em>&prime; be the set of \r\n",
    "positive elements under the unusual ordering we saw above, then\r\n",
    "<p style='text-align: center;'><em>P</em>&prime; = <em>&fnof;</em>(<em>P</em>).</p>\r\n",
    "In fact, for any automorphism <em>&#981;</em> on an ordered ring, we can construct an alternative way to order the ring by \r\n",
    "using <em>&#981;</em><em>(</em><em>P</em><em>)</em> instead of <em>P</em> for the set of positive elements.<br><br>While we are working with the integral \r\n",
    "domain &#8484;[&radic;<font style=\"text-decoration:overline\">2</font>] we might mention what happens if we consider the field of quotients of this ring. Certainly this \r\n",
    "must include all numbers of the form\r\n",
    "<p style='text-align: center;'><em>x</em> + <em>y</em>&radic;<font style=\"text-decoration:overline\">2</font>,&emsp;<em>x</em>, <em>y</em> &isin; &#8474;</p>\r\n",
    "But are there other elements?  We need to check that all non-zero elements of this form have a multiplicative \r\n",
    "inverse.  For example, is<br>"
   ]
  },
  {
   "cell_type": "code",
   "execution_count": 0,
   "metadata": {
    "collapsed": false
   },
   "outputs": [
   ],
   "source": [
    "1/(1 + sqrt(2) )"
   ]
  },
  {
   "cell_type": "markdown",
   "metadata": {
    "collapsed": false
   },
   "source": [
    "<br>\r\n",
    "of this form?  The <strong>Together</strong> command will also rationalize the denominator, so we find that<br>"
   ]
  },
  {
   "cell_type": "code",
   "execution_count": 0,
   "metadata": {
    "collapsed": false
   },
   "outputs": [
   ],
   "source": [
    "Together(1/(1 + sqrt(2)))"
   ]
  },
  {
   "cell_type": "markdown",
   "metadata": {
    "collapsed": false
   },
   "source": [
    "<br>\r\n",
    "produces a number of the correct form.  In fact, by defining two variables <em>a</em> and <em>b</em>, we can find how to take the inverse \r\n",
    "of <em>a</em> + <em>b</em>&radic;<font style=\"text-decoration:overline\">2</font>, by multiplying by <em>a</em> &minus; \r\n",
    "<em>b</em>&radic;<font style=\"text-decoration:overline\">2</font>.<br>"
   ]
  },
  {
   "cell_type": "code",
   "execution_count": 0,
   "metadata": {
    "collapsed": false
   },
   "outputs": [
   ],
   "source": [
    "var(\"a b\")\r\n",
    "expand((a + b*sqrt(2))*(a - b*sqrt(2)))"
   ]
  },
  {
   "cell_type": "markdown",
   "metadata": {
    "collapsed": false
   },
   "source": [
    "<br>\r\n",
    "Since this will be rational whenever <em>a</em> and <em>b</em> are rational, we see that\r\n",
    "\r\n",
    "<br><br>\r\n",
    "<table align=\"center\" border=\"0\" cellspacing=\"0\" cellpadding=\"0\">\r\n",
    "  <tr>\r\n",
    "    <td align=\"center\"><font style=\"text-decoration:underline\">&emsp;&ensp;1&ensp;&emsp;</font></td>\r\n",
    "    <td rowspan = \"2\" align=\"center\">&ensp;=&ensp;</td>\r\n",
    "    <td align=\"center\"><em>a</em> &minus; <em>b</em>&radic;<font style=\"text-decoration:overline\">2</font></td>\r\n",
    "    <td rowspan = \"2\" align=\"center\">.</td>\r\n",
    "  </tr>\r\n",
    "  <tr>\r\n",
    "    <td align=\"center\"><em>a</em> + <em>b</em>&radic;<font style=\"text-decoration:overline\">2</font></td>\r\n",
    "    <td align=\"center\"><font style=\"text-decoration:overline\"><em>a</em>&sup2; &minus; 2<em>b</em>&sup2;</font></td>\r\n",
    "  </tr>\r\n",
    "</table> \r\n",
    "<br>\r\n",
    "By Proposition 0.5, the donominator will not be zero for rational <em>a</em> and <em>b</em>, so this is a field.\r\n",
    "We will call this field &#8474;[&radic;<font style=\"text-decoration:overline\">2</font>].<br><br>\r\n",
    "\r\n",
    "Now that &#8474;[&radic;<font style=\"text-decoration:overline\">2</font>] is defined in <em>Sage</em>, the automorphism <em>&fnof;</em> extends to an automorphism on the \r\n",
    "field &#8474;[&radic;<font style=\"text-decoration:overline\">2</font>].  Thus, the unusual ordering that we gave \r\n",
    "to &#8484;[&radic;<font style=\"text-decoration:overline\">2</font>] should also extend to the field of quotients.  In fact this generally happens, as seen in the \r\n",
    "next proposition.\r\n",
    "\r\n",
    "<p />\r\n",
    "<a name=\"prop119ret\" id=\"prop119ret\"></a>\r\n",
    "PROPOSITION 11.9<br>\r\n",
    "\r\n",
    "Let <em>R</em> be an ordered integral domain, with <em>P</em> the set of positive elements.  Then if <em>Q</em> is the field of quotients on <em>R</em>, then the \r\n",
    "ordering on <em>R</em> can be extended in a unique way to an ordering on <em>Q</em>.  That is, there is a unique set <em>P</em>&thinsp;&prime; that forms an ordering on \r\n",
    "<em>Q</em>, with\r\n",
    "<p style='text-align: center;'><em>p</em> &isin; \r\n",
    "<em>P</em>&emsp;&#10233&emsp;<span style=\"font-size:24px\">(</span><sup><em>p</em></sup>&frasl;<sub>1</sub><span style=\"font-size:24px\">)</span> &isin; \r\n",
    "<em>P</em>&thinsp;&prime;</p>\r\n",
    "\r\n",
    "<a href=\"#prop119\">Click here for the proof.</a>\r\n",
    "\r\n",
    "<p />\r\n",
    "EXAMPLE:<br>\r\n",
    "What if we had considered &#8484;[&#8731;<font style=\"text-decoration:overline\">2</font>] instead of &#8484;[&radic;<font style=\"text-decoration:overline\">2</font>]? We \r\n",
    "can write &#8731;<font style=\"text-decoration:overline\">2</font> as 2<sup>(1/3)</sup> in <em>Sage</em>, and try the <strong>Together</strong> command to see what \r\n",
    "happens.<br>"
   ]
  },
  {
   "cell_type": "code",
   "execution_count": 0,
   "metadata": {
    "collapsed": false
   },
   "outputs": [
   ],
   "source": [
    "Together(1/(1 + 2^(1/3)))"
   ]
  },
  {
   "cell_type": "markdown",
   "metadata": {
    "collapsed": false
   },
   "source": [
    "<br>\r\n",
    "<em>Sage</em> was able to rationalize the denominator, but the result involved 2<sup>(2/3)</sup>.  No wonder, since\r\n",
    "<p style='text-align: center;'>2<sup>(1/3)</sup>&middot;2<sup>(1/3)</sup> = 2<sup>(2/3)</sup>,</p>\r\n",
    "which yields a term we didn't consider.  Thus, we have to include all numbers of the form\r\n",
    "<p style='text-align: center;'><em>x</em> + <em>y</em> &#8731;<font style=\"text-decoration:overline\">2</font> + \r\n",
    "<em>z</em> &#8731;<font style=\"text-decoration:overline\">4</font> &isin; &#8484;[&#8731;<font style=\"text-decoration:overline\">2</font>].</p>\r\n",
    "In <em>Sage</em>, we would enter this as:<br>"
   ]
  },
  {
   "cell_type": "code",
   "execution_count": 0,
   "metadata": {
    "collapsed": false
   },
   "outputs": [
   ],
   "source": [
    "var(\"x y z\")\r\n",
    "x + y*2^(1/3) + z*2^(2/3)"
   ]
  },
  {
   "cell_type": "markdown",
   "metadata": {
    "collapsed": false
   },
   "source": [
    "<br>\r\n",
    "We can check if such expressions are now closed under multiplication:<br>"
   ]
  },
  {
   "cell_type": "code",
   "execution_count": 0,
   "metadata": {
    "collapsed": false
   },
   "outputs": [
   ],
   "source": [
    "var(\"x1 x2 y1 y2 z1 z2\")\r\n",
    "expand( (x1 + y1*2^(1/3) + z1*2^(2/3))*(x2 + y2*2^(1/3) + z2*2^(2/3)) )"
   ]
  },
  {
   "cell_type": "markdown",
   "metadata": {
    "collapsed": false
   },
   "source": [
    "<br>\r\n",
    "This is a mess, but it is clear that the product is in &#8484;[&#8731;<font style=\"text-decoration:overline\">2</font>]. Let us see if we can take inverses.<br>"
   ]
  },
  {
   "cell_type": "code",
   "execution_count": 0,
   "metadata": {
    "collapsed": false
   },
   "outputs": [
   ],
   "source": [
    "Together(1/(1 + 2^(1/3) - 3*2^(2/3)))"
   ]
  },
  {
   "cell_type": "markdown",
   "metadata": {
    "collapsed": false
   },
   "source": [
    "<br>\r\n",
    "It seems like we can take inverses, but it is harder to prove that we can always rationalize the donominator.  Notice that<br>"
   ]
  },
  {
   "cell_type": "code",
   "execution_count": 0,
   "metadata": {
    "collapsed": false
   },
   "outputs": [
   ],
   "source": [
    "var(\"a b c\")\r\n",
    "expand((a + b*2^(1/3) + c*2^(2/3))*(a^2 - 2*b*c + (2*c^2 - a*b)*2^(1/3) + (b^2 - a*c)*2^(2/3)))"
   ]
  },
  {
   "cell_type": "markdown",
   "metadata": {
    "collapsed": false
   },
   "source": [
    "<br>\r\n",
    "will produce a rational number.  Thus,\r\n",
    "<br><br>\r\n",
    "<table align=\"center\" border=\"0\" cellspacing=\"0\" cellpadding=\"0\">\r\n",
    "  <tr>\r\n",
    "    <td align=\"center\"><font style=\"text-decoration:underline\">&ensp;&emsp;&emsp;&emsp;1&emsp;&emsp;&emsp;&ensp;</font></td>\r\n",
    "    <td rowspan = \"2\" align=\"center\">&ensp;=&ensp;</td>\r\n",
    "    <td align=\"center\"><em>a</em>&sup2; &minus; 2 <em>b c</em> + (2 <em>c</em>&sup2; &minus; <em>a b</em>)&#8731;<font style=\"text-decoration:overline\">2</font> + \r\n",
    "    (<em>b</em>&sup2; &minus; <em>a c</em>)&#8731;<font style=\"text-decoration:overline\">4</font></td>\r\n",
    "    <td rowspan = \"2\" align=\"center\">.</td>\r\n",
    "  </tr>\r\n",
    "  <tr>\r\n",
    "    <td align=\"center\"><em>a</em> + <em>b</em>&#8731;<font style=\"text-decoration:overline\">2</font> + <em>c</em>&#8731;<font style=\"text-decoration:overline\">4</font></td>\r\n",
    "    <td align=\"center\"><font style=\"text-decoration:overline\">&ensp;&emsp;&emsp;&emsp;&emsp;<em>a</em>&sup3; + 2 <em>b</em>&sup3; + 4 <em>c</em>&sup3; &minus; \r\n",
    "    6 <em>a b c</em>&emsp;&emsp;&emsp;&emsp;&ensp;</font></td>\r\n",
    "  </tr>\r\n",
    "</table>  \r\n",
    "<br>\r\n",
    "It takes a bit more work to show that the denominator will never be zero when <em>a</em>, <em>b</em>, and <em>c</em> are rational (see Problem 15.)  Once this has been proven, we see that &#8474;[&#8731;<font style=\"text-decoration:overline\">2</font>] is a field.\r\n",
    "\r\n",
    "<br><br>\r\n",
    "Does this field have an unusual ordering, as the field &#8474;[&radic;<font style=\"text-decoration:overline\">2</font>] did?  Note that in this field, \r\n",
    "<p style='text-align: center;'>2 &#8731;<font style=\"text-decoration:overline\">2</font> = (&#8731;<font style=\"text-decoration:overline\">4</font>)<sup>2</sup> > 0.</p>\r\n",
    "So by Proposition 11.8, the cube root of 2 must be positive.  Likewise, 2<sup>(2/3)</sup> must be positive, since it is a perfect square. It seems that there is \r\n",
    "little chance for finding an unusual ordering for this field. To eliminate this chance altogether, note that\r\n",
    "<p style='text-align: center;'>(4 &#8731;<font style=\"text-decoration:overline\">2</font> &minus; 5)(16 &#8731;<font style=\"text-decoration:overline\">4</font> + \r\n",
    "20 &#8731;<font style=\"text-decoration:overline\">2</font> + 25) = 128 &minus; 125 = 3 > 0.</p>\r\n",
    "Hence, we have that 4 &#8731;<font style=\"text-decoration:overline\">2</font> &minus; 5 must be positive, even though numerically it is very close to 0.<br><br>\r\n",
    "\r\n",
    "The reason there is only one way to order this field stems from the fact that there is only one automorphism on this field&mdash;the trivial one. For \r\n",
    "if <em>&fnof;</em> is an automorphism of &#8474;[&#8731;<font style=\"text-decoration:overline\">2</font>], then \r\n",
    "<em>&fnof;</em>(&#8731;<font style=\"text-decoration:overline\">2</font>) must be a number whose cube is 2.  But there is only one such <em>real</em> number, and all \r\n",
    "elements in this field are real.  Thus,\r\n",
    "<p style='text-align: center;'><em>&fnof;</em>(&#8731;<font style=\"text-decoration:overline\">2</font>) = &#8731;<font style=\"text-decoration:overline\">2</font>,</p>\r\n",
    "and therefore <em>&fnof;</em>(<em>x</em>) = <em>x</em> for all <em>x</em> in the field.<br><br>\r\n",
    "\r\n",
    "EXAMPLE:<br>\r\n",
    "Consider the set\r\n",
    "<p style='text-align: center;'><em>S</em> = <span style=\"font-size:24px\">{</span><em>x</em> + <em>y</em> cos<span style=\"font-size:24px\">(</span><sup><em>&pi;</em></sup>&frasl;<sub>9</sub><span \r\n",
    "style=\"font-size:24px\">)</span> + <em>z</em> cos<span style=\"font-size:24px\">(</span><sup>2<em>&pi;</em></sup>&frasl;<sub>9</sub><span style=\"font-size:24px\">) |</span> \r\n",
    "<em>x</em>, <em>y</em>, <em>z</em> &isin; &#8474;<span style=\"font-size:24px\">}</span>.</p>\r\n",
    "Find several possible ways of defining an ordering on this field.<br><br>\r\n",
    "\r\n",
    "To multiply two such numbers together, we need to use some trigometric identities:\r\n",
    "<p style='text-align: center;'>cos<sup>2</sup>(<em>x</em>) = <sup>1</sup>&frasl;<sub>2</sub>( 1 + cos(2<em>x</em>) ),</p>\r\n",
    "<p style='text-align: center;'>cos(<em>x</em>)&middot;cos(<em>y</em>) = \r\n",
    "<sup>1</sup>&frasl;<sub>2</sub>( cos(<em>x</em> + <em>y</em>) + cos(<em>x</em> &minus; <em>y</em>) ),&emsp;and</p>\r\n",
    "<p style='text-align: center;'>cos<span \r\n",
    "style=\"font-size:24px\">(</span><sup>4<em>&pi;</em></sup>&frasl;<sub>9</sub><span style=\"font-size:24px\">)</span> = \r\n",
    "cos<span style=\"font-size:24px\">(</span><sup><em>&pi;</em></sup>&frasl;<sub>9</sub><span style=\"font-size:24px\">)</span> &minus; \r\n",
    "cos<span style=\"font-size:24px\">(</span><sup>2<em>&pi;</em></sup>&frasl;<sub>9</sub><span style=\"font-size:24px\">)</span>.</p>\r\n",
    "\r\n",
    "EXPERIMENT:<br>\r\n",
    "Can you derive the last trig identity from the other two?<br>"
   ]
  },
  {
   "cell_type": "markdown",
   "metadata": {
    "collapsed": false
   },
   "source": [
    "<br>\r\n",
    "<em>Sage</em> is already familiar with these trignometric identities. In fact, the command <strong>TrigReduce</strong> will utilize the above identities to simplify \r\n",
    "a trigonomic expression.  Thus, we can see that the product of two elements of <em>S</em> as follows:<br>"
   ]
  },
  {
   "cell_type": "code",
   "execution_count": 0,
   "metadata": {
    "collapsed": false
   },
   "outputs": [
   ],
   "source": [
    "var(\"x1 x2 y1 y2 z1 z2\")\r\n",
    "TrigReduce( (x1 + y1*cos(pi/9) + z1*cos(2*pi/9) )*(x2 + y2*cos(pi/9) + z2*cos(2*pi/9) ) )"
   ]
  },
  {
   "cell_type": "markdown",
   "metadata": {
    "collapsed": false
   },
   "source": [
    "<br>\r\n",
    "As messy as this is, one can see that it is an element of <em>S</em>, so <em>S</em> is closed under multiplication.  In fact, the set <em>S</em> is a field, but it is very \r\n",
    "difficult to show this.<br><br>\r\n",
    "\r\n",
    "Since the elements of this field are all real there is a natural ordering of the elements of <em>S</em>.  Are there other ways to order this field?  We want to look \r\n",
    "for automorphisms on the field <em>S</em>. But consider the following:<br>"
   ]
  },
  {
   "cell_type": "code",
   "execution_count": 0,
   "metadata": {
    "collapsed": false
   },
   "outputs": [
   ],
   "source": [
    "InitDomain(0)\r\n",
    "F = FieldHomo()"
   ]
  },
  {
   "cell_type": "code",
   "execution_count": 0,
   "metadata": {
    "collapsed": false
   },
   "outputs": [
   ],
   "source": [
    "HomoDef(F, cos(pi/9), - cos(2*pi/9) )\r\n",
    "HomoDef(F, cos(2*pi/9), cos(pi/9) - cos(2*pi/9) )"
   ]
  },
  {
   "cell_type": "markdown",
   "metadata": {
    "collapsed": false
   },
   "source": [
    "<br>\r\n",
    "Is this an automorphism? Let's check.<br>"
   ]
  },
  {
   "cell_type": "code",
   "execution_count": 0,
   "metadata": {
    "collapsed": false
   },
   "outputs": [
   ],
   "source": [
    "CheckHomo(F)"
   ]
  },
  {
   "cell_type": "markdown",
   "metadata": {
    "collapsed": false
   },
   "source": [
    "<br>\r\n",
    "Apparently it is! Furthermore, we could consider the homomorphism <em>&fnof;</em>&thinsp;<sup>2</sup>(<em>x</em>) = <em>&fnof;</em>(<em>&fnof;</em>(<em>x</em>)):<br>"
   ]
  },
  {
   "cell_type": "code",
   "execution_count": 0,
   "metadata": {
    "collapsed": false
   },
   "outputs": [
   ],
   "source": [
    "F(F(cos(pi/9)))"
   ]
  },
  {
   "cell_type": "code",
   "execution_count": 0,
   "metadata": {
    "collapsed": false
   },
   "outputs": [
   ],
   "source": [
    "F(F(cos(2*pi/9)))"
   ]
  },
  {
   "cell_type": "markdown",
   "metadata": {
    "collapsed": false
   },
   "source": [
    "<br>\r\n",
    "This shows that <em>&fnof;</em>&thinsp;<sup>2</sup> is even another automorphism on <em>S</em>.<br><br>\r\n",
    "\r\n",
    "EXPERIMENT:<br>\r\n",
    "If we considered the automorphism <em>&fnof;</em>&thinsp;<sup>3</sup>(<em>x</em>) = <em>&fnof;</em>(<em>&fnof;</em>(<em>&fnof;</em>(<em>x</em>))), would we get yet \r\n",
    "another automorphism?<br>"
   ]
  },
  {
   "cell_type": "markdown",
   "metadata": {
    "collapsed": false
   },
   "source": [
    "<br>\r\n",
    "Are there any automorphisms on the field <em>S</em> besides these?  We can show that there are not.  We will take advantage of the trig identity\r\n",
    "<p style='text-align: center;'>cos(3 <em>x</em>) = 4 cos<sup>3</sup><em>x</em> &minus; 3 cos <em>x</em></p>\r\n",
    "from which we get\r\n",
    "<p style='text-align: center;'><sup>1</sup>&frasl;<sub>2</sub> = cos<span style=\"font-size:24px\">(</span><sup>3<em>&pi;</em></sup>&frasl;<sub>9</sub><span \r\n",
    "style=\"font-size:24px\">)</span> = 4 cos<sup>3</sup><span style=\"font-size:24px\">(</span><sup><em>&pi;</em></sup>&frasl;<sub>9</sub><span \r\n",
    "style=\"font-size:24px\">)</span> &minus; 3 cos<span style=\"font-size:24px\">(</span><sup><em>&pi;</em></sup>&frasl;<sub>9</sub><span style=\"font-size:24px\">)</span>.</p>\r\n",
    "Thus, cos<span style=\"font-size:24px\">(</span><sup><em>&pi;</em></sup>&frasl;<sub>9</sub><span style=\"font-size:24px\">)</span> satisfies the polynomial equation\r\n",
    "<p style='text-align: center;'>4 <em>x</em><sup>3</sup> &minus; 3 <em>x</em> = <sup>1</sup>&frasl;<sub>2</sub>.</p>\r\n",
    "Because <em>&fnof;</em> is an automorphism, we have to have <em>&fnof;</em><span style=\"font-size:24px\">(</span>cos<span \r\n",
    "style=\"font-size:24px\">(</span><sup><em>&pi;</em></sup>&frasl;<sub>9</sub><span style=\"font-size:24px\">) )</span> satisfying the same polynomial equation.  But there are \r\n",
    "only three roots to a cubic equation, and so there are only three possible values for <em>&fnof;</em><span style=\"font-size:24px\">(</span>cos<span \r\n",
    "style=\"font-size:24px\">(</span><sup><em>&pi;</em></sup>&frasl;<sub>9</sub><span style=\"font-size:24px\">) )</span>.  Each of these three solutions produces a \r\n",
    "unique automorphism on <em>S</em>, since\r\n",
    "<p style='text-align: center;'><em>&fnof;</em><span style=\"font-size:24px\">(</span>cos<span \r\n",
    "style=\"font-size:24px\">(</span><sup>2<em>&pi;</em></sup>&frasl;<sub>9</sub><span style=\"font-size:24px\">) )</span> = <em>&fnof;</em><span \r\n",
    "style=\"font-size:24px\">(</span>2 cos<sup>2</sup><span \r\n",
    "style=\"font-size:24px\">(</span><sup><em>&pi;</em></sup>&frasl;<sub>9</sub><span style=\"font-size:24px\">)</span> &minus; 1<span style=\"font-size:24px\">)</span> = \r\n",
    "2 <em>&fnof;</em><span style=\"font-size:24px\">(</span>cos<span \r\n",
    "style=\"font-size:24px\">(</span><sup>2<em>&pi;</em></sup>&frasl;<sub>9</sub><span style=\"font-size:24px\">) )</span><sup>2</sup> &minus; 1.</p>\r\n",
    "By Lemma 11.5, we see that the group of automorphisms of this ring must be isomorphic to <em>Z</em><sub>3</sub>. \r\n",
    "In fact, we can compute<br>"
   ]
  },
  {
   "cell_type": "code",
   "execution_count": 0,
   "metadata": {
    "collapsed": false
   },
   "outputs": [
   ],
   "source": [
    "F(F(F(cos(pi/9))))"
   ]
  },
  {
   "cell_type": "code",
   "execution_count": 0,
   "metadata": {
    "collapsed": false
   },
   "outputs": [
   ],
   "source": [
    "F(F(F(cos(2*pi/9))))"
   ]
  },
  {
   "cell_type": "markdown",
   "metadata": {
    "collapsed": false
   },
   "source": [
    "<br>\r\n",
    "and see that <em>&fnof;</em>(<em>&fnof;</em>(<em>&fnof;</em>(<em>x</em>))) = <em>x</em> for all <em>x</em>.\r\n",
    "\r\n",
    "The three automorphisms give us three ways to define \r\n",
    "an ordering on the field <em>S</em>:<br><br>\r\n",
    "\r\n",
    "1) <em>a</em> &gt;<sub>1</sub> <em>b</em> if <em>a</em> is larger than <em>b</em> as real numbers.<br><br>\r\n",
    "\r\n",
    "2) <em>a</em> &gt;<sub>2</sub> <em>b</em> if <em>&fnof;</em>(<em>a</em>) &gt;<sub>1</sub> <em>&fnof;</em>(<em>b</em>).<br><br>\r\n",
    "\r\n",
    "3) <em>a</em> &gt;<sub>3</sub> <em>b</em> if <em>&fnof;</em>(<em>&fnof;</em>(<em>a</em>)) &gt;<sub>1</sub> <em>&fnof;</em>(<em>&fnof;</em>(<em>b</em>)).<br><br>\r\n",
    "\r\n",
    "EXPERIMENT:<br>\r\n",
    "Comsider the numbers<br>"
   ]
  },
  {
   "cell_type": "code",
   "execution_count": 0,
   "metadata": {
    "collapsed": false
   },
   "outputs": [
   ],
   "source": [
    "A = 1 - 2*cos(pi/9); A"
   ]
  },
  {
   "cell_type": "code",
   "execution_count": 0,
   "metadata": {
    "collapsed": false
   },
   "outputs": [
   ],
   "source": [
    "B = 1 + 3*cos(2*pi/9); B"
   ]
  },
  {
   "cell_type": "markdown",
   "metadata": {
    "collapsed": false
   },
   "source": [
    "<br>\r\n",
    "Are these numbers positive or negative in the three ordering systems?  Can you find a irrational number in <em>S</em> which is positive regardless of which ordering \r\n",
    "is used?<br>"
   ]
  },
  {
   "cell_type": "markdown",
   "metadata": {
    "collapsed": false
   },
   "source": [
    "<br>\r\n",
    "We can actually use the automorphisms to prove that <em>S</em> is a field.  If we let\r\n",
    "<br>"
   ]
  },
  {
   "cell_type": "code",
   "execution_count": 0,
   "metadata": {
    "collapsed": false
   },
   "outputs": [
   ],
   "source": [
    "var(\"a b c\")\r\n",
    "x = a + b*cos(pi/9) + c*cos(2*pi/9); x"
   ]
  },
  {
   "cell_type": "markdown",
   "metadata": {
    "collapsed": false
   },
   "source": [
    "<br>\r\n",
    "we can consider what happens if we multiply the three automorphisms together.<br>"
   ]
  },
  {
   "cell_type": "code",
   "execution_count": 0,
   "metadata": {
    "collapsed": false
   },
   "outputs": [
   ],
   "source": [
    "TrigReduce(x*F(x)*F(F(x)))"
   ]
  },
  {
   "cell_type": "markdown",
   "metadata": {
    "collapsed": false
   },
   "source": [
    "<br>\r\n",
    "We discover that this product will be a rational number!  See Problem 17 for an explanation.  With this, we can see that<br><br>\r\n",
    "<table align=\"center\" border=\"0\" cellspacing=\"0\" cellpadding=\"0\">\r\n",
    "  <tr>\r\n",
    "    <td align=\"center\"><font style=\"text-decoration:underline\">1</font></td>\r\n",
    "    <td rowspan = \"2\" align=\"center\">&ensp;=&ensp;</td>\r\n",
    "    <td align=\"center\"><font style=\"text-decoration:underline\">&emsp;&emsp;&emsp;&emsp;&emsp;&emsp;&emsp;&emsp;&emsp;&emsp;8 \r\n",
    "<em>&fnof;</em>(<em>x</em>)&middot;<em>&fnof;</em>(<em>&fnof;</em>(<em>x</em>))&emsp;&emsp;&emsp;&emsp;&emsp;&emsp;&emsp;&emsp;&emsp;&emsp;</font></td>\r\n",
    "    <td rowspan = \"2\" align=\"center\">&ensp;.</td>\r\n",
    "  </tr>\r\n",
    "  <tr>\r\n",
    "    <td align=\"center\"><em>x</em></td>\r\n",
    "    <td align=\"center\">8<em>a</em>&sup3; &minus; 6<em>ab</em>&sup2; + <em>b</em>&sup3; &minus; 6<em>abc</em> + \r\n",
    "6<em>b</em>&sup2;<em>c</em> &minus; 6<em>ac</em>&sup2; + 3<em>bc</em>&sup2; &minus; <em>c</em>&sup3;</td>\r\n",
    "  </tr>\r\n",
    "</table> \r\n",
    "<br>\r\n",
    "Since we can compute<br>"
   ]
  },
  {
   "cell_type": "code",
   "execution_count": 0,
   "metadata": {
    "collapsed": false
   },
   "outputs": [
   ],
   "source": [
    "TrigReduce(8*F(x)*F(F(x)))"
   ]
  },
  {
   "cell_type": "markdown",
   "metadata": {
    "collapsed": false
   },
   "source": [
    "<br>\r\n",
    "we find that<br><br>\r\n",
    "<table align=\"center\" border=\"0\" cellspacing=\"0\" cellpadding=\"0\">\r\n",
    "  <tr>\r\n",
    "    <td align=\"center\"><font style=\"text-decoration:underline\">1</font></td>\r\n",
    "    <td rowspan = \"2\" align=\"center\">&ensp;=&ensp;</td>\r\n",
    "    <td align=\"center\"><font style=\"text-decoration:underline\">(8<em>a</em>&sup2; &minus; 2<em>b</em>&sup2; &minus; \r\n",
    "2<em>bc</em> &minus; 2<em>c</em>&sup2;) + (8<em>ab</em> + 8<em>bc</em> + 4<em>c</em>&sup2;) cos(<em>&pi;</em>/9) + \r\n",
    "(4<em>b</em>&sup2; &minus; 8<em>ac</em> &minus; 4 <em>c</em>&sup2;) cos(2<em>&pi;</em>/9)</font></td>\r\n",
    "    <td rowspan = \"2\" align=\"center\">&ensp;.</td>\r\n",
    "  </tr>\r\n",
    "  <tr>\r\n",
    "    <td align=\"center\"><em>x</em></td>\r\n",
    "    <td align=\"center\">8<em>a</em>&sup3; &minus; 6<em>ab</em>&sup2; + <em>b</em>&sup3; &minus; 6<em>abc</em> + \r\n",
    "6<em>b</em>&sup2;<em>c</em> &minus; 6<em>ac</em>&sup2; + 3<em>bc</em>&sup2; &minus; <em>c</em>&sup3;</td>\r\n",
    "  </tr>\r\n",
    "</table> \r\n",
    "<br>\r\n",
    "\r\n",
    "We have seen that some fields may have many ways of assigning an order to the elements, while others have only 1.  The key \r\n",
    "is the number of ring automorphisms.  These ring automorphisms will play a major role in the following chapters.\r\n",
    "\r\n",
    "\r\n",
    "<br><br><br><br><br><br><br><br><br><br><br><br><br><br><br><br><br><br><br><br><br><br><br><br><br><br><br><br><br><br><br><br><br><br><br><br><br><br><br><br><br><br>\r\n",
    "\r\n",
    "<h1>Proofs:</h1>\r\n",
    "\r\n",
    "<a name=\"lem111\" id=\"lem111\"></a>\r\n",
    "\r\n",
    "Proof of Lemma 11.1:<br><br>\r\n",
    "\r\n",
    "Let <em>A</em> be a polynomial of degree <em>m</em>,\r\n",
    "<p style='text-align: center;'><em>A</em> = <em>a</em><sub>0</sub> + <em>a</em><sub>1</sub> <em>x</em> + <em>a</em><sub>2</sub> <em>x</em><sup>2</sup> + \r\n",
    "<em>a</em><sub>3</sub> <em>x</em><sup>3</sup> + &#8943; + <em>a<sub>m</sub></em> <em>x<sup>m</sup></em></p>\r\n",
    "and <em>B</em> be a polynomial of degree <em>n</em>,\r\n",
    "<p style='text-align: center;'><em>B</em> = <em>b</em><sub>0</sub> + <em>b</em><sub>1</sub> <em>x</em> + <em>b</em><sub>2</sub> <em>x</em><sup>2</sup> + \r\n",
    "<em>b</em><sub>3</sub> <em>x</em><sup>3</sup> + &#8943; + <em>b<sub>n</sub></em> <em>x<sup>n</sup></em>.</p>\r\n",
    "Here, <em>a<sub>m</sub></em> and <em>b<sub>n</sub></em> are nonzero elements of <em>K</em>. The product is determined by\r\n",
    "<br><br>\r\n",
    "<table align=\"center\" border=\"0\" cellspacing=\"0\" cellpadding=\"0\">\r\n",
    "  <tr>\r\n",
    "    <td></td>\r\n",
    "    <td align=\"center\">&infin;</td>\r\n",
    "    <td align=\"center\">&infin;</td>\r\n",
    "    <td></td>\r\n",
    "  </tr>\r\n",
    "  <tr>\r\n",
    "    <td align=\"right\"><em>A</em>&middot;<em>B</em> =</td>\r\n",
    "    <td align=\"center\" valign=\"bottom\">&thinsp;<font face=\"Times New Roman, Times, serif\" size=\"+4\">&sum;</font>&thinsp;</td>\r\n",
    "    <td align=\"center\" valign=\"bottom\">&thinsp;<font face=\"Times New Roman, Times, serif\" size=\"+4\">&sum;</font>&thinsp;</td>\r\n",
    "    <td ><em>a<sub>i</sub></em>&middot;<em>b<sub>j</sub></em> <em>x</em><sup><em>i</em>+<em>j</em></sup>.</td>\r\n",
    "  </tr>\r\n",
    "  <tr>\r\n",
    "    <td></td>\r\n",
    "    <td align=\"center\" valign=\"top\">&thinsp;<em>i</em>=0&thinsp;</td>\r\n",
    "    <td align=\"center\" valign=\"top\">&thinsp;<em>j</em>=0&thinsp;</td>\r\n",
    "    <td></td>\r\n",
    "  </tr>\r\n",
    "</table>\r\n",
    "<br>\r\n",
    "Note that <em>a<sub>i</sub></em> and <em>b<sub>j</sub></em> are zero for <em>i</em> &gt; <em>m</em> and <em>j</em> &gt; <em>n</em>. \r\n",
    "If <em>i</em> + <em>j</em> &gt; <em>m</em> + <em>n</em>, either <em>i</em> &gt; <em>m</em> or <em>j</em> <em>&gt;</em> <em>n</em>, and in either \r\n",
    "case <em>a<sub>i</sub></em>&middot;<em>b<sub>j</sub></em> = 0.   Thus, there are no nonzero terms in <em>A</em>&middot;<em>B</em> with coefficients larger \r\n",
    "than <em>m</em> + <em>n</em>.<br><br> \r\n",
    "\r\n",
    "However, if <em>i</em> + <em>j</em> = <em>m</em> + <em>n</em>, the only nonzero term would be the one coming from <em>i</em> = <em>m</em> and <em>j</em> = <em>n</em>, \r\n",
    "giving\r\n",
    "<p style='text-align: center;'><em>a<sub>m</sub></em>&middot;<em>b<sub>n</sub></em> <em>x</em><sup><em>m</em>+<em>n</em></sup>.</p>\r\n",
    "Since there are no zero divisors in <em>K</em>, <em>a<sub>m</sub></em>&middot;<em>b<sub>n</sub></em> is nonzero, so <em>A</em>&middot;<em>B</em> is a polynomial of \r\n",
    "degree <em>m</em> + <em>n</em>.<br><br>\r\n",
    "\r\n",
    "Next we turn our attention to <em>A</em> + <em>B</em>. We may assume without loss of generality that <em>m</em> is no more than <em>n</em>. Then the sum of <em>A</em> \r\n",
    "and <em>B</em> can be expressed as\r\n",
    "<p style='text-align: center;'>(<em>a</em><sub>0</sub> + <em>b</em><sub>0</sub>) + (<em>a</em><sub>1</sub> + <em>b</em><sub>1</sub>) <em>x</em> + \r\n",
    "(<em>a</em><sub>2</sub> + <em>b</em><sub>2</sub>) <em>x</em><sup>2</sup> + &#8943; + (<em>a<sub>m</sub></em> + <em>b<sub>m</sub></em>) <em>x<sup>m</sup></em> + \r\n",
    "<em>b</em><sub><em>m</em>+1</sub> <em>x</em><sup><em>m</em>+1</sup> + &#8943; + <em>b<sub>n</sub></em> <em>x<sup>n</sup></em>.</p>\r\n",
    "If <em>m</em> &lt; <em>n</em>, this clearly is a polynomial with degree <em>n</em>.  Even if <em>m</em> = <em>n</em>, this still gives a polynomial whose degree cannot \r\n",
    "be more than <em>n</em>.<br><br>\r\n",
    " \r\n",
    "<a href=\"#lem111ret\">Return to text</a>\r\n",
    "\r\n",
    "<br><br><br><br><br><br><br><br><br><br><br><br><br><br><br><br><br><br><br><br><br><br><br><br><br><br><br><br><br><br><br><br><br><br><br><br><br><br><br><br><br><br>\r\n",
    " \r\n",
    "<a name=\"prop111\" id=\"prop111\"></a>\r\n",
    "\r\n",
    "Proof of Proposition 11.1:<br><br>\r\n",
    " \r\n",
    "We have seen that <em>K</em>[<em>x</em>] is closed under addition and multiplication.  By the commutativity of <em>K</em>, addition and multiplication are \r\n",
    "obviously commutative.  It is also clear that the zero polynomial acts as the additive identity in <em>K</em>[<em>x</em>].  Also, the additive inverse of \r\n",
    "<p style='text-align: center;'><em>A</em> = <em>a</em><sub>0</sub> + <em>a</em><sub>1</sub> <em>x</em> + <em>a</em><sub>2</sub> <em>x</em><sup>2</sup> + \r\n",
    "<em>a</em><sub>3</sub> <em>x</em><sup>3</sup> + &#8943;</p>\r\n",
    "is given by\r\n",
    "<p style='text-align: center;'>&minus;<em>A</em> = (&minus;<em>a</em><sub>0</sub>) + (&minus;<em>a</em><sub>1</sub>) <em>x</em> + \r\n",
    "(&minus;<em>a</em><sub>2</sub>) <em>x</em><sup>2</sup> + (&minus;<em>a</em><sub>3</sub>) <em>x</em><sup>3</sup> + &#8943;</p>\r\n",
    "since the sum of these two polynomials is\r\n",
    "<p style='text-align: center;'><em>A</em> + (&minus;<em>A</em>) = 0 + 0 <em>x</em> + 0 <em>x</em><sup>2</sup> + 0 <em>x</em><sup>3</sup> + &#8943; = 0.</p>\r\n",
    "<br>\r\n",
    "The polynomial with <em>b</em><sub>0</sub> = 1, and <em>b<sub>j</sub></em> = 0 for all positive <em>j</em>,\r\n",
    "<p style='text-align: center;'><em>I</em> = 1 + 0 <em>x</em> + 0 <em>x</em><sup>2</sup> + 0 <em>x</em><sup>3</sup> + &#8943;,</p>\r\n",
    "acts as the multiplicative identity, since\r\n",
    "<table align=\"center\" border=\"0\" cellspacing=\"0\" cellpadding=\"0\">\r\n",
    "  <tr>\r\n",
    "    <td></td>\r\n",
    "    <td align=\"center\">&infin;</td>\r\n",
    "    <td align=\"center\">&infin;</td>\r\n",
    "    <td></td>\r\n",
    "    <td align=\"center\">&infin;</td>\r\n",
    "    <td></td>\r\n",
    "  </tr>\r\n",
    "  <tr>\r\n",
    "    <td align=\"right\"><em>I</em>&middot;<em>A</em> = <em>A</em>&middot;<em>I</em> = </td>\r\n",
    "    <td align=\"center\" valign=\"bottom\">&thinsp;<font face=\"Times New Roman, Times, serif\" size=\"+4\">&sum;</font>&thinsp;</td>\r\n",
    "    <td align=\"center\" valign=\"bottom\">&thinsp;<font face=\"Times New Roman, Times, serif\" size=\"+4\">&sum;</font>&thinsp;</td>\r\n",
    "    <td ><em>a<sub>i</sub></em>&middot;<em>b<sub>j</sub></em> <em>x</em><sup><em>i</em>+<em>j</em></sup> = </td>\r\n",
    "    <td align=\"center\" valign=\"bottom\">&thinsp;<font face=\"Times New Roman, Times, serif\" size=\"+4\">&sum;</font>&thinsp;</td>\r\n",
    "    <td><em>a<sub>i</sub></em>&middot; 1 <em>x<sup>i</sup></em> = <em>A</em>.</td>\r\n",
    "  </tr>\r\n",
    "  <tr>\r\n",
    "    <td></td>\r\n",
    "    <td align=\"center\" valign=\"top\">&thinsp;<em>i</em>=0&thinsp;</td>\r\n",
    "    <td align=\"center\" valign=\"top\">&thinsp;<em>j</em>=0&thinsp;</td>\r\n",
    "    <td></td>\r\n",
    "    <td align=\"center\" valign=\"top\"><em>i</em>=0</td>\r\n",
    "    <td></td>    \r\n",
    "  </tr>\r\n",
    "</table>\r\n",
    "<br>\r\n",
    "To check associativity of addition and multiplication, we need three polynomials\r\n",
    "<br><br>\r\n",
    "<table align = \"center\" border=\"0\">\r\n",
    "  <tr>\r\n",
    "    <td><em>A</em> = <em>a</em><sub>0</sub> + <em>a</em><sub>1</sub> <em>x</em> + <em>a</em><sub>2</sub> <em>x</em><sup>2</sup> + \r\n",
    "<em>a</em><sub>3</sub> <em>x</em><sup>3</sup> + &#8943;,</td>\r\n",
    "  </tr>\r\n",
    "  <tr>\r\n",
    "    <td><em>B</em> = <em>b</em><sub>0</sub> + <em>b</em><sub>1</sub> <em>x</em> + <em>b</em><sub>2</sub> <em>x</em><sup>2</sup> + \r\n",
    "<em>b</em><sub>3</sub> <em>x</em><sup>3</sup> + &#8943;,&emsp;and</td>\r\n",
    "  </tr>\r\n",
    "  <tr>\r\n",
    "    <td><em>C</em> = <em>c</em><sub>0</sub> + <em>c</em><sub>1</sub> <em>x</em> + <em>c</em><sub>2</sub> <em>x</em><sup>2</sup> + \r\n",
    "<em>c</em><sub>3</sub> <em>x</em><sup>3</sup> + &#8943;.</td>\r\n",
    "  </tr>\r\n",
    "</table>\r\n",
    "\r\n",
    "Then\r\n",
    "<p style='text-align: center;'>(<em>A</em> + <em>B</em>) + <em>C</em> = (<em>a</em><sub>0</sub> + <em>b</em><sub>0</sub>) + <em>c</em><sub>0</sub> + \r\n",
    "((<em>a</em><sub>1</sub> + <em>b</em><sub>1</sub>) + <em>c</em><sub>1</sub>) <em>x</em> + \r\n",
    "((<em>a</em><sub>2</sub> + <em>b</em><sub>2</sub>) + <em>c</em><sub>2</sub>) <em>x</em><sup>2</sup> + &#8943;<br> =\r\n",
    "<em>a</em><sub>0</sub> + (<em>b</em><sub>0</sub> + <em>c</em><sub>0</sub>) + \r\n",
    "(<em>a</em><sub>1</sub> + (<em>b</em><sub>1</sub> + <em>c</em><sub>1</sub>)) <em>x</em> + \r\n",
    "(<em>a</em><sub>2</sub> + (<em>b</em><sub>2</sub> + <em>c</em><sub>2</sub>)) <em>x</em><sup>2</sup> + &#8943; = <em>A</em> + (<em>B</em> + <em>C</em>).</p>\r\n",
    "Also,\r\n",
    "<table align=\"center\"  border=\"0\" cellspacing=\"0\" cellpadding=\"0\">\r\n",
    "  <tr>\r\n",
    "    <td></td>\r\n",
    "    <td align=\"center\">&#9115;</td>\r\n",
    "    <td align=\"center\" valign=\"bottom\">&infin;</td>\r\n",
    "    <td align=\"center\" valign=\"bottom\">&infin;</td>\r\n",
    "    <td></td>\r\n",
    "    <td align=\"center\">&#9118;</td>\r\n",
    "    <td></td>\r\n",
    "    <td align=\"center\" valign=\"bottom\">&infin;</td>\r\n",
    "    <td align=\"center\" valign=\"bottom\">&infin;</td>\r\n",
    "    <td align=\"center\" valign=\"bottom\">&infin;</td>\r\n",
    "    <td></td>\r\n",
    "    <td align=\"center\" valign=\"bottom\">&infin;</td>\r\n",
    "    <td align=\"center\" valign=\"bottom\">&infin;</td>\r\n",
    "    <td align=\"center\" valign=\"bottom\">&infin;</td>\r\n",
    "    <td></td>\r\n",
    "  </tr>\r\n",
    "  <tr>\r\n",
    "    <td rowspan = \"3\" align=\"right\"><em>A</em>&middot;(<em>B</em>&middot;<em>C</em>) = <em>A</em>&middot;</td>\r\n",
    "    <td align=\"center\">&#9116;</td>\r\n",
    "    <td rowspan = \"3\" align=\"center\"><font face=\"Times New Roman, Times, serif\" size=\"+4\">&sum;</font></td>\r\n",
    "    <td rowspan = \"3\" align=\"center\"><font face=\"Times New Roman, Times, serif\" size=\"+4\">&sum;</font></td>\r\n",
    "    <td rowspan = \"3\"><em>b<sub>j</sub></em>&middot;<em>c<sub>k</sub></em> <em>x</em><sup><em>j</em>+<em>k</em></sup></td>\r\n",
    "    <td align=\"center\">&#9119;</td>\r\n",
    "    <td rowspan = \"3\">&ensp;=</td>\r\n",
    "    <td rowspan = \"3\" align=\"center\"><font face=\"Times New Roman, Times, serif\" size=\"+4\">&sum;</font></td>\r\n",
    "    <td rowspan = \"3\" align=\"center\"><font face=\"Times New Roman, Times, serif\" size=\"+4\">&sum;</font></td>\r\n",
    "    <td rowspan = \"3\" align=\"center\"><font face=\"Times New Roman, Times, serif\" size=\"+4\">&sum;</font></td>\r\n",
    "    <td rowspan = \"3\"><em>a<sub>i</sub></em>&middot;(<em>b<sub>j</sub></em>&middot;<em>c<sub>k</sub></em>) <em>x</em><sup><em>i</em>+<em>j</em>+<em>k</em></sup> = </td>\r\n",
    "    <td rowspan = \"3\" align=\"center\"><font face=\"Times New Roman, Times, serif\" size=\"+4\">&sum;</font></td>\r\n",
    "    <td rowspan = \"3\" align=\"center\"><font face=\"Times New Roman, Times, serif\" size=\"+4\">&sum;</font></td>\r\n",
    "    <td rowspan = \"3\" align=\"center\"><font face=\"Times New Roman, Times, serif\" size=\"+4\">&sum;</font></td>\r\n",
    "    <td rowspan = \"3\" align=\"center\">(<em>a<sub>i</sub></em>&middot;<em>b<sub>j</sub></em>)&middot;<em>c<sub>k</sub></em> <em>x</em><sup><em>i</em>+<em>j</em>+<em>k</em></sup> = (<em>A</em>&middot;<em>B</em>)&middot;<em>C</em>.</td>\r\n",
    "  </tr>\r\n",
    "  <tr>\r\n",
    "    <td align=\"center\">&#9116;</td>\r\n",
    "    <td align=\"center\">&#9119;</td>\r\n",
    "  </tr>\r\n",
    "  <tr>\r\n",
    "    <td align=\"center\">&#9116;</td>\r\n",
    "    <td align=\"center\">&#9119;</td>\r\n",
    "  </tr>\r\n",
    "  <tr>\r\n",
    "    <td></td>\r\n",
    "    <td align=\"center\">&#9117;</td>\r\n",
    "    <td align=\"center\" valign=\"top\">&thinsp;<em>j</em>=0&thinsp;</td>\r\n",
    "    <td align=\"center\" valign=\"top\">&thinsp;<em>k</em>=0&thinsp;</td>\r\n",
    "    <td></td>\r\n",
    "    <td align=\"center\">&#9120;</td> \r\n",
    "    <td></td>\r\n",
    "    <td align=\"center\" valign=\"top\">&thinsp;<em>i</em>=0&thinsp;</td>\r\n",
    "    <td align=\"center\" valign=\"top\">&thinsp;<em>j</em>=0&thinsp;</td>\r\n",
    "    <td align=\"center\" valign=\"top\">&thinsp;<em>k</em>=0&thinsp;</td>\r\n",
    "    <td></td>\r\n",
    "    <td align=\"center\" valign=\"top\">&thinsp;<em>i</em>=0&thinsp;</td>\r\n",
    "    <td align=\"center\" valign=\"top\">&thinsp;<em>j</em>=0&thinsp;</td>\r\n",
    "    <td align=\"center\" valign=\"top\">&thinsp;<em>k</em>=0&thinsp;</td> \r\n",
    "    <td></td>   \r\n",
    "  </tr>\r\n",
    "</table>\r\n",
    "\r\n",
    "<br>\r\n",
    "The two distributive laws are also easy to verify using the summation notation.\r\n",
    "<br><br>\r\n",
    "<table align=\"center\"  border=\"0\" cellspacing=\"0\" cellpadding=\"0\">\r\n",
    "  <tr>\r\n",
    "    <td></td>\r\n",
    "    <td align=\"center\">&#9115;</td>\r\n",
    "    <td align=\"center\" valign=\"bottom\">&infin;</td>\r\n",
    "    <td></td>\r\n",
    "    <td align=\"center\">&#9118;</td>\r\n",
    "    <td></td>\r\n",
    "    <td align=\"center\" valign=\"bottom\">&infin;</td>\r\n",
    "    <td align=\"center\" valign=\"bottom\">&infin;</td>\r\n",
    "    <td></td>\r\n",
    "    <td align=\"center\" valign=\"bottom\">&infin;</td>\r\n",
    "    <td align=\"center\" valign=\"bottom\">&infin;</td>\r\n",
    "    <td></td>\r\n",
    "  </tr>\r\n",
    "  <tr>\r\n",
    "    <td rowspan = \"3\" align=\"right\"><em>A</em>&middot;(<em>B</em> + <em>C</em>) = <em>A</em>&middot;</td>\r\n",
    "    <td align=\"center\">&#9116;</td>\r\n",
    "    <td rowspan = \"3\" align=\"center\"><font face=\"Times New Roman, Times, serif\" size=\"+4\">&sum;</font></td>\r\n",
    "    <td rowspan = \"3\">(<em>b<sub>j</sub></em> + <em>c<sub>j</sub></em>) <em>x<sup>j</sup></em></td>\r\n",
    "    <td align=\"center\">&#9119;</td>\r\n",
    "    <td rowspan = \"3\">&ensp;=</td>\r\n",
    "    <td rowspan = \"3\" align=\"center\"><font face=\"Times New Roman, Times, serif\" size=\"+4\">&sum;</font></td>\r\n",
    "    <td rowspan = \"3\" align=\"center\"><font face=\"Times New Roman, Times, serif\" size=\"+4\">&sum;</font></td>\r\n",
    "    <td rowspan = \"3\"><em>a<sub>i</sub></em>&middot;(<em>b<sub>j</sub></em> + <em>c<sub>j</sub></em>) <em>x</em><sup><em>i</em>+<em>j</em></sup> = \r\n",
    "    <td rowspan = \"3\" align=\"center\"><font face=\"Times New Roman, Times, serif\" size=\"+4\">&sum;</font></td>\r\n",
    "    <td rowspan = \"3\" align=\"center\"><font face=\"Times New Roman, Times, serif\" size=\"+4\">&sum;</font></td>\r\n",
    "    <td rowspan = \"3\" align=\"center\">(<em>a<sub>i</sub></em>&middot;<em>b<sub>j</sub></em> + <em>a<sub>i</sub></em>&middot;<em>c<sub>j</sub></em>) <em>x</em><sup><em>i</em>+<em>j</em></sup></td>    \r\n",
    "  </tr>\r\n",
    "  <tr>\r\n",
    "    <td align=\"center\">&#9116;</td>\r\n",
    "    <td align=\"center\">&#9119;</td>\r\n",
    "  </tr>\r\n",
    "  <tr>\r\n",
    "    <td align=\"center\">&#9116;</td>\r\n",
    "    <td align=\"center\">&#9119;</td>\r\n",
    "  </tr>\r\n",
    "  <tr>\r\n",
    "    <td></td>\r\n",
    "    <td align=\"center\">&#9117;</td>\r\n",
    "    <td align=\"center\" valign=\"top\"><em>j</em>=0</td>\r\n",
    "    <td></td>\r\n",
    "    <td align=\"center\">&#9120;</td> \r\n",
    "    <td></td>\r\n",
    "    <td align=\"center\" valign=\"top\">&thinsp;<em>i</em>=0&thinsp;</td>\r\n",
    "    <td align=\"center\" valign=\"top\">&thinsp;<em>j</em>=0&thinsp;</td>\r\n",
    "    <td></td>\r\n",
    "    <td align=\"center\" valign=\"top\">&thinsp;<em>i</em>=0&thinsp;</td>\r\n",
    "    <td align=\"center\" valign=\"top\">&thinsp;<em>j</em>=0&thinsp;</td>\r\n",
    "    <td></td>        \r\n",
    "  </tr>\r\n",
    "</table>\r\n",
    "<table align=\"center\"  border=\"0\" cellspacing=\"0\" cellpadding=\"0\">\r\n",
    "  <tr>\r\n",
    "\t<td></td>\r\n",
    "    <td align=\"center\" valign=\"bottom\">&infin;</td>\r\n",
    "    <td align=\"center\" valign=\"bottom\">&infin;</td>\r\n",
    "    <td></td>\r\n",
    "    <td align=\"center\" valign=\"bottom\">&infin;</td>\r\n",
    "    <td align=\"center\" valign=\"bottom\">&infin;</td>\r\n",
    "  </tr>\r\n",
    "  <tr>\r\n",
    "\t<td>=</td>  \r\n",
    "\t<td align=\"center\"><font face=\"Times New Roman, Times, serif\" size=\"+4\">&sum;</font></td>\r\n",
    "    <td align=\"center\"><font face=\"Times New Roman, Times, serif\" size=\"+4\">&sum;</font></td>\r\n",
    "    <td><em>a<sub>i</sub></em>&middot;<em>b<sub>j</sub></em> <em>x</em><sup><em>i</em>+<em>j</em></sup> + </td>\r\n",
    "    <td align=\"center\"><font face=\"Times New Roman, Times, serif\" size=\"+4\">&sum;</font></td>\r\n",
    "    <td align=\"center\"><font face=\"Times New Roman, Times, serif\" size=\"+4\">&sum;</font></td>\r\n",
    "    <td align=\"center\"><em>a<sub>i</sub></em>&middot;<em>c<sub>j</sub></em> <em>x</em><sup><em>i</em>+<em>j</em></sup>= <em>A</em>&middot;<em>B</em> + <em>A</em>&middot;<em>C</em>.</td>\r\n",
    "  </tr>\r\n",
    "  <tr>\r\n",
    "    <td></td>   \r\n",
    "    <td align=\"center\" valign=\"top\">&thinsp;<em>i</em>=0&thinsp;</td>\r\n",
    "    <td align=\"center\" valign=\"top\">&thinsp;<em>j</em>=0&thinsp;</td>\r\n",
    "    <td></td>\r\n",
    "    <td align=\"center\" valign=\"top\">&thinsp;<em>i</em>=0&thinsp;</td>\r\n",
    "    <td align=\"center\" valign=\"top\">&thinsp;<em>j</em>=0&thinsp;</td>\r\n",
    "    <td></td>   \t  \r\n",
    "  </tr>\r\n",
    "</table>\r\n",
    "\r\n",
    "<br>\r\n",
    "We can use the fact that multiplication is commutative to show that (<em>A</em> + <em>B</em>)&middot;<em>C</em> = \r\n",
    "<em>A</em>&middot;<em>C</em> + <em>B</em>&middot;<em>C</em>. Thus, <em>K</em>[<em>x</em>] is a commutative ring with identity.<br><br>\r\n",
    "\r\n",
    "Next, let us show that <em>K</em>[<em>x</em>] has no zero divisors. Suppose that <em>A</em>&middot;<em>B</em> = 0, with both <em>A</em> and <em>B</em> being nonzero \r\n",
    "polynomials.  Say that <em>A</em> has degree <em>m</em> and <em>B</em> has degree <em>n</em>.  Then by Lemma 11.1 <em>A</em>&middot;<em>B</em> has \r\n",
    "degree <em>m</em> + <em>n</em>, which is impossible if either <em>m</em> or <em>n</em> were positive.  But if <em>A</em> and <em>B</em> are constant polynomials, \r\n",
    "then <nobr><em>a</em><sub>0</sub>&middot;<em>b</em><sub>0</sub> = 0,</nobr> which would indicate that either <em>a</em><sub>0</sub> or <em>b</em><sub>0</sub> is 0, since <em>K</em> \r\n",
    "has no zero divisors. Thus, either <em>A</em> or <em>B</em> would have to be 0, so we have that <em>K</em>[<em>x</em>] has no zero divisors.<br><br>\r\n",
    "\r\n",
    "Finally, let us show that <em>K</em>[<em>x</em>] is not a field by showing that the polynomial (1 + <em>x</em>) is not invertible.  Suppose that there was a \r\n",
    "polynomial <em>A</em> such that <nobr><em>A</em>&middot;(1 + <em>x</em>) = 1.</nobr>  Then <em>A</em> is not 0, so suppose <em>A</em> has degree <em>m</em>.  Then by Lemma 11.1, we \r\n",
    "have <em>m</em> + 1 = 0, telling us <em>m</em> = &minus;1, which is impossible. Thus, (1 + <em>x</em>) has no inverse in <em>K</em>[<em>x</em>], and therefore \r\n",
    "<em>K</em>[<em>x</em>] is an integral domain.<br><br> \r\n",
    " \r\n",
    "<a href=\"#prop111ret\">Return to text</a>\r\n",
    "\r\n",
    "<br><br><br><br><br><br><br><br><br><br><br><br><br><br><br><br><br><br><br><br><br><br><br><br><br><br><br><br><br><br><br><br><br><br><br><br><br><br><br><br><br><br>\r\n",
    " \r\n",
    "<a name=\"prop112\" id=\"prop112\"></a>\r\n",
    "\r\n",
    "Proof of Proposition 11.2:<br><br> \r\n",
    " \r\n",
    "Suppose that <em>n x</em> = 0 for some nonzero <em>x</em> in <em>R</em>.  Then for any other nonzero element <em>y</em> of <em>R</em>, \r\n",
    "<p style='text-align: center;'>0 = (<em>n x</em>)&middot;<em>y</em> = <em>n</em> (<em>x</em>&middot;<em>y</em>) = \r\n",
    "<em>x</em>&middot;(<em>n y</em>).</p>\r\n",
    "<br>But <em>x</em> is nonzero, and the ring has no zero-divisors, so we have <em>n y</em> = 0.  This argument works in both ways, so\r\n",
    "<br><br> \r\n",
    "<table border=0 cellspacing=0 cellpadding=0 width=\"100%\" align=center class=\"equation\">\r\n",
    "  <tr>\r\n",
    "    <td nowrap >(*)</td>\r\n",
    "    <td width=\"49%\"></td>\r\n",
    "    <td nowrap><em>n x</em> = 0&emsp;&#10234;&emsp;<em>n y</em> = \r\n",
    "0&emsp;if&emsp;<em>x</em> &ne; 0 and <em>y</em> &ne; 0.</td>\r\n",
    "    <td width=\"51%\"></td>\r\n",
    "  </tr>\r\n",
    "</table>\r\n",
    "<br>\r\n",
    "If <em>n</em> was not zero, then |<em>n</em>| would be a positive number such that <em>n x</em> = 0 for all <em>x</em> in the ring.  Hence, if the ring \r\n",
    "has characteristic 0, then <em>n x</em> = 0 implies that either <em>x</em> = 0 or <em>n</em> = 0.<br><br>\r\n",
    "  \r\n",
    "Now suppose that the ring has positive characteristic, and let <em>x</em> be any nonzero element of <em>R</em>.  Let <em>p</em> be the smallest positive integer for \r\n",
    "which <em>p x</em> = 0. If <em>p</em> is not prime, then <em>p a</em>&middot;<em>b</em>, with 0 &lt; <em>a</em> &lt; <em>p</em> and \r\n",
    "0 &lt; <em>b</em> &lt; <em>p</em>. But then\r\n",
    "</p>\r\n",
    "<p style='text-align: center;'>(<em>a x</em>)&middot;(<em>b x</em>) = (<em>a b</em>)&middot;(<em>x</em><sup>2</sup>) = \r\n",
    "(<em>p x</em>)&middot;<em>x</em> = 0&middot;<em>x</em> = 0.</p>\r\n",
    "Since the ring has no zero divisors, either <em>a x</em> = 0 or <em>b x</em> = 0.  But this contradicts the fact that <em>p</em> was \r\n",
    "the <em>smallest</em> number such that <em>p x</em> = 0. Thus, <em>p</em> is prime. By (*) we have that <em>p y</em> = 0 \r\n",
    "for <em>every</em> element in <em>R</em>,  and since this cannot be true for any smaller integer, we have that the characteristic of the ring is the \r\n",
    "prime number <em>p</em>.<br><br>\r\n",
    "\r\n",
    "It is easy to see that if <em>n</em> is a multiple of <em>p</em>, then <em>n</em> = <em>c p</em> for some integer <em>c</em>.  Thus, for any element \r\n",
    "<em>x</em> in <em>R</em>,\r\n",
    "<p style='text-align: center;'><em>n x</em> = (<em>c p</em>)&middot;<em>x</em> = <em>c</em>&middot;(<em>p x</em>) = \r\n",
    "<em>c</em>&middot;0 = 0.</p>\r\n",
    "Suppose that <em>n x</em> = 0 for some <em>n</em> that is not a multiple of <em>p</em>. Then gcd(<em>n</em>, <em>p</em>) must be 1, and so by the \r\n",
    "greatest common divisor theorem (0.4), there are integers <em>u</em> and <em>v</em> such that <em>u n</em> + <em>v p</em> = 1.  But then\r\n",
    "<p style='text-align: center;'><em>x</em> = 1 <em>x</em> = (<em>u n</em> + <em>v p</em>) <em>x</em> = \r\n",
    "<em>u</em> (<em>n x</em>) + <em>v</em> (<em>p x</em>) = <em>u</em>&middot;0 + <em>v</em>&middot;0 = 0.</p>\r\n",
    "So for nonzero <em>x</em>, <em>n x</em> = 0 if, and only if, <em>n</em> is a multiple of <em>p</em>.<br><br>\r\n",
    " \r\n",
    "<a href=\"#prop112ret\">Return to text</a>\r\n",
    "\r\n",
    "<br><br><br><br><br><br><br><br><br><br><br><br><br><br><br><br><br><br><br><br><br><br><br><br><br><br><br><br><br><br><br><br><br><br><br><br><br><br><br><br><br><br>\r\n",
    " \r\n",
    "<a name=\"lem112\" id=\"lem112\"></a>\r\n",
    "\r\n",
    "Proof of Lemma 11.2:<br><br> \r\n",
    "\r\n",
    "We need to show that the relation is reflexive, symmetric, and transitive. Let (<em>x</em> ,<em>y</em>), (<em>u</em>, <em>v</em>), and (<em>s</em>, <em>t</em>) be \r\n",
    "arbitrary elements of <em>P</em>.<br><br>\r\n",
    "\r\n",
    "Reflexive:\r\n",
    "<p style='text-align: center;'>(<em>x</em>, <em>y</em>) &equiv; (<em>x</em>, <em>y</em>)</p>\r\n",
    "is equivalent to saying <em>x</em>&middot;<em>y</em> = <em>x</em>&middot;<em>y</em>, which is, of course, true. So this relation is reflexive.<br><br>\r\n",
    "\r\n",
    "Symmetric:\r\n",
    "<p style='text-align: center;'>(<em>x</em>, <em>y</em>) &equiv; (<em>u</em>, <em>v</em>)&emsp;&#10233;&emsp;<em>x</em>&middot;<em>v</em> = \r\n",
    "<em>y</em>&middot;<em>u</em>&emsp;&#10233;&emsp;<em>u</em>&middot;<em>y</em> = <em>v</em>&middot;<em>x</em>&emsp;&#10233;&emsp;(<em>u</em>, <em>v</em>) &equiv; \r\n",
    "(<em>x</em>, <em>y</em>),</p>\r\n",
    "so this relation is also symmetric. <br><br>\r\n",
    "\r\n",
    "Transitive:<br>\r\n",
    "If (<em>x</em>, <em>y</em>) &equiv; (<em>u</em>, <em>v</em>) and (<em>u</em>, <em>v</em>) &equiv; (<em>s</em>, <em>t</em>), then\r\n",
    "<p style='text-align: center;'>(<em>x</em>, <em>y</em>) &equiv; (<em>u</em>, <em>v</em>)&emsp;&#10233;&emsp;<em>x</em>&middot;<em>v</em> = \r\n",
    "<em>y</em>&middot;<em>u</em>&emsp;&#10233;&emsp;<em>x</em>&middot;<em>v</em>&middot;<em>t</em> = <em>y</em>&middot;<em>u</em>&middot;<em>t</em>,<br>\r\n",
    "(<em>u</em>, <em>v</em>) &equiv; (<em>s</em>, <em>t</em>)&emsp;&#10233;&emsp;<em>u</em>&middot;<em>t</em> = \r\n",
    "<em>v</em>&middot;<em>s</em>&emsp;&#10233;&emsp;<em>u</em>&middot;<em>t</em>&middot;<em>y</em> = <em>v</em>&middot;<em>s</em>&middot;<em>y</em>.</p>\r\n",
    "These two statements imply that <em>x</em>&middot;<em>v</em>&middot;<em>t</em> = <em>v</em>&middot;<em>s</em>&middot;<em>y</em>.  Notice that in the last step we had to \r\n",
    "use the commutativity of multiplication.  Using commutativity again, we \r\n",
    "have <em>x</em>&middot;<em>t</em>&middot;<em>v</em> = <em>y</em>&middot;<em>s</em>&middot;<em>v</em>, and since <em>K</em> has no zero divisors and <em>v</em> is nonzero, \r\n",
    "we can use Lemma 9.4 to say that <em>x</em>&middot;<em>t</em> = <em>y</em>&middot;<em>s</em>. Then\r\n",
    "<p style='text-align: center;'><em>x</em>&middot;<em>t</em> = <em>y</em>&middot;<em>s</em>&emsp;&#10233;&emsp;(<em>x</em>, <em>y</em>) &equiv; (<em>s</em>, <em>t</em>),</p>\r\n",
    "so we have the transitive law holding. Therefore, this relation is an equivalence relation.<br><br>\r\n",
    "\r\n",
    "<a href=\"#lem112ret\">Return to text</a>\r\n",
    "\r\n",
    "<br><br><br><br><br><br><br><br><br><br><br><br><br><br><br><br><br><br><br><br><br><br><br><br><br><br><br><br><br><br><br><br><br><br><br><br><br><br><br><br><br><br>\r\n",
    " \r\n",
    "<a name=\"lem113\" id=\"lem113\"></a>\r\n",
    "\r\n",
    "Proof of Lemma 11.3:<br><br> \r\n",
    " \r\n",
    "The first observation we need to make is that the formulas for the sum and product both form valid elements of <em>Q</em>, since <em>y</em><em>&middot;</em><em>v</em> \r\n",
    "is nonzero as long as <em>y</em> and <em>v</em> are both nonzero. <br><br>\r\n",
    "\r\n",
    "Next let us work to show that addition does not depend on the choice of representative elements (<em>x</em>, <em>y</em>) and (<em>u</em>, <em>v</em>).  That is, if \r\n",
    "<span style=\"font-size:24px\">(</span><sup><em>x</em></sup>&frasl;<sub><em>y</em></sub><span style=\"font-size:24px\">)</span> = \r\n",
    "<span style=\"font-size:24px\">(</span><sup><em>a</em></sup>&frasl;<sub><em>b</em></sub><span style=\"font-size:24px\">)</span>, and\r\n",
    "<span style=\"font-size:24px\">(</span><sup><em>u</em></sup>&frasl;<sub><em>v</em></sub><span style=\"font-size:24px\">)</span> = \r\n",
    "<span style=\"font-size:24px\">(</span><sup><em>c</em></sup>&frasl;<sub><em>d</em></sub><span style=\"font-size:24px\">)</span>,\r\n",
    "we need to show that \r\n",
    "<p style='text-align: center;'><span style=\"font-size:24px\">(</span><sup><em>x</em></sup>&frasl;<sub><em>y</em></sub><span style=\"font-size:24px\">)</span> + \r\n",
    "<span style=\"font-size:24px\">(</span><sup><em>u</em></sup>&frasl;<sub><em>v</em></sub><span style=\"font-size:24px\">)</span> = \r\n",
    "<span style=\"font-size:24px\">(</span><sup><em>a</em></sup>&frasl;<sub><em>b</em></sub><span style=\"font-size:24px\">)</span> +\r\n",
    "<span style=\"font-size:24px\">(</span><sup><em>c</em></sup>&frasl;<sub><em>d</em></sub><span style=\"font-size:24px\">)</span>.</p>\r\n",
    "That is, we have to prove that \r\n",
    "<p style='text-align: center;'><span style=\"font-size:24px\">(</span><sup><em>x</em>&middot;<em>v</em> + \r\n",
    "<em>u</em>&middot;<em>y</em></sup>&frasl;<sub><em>y</em>&middot;<em>v</em></sub><span style=\"font-size:24px\">)</span> = \r\n",
    "<span style=\"font-size:24px\">(</span><sup><em>a</em>&middot;<em>d</em> + <em>c</em>&middot;<em>b</em></sup>&frasl;<sub><em>b</em>&middot;<em>d</em></sub><span \r\n",
    "style=\"font-size:24px\">)</span>.</p>\r\n",
    "Since \r\n",
    "<span style=\"font-size:24px\">(</span><sup><em>x</em></sup>&frasl;<sub><em>y</em></sub><span style=\"font-size:24px\">)</span> = \r\n",
    "<span style=\"font-size:24px\">(</span><sup><em>a</em></sup>&frasl;<sub><em>b</em></sub><span style=\"font-size:24px\">)</span>, and\r\n",
    "<span style=\"font-size:24px\">(</span><sup><em>u</em></sup>&frasl;<sub><em>v</em></sub><span style=\"font-size:24px\">)</span> = \r\n",
    "<span style=\"font-size:24px\">(</span><sup><em>c</em></sup>&frasl;<sub><em>d</em></sub><span style=\"font-size:24px\">)</span>,\r\n",
    "we have <em>x</em>&middot;<em>b</em> = <em>a</em>&middot;<em>y</em> and <em>u</em>&middot;<em>d</em> = <em>c</em>&middot;<em>v</em>. Multiplying the first equation \r\n",
    "by <em>v</em>&middot;<em>d</em> and the second by <em>y</em>&middot;<em>b</em>, we get\r\n",
    "<p style='text-align: center;'><em>x</em>&middot;<em>b</em>&middot;<em>v</em>&middot;<em>d</em> = \r\n",
    "<em>a</em>&middot;<em>y</em>&middot;<em>v</em>&middot;<em>d</em>&ensp;and&ensp;<em>u</em>&middot;<em>d</em>&middot;<em>y</em>&middot;<em>b</em> = \r\n",
    "<em>c</em>&middot;<em>v</em>&middot;<em>y</em>&middot;<em>b</em>.</p>\r\n",
    "Adding these two equations together and factoring, we get\r\n",
    "<p style='text-align: center;'>(<em>x</em>&middot;<em>v</em> + <em>u</em>&middot;<em>y</em>)&middot;<em>b</em>&middot;<em>d</em> = \r\n",
    "(<em>a</em>&middot;<em>d</em> + <em>c</em>&middot;<em>b</em>)&middot;<em>y</em>&middot;<em>v</em>.</p>\r\n",
    "<br>This gives us\r\n",
    "<p style='text-align: center;'><span style=\"font-size:24px\">(</span><sup><em>x</em>&middot;<em>v</em> + \r\n",
    "<em>u</em>&middot;<em>y</em></sup>&frasl;<sub><em>y</em>&middot;<em>v</em></sub><span style=\"font-size:24px\">)</span> = \r\n",
    "<span style=\"font-size:24px\">(</span><sup><em>a</em>&middot;<em>d</em> + <em>c</em>&middot;<em>b</em></sup>&frasl;<sub><em>b</em>&middot;<em>d</em></sub><span \r\n",
    "style=\"font-size:24px\">)</span>,</p>\r\n",
    "which is what we wanted.<br><br>\r\n",
    "\r\n",
    "We also need to show that multiplication is well defined, that is\r\n",
    "<p style='text-align: center;'><span style=\"font-size:24px\">(</span><sup><em>x</em></sup>&frasl;<sub><em>y</em></sub><span \r\n",
    "style=\"font-size:24px\">)</span>&middot;<span style=\"font-size:24px\">(</span><sup><em>u</em></sup>&frasl;<sub><em>v</em></sub><span \r\n",
    "style=\"font-size:24px\">)</span> = \r\n",
    "<span style=\"font-size:24px\">(</span><sup><em>a</em></sup>&frasl;<sub><em>b</em></sub><span \r\n",
    "style=\"font-size:24px\">)</span>&middot;<span style=\"font-size:24px\">(</span><sup><em>c</em></sup>&frasl;<sub><em>d</em></sub><span \r\n",
    "style=\"font-size:24px\">)</span>.</p>\r\n",
    "But since <em>x</em>&middot;<em>b</em> = <em>a</em>&middot;<em>y</em> and <em>u</em>&middot;<em>d</em> = <em>c</em>&middot;<em>v</em>, we can multiply these two \r\n",
    "equations together to get\r\n",
    "<p style='text-align: center;'><em>x</em>&middot;<em>b</em>&middot;<em>u</em>&middot;<em>d</em> = <em>a</em>&middot;<em>y</em>&middot;<em>c</em>&middot;<em>v</em>,</p>\r\n",
    "or\r\n",
    "<p style='text-align: center;'>(<em>x</em>&middot;<em>u</em>)&middot;(<em>b</em>&middot;<em>d</em>) = \r\n",
    "(<em>a</em>&middot;<em>c</em>)&middot;(<em>y</em>&middot;<em>v</em>).</p>\r\n",
    "Therefore,\r\n",
    "<p style='text-align: center;'><span style=\"font-size:24px\">(</span><sup><em>x</em>&middot;<em>u</em></sup>&frasl;<sub><em>y</em>&middot;<em>v</em></sub><span \r\n",
    "style=\"font-size:24px\">)</span> = <span style=\"font-size:24px\">(</span><sup><em>a</em>&middot;<em>c</em></sup>&frasl;<sub><em>b</em>&middot;<em>d</em></sub><span \r\n",
    "style=\"font-size:24px\">)</span>.</p>\r\n",
    "so multiplication also is well defined.<br><br>\r\n",
    "  \r\n",
    "<a href=\"#lem113ret\">Return to text</a>\r\n",
    "\r\n",
    "<br><br><br><br><br><br><br><br><br><br><br><br><br><br><br><br><br><br><br><br><br><br><br><br><br><br><br><br><br><br><br><br><br><br><br><br><br><br><br><br><br><br>\r\n",
    "  \r\n",
    "<a name=\"theor111\" id=\"theor111\"></a>\r\n",
    "\r\n",
    "Proof of Theorem 11.1:<br><br> \r\n",
    "  \r\n",
    "We have already noted that addition and multiplication are closed in <em>Q</em>.  We next want to look at the properties of addition. From the definition,\r\n",
    "<p style='text-align: center;'><span style=\"font-size:24px\">(</span><sup><em>x</em></sup>&frasl;<sub><em>y</em></sub><span style=\"font-size:24px\">)</span> + \r\n",
    "<span style=\"font-size:24px\">(</span><sup><em>u</em></sup>&frasl;<sub><em>v</em></sub><span style=\"font-size:24px\">)</span> = <span \r\n",
    "style=\"font-size:24px\">(</span><sup><em>x</em>&middot;<em>v</em> + <em>u</em>&middot;<em>y</em></sup>&frasl;<sub><em>y</em>&middot;<em>v</em></sub><span \r\n",
    "style=\"font-size:24px\">)</span> = \r\n",
    "<span style=\"font-size:24px\">(</span><sup><em>u</em></sup>&frasl;<sub><em>v</em></sub><span style=\"font-size:24px\">)</span> + \r\n",
    "<span style=\"font-size:24px\">(</span><sup><em>x</em></sup>&frasl;<sub><em>y</em></sub><span style=\"font-size:24px\">)</span>,</p>\r\n",
    "we see that addition is commutative. Let <em>z</em> be any nonzero element of <em>K</em>. Then \r\n",
    "<span style=\"font-size:24px\">(</span><sup>0</sup>&frasl;<sub><em>z</em></sub><span style=\"font-size:24px\">)</span>\r\n",
    "acts as the additive identity:\r\n",
    "<p style='text-align: center;'><span style=\"font-size:24px\">(</span><sup><em>u</em></sup>&frasl;<sub><em>v</em></sub><span style=\"font-size:24px\">)</span> + \r\n",
    "<span style=\"font-size:24px\">(</span><sup>0</sup>&frasl;<sub><em>z</em></sub><span style=\"font-size:24px\">)</span> = \r\n",
    "<span style=\"font-size:24px\">(</span><sup>0</sup>&frasl;<sub><em>z</em></sub><span style=\"font-size:24px\">)</span> + \r\n",
    "<span style=\"font-size:24px\">(</span><sup><em>u</em></sup>&frasl;<sub><em>v</em></sub><span style=\"font-size:24px\">)</span> = \r\n",
    "<span style=\"font-size:24px\">(</span><sup>0&middot;<em>v</em> + <em>u</em>&middot;<em>z</em></sup>&frasl;<sub><em>z</em>&middot;<em>v</em></sub><span \r\n",
    "style=\"font-size:24px\">)</span> = \r\n",
    "<span style=\"font-size:24px\">(</span><sup><em>u</em>&middot;<em>z</em></sup>&frasl;<sub><em>v</em>&middot;<em>z</em></sub><span style=\"font-size:24px\">)</span> =\r\n",
    "<span style=\"font-size:24px\">(</span><sup><em>u</em></sup>&frasl;<sub><em>v</em></sub><span style=\"font-size:24px\">)</span>.</p>\r\n",
    "Likewise, <span style=\"font-size:24px\">(</span><sup>&minus;<em>u</em></sup>&frasl;<sub><em>v</em></sub><span style=\"font-size:24px\">)</span> is the additive inverse of \r\n",
    "<span style=\"font-size:24px\">(</span><sup><em>u</em></sup>&frasl;<sub><em>v</em></sub><span style=\"font-size:24px\">)</span>:\r\n",
    "<p style='text-align: center;'><span style=\"font-size:24px\">(</span><sup><em>u</em></sup>&frasl;<sub><em>v</em></sub><span style=\"font-size:24px\">)</span> + \r\n",
    "<span style=\"font-size:24px\">(</span><sup>&minus;<em>u</em></sup>&frasl;<sub><em>v</em></sub><span style=\"font-size:24px\">)</span> = \r\n",
    "<span style=\"font-size:24px\">(</span><sup>&minus;<em>u</em></sup>&frasl;<sub><em>v</em></sub><span style=\"font-size:24px\">)</span> + \r\n",
    "<span style=\"font-size:24px\">(</span><sup><em>u</em></sup>&frasl;<sub><em>v</em></sub><span style=\"font-size:24px\">)</span> = <span \r\n",
    "style=\"font-size:24px\">(</span><sup>&minus;<em>u</em>&middot;<em>v</em> + \r\n",
    "<em>u</em>&middot;<em>v</em></sup>&frasl;<sub><em>v</em>&middot;<em>v</em></sub><span style=\"font-size:24px\">)</span> = \r\n",
    "<span style=\"font-size:24px\">(</span><sup>0</sup>&frasl;<sub><em>v</em>&middot;<em>v</em></sub><span style=\"font-size:24px\">)</span> =\r\n",
    "<span style=\"font-size:24px\">(</span><sup>0</sup>&frasl;<sub><em>z</em></sub><span style=\"font-size:24px\">)</span>.</p>\r\n",
    "The associativity of addition is straightforward:\r\n",
    "<p style='text-align: center;'><span style=\"font-size:30px\">(</span><span style=\"font-size:24px\">(</span><sup><em>x</em></sup>&frasl;<sub><em>y</em></sub><span \r\n",
    "style=\"font-size:24px\">)</span> + <span style=\"font-size:24px\">(</span><sup><em>u</em></sup>&frasl;<sub><em>v</em></sub><span \r\n",
    "style=\"font-size:24px\">)</span><span style=\"font-size:30px\">)</span> + <span style=\"font-size:24px\">(</span><sup><em>a</em></sup>&frasl;<sub><em>b</em></sub><span \r\n",
    "style=\"font-size:24px\">)</span> = <span style=\"font-size:24px\">(</span><sup><em>x</em>&middot;<em>v</em> + \r\n",
    "<em>u</em>&middot;<em>y</em></sup>&frasl;<sub><em>y</em>&middot;<em>v</em></sub><span style=\"font-size:24px\">)</span> +\r\n",
    "<span style=\"font-size:24px\">(</span><sup><em>a</em></sup>&frasl;<sub><em>b</em></sub><span style=\"font-size:24px\">)</span> = \r\n",
    "<span style=\"font-size:24px\">(</span><sup><em>x</em>&middot;<em>v</em>&middot;<em>b</em> + \r\n",
    "<em>u</em>&middot;<em>y</em>&middot;<em>b</em> + \r\n",
    "<em>a</em>&middot;<em>y</em>&middot;<em>v</em></sup>&frasl;<sub><em>y</em>&middot;<em>v</em>&middot;<em>b</em></sub><span style=\"font-size:24px\">)</span>,</p>\r\n",
    "while\r\n",
    "<p style='text-align: center;'><span style=\"font-size:24px\">(</span><sup><em>x</em></sup>&frasl;<sub><em>y</em></sub><span \r\n",
    "style=\"font-size:24px\">)</span> + <span style=\"font-size:30px\">(</span><span style=\"font-size:24px\">(</span><sup><em>u</em></sup>&frasl;<sub><em>v</em></sub><span  \r\n",
    "style=\"font-size:24px\">)</span> + <span style=\"font-size:24px\">(</span><sup><em>a</em></sup>&frasl;<sub><em>b</em></sub><span \r\n",
    "style=\"font-size:24px\">)</span><span style=\"font-size:30px\">)</span> = <span style=\"font-size:24px\">(</span><sup><em>x</em></sup>&frasl;<sub><em>y</em></sub><span \r\n",
    "style=\"font-size:24px\">)</span> + <span style=\"font-size:24px\">(</span><sup><em>u</em>&middot;<em>b</em> + \r\n",
    "<em>a</em>&middot;<em>v</em></sup>&frasl;<sub><em>v</em>&middot;<em>b</em></sub><span style=\"font-size:24px\">)</span> = \r\n",
    "<span style=\"font-size:24px\">(</span><sup><em>x</em>&middot;<em>v</em>&middot;<em>b</em> + \r\n",
    "<em>u</em>&middot;<em>b</em>&middot;<em>y</em> + \r\n",
    "<em>a</em>&middot;<em>v</em>&middot;<em>y</em></sup>&frasl;<sub><em>y</em>&middot;<em>v</em>&middot;<em>b</em></sub><span style=\"font-size:24px\">)</span>.</p>\r\n",
    "So <em>Q</em> forms a group with respect to addition.<br><br>\r\n",
    "\r\n",
    "Next we look at the properties of multiplication. Multiplication is obviously commutative, since\r\n",
    "<p style='text-align: center;'><span style=\"font-size:24px\">(</span><sup><em>x</em></sup>&frasl;<sub><em>y</em></sub><span style=\"font-size:24px\">)</span>&middot;\r\n",
    "<span style=\"font-size:24px\">(</span><sup><em>u</em></sup>&frasl;<sub><em>v</em></sub><span style=\"font-size:24px\">)</span> = \r\n",
    "<span style=\"font-size:24px\">(</span><sup><em>x</em>&middot;<em>u</em></sup>&frasl;<sub><em>y</em>&middot;<em>v</em></sub><span style=\"font-size:24px\">)</span> = \r\n",
    "<span style=\"font-size:24px\">(</span><sup><em>u</em>&middot;<em>x</em></sup>&frasl;<sub><em>v</em>&middot;<em>y</em></sub><span style=\"font-size:24px\">)</span> = \r\n",
    "<span style=\"font-size:24px\">(</span><sup><em>u</em></sup>&frasl;<sub><em>v</em></sub><span style=\"font-size:24px\">)</span>&middot;\r\n",
    "<span style=\"font-size:24px\">(</span><sup><em>x</em></sup>&frasl;<sub><em>y</em></sub><span style=\"font-size:24px\">)</span>.</p>\r\n",
    "We also have associativity for multiplication:\r\n",
    "<p style='text-align: center;'><span style=\"font-size:30px\">(</span><span style=\"font-size:24px\">(</span><sup><em>x</em></sup>&frasl;<sub><em>y</em></sub><span \r\n",
    "style=\"font-size:24px\">)</span>&middot;<span style=\"font-size:24px\">(</span><sup><em>u</em></sup>&frasl;<sub><em>v</em></sub><span \r\n",
    "style=\"font-size:24px\">)</span><span style=\"font-size:30px\">)</span>&middot;<span style=\"font-size:24px\">(</span><sup><em>a</em></sup>&frasl;<sub><em>b</em></sub><span \r\n",
    "style=\"font-size:24px\">)</span> = <span style=\"font-size:24px\">(</span><sup><em>x</em>&middot;<em>u</em></sup>&frasl;<sub><em>y</em>&middot;<em>v</em></sub><span \r\n",
    "style=\"font-size:24px\">)</span>&middot;<span style=\"font-size:24px\">(</span><sup><em>a</em></sup>&frasl;<sub><em>b</em></sub><span style=\"font-size:24px\">)</span> = \r\n",
    "<span style=\"font-size:24px\">(</span><sup><em>x</em>&middot;<em>u</em>&middot;<em>a</em></sup>&frasl;<sub><em>y</em>&middot;<em>v</em>&middot;<em>b</em></sub><span \r\n",
    "style=\"font-size:24px\">)</span> = <span style=\"font-size:24px\">(</span><sup><em>x</em></sup>&frasl;<sub><em>y</em></sub><span \r\n",
    "style=\"font-size:24px\">)</span>&middot;<span style=\"font-size:24px\">(</span><sup><em>u</em>&middot;<em>a</em></sup>&frasl;<sub><em>v</em>&middot;<em>b</em></sub><span \r\n",
    "style=\"font-size:24px\">)</span> = <span style=\"font-size:24px\">(</span><sup><em>x</em></sup>&frasl;<sub><em>y</em></sub><span \r\n",
    "style=\"font-size:24px\">)</span>&middot;<span style=\"font-size:30px\">(</span><span style=\"font-size:24px\">(</span><sup><em>u</em></sup>&frasl;<sub><em>v</em></sub><span \r\n",
    "style=\"font-size:24px\">)</span>&middot;<span style=\"font-size:24px\">(</span><sup><em>a</em></sup>&frasl;<sub><em>b</em></sub><span \r\n",
    "style=\"font-size:24px\">)</span><span style=\"font-size:30px\">)</span>.</p>\r\n",
    "The element <span style=\"font-size:24px\">(</span><sup><em>z</em></sup>&frasl;<sub><em>z</em></sub><span style=\"font-size:24px\">)</span> acts as the multiplicative \r\n",
    "identity for any <em>z</em> &ne; 0.\r\n",
    "<p style='text-align: center;'><span style=\"font-size:24px\">(</span><sup><em>z</em></sup>&frasl;<sub><em>z</em></sub><span style=\"font-size:24px\">)</span>&middot;\r\n",
    "<span style=\"font-size:24px\">(</span><sup><em>x</em></sup>&frasl;<sub><em>y</em></sub><span style=\"font-size:24px\">)</span> = <span \r\n",
    "style=\"font-size:24px\">(</span><sup><em>x</em></sup>&frasl;<sub><em>y</em></sub><span style=\"font-size:24px\">)</span>&middot;\r\n",
    "<span style=\"font-size:24px\">(</span><sup><em>z</em></sup>&frasl;<sub><em>z</em></sub><span style=\"font-size:24px\">)</span> = <span \r\n",
    "style=\"font-size:24px\">(</span><sup><em>x</em>&middot;<em>z</em></sup>&frasl;<sub><em>y</em>&middot;<em>z</em></sub><span style=\"font-size:24px\">)</span> = \r\n",
    "<span style=\"font-size:24px\">(</span><sup><em>x</em></sup>&frasl;<sub><em>y</em></sub><span style=\"font-size:24px\">)</span>.</p>\r\n",
    "If <em>x</em> = 0, then <span style=\"font-size:24px\">(</span><sup><em>x</em></sup>&frasl;<sub><em>y</em></sub><span style=\"font-size:24px\">)</span> = \r\n",
    "<span style=\"font-size:24px\">(</span><sup>0</sup>&frasl;<sub><em>z</em></sub><span style=\"font-size:24px\">)</span>. Otherwise, the multiplicative inverse \r\n",
    "of <span style=\"font-size:24px\">(</span><sup><em>x</em></sup>&frasl;<sub><em>y</em></sub><span style=\"font-size:24px\">)</span> \r\n",
    "is <span style=\"font-size:24px\">(</span><sup><em>y</em></sup>&frasl;<sub><em>x</em></sub><span style=\"font-size:24px\">)</span>, since\r\n",
    "<p style='text-align: center;'><span style=\"font-size:24px\">(</span><sup><em>x</em></sup>&frasl;<sub><em>y</em></sub><span style=\"font-size:24px\">)</span>&middot;\r\n",
    "<span style=\"font-size:24px\">(</span><sup><em>y</em></sup>&frasl;<sub><em>x</em></sub><span style=\"font-size:24px\">)</span> = \r\n",
    "<span style=\"font-size:24px\">(</span><sup><em>x</em>&middot;<em>y</em></sup>&frasl;<sub><em>y</em>&middot;<em>x</em></sub><span \r\n",
    "style=\"font-size:24px\">)</span> = <span style=\"font-size:24px\">(</span><sup><em>z</em></sup>&frasl;<sub><em>z</em></sub><span style=\"font-size:24px\">)</span>.</p>\r\n",
    "Thus, every nonzero element of <em>Q</em> has a multiplicative inverse. Finally, we have to prove the two distribution laws. Because of the commutativity of \r\n",
    "multiplication, we only need to check one. Since\r\n",
    "<p style='text-align: center;'><span style=\"font-size:30px\">(</span><span style=\"font-size:24px\">(</span><sup><em>u</em></sup>&frasl;<sub><em>v</em></sub><span \r\n",
    "style=\"font-size:24px\">)</span> + <span style=\"font-size:24px\">(</span><sup><em>a</em></sup>&frasl;<sub><em>b</em></sub><span \r\n",
    "style=\"font-size:24px\">)</span><span style=\"font-size:30px\">)</span>&middot;<span style=\"font-size:24px\">(</span><sup><em>x</em></sup>&frasl;<sub><em>y</em></sub><span \r\n",
    "style=\"font-size:24px\">)</span> = <span style=\"font-size:24px\">(</span><sup><em>u</em>&middot;<em>b</em> + \r\n",
    "<em>a</em>&middot;<em>v</em></sup>&frasl;<sub><em>v</em>&middot;<em>b</em></sub><span \r\n",
    "style=\"font-size:24px\">)</span>&middot;<span style=\"font-size:24px\">(</span><sup><em>x</em></sup>&frasl;<sub><em>y</em></sub><span \r\n",
    "style=\"font-size:24px\">)</span> = <span style=\"font-size:24px\">(</span><sup><em>u</em>&middot;<em>b</em>&middot;<em>x</em> + \r\n",
    "<em>a</em>&middot;<em>v</em>&middot;<em>x</em></sup>&frasl;<sub><em>v</em>&middot;<em>b</em>&middot;<em>y</em></sub><span style=\"font-size:24px\">)</span>.</p>\r\n",
    "while\r\n",
    "<p style='text-align: center;'><span style=\"font-size:24px\">(</span><sup><em>u</em></sup>&frasl;<sub><em>v</em></sub><span \r\n",
    "style=\"font-size:24px\">)</span>&middot;<span style=\"font-size:24px\">(</span><sup><em>x</em></sup>&frasl;<sub><em>y</em></sub><span \r\n",
    "style=\"font-size:24px\">)</span> + <span style=\"font-size:24px\">(</span><sup><em>a</em></sup>&frasl;<sub><em>b</em></sub><span \r\n",
    "style=\"font-size:24px\">)</span>&middot;<span style=\"font-size:24px\">(</span><sup><em>x</em></sup>&frasl;<sub><em>y</em></sub><span \r\n",
    "style=\"font-size:24px\">)</span> = <span style=\"font-size:24px\">(</span><sup><em>u</em>&middot;<em>x</em></sup>&frasl;<sub><em>v</em>&middot;<em>y</em></sub><span \r\n",
    "style=\"font-size:24px\">)</span> + <span style=\"font-size:24px\">(</span><sup><em>a</em>&middot;<em>x</em></sup>&frasl;<sub><em>b</em>&middot;<em>y</em></sub><span \r\n",
    "style=\"font-size:24px\">)</span> = <span style=\"font-size:24px\">(</span><sup><em>u</em>&middot;<em>x</em>&middot;<em>b</em>&middot;<em>y</em> + \r\n",
    "<em>a</em>&middot;<em>x</em>&middot;<em>v</em>&middot;<em>y</em></sup>&frasl;<sub><em>v</em>&middot;<em>y</em>&middot;<em>b</em>&middot;<em>y</em></sub><span \r\n",
    "style=\"font-size:24px\">)</span> = <span style=\"font-size:24px\">(</span><sup><em>u</em>&middot;<em>x</em>&middot;<em>b</em> + \r\n",
    "<em>a</em>&middot;<em>x</em>&middot;<em>v</em></sup>&frasl;<sub><em>v</em>&middot;<em>b</em>&middot;<em>y</em></sub><span style=\"font-size:24px\">)</span>,</p>\r\n",
    "we have the distributive laws holding, and therefore <em>Q</em> is a field.<br><br>\r\n",
    "\r\n",
    "<a href=\"#theor111ret\">Return to text</a>\r\n",
    "\r\n",
    "<br><br><br><br><br><br><br><br><br><br><br><br><br><br><br><br><br><br><br><br><br><br><br><br><br><br><br><br><br><br><br><br><br><br><br><br><br><br><br><br><br><br>\r\n",
    "\r\n",
    "<a name=\"prop113\" id=\"prop113\"></a>\r\n",
    "\r\n",
    "Proof of Proposition 11.3:<br><br> \r\n",
    "\r\n",
    "Because the real numbers are closed with respect to both addition and multiplication, it is clear that both (<em>a</em> + <em>c</em>, <em>b</em> + <em>d</em>) and \r\n",
    "<nobr>(<em>a</em>&middot;<em>c</em> &minus; <em>b</em>&middot;<em>d</em>, <em>a</em>&middot;<em>d</em> + <em>b</em>&middot;<em>c</em>)</nobr> would be defined for all real \r\n",
    "numbers <em>a</em>, <em>b</em>, <em>c</em>, and <em>d</em>.  Thus, &#8450; is closed with respect to both addition and multiplication. Furthermore, since\r\n",
    "<p style='text-align: center;'>(<em>c</em>, <em>d</em>) + (<em>a</em>, <em>b</em>) = (<em>c</em> + <em>a</em>, <em>d</em> + <em>b</em>) = \r\n",
    "(<em>a</em> + <em>c</em>, <em>b</em> + <em>d</em>) = (<em>a</em>, <em>b</em>) + (<em>c</em>, <em>d</em>)</p>\r\n",
    "and\r\n",
    "<p style='text-align: center;'>(<em>c</em>, <em>d</em>)&middot;(<em>a</em> ,<em>b</em>) = (<em>c</em>&middot;<em>a</em> &minus; \r\n",
    "<em>d</em>&middot;<em>b</em>, <em>c</em>&middot;<em>b</em> + <em>d</em>&middot;<em>a</em>) = (<em>a</em>&middot;<em>c</em> &minus; \r\n",
    "<em>b</em>&middot;<em>d</em>, <em>a</em>&middot;<em>d</em> + <em>b</em>&middot;<em>c</em>) = (<em>a</em>, <em>b</em>)&middot;(<em>c</em>, <em>d</em>),</p>\r\n",
    "we see that both addition and multiplication are commutative. The element (0, 0) acts as the zero element, since\r\n",
    "<p style='text-align: center;'>(0, 0) + (<em>a</em>, <em>b</em>) = (<em>a</em>, <em>b</em>).</p>\r\n",
    "The addition inverse of (<em>a</em>, <em>b</em>) is (&minus;<em>a</em>, &minus;<em>b</em>), since\r\n",
    "<p style='text-align: center;'>(<em>a</em>, <em>b</em>) + (&minus;<em>a</em>, &minus;<em>b</em>) = (0, 0).</p>\r\n",
    "Note that the order on the last two sums is irrelevant, since addition has already been shown to be commutative.<br><br>\r\n",
    "\r\n",
    "To show that addition is associative, we note that\r\n",
    "<p style='text-align: center;'>(<em>a</em>, <em>b</em>) + [ (<em>c</em>, <em>d</em>) + (<em>e</em>, <em>f</em>) ] = (<em>a</em>, <em>b</em>) + \r\n",
    "(<em>c</em> + <em>e</em>, <em>d</em> + <em>f</em>) = (<em>a</em> + <em>c</em> + <em>e</em>, <em>b</em> + <em>d</em> + <em>f</em>) = \r\n",
    "(<em>a</em> + <em>c</em>, <em>b</em> + <em>d</em>) + (<em>e</em>, <em>f</em>) = [ (<em>a</em>, <em>b</em>) + (<em>c</em>, <em>d</em>) ] + (<em>e</em>, <em>f</em>).</p>\r\n",
    "To show that multiplication is associative is a little more complicated.  We have\r\n",
    "<p style='text-align: center;'>(<em>a</em>, <em>b</em>)&middot;[ (<em>c</em>, <em>d</em>)&middot;(<em>e</em>, <em>f</em>) ] = \r\n",
    "(<em>a</em>, <em>b</em>)&middot;(<em>c</em>&middot;<em>e</em> &minus; <em>d</em>&middot;<em>f</em>, <em>c</em>&middot;<em>f</em> + <em>d</em>&middot;<em>e</em>) = \r\n",
    "(<em>a</em>&middot;<em>c</em>&middot;<em>e</em> &minus; <em>a</em>&middot;<em>d</em>&middot;<em>f</em> &minus; <em>b</em>&middot;<em>c</em>&middot;<em>f</em> &minus; \r\n",
    "<em>b</em>&middot;<em>d</em>&middot;<em>e</em>, <em>a</em>&middot;<em>c</em>&middot;<em>f</em> + <em>a</em>&middot;<em>d</em>&middot;<em>e</em> + \r\n",
    "<em>b</em>&middot;<em>c</em>&middot;<em>e</em> &minus; <em>b</em>&middot;<em>d</em>&middot;<em>f</em>),</p>\r\n",
    "and \r\n",
    "<p style='text-align: center;'>[ (<em>a</em>, <em>b</em>)&middot;(<em>c</em>, <em>d</em>) ]&middot;(<em>e</em>, <em>f</em>) = \r\n",
    "(<em>a</em>&middot;<em>c</em> &minus; <em>b</em>&middot;<em>d</em>, <em>a</em>&middot;<em>d</em> + <em>b</em>&middot;<em>c</em>)&middot;(<em>e</em>, <em>f</em>) =\r\n",
    "(<em>a</em>&middot;<em>c</em>&middot;<em>e</em> &minus; <em>b</em>&middot;<em>d</em>&middot;<em>e</em> &minus; <em>a</em>&middot;<em>d</em>&middot;<em>f</em> &minus; \r\n",
    "<em>b</em>&middot;<em>c</em>&middot;<em>f</em>, <em>a</em>&middot;<em>c</em>&middot;<em>f</em> &minus; <em>b</em>&middot;<em>d</em>&middot;<em>f</em> + \r\n",
    "<em>a</em>&middot;<em>d</em>&middot;<em>e</em> + <em>b</em>&middot;<em>c</em>&middot;<em>e</em>).</p>\r\n",
    "By comparing these two, we see that they are equal, so multiplication is associative. <br><br>\r\n",
    "\r\n",
    "We need to test the distributive laws next. The left distributive law we can get by expanding:\r\n",
    "<p style='text-align: center;'>(<em>a</em>, <em>b</em>)&middot;[ (<em>c</em>, <em>d</em>) + (<em>e</em>, <em>f</em>) ] = \r\n",
    "(<em>a</em>, <em>b</em>)&middot;(<em>c</em> + <em>e</em>, <em>d</em> + <em>f</em>) = (<em>a</em>&middot;<em>c</em> + <em>a</em>&middot;<em>e</em> &minus; \r\n",
    "<em>b</em>&middot;<em>d</em> &minus; <em>b</em>&middot;<em>f</em>, <em>a</em>&middot;<em>d</em> + <em>a</em>&middot;<em>f</em> + <em>b</em>&middot;<em>c</em> + \r\n",
    "<em>b</em>&middot;<em>e</em>)<br> = (<em>a</em>&middot;<em>c</em> &minus; <em>b</em>&middot;<em>d</em>, <em>a</em>&middot;<em>d</em> + <em>b</em>&middot;<em>c</em>) + \r\n",
    "(<em>a</em>&middot;<em>e</em> &minus; <em>b</em>&middot;<em>f</em>, <em>a</em>&middot;<em>f</em> + <em>b</em>&middot;<em>e</em>) = \r\n",
    "(<em>a</em>, <em>b</em>)&middot;(<em>c</em>, <em>d</em>) + (<em>a</em>, <em>b</em>)&middot;(<em>e</em>, <em>f</em>).</p>\r\n",
    "Thus, the left distributive law is satisfied. However, the right distributive law follows from the left distributive law, and using the commutative multiplication:\r\n",
    "<p style='text-align: center;'>[ (<em>a</em>, <em>b</em>) + (<em>c</em>, <em>d</em>) ]&middot;(<em>e</em>, <em>f</em>) = \r\n",
    "(<em>e</em>, <em>f</em>)&middot;[ (<em>a</em>, <em>b</em>) + (<em>c</em>, <em>d</em>) ] = \r\n",
    "(<em>e</em>, <em>f</em>)&middot;(<em>a</em>, <em>b</em>) + (<em>e</em>, <em>f</em>)&middot;(<em>c</em>, <em>d</em>) = \r\n",
    "(<em>a</em>, <em>b</em>)&middot;(<em>e</em>, <em>f</em>) + (<em>c</em>, <em>d</em>)&middot;(<em>e</em>, <em>f</em>).</p>\r\n",
    "We have now shown that the set &#8450; forms a commutative ring.  To show that this ring has a multiplicative identity, we consider the element (1, 0). Since the ring \r\n",
    "is commutative, we only need to check\r\n",
    "<p style='text-align: center;'>(1, 0)&middot;(<em>a</em>, <em>b</em>) = (1&middot;<em>a</em> &minus; 0&middot;<em>b</em>, 1&middot;<em>b</em> + 0&middot;<em>a</em>) = \r\n",
    "(<em>a</em>, <em>b</em>).</p>\r\n",
    "Finally, we need to show that every nonzero element has an inverse. If (<em>a</em>, <em>b</em>) is nonzero, \r\n",
    "then <em>a</em><sup>2</sup> + <em>b</em><sup>2</sup> will be a positive number. Hence\r\n",
    "<br><br>\r\n",
    "<table align=\"center\" border=\"0\" cellspacing=\"0\" cellpadding=\"0\">\r\n",
    "  <tr>\r\n",
    "    <td align=\"right\" valign=\"bottom\">&#9115;</td>\r\n",
    "    <td align=\"center\"><font style=\"text-decoration:underline\">&emsp;<em>a</em>&emsp;</font></td>\r\n",
    "    <td rowspan = \"2\" align=\"center\">,&ensp;</td>\r\n",
    "    <td align=\"center\"><font style=\"text-decoration:underline\">&ensp;&minus;<em>b</em>&emsp;</font></td>\r\n",
    "    <td align=\"left\" valign=\"bottom\">&#9118;</td>\r\n",
    "  </tr>\r\n",
    "  <tr>\r\n",
    "    <td align=\"right\" valign=\"top\">&#9117;</td>\r\n",
    "    <td align=\"center\"><em>a</em>&sup2; + <em>b</em>&sup2;</td>\r\n",
    "    <td align=\"center\"><em>a</em>&sup2; + <em>b</em>&sup2;</td>\r\n",
    "    <td align=\"left\" valign=\"top\">&#9120;</td>\r\n",
    "  </tr>\r\n",
    "</table> \r\n",
    "is an element of &#8450;. The product\r\n",
    "<table align=\"center\" border=\"0\" cellspacing=\"0\" cellpadding=\"0\">\r\n",
    "  <tr>\r\n",
    "    <td rowspan = \"2\" align=\"center\">(<em>a</em>, <em>b</em>)&middot;</td>\r\n",
    "    <td align=\"right\" valign=\"bottom\">&#9115;</td>\r\n",
    "    <td align=\"center\"><font style=\"text-decoration:underline\">&emsp;<em>a</em>&emsp;</font></td>\r\n",
    "    <td rowspan = \"2\" align=\"center\">,&ensp;</td>\r\n",
    "    <td align=\"center\"><font style=\"text-decoration:underline\">&ensp;&minus;<em>b</em>&emsp;</font></td>\r\n",
    "    <td align=\"left\" valign=\"bottom\">&#9118;</td>\r\n",
    "    <td rowspan = \"2\" align=\"center\">&ensp;=&ensp;</td>\r\n",
    "    <td align=\"right\" valign=\"bottom\">&#9115;</td>\r\n",
    "    <td align=\"center\"><font style=\"text-decoration:underline\"><em>a</em>&sup2; + <em>b</em>&sup2;</font></td>\r\n",
    "    <td rowspan = \"2\" align=\"center\">,&ensp;</td>\r\n",
    "    <td align=\"center\"><font style=\"text-decoration:underline\">&minus;<em>a</em>&middot;<em>b</em> + <em>a</em>&middot;<em>b</em></font></td>\r\n",
    "    <td align=\"left\" valign=\"bottom\">&#9118;</td>\r\n",
    "    <td rowspan = \"2\" align=\"center\">&ensp;= (1, 0)</td>\r\n",
    "  </tr>\r\n",
    "  <tr>\r\n",
    "    <td align=\"right\" valign=\"top\">&#9117;</td>\r\n",
    "    <td align=\"center\"><em>a</em>&sup2; + <em>b</em>&sup2;</td>\r\n",
    "    <td align=\"center\"><em>a</em>&sup2; + <em>b</em>&sup2;</td>\r\n",
    "    <td align=\"left\" valign=\"top\">&#9120;</td>\r\n",
    "    <td align=\"right\" valign=\"top\">&#9117;</td>\r\n",
    "    <td align=\"center\"><em>a</em>&sup2; + <em>b</em>&sup2;</td>\r\n",
    "    <td align=\"center\"><em>a</em>&sup2; + <em>b</em>&sup2;</td>\r\n",
    "    <td align=\"left\" valign=\"top\">&#9120;</td>    \r\n",
    "  </tr>\r\n",
    "</table> \r\n",
    "verifies that\r\n",
    "<table align=\"center\" border=\"0\" cellspacing=\"0\" cellpadding=\"0\">\r\n",
    "  <tr>\r\n",
    "    <td rowspan = \"2\" align=\"center\">(<em>a</em>, <em>b</em>)<sup>-1</sup> =&ensp; </td>\r\n",
    "    <td align=\"right\" valign=\"bottom\">&#9115;</td>\r\n",
    "    <td align=\"center\"><font style=\"text-decoration:underline\">&emsp;<em>a</em>&emsp;</font></td>\r\n",
    "    <td rowspan = \"2\" align=\"center\">,&ensp;</td>\r\n",
    "    <td align=\"center\"><font style=\"text-decoration:underline\">&ensp;&minus;<em>b</em>&emsp;</font></td>\r\n",
    "    <td align=\"left\" valign=\"bottom\">&#9118;</td>\r\n",
    "  </tr>\r\n",
    "  <tr>\r\n",
    "    <td align=\"right\" valign=\"top\">&#9117;</td>\r\n",
    "    <td align=\"center\"><em>a</em>&sup2; + <em>b</em>&sup2;</td>\r\n",
    "    <td align=\"center\"><em>a</em>&sup2; + <em>b</em>&sup2;</td>\r\n",
    "    <td align=\"left\" valign=\"top\">&#9120;</td>\r\n",
    "  </tr>\r\n",
    "</table> \r\n",
    "<br>\r\n",
    "since multiplication is commutative. Therefore, the set &#8450; forms a field.<br><br>\r\n",
    "\r\n",
    "The second part of this proposition is to show that &#8450; contains a copy of the real numbers as a subfield.  Consider the mapping <em>&fnof;</em>, which maps real \r\n",
    "numbers to &#8450;, given by\r\n",
    "<p style='text-align: center;'><em>&fnof;</em>(<em>x</em>) = (<em>x</em>, 0).</p>\r\n",
    "To check that <em>&fnof;</em> is a homomorphism, we check that\r\n",
    "<p style='text-align: center;'><em>&fnof;</em>(<em>x</em>) + <em>&fnof;</em>(<em>y</em>) = (<em>x</em>, 0) + (<em>y</em>, 0) = (<em>x</em> + <em>y</em>, 0) = \r\n",
    "<em>&fnof;</em>(<em>x</em> + <em>y</em>)</p>\r\n",
    "and\r\n",
    "<p style='text-align: center;'><em>&fnof;</em>(<em>x</em>)&middot;<em>&fnof;</em>(<em>y</em>) = (<em>x</em>, 0)&middot;(<em>y</em>, 0) = \r\n",
    "(<em>x</em>&middot;<em>y</em> + 0, 0 + 0) = (<em>x</em>&middot;<em>y</em>, 0) = <em>&fnof;</em>(<em>x</em>&middot;<em>y</em>).</p>\r\n",
    "Thus, <em>&fnof;</em> is a homomorphism from the reals to &#8450;.  It is clear that <em>&fnof;</em> is one-to-one, since (<em>x</em>, 0) = (<em>y</em>, 0) if, and only \r\n",
    "if, <em>x</em> = <em>y</em>.  Thus the image of <em>&fnof;</em>:\r\n",
    "<p style='text-align: center;'>{ (<em>x</em>, 0) | <em>x</em> &isin; &#8477; }</p>\r\n",
    "is isomorphic to the real numbers.  Hence we have found a subring of &#8450; isomorphic to &#8477.<br><br>\r\n",
    "\r\n",
    "<a href=\"#prop113ret\">Return to text</a>\r\n",
    "\r\n",
    "<br><br><br><br><br><br><br><br><br><br><br><br><br><br><br><br><br><br><br><br><br><br><br><br><br><br><br><br><br><br><br><br><br><br><br><br><br><br><br><br><br><br>\r\n",
    "\r\n",
    "<a name=\"lem114\" id=\"lem114\"></a>\r\n",
    "\r\n",
    "Proof of Lemma 11.4:<br><br> \r\n",
    "\r\n",
    "If (<em>a</em>, <em>b</em>) solves the equation <em>x</em><sup>2</sup> = (&minus;1, 0), we have that \r\n",
    "<p style='text-align: center;'>(<em>a</em>, <em>b</em>)<sup>2</sup> = (<em>a</em><sup>2</sup> &minus; <em>b</em><sup>2</sup>, 2 <em>a</em> <em>b</em>) = (&minus;1, 0).</p>\r\n",
    "Thus, <em>a</em> and <em>b</em> must satisfy the two equations\r\n",
    "<p style='text-align: center;'><em>a</em><sup>2</sup> &minus; <em>b</em><sup>2</sup> = &minus;1,&emsp;and&emsp;2 <em>a</em> <em>b</em> = 0.</p>\r\n",
    "The second equation implies that either <em>a</em> or <em>b</em> must be 0. But if <em>b</em><em> </em><em>=</em><em> </em><em>0</em>, then the first equation becomes \r\n",
    "<em>a</em><sup>2</sup> = &minus;1, which has no real solutions.  Thus, <em>a</em> = 0, and &minus;<em>b</em><sup>2</sup> = &minus;1.  There are exactly two real solutions \r\n",
    "for <em>b</em>, &plusmn;1. Thus,\r\n",
    "<p style='text-align: center;'>(0, 1)&emsp;and&emsp;(0, &minus;1)</p>\r\n",
    "both solve the equations for <em>a</em> and <em>b</em>, and so \r\n",
    "<p style='text-align: center;'>(0, 1)<sup>2</sup> = (0, &minus;1)<sup>2</sup> = (&minus;1, 0).</p>\r\n",
    "\r\n",
    "<a href=\"#lem114ret\">Return to text</a>\r\n",
    "\r\n",
    "<br><br><br><br><br><br><br><br><br><br><br><br><br><br><br><br><br><br><br><br><br><br><br><br><br><br><br><br><br><br><br><br><br><br><br><br><br><br><br><br><br><br>\r\n",
    "\r\n",
    "<a name=\"lem115\" id=\"lem115\"></a>\r\n",
    "\r\n",
    "Proof of Lemma 11.5:<br><br> \r\n",
    "\r\n",
    "We first note that if <em>&fnof;</em>(<em>x</em>) is an automorphism of a ring <em>R</em>, then <em>&fnof;</em><sup>&minus;1</sup>(<em>x</em>) is well defined, since \r\n",
    "<em>&fnof;</em>(<em>x</em>) is both one-to-one and onto.  We see that\r\n",
    "<p style='text-align: center;'><em>&fnof;</em>(<em>&fnof;</em><sup>&minus;1</sup>(<em>x</em>) + <em>&fnof;</em><sup>&minus;1</sup>(<em>y</em>)) = \r\n",
    "<em>&fnof;</em>(<em>&fnof;</em><sup>&minus;1</sup>(<em>x</em>)) + <em>&fnof;</em>(<em>&fnof;</em><sup>&minus;1</sup>(<em>y</em>)) = <em>x</em> + <em>y</em>,</p>\r\n",
    "so <em>&fnof;</em><sup>&minus;1</sup>(<em>x</em> + <em>y</em>) = <em>&fnof;</em><sup>&minus;1</sup>(<em>x</em>) + <em>&fnof;</em><sup>&minus;1</sup>(<em>y</em>).  Also, \r\n",
    "<p style='text-align: center;'><em>&fnof;</em>(<em>&fnof;</em><sup>&minus;1</sup>(<em>x</em>)&middot;<em>&fnof;</em><sup>&minus;1</sup>(<em>y</em>)) = \r\n",
    "<em>&fnof;</em>(<em>&fnof;</em><sup>&minus;1</sup>(<em>x</em>))&middot;<em>&fnof;</em>(<em>&fnof;</em><sup>&minus;1</sup>(<em>y</em>)) = <em>x</em>&middot;<em>y</em>,</p>\r\n",
    "so <em>&fnof;</em><sup>&minus;1</sup>(<em>x</em>&middot;<em>y</em>) = \r\n",
    "<em>&fnof;</em><sup>&minus;1</sup>(<em>x</em>)&middot;<em>&fnof;</em><sup>&minus;1</sup>(<em>y</em>).  Thus, \r\n",
    "<em>&fnof;</em><sup>&minus;1</sup> is a ring homomorphism.  Since <em>&fnof;</em> was both one-to-one and onto, <em>&fnof;</em><sup>&minus;1</sup> is \r\n",
    "both one-to-one and onto. \r\n",
    "Therefore, <em>&fnof;</em><sup>&minus;1</sup> is a ring automorphism. <br><br>\r\n",
    "\r\n",
    "If <em>&fnof;</em> and <em>&#981;</em> are two ring automorphisms, then \r\n",
    "<p style='text-align: center;'><em>&fnof;</em>(<em>&#981;</em>(<em>x</em> + <em>y</em>)) = \r\n",
    "<em>&fnof;</em>(<em>&#981;</em>(<em>x</em>) + <em>&#981;</em>(<em>y</em>)) = <em>&fnof;</em>(<em>&#981;</em>(<em>x</em>)) + <em>&fnof;</em>(<em>&#981;</em>(<em>y</em>)),</p>\r\n",
    "and\r\n",
    "<p style='text-align: center;'><em>&fnof;</em>(<em>&#981;</em>(<em>x</em>&middot;<em>y</em>)) = \r\n",
    "<em>&fnof;</em>(<em>&#981;</em>(<em>x</em>)&middot;<em>&#981;</em>(<em>y</em>)) = \r\n",
    "<em>&fnof;</em>(<em>&#981;</em>(<em>x</em>))&middot;<em>&fnof;</em>(<em>&#981;</em>(<em>y</em>)).</p>\r\n",
    "The combination <em>&fnof;</em>(<em>&#981;</em>(<em>x</em>)) is also one-to-one and onto, so this product, which we can denote <em>&fnof;</em>&middot;<em>&#981;</em>, \r\n",
    "is a ring automorphism.  Since the set of all ring automorphisms is closed with respect to multiplication and inverses, and the set of all ring automorphisms is a \r\n",
    "subgroup of the set of all <em>group</em> automorphisms with respect to addition, we see that this set is a group.<br><br>\r\n",
    "\r\n",
    "<a href=\"#lem115ret\">Return to text</a>\r\n",
    "\r\n",
    "<br><br><br><br><br><br><br><br><br><br><br><br><br><br><br><br><br><br><br><br><br><br><br><br><br><br><br><br><br><br><br><br><br><br><br><br><br><br><br><br><br><br>\r\n",
    "\r\n",
    "<a name=\"prop114\" id=\"prop114\"></a>\r\n",
    "\r\n",
    "Proof of Proposition 11.4:<br><br> \r\n",
    "\r\n",
    "We check that\r\n",
    "<p style='text-align: center;'><em>&#981;</em>(<em>a</em> + <em>b i</em>) + <em>&#981;</em>(<em>c</em> + <em>d i</em>) = \r\n",
    "(<em>a</em> &minus; <em>b i</em>) + (<em>c</em> &minus; <em>d i</em>) = (<em>a</em> + <em>c</em>) &minus; (<em>b</em> + <em>d</em>)<em>i</em> = \r\n",
    "<em>&#981;</em>((<em>a</em> + <em>c</em>) + (<em>b</em> + <em>d</em>)<em>i</em>) = <em>&#981;</em>((<em>a</em> + <em>b i</em>) + (<em>c</em> + <em>d i</em>)).</p>\r\n",
    "\r\n",
    "<p style='text-align: center;'><em>&#981;</em>(<em>a</em> + <em>b i</em>)&middot;<em>&#981;</em>(<em>c</em> + <em>d i</em>) = \r\n",
    "(<em>a</em> &minus; <em>b i</em>)&middot;(<em>c</em> &minus; <em>d i</em>) = \r\n",
    "(<em>a</em>&middot;<em>c</em> &minus; <em>b</em>&middot;<em>d</em>) &minus; (<em>a</em>&middot;<em>d</em> + <em>b</em>&middot;<em>c</em>)<em>i</em> =\r\n",
    "<em>&#981;</em>((<em>a</em>&middot;<em>c</em> &minus; <em>b</em>&middot;<em>d</em>) + (<em>a</em>&middot;<em>d</em> + <em>b</em>&middot;<em>c</em>)<em>i</em>) =\r\n",
    "<em>&#981;</em>((<em>a</em> + <em>b i</em>)&middot;(<em>c</em> + <em>d i</em>)).</p>\r\n",
    "\r\n",
    "Thus, <em>&#981;</em> is a homomorphism. Since <em>a</em> &minus; <em>b i</em> = 0 if, and only if, <em>a</em> and <em>b</em> are both 0, the kernel of <em>&#981;</em> \r\n",
    "is just {0}, and so <em>&#981;</em> is one-to-one. Also, <em>&#981;</em> is onto, \r\n",
    "since <nobr><em>&#981;</em>(<em>a</em> &minus; <em>b i</em>) = <em>a</em> + <em>b i</em>.</nobr> \r\n",
    "Therefore, <em>&#981;</em> is an automorphism.<br><br>\r\n",
    "\r\n",
    "To show that there are exactly two such automorphisms, suppose that <em>&fnof;</em>(<em>x</em>) is an automorphism of &#8450; for which \r\n",
    "<em>&fnof;</em>(<em>x</em>) = <em>x</em> for all real numbers <em>x</em>.  Then\r\n",
    "<p style='text-align: center;'><em>&fnof;</em>(<em>i</em>)<sup>2</sup> = <em>&fnof;</em>(<em>i</em><sup>2</sup>) = <em>&fnof;</em>(&minus;1) = &minus;1,</p>\r\n",
    "so by Lemma 11.4, <em>&fnof;</em>(<em>i</em>) = &plusmn;<em>i</em>. If <em>&fnof;</em>(<em>i</em>) = <em>i</em>, then <em>&fnof;</em>(<em>x</em>) = <em>x</em> for all \r\n",
    "<em>x</em> &isin; &#8450;, and if <em>&fnof;</em>(<em>i</em>) = &minus;<em>i</em>, then <em>&fnof;</em>(<em>x</em>) = <em>&#981;</em>(<em>x</em>) for all <em>x</em>.<br><br>\r\n",
    "\r\n",
    "<a href=\"#prop114ret\">Return to text</a>\r\n",
    "\r\n",
    "<br><br><br><br><br><br><br><br><br><br><br><br><br><br><br><br><br><br><br><br><br><br><br><br><br><br><br><br><br><br><br><br><br><br><br><br><br><br><br><br><br><br>\r\n",
    "\r\n",
    "<a name=\"prop115\" id=\"prop115\"></a>\r\n",
    "\r\n",
    "Proof of Proposition 11.5:<br><br> \r\n",
    "\r\n",
    "We have\r\n",
    "<table align=\"center\" border=\"0\" cellspacing=\"0\" cellpadding=\"0\">\r\n",
    "  <tr>\r\n",
    "    <td></td>\r\n",
    "    <td align=\"center\" valign=\"bottom\">&emsp;<font style=\"text-decoration:underline\">&emsp;&emsp;&ensp;&emsp;&emsp;</font></td>\r\n",
    "    <td></td>\r\n",
    "    <td align=\"center\" valign=\"bottom\">&emsp;<font style=\"text-decoration:underline\">&emsp;&emsp;&ensp;&emsp;&emsp;&ensp;</font></td>\r\n",
    "    <td></td>\r\n",
    "    <td align=\"center\" valign=\"bottom\">&emsp;<font style=\"text-decoration:underline\">&emsp;&emsp;&ensp;&emsp;&emsp;&emsp;&ensp;</font></td>\r\n",
    "    <td></td>    \r\n",
    "    <td align=\"center\" valign=\"bottom\">&emsp;<font style=\"text-decoration:underline\">&emsp;&emsp;&ensp;</font></td>\r\n",
    "    <td></td>\r\n",
    "    <td align=\"center\" valign=\"bottom\">&emsp;<font style=\"text-decoration:underline\">&emsp;&emsp;&ensp;</font></td>\r\n",
    "    <td></td>\r\n",
    "  </tr>\r\n",
    "  <tr>\r\n",
    "    <td>|<em>x</em>&middot;<em>y</em>| =&ensp;</td>\r\n",
    "    <td align=\"center\" valign=\"top\">&radic; <em>x</em>&middot;<em>y</em> &middot; <font style=\"text-decoration:overline\"><em>x</em>&middot;<em>y</em></font></td>\r\n",
    "    <td>&ensp;=&ensp;</td>\r\n",
    "    <td align=\"center\" valign=\"top\">&radic; <em>x</em>&middot;<em>y</em> &middot; <font style=\"text-decoration:overline\"><em>x</em></font> &middot; \r\n",
    "    <font style=\"text-decoration:overline\"><em>y</em></font></td>\r\n",
    "    <td>&ensp;=&ensp;</td>\r\n",
    "    <td align=\"center\" valign=\"top\">&radic; <em>x</em> &middot; <font style=\"text-decoration:overline\"><em>x</em></font> &middot; <em>y</em> &middot;\r\n",
    "    <font style=\"text-decoration:overline\"><em>y</em></font></td>\r\n",
    "    <td>&ensp;=&ensp;</td>\r\n",
    "    <td align=\"center\" valign=\"top\">&radic; <em>x</em> &middot; <font style=\"text-decoration:overline\"><em>x</em></font></td>\r\n",
    "    <td>&middot;</td>\r\n",
    "    <td align=\"center\" valign=\"top\">&radic; <em>y</em> &middot; <font style=\"text-decoration:overline\"><em>y</em></font></td>\r\n",
    "    <td>&ensp;= |<em>x</em>|&middot;|<em>y</em>|.</td>\r\n",
    "  </tr>\r\n",
    "</table>\r\n",
    "<br>\r\n",
    "Thus, |<em>x</em>&middot;<em>y</em>| =  |<em>x</em>|&middot;|<em>y</em>|.<br><br>\r\n",
    "<a href=\"#prop115ret\">Return to text</a>\r\n",
    "\r\n",
    "<br><br><br><br><br><br><br><br><br><br><br><br><br><br><br><br><br><br><br><br><br><br><br><br><br><br><br><br><br><br><br><br><br><br><br><br><br><br><br><br><br><br>\r\n",
    "\r\n",
    "<a name=\"lem116\" id=\"lem116\"></a>\r\n",
    "\r\n",
    "Proof of Lemma 11.6:<br><br> \r\n",
    "\r\n",
    "We note that \r\n",
    "<p style='text-align: center;'><em>z</em><sub>1</sub>&middot;<em>z</em><sub>2</sub> = <em>r</em><sub>1</sub>( cos <em>&theta;</em><sub>1</sub> + \r\n",
    "<em>i</em> sin <em>&theta;</em><sub>1</sub>)&middot;<em>r</em><sub>2</sub>( cos <em>&theta;</em><sub>2</sub> + <em>i</em> sin <em>&theta;</em><sub>2</sub>) =\r\n",
    "<em>r</em><sub>1</sub>&middot;<em>r</em><sub>2</sub>( (cos <em>&theta;</em><sub>1</sub>&middot;cos <em>&theta;</em><sub>2</sub> &minus; \r\n",
    "sin <em>&theta;</em><sub>1</sub>&middot;sin <em>&theta;</em><sub>2</sub>) + <em>i</em> (cos <em>&theta;</em><sub>1</sub>&middot;sin <em>&theta;</em><sub>2</sub> + \r\n",
    "sin <em>&theta;</em><sub>1</sub>&middot;cos <em>&theta;</em><sub>2</sub>) ).</p>\r\n",
    "Using the trigonometric identities, this simplifies to\r\n",
    "<p style='text-align: center;'><em>z</em><sub>1</sub>&middot;<em>z</em><sub>2</sub> = \r\n",
    "<em>r</em><sub>1</sub>&middot;<em>r</em><sub>2</sub>( cos(<em>&theta;</em><sub>1</sub> + <em>&theta;</em><sub>2</sub>) + \r\n",
    "<em>i</em> sin(<em>&theta;</em><sub>1</sub> + <em>&theta;</em><sub>2</sub>) ).</p>\r\n",
    "\r\n",
    "<a href=\"#lem116ret\">Return to text</a>\r\n",
    "\r\n",
    "<br><br><br><br><br><br><br><br><br><br><br><br><br><br><br><br><br><br><br><br><br><br><br><br><br><br><br><br><br><br><br><br><br><br><br><br><br><br><br><br><br><br>\r\n",
    "  \r\n",
    "<a name=\"theor112\" id=\"theor112\"></a>\r\n",
    "\r\n",
    "Proof of Theorem 11.2:<br><br>   \r\n",
    "  \r\n",
    "Let us first prove the theorem for positive values of <em>n</em>. For <em>n</em> = 1, the statement is obvious. Let us assume that the statement is true for the \r\n",
    "previous case. That is,\r\n",
    "<p style='text-align: center;'><em>z</em><sup><em>n</em>&minus;1</sup> = <em>r</em><sup><em>n</em>&minus;1</sup>( cos((<em>n</em> &minus; 1)<em>&theta;</em>) + \r\n",
    "<em>i</em> sin((<em>n</em> &minus; 1)<em>&theta;</em>) ).</p>\r\n",
    "We want to prove that the theorem holds for <em>n</em> as well.  Using Lemma 11.6, we have\r\n",
    "<p style='text-align: center;'><em>z<sup>n</sup></em> = <em>z</em><sup><em>n</em>&minus;1</sup>&middot;<em>z</em> = \r\n",
    "<em>r</em><sup><em>n</em>&minus;1</sup>( cos((<em>n</em> &minus; 1)<em>&theta;</em>) + \r\n",
    "<em>i</em> sin((<em>n</em> &minus; 1)<em>&theta;</em>) )&middot;[<em>r</em>( cos <em>&theta;</em> + <em>i</em> sin <em>&theta;</em> )] = \r\n",
    "<em>r<sup>n</sup></em>( cos((<em>n</em> &minus; 1)<em>&theta;</em> + <em>&theta;</em>) + \r\n",
    "<em>i</em> sin((<em>n</em> &minus; 1)<em>&theta;</em> + <em>&theta;</em>) ) = <em>r<sup>n</sup></em>( cos(<em>n &theta;</em>) + \r\n",
    "<em>i</em> sin(<em>n &theta;</em>) ).</p>\r\n",
    "Thus, the theorem is true for <em>n</em> if we assume it is true for <em>n</em> &minus; 1, and hence by induction it is true whenever <em>n</em> is positive.<br><br>\r\n",
    "\r\n",
    "If <em>z</em> is nonzero, then letting <em>n</em> = 0 gives \r\n",
    "<p style='text-align: center;'><em>r</em><sup>0</sup>(cos(0 <em>&theta;</em>) + <em>i</em> sin(0 <em>&theta;</em>) ) = \r\n",
    "1(1 + <em>i</em>&middot;0) = 1 = <em>z</em><sup>0</sup>.</p>\r\n",
    "So the theorem holds for <em>n</em> = 0. If <em>z</em> is nonzero, then <em>r</em> &gt; 0, and so\r\n",
    "<p style='text-align: center;'>[<em>r</em><sup>&minus;<em>n</em></sup>( cos(&minus;<em>n &theta;</em>) + \r\n",
    "i sin( cos(&minus;<em>n &theta;</em>) )]&middot;[<em>r<sup>n</sup></em>( cos(<em>n &theta;</em>) + i sin( cos(<em>n &theta;</em>) )] = \r\n",
    "<em>r</em><sup>(&minus;<em>n</em>+<em>n</em>)</sup>( cos(&minus;<em>n &theta;</em> + <em>n &theta;</em>) + i sin( cos(&minus;<em>n &theta;</em> + <em>n &theta;</em>) ) =\r\n",
    "<em>r</em><sup>0</sup>( cos 0 + <em>i</em> sin 0 ) = 1.</p>\r\n",
    "Now, if <em>n</em> &lt; 0, then the theorem holds for &minus;<em>n</em>, and so\r\n",
    "<p style='text-align: center;'><em>z</em><sup>&minus;<em>n</em></sup>&middot;[<em>r<sup>n</sup></em>( cos(<em>n &theta;</em>) + i sin( cos(<em>n &theta;</em>) )] = 1,</p>\r\n",
    "hence <em>r<sup>n</sup></em>( cos(<em>n &theta;</em>) + i sin( cos(<em>n &theta;</em>) ) = <em>z<sup>n</sup></em> even when <em>n</em> &lt; 0.<br><br>  \r\n",
    "  \r\n",
    "<a href=\"#theor112ret\">Return to text</a>\r\n",
    "\r\n",
    "<br><br><br><br><br><br><br><br><br><br><br><br><br><br><br><br><br><br><br><br><br><br><br><br><br><br><br><br><br><br><br><br><br><br><br><br><br><br><br><br><br><br>\r\n",
    "  \r\n",
    "<a name=\"prop116\" id=\"prop116\"></a>\r\n",
    "\r\n",
    "Proof of Proposition 11.6:<br><br>   \r\n",
    "  \r\n",
    "If <em>z</em><sub>1</sub> = <em>a</em><sub>1</sub> + <em>b</em><sub>1</sub> <em>i</em> and <em>z</em><sub>2</sub> = \r\n",
    "<em>a</em><sub>2</sub> + <em>b</em><sub>2</sub> <em>i</em> we observe that\r\n",
    "<p style='text-align: center;'><em>&fnof;</em>(<em>z</em><sub>1</sub> + <em>z</em><sub>2</sub>) = \r\n",
    "<em>e</em><sup>(<em>a</em></sup>&sup1;<sup>+<em>a</em></sup>&sup2;<sup>)</sup>( cos(<em>b</em><sub>1</sub> + <em>b</em><sub>2</sub>) + \r\n",
    "<em>i</em> sin(<em>b</em><sub>1</sub> + <em>b</em><sub>2</sub>) ).</p>\r\n",
    "By Lemma 11.6, this equals \r\n",
    "<p style='text-align: center;'><em>e<sup>a</sup></em>&sup1;( cos(<em>b</em><sub>1</sub>) + \r\n",
    "<em>i</em> sin(<em>b</em><sub>1</sub>) )&middot;<em>e<sup>a</sup></em>&sup2;( cos(<em>b</em><sub>2</sub>) + <em>i</em> sin(<em>b</em><sub>2</sub>) ) =\r\n",
    "<em>&fnof;</em>(<em>z</em><sub>1</sub>)&middot;<em>&fnof;</em>(<em>z</em><sub>2</sub>).</p>\r\n",
    "Thus, <em>&fnof;</em> is a group homomorphism from &#8450;<sup>+</sup> to &#8450;<sup>*</sup>.<br><br>  \r\n",
    "  \r\n",
    "<a href=\"#prop116ret\">Return to text</a>\r\n",
    "\r\n",
    "<br><br><br><br><br><br><br><br><br><br><br><br><br><br><br><br><br><br><br><br><br><br><br><br><br><br><br><br><br><br><br><br><br><br><br><br><br><br><br><br><br><br> \r\n",
    "  \r\n",
    "<a name=\"prop117\" id=\"prop117\"></a>\r\n",
    "\r\n",
    "Proof of Proposition 11.7:<br><br>  \r\n",
    "  \r\n",
    "Let <em>z</em> have the polar form\r\n",
    "<p style='text-align: center;'><em>z</em> = <em>r</em> ( cos <em>&theta;</em> + <em>i</em> sin <em>&theta;</em>).</p>\r\n",
    "Then log(<em>z</em>) is the set\r\n",
    "<p style='text-align: center;'>{ ln(<em>r</em>) + <em>&theta; i</em> + 2 <em>k &pi; i</em> | <em>k</em> &isin; &#8484; }.</p>\r\n",
    "Thus, log(<em>z</em>)/<em>n</em> is given by the set\r\n",
    "<p style='text-align: center;'>{ <sup>ln(<em>r</em>)</sup>&frasl;<sub><em>n</em></sub> + <sup>(<em>&theta;</em> + \r\n",
    "2<em>k&pi;</em>) <em>i</em></sup>&frasl;<sub><em>n</em></sub> | <em>k</em> &isin; &#8484; }.</p>\r\n",
    "Thus, the exponential function of the elements of this set is given by\r\n",
    "<p style='text-align: center;'>{ <em>e</em><sup>ln(<em>r</em>)/<em>n</em></sup>&middot;<span style=\"font-size:24px\">(</span> \r\n",
    "cos<span style=\"font-size:24px\">(</span><sup>&theta; + 2 <em>k</em><em>&pi;</em></sup>&frasl;<sub><em>n</em></sub><span style=\"font-size:24px\">)</span> + \r\n",
    "<em>i</em> sin<span style=\"font-size:24px\">(</span><sup>&theta; + 2<em>k</em><em>&pi;</em></sup>&frasl;<sub><em>n</em></sub><span style=\"font-size:24px\">) )</span> \r\n",
    "| <em>k</em> &isin; &#8484; } = { <em>r</em><sup>1/<em>n</em></sup>&middot;<span style=\"font-size:24px\">(</span> \r\n",
    "cos<span style=\"font-size:24px\">(</span><sup>&theta; + 2<em>k</em><em>&pi;</em></sup>&frasl;<sub><em>n</em></sub><span style=\"font-size:24px\">)</span> + \r\n",
    "<em>i</em> sin<span style=\"font-size:24px\">(</span><sup>&theta; + 2<em>k</em><em>&pi;</em></sup>&frasl;<sub><em>n</em></sub><span style=\"font-size:24px\">) )</span> \r\n",
    "| <em>k</em> &isin; &#8484; }.</p>\r\n",
    "Notice that for two different values of <em>k</em> that differ by <em>n</em>, the arguments of the cosine and sine will differ by 2<em>&pi;</em>. Hence, we only have \r\n",
    "to consider the values of <em>k</em> from 0 to (<em>n</em> &minus; 1).  This gives us the set \r\n",
    "<p style='text-align: center;'>{ <em>r</em><sup>1/<em>n</em></sup>&middot;<span style=\"font-size:24px\">(</span> \r\n",
    "cos<span style=\"font-size:24px\">(</span><sup>&theta; + 2<em>k</em><em>&pi;</em></sup>&frasl;<sub><em>n</em></sub><span style=\"font-size:24px\">)</span> + \r\n",
    "<em>i</em> sin<span style=\"font-size:24px\">(</span><sup>&theta; + 2<em>k</em><em>&pi;</em></sup>&frasl;<sub><em>n</em></sub><span style=\"font-size:24px\">) )</span> \r\n",
    "| <em>k</em> = 0, 1, 2, &hellip; <em>n</em> &minus; 1 }.</p>\r\n",
    "However, these <em>n</em> solutions will have arguments that differ by less than 2 <em>&pi;</em>, so these <em>n</em> solutions are distinct.<br><br>\r\n",
    "\r\n",
    "Finally, we must show that <em>x</em> is an element of <em>z</em><sup>1/<em>n</em></sup> if, and only if, <em>x</em> solves the \r\n",
    "equation <em>x<sup>n</sup></em> = <em>z</em>.  But for any element in the above expression, we have that\r\n",
    "<p style='text-align: center;'><em>x<sup>n</sup></em> = <em>r</em><sup><em>n</em>(1/<em>n</em>)</sup>&middot;<span style=\"font-size:24px\">(</span> \r\n",
    "cos<span style=\"font-size:24px\">(</span><sup><em>n</em>(&theta; + 2<em>k</em><em>&pi;</em>)</sup>&frasl;<sub><em>n</em></sub><span style=\"font-size:24px\">)</span> + \r\n",
    "<em>i</em> sin<span style=\"font-size:24px\">(</span><sup><em>n</em>(&theta; + \r\n",
    "2<em>k</em><em>&pi;</em>)</sup>&frasl;<sub><em>n</em></sub><span style=\"font-size:24px\">) )</span> = \r\n",
    "<em>r</em>( cos <em>&theta;</em> + <em>i</em> sin <em>&theta;</em> ) = <em>z</em>.</p>\r\n",
    "Likewise, if <em>x<sup>n</sup></em> = <em>z</em>, we can raise both sides to the (1/<em>n</em>)<sup>th</sup> power to get that the two sets \r\n",
    "(<em>x<sup>n</sup></em>)<sup>1/<em>n</em></sup> and <em>z</em><sup>1/<em>n</em></sup> are equal. Since the element <em>x</em> is certainly in the first set, it must also \r\n",
    "be in the set <em>z</em><sup>1/<em>n</em></sup> that we have just computed.<br><br> \r\n",
    "  \r\n",
    "<a href=\"#prop117ret\">Return to text</a>\r\n",
    "\r\n",
    "<br><br><br><br><br><br><br><br><br><br><br><br><br><br><br><br><br><br><br><br><br><br><br><br><br><br><br><br><br><br><br><br><br><br><br><br><br><br><br><br><br><br>\r\n",
    " \r\n",
    "<a name=\"lem117\" id=\"lem117\"></a>\r\n",
    "\r\n",
    "Proof of Lemma 11.7:<br><br>    \r\n",
    "  \r\n",
    "To prove the first statement, note that since <em>x</em> &gt; <em>y</em>, we have that <em>x</em> &minus; <em>y</em> &isin; <em>P</em>.  But then \r\n",
    "<p style='text-align: center;'>(<em>x</em> + <em>z</em>) &minus; (<em>y</em> + <em>z</em>) &isin; <em>P</em>,</p>\r\n",
    "and so <em>x</em> + <em>z</em> &gt; <em>y</em> + <em>z</em>. <br><br>\r\n",
    "\r\n",
    "For the second statement, we have that <em>x</em> &gt; <em>y</em> and <em>z</em> &gt; 0, and so (<em>x</em> &minus; <em>y</em>) &isin; <em>P</em> and\r\n",
    "<em>z</em> &isin; <em>P</em>.  Since <em>P</em> is closed under multiplication, we have that\r\n",
    "<p style='text-align: center;'>(<em>x</em> &minus; <em>y</em>)&middot;<em>z</em> = <em>x</em>&middot;<em>z</em> &minus; <em>y</em>&middot;<em>z</em> &isin; <em>P</em>,</p>\r\n",
    "and so <em>x</em>&middot;<em>z</em> &gt; <em>y</em>&middot;<em>z</em>.<br><br>\r\n",
    "\r\n",
    "Finally, if <em>x</em> &gt; <em>y</em> and <em>y</em> &gt; <em>z</em>, then both <em>x</em> &minus; <em>y</em> &isin; <em>P</em> and \r\n",
    "<em>y</em> &minus; <em>z</em> &isin; <em>P</em>.  Since <em>P</em> is closed under addition, we have that \r\n",
    "<p style='text-align: center;'>(<em>x</em> &minus; <em>y</em>) + (<em>y</em> &minus; <em>z</em>) = <em>x</em> &minus; <em>z</em> &isin; <em>P</em>,</p>\r\n",
    "and so <em>x</em> &gt; <em>z</em>.<br><br>\r\n",
    "  \r\n",
    "<a href=\"#lem117ret\">Return to text</a>\r\n",
    "\r\n",
    "<br><br><br><br><br><br><br><br><br><br><br><br><br><br><br><br><br><br><br><br><br><br><br><br><br><br><br><br><br><br><br><br><br><br><br><br><br><br><br><br><br><br> \r\n",
    "  \r\n",
    "<a name=\"prop118\" id=\"prop118\"></a>\r\n",
    "\r\n",
    "Proof of Proposition 11.8:<br><br>  \r\n",
    "  \r\n",
    "Since <em>x</em> is nonzero, by the law of trichotomy either <em>x</em> &gt; 0, or &minus;<em>x</em> &gt; 0.  If <em>x</em> &gt; 0 then \r\n",
    "<p style='text-align: center;'><em>x</em><sup>2</sup> = <em>x</em>&middot;<em>x</em> &gt; 0.</p>\r\n",
    "On the other hand, if &minus;<em>x</em> &gt; 0, then \r\n",
    "<p style='text-align: center;'><em>x</em><sup>2</sup> = (&minus;<em>x</em>)&middot;(&minus;<em>x</em>) &gt; 0.</p>\r\n",
    "Thus, in either case <em>x</em><sup>2</sup> is in <em>P</em>.<br><br>  \r\n",
    "  \r\n",
    "<a href=\"#prop118ret\">Return to text</a>\r\n",
    "\r\n",
    "<br><br><br><br><br><br><br><br><br><br><br><br><br><br><br><br><br><br><br><br><br><br><br><br><br><br><br><br><br><br><br><br><br><br><br><br><br><br><br><br><br><br>   \r\n",
    "  \r\n",
    "<a name=\"cor112\" id=\"cor112\"></a>\r\n",
    "\r\n",
    "Proof of Corollary 11.2:<br><br>  \r\n",
    "  \r\n",
    "Since 1<sup>2</sup> = 1, we have from Proposition 11.8 that 1 &gt; 0.  Proceeding by induction, let us assume that (<em>n</em> &minus; 1)&middot;1 &gt; 0, and \r\n",
    "show that <em>n</em>&middot;1 &gt; 0.  But this is easy, since\r\n",
    "<p style='text-align: center;'><em>n</em>&middot;1 = (<em>n</em> &minus; 1)&middot;1 + 1&middot;1 = (<em>n</em> &minus; 1)&middot;1 + 1 &gt; 0.</p>\r\n",
    "Thus, we have that <em>n</em>&middot;1 &gt; 0 for every positive number <em>n</em>.  This immediately implies that the characteristic is zero, for if <em>R</em> had \r\n",
    "a positive characteristic <em>p</em>, then <em>p</em>&middot;1 = 0, and we would have 0 &gt; 0, a contradiction.<br><br>  \r\n",
    "  \r\n",
    "<a href=\"#cor112ret\">Return to text</a>\r\n",
    "\r\n",
    "<br><br><br><br><br><br><br><br><br><br><br><br><br><br><br><br><br><br><br><br><br><br><br><br><br><br><br><br><br><br><br><br><br><br><br><br><br><br><br><br><br><br> \r\n",
    "  \r\n",
    "<a name=\"prop119\" id=\"prop119\"></a>\r\n",
    "\r\n",
    "Proof of Proposition 11.9:<br><br>   \r\n",
    "  \r\n",
    "We will begin by showing that the ordering is uniquely determined. Since for any <em>p</em> in <em>P</em>, we have \r\n",
    "<p style='text-align: center;'><span style=\"font-size:24px\">(</span><sup>1</sup>&frasl;<sub><em>p</em></sub><span \r\n",
    "style=\"font-size:24px\">)</span>&middot;<span style=\"font-size:24px\">(</span><sup><em>p</em></sup>&frasl;<sub>1</sub><span \r\n",
    "style=\"font-size:24px\">)</span> = <span style=\"font-size:24px\">(</span><sup><em>p</em></sup>&frasl;<sub><em>p</em></sub><span \r\n",
    "style=\"font-size:24px\">)</span> = <span style=\"font-size:24px\">(</span><sup>1</sup>&frasl;<sub>1</sub><span \r\n",
    "style=\"font-size:24px\">)</span> = 1 &isin; <em>P</em>,</p>\r\n",
    "<span style=\"font-size:24px\">(</span><sup>1</sup>&frasl;<sub><em>p</em></sub><span style=\"font-size:24px\">)</span> must be considered to be positive in the new ordering. \r\n",
    "But then <span style=\"font-size:24px\">(</span><sup><em>n</em></sup>&frasl;<sub><em>p</em></sub><span style=\"font-size:24px\">)</span> must be positive whenever <em>n</em> \r\n",
    "and <em>p</em> are in <em>P</em>. Thus <em>P</em>&thinsp;&prime; contains at least those elements of the \r\n",
    "form <span style=\"font-size:24px\">(</span><sup><em>n</em></sup>&frasl;<sub><em>p</em></sub><span style=\"font-size:24px\">)</span>, where <em>n</em> and <em>p</em> are \r\n",
    "in <em>P</em>.  Note that every nonzero element in the field of quotients <em>Q</em> must be of one of the four forms\r\n",
    "<p style='text-align: center;'><span style=\"font-size:24px\">(</span><sup><em>n</em></sup>&frasl;<sub><em>p</em></sub><span style=\"font-size:24px\">)</span>, \r\n",
    "<span style=\"font-size:24px\">(</span><sup>&minus;<em>n</em></sup>&frasl;<sub><em>p</em></sub><span style=\"font-size:24px\">)</span>, \r\n",
    "<span style=\"font-size:24px\">(</span><sup><em>n</em></sup>&frasl;<sub>&minus;<em>p</em></sub><span style=\"font-size:24px\">)</span>,\r\n",
    "<span style=\"font-size:24px\">(</span><sup>&minus;<em>n</em></sup>&frasl;<sub>&minus;<em>p</em></sub><span style=\"font-size:24px\">)</span>,</p>\r\n",
    "where <em>n</em> and <em>p</em> are in <em>P</em>. But the first and the last expressions are equivalent, and the middle two are also equivalent.  Thus, \r\n",
    "for every nonzero element of <em>Q</em>, either that element or its negative is of the \r\n",
    "form <span style=\"font-size:24px\">(</span><sup><em>n</em></sup>&frasl;<sub><em>p</em></sub><span style=\"font-size:24px\">)</span>, with <em>n</em> and <em>p</em> in \r\n",
    "<em>P</em>.  Thus, <em>P</em>&thinsp;&prime; cannot contain any more elements besides those of the \r\n",
    "form <span style=\"font-size:24px\">(</span><sup><em>n</em></sup>&frasl;<sub><em>p</em></sub><span style=\"font-size:24px\">)</span>, and hence <em>P</em>&thinsp;&prime; is \r\n",
    "uniquely determined.<br><br>\r\n",
    "\r\n",
    "Now, suppose we consider the set of elements <em>P</em>&thinsp;&prime; that can be expressed in the \r\n",
    "form <span style=\"font-size:24px\">(</span><sup><em>n</em></sup>&frasl;<sub><em>p</em></sub><span style=\"font-size:24px\">)</span>, where <em>n</em> and <em>p</em> are \r\n",
    "in <em>P</em>.  Does this form an ordering on <em>Q</em>?  We have already seen that the law of trichotomy has been demonstrated.  All we need to show is \r\n",
    "that <em>P</em>&thinsp;&prime; is closed under addition and multiplication.  But this is clear by looking at the formulas\r\n",
    "<p style='text-align: center;'><span style=\"font-size:24px\">(</span><sup><em>x</em></sup>&frasl;<sub><em>y</em></sub><span style=\"font-size:24px\">)</span> +\r\n",
    "<span style=\"font-size:24px\">(</span><sup><em>u</em></sup>&frasl;<sub><em>v</em></sub><span style=\"font-size:24px\">)</span> =\r\n",
    "<span style=\"font-size:24px\">(</span><sup><em>x</em>&middot;<em>v</em>+<em>u</em>&middot;<em>y</em></sup>&frasl;<sub><em>y</em>&middot;<em>v</em></sub><span \r\n",
    "style=\"font-size:24px\">)</span></p>\r\n",
    "and\r\n",
    "<p style='text-align: center;'><span style=\"font-size:24px\">(</span><sup><em>x</em></sup>&frasl;<sub><em>y</em></sub><span \r\n",
    "style=\"font-size:24px\">)</span>&middot;<span style=\"font-size:24px\">(</span><sup><em>u</em></sup>&frasl;<sub><em>v</em></sub><span style=\"font-size:24px\">)</span> =\r\n",
    "<span style=\"font-size:24px\">(</span><sup><em>x</em>&middot;<em>u</em></sup>&frasl;<sub><em>y</em>&middot;<em>v</em></sub><span \r\n",
    "style=\"font-size:24px\">)</span>.</p>\r\n",
    "Thus, <em>P</em>&thinsp;&prime; forms an ordering on <em>Q</em>, and is an extension of the ordering <em>P</em>.<br><br>  \r\n",
    "  \r\n",
    "<a href=\"#prop119ret\">Return to text</a>\r\n",
    "\r\n",
    "<br><br><br><br><br><br><br><br><br><br><br><br><br><br><br><br><br><br><br><br><br><br><br><br><br><br><br><br><br><br><br><br><br><br><br><br><br><br><br><br><br><br>  \r\n",
    "  \r\n",
    "<a name=\"sec11p\" id=\"sec11p\"></a>\r\n",
    "<h1><em>Sage</em> Interactive Problems</h1>\r\n",
    "\r\n",
    "<br>\r\n",
    "&sect;11.1 #24)<br>\r\n",
    "In the field of &quot;complex numbers modulo 3&quot;:<br>"
   ]
  },
  {
   "cell_type": "code",
   "execution_count": 0,
   "metadata": {
    "collapsed": false
   },
   "outputs": [
   ],
   "source": [
    "InitDomain(3,\"x\")\r\n",
    "AddFieldVar(\"i\")\r\n",
    "Define(i^2, -1)\r\n",
    "K = ListField(); K"
   ]
  },
  {
   "cell_type": "markdown",
   "metadata": {
    "collapsed": false
   },
   "source": [
    "<br>\r\n",
    "Factor the polynomials <em>x</em><sup>3</sup> + 1, <em>x</em><sup>3</sup> + 2, <em>x</em><sup>3</sup> + i, <em>x</em><sup>3</sup> + 2*i.  What do you notice about \r\n",
    "the factorizations?  Knowing how <em>real</em> polynomials factor, explain what is happening.<br>"
   ]
  },
  {
   "cell_type": "markdown",
   "metadata": {
    "collapsed": false
   },
   "source": [
    "<br>\r\n",
    "&sect;11.1 #25)<br> \r\n",
    "Expain why the ring &quot;complex numbers modulo 5&quot;<br>"
   ]
  },
  {
   "cell_type": "code",
   "execution_count": 0,
   "metadata": {
    "collapsed": false
   },
   "outputs": [
   ],
   "source": [
    "InitDomain(5)\r\n",
    "AddFieldVar(\"i\")\r\n",
    "Define(i^2,-1)"
   ]
  },
  {
   "cell_type": "markdown",
   "metadata": {
    "collapsed": false
   },
   "source": [
    "<br>\r\n",
    "does not form a field.  Can you determine a pattern as to which integers &quot;complex numbers modulo <em>n</em>&quot; form a field?<br>"
   ]
  },
  {
   "cell_type": "markdown",
   "metadata": {
    "collapsed": false
   },
   "source": [
    "<br>\r\n",
    "&sect;11.2 #18)<br> \r\n",
    "Have <em>Sage</em> simplify the rational function over <em>Z</em><sub>2</sub>(<em>x</em>):<br><br>\r\n",
    "\r\n",
    "<table align=\"center\" border=\"0\" cellspacing=\"0\" cellpadding=\"0\">\r\n",
    "  <tr>\r\n",
    "    <td align=\"center\"><font style=\"text-decoration:underline\"><em>x</em>&#8308; + <em>x</em>&sup3; + <em>x</em> + 1</font></td>\r\n",
    "    <td rowspan = \"2\" align=\"center\">&ensp;.</td>\r\n",
    "  </tr>\r\n",
    "  <tr>\r\n",
    "    <td align=\"center\"><em>x</em>&sup3; + <em>x</em>&sup2; + <em>x</em> + 1</td>\r\n",
    "  </tr>\r\n",
    "</table>"
   ]
  },
  {
   "cell_type": "markdown",
   "metadata": {
    "collapsed": false
   },
   "source": [
    "<br>\r\n",
    "&sect;11.2 #19)<br> \r\n",
    "Try squaring different elements of <em>Z</em><sub>2</sub>(<em>x</em>).  What do you observe?  Any explanations?<br>"
   ]
  },
  {
   "cell_type": "markdown",
   "metadata": {
    "collapsed": false
   },
   "source": [
    "<br>\r\n",
    "&sect;11.2 #20)<br> \r\n",
    "Have <em>Sage</em> compute the following operation in the rational function field <em>K</em>(<em>x</em>).<br>"
   ]
  },
  {
   "cell_type": "code",
   "execution_count": 0,
   "metadata": {
    "collapsed": false
   },
   "outputs": [
   ],
   "source": [
    "InitDomain(3,\"x\")\r\n",
    "AddFieldVar(\"i\")\r\n",
    "Define(i^2, -1)\r\n",
    "K = ListField(); K"
   ]
  },
  {
   "cell_type": "markdown",
   "metadata": {
    "collapsed": false
   },
   "source": [
    "<br>\r\n",
    "<table align=\"center\" border=\"0\" cellspacing=\"0\" cellpadding=\"0\">\r\n",
    "  <tr>\r\n",
    "    <td align=\"center\"><font style=\"text-decoration:underline\">&emsp;&emsp;(1 + <em>i</em>)<em>x</em> + 2&emsp;&emsp;</font></td>\r\n",
    "    <td rowspan = \"2\" align=\"center\">&ensp;+&ensp;</td>\r\n",
    "    <td align=\"center\"><font style=\"text-decoration:underline\">&emsp;&emsp;2 <em>x</em> + 1 + <em>i</em>&emsp;&emsp;</font></td>\r\n",
    "    <td rowspan = \"2\" align=\"center\">&ensp;.</td>\r\n",
    "  </tr>\r\n",
    "  <tr>\r\n",
    "    <td align=\"center\"><em>x</em>&sup2; + 2<em>i x</em> + 2 + <em>i</em></td>\r\n",
    "    <td align=\"center\"><em>x</em>&sup2; + (2 + <em>i</em>)<em>x</em> + 2</td>\r\n",
    "  </tr>\r\n",
    "</table> \r\n",
    "<br>"
   ]
  },
  {
   "cell_type": "markdown",
   "metadata": {
    "collapsed": false
   },
   "source": [
    "<br>\r\n",
    "&sect;11.2 #21)<br> \r\n",
    "It was mentioned that the definition of the quotient field does not depend on whether elements in the integral domain have unique\r\n",
    "factorization.  An example of such a domain is &#8484;[&radic;<font style=\"text-decoration:overline\">&minus;5</font>], which \r\n",
    "we can enter in <em>Sage</em> as follows:<br>"
   ]
  },
  {
   "cell_type": "code",
   "execution_count": 0,
   "metadata": {
    "collapsed": false
   },
   "outputs": [
   ],
   "source": [
    "InitDomain(0,\"x\")\r\n",
    "AddFieldVar(\"a\")\r\n",
    "Define(a^2, -5)"
   ]
  },
  {
   "cell_type": "markdown",
   "metadata": {
    "collapsed": false
   },
   "source": [
    "<br>\r\n",
    "Show that the two fractions<br>\r\n",
    "<br>\r\n",
    "<table align=\"center\" border=\"0\" cellspacing=\"0\" cellpadding=\"0\">\r\n",
    "  <tr>\r\n",
    "    <td align=\"center\"><font style=\"text-decoration:underline\">3 <em>x</em> + 3 <em>a</em></font></td>\r\n",
    "    <td rowspan = \"2\" align=\"center\">&emsp; and &emsp;</td>\r\n",
    "    <td align=\"center\"><font style=\"text-decoration:underline\">(1 &minus; <em>a</em>)<em>x</em> + 5 + <em>a</em></font></td>\r\n",
    "  </tr>\r\n",
    "  <tr>\r\n",
    "    <td align=\"center\">(1 + <em>a</em>)<em>x</em></td>\r\n",
    "    <td align=\"center\">2 <em>x</em></td>\r\n",
    "  </tr>\r\n",
    "</table> \r\n",
    "<br>\r\n",
    "are in fact equal, even though neither can simplify.<br>"
   ]
  },
  {
   "cell_type": "markdown",
   "metadata": {
    "collapsed": false
   },
   "source": [
    "<br>\r\n",
    "&sect;11.3 #19)<br> \r\n",
    "Find the twelfth roots of unity, and arrange them in such a way that the circle graph puts the elements in the correct \r\n",
    "place in the complex plane, as was done for the eighth roots of unity.<br>"
   ]
  },
  {
   "cell_type": "markdown",
   "metadata": {
    "collapsed": false
   },
   "source": [
    "<br>\r\n",
    "&sect;11.3 #20)<br> \r\n",
    "Use <em>Sage</em> to plot the real part of log(<em>x</em> + <em>i y</em>), the companion of Figure 11.3.  Would this \r\n",
    "surface be multi-valued, as was Figure 11.3?<br>"
   ]
  },
  {
   "cell_type": "markdown",
   "metadata": {
    "collapsed": false
   },
   "source": [
    "&sect;11.4 #19)<br>\r\n",
    "Follow the example of &#8484;[&#8731;<font style=\"text-decoration:overline\">2</font>] to define the integral \r\n",
    "domain &#8484;[&radic;<font style=\"text-decoration:overline\">5</font>] in <em>Sage</em>.  Then \r\n",
    "define <strong>F</strong> to be a nontrivial ring automorphism for this \r\n",
    "domain.<br>"
   ]
  },
  {
   "cell_type": "markdown",
   "metadata": {
    "collapsed": false
   },
   "source": [
    "<br>\r\n",
    "&sect;11.4 #20)<br>\r\n",
    "Use <em>Sage</em> to show that numbers of the form \r\n",
    "<p style='text-align: center;'><em>x</em> + <em>y</em> cos(<em>&pi;</em>/7) + <em>z</em> cos(2<em>&pi;</em>/7)</p>\r\n",
    "is closed under multiplication, using <strong>TrigReduce</strong>.  Assuming that this forms a field, find a nontrivial \r\n",
    "ring automorphism on this field.<br>"
   ]
  },
  {
   "cell_type": "markdown",
   "metadata": {
    "collapsed": false
   },
   "source": [
    "</font>\r\n",
    "\r\n",
    "</body>\r\n",
    "\r\n",
    "</html>"
   ]
  }
 ],
 "metadata": {
  "kernelspec": {
   "display_name": "SageMath (stable)",
   "name": "sagemath"
  },
  "language_info": {
   "codemirror_mode": {
    "name": "ipython",
    "version": 2
   },
   "file_extension": ".py",
   "mimetype": "text/x-python",
   "name": "python",
   "nbconvert_exporter": "python",
   "pygments_lexer": "ipython2",
   "version": "2.7.14"
  }
 },
 "nbformat": 4,
 "nbformat_minor": 0
}