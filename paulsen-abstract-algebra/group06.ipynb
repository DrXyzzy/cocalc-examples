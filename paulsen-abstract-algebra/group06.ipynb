{
 "cells": [
  {
   "cell_type": "markdown",
   "metadata": {
    "collapsed": false
   },
   "source": [
    "<!-- Group06 -->\n",
    "<html>\n",
    "<body>\n",
    "\n",
    "<!-- To make the size of the font bigger for presentations, change the following command from +1 to +2 -->\n",
    "<font size=\"+1\">\n",
    "\n",
    "<p style='font-size: 36px;font-family: Arial;font-style: italic;font-weight: bold;color: #FF00FF;background-color: #80FFFF;text-align: center;'>\n",
    "Abstract Algebra: An Interactive Approach, 2e\n",
    "</p>\n",
    "\n",
    "<p style='font-family: Geneva;font-style: italic;color: #0000FF;background-color: #FFFFFF;'>\n",
    "&copy;2015 This notebook is provided with the textbook, &quot;Abstract Algebra: An Interactive Approach, 2nd Ed.&quot; by William Paulsen. Users of this notebook are encouraged to buy the textbook.\n",
    "</p>\n",
    "\n",
    "\n",
    "\n",
    "<p style='font-size: 36px;font-family: New York;font-weight: bold;color: #000000;background-color: #FFFFFF;text-align: center;border: 1px;border-style: \n",
    "solid;border-color: #000000;'>\n",
    "Chapter 6<br>\n",
    "Building Larger Groups from Smaller Groups\n",
    "</p>\n",
    "\n",
    "\n",
    "<p style='text-align: center;'>Initialization:  This cell MUST be evaluated first:</p>"
   ]
  },
  {
   "cell_type": "code",
   "execution_count": 0,
   "metadata": {
    "collapsed": false
   },
   "outputs": [
   ],
   "source": [
    "%display latex\n",
    "try:\n",
    "    load('absalgtext.sage')\n",
    "except IOError:\n",
    "    load('/media/sf_sage/absalgtext.sage')"
   ]
  },
  {
   "cell_type": "markdown",
   "metadata": {
    "collapsed": false
   },
   "source": [
    "<br>\r\n",
    "<a href=\"#sec61\">The Direct Product</a><br>\r\n",
    "<a href=\"#sec62\">The Fundemental Theorem of Finite Abelian Groups</a><br>\r\n",
    "<a href=\"#sec63\">Automorphisms</a><br>\r\n",
    "<a href=\"#sec64\">Semi-Direct Products</a><br>\r\n",
    "<a href=\"#sec6p\"><em>Sage</em> Interactive Problems</a><br>\r\n",
    "\r\n",
    "<a name=\"sec61\" id=\"sec61\"></a>\r\n",
    "<h1>The Direct Product</h1>\r\n",
    "\r\n",
    "<br>\r\n",
    "In this chapter, we will focus on forming larger groups using the smaller groups previously studied as building blocks. In this way, many important groups can be \r\n",
    "constructed. In fact, we will be able to construct <em>all</em> finite abelian groups using only the groups that we have already studied.<br><br>\r\n",
    " \r\n",
    "The first step in building larger groups is to understand how two groups can be combined. Let <em>H</em> and <em>K</em> be two groups, and let <em>G</em> be the set of \r\n",
    "all ordered pairs (<em>h</em>, <em>k</em>) such that <em>h</em> &isin; <em>H</em>  and <em>k</em> &isin; <em>K</em>.<br><br>\r\n",
    "\r\n",
    "We need to describe how to multiply two ordered pairs together. If (<em>h</em><sub>1</sub>, <em>k</em><sub>1</sub>) and (<em>h</em><sub>2</sub>, <em>k</em><sub>2</sub>) \r\n",
    "are two ordered pairs in <em>G</em>, the product could be defined in the natural way:\r\n",
    "<p style='text-align: center;'>(<em>h</em><sub>1</sub>, <em>k</em><sub>1</sub>)&middot;(<em>h</em><sub>2</sub>, <em>k</em><sub>2</sub>) = \r\n",
    "(<em>h</em><sub>1</sub>&middot;<em>h</em><sub>2</sub>, <em>k</em><sub>1</sub>&middot;<em>k</em><sub>2</sub>).</p>\r\n",
    "It is clear that the associate law would hold. If <em>e</em><sub>1</sub> is the identity element for <em>H</em> and <em>e</em><sub>2</sub> the identity element for \r\n",
    "<em>K</em>, then (<em>e</em><sub>1</sub>, <em>e</em><sub>2</sub>) would be the identity element of <em>G</em>.<br><br>\r\n",
    "\r\n",
    "Finally we can define the inverse of an ordered pair (<em>h</em>, <em>k</em>) to be (<em>h</em><sup>-1</sup>, <em>k</em><sup>-1</sup>). This is so\r\n",
    "<p style='text-align: center;'>(<em>h</em>, <em>k</em>)&middot;(<em>h</em><sup>-1</sup>, <em>k</em><sup>-1</sup>) = \r\n",
    "(<em>h</em><sup>-1</sup>, <em>k</em><sup>-1</sup>)&middot;(<em>h</em>, <em>k</em>) = (<em>e</em><sub>1</sub>, <em>e</em><sub>2</sub>).</p>\r\n",
    "Since the four properties of groups hold for the set <em>G</em> of ordered pairs (<em>h</em>, <em>k</em>), <em>G</em> forms a group.<br><br>\r\n",
    "\r\n",
    "DEFINITION 6.1<br>\r\n",
    "Given two groups <em>H</em> and <em>K</em>, the <em>direct product</em> of <em>H</em> and <em>K</em>, denoted <em>H</em> &times; <em>K</em>, is the group of ordered pairs \r\n",
    "(<em>h</em>, <em>k</em>) such that <em>h</em> &isin; <em>H</em>  and <em>k</em> &isin; <em>K</em>, with multiplication defined by\r\n",
    "<p style='text-align: center;'>(<em>h</em><sub>1</sub>, <em>k</em><sub>1</sub>)&middot;(<em>h</em><sub>2</sub>, <em>k</em><sub>2</sub>) = \r\n",
    "(<em>h</em><sub>1</sub>&middot;<em>h</em><sub>2</sub>, <em>k</em><sub>1</sub>&middot;<em>k</em><sub>2</sub>).</p>\r\n",
    "<br>\r\n",
    "\r\n",
    "EXAMPLE:<br>\r\n",
    "Let <em>H</em> = <em>Z</em><sub>4</sub>, and <em>K</em> = <em>Z</em><sub>2</sub>. Consider the direct product \r\n",
    "<em>G</em> = <em>Z</em><sub>4</sub> &times; <em>Z</em><sub>2</sub>.  Since <em>Z</em><sub>4</sub> consists of the elements {0,1,2,3} and <em>Z</em><sub>2</sub> consists \r\n",
    "of {0, 1}, the set of all ordered pairs (<em>h</em>, <em>k</em>) with <em>h</em> in <em>Z</em><sub>4</sub> and <em>k</em> in <em>Z</em><sub>2</sub> is \r\n",
    "<p style='text-align: center;'>{(0,0), (0,1), (1,0), (1,1), (2,0), (2,1), (3,0), (3,1)}.</p>\r\n",
    "Thus, we will have a group of order 8. Multiplication is performed component-wise in the two groups.  In order to define this group in <em>Sage</em>, we first define \r\n",
    "the groups <em>Z</em><sub>4</sub> and <em>Z</em><sub>2</sub>.<br>"
   ]
  },
  {
   "cell_type": "code",
   "execution_count": 0,
   "metadata": {
    "collapsed": false
   },
   "outputs": [
   ],
   "source": [
    "Z4 = ZGroup(4)\r\n",
    "Z2 = ZGroup(2)\r\n",
    "G = DirectProduct(Z4, Z2); G"
   ]
  },
  {
   "cell_type": "markdown",
   "metadata": {
    "collapsed": false
   },
   "source": [
    "<br>\r\n",
    "We can now look at the Cayley table.<br>"
   ]
  },
  {
   "cell_type": "code",
   "execution_count": 0,
   "metadata": {
    "collapsed": false
   },
   "outputs": [
   ],
   "source": [
    "MultTable(G)"
   ]
  },
  {
   "cell_type": "markdown",
   "metadata": {
    "collapsed": false
   },
   "source": [
    "<br>\r\n",
    "Recall that in Chapter 4, we found that there were only 5 non-isomorphic groups of order 8: <em>Z</em><sub>8</sub>, <em>Z</em><sub>15</sub><sup>*</sup>, \r\n",
    "<em>Z</em><sub>24</sub><sup>*</sup>, <em>D</em><sub>4</sub>, and  <em>Q</em>.  Hence, this group must be isomorphic to one of these groups.  Notice that this group is\r\n",
    "commutative, so it is neither <em>Q</em> nor <em>D</em><sub>4</sub>. There is an element of order 4, namely (1,0), but there are no elements of order 8. Hence this group \r\n",
    "cannot be either  <em>Z</em><sub>8</sub> nor <em>Z</em><sub>24</sub><sup>*</sup>. Since <em>Z</em><sub>15</sub><sup>*</sup> is the only remaining possibility, this group \r\n",
    "must be isomorphic to <em>Z</em><sub>15</sub><sup>*</sup>.<br>\r\n",
    "<br>\r\n",
    "\r\n",
    "EXPERIMENT:<br>\r\n",
    "Compare the group <em>Z</em><sub>4</sub> &times; <em>Z</em><sub>2</sub> given by the table<br>"
   ]
  },
  {
   "cell_type": "code",
   "execution_count": 0,
   "metadata": {
    "collapsed": false
   },
   "outputs": [
   ],
   "source": [
    "MultTable(G)"
   ]
  },
  {
   "cell_type": "markdown",
   "metadata": {
    "collapsed": false
   },
   "source": [
    "<br>\r\n",
    "with the table for <em>Z</em><sub>15</sub><sup>*</sup>, generated by the commands<br>"
   ]
  },
  {
   "cell_type": "code",
   "execution_count": 0,
   "metadata": {
    "collapsed": false
   },
   "outputs": [
   ],
   "source": [
    "M = ZStar(15); M"
   ]
  },
  {
   "cell_type": "code",
   "execution_count": 0,
   "metadata": {
    "collapsed": false
   },
   "outputs": [
   ],
   "source": [
    "MultTable([M[0], M[1], M[2], M[3], M[4], M[5], M[6], M[7]])"
   ]
  },
  {
   "cell_type": "markdown",
   "metadata": {
    "collapsed": false
   },
   "source": [
    "<br>\r\n",
    "Can you, by rearranging the elements in the last <strong>MultTable</strong> command, get the color pattern of this table to resemble the pattern for \r\n",
    "<em>Z</em><sub>4</sub> &times; <em>Z</em><sub>2</sub>?<br><br>\r\n",
    " \r\n",
    "Hint: Which element of <em>Z</em><sub>15</sub><sup>*</sup> corresponds to (2,0)? What are the other elements of order 2?<br><br>"
   ]
  },
  {
   "cell_type": "markdown",
   "metadata": {
    "collapsed": false
   },
   "source": [
    "In this example, we saw that the direct product of two commutative groups turned out to be commutative. This is, in fact, what generally happens.\r\n",
    "\r\n",
    "<p />\r\n",
    "<a name=\"prop61ret\" id=\"prop61ret\"></a>\r\n",
    "PROPOSITION 6.1<br>\r\n",
    "Let <em>H</em> and <em>K</em> be two groups. Then <em>H</em> <em>&times;</em> <em>K</em> is commutative if, and only if, both <em>H</em> and <em>K</em> \r\n",
    "are commutative.<br><br>\r\n",
    "\r\n",
    "<a href=\"#prop61\">Click here for the proof.</a>\r\n",
    "\r\n",
    "<p />\r\n",
    "It is easy to find the number of elements in a direct product. If <em>H</em> has order <em>n</em>, and <em>K</em> has order <em>m</em>, then the number of ordered pairs \r\n",
    "(<em>h</em>, <em>k</em>) would be <em>n</em>&middot;<em>m</em>.<br><br>\r\n",
    " \r\n",
    "We can generalize the direct product to a set of more than two groups. Let\r\n",
    "<p style='text-align: center;'><em>G</em><sub>1</sub>, <em>G</em><sub>2</sub>, <em>G</em><sub>3</sub>, &hellip;, <em>G<sub>n</sub></em></p>\r\n",
    "be a collection of <em>n</em> groups. Then we define\r\n",
    "<p style='text-align: center;'><em>G</em><sub>1</sub> &times; <em>G</em><sub>2</sub> &times; <em>G</em><sub>3</sub> &times; &middot;&middot;&middot; &times; \r\n",
    "<em>G<sub>n</sub></em></p>\r\n",
    "to be the set of ordered <em>n</em>-tuples (<em>g</em><sub>1</sub>, <em>g</em><sub>2</sub>, <em>g</em><sub>3</sub>, &hellip;, <em>g<sub>n</sub></em>) with \r\n",
    "multiplication defined by\r\n",
    "<p style='text-align: center;'>(<em>g</em><sub>1</sub>, <em>g</em><sub>2</sub>, &hellip;, <em>g<sub>n</sub></em>)&middot;(<em>h</em><sub>1</sub>, <em>h</em><sub>2</sub>, \r\n",
    "&hellip;, <em>h<sub>n</sub></em>) = (<em>g</em><sub>1</sub>&middot;<em>h</em><sub>1</sub>, <em>g</em><sub>2</sub>&middot;<em>h</em><sub>2</sub>, &hellip;, \r\n",
    "<em>g<sub>n</sub></em>&middot;<em>h<sub>n</sub></em>).</p>\r\n",
    "\r\n",
    "<br>\r\n",
    "The direct product of more than two groups can also be defined by taking the direct product of direct products. That is, given three groups <em>G</em>, <em>H</em>, and \r\n",
    "<em>K</em>, we can define\r\n",
    "<p style='text-align: center;'>(<em>G</em> &times; <em>H</em>) &times; <em>K</em> and <em>G</em> &times; (<em>H</em> &times; <em>K</em>)</p>\r\n",
    "using only the definition for the direct product of two groups. But it is trivial to see that the mappings\r\n",
    "<p style='text-align: center;'><em>&fnof;</em>: (<em>G</em> &times; <em>H</em>) &times; <em>K</em> &rarr; <em>G</em> &times; <em>H</em> &times; <em>K</em><br>\r\n",
    "<em>&#981;</em> : <em>G</em> &times; (<em>H</em> &times; <em>K</em>) &rarr; <em>G</em> &times; <em>H</em> &times; <em>K</em></p>\r\n",
    "given by\r\n",
    "<p style='text-align: center;'><em>&fnof;</em>(((<em>g</em>, <em>h</em>), <em>k</em>)) = (<em>g</em>, <em>h</em>, <em>k</em>)&emsp;and&emsp;\r\n",
    "<em>&#981;</em>((<em>g</em>, (<em>h</em>, <em>k</em>))) = (<em>g</em>, <em>h</em>, <em>k</em>)</p>\r\n",
    "are both surjective isomorphisms. Thus, \r\n",
    "<p style='text-align: center;'>(<em>G</em> &times; <em>H</em>) &times;  <em>K</em> &asymp; <em>G</em> &times; <em>H</em> &times; <em>K</em> &asymp; <em>G</em> &times; \r\n",
    "(<em>H</em> &times; <em>K</em>).</p>\r\n",
    "\r\n",
    "<br>\r\n",
    "It also should be noted that we have the natural mapping\r\n",
    "<p style='text-align: center;'><em>&#981;</em> : <em>H</em> &times; <em>K</em> &rarr; <em>K</em> &times; <em>H</em></p>\r\n",
    " given by \r\n",
    "<p style='text-align: center;'><em>&#981;</em>((<em>h</em>, <em>k</em>)) = (<em>k</em>, <em>h</em>).</p>\r\n",
    "This is clearly one-to one and onto, and is a homomorphism. Thus,\r\n",
    "<p style='text-align: center;'><em>H</em> &times; <em>K</em> &asymp; <em>K</em> &times; <em>H</em>.</p>\r\n",
    "This shows that the direct product between groups is a commutative operation, as well as associative. This suggests that some groups may be able to be expressed as a \r\n",
    "direct product of two or more smaller groups. If this is the case, then the order in which the smaller groups are combined would be irrelevant.<br><br>\r\n",
    "\r\n",
    "DEFINITION 6.2<br>\r\n",
    "Let <em>G</em> be a group. We say that <em>G</em> has a <em>decomposition</em> if\r\n",
    "<p style='text-align: center;'><em>G</em> &asymp; <em>H</em> &times; <em>K</em>,</p>\r\n",
    "where neither <em>H</em> nor <em>K</em> is the trivial group. <br><br>\r\n",
    "\r\n",
    "For example, we saw above that <em>Z</em><sub>15</sub><sup>*</sup> had a decomposition, namely <em>Z</em><sub>4</sub> &times; <em>Z</em><sub>2</sub>.<br><br>\r\n",
    "\r\n",
    "EXPERIMENT:<br>\r\n",
    "Does the group <em>S</em><sub>3</sub> have a decomposition into a direct product? Why or why not?<br>"
   ]
  },
  {
   "cell_type": "markdown",
   "metadata": {
    "collapsed": false
   },
   "source": [
    "<br>\r\n",
    "We would like to find a way of testing whether a general group can be decomposed into smaller groups. In the case of <em>S</em><sub>3</sub>, we could use the fact that \r\n",
    "all smaller groups are abelian, along with Proposition 6.1 to show that <em>S</em><sub>3</sub> cannot have a decomposition. But for other groups, the\r\n",
    "problem is more difficult. The following theorem gives us a way to determine whether a given group has a decomposition.\r\n",
    "\r\n",
    "<p />\r\n",
    "<a name=\"theor61ret\" id=\"theor61ret\"></a>\r\n",
    "THEOREM 6.1:The Direct Product Theorem<br>\r\n",
    "Let <em>G</em> be a group with identity <em>e</em>, and let <em>H</em> and <em>K</em> be two subgroups of <em>G</em>. Suppose the following two statements are true:\r\n",
    "<br><br>\r\n",
    "<table align=\"center\" border=\"0\">\r\n",
    "  <tr>\r\n",
    "    <td>1)&emsp; <em>H</em> &cap; <em>K</em> = {<em>e</em>}.</td>\r\n",
    "  </tr>\r\n",
    "  <tr>\r\n",
    "    <td>2)&emsp; <em>h</em>&middot;<em>k</em> = <em>k</em>&middot;<em>h</em> for all <em>h</em> &isin; <em>H</em> and <em>k</em> &isin; <em>K</em>.</td>\r\n",
    "  </tr>\r\n",
    "</table>  \r\n",
    "<br>\r\n",
    "Then <em>H</em> &middot; <em>K</em>  &asymp; <em>H</em> &times; <em>K</em>.<br><br>\r\n",
    "\r\n",
    "<a href=\"#theor61\">Click here for the proof.</a>\r\n",
    "\r\n",
    "<p />\r\n",
    "We can use this theorem to find the direct product of two groups in <em>Sage</em>.<br><br>\r\n",
    "\r\n",
    "EXAMPLE:<br>\r\n",
    "Generate the direct product <em>S</em><sub>3</sub> &times; <em>Z</em><sub>8</sub><sup>*</sup> in <em>Sage</em>.<br><br>\r\n",
    "\r\n",
    "We first must define the two groups in <em>Sage</em> using the same identity and different letters for the generators. This way, the identity will be the \r\n",
    "only element in common between the two groups.<br><br>\r\n",
    " \r\n",
    "Let us define <em>S</em><sub>3</sub> in <em>Sage</em>:<br>"
   ]
  },
  {
   "cell_type": "code",
   "execution_count": 0,
   "metadata": {
    "collapsed": false
   },
   "outputs": [
   ],
   "source": [
    "InitGroup(\"e\")\r\n",
    "AddGroupVar(\"a\",\"b\")\r\n",
    "Define(a^3, e)\r\n",
    "Define(b^2, e)\r\n",
    "Define(b*a, a^2*b)\r\n",
    "H = Group(a, b); H"
   ]
  },
  {
   "cell_type": "markdown",
   "metadata": {
    "collapsed": false
   },
   "source": [
    "<br>\r\n",
    "Now let us define <em>Z</em><sub>8</sub><sup>*</sup>, using <em>c</em> and <em>d</em> for the two generators.<br>"
   ]
  },
  {
   "cell_type": "code",
   "execution_count": 0,
   "metadata": {
    "collapsed": false
   },
   "outputs": [
   ],
   "source": [
    "AddGroupVar(\"c\",\"d\")\r\n",
    "Define(c^2, e)\r\n",
    "Define(d^2, e)\r\n",
    "Define(d*c, c*d)\r\n",
    "H = Group(a, b)\r\n",
    "K = Group(c, d); K"
   ]
  },
  {
   "cell_type": "markdown",
   "metadata": {
    "collapsed": false
   },
   "source": [
    "<br>\r\n",
    "Of course we did not use the <strong>InitGroup</strong> command before defining the second group because we want to define a single group involving all four \r\n",
    "generators.  By using e as the identity for both groups, we have that the intersection of <em>H</em> and <em>K</em> is <br>"
   ]
  },
  {
   "cell_type": "code",
   "execution_count": 0,
   "metadata": {
    "collapsed": false
   },
   "outputs": [
   ],
   "source": [
    "Intersection(H, K)"
   ]
  },
  {
   "cell_type": "markdown",
   "metadata": {
    "collapsed": false
   },
   "source": [
    "<br>\r\n",
    "so the first condition of the direct product theorem is satisfied.<br><br>\r\n",
    "\r\n",
    "In order for the second condition of the direct product theorem to be satisfied, every element of <em>H</em> must commute with every element of <em>K</em>. This will be \r\n",
    "true as long as all of the <em>generators</em> of <em>H</em> commute with all of the <em>generators</em> of <em>K</em>. Since there are 2 generators of <em>H</em> and 2 \r\n",
    "of <em>K</em>, we can tell <em>Sage</em> that the generators commute using 2&middot;2 = 4 definitions:<br>"
   ]
  },
  {
   "cell_type": "code",
   "execution_count": 0,
   "metadata": {
    "collapsed": false
   },
   "outputs": [
   ],
   "source": [
    "Define(c*a, a*c)\r\n",
    "Define(c*b, b*c)\r\n",
    "Define(d*a, a*d)\r\n",
    "Define(d*b, b*d)\r\n",
    "H = Group(a, b); H"
   ]
  },
  {
   "cell_type": "code",
   "execution_count": 0,
   "metadata": {
    "collapsed": false
   },
   "outputs": [
   ],
   "source": [
    "K = Group(c, d); K"
   ]
  },
  {
   "cell_type": "markdown",
   "metadata": {
    "collapsed": false
   },
   "source": [
    "<br>\r\n",
    "According to the direct product theorem <em>H&middot;K</em> is now the same as <em>H</em> <em>&times;</em> <em>K</em>. Here, then, is \r\n",
    "the direct product:<br>"
   ]
  },
  {
   "cell_type": "code",
   "execution_count": 0,
   "metadata": {
    "collapsed": false
   },
   "outputs": [
   ],
   "source": [
    "H * K"
   ]
  },
  {
   "cell_type": "markdown",
   "metadata": {
    "collapsed": false
   },
   "source": [
    "<br>\r\n",
    "Alternatively, we could find the smallest group that contains all of the generators:<br>"
   ]
  },
  {
   "cell_type": "code",
   "execution_count": 0,
   "metadata": {
    "collapsed": false
   },
   "outputs": [
   ],
   "source": [
    "G = Group(a, b, c, d); G"
   ]
  },
  {
   "cell_type": "markdown",
   "metadata": {
    "collapsed": false
   },
   "source": [
    "<br>\r\n",
    "We can check that the order of this direct product is<br>"
   ]
  },
  {
   "cell_type": "code",
   "execution_count": 0,
   "metadata": {
    "collapsed": false
   },
   "outputs": [
   ],
   "source": [
    "len(G)"
   ]
  },
  {
   "cell_type": "markdown",
   "metadata": {
    "collapsed": false
   },
   "source": [
    "<br>\r\n",
    "as expected, since <em>S</em><sub>3</sub> is of order 6, and <em>Z</em><sub>8</sub><sup>*</sup> is of order 4. The multiplication table of this new group is given as<br>"
   ]
  },
  {
   "cell_type": "code",
   "execution_count": 0,
   "metadata": {
    "collapsed": false
   },
   "outputs": [
   ],
   "source": [
    "MultTable(G)"
   ]
  },
  {
   "cell_type": "markdown",
   "metadata": {
    "collapsed": false
   },
   "source": [
    "<br>\r\n",
    "We saw two other groups of order 24, namely <em>S</em><sub>4</sub> and the octahedronal group. Yet these turned out to be isomorphic. Is this new group of order 24 \r\n",
    "possibly the same group?<br><br>\r\n",
    "\r\n",
    "Recall that the main tool we used for finding the isomorphism between the octahedronal group and <em>S</em><sub>4</sub> was determining the orders of the elements in \r\n",
    "the groups. We defined <em>S</em><sub>4</sub> to be:<br>"
   ]
  },
  {
   "cell_type": "code",
   "execution_count": 0,
   "metadata": {
    "collapsed": false
   },
   "outputs": [
   ],
   "source": [
    "S4 = Group(P(2,1), P(2,3,1), P(2,3,4,1)); S4"
   ]
  },
  {
   "cell_type": "markdown",
   "metadata": {
    "collapsed": false
   },
   "source": [
    "<br>\r\n",
    "To determine how many elements are of order 2, we can use the <strong>RootCount</strong> function<br>"
   ]
  },
  {
   "cell_type": "code",
   "execution_count": 0,
   "metadata": {
    "collapsed": false
   },
   "outputs": [
   ],
   "source": [
    "RootCount(S4, 2)"
   ]
  },
  {
   "cell_type": "markdown",
   "metadata": {
    "collapsed": false
   },
   "source": [
    "<br>\r\n",
    "and see that there are 10 solutions to <em>x</em><sup>2</sup> = <em>e</em>, with one being the identity, so there are 9 elements of order 2. Now let us try this with <em>G</em> = <em>S</em><sub>3</sub> &times; <em>Z</em><sub>8</sub><sup>*</sup>:<br>"
   ]
  },
  {
   "cell_type": "code",
   "execution_count": 0,
   "metadata": {
    "collapsed": false
   },
   "outputs": [
   ],
   "source": [
    "RootCount(G, 2)"
   ]
  },
  {
   "cell_type": "markdown",
   "metadata": {
    "collapsed": false
   },
   "source": [
    "<br>\r\n",
    "So there are 15 elements of  <em>G</em> which are of order 2, as opposed to 9 elements in <em>S</em><sub>4</sub>.  Hence, these two groups are not isomorphic.<br><br>\r\n",
    "\r\n",
    "\r\n",
    "This example shows it would be helpful to know the number of elements of order <em>n</em> of the direct product <em>H</em>&times;<em>K</em>.  Then we could determine \r\n",
    "whether or not two groups expressed as direct products were isomorphic.<br><br>\r\n",
    "\r\n",
    "Recall in &sect;2.3 we denoted the number of solutions to <em>x<sup>n</sup></em> = <em>e</em> by <em>R<sub>n</sub></em>(<em>G</em>).  In particular, \r\n",
    "if <em>G</em> is cyclic, <em>R<sub>n</sub></em>(<em>G</em>) = gcd(|<em>G</em>|, <em>n</em>).  It is also rather easy to calculate <em>R<sub>n</sub></em>(<em>G</em>) for \r\n",
    "direct products.\r\n",
    "\r\n",
    "<p />\r\n",
    "<a name=\"prop62ret\" id=\"prop62ret\"></a>\r\n",
    "PROPOSITION 6.2<br>\r\n",
    "Let <em>H</em> and <em>K</em> be finite groups, and let <em>n</em> be a positive integer. Then\r\n",
    "<p style='text-align: center;'><em>R<sub>n</sub></em>(<em>H</em> &times; <em>K</em>) = <em>R<sub>n</sub></em>(<em>H</em>)&middot;<em>R<sub>n</sub></em>(<em>K</em>).</p>\r\n",
    "\r\n",
    "<a href=\"#prop62\">Click here for the proof.</a>\r\n",
    "\r\n",
    "<p />\r\n",
    "Let us use this proposition on the example <em>S</em><sub>3</sub> &times; <em>Z</em><sub>8</sub><sup>*</sup>.  The number of elements of this group solve \r\n",
    "<em>x</em><sup>2</sup> = <em>e</em> is the product of the number of elements solving the equation in <em>S</em><sub>3</sub> and the number of such elements in \r\n",
    "<em>Z</em><sub>8</sub><sup>*</sup>. Note that four of the six elements of <em>S</em><sub>3</sub> satisfy <em>x</em><sup>2</sup> = <em>e</em>, while all four elements \r\n",
    "of <em>Z</em><sub>8</sub><sup>*</sup> satisfy the equation. Thus, there are 4&middot;4 = 16 elements of the product \r\n",
    "<em>S</em><sub>3</sub> &times; <em>Z</em><sub>8</sub><sup>*</sup> whose square is the identity. One of these is the identity element, but the other 15 elements are of \r\n",
    "order 2. Thus, we can find the number of elements of a direct product of given order without having to use <em>Sage</em>.<br><br>\r\n",
    "\r\n",
    "EXPERIMENT:<br>\r\n",
    "Use Proposition 6.2 to predict the number of elements of <em>S</em><sub>3</sub> &times; <em>Z</em><sub>8</sub><sup>*</sup> which are of order 3 and of order 6. Then \r\n",
    "use <em>Sage</em> to verify your predictions.<br>"
   ]
  },
  {
   "cell_type": "markdown",
   "metadata": {
    "collapsed": false
   },
   "source": [
    "<br>\r\n",
    "We will end this section by showing another way to test whether a group is a direct product of two of its subgroups.\r\n",
    "\r\n",
    "<p />\r\n",
    "<a name=\"cor61ret\" id=\"cor61ret\"></a>\r\n",
    "COROLLARY 6.1<br>\r\n",
    "Let <em>G</em> be a group with identity <em>e</em>, and let <em>H</em> and <em>K</em> be two <em>normal</em> subgroups of <em>G</em>. Then \r\n",
    "<p style='text-align: center;'>if <em>H</em> &cap; <em>K</em> = {<em>e</em>}, then <em>H</em>&middot;<em>K</em> &asymp; <em>H</em> &times; <em>K</em>.</p>\r\n",
    "\r\n",
    "<a href=\"#cor61\">Click here for the proof.</a>\r\n",
    "\r\n",
    "<p />\r\n",
    "This corollary is sometimes more useful than the direct product theorem, even though for abelian groups the two are equivalent, since all subgroups of abelian groups \r\n",
    "are normal. In the next section we will continue to study the decomposition of abelian groups, and find that <em>all</em> finite abelian groups can be decomposed uniquely \r\n",
    "into a certain form.<br><br>\r\n",
    "\r\n",
    "<a name=\"sec62\" id=\"sec62\"></a>\r\n",
    "<h1>Fundamental Theorem of Finite Abelian Groups</h1>\r\n",
    "\r\n",
    "<br>\r\n",
    "In the last section we promised that we will be able to construct any finite abelian group using as building blocks the groups that we have already learned. \r\n",
    "In this section, we will show how that can be done by considering the direct products of the cyclic groups <em>Z<sub>n</sub></em>.  We will even be able to find the \r\n",
    "number of abelian groups of a given order. Let us begin with a simple example.<br><br>\r\n",
    "\r\n",
    "EXAMPLE:<br>\r\n",
    "Consider the group <em>Z</em><sub>6</sub> = {0, 1, 2, 3, 4, 5}. Can we express this as the direct product of two smaller groups? <br><br>\r\n",
    "\r\n",
    "Note that for abelian groups, the second condition of the direct product theorem is automatically satisfied, so we merely have to find two subgroups of  \r\n",
    "<em>Z</em><sub>6</sub> whose intersection is just the identity {0}, and whose product gives us the whole group.  With a group this small, it is easy to find \r\n",
    "<em>all</em> of the subgroups:\r\n",
    "<p style='text-align: center;'>{0},&emsp;&emsp;{0, 3},&emsp;&emsp;{0, 2, 4},&emsp; and &emsp;{0, 1, 2, 3, 4, 5}.</p>\r\n",
    "Thus, the only two candidates are the subgroups \r\n",
    "<p style='text-align: center;'><em>H</em> = {0, 3} &asymp; <em>Z</em><sub>2</sub>&emsp;and&emsp;<em>K</em> = {0, 2, 4} &asymp; <em>Z</em><sub>3</sub>.</p>\r\n",
    "\r\n",
    "\r\n",
    "<br>\r\n",
    "Since the intersection of these two subgroups is the identity, we have by the direct product theorem that <em>H</em>&middot;<em>K</em> &asymp; <em>H</em> &times; <em>K</em>.\r\n",
    "Since <em>H</em> &times; <em>K</em> is of order 6, we have that <em>H</em> &middot; <em>K</em> is of order 6, and hence is <em>Z</em><sub>6</sub>.  Therefore,\r\n",
    "<p style='text-align: center;'><em>Z</em><sub>6</sub> &asymp; <em>Z</em><sub>2</sub> &times; <em>Z</em><sub>3</sub>.</p>\r\n",
    "\r\n",
    "\r\n",
    "<br>\r\n",
    " Let us check this using <em>Sage</em>: <em>Z</em><sub>2</sub> and <em>Z</em><sub>3</sub> are easy to define.<br>"
   ]
  },
  {
   "cell_type": "code",
   "execution_count": 0,
   "metadata": {
    "collapsed": false
   },
   "outputs": [
   ],
   "source": [
    "Z2 = ZGroup(2); Z2"
   ]
  },
  {
   "cell_type": "code",
   "execution_count": 0,
   "metadata": {
    "collapsed": false
   },
   "outputs": [
   ],
   "source": [
    "Z3 = ZGroup(3); Z3"
   ]
  },
  {
   "cell_type": "markdown",
   "metadata": {
    "collapsed": false
   },
   "source": [
    "<br>\r\n",
    "We can form the direct product<br>"
   ]
  },
  {
   "cell_type": "code",
   "execution_count": 0,
   "metadata": {
    "collapsed": false
   },
   "outputs": [
   ],
   "source": [
    "G = DirectProduct(Z2, Z3); G"
   ]
  },
  {
   "cell_type": "markdown",
   "metadata": {
    "collapsed": false
   },
   "source": [
    "<br>\r\n",
    "Here is the multiplication table:<br>"
   ]
  },
  {
   "cell_type": "code",
   "execution_count": 0,
   "metadata": {
    "collapsed": false
   },
   "outputs": [
   ],
   "source": [
    "MultTable(G)"
   ]
  },
  {
   "cell_type": "markdown",
   "metadata": {
    "collapsed": false
   },
   "source": [
    "<br>\r\n",
    "We want to see if this group is isomorphic to <em>Z</em><sub>6</sub>. Thus, we want to find an element of order 6. By computing<br>"
   ]
  },
  {
   "cell_type": "code",
   "execution_count": 0,
   "metadata": {
    "collapsed": false
   },
   "outputs": [
   ],
   "source": [
    "RootCount(G, 2)"
   ]
  },
  {
   "cell_type": "code",
   "execution_count": 0,
   "metadata": {
    "collapsed": false
   },
   "outputs": [
   ],
   "source": [
    "RootCount(G, 3)"
   ]
  },
  {
   "cell_type": "markdown",
   "metadata": {
    "collapsed": false
   },
   "source": [
    "<br>\r\n",
    "we see that there is only one element of order 2, and 2 elements of order 3, so there must be two elements of order 6.  In fact, it is not hard to see that \r\n",
    "(1, 1) and (1, 2) are these elements.  From this information we can create an isomorphism. We let <em>F</em>\r\n",
    "be the homomorphism between <em>Z</em><sub>6</sub> and <em>Z</em><sub>2</sub> &times; <em>Z</em><sub>3</sub>.<br>"
   ]
  },
  {
   "cell_type": "code",
   "execution_count": 0,
   "metadata": {
    "collapsed": false
   },
   "outputs": [
   ],
   "source": [
    "Z6 = ZGroup(6); Z6"
   ]
  },
  {
   "cell_type": "code",
   "execution_count": 0,
   "metadata": {
    "collapsed": false
   },
   "outputs": [
   ],
   "source": [
    "F = Homomorph(Z6, G)"
   ]
  },
  {
   "cell_type": "code",
   "execution_count": 0,
   "metadata": {
    "collapsed": false
   },
   "outputs": [
   ],
   "source": [
    "HomoDef(F, Z6[1], G[5])"
   ]
  },
  {
   "cell_type": "code",
   "execution_count": 0,
   "metadata": {
    "collapsed": false
   },
   "outputs": [
   ],
   "source": [
    "FinishHomo(F)"
   ]
  },
  {
   "cell_type": "markdown",
   "metadata": {
    "collapsed": false
   },
   "source": [
    "<br>\r\n",
    "So this in a homomorphism.  The image is<br>"
   ]
  },
  {
   "cell_type": "code",
   "execution_count": 0,
   "metadata": {
    "collapsed": false
   },
   "outputs": [
   ],
   "source": [
    "Image(F, Z6)"
   ]
  },
  {
   "cell_type": "markdown",
   "metadata": {
    "collapsed": false
   },
   "source": [
    "<br>\r\n",
    "so <em>F</em> is surjective.  The kernel is<br>"
   ]
  },
  {
   "cell_type": "code",
   "execution_count": 0,
   "metadata": {
    "collapsed": false
   },
   "outputs": [
   ],
   "source": [
    "Kernel(F)"
   ]
  },
  {
   "cell_type": "markdown",
   "metadata": {
    "collapsed": false
   },
   "source": [
    "<br>\r\n",
    "So <em>F</em> is also injective. Therefore, we have found the isomorphism from <em>Z</em><sub>6</sub> to <em>Z</em><sub>2</sub> &times; <em>Z</em><sub>3</sub>.<br>"
   ]
  },
  {
   "cell_type": "code",
   "execution_count": 0,
   "metadata": {
    "collapsed": false
   },
   "outputs": [
   ],
   "source": [
    "GraphHomo(F)"
   ]
  },
  {
   "cell_type": "markdown",
   "metadata": {
    "collapsed": false
   },
   "source": [
    "<br><br>\r\n",
    "EXPERIMENT:<br>\r\n",
    "Using the same technique as above, see if you can find a decomposition of <em>Z</em><sub>10</sub> into a direct product of smaller groups. Define the homomorphism \r\n",
    "between <em>Z</em><sub>10</sub> and the direct product, and show that the homomorphism is surjective and injective.<br>"
   ]
  },
  {
   "cell_type": "markdown",
   "metadata": {
    "collapsed": false
   },
   "source": [
    "<br>\r\n",
    " By observing the patterns in the decomposition of <em>Z</em><sub>6</sub> and <em>Z</em><sub>10</sub>, let us see if we can find a decomposition of any commutative \r\n",
    " group.<br><br>\r\n",
    " \r\n",
    "Observe the groups <em>H</em> = {0, 3} and <em>K</em> = {0, 2, 4} in the example of the decomposition of <em>Z</em><sub>6</sub>. Notice that <em>H</em> consists of all \r\n",
    "of the elements of <em>Z</em><sub>6</sub> such that <nobr><em>h</em><sup>2</sup> = 0.</nobr>  Also, <em>K</em> consists of all the elements such \r\n",
    "that <em>k</em><sup>3</sup> = 0. \r\n",
    "The fact that these two subgroups have only the identity in common is not a coincidence, as the next lemma shows:\r\n",
    "\r\n",
    "<p />\r\n",
    "<a name=\"lem61ret\" id=\"lem61ret\"></a>\r\n",
    "LEMMA 6.1<br>\r\n",
    "Let <em>G</em> be an abelian group of order <em>m</em> <em>n</em>, where <em>m</em> and <em>n</em> are coprime. Then\r\n",
    "<p style='text-align: center;'><em>H</em> = {<em>h</em> &isin; <em>G</em> | <em>h<sup>m</sup></em> = <em>e</em>}</p>\r\n",
    "and\r\n",
    "<p style='text-align: center;'><em>K</em> = {<em>k</em> &isin; <em>G</em> | <em>k<sup>n</sup></em> = <em>e</em>}</p>\r\n",
    "are both subgroups of <em>G</em>, and <em>G</em> &asymp; <em>H</em> &times; <em>K</em>.<br><br>\r\n",
    "\r\n",
    "<a href=\"#lem61\">Click here for the proof.</a>\r\n",
    "\r\n",
    "<p />\r\n",
    "This lemma tells us that if an abelian group has an order that is a product of two coprime numbers, this group can be written as a direct product of two groups. \r\n",
    "Unfortunately, the lemma does not tell us that neither <em>H</em> nor <em>K</em> are trivial groups. As a result, we still have to ask whether this is a \r\n",
    "decomposition.<br><br>\r\n",
    "\r\n",
    "Here is an example to illustrate the possible problem that could occur. Suppose we know <em>G</em> is an abelian group of order 24. Since 24 = 8&middot;3, we could \r\n",
    "let <em>m</em> = 8, and <em>n</em> = 3 in Lemma 6.1.  Then <em>H</em> would consist of all elements of order 1, 2, 4, or 8, while <em>K</em> would consist of the elements \r\n",
    "of order 1 or 3. Then we would have\r\n",
    "<p style='text-align: center;'><em>G</em> &asymp; <em>H</em> &times; <em>K</em>.</p>\r\n",
    "\r\n",
    "<br>\r\n",
    "But what if <em>G</em> had no elements of order 3?  Then <em>K</em> would be just the identity element, and <em>H</em> would have to be all of <em>G</em>. Lemma 6.1 would \r\n",
    "hold, but since <em>H</em> and <em>K</em> are not proper subgroups, this would not give a decomposition of <em>G</em>. The next lemma will show that, in fact, \r\n",
    "<em>G</em> must have an element of order 3.\r\n",
    "\r\n",
    "<p />\r\n",
    "<a name=\"lem62ret\" id=\"lem62ret\"></a>\r\n",
    "LEMMA 6.2<br>\r\n",
    "If <em>G</em> is a finite abelian group and <em>p</em> is a prime that divides the order of <em>G</em>, then <em>G</em> has an element of order <em>p</em>.<br><br>\r\n",
    "\r\n",
    "<a href=\"#lem62\">Click here for the proof.</a>\r\n",
    "\r\n",
    "<p />\r\n",
    "This lemma is known as Cauchy's theorem for abelian groups. In fact we will see that Cauchy's theorem is true for <em>all</em> groups, not just abelian groups. However, the result for abelian groups is good enough for us to \r\n",
    "proceed. <br><br>\r\n",
    " \r\n",
    "EXPERIMENT:<br>\r\n",
    "Since the Euler totient function of 35 is<br>"
   ]
  },
  {
   "cell_type": "code",
   "execution_count": 0,
   "metadata": {
    "collapsed": false
   },
   "outputs": [
   ],
   "source": [
    "EulerPhi(35)"
   ]
  },
  {
   "cell_type": "markdown",
   "metadata": {
    "collapsed": false
   },
   "source": [
    "<br>\r\n",
    "the group <br>"
   ]
  },
  {
   "cell_type": "code",
   "execution_count": 0,
   "metadata": {
    "collapsed": false
   },
   "outputs": [
   ],
   "source": [
    "G = ZStar(35); G"
   ]
  },
  {
   "cell_type": "markdown",
   "metadata": {
    "collapsed": false
   },
   "source": [
    "<br>\r\n",
    "is an abelian group with 24 elements.  Lemma 6.2 then tells us that there are elements of order 2 and of order 3. \r\n",
    "We can find the set of elements <em>H</em> such that <em>h</em><sup>3</sup> = 1, with the command<br>"
   ]
  },
  {
   "cell_type": "code",
   "execution_count": 0,
   "metadata": {
    "collapsed": false
   },
   "outputs": [
   ],
   "source": [
    "[x^3 for x in G]"
   ]
  },
  {
   "cell_type": "markdown",
   "metadata": {
    "collapsed": false
   },
   "source": [
    "<br>\r\n",
    "and the set of elements <em>K</em> such that <em>k</em><sup>8</sup> = 1 with<br>"
   ]
  },
  {
   "cell_type": "code",
   "execution_count": 0,
   "metadata": {
    "collapsed": false
   },
   "outputs": [
   ],
   "source": [
    "[x^8 for x in G]"
   ]
  },
  {
   "cell_type": "markdown",
   "metadata": {
    "collapsed": false
   },
   "source": [
    "<br>\r\n",
    "and comparing this list with <em>G</em>.\r\n",
    "Show that <em>H</em>&middot;<em>K</em> = <em>Z</em><sub>35</sub><sup>*</sup>, and hence <em>Z</em><sub>35</sub><sup>*</sup> has the decomposition \r\n",
    "<em>H</em> &times; <em>K</em>.<br>"
   ]
  },
  {
   "cell_type": "markdown",
   "metadata": {
    "collapsed": false
   },
   "source": [
    "<br>\r\n",
    "This experiment demonstrates how Lemma 6.2 guarantees that the subgroups <em>H</em> and <em>K</em> generated by Lemma 6.1 must be proper subgroups. Notice that in \r\n",
    "this experiment, <em>H</em> contained 3 elements while <em>K</em> contained 8 elements. There seems to be a pattern: the number of elements of <em>G</em> satisfying\r\n",
    "<p style='text-align: center;'><em>x</em><sup>(<em>p&#8319;</em>)</sup> = <em>e</em>,</p>\r\n",
    "is <em>p<sup>n</sup></em> whenever <em>p</em> divides the order of <em>G</em> exactly <em>n</em> times. This apparent pattern can be shown to exist for all abelian groups. \r\n",
    "We thus have the following lemma:\r\n",
    "\r\n",
    "<p />\r\n",
    "<a name=\"lem63ret\" id=\"lem63ret\"></a>\r\n",
    "LEMMA 6.3<br>\r\n",
    "Let <em>G</em> be an abelian group of order <em>p<sup>n</sup></em>&middot;<em>k</em> where <em>p</em> is prime, <em>k</em> is not divisible by <em>p</em>, and \r\n",
    "<em>n</em> > 0. Then there are subgroups <em>P</em> and <em>K</em> of <em>G</em> such that\r\n",
    "<p style='text-align: center;'><em>G</em> &asymp; <em>P</em> &times; <em>K</em>,</p>\r\n",
    "where |<em>P</em>| = <em>p<sup>n</sup></em> and |<em>K</em>| = <em>k</em>.<br><br>\r\n",
    "\r\n",
    "<a href=\"#lem63\">Click here for the proof.</a>\r\n",
    "\r\n",
    "<p />\r\n",
    "Lemma 6.3 is a tremendous help in finding the structure of abelian groups. For example, suppose we have an abelian group <em>G</em> of order 24. \r\n",
    "Since 24 = 2<sup>3</sup>&middot;3, Lemma 6.3 states that <em>G</em> is isomorphic to a direct product of a group of order 8 and a group of order 3. Since \r\n",
    "<em>Z</em><sub>3</sub> is the only group of order 3, and there are 3 abelian groups of order 8, namely \r\n",
    "<p style='text-align: center;'><em>Z</em><sub>8</sub>, <em>Z</em><sub>15</sub><sup>*</sup>, and <em>Z</em><sub>24</sub><sup>*</sup>,</p>\r\n",
    "we have that <em>G</em> must be isomorphic to one of the three groups \r\n",
    "<p style='text-align: center;'><em>Z</em><sub>8</sub> &times; <em>Z</em><sub>3</sub>, <em>Z</em><sub>15</sub><sup>*</sup> &times; <em>Z</em><sub>3</sub>, \r\n",
    "and <em>Z</em><sub>24</sub><sup>*</sup> &times; <em>Z</em><sub>3</sub>,</p>\r\n",
    "\r\n",
    "EXPERIMENT: <br>\r\n",
    "Since <em>Z</em><sub>35</sub><sup>*</sup> is an abelian group with 24 elements, this must be isomorphic to one of the three groups mentioned above. \r\n",
    "Which of the three is it? <br>\r\n",
    "(Hint: first use <em>Sage</em> to find <em>Z</em><sub>35</sub><sup>*</sup>, and to determine the number of elements of order 2. Then use Proposition 6.2 to find the \r\n",
    "number of elements of order 2 for the three groups listed above.)<br>"
   ]
  },
  {
   "cell_type": "markdown",
   "metadata": {
    "collapsed": false
   },
   "source": [
    "<br>\r\n",
    "We have seen that if we can find all abelian groups of order <em>p<sup>n</sup></em> for <em>p</em> a prime number, then we will be able to find all finite abelian groups. \r\n",
    "The next lemma is the key to finding all abelian groups whose order is a power of a prime.\r\n",
    "\r\n",
    "<p />\r\n",
    "<a name=\"lem64ret\" id=\"lem64ret\"></a>\r\n",
    "LEMMA 6.4<br>\r\n",
    "Suppose <em>P</em> is an abelian group of order <em>p<sup>n</sup></em>, where <em>p</em> is a prime. Let <em>x</em> be an element in <em>P</em> that has the maximal order \r\n",
    "of all of the elements of <em>P</em>.  Then\r\n",
    "<p style='text-align: center;'><em>P</em> &asymp; <em>X</em> &times; <em>T</em>,</p>\r\n",
    "where <em>X</em> is the cyclic group generated by <em>x</em>, and <em>T</em> is a subgroup of <em>P</em>.<br><br>\r\n",
    "\r\n",
    "<a href=\"#lem64\">Click here for the proof.</a>\r\n",
    "\r\n",
    "<p />\r\n",
    "To give an illustration of how Lemma 6.4 is applied, consider the groups of order 8. Lemma 6.4 states that these can be decomposed into cyclic groups. \r\n",
    "We have already seen that <em>Z</em><sub>15</sub><sup>*</sup> was isomorphic to <em>Z</em><sub>4</sub> &times; <em>Z</em><sub>2</sub>, and <em>Z</em><sub>8</sub> is already \r\n",
    "a cyclic group.  Let's use Lemma 6.4 on the group <em>Z</em><sub>24</sub><sup>*</sup>.<br><br>\r\n",
    "\r\n",
    "All non-identity elements of <em>Z</em><sub>24</sub><sup>*</sup> are of order 2, so this is the maximal order. Thus, Lemma 6.4 states that \r\n",
    "<em>Z</em><sub>24</sub><sup>*</sup> can be decomposed into <em>Z</em><sub>2</sub> and a group of order 4. Since \r\n",
    "<em>Z</em><sub>2</sub> &times; <em>Z</em><sub>4</sub> is isomorphic to <em>Z</em><sub>15</sub><sup>*</sup>, the only other choice is \r\n",
    "<em>Z</em><sub>24</sub><sup>*</sup> &asymp; <em>Z</em><sub>2</sub> &times; <em>Z</em><sub>8</sub><sup>*</sup>.<br><br>\r\n",
    "\r\n",
    "Now we can apply Lemma 6.4 again to <em>Z</em><sub>8</sub><sup>*</sup>.  This is of order 4, and all elements besides the identity are of order 2, so \r\n",
    "<em>Z</em><sub>8</sub><sup>*</sup> can be decomposed into <em>Z</em><sub>2</sub> and a group of order 2, which must be <em>Z</em><sub>2</sub>.  Thus, \r\n",
    "<p style='text-align: center;'><em>Z</em><sub>8</sub><sup>*</sup> &asymp; <em>Z</em><sub>2</sub> &times; <em>Z</em><sub>2</sub>,</p> \r\n",
    "and so\r\n",
    "<p style='text-align: center;'><em>Z</em><sub>24</sub><sup>*</sup> &asymp; <em>Z</em><sub>2</sub> &times; <em>Z</em><sub>2</sub> &times; <em>Z</em><sub>2</sub>.</p>\r\n",
    "\r\n",
    "<br>\r\n",
    "It is clear how repeated use of Lemma 6.4 can decompose any abelian group into cyclic groups.  But now we want to address the issue as to whether a decomposition is \r\n",
    "<em>unique</em>. Is it possible for a group to be represented as a direct product of cyclic groups in two different ways?<br>\r\n",
    "<br>\r\n",
    "\r\n",
    "In one sence, the answer is yes, for \r\n",
    "<p style='text-align: center;'><em>Z</em><sub>12</sub> &times; <em>Z</em><sub>2</sub> &asymp; <em>Z</em><sub>6</sub> &times; <em>Z</em><sub>4</sub>.</p>\r\n",
    "Yet this doesn't give the whole story, since both of these can futher decomposed:\r\n",
    "<p style='text-align: center;'><em>Z</em><sub>12</sub> &times; <em>Z</em><sub>2</sub> &asymp; <em>Z</em><sub>6</sub> &times; <em>Z</em><sub>4</sub> &asymp; \r\n",
    "<em>Z</em><sub>2</sub> &times; <em>Z</em><sub>3</sub> &times; <em>Z</em><sub>4</sub>.</p>\r\n",
    "So the question that we should ask is whether an abelian group can be decomposed in two different ways into groups which can not be decomposed further, that is, to the point where each factor is a cyclic group whose order is a power of a prime.  A way to reword \r\n",
    "this question is to ask whether two different decompositions are isomorphic. <br>\r\n",
    "<br>\r\n",
    "\r\n",
    "The main tool for testing whether two groups are\r\n",
    "isomorphic is to count elements of a given order. \r\n",
    "This can be accomplished by computing <em>R<sub>n</sub></em>(<em>G</em>) for various values of <em>n</em>.  It \r\n",
    "is natural to compute <em>R<sub>n</sub></em>(<em>G</em>) for a decomposition of cyclic groups.\r\n",
    "\r\n",
    "<p />\r\n",
    "<a name=\"lem65ret\" id=\"lem65ret\"></a>\r\n",
    "LEMMA 6.5<br>\r\n",
    "Let <em>p</em> be a prime number, and <em>G</em> be the direct product of cyclic groups\r\n",
    "<p style='text-align: center;'><em>G</em> = <em>Z</em><sub>(<em>p</em></sub><em>&#8341;</em><sub>&sup1;)</sub> &times; \r\n",
    "<em>Z</em><sub>(<em>p</em></sub><em>&#8341;</em><sub>&sup2;)</sub>  &times; <em>Z</em><sub>(<em>p</em></sub><em>&#8341;</em><sub>&sup3;)</sub> &times; &#8943; &times; \r\n",
    "<em>Z</em><sub>(<em>p</em></sub><em>&#8341;</em><sub><em>&#8319;</em>&thinsp;)</sub> &times; <em>Z&thinsp;&#8342;</em><sub>&#8321;</sub> &times; \r\n",
    "<em>Z&thinsp;&#8342;</em><sub>&#8322;</sub> &times; &#8943; &times; \r\n",
    "<em>Z&thinsp;&#8342;<sub>&#8344;</sub></em></p>\r\n",
    "where <em>h</em><sub>1</sub>, <em>h</em><sub>2</sub>, &hellip;, <em>h<sub>n</sub></em> are positive integers, and <em>k</em><sub>1</sub>, <em>k</em><sub>2</sub>, &hellip;,\r\n",
    "<em>k<sub>m</sub></em> are coprime to <em>p</em>. Then if <em>q</em> = <em>p<sup>x</sup></em>,\r\n",
    "<br><br>\r\n",
    "<table align=\"center\" border=\"0\" cellspacing=\"0\" cellpadding=\"0\">\r\n",
    "  <tr>\r\n",
    "     <td></td>\r\n",
    "     <td>&#9115;</td>\r\n",
    "     <td rowspan=\"2\"><font face=\"Times New Roman, Times, serif\" size=\"+2\">&sum;</font></td>\r\n",
    "     <td valign=\"top\"><em>n</em></td>\r\n",
    "     <td rowspan=\"2\" valign=\"middle\">&thinsp;Min(<em>h<sub>i</sub></em>, <em>x</em>)</td>\r\n",
    "     <td>&#9118;</td>\r\n",
    "  </tr>\r\n",
    "  <tr>\r\n",
    "     <td></td>\r\n",
    "     <td>&#9117;</td>\r\n",
    "     <td valign=\"bottom\"><em>i</em>=1</td>\r\n",
    "     <td>&#9120;</td>\r\n",
    "  </tr>\r\n",
    "  <tr>\r\n",
    "     <td><em>R<sub>q</sub></em>(G) = <em>p</em></td>\r\n",
    "     <td></td>\r\n",
    "     <td></td>\r\n",
    "     <td></td>\r\n",
    "     <td></td>\r\n",
    "     <td>&ensp;,</td>\r\n",
    "  </tr>         \r\n",
    "</table>\r\n",
    "<br> \r\n",
    "where Min(<em>h<sub>i</sub></em> , <em>x</em>) denotes the smaller of the two numbers <em>h<sub>i</sub></em> and <em>x</em>.<br><br>\r\n",
    "\r\n",
    "<a href=\"#lem65\">Click here for the proof.</a>\r\n",
    "\r\n",
    "<p />\r\n",
    "An example here would help to illustrate the power of Lemma 6.5. Suppose we are given the group\r\n",
    "<p style='text-align: center;'><em>G</em> = <em>Z</em><sub>3</sub> &times; <em>Z</em><sub>9</sub> &times; <em>Z</em><sub>9</sub> &times; <em>Z</em><sub>27</sub>.</p>\r\n",
    "How many elements are there of order 9?  Note that we can rewrite <em>G</em> as \r\n",
    "<p style='text-align: center;'><em>G</em> = <em>Z</em><sub>3&sup1;</sub> &times; <em>Z</em><sub>3&sup2;</sub> &times; <em>Z</em><sub>3&sup2;</sub> &times; \r\n",
    "<em>Z</em><sub>3&sup3;</sub>.</p>\r\n",
    "Thus, <em>h</em><sub>1</sub> = 1,  <em>h</em><sub>2</sub> = 2,  <em>h</em><sub>3</sub> = 2, and <em>h</em><sub>4</sub> = 3.  Since we want the elements of order 9 = 3<sup>2</sup>, we let <em>x</em> = 2.  Then\r\n",
    "<p style='text-align: center;'><span style='font-size: 24px;'>&sum;</span><sub>&thinsp;<em>i</em></sub>&thinsp; Min(<em>h<sub>i</sub></em>&thinsp;, \r\n",
    "<em>x</em>) = 1 + 2 + 2 + 2 = 7,</p>\r\n",
    "so <em>R</em><sub>9</sub>(<em>G</em>) = 3<sup>7</sup>, meaning there are 2187 solutions to <em>g</em><sup>9</sup> = <em>e</em>.  However, not all of these elements will be of order 9, since this count also includes elements of order 3.  In order for <em>g</em> to be of order 9, it must \r\n",
    "satisfy <em>g</em><sup>9</sup> = <em>e</em> and <em>g</em><sup>3</sup> &ne; <em>e</em>.  Thus, we will apply the formula \r\n",
    "again with <em>x</em> = 1 to get\r\n",
    "<p style='text-align: center;'><span style='font-size: 24px;'>&sum;</span><sub>&thinsp;<em>i</em></sub>&thinsp; Min(<em>h<sub>i</sub></em>&thinsp;, \r\n",
    "<em>x</em>) = 1 + 1 + 1 + 1 = 4.</p>\r\n",
    "So <em>R</em><sub>3</sub>(<em>G</em>) = 3<sup>4</sup>, and the total number of elements of <em>G</em> of order 9 is 3<sup>7</sup> &minus; 3<sup>4</sup> = 2106.<br><br>\r\n",
    "\r\n",
    "EXPERIMENT:<br>\r\n",
    "How many elements of <em>G</em> have order 27? (Use <em>x</em> = 3 instead of <em>x</em> = 2.)<br>"
   ]
  },
  {
   "cell_type": "markdown",
   "metadata": {
    "collapsed": false
   },
   "source": [
    "<br>\r\n",
    "We are now ready to show that <em>all</em> finite abelian groups can be represented as the direct product of cyclic groups. However, we would like to show at the same time that \r\n",
    "such a representation is unique. To this end we will use the previous lemma in conjunction with the following.\r\n",
    "\r\n",
    "<p />\r\n",
    "<a name=\"lem66ret\" id=\"lem66ret\"></a>\r\n",
    "LEMMA 6.6<br>\r\n",
    "Let <em>h</em><sub>1</sub>, <em>h</em><sub>2</sub>, <em>h</em><sub>3</sub>, &hellip; <em>h<sub>n</sub></em> be a set of positive integers, and define \r\n",
    "<em>&fnof;</em>(<em>x</em>) as\r\n",
    "<table align=\"center\" border=\"0\" cellspacing=\"0\" cellpadding=\"0\">\r\n",
    "  <tr>\r\n",
    "    <td></td>\r\n",
    "    <td align=\"center\" valign=\"top\"><em>n</em></td>\r\n",
    "    <td></td>\r\n",
    "  </tr>\r\n",
    "  <tr>\r\n",
    "    <td align=\"right\"><em>&fnof;</em>(<em>x</em>) = </td>\r\n",
    "    <td align=\"center\" valign=\"bottom\"><font face=\"Times New Roman, Times, serif\" size=\"+4\">&sum;</font></td>\r\n",
    "    <td align=\"left\">Min(<em>h<sub>i</sub></em>, <em>x</em>)</td>\r\n",
    "  </tr>\r\n",
    "  <tr>\r\n",
    "    <td></td>\r\n",
    "    <td align=\"center\" valign=\"top\"><em>i</em> = 1</td>\r\n",
    "    <td></td>\r\n",
    "  </tr>\r\n",
    "</table>\r\n",
    "<br>\r\n",
    "where Min(<em>h<sub>i</sub></em>, <em>x</em>) denotes the minimum of <em>h<sub>i</sub></em> and <em>x</em>.  Then the number of times that the integer <em>x</em> appears \r\n",
    "in the set of integers   <em>h</em><sub>1</sub>, <em>h</em><sub>2</sub>, <em>h</em><sub>3</sub>, &hellip; <em>h<sub>n</sub></em> is given by\r\n",
    "<p style='text-align: center;'>2 <em>&fnof;</em>(<em>x</em>) &minus; <em>&fnof;</em>(<em>x</em> &minus; 1) &minus; <em>&fnof;</em>(<em>x</em> + 1).</p>\r\n",
    "\r\n",
    "<a href=\"#lem66\">Click here for the proof.</a>\r\n",
    "\r\n",
    "<p />\r\n",
    "We can now use Lemmas 6.3 through 6.6 to show that not only can a finite abelian group be decomposed into a direct product of cyclic groups, but that it can be \r\n",
    "decomposed into a standard form in a unique way, much as a positive integer can be uniquely decomposed into a product of prime numbers.\r\n",
    "\r\n",
    "<p />\r\n",
    "<a name=\"theor62ret\" id=\"theor62ret\"></a>\r\n",
    "THEOREM 6.2:The Fundamental Theorem of Finite Abelian Groups<br>\r\n",
    "A nontrivial finite abelian group is isomorphic to\r\n",
    "<p style='text-align: center;'><em>Z</em><sub>(<em>p</em>&#8321;</sub><em>&#8341;</em><sub>&sup1;)</sub> &times; \r\n",
    "<em>Z</em><sub>(<em>p</em>&#8322;</sub><em>&#8341;</em><sub>&sup2;)</sub>  &times; <em>Z</em><sub>(<em>p</em>&#8323;</sub><em>&#8341;</em><sub>&sup3;)</sub> &times; \r\n",
    "&#8943; &times; <em>Z</em><sub>(<em>p&#8345;</em></sub><em>&#8341;</em><sub><em>&#8319;</em>&thinsp;)</sub>,</p>\r\n",
    "where <em>p</em><sub>1</sub>, <em>p</em><sub>2</sub>, <em>p</em><sub>3</sub>, &hellip; <em>p<sub>n</sub></em> are prime numbers (not necessarily distinct). Furthermore, \r\n",
    "this decomposition is unique up to the rearrangement of the factors.<br><br>\r\n",
    "\r\n",
    "<a href=\"#theor62\">Click here for the proof.</a>\r\n",
    "\r\n",
    "<p />\r\n",
    "From this theorem, we can easily find all non-isomorphic abelian groups of a given order. For example, to find all non-isomorphic abelian groups of order 16, we note that \r\n",
    "all such groups are direct products of the cyclic groups of orders 2, 4, 8, or 16. We want to find all possible combinations of 2, 4, 8, and 16 which will multiply to \r\n",
    "give 16. With a little experimenting, we find that there are five such combinations: \r\n",
    "<p style='text-align: center;'>2&middot;2&middot;2&middot;2,&emsp;&emsp;2&middot;2&middot;4,&emsp;&emsp;4&middot;4,&emsp;&emsp;2&middot;8,&emsp;&emsp;and&emsp;16.</p>\r\n",
    "Thus, there are 5 possible abelian groups of order 16:\r\n",
    "<p style='text-align: center;'><em>Z</em><sub>2</sub> &times; <em>Z</em><sub>2</sub> &times; <em>Z</em><sub>2</sub> &times; \r\n",
    "<em>Z</em><sub>2</sub>,&emsp;&emsp;<em>Z</em><sub>2</sub> &times; <em>Z</em><sub>2</sub> &times; <em>Z</em><sub>4</sub>,&emsp;&emsp;<em>Z</em><sub>4</sub> \r\n",
    "&times; <em>Z</em><sub>4</sub>,&emsp;&emsp;<em>Z</em><sub>2</sub> &times; <em>Z</em><sub>8</sub>, &emsp;&emsp;and&emsp;<em>Z</em><sub>16</sub>.</p>\r\n",
    "Since the fundamental theorem (6.2) also states that the representation is unique, these five groups must be non-isomorphic to each other.  Notice that there is a correlation between these five groups, and the five ways we can express the number 4 as a sum of positive integers:\r\n",
    "<p style='text-align: center;'>1 + 1 + 1 + 1 = 4<br>1 + 1 + 2 = 4<br>2 + 2 = 4<br>1 + 3 = 4<br>4 = 4</p>\r\n",
    "This leads us to a way of finding the number of non-isomorphic groups of order <em>p<sup>m</sup></em> for any <em>m</em>.\r\n",
    "\r\n",
    "<p />\r\n",
    "<a name=\"cor62ret\" id=\"cor62ret\"></a>\r\n",
    "COROLLARY 6.2<br>\r\n",
    "Let <em>P</em>(<em>m</em>) denote the number of ways in which <em>m</em> can be expressed as a sum of positive integers, without regard to order. Then if <em>p</em> is \r\n",
    "a prime number, there are exactly <em>P</em>(<em>m</em>) non-isomorphic abelian groups of order <em>p<sup>m</sup></em>.<br><br>\r\n",
    "\r\n",
    "<a href=\"#cor62\">Click here for the proof.</a>\r\n",
    "\r\n",
    "<p />\r\n",
    "We call <em>P</em>(<em>m</em>) the number of <em>partitions</em> of <em>m</em>.  We can have <em>Sage</em> count the number of partitions for us, using the command \r\n",
    "<strong>PartitionsP</strong>(<em>m</em>).  Thus, to find the number of partitions of the number 4, we can enter<br>"
   ]
  },
  {
   "cell_type": "code",
   "execution_count": 0,
   "metadata": {
    "collapsed": false
   },
   "outputs": [
   ],
   "source": [
    "PartitionsP(4)"
   ]
  },
  {
   "cell_type": "markdown",
   "metadata": {
    "collapsed": false
   },
   "source": [
    "<br>\r\n",
    "We can even have <em>Sage</em> list all of the paritions for us<br>"
   ]
  },
  {
   "cell_type": "code",
   "execution_count": 0,
   "metadata": {
    "collapsed": false
   },
   "outputs": [
   ],
   "source": [
    "[i for i in Partitions(4)]"
   ]
  },
  {
   "cell_type": "markdown",
   "metadata": {
    "collapsed": false
   },
   "source": [
    "<br>\r\n",
    "Note that in the last command, we used <strong>Partitions</strong> instead of <strong>PartitionsP</strong>.<br><br>\r\n",
    "\r\n",
    "According to Corollary 6.2, the number of non-isomorphic abelian groups of order 3<sup>100</sup> is<br>"
   ]
  },
  {
   "cell_type": "code",
   "execution_count": 0,
   "metadata": {
    "collapsed": false
   },
   "outputs": [
   ],
   "source": [
    "PartitionsP(100)"
   ]
  },
  {
   "cell_type": "markdown",
   "metadata": {
    "collapsed": false
   },
   "source": [
    "<br>\r\n",
    "We won't ask for the list of all of them here!  As we can see, the number of partitions of <em>m</em> grows very rapidly as <em>m</em> gets large. How rapidly?  We can make \r\n",
    "a logarithmic plot of the first 100 values of <em>P</em>(<em>m</em>) with the following command:<br>"
   ]
  },
  {
   "cell_type": "code",
   "execution_count": 0,
   "metadata": {
    "collapsed": false
   },
   "outputs": [
   ],
   "source": [
    "list_plot([ln(PartitionsP(m)) for m in range(100)])"
   ]
  },
  {
   "cell_type": "markdown",
   "metadata": {
    "collapsed": false
   },
   "source": [
    "<br>\r\n",
    "This looks like a sideways parabola, indicating that <em>P</em>(<em>m</em>) grows in about the same rate as \r\n",
    "<em>e</em><sup>&radic;<font style='text-decoration: overline'><em>m</em></font></sup>.<br><br>\r\n",
    "\r\n",
    "We can now find the number of non-isomorphic abelian groups of any order, as the following corollary shows.\r\n",
    "\r\n",
    "<p />\r\n",
    "<a name=\"cor63ret\" id=\"cor63ret\"></a>\r\n",
    "COROLLARY 6.3<br>\r\n",
    "Let <em>m</em> > 1 be an integer with prime factorization\r\n",
    "<p style='text-align: center;'>\r\n",
    "<em>p</em><sub>1</sub><sup><em>h</em></sup>&sup1;&middot;<em>p</em><sub>2</sub><sup><em>h</em></sup>&sup2;&middot;<em>p</em><sub>3</sub><sup><em>h</em></sup>&sup3; \r\n",
    "&#8943; <em>p<sub>n</sub><sup>h</sup>&#8319;</em></p>\r\n",
    "where <em>p</em><sub>1</sub>, <em>p</em><sub>2</sub>, <em>p</em><sub>3</sub>, &hellip;, <em>p<sub>n</sub></em> are distinct primes.  Then the number of non-isomorphic \r\n",
    "abelian groups of order <em>m</em> is given by\r\n",
    "<p style='text-align: center;'><em>P</em>(<em>h</em><sub>1</sub>)&middot;<em>P</em>(<em>h</em><sub>2</sub>)&middot;<em>P</em>(<em>h</em><sub>3</sub>) &#8943; \r\n",
    "<em>P</em>(<em>h<sub>n</sub></em>).</p>\r\n",
    "\r\n",
    "<a href=\"#cor63\">Click here for the proof.</a>\r\n",
    "\r\n",
    "<p />\r\n",
    "\r\n",
    "EXAMPLE:<br>\r\n",
    "Suppose we want to find the number of non-isomorphic abelian groups of order 180 billion.  Since 180,000,000,000 = \r\n",
    "2<sup>11</sup>&middot;3<sup>2</sup>&middot;5<sup>10</sup>, we have that the number of groups is<br>"
   ]
  },
  {
   "cell_type": "code",
   "execution_count": 0,
   "metadata": {
    "collapsed": false
   },
   "outputs": [
   ],
   "source": [
    "PartitionsP(11)*PartitionsP(2)*PartitionsP(10)"
   ]
  },
  {
   "cell_type": "markdown",
   "metadata": {
    "collapsed": false
   },
   "source": [
    "<br>\r\n",
    "So there are 4704 abelian groups of order 180 billion.<br><br>\r\n",
    "\r\n",
    "From these two corollaries, we see that all finite abelian groups have been classified. One of the outstanding problems in group theory is to classify <em>all</em> \r\n",
    "finite groups. This is as yet an unsolved problem although much progress has been made through the use of computers. In the next two sections we will show some other ways \r\n",
    "of generating larger groups which have become a key to some of the recent work that has been done in group theory.<br><br>\r\n",
    "\r\n",
    "<a name=\"sec63\" id=\"sec63\"></a>\r\n",
    "<h1>Automorphisms</h1>\r\n",
    "\r\n",
    "<br>\r\n",
    "We have already studied several examples of homomorphisms and isomorphisms <em>between</em> two groups, but suppose we considered a mapping from a \r\n",
    "group <em>to itself</em>.<br><br>\r\n",
    "\r\n",
    "EXAMPLE:<br>\r\n",
    "Find an isomorphsm from <em>Z</em><sub>8</sub> onto itself.<br><br>\r\n",
    "\r\n",
    "We could consider the following mapping:<br>"
   ]
  },
  {
   "cell_type": "code",
   "execution_count": 0,
   "metadata": {
    "collapsed": false
   },
   "outputs": [
   ],
   "source": [
    "Z8 = ZGroup(8)\r\n",
    "CircleGraph(Z8, Pow(3))"
   ]
  },
  {
   "cell_type": "markdown",
   "metadata": {
    "collapsed": false
   },
   "source": [
    "<br>\r\n",
    "Notice that this mapping is one-to-one and onto, so in fact we could consider this as a permutation of the numbers 0 through 7, namely (1 3)(2 6)(5 7). However, to\r\n",
    "make this into a homomorphism in <em>Sage</em>, we have to define a mapping that sends Z8[1] to Z8[3].<br>"
   ]
  },
  {
   "cell_type": "code",
   "execution_count": 0,
   "metadata": {
    "collapsed": false
   },
   "outputs": [
   ],
   "source": [
    "F = Homomorph(Z8, Z8)"
   ]
  },
  {
   "cell_type": "code",
   "execution_count": 0,
   "metadata": {
    "collapsed": false
   },
   "outputs": [
   ],
   "source": [
    "HomoDef(F, Z8[1], Z8[3])"
   ]
  },
  {
   "cell_type": "code",
   "execution_count": 0,
   "metadata": {
    "collapsed": false
   },
   "outputs": [
   ],
   "source": [
    "FinishHomo(F)"
   ]
  },
  {
   "cell_type": "markdown",
   "metadata": {
    "collapsed": false
   },
   "source": [
    "<br>\r\n",
    "This shows that we have a homomorphism.  Now we can see that <strong>F</strong> is the same mapping as <strong>Pow</strong>(3)<br>"
   ]
  },
  {
   "cell_type": "code",
   "execution_count": 0,
   "metadata": {
    "collapsed": false
   },
   "outputs": [
   ],
   "source": [
    "CircleGraph(Z8, F)"
   ]
  },
  {
   "cell_type": "markdown",
   "metadata": {
    "collapsed": false
   },
   "source": [
    "<br>\r\n",
    "We see that <strong>F</strong> is a homomorphism from <em>Z</em><sub>8</sub> onto itself. We give such a homomorphism a special name.<br><br>\r\n",
    "\r\n",
    "DEFINITION 6.3<br>\r\n",
    "An <em>automorphism</em> of the group <em>G</em> is a homomorphism from <em>G</em> to <em>G</em> which is one-to-one and onto.<br><br>\r\n",
    "\r\n",
    "If we study the above automorphism <em>&fnof;</em> on <em>Z</em><sub>8</sub>, we discover why this works. Recall that the operation of this group is addition modulo \r\n",
    "8.  Hence the mapping <em>x</em> &rarr; <em>x</em><sup>3</sup> in <em>Z</em><sub>8</sub> will send each number <em>x</em> to (3 <em>x</em>) <strong>mod</strong> 8. Therefore,\r\n",
    "<p style='text-align: center;'><em>&fnof;</em>(<em>x</em>&middot;<em>y</em>) = <em>&fnof;</em>((<em>x</em> + <em>y</em>) <strong>mod</strong> 8) = \r\n",
    "(3(<em>x</em> + <em>y</em>) <strong>mod</strong> 8 = \r\n",
    "(3<em>x</em> + 3<em>y</em>) <strong>mod</strong> 8 = <em>&fnof;</em>(<em>x</em>)&middot;<em>&fnof;</em>(<em>y</em>).</p>\r\n",
    "\r\n",
    "<br>\r\n",
    "By observing this pattern, we find another automorphism <em>G</em> of <em>Z</em><sub>8</sub> by letting <em>G</em> send <em>x</em> into <em>x</em><sup>5</sup> = \r\n",
    "(5 <em>x</em>) <strong>mod</strong> 8. The graph of \r\n",
    "<em>G</em> would be given by<br>"
   ]
  },
  {
   "cell_type": "code",
   "execution_count": 0,
   "metadata": {
    "collapsed": false
   },
   "outputs": [
   ],
   "source": [
    "G = Homomorph(Z8, Z8)\r\n",
    "HomoDef(G, Z8[1], Z8[5])\r\n",
    "FinishHomo(G)"
   ]
  },
  {
   "cell_type": "code",
   "execution_count": 0,
   "metadata": {
    "collapsed": false
   },
   "outputs": [
   ],
   "source": [
    "CircleGraph(Z8, G)"
   ]
  },
  {
   "cell_type": "markdown",
   "metadata": {
    "collapsed": false
   },
   "source": [
    "<br>\r\n",
    "So we have found 2 automorphisms on <em>Z</em><sub>8</sub>, one which acts like the permutation P(3,6,1,4,7,2,5) and the other acting like P(5,2,7,4,1,6,3). But we \r\n",
    "can multiply these permutations together to form a third permutation.<br><br>\r\n",
    "\r\n",
    "EXPERIMENT:<br>\r\n",
    "Is the permutation<br>"
   ]
  },
  {
   "cell_type": "code",
   "execution_count": 0,
   "metadata": {
    "collapsed": false
   },
   "outputs": [
   ],
   "source": [
    "P(3,6,1,4,7,2,5)*P(5,2,7,4,1,6,3)"
   ]
  },
  {
   "cell_type": "markdown",
   "metadata": {
    "collapsed": false
   },
   "source": [
    "<br>\r\n",
    "represent a homomorphism of <em>Z</em><sub>8</sub>?  Define <strong>H</strong> to be the new function sending <strong>Z8[1]</strong> to <strong>Z8[7]</strong>.<br>"
   ]
  },
  {
   "cell_type": "markdown",
   "metadata": {
    "collapsed": false
   },
   "source": [
    "<br>\r\n",
    "This experiment suggests that the product of two automorphisms is again an automorphism.  We can formally define\r\n",
    "the product of two automorphisms <em>&fnof;</em>(<em>x</em>) and <em>&#981;</em>(<em>x</em>) as \r\n",
    "(<em>&fnof;</em>&middot;<em>&#981;</em>)(<em>x</em>) = <em>&fnof;</em>(<em>&#981;</em>(<em>x</em>)).  \r\n",
    "<br><br>\r\n",
    "But there are some other patterns of the automorphisms that we can \r\n",
    "observe.  Because an automorphism <em>&fnof;</em>(<em>x</em>) on <em>G</em> is a one-to-one and onto mapping, we can consider the inverse \r\n",
    "mapping <em>&fnof;</em><sup>&minus;1</sup>(<em>x</em>).  \r\n",
    "For example, the inverse to the automorphism <em>F</em> is denoted by the permutation<br>"
   ]
  },
  {
   "cell_type": "code",
   "execution_count": 0,
   "metadata": {
    "collapsed": false
   },
   "outputs": [
   ],
   "source": [
    "P(3,6,1,4,7,2,5)^(-1)"
   ]
  },
  {
   "cell_type": "markdown",
   "metadata": {
    "collapsed": false
   },
   "source": [
    "<br>\r\n",
    "In this case, the inverse of <strong>F</strong> is again <strong>F</strong>, which is an automorphism.<br><br>\r\n",
    "\r\n",
    "EXPERIMENT:<br>\r\n",
    "Are the inverses of <em>G</em> and <em>H</em> again automorphisms? Which automorphisms are they?<br>"
   ]
  },
  {
   "cell_type": "markdown",
   "metadata": {
    "collapsed": false
   },
   "source": [
    "<br>\r\n",
    "Since we seem to be able to multiply two automorphisms together and take inverses, the natural question comes up, which is answered in the next proposition.\r\n",
    "\r\n",
    "<p />\r\n",
    "<a name=\"prop63ret\" id=\"prop63ret\"></a>\r\n",
    "PROPOSITION 6.3<br>\r\n",
    "Given a group <em>G</em>, the set of all automorphisms on <em>G</em> forms a group, denoted Aut(<em>G</em>). In fact, Aut(<em>G</em>) is a subgroup of the group \r\n",
    "of permutations on the elements of <em>G</em>.<br><br>\r\n",
    "\r\n",
    "<a href=\"#prop63\">Click here for the proof.</a>\r\n",
    "\r\n",
    "<p />\r\n",
    "\r\n",
    "EXAMPLE:<br>\r\n",
    "Find the automorphism group for <em>Z</em><sub>8</sub>.<br><br>  \r\n",
    "\r\n",
    "We have two elements already, which we can express in terms of permutations.  Let's find \r\n",
    "the group generated by these two permutations:<br>"
   ]
  },
  {
   "cell_type": "code",
   "execution_count": 0,
   "metadata": {
    "collapsed": false
   },
   "outputs": [
   ],
   "source": [
    "A = Group(P(3,6,1,4,7,2,5),P(5,2,7,4,1,6,3)); A"
   ]
  },
  {
   "cell_type": "markdown",
   "metadata": {
    "collapsed": false
   },
   "source": [
    "<br>\r\n",
    "So Aut(<em>Z</em><sub>8</sub>) has at least four elements. Is this the maximum number of automorphisms? Notice that 1 is of order 8 in <em>Z</em><sub>8</sub>, so it must \r\n",
    "be mapped to an element of order 8, namely 1, 3, 5, or 7.  But since 1 is a generator of the group, any automorphism is determined by where the generator is mapped to.\r\n",
    "Hence, there are at most four automorphisms of <em>Z</em><sub>8</sub>. Since we have already found four, we must have found all of them!<br><br>\r\n",
    "\r\n",
    "Since we have Aut(<em>Z</em><sub>8</sub>) is a group of order 4, the natural question is which group is this isomorphic to? Here is a multiplication table for <strong>A</strong>:<br>"
   ]
  },
  {
   "cell_type": "code",
   "execution_count": 0,
   "metadata": {
    "collapsed": false
   },
   "outputs": [
   ],
   "source": [
    "MultTable(A)"
   ]
  },
  {
   "cell_type": "markdown",
   "metadata": {
    "collapsed": false
   },
   "source": [
    "<br>\r\n",
    "From this, we see that all elements of <strong>A</strong> besides the identity are of order 2.  So\r\n",
    "<p style='text-align: center;'>Aut(<em>Z</em><sub>8</sub>) &asymp; <em>Z</em><sub>2</sub> &times; <em>Z</em><sub>2</sub> &asymp; <em>Z</em><sub>8</sub><sup>*</sup>.</p>\r\n",
    "We can use a similar argument to find the automorphism group for any cyclic group.\r\n",
    "\r\n",
    "<p />\r\n",
    "<a name=\"prop64ret\" id=\"prop64ret\"></a>\r\n",
    "PROPOSITION 6.4\r\n",
    "<p style='text-align: center;'>Aut(<em>Z<sub>n</sub></em>) &asymp; <em>Z<sub>n</sub></em><sup>*</sup>.</p>\r\n",
    "<a href=\"#prop64\">Click here for the proof.</a>\r\n",
    "\r\n",
    "<p />\r\n",
    "So far, the automorphism group is smaller than the original group, but the goal of this chapter is to form larger groups. Let us\r\n",
    "consider a non-cyclic group.<br><br>\r\n",
    "\r\n",
    "EXAMPLE:<br>\r\n",
    "Find the set of automorphisms on the group <em>Z</em><sub>8</sub><sup>*</sup>.<br><br> \r\n",
    "\r\n",
    "First define this group in <em>Sage</em>, using two generators:<br>"
   ]
  },
  {
   "cell_type": "code",
   "execution_count": 0,
   "metadata": {
    "collapsed": false
   },
   "outputs": [
   ],
   "source": [
    "InitGroup(\"e\")\r\n",
    "AddGroupVar(\"a\",\"b\")\r\n",
    "Define(a^2, e)\r\n",
    "Define(b^2, e)\r\n",
    "Define(b*a, a*b)\r\n",
    "G = Group(a, b); G"
   ]
  },
  {
   "cell_type": "markdown",
   "metadata": {
    "collapsed": false
   },
   "source": [
    "<br>\r\n",
    "A good strategy for finding all of the automorphisms is to first determine an upper bound for the number of automorphisms. \r\n",
    "Suppose <em>&fnof;</em> is an automorphism. Then <em>&fnof;</em>(<em>e</em>) = <em>e</em>, but all other elements are of order 2.  Hence, any of the other elements \r\n",
    "might map to each other in any way. For example, <em>&fnof;</em>(<em>a</em>) might be <em>a</em>, <em>b</em>, or <em>a</em>&middot;<em>b</em>. \r\n",
    "Once we know where <em>a</em> is mapped, <em>&fnof;</em>(<em>b</em>) might be either of the other two elements. However, once we know \r\n",
    "<em>&fnof;</em>(<em>a</em>) and <em>&fnof;</em>(<em>b</em>), then <em>&fnof;</em>(<em>a</em>&middot;<em>b</em>) must be \r\n",
    "<em>&fnof;</em>(<em>a</em>)&middot;<em>&fnof;</em>(<em>b</em>).  Thus, there are at most 3&middot;2 = 6 elements of Aut(<em>Z</em><sub>8</sub><sup>*</sup>).  \r\n",
    "If we find that there are indeed this many automorphisms, then Aut(<em>Z</em><sub>8</sub><sup>*</sup>) would be larger than <em>Z</em><sub>8</sub><sup>*</sup>.<br><br>\r\n",
    "\r\n",
    "Here would be a possible automorphism:\r\n",
    "<table align=\"center\" border=\"0\">\r\n",
    "   <tr>\r\n",
    "     <td align=\"right\"><em>&fnof;</em>(<em>e</em>)</td>\r\n",
    "     <td align=\"center\">=</td>\r\n",
    "     <td><em>e</em></td>\r\n",
    "   </tr>\r\n",
    "   <tr>\r\n",
    "     <td align=\"right\"><em>&fnof;</em>(<em>a</em>)</td>\r\n",
    "     <td align=\"center\">=</td>\r\n",
    "     <td><em>b</em></td>\r\n",
    "   </tr>\r\n",
    "   <tr>\r\n",
    "     <td align=\"right\"><em>&fnof;</em>(<em>b</em>)</td>\r\n",
    "     <td align=\"center\">=</td>\r\n",
    "     <td><em>a</em></td>\r\n",
    "   </tr>\r\n",
    "   <tr>\r\n",
    "     <td align=\"right\"><em>&fnof;</em>(<em>a</em>&middot;<em>b</em>)</td>\r\n",
    "     <td align=\"center\">=</td>\r\n",
    "     <td><em>a</em>&middot;<em>b</em></td>\r\n",
    "   </tr>\r\n",
    "</table>\r\n",
    "We can define this as a homomorphism is <em>Sage</em>.<br>"
   ]
  },
  {
   "cell_type": "code",
   "execution_count": 0,
   "metadata": {
    "collapsed": false
   },
   "outputs": [
   ],
   "source": [
    "F = Homomorph(G, G)\r\n",
    "HomoDef(F, a, b)\r\n",
    "HomoDef(F, b, a)\r\n",
    "FinishHomo(F)"
   ]
  },
  {
   "cell_type": "code",
   "execution_count": 0,
   "metadata": {
    "collapsed": false
   },
   "outputs": [
   ],
   "source": [
    "CircleGraph(G, F)"
   ]
  },
  {
   "cell_type": "markdown",
   "metadata": {
    "collapsed": false
   },
   "source": [
    "<br>\r\n",
    "Let us represent this automorphism as a permutation on the elements of <em>Z</em><sub>8</sub><sup>*</sup>.  There is not a natural numbering of the elements, so it would \r\n",
    "be difficult to use the <strong>P[ ]</strong> notation. However, we still can use the notation of cycles, and say that <em>&fnof;</em> is the \r\n",
    "2-cycle (<em>a</em> <em>b</em>). Note that we are using the cycle notation with <em>elements</em> instead of numbers.  We are allowed to do this in <em>Sage</em>, and so \r\n",
    "we can enter this function as follows:<br>"
   ]
  },
  {
   "cell_type": "code",
   "execution_count": 0,
   "metadata": {
    "collapsed": false
   },
   "outputs": [
   ],
   "source": [
    "f = C(a, b); f"
   ]
  },
  {
   "cell_type": "markdown",
   "metadata": {
    "collapsed": false
   },
   "source": [
    "<br>\r\n",
    "In fact, we can still use the CircleGraph command to graph this function:<br>"
   ]
  },
  {
   "cell_type": "code",
   "execution_count": 0,
   "metadata": {
    "collapsed": false
   },
   "outputs": [
   ],
   "source": [
    "CircleGraph(G, f)"
   ]
  },
  {
   "cell_type": "markdown",
   "metadata": {
    "collapsed": false
   },
   "source": [
    "<br>\r\n",
    "Let us consider another automorphism having <em>&fnof;</em>(<em>a</em>) = <em>a</em>, but having <em>&fnof;</em>(<em>b</em>) = <em>a</em>&middot;<em>b</em>.<br>"
   ]
  },
  {
   "cell_type": "code",
   "execution_count": 0,
   "metadata": {
    "collapsed": false
   },
   "outputs": [
   ],
   "source": [
    "H = Homomorph(G, G)\r\n",
    "HomoDef(H, a, a)\r\n",
    "HomoDef(H, b, a*b)\r\n",
    "FinishHomo(H)"
   ]
  },
  {
   "cell_type": "code",
   "execution_count": 0,
   "metadata": {
    "collapsed": false
   },
   "outputs": [
   ],
   "source": [
    "CircleGraph(G, H)"
   ]
  },
  {
   "cell_type": "markdown",
   "metadata": {
    "collapsed": false
   },
   "source": [
    "<br>\r\n",
    "We see from the circle graph that this is indeed an automorphism, and can be represented by the cycle (<em>b</em> <em>a</em>&middot;<em>b</em>).<br>"
   ]
  },
  {
   "cell_type": "code",
   "execution_count": 0,
   "metadata": {
    "collapsed": false
   },
   "outputs": [
   ],
   "source": [
    "h = C(b, a*b)\r\n",
    "CircleGraph(G, h)"
   ]
  },
  {
   "cell_type": "markdown",
   "metadata": {
    "collapsed": false
   },
   "source": [
    "<br>\r\n",
    "The advantage of using cycles instead of functions is that we can now form the group generated by these two automorphisms<br>"
   ]
  },
  {
   "cell_type": "code",
   "execution_count": 0,
   "metadata": {
    "collapsed": false
   },
   "outputs": [
   ],
   "source": [
    "A = Group(f, h); A"
   ]
  },
  {
   "cell_type": "markdown",
   "metadata": {
    "collapsed": false
   },
   "source": [
    "<br>\r\n",
    "This gives us six elements, which is the maximum number of automorphisms we can have. Thus, <em>A</em> is Aut(<em>Z</em><sub>8</sub><sup>*</sup>). Therefore, we have \r\n",
    "found that the automorphism group is sometimes larger than the original group.<br><br>\r\n",
    " \r\n",
    "Which group is this? It is not hard to recognize <em>A</em> as the permutation group on the elements <em>a</em>, <em>b</em>, and <em>a</em>&middot;<em>b</em>.  Thus, \r\n",
    "Aut(<em>Z</em><sub>8</sub><sup>*</sup>) is isomorphic to <em>S</em><sub>3</sub>.<br><br>\r\n",
    "\r\n",
    "For non-commutative groups, there is a quick way to find many of the automorphisms.\r\n",
    "Let <em>G</em> be a non-commutative group, and let <em>x</em> be any element in <em>G</em>. The mapping <em>f<sub>x</sub></em> : <em>G</em> &rarr; <em>G</em> defined by\r\n",
    "<p style='text-align: center;'><em>f<sub>x</sub></em>(<em>y</em>) = <em>x</em>&middot;<em>y</em>&middot;<em>x</em><sup>-1</sup></p>\r\n",
    "will always be an automorphism, for\r\n",
    "<p style='text-align: center;'><em>f<sub>x</sub></em>(<em>y</em>&middot;<em>z</em>) = <em>x</em>&middot;<em>y</em>&middot;<em>z</em>&middot;<em>x</em><sup>-1</sup> =\r\n",
    " (<em>x</em>&middot;<em>y</em>&middot;<em>x</em><sup>-1</sup>)&middot;(<em>x</em>&middot;<em>z</em>&middot;<em>x</em><sup>-1</sup>) = <em>f<sub>x</sub></em>(<em>y</em>)&middot;<em>f<sub>x</sub></em>(<em>z</em>).</p>\r\n",
    "So <em>f<sub>x</sub></em>(<em>y</em>) is a homomorphism.  Since the inverse homomorphism can easily be found,\r\n",
    "<p style='text-align: center;'><em>y</em> &isin; <em>f<sub>x</sub></em><sup>-1</sup>(<em>v</em>) &#10234; <em>x</em>&middot;<em>y</em>&middot;<em>x</em><sup>-1</sup> = \r\n",
    "<em>v</em> &#10234; <em>y</em> = <em>x</em><sup>-1</sup>&middot;<em>v</em>&middot;<em>x</em> &#10234; <em>y</em> = <em>f<sub>x</sub></em>&#8331;&#8321;(<em>v</em>),</p>\r\n",
    "we have that <em>f<sub>x</sub></em>(<em>y</em>) is one-to-one and onto, therefore <em>f<sub>x</sub></em>(<em>y</em>) is an automorphism.<br><br>\r\n",
    "\r\n",
    "DEFINITION 6.4<br>\r\n",
    "An automorphism <em>&#981;</em>(<em>y</em>) of a group <em>G</em> is called an <em>inner automorphism</em> if there is an element <em>x</em> in <em>G</em> such that \r\n",
    "<p style='text-align: center;'><em>&#981;</em>(<em>y</em>) = <em>x</em>&middot;<em>y</em>&middot;<em>x</em><sup>-1</sup>&emsp;for all &ensp;<em>y</em> &isin; <em>G</em>.</p>\r\n",
    "The set of inner automorphisms of <em>G</em> is denoted Inn(<em>G</em>).<br><br>\r\n",
    "\r\n",
    "EXAMPLE:<br>\r\n",
    "Find the inner automorphisms of the quaternion group <em>Q</em>.<br><br>\r\n",
    "\r\n",
    "First, we load <em>Q</em> into <em>Sage</em>:<br>"
   ]
  },
  {
   "cell_type": "code",
   "execution_count": 0,
   "metadata": {
    "collapsed": false
   },
   "outputs": [
   ],
   "source": [
    "Q = InitQuaternions(); Q"
   ]
  },
  {
   "cell_type": "markdown",
   "metadata": {
    "collapsed": false
   },
   "source": [
    "<br>\r\n",
    "Let us begin by determining an upper bound for the number of automorphisms.  \r\n",
    "Suppose <em>&fnof;</em> is an automorphism of <em>Q</em>. Then <em>&fnof;</em>(1) = 1, as always, but <em>&fnof;</em>(&minus;1) must be &minus;1, since &minus;1 is the \r\n",
    "only element of <em>Q</em> of order 2. All of the other elements are of order 4, so <em>&fnof;</em>(<em>i</em>) could be any one of the remaining six elements. Once \r\n",
    "<em>&fnof;</em>(<em>i</em>) is determined, though, <nobr><em>&fnof;</em>(&minus;<em>i</em>) = <em>&fnof;</em>(<em>i</em>)<sup>3</sup>,</nobr> so this will be determined. \r\n",
    "Then <em>&fnof;</em>(<em>j</em>) could be any one of the remaining four elements. Since <em>i</em> and <em>j</em> generate <em>Q</em>, once \r\n",
    "<em>&fnof;</em>(<em>i</em>) and <em>&fnof;</em>(<em>j</em>) is determined, <em>&fnof;</em> will be determined for all of <em>Q</em>.  Thus, there is a maximum \r\n",
    "of 6&middot;4 = 24 possible automorphisms.<br><br>\r\n",
    "\r\n",
    "Let us try to find some inner automorphisms on <em>Q</em>.  If we choose <em>x</em> = <em>i</em>, then <em>&fnof;<sub>i</sub></em>(<em>y</em>) is the \r\n",
    "following mapping:\r\n",
    "<br><br>\r\n",
    "<table align=\"center\" border=\"0\">\r\n",
    "   <tr>\r\n",
    "     <td align=\"right\"><em>&fnof;<sub>i</sub></em>(1)</td>\r\n",
    "     <td align=\"center\">=</td>\r\n",
    "     <td align=\"center\"><em>i</em>&middot;1&middot;(&minus;<em>i</em>)</td>\r\n",
    "     <td align=\"center\">=</td>\r\n",
    "     <td>1</td>\r\n",
    "   </tr>\r\n",
    "   <tr>\r\n",
    "     <td align=\"right\"><em>&fnof;<sub>i</sub></em>(<em>i</em>)</td>\r\n",
    "     <td align=\"center\">=</td>\r\n",
    "     <td align=\"center\"><em>i</em>&middot;<em>i</em>&middot;(&minus;<em>i</em>)</td>\r\n",
    "     <td align=\"center\">=</td>\r\n",
    "     <td><em>i</em></td>\r\n",
    "   </tr>\r\n",
    "   <tr>\r\n",
    "     <td align=\"right\"><em>&fnof;<sub>i</sub></em>(<em>j</em>)</td>\r\n",
    "     <td align=\"center\">=</td>\r\n",
    "     <td align=\"center\"><em>i</em>&middot;<em>j</em>&middot;(&minus;<em>i</em>)</td>\r\n",
    "     <td align=\"center\">=</td>\r\n",
    "     <td>&minus;<em>j</em></td>\r\n",
    "   </tr>\r\n",
    "   <tr>\r\n",
    "     <td align=\"right\"><em>&fnof;<sub>i</sub></em>(&minus;1)</td>\r\n",
    "     <td align=\"center\">=</td>\r\n",
    "     <td align=\"center\"><em>i</em>&middot;(&minus;1)&middot;(&minus;<em>i</em>)</td>\r\n",
    "     <td align=\"center\">=</td>\r\n",
    "     <td>&minus;1</td>\r\n",
    "   </tr>\r\n",
    "      <tr>\r\n",
    "     <td align=\"right\"><em>&fnof;<sub>i</sub></em>(&minus;<em>i</em>)</td>\r\n",
    "     <td align=\"center\">=</td>\r\n",
    "     <td align=\"center\"><em>i</em>&middot;(&minus;<em>i</em>)&middot;(&minus;<em>i</em>)</td>\r\n",
    "     <td align=\"center\">=</td>\r\n",
    "     <td>&minus;<em>i</em></td>\r\n",
    "   </tr>\r\n",
    "   <tr>\r\n",
    "     <td align=\"right\"><em>&fnof;<sub>i</sub></em>(<em>k</em>)</td>\r\n",
    "     <td align=\"center\">=</td>\r\n",
    "     <td align=\"center\"><em>i</em>&middot;<em>k</em>&middot;(&minus;<em>i</em>)</td>\r\n",
    "     <td align=\"center\">=</td>\r\n",
    "     <td>&minus;<em>k</em></td>\r\n",
    "   </tr>\r\n",
    "   <tr>\r\n",
    "     <td align=\"right\"><em>&fnof;<sub>i</sub></em>(&minus;<em>j</em>)</td>\r\n",
    "     <td align=\"center\">=</td>\r\n",
    "     <td align=\"center\"><em>i</em>&middot;(&minus;<em>j</em>)&middot;(&minus;<em>i</em>)</td>\r\n",
    "     <td align=\"center\">=</td>\r\n",
    "     <td><em>j</em></td>\r\n",
    "   </tr>\r\n",
    "   <tr>\r\n",
    "     <td align=\"right\"><em>&fnof;<sub>i</sub></em>(&minus;<em>k</em>)</td>\r\n",
    "     <td align=\"center\">=</td>\r\n",
    "     <td align=\"center\"><em>i</em>&middot;(&minus;<em>k</em>)&middot;(&minus;<em>i</em>)</td>\r\n",
    "     <td align=\"center\">=</td>\r\n",
    "     <td><em>k</em></td>\r\n",
    "   </tr>         \r\n",
    "</table>\r\n",
    "<br>\r\n",
    "So <em>&fnof;<sub>i</sub></em> exchanges <em>j</em> and &minus;<em>j</em>, and exchanges <em>k</em> and &minus;<em>k</em>, leaving all other elements alone. \r\n",
    "Thus, we can express this automorphism as<br>"
   ]
  },
  {
   "cell_type": "code",
   "execution_count": 0,
   "metadata": {
    "collapsed": false
   },
   "outputs": [
   ],
   "source": [
    "F = C(j, -j)*C(k, -k); F"
   ]
  },
  {
   "cell_type": "markdown",
   "metadata": {
    "collapsed": false
   },
   "source": [
    "<br>\r\n",
    "Here is the graph of this automorphism:<br>"
   ]
  },
  {
   "cell_type": "code",
   "execution_count": 0,
   "metadata": {
    "collapsed": false
   },
   "outputs": [
   ],
   "source": [
    "CircleGraph(Q, F)"
   ]
  },
  {
   "cell_type": "markdown",
   "metadata": {
    "collapsed": false
   },
   "source": [
    "<br>\r\n",
    "From the above descussion. we know that this is a homomorphism.  If we use <em>x</em> = <em>j</em> instead of <em>x</em> = <em>i</em>, we get a different automorphism:\r\n",
    "<br><br>\r\n",
    "<table align=\"center\" border=\"0\">\r\n",
    "   <tr>\r\n",
    "     <td align=\"right\"><em>&fnof;<sub>j</sub></em>(1)</td>\r\n",
    "     <td align=\"center\">=</td>\r\n",
    "     <td align=\"center\"><em>j</em>&middot;1&middot;(&minus;<em>j</em>)</td>\r\n",
    "     <td align=\"center\">=</td>\r\n",
    "     <td>1</td>\r\n",
    "   </tr>\r\n",
    "   <tr>\r\n",
    "     <td align=\"right\"><em>&fnof;<sub>j</sub></em>(<em>i</em>)</td>\r\n",
    "     <td align=\"center\">=</td>\r\n",
    "     <td align=\"center\"><em>j</em>&middot;<em>i</em>&middot;(&minus;<em>j</em>)</td>\r\n",
    "     <td align=\"center\">=</td>\r\n",
    "     <td>&minus;<em>i</em></td>\r\n",
    "   </tr>\r\n",
    "   <tr>\r\n",
    "     <td align=\"right\"><em>&fnof;<sub>j</sub></em>(<em>j</em>)</td>\r\n",
    "     <td align=\"center\">=</td>\r\n",
    "     <td align=\"center\"><em>j</em>&middot;<em>j</em>&middot;(&minus;<em>j</em>)</td>\r\n",
    "     <td align=\"center\">=</td>\r\n",
    "     <td><em>j</em></td>\r\n",
    "   </tr>\r\n",
    "   <tr>\r\n",
    "     <td align=\"right\"><em>&fnof;<sub>j</sub></em>(&minus;1)</td>\r\n",
    "     <td align=\"center\">=</td>\r\n",
    "     <td align=\"center\"><em>j</em>&middot;(&minus;1)&middot;(&minus;<em>j</em>)</td>\r\n",
    "     <td align=\"center\">=</td>\r\n",
    "     <td>&minus;1</td>\r\n",
    "   </tr>\r\n",
    "      <tr>\r\n",
    "     <td align=\"right\"><em>&fnof;<sub>j</sub></em>(&minus;<em>i</em>)</td>\r\n",
    "     <td align=\"center\">=</td>\r\n",
    "     <td align=\"center\"><em>j</em>&middot;(&minus;<em>i</em>)&middot;(&minus;<em>j</em>)</td>\r\n",
    "     <td align=\"center\">=</td>\r\n",
    "     <td><em>i</em></td>\r\n",
    "   </tr>\r\n",
    "   <tr>\r\n",
    "     <td align=\"right\"><em>&fnof;<sub>j</sub></em>(<em>k</em>)</td>\r\n",
    "     <td align=\"center\">=</td>\r\n",
    "     <td align=\"center\"><em>j</em>&middot;<em>k</em>&middot;(&minus;<em>j</em>)</td>\r\n",
    "     <td align=\"center\">=</td>\r\n",
    "     <td>&minus;<em>k</em></td>\r\n",
    "   </tr>\r\n",
    "   <tr>\r\n",
    "     <td align=\"right\"><em>&fnof;<sub>j</sub></em>(&minus;<em>j</em>)</td>\r\n",
    "     <td align=\"center\">=</td>\r\n",
    "     <td align=\"center\"><em>j</em>&middot;(&minus;<em>j</em>)&middot;(&minus;<em>j</em>)</td>\r\n",
    "     <td align=\"center\">=</td>\r\n",
    "     <td>&minus;<em>j</em></td>\r\n",
    "   </tr>\r\n",
    "   <tr>\r\n",
    "     <td align=\"right\"><em>&fnof;<sub>j</sub></em>(&minus;<em>k</em>)</td>\r\n",
    "     <td align=\"center\">=</td>\r\n",
    "     <td align=\"center\"><em>j</em>&middot;(&minus;<em>k</em>)&middot;(&minus;<em>j</em>)</td>\r\n",
    "     <td align=\"center\">=</td>\r\n",
    "     <td><em>k</em></td>\r\n",
    "   </tr>         \r\n",
    "</table>\r\n",
    "<br>\r\n",
    "We can represent this automorphism in <em>Sage</em> by<br>"
   ]
  },
  {
   "cell_type": "code",
   "execution_count": 0,
   "metadata": {
    "collapsed": false
   },
   "outputs": [
   ],
   "source": [
    "G = C(i, -i)*C(k, -k); G"
   ]
  },
  {
   "cell_type": "markdown",
   "metadata": {
    "collapsed": false
   },
   "source": [
    "<br>\r\n",
    "Here is the graph:<br>"
   ]
  },
  {
   "cell_type": "code",
   "execution_count": 0,
   "metadata": {
    "collapsed": false
   },
   "outputs": [
   ],
   "source": [
    "CircleGraph(Q, G)"
   ]
  },
  {
   "cell_type": "markdown",
   "metadata": {
    "collapsed": false
   },
   "source": [
    "<br>\r\n",
    "Since <em>F</em> and <em>G</em> are both automorphisms, we can find the group generated by these two:<br>"
   ]
  },
  {
   "cell_type": "code",
   "execution_count": 0,
   "metadata": {
    "collapsed": false
   },
   "outputs": [
   ],
   "source": [
    "Group(F, G)"
   ]
  },
  {
   "cell_type": "markdown",
   "metadata": {
    "collapsed": false
   },
   "source": [
    "<br>\r\n",
    "Therefore, we have found 4 automorphisms on <em>Q</em>. But is this all of the automorphisms? <br><br>\r\n",
    "\r\n",
    "EXPERIMENT:<br>\r\n",
    "Find the automorphism <em>&fnof;<sub>x</sub></em>(<em>y</em>) with <em>x</em> = <em>k</em>. Find the corresponding permutation on <em>Q</em>, and have <em>Sage</em> draw \r\n",
    "a circle graph of this automorphism. Is this automorphism one that we have seen before?<br>"
   ]
  },
  {
   "cell_type": "markdown",
   "metadata": {
    "collapsed": false
   },
   "source": [
    "<br>\r\n",
    "If we try the above procedure with <em>x</em> equaling any of the eight elements of <em>Q</em>, we will always get one of the four automorphisms. \r\n",
    "Hence, we have found all of the inner automorphisms of Q, which we can express in terms of cycles as\r\n",
    "<p style='text-align: center;'>{( ), (<em>i</em>, &minus;<em>i</em>)(<em>j</em>, &minus;<em>j</em>), (<em>j</em>, &minus;<em>j</em>)(<em>k</em>, &minus;<em>k</em>), (<em>i</em>, &minus;<em>i</em>)(<em>k</em>, &minus;<em>k</em>)}.</p>\r\n",
    "\r\n",
    "EXAMPLE:\r\n",
    "Find <em>all</em> of the automorphisms of <em>Q</em>.<br><br>\r\n",
    "\r\n",
    "We found 4 inner automorphisms, but there certainly could \r\n",
    "be more. Suppose <nobr><em>&fnof;</em>(<em>i</em>) = <em>i</em>,</nobr> and <em>&fnof;</em>(<em>j</em>) = <em>k</em>? Since <em>i</em>, <em>j</em>, and <em>k</em> are all of order 4, \r\n",
    "it is conceivable that this would produce an automorphism. This time, we will use <em>Sage</em>'s <strong>Homomorph</strong> function to define the mapping.<br>"
   ]
  },
  {
   "cell_type": "code",
   "execution_count": 0,
   "metadata": {
    "collapsed": false
   },
   "outputs": [
   ],
   "source": [
    "X = Homomorph(Q, Q)\r\n",
    "HomoDef(X, i, i)\r\n",
    "HomoDef(X, j, k)\r\n",
    "FinishHomo(X)"
   ]
  },
  {
   "cell_type": "markdown",
   "metadata": {
    "collapsed": false
   },
   "source": [
    "<br>\r\n",
    "So <em>X</em> is a homomorphism, but is <em>X</em> an automorphism? By finding<br>"
   ]
  },
  {
   "cell_type": "code",
   "execution_count": 0,
   "metadata": {
    "collapsed": false
   },
   "outputs": [
   ],
   "source": [
    "Image(X, Q)"
   ]
  },
  {
   "cell_type": "markdown",
   "metadata": {
    "collapsed": false
   },
   "source": [
    "<br>\r\n",
    "we see that <em>X</em> is onto, and by finding<br>"
   ]
  },
  {
   "cell_type": "code",
   "execution_count": 0,
   "metadata": {
    "collapsed": false
   },
   "outputs": [
   ],
   "source": [
    "Kernel(X)"
   ]
  },
  {
   "cell_type": "markdown",
   "metadata": {
    "collapsed": false
   },
   "source": [
    "<br>\r\n",
    "we see that <em>X</em> is one-to-one. Therefore, <em>X</em> is an automorphism. By looking at the circle graph:<br>"
   ]
  },
  {
   "cell_type": "code",
   "execution_count": 0,
   "metadata": {
    "collapsed": false
   },
   "outputs": [
   ],
   "source": [
    "CircleGraph(Q, X)"
   ]
  },
  {
   "cell_type": "markdown",
   "metadata": {
    "collapsed": false
   },
   "source": [
    "<br>\r\n",
    "we see that the automorphism can be represented by the 4-cycle<br>"
   ]
  },
  {
   "cell_type": "code",
   "execution_count": 0,
   "metadata": {
    "collapsed": false
   },
   "outputs": [
   ],
   "source": [
    "H = C(j, k, -j, -k); H"
   ]
  },
  {
   "cell_type": "markdown",
   "metadata": {
    "collapsed": false
   },
   "source": [
    "<br>\r\n",
    "Let us add this to our group of automorphisms:<br>"
   ]
  },
  {
   "cell_type": "code",
   "execution_count": 0,
   "metadata": {
    "collapsed": false
   },
   "outputs": [
   ],
   "source": [
    "Group(F, G, H)"
   ]
  },
  {
   "cell_type": "code",
   "execution_count": 0,
   "metadata": {
    "collapsed": false
   },
   "outputs": [
   ],
   "source": [
    "len(_)"
   ]
  },
  {
   "cell_type": "markdown",
   "metadata": {
    "collapsed": false
   },
   "source": [
    "<br>\r\n",
    "So far, we have 8 automorphisms. Could there be any others?<br><br>\r\n",
    "\r\n",
    "Notice that all 8 of the automorphisms that we have come up with so far send <em>i</em> either to <em>i</em> or &minus;<em>i</em>. What if we sent <em>i</em> to, say, \r\n",
    "<em>k</em>? We could let <em>j</em> be sent to <em>j</em> for simplicity. Let's try it.<br>"
   ]
  },
  {
   "cell_type": "code",
   "execution_count": 0,
   "metadata": {
    "collapsed": false
   },
   "outputs": [
   ],
   "source": [
    "Y = Homomorph(Q, Q)\r\n",
    "HomoDef(Y, i, k)\r\n",
    "HomoDef(Y, j, j)\r\n",
    "FinishHomo(Y)"
   ]
  },
  {
   "cell_type": "markdown",
   "metadata": {
    "collapsed": false
   },
   "source": [
    "<br>\r\n",
    "We can check that this is one-to-one and onto by looking at the circle graph.<br>"
   ]
  },
  {
   "cell_type": "code",
   "execution_count": 0,
   "metadata": {
    "collapsed": false
   },
   "outputs": [
   ],
   "source": [
    "CircleGraph(Q, Y)"
   ]
  },
  {
   "cell_type": "markdown",
   "metadata": {
    "collapsed": false
   },
   "source": [
    "<br>\r\n",
    "So <em>Y</em> is an automorphism of <em>Q</em>. It can be represented by the 4-cycle<br>"
   ]
  },
  {
   "cell_type": "code",
   "execution_count": 0,
   "metadata": {
    "collapsed": false
   },
   "outputs": [
   ],
   "source": [
    "J = C(i, k, -i, -k); J"
   ]
  },
  {
   "cell_type": "markdown",
   "metadata": {
    "collapsed": false
   },
   "source": [
    "<br>\r\n",
    "So here is an updated list of automorphisms:<br>"
   ]
  },
  {
   "cell_type": "code",
   "execution_count": 0,
   "metadata": {
    "collapsed": false
   },
   "outputs": [
   ],
   "source": [
    "A = Group(F,G,H,J); A"
   ]
  },
  {
   "cell_type": "markdown",
   "metadata": {
    "collapsed": false
   },
   "source": [
    "<br>\r\n",
    "This is a long list. Let's see how many automorphisms we have.<br>"
   ]
  },
  {
   "cell_type": "code",
   "execution_count": 0,
   "metadata": {
    "collapsed": false
   },
   "outputs": [
   ],
   "source": [
    "len(A)"
   ]
  },
  {
   "cell_type": "markdown",
   "metadata": {
    "collapsed": false
   },
   "source": [
    "<br>\r\n",
    "So we have 24 automorphisms of <em>Q</em>. Since we began by observing that there could be at most 24 automorphisms, we finally must have them all. Is this group \r\n",
    "isomorphic to one of the groups of order 24 that we have studied before?<br><br>\r\n",
    "\r\n",
    "Rather than proving an isomorphism directly as we have done in the past, in this case there is a geometrical correlation between this automorphism group and the \r\n",
    "octahedronal group. Note that any automorphism of <em>Q</em> must fix 1 and &minus;1, but the other six elements can go to any other of the six elements. Suppose we were \r\n",
    "to label the six vertices of the octahedron with the six remaining elements of <em>Q</em>, as follows:<br>"
   ]
  },
  {
   "cell_type": "code",
   "execution_count": 0,
   "metadata": {
    "collapsed": false
   },
   "outputs": [
   ],
   "source": [
    "ShowOctahedronWithQuaternions()"
   ]
  },
  {
   "cell_type": "markdown",
   "metadata": {
    "collapsed": false
   },
   "source": [
    "<br>\r\n",
    "The vertex in the back is labeled &minus;<em>j</em>.  Now notice that each rotation of the octahedron gives an automorphism of <em>Q</em>, and vice versa.  For \r\n",
    "example, rotating the red face 120&deg; clockwise corresponds to the automorphism\r\n",
    "<p style='text-align: center;'>(<em>i</em> <em>j</em> <em>k</em>)(&minus;<em>i</em> &minus;<em>j</em> &minus;<em>k</em>).</p>\r\n",
    "So the automorphism group is isomorphic to the octahedronal group, which we saw was isomorphic to <em>S</em><sub>4</sub>. Thus, Aut(<em>Q</em>) is isomorphic to \r\n",
    "<em>S</em><sub>4</sub>.<br><br>\r\n",
    "\r\n",
    "Although the inner automorphisms did not produce the full automorphism group, this set of inner automorphisms turns out to be a very important subgroup of the automorphism \r\n",
    "group. Notice that we found that the product of the two inner automorphism was an inner automorphism. This suggests that Inn(<em>G</em>) is a subgroup of Aut(<em>G</em>). \r\n",
    "In fact we can even say more!\r\n",
    "\r\n",
    "<p />\r\n",
    "<a name=\"prop65ret\" id=\"prop65ret\"></a>\r\n",
    "PROPOSITION 6.5<br>\r\n",
    "Let <em>G</em> be a group. Then Inn(<em>G</em>) is a normal subgroup of Aut(<em>G</em>).<br><br>\r\n",
    "\r\n",
    "<a href=\"#prop65\">Click here for the proof.</a>\r\n",
    "\r\n",
    "<p />\r\n",
    "We found two inner-automorphisms of <em>Q</em>, namely <em>F</em> and <em>G</em>. We found one more inner automorphism by considering<br>"
   ]
  },
  {
   "cell_type": "code",
   "execution_count": 0,
   "metadata": {
    "collapsed": false
   },
   "outputs": [
   ],
   "source": [
    "Inn = Group(F, G); Inn"
   ]
  },
  {
   "cell_type": "markdown",
   "metadata": {
    "collapsed": false
   },
   "source": [
    "<br>\r\n",
    "If we examine the automorphism <em>&fnof;<sub>x</sub></em>(<em>y</em>) = <em>x</em>&middot;<em>y</em>&middot;<em>x</em><sup>-1</sup> for different elements <em>x</em>, \r\n",
    "we will find that we will always get one of these four automorphisms.  Thus, this group is the group of inner automorphisms on <em>Q</em>. Here is the multiplication \r\n",
    "table:<br>"
   ]
  },
  {
   "cell_type": "code",
   "execution_count": 0,
   "metadata": {
    "collapsed": false
   },
   "outputs": [
   ],
   "source": [
    "MultTable(Inn)"
   ]
  },
  {
   "cell_type": "markdown",
   "metadata": {
    "collapsed": false
   },
   "source": [
    "<br>\r\n",
    "Since the square of every element is the identity, we recognize Inn(<em>Q</em>) as isomorphic to <em>Z</em><sub>8</sub><sup>*</sup>.<br><br>\r\n",
    "\r\n",
    "Because the inner automorphism group is always a normal subgroup, we could consider the quotient group.<br><br>\r\n",
    "\r\n",
    "DEFINITION 6.5<br>\r\n",
    "We define the <em>outer automorphism</em> group to be the group \r\n",
    "<p style='text-align: center;'>Out(<em>G</em>)= Aut(<em>G</em>)/Inn(<em>G</em>).</p>\r\n",
    "\r\n",
    "For example, the outer automorphism group of <em>Q</em> is given by<br>"
   ]
  },
  {
   "cell_type": "code",
   "execution_count": 0,
   "metadata": {
    "collapsed": false
   },
   "outputs": [
   ],
   "source": [
    "Z = LftCoset(A, Inn); Z"
   ]
  },
  {
   "cell_type": "markdown",
   "metadata": {
    "collapsed": false
   },
   "source": [
    "<br>\r\n",
    "This gives a group of order 6.<br><br> \r\n",
    "\r\n",
    "As complicated as the elements of <em>Z</em> are, we can form a multiplication table.<br>"
   ]
  },
  {
   "cell_type": "code",
   "execution_count": 0,
   "metadata": {
    "collapsed": false
   },
   "outputs": [
   ],
   "source": [
    "MultTable(Z)"
   ]
  },
  {
   "cell_type": "markdown",
   "metadata": {
    "collapsed": false
   },
   "source": [
    "<br>\r\n",
    "Since this group is non-abelian, we see that the group is isomorphic to <em>S</em><sub>3</sub>.<br><br>\r\n",
    "\r\n",
    "If <em>G</em> is an abelian group, then the only inner automorphism is the identity automorphism.  Thus, for abelian groups, \r\n",
    "<p style='text-align: center;'>Inn(<em>G</em>) &asymp; {<em>e</em>}&emsp;and&emsp;Out(<em>G</em>) &asymp; Aut(<em>G</em>).</p> \r\n",
    "\r\n",
    "EXPERIMENT:<br>\r\n",
    "Load <em>S</em><sub>3</sub> into <em>Sage</em> with the following commands:<br>"
   ]
  },
  {
   "cell_type": "code",
   "execution_count": 0,
   "metadata": {
    "collapsed": false
   },
   "outputs": [
   ],
   "source": [
    "InitGroup(\"e\")\r\n",
    "AddGroupVar(\"a\", \"b\")\r\n",
    "Define(a^2, e)\r\n",
    "Define(b^3, e)\r\n",
    "Define(b*a, a*b^2)\r\n",
    "G = Group(a, b); G"
   ]
  },
  {
   "cell_type": "markdown",
   "metadata": {
    "collapsed": false
   },
   "source": [
    "<br>\r\n",
    "Note that for any automorphism, the element <em>a</em> must map to one of the three elements of order 2, and <em>b</em> must map to one of the two elements of order 3. \r\n",
    "Since the elements <em>a</em> and <em>b</em> generate the group, there can be at most six automorphisms.  By finding a few of the inner automorphisms, and having \r\n",
    "<em>Sage</em> create a multiplication table, identify Inn(<em>S</em><sub>3</sub>).  What is Aut(<em>S</em><sub>3</sub>)?<br>"
   ]
  },
  {
   "cell_type": "markdown",
   "metadata": {
    "collapsed": false
   },
   "source": [
    "<br>\r\n",
    "Let us look at one last example where the automorphism group turns out to be much larger than the original group.<br><br>\r\n",
    "\r\n",
    "EXAMPLE:<br>\r\n",
    "Find the automorphism group of <em>Z</em><sub>24</sub><sup>*</sup>.<br><br>\r\n",
    "\r\n",
    "The following loads the group into <em>Sage</em>:<br>"
   ]
  },
  {
   "cell_type": "code",
   "execution_count": 0,
   "metadata": {
    "collapsed": false
   },
   "outputs": [
   ],
   "source": [
    "InitGroup(\"e\")\r\n",
    "AddGroupVar(\"a\", \"b\", \"c\")\r\n",
    "Define(a^2, e)\r\n",
    "Define(b^2, e)\r\n",
    "Define(c^2, e)\r\n",
    "Define(b*a, a*b)\r\n",
    "Define(c*a, a*c)\r\n",
    "Define(c*b, b*c)\r\n",
    "Y = ListGroup(); Y"
   ]
  },
  {
   "cell_type": "markdown",
   "metadata": {
    "collapsed": false
   },
   "source": [
    "<br>\r\n",
    "Once again, we will begin by determining an upper bound for the number of automorphisms.  \r\n",
    "Suppose <em>&#981;</em>(<em>x</em>) is an automorphism of <em>Z</em><sub>24</sub><sup>*</sup>. Naturally, <em>&#981;</em>(<em>e</em>) = <em>e</em>, but the other 7 \r\n",
    "elements are of order 2. Thus, <em>&#981;</em>(<em>a</em>) could be any of the 7 remaining elements. Now <em>&#981;</em>(<em>a</em>) and <em>&#981;</em>(<em>b</em>) \r\n",
    "are unrelated so <em>&#981;</em>(<em>b</em>) could be any of the 6 elements besides <em>e</em> and <em>&#981;</em>(<em>a</em>). We then would have \r\n",
    "<em>&#981;</em>(<em>a</em>&middot;<em>b</em>) = <em>&#981;</em>(<em>a</em>)&middot;<em>&#981;</em>(<em>b</em>), so four elements will be accouted for.  But \r\n",
    "<em>&#981;</em>(<em>c</em>) could be any of the 4 elements left over. Once <em>&#981;</em>(<em>a</em>), <em>&#981;</em>(<em>b</em>), and <em>&#981;</em>(<em>c</em>) are \r\n",
    "known, the entire automorphism is determined. Therefore, there are at most 7&middot;6&middot;4 = 168 possible automorphisms.<br><br>\r\n",
    "\r\n",
    "Now let us try to find an automorphism. Since <em>a</em>, <em>b</em>, and <em>c</em> are interchangeable in the definition of the group, we could consider a mapping \r\n",
    "<em>&fnof;</em> that maps <em>a</em> to <em>b</em>, <em>b</em> to <em>c</em>, and <em>c</em> back to <em>a</em>. <br>"
   ]
  },
  {
   "cell_type": "code",
   "execution_count": 0,
   "metadata": {
    "collapsed": false
   },
   "outputs": [
   ],
   "source": [
    "F = Homomorph(Y, Y)\r\n",
    "HomoDef(F, a, b)\r\n",
    "HomoDef(F, b, c)\r\n",
    "HomoDef(F, c, a)\r\n",
    "FinishHomo(F)"
   ]
  },
  {
   "cell_type": "code",
   "execution_count": 0,
   "metadata": {
    "collapsed": false
   },
   "outputs": [
   ],
   "source": [
    "CircleGraph(Y, F)"
   ]
  },
  {
   "cell_type": "markdown",
   "metadata": {
    "collapsed": false
   },
   "source": [
    "<br>\r\n",
    "We see that this produces an automorphism, and that <em>a</em>&middot;<em>b</em> maps to \r\n",
    "<em>b</em>&middot;<em>c</em>, which maps to <em>c</em>&middot;<em>a</em>, which maps back to <em>a</em>&middot;<em>b</em>. The \r\n",
    "element <em>a</em>&middot;<em>b&middot;c</em> is fixed by this mapping.  Thus, this mapping would be the permutation<br>"
   ]
  },
  {
   "cell_type": "code",
   "execution_count": 0,
   "metadata": {
    "collapsed": false
   },
   "outputs": [
   ],
   "source": [
    "f = C(a, b, c)*C(a*b, b*c, a*c); f"
   ]
  },
  {
   "cell_type": "markdown",
   "metadata": {
    "collapsed": false
   },
   "source": [
    "<br>\r\n",
    "Can we find other automorphisms? Our success should indicate that there are many of them! Suppose we consider <em>&#981;</em>(<em>a</em>) = <em>a</em>, \r\n",
    "<em>&#981;</em>(<em>c</em>) = <em>c</em>, but let <em>&#981;</em>(<em>b</em>) = <em>a</em>&middot;<em>b</em>? <br>"
   ]
  },
  {
   "cell_type": "code",
   "execution_count": 0,
   "metadata": {
    "collapsed": false
   },
   "outputs": [
   ],
   "source": [
    "G = Homomorph(Y, Y)\r\n",
    "HomoDef(G, a, a)\r\n",
    "HomoDef(G, b, a*b)\r\n",
    "HomoDef(G, c, c)\r\n",
    "FinishHomo(G)"
   ]
  },
  {
   "cell_type": "code",
   "execution_count": 0,
   "metadata": {
    "collapsed": false
   },
   "outputs": [
   ],
   "source": [
    "CircleGraph(Y, G)"
   ]
  },
  {
   "cell_type": "markdown",
   "metadata": {
    "collapsed": false
   },
   "source": [
    "This automorphism works, and would be represented by the permutation<br>"
   ]
  },
  {
   "cell_type": "code",
   "execution_count": 0,
   "metadata": {
    "collapsed": false
   },
   "outputs": [
   ],
   "source": [
    "g = C(b, a*b)* C(b*c, a*b*c); g"
   ]
  },
  {
   "cell_type": "markdown",
   "metadata": {
    "collapsed": false
   },
   "source": [
    "<br>\r\n",
    "We can now use <em>Sage</em> to find other automorphisms generated by these two.<br><br>\r\n",
    "\r\n",
    "Because of the large number of possible elements in Aut(<em>Z</em><sub>24</sub><sup>*</sup>), we will be better off if we number the elements in the \r\n",
    "group <em>Z</em><sub>24</sub><sup>*</sup>. This will allow us to use the <strong>P[ ]</strong> notation. (<em>Sage</em> works much faster using \r\n",
    "the <strong>P[ ]</strong> notation than using cycles.) Since all automorphisms fix the element <em>e</em> this element need not be numbered. The other 7 elements can \r\n",
    "be numbered as follows, using the same order as the elements appear in <strong>ListGroup</strong>:\r\n",
    "<br><br>\r\n",
    "<table align=\"center\" border=\"0\">\r\n",
    "   <tr>\r\n",
    "     <td align=\"right\">1)&emsp;</td>\r\n",
    "     <td><em>a</em></td>\r\n",
    "   </tr>\r\n",
    "   <tr>\r\n",
    "     <td align=\"right\">2)&emsp;</td>\r\n",
    "     <td><em>b</em></td>\r\n",
    "   </tr>\r\n",
    "   <tr>\r\n",
    "     <td align=\"right\">3)&emsp;</td>\r\n",
    "     <td><em>a</em>&middot;<em>b</em></td>\r\n",
    "   </tr>\r\n",
    "   <tr>\r\n",
    "     <td align=\"right\">4)&emsp;</td>\r\n",
    "     <td><em>c</em></td>\r\n",
    "   </tr>\r\n",
    "   <tr>\r\n",
    "     <td align=\"right\">5)&emsp;</td>\r\n",
    "     <td><em>a</em>&middot;<em>c</em></td>\r\n",
    "   </tr>\r\n",
    "   <tr>\r\n",
    "     <td align=\"right\">6)&emsp;</td>\r\n",
    "     <td><em>b</em>&middot;<em>c</em></td>\r\n",
    "   </tr>\r\n",
    "   <tr>\r\n",
    "     <td align=\"right\">7)&emsp;</td>\r\n",
    "     <td><em>a</em>&middot;<em>b</em>&middot;<em>c</em></td>\r\n",
    "   </tr>         \r\n",
    "</table>\r\n",
    "<br>                             \r\n",
    "Let us convert <strong>f</strong> and <strong>g</strong> to permutations using the numbering scheme we gave to the elements.<br>"
   ]
  },
  {
   "cell_type": "code",
   "execution_count": 0,
   "metadata": {
    "collapsed": false
   },
   "outputs": [
   ],
   "source": [
    "f = CycleToPerm(C(1,2,4)*C(3,6,5)); f"
   ]
  },
  {
   "cell_type": "code",
   "execution_count": 0,
   "metadata": {
    "collapsed": false
   },
   "outputs": [
   ],
   "source": [
    "g = CycleToPerm(C(2,3)*C(6,7)); g"
   ]
  },
  {
   "cell_type": "markdown",
   "metadata": {
    "collapsed": false
   },
   "source": [
    "<br>\r\n",
    "That is, <strong>f</strong> maps element 1 (<em>a</em>) to element 2 (<em>b</em>), which is mapped to element 4 (<em>c</em>), etc.<br><br>Likewise, \r\n",
    "<strong>g</strong> exchanges the 2nd and 3rd elements, and exchanges the 6th and 7th elements of <em>Z</em><sub>24</sub><sup>*</sup>.  The circle graphs will still looks \r\n",
    "the same:<br>"
   ]
  },
  {
   "cell_type": "code",
   "execution_count": 0,
   "metadata": {
    "collapsed": false
   },
   "outputs": [
   ],
   "source": [
    "CircleGraph([0,1,2,3,4,5,6,7], f)"
   ]
  },
  {
   "cell_type": "code",
   "execution_count": 0,
   "metadata": {
    "collapsed": false
   },
   "outputs": [
   ],
   "source": [
    "CircleGraph([0,1,2,3,4,5,6,7], g)"
   ]
  },
  {
   "cell_type": "markdown",
   "metadata": {
    "collapsed": false
   },
   "source": [
    "<br>\r\n",
    "Since <strong>f</strong> and <strong>g</strong> both represent automorphisms of <em>Z</em><sub>24</sub><sup>*</sup>, we can find other automorphisms be considering the \r\n",
    "group generated by <strong>f</strong> and <strong>g</strong>.<br>"
   ]
  },
  {
   "cell_type": "code",
   "execution_count": 0,
   "metadata": {
    "collapsed": false
   },
   "outputs": [
   ],
   "source": [
    "A = Group(f, g); A"
   ]
  },
  {
   "cell_type": "markdown",
   "metadata": {
    "collapsed": false
   },
   "source": [
    "<br>\r\n",
    "<em>Sage</em> came up with quite a few automorphisms. Let's see how many we have.<br>"
   ]
  },
  {
   "cell_type": "code",
   "execution_count": 0,
   "metadata": {
    "collapsed": false
   },
   "outputs": [
   ],
   "source": [
    "len(A)"
   ]
  },
  {
   "cell_type": "markdown",
   "metadata": {
    "collapsed": false
   },
   "source": [
    "<br>\r\n",
    "Therefore, we have found 168 different automorphisms of <em>Z</em><sub>24</sub><sup>*</sup>. We saw that this was the maximum number of automorphisms we could have, so \r\n",
    "we must have all of them.  However, this is a difficult way to see the elements of the group!  It is a challenge just to see if a given permutation is somewhere in this \r\n",
    "list. Is there an easier way of viewing this group?<br><br>\r\n",
    "\r\n",
    "One way to tidy up this long list is to convert the permutations to numbers. Recall that in Chapter 5 we ordered all of the permutations, thereby converting every \r\n",
    "permutation to a number.  Setting <strong>DisplayPermInt</strong> to <strong>true</strong> causes the permutations to be displayed as integers. <br>"
   ]
  },
  {
   "cell_type": "code",
   "execution_count": 0,
   "metadata": {
    "collapsed": false
   },
   "outputs": [
   ],
   "source": [
    "DisplayPermInt = true"
   ]
  },
  {
   "cell_type": "code",
   "execution_count": 0,
   "metadata": {
    "collapsed": false
   },
   "outputs": [
   ],
   "source": [
    "A"
   ]
  },
  {
   "cell_type": "markdown",
   "metadata": {
    "collapsed": false
   },
   "source": [
    "<br>\r\n",
    "This looks much more manageable.  By displaying the permutations <em>f</em> and <em>g</em>,<br>"
   ]
  },
  {
   "cell_type": "code",
   "execution_count": 0,
   "metadata": {
    "collapsed": false
   },
   "outputs": [
   ],
   "source": [
    "f"
   ]
  },
  {
   "cell_type": "code",
   "execution_count": 0,
   "metadata": {
    "collapsed": false
   },
   "outputs": [
   ],
   "source": [
    "g"
   ]
  },
  {
   "cell_type": "markdown",
   "metadata": {
    "collapsed": false
   },
   "source": [
    "we see that <em>f</em> and <em>g</em> represent the 187th and the 723rd permutations.<br><br>\r\n",
    "\r\n",
    "This is the largest group with which we will work using <em>Sage</em>.  In fact we will discover in the next chapter that this group has some <em>very</em> special \r\n",
    "properties. We will explore this group in detail using <em>Sage</em> in the next chapter.<br><br>\r\n",
    "\r\n",
    "We have now seen several examples where the group of automorphisms is larger than the original group.  But this group of automorphisms can also be used as a tool for \r\n",
    "connecting two groups to form an even larger group, in much the same way that two groups formed the direct product.  The next section will explore this methodology.<br><br>\r\n",
    "\r\n",
    "<a name=\"sec64\" id=\"sec64\"></a>\r\n",
    "<h1>Semi-Direct Products</h1>\r\n",
    "\r\n",
    "<br>\r\n",
    "So far in this chapter we have seen how we can combine two groups <em>H</em> and <em>K</em> together to form a larger group <em>H</em> &times; <em>K</em> using the direct\r\n",
    "product. We then saw that <em>H</em> &times; <em>K</em> had isomorphic copies of <em>H</em> and <em>K</em> as normal subgroups. <br><br>\r\n",
    "\r\n",
    "In this section we will see another way to combine two groups <em>H</em> and <em>K</em>. Once again the larger group will have isomorphic copies of <em>H</em> and \r\n",
    "<em>K</em> as subgroups, but only <em>one</em> of the two subgroups will be a normal subgroup. For this reason, the combination of groups is called a \r\n",
    "<em>semi-direct product</em>.<br><br>\r\n",
    "\r\n",
    "Suppose that <em>H</em> and <em>K</em> are any two groups, and suppose that we have a homomorphism\r\n",
    "<p style='text-align: center;'><em>&#981;</em>: <em>H</em> &rarr; Aut(<em>K</em>). </p>\r\n",
    "That is, for every <em>h</em> in <em>H</em>, <em>&#981;</em>(<em>h</em>) will be a mapping from <em>K</em> into <em>K</em>. Because the output of the function \r\n",
    "<em>&#981;</em> is again a function, we will write <em>&#981;<sub>h</sub></em> instead of <em>&#981;</em>(<em>h</em>). This way we can write \r\n",
    "<em>&#981;<sub>h</sub></em>(<em>k</em>) to express the function <em>&#981;<sub>h</sub></em> evaluated at <em>k</em>.  That is, if <em>h</em><sub>1</sub> and \r\n",
    "<em>h</em><sub>2</sub> are two elements of <em>H</em>, then <nobr><em>&#981;</em><sub><em>h</em>&#8321;</sub>(<em>k</em>)</nobr> and \r\n",
    "<em>&#981;</em><sub><em>h</em>&#8322;</sub>(<em>k</em>) will be two automorphisms of <em>K</em>, and also \r\n",
    "<p style='text-align: center;'><em>&#981;</em><sub><em>h</em>&#8321;&middot;<em>h</em>&#8322;</sub>(<em>k</em>) = \r\n",
    "(<em>&#981;</em><sub><em>h</em>&#8321;</sub>&middot;<em>&#981;</em><sub><em>h</em>&#8322;</sub>)(<em>k</em>) = \r\n",
    "<em>&#981;</em><sub><em>h</em>&#8321;</sub>(<em>&#981;</em><sub><em>h</em>&#8322;</sub>(<em>k</em>)).</p>\r\n",
    "(Recall that <em>&#981;</em><sub><em>h</em>&#8321;</sub>&middot;<em>&#981;</em><sub><em>h</em>&#8322;</sub> means we do <em>&#981;</em><sub><em>h</em>&#8322;</sub> \r\n",
    "first, then do <em>&#981;</em><sub><em>h</em>&#8321;</sub>.)<br><br>\r\n",
    "\r\n",
    "There will always be at least one possible homomorphism from <em>H</em> to Aut(<em>K</em>) since we could let <em>&#981;<sub>h</sub></em> be the identity automorphism \r\n",
    "for all <em>h</em>. However, there will usually be several other possible homomorphisms from <em>H</em> to Aut(<em>K</em>). For each such homomorphism, we can define \r\n",
    "a product of <em>K</em> and <em>H</em>. <br><br>\r\n",
    "\r\n",
    "DEFINITION 6.6<br>\r\n",
    "Let <em>K</em> and <em>H</em> be two groups, and let <em>G</em> to be the set of all ordered pairs (<em>k</em>, <em>h</em>), where <em>k</em> is in <em>K</em> and \r\n",
    "<em>h</em> is in <em>H</em>. Let <em>&#981;</em> be a nontrivial homomorphism from <em>H</em> to Aut(<em>K</em>). Then the \r\n",
    "<em>semi-direct product of K with H through &#981;</em>, \r\n",
    "denoted\r\n",
    "<p style='text-align: center;'><em>K</em> &#8906;<sub><em>&#981;</em></sub><em>H</em>,</p> \r\n",
    "is the set <em>G</em> with multiplication defined by\r\n",
    "<p style='text-align: center;'>(<em>k</em><sub>1</sub>, <em>h</em><sub>1</sub>)&middot;(<em>k</em><sub>2</sub>, <em>h</em><sub>2</sub>) = \r\n",
    "(<em>k</em><sub>1</sub>&middot;<em>&#981;</em><sub><em>h</em>&#8321;</sub>(<em>k</em><sub>2</sub>), <em>h</em><sub>1</sub>&middot;<em>h</em><sub>2</sub>).</p>\r\n",
    "\r\n",
    "<p />\r\n",
    "<a name=\"prop66ret\" id=\"prop66ret\"></a>\r\n",
    "PROPOSITION 6.6<br>\r\n",
    "The semi-direct product of <em>K</em> with <em>H</em> through <em>&#981;</em> is a group.<br><br>\r\n",
    "\r\n",
    "<a href=\"#prop66\">Click here for the proof.</a>\r\n",
    "\r\n",
    "<p />\r\n",
    "A semi-product of two groups acts in many ways like the direct product. One property that is in common is that there are copies of the two original groups within the \r\n",
    "product. In fact, we have the following:\r\n",
    "\r\n",
    "<p />\r\n",
    "<a name=\"lem67ret\" id=\"lem67ret\"></a>\r\n",
    "LEMMA 6.7<br>\r\n",
    "Let <em>G</em> = <em>K</em> &#8906;<sub><em>&#981;</em></sub><em>H</em> be the semi-direct product of <em>K</em> with <em>H</em> through the homomorphism \r\n",
    "<em>&#981;</em>.  Suppose that <em>e</em><sub>1</sub> is the identity element of <em>K</em>, and <em>e</em><sub>2</sub> is the identity element of <em>H</em>.  Then \r\n",
    "<p style='text-align: center;'><font style=\"text-decoration:overline\"><em>H</em></font> = { (<em>e</em><sub>1</sub>, <em>h</em>) | <em>h</em> &isin; <em>H</em> }</p>\r\n",
    "is a subgroup of <em>G</em>, and\r\n",
    "<p style='text-align: center;'><font style=\"text-decoration:overline\"><em>K</em></font> = { (<em>k</em>, <em>e</em><sub>2</sub>) | <em>k</em> &isin; <em>K</em> }</p>\r\n",
    "is a normal subgroup of <em>G</em>. Furthermore, \r\n",
    "<p style='text-align: center;'><font style=\"text-decoration:overline\"><em>H</em></font> &asymp; <em>H</em>, &emsp; \r\n",
    "<font style=\"text-decoration:overline\"><em>K</em></font> &asymp; <em>K</em>,</p>\r\n",
    "and <font style=\"text-decoration:overline\"><em>H</em></font> &cap; <font style=\"text-decoration:overline\"><em>K</em></font> is the identity element of <em>G</em>.<br><br>\r\n",
    "\r\n",
    "<a href=\"#lem67\">Click here for the proof.</a>\r\n",
    "\r\n",
    "<p />\r\n",
    "Since the semi-direct product contains copies of the two smaller groups within itself, the natural question is whether an arbitrary group <em>G</em> can be expressed as \r\n",
    "a semi-direct product of two of its subgroups. The conditions for when this will happen is set forth in the following theorem.\r\n",
    "\r\n",
    "<p />\r\n",
    "<a name=\"theor63ret\" id=\"theor63ret\"></a>\r\n",
    "THEOREM 6.3: The Semi-Direct Product Theorem<br>\r\n",
    "Suppose that a group <em>G</em> has two subgroups <em>N</em> and <em>H</em> whose intersection is the identity element. If <em>N</em> is a normal subgroup of <em>G</em> \r\n",
    "and <em>H</em> is <em>not</em> a normal subgroup of <em>N</em>&middot;<em>H</em>, then there exists a nontrivial homomorphism <em>&#981;</em> from <em>H</em> to \r\n",
    "Aut(<em>N</em>) such that\r\n",
    "<p style='text-align: center;'><em>N</em>&middot;<em>H</em> &asymp; <em>N</em> &#8906;<sub><em>&#981;</em></sub><em>H</em>.</p>\r\n",
    "\r\n",
    "<a href=\"#theor63\">Click here for the proof.</a>\r\n",
    "\r\n",
    "<p />\r\n",
    "Enough of the technical proofs, let us learn how to define a semi-direct product with <em>Sage</em>. We will use this result to define the semi-direct product of two \r\n",
    "groups in <em>Sage</em>. We first must define the two groups in <em>Sage</em> using the same identity as we did for the direct product, using different letters for \r\n",
    "the generators. We must also know the homomorphism <em>&#981;</em> from <em>H</em> to Aut(<em>N</em>).<br><br>\r\n",
    "\r\n",
    "We will want to express every element into the form <em>k</em>&middot;<em>h</em>, where <em>k</em> is in <em>N</em>, and <em>h</em> is in <em>H</em>.<br><br>\r\n",
    "\r\n",
    "From the definition, we see that \r\n",
    "<p style='text-align: center;'>(<em>k</em>, <em>e</em><sub>2</sub>)&middot;(<em>e</em><sub>1</sub>, <em>h</em>) = (<em>k</em>&middot;<em>&#981;</em><sub><em>e</em>&#8322;</sub>(<em>e</em><sub>1</sub>), <em>e</em><sub>2</sub>&middot;<em>h</em>) = (<em>k</em>, <em>h</em>).</p>\r\n",
    "Thus, we see that <em>k</em>&middot;<em>h</em> can represent the ordered pair (<em>k</em>, <em>h</em>).  We need to tell <em>Sage</em> how to handle expressions \r\n",
    "of the form <em>h</em>&middot;<em>k</em>.<br><br>\r\n",
    "For each generator <em>a</em> of <em>N</em>, and each generator <em>b</em> of <em>H</em>, we can calculate how <em>b</em>&middot;<em>a</em> should be defined by \r\n",
    "evaluating\r\n",
    "<p style='text-align: center;'>(<em>e</em><sub>1</sub>, <em>b</em>)&middot;(<em>a</em>, <em>e</em><sub>2</sub>) = (<em>e</em><sub>1</sub>&middot;<em>&#981;<sub>b</sub></em>(<em>a</em>), <em>b</em>&middot;<em>e</em><sub>2</sub>) = (<em>&#981;<sub>b</sub></em>(<em>a</em>), <em>b</em>).</p>\r\n",
    "So for each generator <em>a</em> of <em>H</em>, and each generator <em>b</em> of <em>N</em>, we make a definition of the form<br><br>\r\n",
    "<strong>Define(b * a, <em>&#981;<sub>b</sub></em>(<em>a</em>) * b )</strong><br><br>\r\n",
    "where we replace the expression <em>&#981;<sub>b</sub></em>(<em>a</em>) with its element of <em>N</em>.<br><br>\r\n",
    "\r\n",
    "EXAMPLE:<br>\r\n",
    "\r\n",
    "Use <em>Sage</em> to find a semi-direct product of <em>Z</em><sub>5</sub> with <em>Z</em><sub>2</sub>.<br><br>\r\n",
    "\r\n",
    "We first must define <em>Z</em><sub>5</sub> and \r\n",
    "<em>Z</em><sub>2</sub> into <em>Sage</em> using the same identity but different generators.<br>"
   ]
  },
  {
   "cell_type": "code",
   "execution_count": 0,
   "metadata": {
    "collapsed": false
   },
   "outputs": [
   ],
   "source": [
    "InitGroup(\"e\")\r\n",
    "AddGroupVar(\"a\", \"b\")\r\n",
    "Define(a^5, e)\r\n",
    "Define(b^2, e)\r\n",
    "Z5 = Group(a); Z5"
   ]
  },
  {
   "cell_type": "code",
   "execution_count": 0,
   "metadata": {
    "collapsed": false
   },
   "outputs": [
   ],
   "source": [
    "Z2 = Group(b); Z2"
   ]
  },
  {
   "cell_type": "markdown",
   "metadata": {
    "collapsed": false
   },
   "source": [
    "<br>\r\n",
    "Next, we must find a nontrivial homomorphism <em>&#981;</em> from <em>Z</em><sub>2</sub> to Aut(<em>Z</em><sub>5</sub>). But\r\n",
    "<p style='text-align: center;'>Aut(<em>Z</em><sub>5</sub>) &asymp; <em>Z</em><sub>5</sub><sup>*</sup> &asymp; <em>Z</em><sub>4</sub>.</p>\r\n",
    "Since the element <em>b</em> is of order 2, <em>&#981;</em>(<em>b</em>)<sup>2</sup> = <em>&#981;</em>(<em>b</em><sup>2</sup>) = <em>e</em>, so \r\n",
    "<em>&#981;</em>(<em>b</em>) must be of order 2 to keep the homomorphism from being trivial. We need <em>&#981;</em>(<em>b</em>) to map to the only element of \r\n",
    "Aut(<em>Z</em><sub>5</sub>) which is of order 2.<br><br>\r\n",
    "\r\n",
    "Which element is this? With a moment's reflection, we can see that\r\n",
    "<p style='text-align: center;'><em>&fnof;</em>: <em>N</em> &rarr; <em>N</em>,&emsp;<em>&fnof;</em>(<em>k</em>) = <em>k</em><sup>-1</sup></p>\r\n",
    "will always be an automorphism of whenever <em>N</em> is an abelian group. As long as <em>N</em> has an element that is not its own inverse, this automorphism will be \r\n",
    "of order 2.<br><br> \r\n",
    "\r\n",
    "Therefore, to find a semi-direct product of <em>Z</em><sub>5</sub> by <em>Z</em><sub>2</sub>, we must let <em>&#981;<sub>b</sub></em> be the automorphism \r\n",
    "<em>&fnof;</em>(<em>k</em>) = <em>k</em><sup>-1</sup>. Then <em>&#981;<sub>b</sub></em>(<em>a</em>) = <em>a</em><sup>-1</sup> = <em>a</em><sup>4</sup>. \r\n",
    "So the definition<br>"
   ]
  },
  {
   "cell_type": "code",
   "execution_count": 0,
   "metadata": {
    "collapsed": false
   },
   "outputs": [
   ],
   "source": [
    "Define(b*a, a^4*b)"
   ]
  },
  {
   "cell_type": "markdown",
   "metadata": {
    "collapsed": false
   },
   "source": [
    "<br>\r\n",
    "completes the definition of the semi-direct product. We now have the group along with the multiplication table:<br>"
   ]
  },
  {
   "cell_type": "code",
   "execution_count": 0,
   "metadata": {
    "collapsed": false
   },
   "outputs": [
   ],
   "source": [
    "G = ListGroup(); G"
   ]
  },
  {
   "cell_type": "code",
   "execution_count": 0,
   "metadata": {
    "collapsed": false
   },
   "outputs": [
   ],
   "source": [
    "MultTable(G)"
   ]
  },
  {
   "cell_type": "markdown",
   "metadata": {
    "collapsed": false
   },
   "source": [
    "<br>\r\n",
    "This is the semi-direct product <em>Z</em><sub>5</sub> &#8906; <em>Z</em><sub>2</sub>, a non-abelian group of order 10.  Note that when there is only one possible \r\n",
    "semi-direct product between two groups, we can leave out the <em>&#981;</em> in the notation.<br><br>\r\n",
    "\r\n",
    "We can ask <em>Sage</em> what this group is, using the command <strong>StructureDescription()</strong>.  This command analyzes the last group defined using \r\n",
    "the <strong>InitGroup</strong> and <strong>Define</strong> commands."
   ]
  },
  {
   "cell_type": "code",
   "execution_count": 0,
   "metadata": {
    "collapsed": false
   },
   "outputs": [
   ],
   "source": [
    "StructureDescription()"
   ]
  },
  {
   "cell_type": "markdown",
   "metadata": {
    "collapsed": false
   },
   "source": [
    "<em>Sage</em> says that this group is <em>D</em><sub>5</sub>, which introduces a new class of groups, known as the <em>dihedral groups</em>.\r\n",
    "<br><br>\r\n",
    "\r\n",
    "EXPERIMENT:<br>\r\n",
    "Find a semi-direct product <em>Z</em><sub>6</sub> &#8906; <em>Z</em><sub>2</sub>.  Then ask <em>Sage</em> what the group is using \r\n",
    "the <strong>StructureDescription()</strong> command.<br>"
   ]
  },
  {
   "cell_type": "markdown",
   "metadata": {
    "collapsed": false
   },
   "source": [
    "<br>\r\n",
    "We can easily generalize these examples to form an important class of groups.<br><br>\r\n",
    "\r\n",
    "DEFINITION 6.7:<br>\r\n",
    "Let <em>n</em> > 2, and let <em>&#981;</em> be the homomorphism from <em>Z</em><sub>2</sub> = {<em>e</em>, <em>b</em>} to Aut(<em>Z<sub>n</sub></em>) given by\r\n",
    "<p style='text-align: center;'><em>&#981;<sub>e</sub></em>(<em>k</em>) = <em>k</em>,&emsp;<em>&#981;<sub>b</sub></em>(<em>k</em>) = <em>k</em><sup>-1</sup>.</p>\r\n",
    "Then the semi-direct product <em>Z<sub>n</sub></em> &#8906;<sub><em>&#981;</em></sub><em>Z</em><sub>2</sub> is called the <em>dihedral group \r\n",
    "of order 2n</em>. It is denoted <em>D<sub>n</sub></em>, and is a non-abelian group of order <em>2n</em>.<br><br>\r\n",
    "\r\n",
    "Following this example, we see that the dihedral group can be defined in <em>Sage</em> by the commands<br><br>\r\n",
    "\r\n",
    "<strong>InitGroup(\"e\")</strong><br>\r\n",
    "<strong>AddGroupVar(\"a\", \"b\")</strong><br>\r\n",
    "<strong>Define(a^</strong><em>n</em><strong>, e)</strong><br>\r\n",
    "<strong>Define(b^2, e)</strong><br>\r\n",
    "<strong>Define(b*a, a^-1*b)</strong><br>\r\n",
    "<strong>Dn = Group(a, b)</strong><br><br>\r\n",
    "\r\n",
    "The symbol <em>n</em> must be replaced with an integer before executing these commands.  When <em>n</em> = 3, we get a non-abelian group of order 6, so we must have that \r\n",
    "<em>D</em><sub>3</sub> is isomorphic to <em>S</em><sub>3</sub>. We also have already seen <em>D</em><sub>4</sub>, since this was one of the 5 groups of order 8 that we \r\n",
    "found in chapter 4. <br><br>\r\n",
    "\r\n",
    "It should be noted that the semi-direct product may greatly depend on the choice of the homomorphism <em>&#981;</em>.<br><br>\r\n",
    "\r\n",
    "EXAMPLE:<br>\r\n",
    "Consider finding the semi-direct products \r\n",
    "of <em>Z</em><sub>8</sub> with <em>Z</em><sub>2</sub>. The dihedral group <em>D</em><sub>8</sub> is certainly one such product, but there could be others.  The homomorphism \r\n",
    "<em>&#981;</em> would have to map the element <em>b</em> of order 2 in <em>Z</em><sub>2</sub> to an element of order 2 in Aut(<em>Z</em><sub>8</sub>). But since\r\n",
    "<p style='text-align: center;'>Aut(<em>Z</em><sub>8</sub>) &asymp; <em>Z</em><sub>8</sub><sup>*</sup> &asymp; <em>Z</em><sub>2</sub> &times; <em>Z</em><sub>2</sub></p>\r\n",
    "has three elements of order 2, we have three choices of what <em>&#981;<sub>b</sub></em> could be. Do these produce different groups?<br><br>\r\n",
    "\r\n",
    "To explore this possibility, let us first load in the dihedral group <em>D</em><sub>8</sub>.<br>"
   ]
  },
  {
   "cell_type": "code",
   "execution_count": 0,
   "metadata": {
    "collapsed": false
   },
   "outputs": [
   ],
   "source": [
    "InitGroup(\"e\")\r\n",
    "AddGroupVar(\"a\", \"b\")\r\n",
    "Define(a^8, e)\r\n",
    "Define(b^2, e)\r\n",
    "Define(b*a, a^7*b)\r\n",
    "D8 = ListGroup(); D8"
   ]
  },
  {
   "cell_type": "code",
   "execution_count": 0,
   "metadata": {
    "collapsed": false
   },
   "outputs": [
   ],
   "source": [
    "MultTable(D8)"
   ]
  },
  {
   "cell_type": "markdown",
   "metadata": {
    "collapsed": false
   },
   "source": [
    "<br>\r\n",
    "We can check that we have defined <em>D</em><sub>8</sub>:<br>"
   ]
  },
  {
   "cell_type": "code",
   "execution_count": 0,
   "metadata": {
    "collapsed": false
   },
   "outputs": [
   ],
   "source": [
    "StructureDescription()"
   ]
  },
  {
   "cell_type": "markdown",
   "metadata": {
    "collapsed": false
   },
   "source": [
    "<br>\r\n",
    "Notice that the main diagonal contains 10 <em>e</em>'s. This means that there are 9 elements of <em>D</em><sub>8</sub> which are of order 2. This will be useful for \r\n",
    "later comparisons. <br><br>\r\n",
    "\r\n",
    "What are the other automorphisms on <em>Z</em><sub>8</sub>?  Since <em>Z</em><sub>8</sub><sup>*</sup> = {1, 3, 5, 7}, we have the automorphisms\r\n",
    "<p style='text-align: center;'><em>&#981;</em>(<em>a</em>) = <em>a</em>, &emsp; <em>&#981;</em>(<em>a</em>) = <em>a</em><sup>3</sup>, &emsp; <em>&#981;</em>(<em>a</em>) = \r\n",
    "<em>a</em><sup>5</sup>, &ensp; and &ensp; <em>&#981;</em>(<em>a</em>) = <em>a</em><sup>7</sup> = <em>a</em><sup>-1</sup>.</p>\r\n",
    "The first automorphism is the trivial automorphism, and the last is the one we just considered. Suppose we let \r\n",
    "<em>&#981;<sub>b</sub></em>(<em>a</em>) = <em>a</em><sup>3</sup>. Then <em>b</em>&middot;<em>a</em> = <em>a</em><sup>3</sup>&middot;<em>b</em>, so we can enter this \r\n",
    "into <em>Sage</em> with the commands<br>"
   ]
  },
  {
   "cell_type": "code",
   "execution_count": 0,
   "metadata": {
    "collapsed": false
   },
   "outputs": [
   ],
   "source": [
    "InitGroup(\"e\")\r\n",
    "AddGroupVar(\"a\", \"b\")\r\n",
    "Define(a^8, e)\r\n",
    "Define(b^2, e)\r\n",
    "Define(b*a, a^3*b)\r\n",
    "G = ListGroup(); G"
   ]
  },
  {
   "cell_type": "code",
   "execution_count": 0,
   "metadata": {
    "collapsed": false
   },
   "outputs": [
   ],
   "source": [
    "MultTable(G)"
   ]
  },
  {
   "cell_type": "markdown",
   "metadata": {
    "collapsed": false
   },
   "source": [
    "<br>\r\n",
    "Is this the same group as the dihedral group? Look along the main diagonal. We can count six occurances of the identity elenent, so only five elements of this group are \r\n",
    "of order 2. Therefore this cannot be isomorphic to <em>D</em><sub>8</sub>.  What does <em>Sage</em> call this group?<br>"
   ]
  },
  {
   "cell_type": "code",
   "execution_count": 0,
   "metadata": {
    "collapsed": false
   },
   "outputs": [
   ],
   "source": [
    "StructureDescription()"
   ]
  },
  {
   "cell_type": "markdown",
   "metadata": {
    "collapsed": false
   },
   "source": [
    "<br>\r\n",
    "<em>Sage</em> calls this group \"QD16\", since this is the <em>quasidihedral group</em> of order 16.<br><br>\r\n",
    "\r\n",
    "What if we let <em>&#981;<sub>b</sub></em>(<em>a</em>) = <em>a</em><sup>5</sup>?  We would have <em>b</em>&middot;<em>a</em> = <em>a</em><sup>5</sup>&middot;<em>b</em>, \r\n",
    "and so we would use the following commands to enter this group into <em>Sage</em>:<br>"
   ]
  },
  {
   "cell_type": "code",
   "execution_count": 0,
   "metadata": {
    "collapsed": false
   },
   "outputs": [
   ],
   "source": [
    "InitGroup(\"e\")\r\n",
    "AddGroupVar(\"a\", \"b\")\r\n",
    "Define(a^8, e)\r\n",
    "Define(b^2, e)\r\n",
    "Define(b*a, a^5*b)\r\n",
    "M = ListGroup(); M"
   ]
  },
  {
   "cell_type": "code",
   "execution_count": 0,
   "metadata": {
    "collapsed": false
   },
   "outputs": [
   ],
   "source": [
    "MultTable(M)"
   ]
  },
  {
   "cell_type": "markdown",
   "metadata": {
    "collapsed": false
   },
   "source": [
    "<br>\r\n",
    "How many elements of this group are of order 2? This time there are only four occurances of the identity along the main diagonal, so there are only three elements of \r\n",
    "order 2.  Thus we have yet another non-isomorphic group.  <em>Sage</em>'s name for this group:<br>"
   ]
  },
  {
   "cell_type": "code",
   "execution_count": 0,
   "metadata": {
    "collapsed": false
   },
   "outputs": [
   ],
   "source": [
    "StructureDescription()"
   ]
  },
  {
   "cell_type": "markdown",
   "metadata": {
    "collapsed": false
   },
   "source": [
    "<br>\r\n",
    "The colon denotes the semi-direct product symbol, &#8906;.  <em>Sage</em> is identifying this as a semi-direct product, but not telling us which one.  In fact, two non-isomorphic groups can sometimes produce the same <strong>StructureDescription()</strong> result.<br><br>\r\n",
    "\r\n",
    "We see in these three examples that the semi-direct product <em>N</em> &#8906;<sub><em>&#981;</em></sub><em>H</em> depends on the choice of the homomorphism \r\n",
    "<em>&#981;</em> form <em>H</em> into Aut(<em>N</em>). In fact, even though the three non-identity elements of <em>Z</em><sub>8</sub><sup>*</sup> are essentially \r\n",
    "equivalent (The automorphism group of <em>Z</em><sub>8</sub><sup>*</sup> included all permutations of these three elements), we see that the three elements produced \r\n",
    "three different semi-direct products of <em>Z</em><sub>8</sub> with <em>Z</em><sub>2</sub>.<br><br>\r\n",
    "\r\n",
    "This example is really more of an exception rather than a rule. Part of what makes this example unusual is that the automorphism group <em>Z</em><sub>8</sub><sup>*</sup> \r\n",
    "is abelian, and hence does not have any nontrivial <em>inner</em> automorphisms. We will see in the next proposition that if two homomorphisms <em>&#981;</em> and \r\n",
    "<em>&fnof;</em> from <em>H</em> to Aut(<em>N</em>) are related through an <em>inner</em> automorphism of Aut(<em>N</em>), then the corresponding semi-direct products will \r\n",
    "be isomorphic.\r\n",
    "\r\n",
    "<p />\r\n",
    "<a name=\"prop67ret\" id=\"prop67ret\"></a>\r\n",
    "PROPOSITION 6.7<br>\r\n",
    "Let <em>&#981;</em> be a homomorphism from a group <em>H</em> to the group Aut(<em>N</em>). Suppose that <em>&fnof;</em> is another homomorphism such that\r\n",
    "<p style='text-align: center;'><em>&fnof;<sub>h</sub></em>(<em>k</em>) = <em>w</em>(<em>&#981;<sub>h</sub></em>(<em>w</em><sup>-1</sup>(<em>k</em>))),</p>\r\n",
    "where <em>w</em>(<em>k</em>) is an automorphism of <em>N</em>. Then \r\n",
    "<p style='text-align: center;'><em>N</em> &#8906;<sub><em>&fnof;</em></sub>&thinsp;<em>H</em> &asymp; <em>N</em> &#8906;<sub><em>&#981;</em></sub><em>H</em></p>\r\n",
    "\r\n",
    "<a href=\"#prop67\">Click here for the proof.</a>\r\n",
    "\r\n",
    "<p />\r\n",
    "It is also clear that two homomorphisms <em>&#981;</em> and <em>&fnof;</em> are related through an automorphism of <em>H</em>, the semi-direct products must be \r\n",
    "isomorphic since we are merely relabeling the elements of <em>H</em>. As a result there will be many instances in which there will be only one non-isomorphic \r\n",
    "semi-direct product of <em>N</em> by <em>H</em>. Whenever this happens, we can denote the semi-direct product as\r\n",
    "<p style='text-align: center;'><em>N</em> &#8906; <em>H</em></p>\r\n",
    "without having to specify the homomorphism <em>&#981;</em>. <br><br>\r\n",
    "\r\n",
    "We will find that we can describe many groups in terms of semi-direct products that would be hard to describe in any other way. With <em>Sage</em>, the structure of \r\n",
    "these semi-direct products can easily be studied.\r\n",
    "\r\n",
    "<br><br><br><br><br><br><br><br><br><br><br><br><br><br><br><br><br><br><br><br><br><br><br><br><br><br><br><br><br><br><br><br><br><br><br><br><br><br><br><br><br><br>\r\n",
    "\r\n",
    "<h1>Proofs:</h1>\r\n",
    "\r\n",
    "<a name=\"prop61\" id=\"prop61\"></a>\r\n",
    "\r\n",
    "Proof of Proposition 6.1:<br><br>\r\n",
    "\r\n",
    "First, suppose that <em>H</em> and <em>K</em> are both abelian. Then for two elements (<em>h</em><sub>1</sub>, <em>k</em><sub>1</sub>) and (<em>h</em><sub>2</sub>, \r\n",
    "<em>k</em><sub>2</sub>) in <em>H</em> &times; <em>K</em>, we have\r\n",
    "<p style='text-align: center;'>(<em>h</em><sub>1</sub>, <em>k</em><sub>1</sub>)&middot;(<em>h</em><sub>2</sub>, <em>k</em><sub>2</sub>) \r\n",
    "= (<em>h</em><sub>1</sub>&middot;<em>h</em><sub>2</sub>, <em>k</em><sub>1</sub>&middot;<em>k</em><sub>2</sub>)\r\n",
    "= (<em>h</em><sub>2</sub>&middot;<em>h</em><sub>1</sub>, <em>k</em><sub>2</sub>&middot;<em>k</em><sub>1</sub>)\r\n",
    "= (<em>h</em><sub>2</sub>, <em>k</em><sub>2</sub>)&middot;(<em>h</em><sub>1</sub>, <em>k</em><sub>1</sub>). </p>\r\n",
    "So the two elements in <em>H</em> &times; <em>K</em> commute. Hence, <em>H</em> &times; <em>K</em> is abelian.<br><br>\r\n",
    "\r\n",
    "Now suppose that <em>H</em> &times; <em>K</em> is commutative. We then have\r\n",
    "<p style='text-align: center;'>(<em>h</em><sub>1</sub>&middot;<em>h</em><sub>2</sub>, <em>k</em><sub>1</sub>&middot;<em>k</em><sub>2</sub>)\r\n",
    "= (<em>h</em><sub>1</sub>, <em>k</em><sub>1</sub>)&middot;(<em>h</em><sub>2</sub>, <em>k</em><sub>2</sub>) \r\n",
    "= (<em>h</em><sub>2</sub>, <em>k</em><sub>2</sub>)&middot;(<em>h</em><sub>1</sub>, <em>k</em><sub>1</sub>)\r\n",
    "= (<em>h</em><sub>2</sub>&middot;<em>h</em><sub>1</sub>, <em>k</em><sub>2</sub>&middot;<em>k</em><sub>1</sub>).</p>\r\n",
    "Comparing components, we see that <em>h</em><sub>1</sub>&middot;<em>h</em><sub>2</sub> = \r\n",
    "<em>h</em><sub>2</sub>&middot;<em>h</em><sub>1</sub> and <em>k</em><sub>1</sub>&middot;<em>k</em><sub>2</sub> = \r\n",
    "<em>k</em><sub>2</sub>&middot;<em>k</em><sub>1</sub>.   Since this is true for all <em>h</em><sub>1</sub> and <em>h</em><sub>2</sub> in <em>H</em>, and all \r\n",
    "<em>k</em><sub>1</sub> and <em>k</em><sub>2</sub> in <em>K</em>, both <em>H</em> and <em>K</em> are abelian.<br><br>\r\n",
    "\r\n",
    "<a href=\"#prop61ret\">Return to text</a>\r\n",
    "\r\n",
    "<br><br><br><br><br><br><br><br><br><br><br><br><br><br><br><br><br><br><br><br><br><br><br><br><br><br><br><br><br><br><br><br><br><br><br><br><br><br><br><br><br><br>\r\n",
    "\r\n",
    "<a name=\"theor61\" id=\"theor61\"></a>\r\n",
    "\r\n",
    "Proof of Theorem 6.1:<br><br>\r\n",
    "\r\n",
    "First, let us show that every element in <em>H</em>&middot;<em>K</em> can be <em>uniquely</em> written in the form <em>h</em>&middot;<em>k</em>, where \r\n",
    "<em>h</em> &isin; <em>H</em> and <em>k</em> &isin; <em>K</em>. Suppose that \r\n",
    "<p style='text-align: center;'><em>h</em><sub>1</sub>&middot;<em>k</em><sub>1</sub> = <em>h</em><sub>2</sub>&middot;<em>k</em><sub>2</sub>.</p>\r\n",
    "Then <em>h</em><sub>2</sub><sup>-1</sup>&middot;<em>h</em><sub>1</sub> = <em>k</em><sub>2</sub>&middot;<em>k</em><sub>1</sub><sup>-1</sup>.  Since this element \r\n",
    "must be in both <em>H</em> and <em>K</em>, and the intersection of <em>H</em> and <em>K</em> is the identity element, we have that \r\n",
    "<p style='text-align: center;'><em>h</em><sub>2</sub><sup>-1</sup>&middot;<em>h</em><sub>1</sub> = <em>k</em><sub>2</sub>&middot;<em>k</em><sub>1</sub><sup>-1</sup> = \r\n",
    "<em>e</em>.</p>\r\n",
    "Thus, <em>h</em><sub>1</sub> = <em>h</em><sub>2</sub> and <em>k</em><sub>1</sub> = <em>k</em><sub>2</sub>.  Therefore, every element of <em>H</em>&middot;<em>K</em> can \r\n",
    "be written uniquely as <em>h</em>&middot;<em>k</em>, where <em>h</em> is in <em>H</em>, and <em>k</em> is in <em>K</em>.<br><br>\r\n",
    "\r\n",
    "Next, we need to show that <em>H</em>&middot;<em>K</em> is a group.  Since <em>h</em>&middot;<em>k</em> = <em>k</em>&middot;<em>h</em>  for all <em>h</em> &isin; <em>H</em>\r\n",
    "and <em>k</em> &isin; <em>K</em>, we have that <em>H</em>&middot;<em>K</em> = <em>K</em>&middot;<em>H</em>.  Thus, by Lemma 4.2, <em>H</em>&middot;<em>K</em> is a \r\n",
    "subgroup of <em>G</em>.<br><br>\r\n",
    "\r\n",
    "We can now define a mapping\r\n",
    "<p style='text-align: center;'><em>&#981;</em> : <em>H</em>&middot;<em>K</em> &rarr; <em>H</em> &times; <em>K</em></p>\r\n",
    "by <em>&#981;</em>(<em>x</em>) = (<em>h</em>, <em>k</em>), where <em>h</em> and <em>k</em> are the unique elements such that <em>h</em> &isin; <em>H</em>, \r\n",
    "<em>k</em> &isin; <em>K</em>, and <em>x</em> = <em>h</em>&middot;<em>k</em>. It is clear that <em>&#981;;</em> is one-to-one, since the element (<em>h</em>, <em>k</em>) \r\n",
    "can only have come from <em>h</em>&middot;<em>k</em>.  Also, <em>&#981;</em> is onto, for the element <em>h</em>&middot;<em>k</em> maps to (<em>h</em>, <em>k</em>). \r\n",
    "All that remains to show is that \r\n",
    "<em>&#981;</em>(<em>x</em>&middot;<em>y</em>) = <em>&#981;</em>(<em>x</em>)&middot;<em>&#981;</em>(<em>y</em>). \r\n",
    "Let <em>x</em> = <em>h</em><sub>1</sub>&middot;<em>k</em><sub>1</sub> and <em>y</em> = <em>h</em><sub>2</sub>&middot;<em>k</em><sub>2</sub>.  Then\r\n",
    "<p style='text-align: center;'><em>&#981;</em>(<em>x</em>&middot;<em>y</em>) = \r\n",
    "<em>&#981;</em>(<em>h</em><sub>1</sub>&middot;<em>k</em><sub>1</sub>&middot;<em>h</em><sub>2</sub>&middot;<em>k</em><sub>2</sub>) \r\n",
    "= <em>&#981;</em>(<em>h</em><sub>1</sub>&middot;<em>h</em><sub>2</sub>&middot;<em>k</em><sub>1</sub>&middot;<em>k</em><sub>2</sub>) \r\n",
    "= (<em>h</em><sub>1</sub>&middot;<em>h</em><sub>2</sub>, <em>k</em><sub>1</sub>&middot;<em>k</em><sub>2</sub>)\r\n",
    "= (<em>h</em><sub>1</sub>, <em>k</em><sub>1</sub>)&middot;(<em>h</em><sub>2</sub>, <em>k</em><sub>2</sub>)\r\n",
    "= <em>&#981;</em>(<em>x</em>)&middot;<em>&#981;</em>(<em>y</em>).</p>\r\n",
    "Thus, <em>&#981;</em> is an isomorphism, and so <em>H</em>&middot;<em>K</em> &asymp; <em>H</em> &times; <em>K</em>.<br><br>\r\n",
    " \r\n",
    "<a href=\"#theor61ret\">Return to text</a>\r\n",
    "\r\n",
    "<br><br><br><br><br><br><br><br><br><br><br><br><br><br><br><br><br><br><br><br><br><br><br><br><br><br><br><br><br><br><br><br><br><br><br><br><br><br><br><br><br><br> \r\n",
    "\r\n",
    "<a name=\"prop62\" id=\"prop62\"></a>\r\n",
    "\r\n",
    "Proof of Proposition 6.2:<br><br>\r\n",
    "\r\n",
    "Let <em>e</em><sub>1</sub> denote the identity element of <em>H</em>, and <em>e</em><sub>2</sub> denote the identity element of <em>K</em>. An element \r\n",
    "<em>x</em> = (<em>h</em>, <em>k</em>) in <em>H</em> &times; <em>K</em> solves the equation <em>x<sup>n</sup></em> = (<em>e</em><sub>1</sub>, <em>e</em><sub>2</sub>) \r\n",
    "if and only if\r\n",
    "<p style='text-align: center;'><em>h<sup>n</sup></em> = <em>e</em><sub>1</sub>&emsp;and&emsp;<em>k<sup>n</sup></em> = <em>e</em><sub>2</sub>.</p>\r\n",
    "Since there are <em>R<sub>n</sub></em>(<em>H</em>) solutions to the former, and <em>R<sub>n</sub></em>(<em>K</em>) solutions to the latter, \r\n",
    "there are <em>R<sub>n</sub></em>(<em>H</em>)&middot;<em>R<sub>n</sub></em>(<em>K</em>) ordered pairs (<em>h</em>, <em>k</em>) \r\n",
    "that solve both of these equations. Thus, there are <em>R<sub>n</sub></em>(<em>H</em>)&middot;<em>R<sub>n</sub></em>(<em>K</em>) elements \r\n",
    "of <em>H</em> &times; <em>K</em> for which \r\n",
    "<em>x<sup>n</sup></em> = (<em>e</em><sub>1</sub>, <em>e</em><sub>2</sub>).<br><br>\r\n",
    " \r\n",
    "<a href=\"#prop62ret\">Return to text</a>\r\n",
    " \r\n",
    "<br><br><br><br><br><br><br><br><br><br><br><br><br><br><br><br><br><br><br><br><br><br><br><br><br><br><br><br><br><br><br><br><br><br><br><br><br><br><br><br><br><br>\r\n",
    " \r\n",
    "<a name=\"cor61\" id=\"cor61\"></a>\r\n",
    "\r\n",
    "Proof of Corollary 6.1:<br><br> \r\n",
    " \r\n",
    "The first condition of the direct product theorem (6.1) is given, so we only need to show that the second condition holds. That is, we need to show that \r\n",
    "<em>h</em>&middot;<em>k</em> = <em>k</em>&middot;<em>h</em> for all <em>h</em> in <em>H</em>, and <em>k</em> in <em>K</em>. Let <em>h</em> &isin; <em>H</em> \r\n",
    "and <em>k</em> &isin; <em>K</em>.<br><br>\r\n",
    "\r\n",
    "Since <em>K</em> is a normal subgroup of <em>G</em>, <em>h</em>&middot;<em>k</em>&middot;<em>h</em><sup>-1</sup> is in <em>K</em>. Thus, \r\n",
    "<em>h</em>&middot;<em>k</em>&middot;<em>h</em><sup>-1</sup>&middot;<em>k</em><sup>-1</sup> is also in <em>K</em>.<br><br>\r\n",
    "\r\n",
    "But <em>H</em> is also a normal subgroup of <em>G</em>, so <em>k</em>&middot;<em>h</em><sup>-1</sup>&middot;<em>k</em><sup>-1</sup> is in <em>H</em>.  Hence,\r\n",
    "<em>h</em>&middot;<em>k</em>&middot;<em>h</em><sup>-1</sup>&middot;<em>k</em><sup>-1</sup> is also in <em>H</em>.<br><br>\r\n",
    "\r\n",
    "We now use the fact that the only element in both <em>H</em> and <em>K</em> is <em>e</em>.  Thus, \r\n",
    "<em>h</em>&middot;<em>k</em>&middot;<em>h</em><sup>-1</sup>&middot;<em>k</em><sup>-1</sup> = <em>e</em>, which implies \r\n",
    "<em>h</em>&middot;<em>k</em> = <em>k</em>&middot;<em>h</em>. <br><br>\r\n",
    "\r\n",
    "Therefore, the second condition of the direct product theorem (6.1) holds, and so by this \r\n",
    "theorem, <em>H</em>&middot;<em>K</em> &asymp; <em>H</em> &times; <em>K</em>.<br><br> \r\n",
    " \r\n",
    "<a href=\"#cor61ret\">Return to text</a>\r\n",
    " \r\n",
    "<br><br><br><br><br><br><br><br><br><br><br><br><br><br><br><br><br><br><br><br><br><br><br><br><br><br><br><br><br><br><br><br><br><br><br><br><br><br><br><br><br><br>\r\n",
    " \r\n",
    "<a name=\"lem61\" id=\"lem61\"></a>\r\n",
    "\r\n",
    "Proof of Lemma 6.1:<br><br>  \r\n",
    " \r\n",
    "To check that <em>H</em> and <em>K</em> are indeed subgroups simply observe that since <em>G</em> is commutative the functions \r\n",
    "<em>&#981;</em>(<em>x</em>) = <em>x<sup>m</sup></em> and <em>&fnof;</em>(<em>x</em>) = <em>x<sup>n</sup></em> are both homomorphisms of <em>G</em>. \r\n",
    "Then <em>H</em> and <em>K</em> are the kernels of the mappings <em>&#981;</em> and <em>&fnof;</em>.<br><br>\r\n",
    "\r\n",
    "To show that <em>H</em> and <em>K</em> have only the identity element in common, we consider an element <em>x</em> in the intersection.  By the Chinese remainder \r\n",
    "theorem (0.7), there exists a non-negative number <em>k</em> &lt; <em>m</em>&middot;<em>n</em> such that\r\n",
    "<p style='text-align: center;'><em>k</em> <strong>mod</strong> <em>m</em> = 1 &emsp;and&emsp; <em>k</em> <strong>mod</strong> <em>n</em> = 0.</p>\r\n",
    "Then <em>k</em> = 1 + <em>m b</em> for some number <em>b</em>.  Thus,\r\n",
    "<p style='text-align: center;'><em>x<sup>k</sup></em> = <em>x</em><sup>(1+<em>m b</em>)</sup> = <em>x</em>&middot;(<em>x<sup>m</sup></em>)<sup><em>b</em></sup> \r\n",
    "= <em>x</em>&middot;<em>e<sup>b</sup></em> = <em>x</em></p>\r\n",
    "since <em>x</em> is in <em>H</em>. Yet <em>k</em> = <em>n c</em> for some number <em>c</em>, so\r\n",
    "<p style='text-align: center;'><em>x<sup>k</sup></em> = <em>x<sup>n c</sup></em> = (<em>x<sup>n</sup></em>)<sup><em>c</em></sup> = <em>e<sup>c</sup></em> = <em>e</em></p>\r\n",
    "since <em>x</em> is in <em>K</em>. Thus, <em>x</em> = <em>e</em>, and so <em>H</em> &cap; <em>K</em> = {<em>e</em>}. Since <em>G</em> is abelian, the direct product \r\n",
    "theorem (6.1) proves that\r\n",
    "<p style='text-align: center;'><em>H</em>&middot;<em>K</em> &asymp; <em>H</em> &times; <em>K</em>.</p>\r\n",
    "All that is left to prove is that <em>G</em> = <em>H</em>&middot;<em>K</em>. Let <em>g</em> be an element in <em>G</em>. Since <em>m</em> and <em>n</em> are coprime, \r\n",
    "by the greatest common divisor theorem (0.4) there exists <em>a</em> and <em>b</em> such that\r\n",
    "<p style='text-align: center;'><em>a n</em> + <em>b m</em> = gcd(<em>m</em>, <em>n</em>) = 1.</p>\r\n",
    "Then \r\n",
    "<p style='text-align: center;'><em>g</em> = <em>g</em><sup>1</sup> = <em>g</em><sup>(<em>a n</em>+<em>b m</em>)</sup> = \r\n",
    "<em>g<sup>a n</sup></em>&middot;<em>g<sup>b m</sup></em>.</p>\r\n",
    "Now, (<em>g<sup>a n</sup></em>)<sup><em>m</em></sup> = (<em>g<sup>a</sup></em>)<sup><em>n m</em></sup> = <em>e</em>, so <em>g<sup>a n</sup></em> is in <em>H</em>.\r\n",
    "Likewise, <em>g<sup>b m</sup></em> is in <em>K</em>. Thus, every element of <em>G</em> is in <em>H</em>&middot;<em>K</em>, and so\r\n",
    "<p style='text-align: center;'><em>G</em> &asymp; <em>H</em> &times; <em>K</em>.</p>\r\n",
    " \r\n",
    "<a href=\"#lem61ret\">Return to text</a> \r\n",
    "\r\n",
    "<br><br><br><br><br><br><br><br><br><br><br><br><br><br><br><br><br><br><br><br><br><br><br><br><br><br><br><br><br><br><br><br><br><br><br><br><br><br><br><br><br><br>\r\n",
    " \r\n",
    "<a name=\"lem62\" id=\"lem62\"></a>\r\n",
    "\r\n",
    "Proof of Lemma 6.2:<br><br>   \r\n",
    " \r\n",
    "We will proceed using induction on the order of <em>G</em>.  If |<em>G</em>| is a prime number, then <em>p</em> must be |<em>G</em>|, \r\n",
    "and <em>G</em> must be isomorphic to <em>Z<sub>p</sub></em>. So there \r\n",
    "would be an element of order <em>p</em> in <em>G</em>.<br><br>\r\n",
    "\r\n",
    "Suppose that the assumption is true for all groups of order less than |<em>G</em>|. If <em>G</em> does not have any proper subgroups, then <em>G</em> would be a cyclic \r\n",
    "group of prime order (which we have already covered.)  Thus, we may assume that <em>G</em> has a subgroup <em>N</em> that is neither <em>G</em> nor {<em>e</em>}.<br><br>\r\n",
    "\r\n",
    "Since <em>G</em> is abelian all subgroups are normal. Thus we could consider the quotient group <em>G</em>/<em>N</em>.  Since |<em>G</em>| = \r\n",
    "|<em>N</em>| &middot; |<em>G</em>/<em>N</em>|, <em>p</em> must divide either |<em>N</em>| or |<em>G</em>/<em>N</em>|.  If <em>p</em> divides <em>N</em>, then because \r\n",
    "<em>N</em> is a smaller group than <em>G</em>, by induction <em>N</em> must have an element of order <em>p</em>, which would be in <em>G</em>.<br><br>\r\n",
    "\r\n",
    "If <em>p</em> does not divide |<em>N</em>| it must divide |<em>G</em>/<em>N</em>|. Since <em>G</em>/<em>N</em> is a smaller group than <em>G</em>, by induction \r\n",
    "<em>G</em>/<em>N</em> must have an element of order <em>p</em>. This element can be written <em>a N</em> for some <em>a</em> in <em>G</em>.<br><br>\r\n",
    "\r\n",
    "Since <em>a N</em> is of order <em>p</em>, <em>a</em> cannot be in <em>N</em>, yet <em>a<sup>p</sup></em> must be in <em>N</em>. If |<em>N</em>| = <em>q</em>, \r\n",
    "we would have by Corollary 3.2 that (<em>a<sup>p</sup></em>)<sup><em>q</em></sup> = <em>e</em>.<br><br>\r\n",
    "\r\n",
    "If <em>b</em> = <em>a<sup>q</sup></em> is not the identity, then <em>b<sup>p</sup></em> = <em>e</em>, and so <em>b</em> would be the required element. \r\n",
    "But if <em>b</em> = <em>e</em>, then (<em>a N</em>)<sup><em>q</em></sup> = <em>N</em>. But <em>a N</em> was of order <em>p</em>, and \r\n",
    "so <em>p</em> \r\n",
    "must divide <em>q</em>. But we assumed that <em>p</em> did not divide <em>q</em> = |<em>N</em>|. Hence, <em>b</em> is not the identity, and so <em>G</em> has an element \r\n",
    "of order <em>p</em>. <br><br>\r\n",
    " \r\n",
    "<a href=\"#lem62ret\">Return to text</a>  \r\n",
    "\r\n",
    "<br><br><br><br><br><br><br><br><br><br><br><br><br><br><br><br><br><br><br><br><br><br><br><br><br><br><br><br><br><br><br><br><br><br><br><br><br><br><br><br><br><br>\r\n",
    " \r\n",
    "<a name=\"lem63\" id=\"lem63\"></a>\r\n",
    "\r\n",
    "Proof of Lemma 6.3:<br><br>   \r\n",
    " \r\n",
    "Since <em>p<sup>n</sup></em> and <em>k</em> are coprime, we can use Lemma 6.1 to form the subgroups\r\n",
    "<p style='text-align: center;'><em>P</em> = { <em>x</em> &isin; <em>G</em> | <em>x</em><sup>(<em>p&#8319;</em>)</sup> = <em>e</em> }</p>\r\n",
    "and \r\n",
    "<p style='text-align: center;'><em>K</em> = { <em>x</em> &isin; <em>G</em> | <em>x<sup>k</sup></em> = <em>e</em> }.</p>\r\n",
    "By Lemma 6.1 these two subgroups have only the identity in common, and <em>G</em> &asymp; <em>P</em> &times; <em>K</em>. If <em>p</em> divided |<em>K</em>|, then by \r\n",
    "Lemma 6.2, <em>K</em> would contain an element of order <em>p</em>. But this element would then be in <em>P</em> as well, which contradicts the fact that only the \r\n",
    "identity element is in common between <em>P</em> and <em>K</em>. So <em>p</em> does not divide the order of <em>K</em>.<br><br>\r\n",
    "\r\n",
    "Also note that the order of every element of <em>P</em> is a power of <em>p</em>. Thus, Lemma 6.2 tells us that no other prime other than <em>p</em> \r\n",
    "divides |<em>P</em>|. <br><br>\r\n",
    "\r\n",
    "Finally, note that |<em>G</em>| = <em>p<sup>n</sup></em>&middot;<em>k</em> = |<em>P</em>|&middot;|<em>K</em>|.  Since <em>p</em> does not divide |<em>K</em>|, we have \r\n",
    "that <em>p<sup>n</sup></em> must divide |<em>P</em>|. But no other primes can divide |<em>P</em>|, and so |<em>P</em>| = <em>p<sup>n</sup></em>.  \r\n",
    "Hence, |<em>K</em>| = <em>k</em>.<br><br>\r\n",
    " \r\n",
    "<a href=\"#lem63ret\">Return to text</a>\r\n",
    "\r\n",
    "<br><br><br><br><br><br><br><br><br><br><br><br><br><br><br><br><br><br><br><br><br><br><br><br><br><br><br><br><br><br><br><br><br><br><br><br><br><br><br><br><br><br>  \r\n",
    " \r\n",
    "<a name=\"lem64\" id=\"lem64\"></a>\r\n",
    "\r\n",
    "Proof of Lemma 6.4:<br><br> \r\n",
    " \r\n",
    "We will use induction on <em>n</em>. If <em>n</em> = 1, then <em>P</em> is a cyclic group of order <em>p</em>, and hence is generated by non-identity element <em>x</em> \r\n",
    "in <em>P</em>.  We then have <em>X</em> = <em>P</em>, so we can let <em>T</em> = {<em>e</em>}, and hence <em>P</em> &asymp; <em>X</em> &times; <em>T</em>.<br><br>\r\n",
    "\r\n",
    "Now suppose that the assertion is true for all powers of <em>p</em> less than <em>n</em>.  Notice that the order of every element of <em>P</em> is a power \r\n",
    "of <em>p</em>. Thus, if we let <em>x</em> be an element with the <em>largest</em> order, say <em>m</em>, then the order of all elements in <em>P</em> must divide <em>m</em>. \r\n",
    "Hence, <em>g<sup>m</sup></em> = <em>e</em> for all elements <em>g</em> in <em>P</em>.<br><br>\r\n",
    "\r\n",
    "We now let <em>X</em> be the subgroup generated by <em>x</em>. If <em>X</em> = <em>P</em>, then we can again let <em>T</em> = {<em>e</em>} and we are done. \r\n",
    "If <em>X</em> is not <em>P</em>, we let <em>y</em> be an element of <em>P</em> not in <em>X</em> which has the <em>smallest</em> possible order. \r\n",
    "Then since the order of <em>y<sup>p</sup></em> is less than the order of <em>y</em>, <em>y<sup>p</sup></em> must be in <em>X</em>. This means that \r\n",
    "<em>y<sup>p</sup></em> = <em>x<sup>q</sup></em> for some 0 &le; <em>q</em> < <em>m</em>.<br><br>\r\n",
    "\r\n",
    "Since <em>y</em> is in <em>P</em>, <em>y<sup>m</sup></em> = <em>e</em>.  But\r\n",
    "<p style='text-align: center;'><em>e</em> = <em>y<sup>m</sup></em> = (<em>y<sup>p</sup></em>)<sup>(<em>m</em>/<em>p</em>)</sup> = \r\n",
    "(<em>x<sup>q</sup></em>)<sup>(<em>m</em>/<em>p</em>)</sup> = <em>x</em><sup>(<em>m q</em>/<em>p</em>)</sup></p>\r\n",
    "Because <em>x</em> is of order <em>m</em>, this can be the identity only if <em>m q</em>/<em>p</em> is a multiple of <em>m</em>.  Hence, <em>q</em> is a multiple of \r\n",
    "<em>p</em>. <br><br>\r\n",
    "\r\n",
    "If we let <em>k</em> = <em>x</em><sup>&minus;(<em>q</em>/<em>p</em>)</sup>&middot;<em>y</em> then <em>k</em> is not in <em>X</em> because <em>y</em> isn't, and \r\n",
    "<p style='text-align: center;'><em>k<sup>p</sup></em> = (<em>x</em><sup>&minus;(<em>q</em>/<em>p</em>)</sup>)<sup><em>p</em></sup>&middot;<em>y<sup>p</sup></em> = \r\n",
    "<em>x</em><sup>&minus;<em>q</em></sup>&middot;<em>y<sup>p</sup></em> = <em>x</em><sup>&minus;<em>q</em></sup>&middot;<em>x<sup>q</sup></em> = <em>e</em>.</p>\r\n",
    "Therefore, we have found an element <em>k</em> of order <em>p</em> that is not in <em>X</em>.  If we let <em>K</em> be the group generated by the element <em>k</em>, \r\n",
    "then <em>X</em> &cap; <em>K</em> = {<em>e</em>}.<br><br>\r\n",
    "\r\n",
    "Consider the quotient group <em>P</em>/<em>K</em>.  What is the order of <em>x K</em> in <em>P</em>/<em>K</em>? We see that\r\n",
    "<p style='text-align: center;'>(<em>x K</em>)<sup><em>n</em></sup> = <em>K</em>&ensp;&#10234;&ensp;<em>x<sup>n</sup></em> &isin; \r\n",
    "<em>K</em>&ensp;&#10234;&ensp;<em>x<sup>n</sup></em> &isin; <em>X</em> &cap; <em>K</em>&ensp;&#10234;&ensp;<em>x<sup>n</sup></em> = <em>e</em>.</p>\r\n",
    "Therefore, the order of <em>x K</em> is the same as the order of <em>x</em>, which is <em>m</em>.  Also note that no element of <em>P</em>/<em>K</em> can have an element \r\n",
    "of higher order since <em>g<sup>n</sup></em> = <em>e</em> for all elements <em>g</em> in <em>P</em>.<br><br>\r\n",
    "\r\n",
    "Now we use the induction.  Since the order of <em>P</em>/<em>K</em> is less than the order of <em>P</em>, and <em>x K</em> is an element of maximal order, we have \r\n",
    "by induction that\r\n",
    "<p style='text-align: center;'><em>P</em>/<em>K</em> &asymp; <em>Y</em> &times; <em>B</em>,</p>\r\n",
    "where <em>Y</em> is the subgroup of <em>P</em>/<em>K</em> generated by <em>x K</em>, and <em>B</em> is a subgroup of <em>P</em>/<em>K</em> such that only the \r\n",
    "identity element <em>K</em> is in the intersection of <em>Y</em> and <em>B</em>.<br><br>\r\n",
    "\r\n",
    "Let <em>&#981;</em> be the canonical homomorphism from <em>P</em> to <em>P</em>/<em>K</em> given by <em>&#981;</em>(<em>g</em>) = <em>g K</em>.  Let \r\n",
    "<em>T</em> = <em>&#981;</em><sup>-1</sup>(<em>B</em>).  Then <em>T</em> is a subgroup of <em>P</em>. <br><br>\r\n",
    "\r\n",
    "If <em>g</em> is in both <em>X</em> and <em>T</em>, then <em>&#981;</em>(<em>g</em>) is in both <em>Y</em> and <em>B</em>. Since the intersection of <em>Y</em> and \r\n",
    "<em>B</em> is the identity element, we have <em>&#981;</em>(<em>g</em>) = <em>g K</em> = <em>K</em>.  Thus, <em>g</em> is in the subgroup <em>K</em>. But \r\n",
    "<em>X</em> &cap; <em>K</em> = {<em>e</em>}, so we have \r\n",
    "<p style='text-align: center;'><em>X</em> &cap; <em>T</em> = {<em>e</em>}.</p>\r\n",
    "Thus, by the direct product theorem (6.1), we find that <em>X</em>&middot;<em>T</em> &asymp; <em>X</em> &times; <em>T</em>.<br><br>\r\n",
    "\r\n",
    "We finally need to show that <em>P</em> = <em>X</em>&middot;<em>T</em>.  Let <em>u</em> be an element in <em>P</em>, and since \r\n",
    "<em>P</em>/<em>K</em> &asymp; <em>Y</em> &times; <em>B</em>, we can write <em>&#981;</em>(<em>u</em>) as (<em>x<sup>c</sup></em>&middot;<em>K</em>)&middot;(<em>k K</em>) \r\n",
    "for some number <em>c</em>, and some <em>k K</em> in <em>B</em>.  Then\r\n",
    "<p style='text-align: center;'><em>u</em> &isin; <em>x<sup>c</sup></em>&middot;<em>k</em>&middot;<em>K</em> &sube; <em>X</em>&middot;<em>T</em>.</p>\r\n",
    "Thus, <em>P</em> = <em>X</em>&middot;<em>T</em>, and so <em>P</em> &asymp; <em>X</em> &times; <em>T</em>.<br><br>\r\n",
    " \r\n",
    "<a href=\"#lem64ret\">Return to text</a>   \r\n",
    "\r\n",
    "<br><br><br><br><br><br><br><br><br><br><br><br><br><br><br><br><br><br><br><br><br><br><br><br><br><br><br><br><br><br><br><br><br><br><br><br><br><br><br><br><br><br>\r\n",
    " \r\n",
    "<a name=\"lem65\" id=\"lem65\"></a>\r\n",
    "\r\n",
    "Proof of Lemma 6.5:<br><br> \r\n",
    " \r\n",
    "Since <em>G</em> is expressed as a direct product we can use Proposition 6.2 and find <em>R<sub>q</sub></em>(<em>H</em>) for each factor <em>H</em> in \r\n",
    "the product, and multiply these numbers together. Since each factor is cyclic, we can use Corollary 2.1. For all of the factors \r\n",
    "<em>Z&thinsp;&#8342;</em><sub>&#8321;</sub>, <em>Z&thinsp;&#8342;</em><sub>&#8322;</sub>, &hellip; <em>Z&thinsp;&#8342;<sub>&#8344;</sub></em>, since gcd(<em>k<sub>i</sub></em>, <em>q</em>) = gcd(<em>k<sub>i</sub></em>, <em>p<sup>x</sup></em>) = 1, <em>R<sub>q</sub></em>(<em>H</em>) would be 1. On the other hand, <em>R<sub>q</sub></em>(<em>Z</em><sub>(<em>p</em></sub><em>&#8341;</em><sub>&#8305;)</sub>) is \r\n",
    "<p style='text-align: center;'>gcd(<em>p<sup>h</sup>&#8305;</em>, <em>q</em>) = gcd(<em>p<sup>h</sup>&#8305;</em>, <em>p<sup>x</sup></em>) = \r\n",
    "<em>p</em><sup>Min(<em>h</em></sup><em>&#8305;</em><sup>, <em>x</em>)</sup>.</p>\r\n",
    "Thus, <em>R<sub>q</sub></em>(<em>G</em>) is the product of the above for factors 1 through <em>n</em> of \r\n",
    "<em>G</em>, which gives us a grand total of\r\n",
    "<br><br>\r\n",
    "<table align=\"center\" border=\"0\" cellspacing=\"0\" cellpadding=\"0\">\r\n",
    "  <tr>\r\n",
    "     <td></td>\r\n",
    "     <td>&#9115;</td>\r\n",
    "     <td rowspan=\"2\"><font face=\"Times New Roman, Times, serif\" size=\"+2\">&sum;</font></td>\r\n",
    "     <td valign=\"top\"><em>n</em></td>\r\n",
    "     <td rowspan=\"2\" valign=\"middle\">&thinsp;Min(<em>h<sub>i</sub></em>, <em>x</em>)</td>\r\n",
    "     <td>&#9118;</td>\r\n",
    "  </tr>\r\n",
    "  <tr>\r\n",
    "     <td></td>\r\n",
    "     <td>&#9117;</td>\r\n",
    "     <td valign=\"bottom\"><em>i</em>=1</td>\r\n",
    "     <td>&#9120;</td>\r\n",
    "  </tr>\r\n",
    "  <tr>\r\n",
    "     <td><em>p</em></td>\r\n",
    "     <td></td>\r\n",
    "     <td></td>\r\n",
    "     <td></td>\r\n",
    "     <td></td>\r\n",
    "     <td>&ensp;.</td>\r\n",
    "  </tr>         \r\n",
    "</table> \r\n",
    "<a href=\"#lem65ret\">Return to text</a>  \r\n",
    " \r\n",
    "<br><br><br><br><br><br><br><br><br><br><br><br><br><br><br><br><br><br><br><br><br><br><br><br><br><br><br><br><br><br><br><br><br><br><br><br><br><br><br><br><br><br>\r\n",
    " \r\n",
    "<a name=\"lem66\" id=\"lem66\"></a>\r\n",
    "\r\n",
    "Proof of Lemma 6.6:<br><br>  \r\n",
    " \r\n",
    "Let us begin by observing the value of the expression\r\n",
    "<p style='text-align: center;'>2 Min(<em>h<sub>i</sub></em>, <em>x</em>) &minus; Min(<em>h<sub>i</sub></em>, <em>x</em> &minus; 1) &minus; \r\n",
    "Min(<em>h<sub>i</sub></em>, <em>x</em> + 1).</p>\r\n",
    "When <em>h<sub>i</sub></em> < <em>x</em>, then Min(<em>h<sub>i</sub></em>, <em>x</em>) =  Min(<em>h<sub>i</sub></em>, <em>x</em>&minus;1) = \r\n",
    "Min(<em>h<sub>i</sub></em>, <em>x</em>+1) = <em>h<sub>i</sub></em>, and so the above evaluates to 0. On the other hand, if <em>h<sub>i</sub></em> > <em>x</em>, then the \r\n",
    "above expression simplifies to \r\n",
    "<p style='text-align: center;'>2 <em>x</em> &minus; (<em>x</em> &minus; 1) &minus; (<em>x</em> + 1) = 0.</p>\r\n",
    "However, if <em>h<sub>i</sub></em> = <em>x</em>, then Min(<em>h<sub>i</sub></em>, <em>x</em>) = <em>x</em>, \r\n",
    "Min(<em>h<sub>i</sub></em>, <em>x</em> &minus; 1) = <em>x</em> &minus; 1, and Min(<em>h<sub>i</sub></em>, <em>x</em> + 1) = <em>x</em>.  Hence, we have \r\n",
    "<p style='text-align: center;'>2 Min(<em>h<sub>i</sub></em>, <em>x</em>) &minus; Min(<em>h<sub>i</sub></em>, <em>x</em> &minus; 1) &minus; \r\n",
    "Min(<em>h<sub>i</sub></em>, <em>x</em> + 1) = 2 <em>x</em> &minus; (<em>x</em> &minus; 1) &minus; <em>x</em> = 1.</p>\r\n",
    "Thus, we see that\r\n",
    "<table align=\"center\" border=\"0\" cellspacing=\"0\" cellpadding=\"0\">\r\n",
    "  <tr>\r\n",
    "    <td rowspan = 3 align=\"left\">2 Min(<em>h<sub>i</sub></em>, <em>x</em>) &minus; Min(<em>h<sub>i</sub></em>, <em>x</em> &minus; 1) &minus; Min(<em>h<sub>i</sub></em>, <em>x</em> + 1) =&ensp;</td>\r\n",
    "    <td align=\"right\" valign=\"bottom\">&#9127;</td>\r\n",
    "    <td align=\"left\">&ensp;1&emsp;if <em>h<sub>i</sub></em> = <em>x</em>,</td>\r\n",
    "  </tr>\r\n",
    "  <tr>\r\n",
    "    <td align=\"right\">&#9128;</td>\r\n",
    "    <td></td>\r\n",
    "  </tr>\r\n",
    "  <tr>\r\n",
    "    <td align=\"right\" valign=\"top\">&#9129;</td>\r\n",
    "    <td align=\"left\" valign=\"top\">&ensp;0&emsp;if <em>h<sub>i</sub></em> &ne; <em>x</em>.</td>\r\n",
    "  </tr>\r\n",
    "</table>\r\n",
    "<br>\r\n",
    "Thus, if we sum the above expression for <em>i</em> going from 1 to <em>n</em>, we will count the number of terms <em>h<sub>i</sub></em> that are equal to \r\n",
    "<em>x</em>.  Hence this count will be\r\n",
    "<br><br>\r\n",
    "<table align=\"center\" border=\"0\" cellspacing=\"0\" cellpadding=\"0\">\r\n",
    "  <tr>\r\n",
    "    <td align=\"center\" valign=\"top\"><em>n</em></td>\r\n",
    "    <td></td>\r\n",
    "  </tr>\r\n",
    "  <tr>\r\n",
    "    <td align=\"center\" valign=\"bottom\"><font face=\"Times New Roman, Times, serif\" size=\"+4\">&sum;</font></td>\r\n",
    "    <td align=\"left\">2 Min(<em>h<sub>i</sub></em>, <em>x</em>) &minus; Min(<em>h<sub>i</sub></em>, <em>x</em> &minus; 1) &minus; \r\n",
    "    Min(<em>h<sub>i</sub></em>, <em>x</em> + 1) = 2 <em>&fnof;</em>(<em>x</em>) &minus; <em>&fnof;</em>(<em>x</em> &minus; 1) &minus; <em>&fnof;</em>(<em>x</em> + 1).</td>\r\n",
    "  </tr>\r\n",
    "  <tr>\r\n",
    "    <td align=\"center\" valign=\"top\"><em>i</em> = 1</td>\r\n",
    "    <td></td>\r\n",
    "  </tr>\r\n",
    "</table>\r\n",
    "\r\n",
    "<a href=\"#lem66ret\">Return to text</a> \r\n",
    "\r\n",
    "<br><br><br><br><br><br><br><br><br><br><br><br><br><br><br><br><br><br><br><br><br><br><br><br><br><br><br><br><br><br><br><br><br><br><br><br><br><br><br><br><br><br> \r\n",
    " \r\n",
    "<a name=\"theor62\" id=\"theor62\"></a>\r\n",
    "\r\n",
    "Proof of Theorem 6.2:<br><br>  \r\n",
    " \r\n",
    "We will proceed on induction on the order of the group. If the order of the group is 2, then the theorem is true since the group would be isomorphic \r\n",
    "to <em>Z</em><sub>2</sub>. Let <em>G</em> be a finite abelian group and suppose the theorem is true for all groups of order less than <em>G</em>. Let <em>p</em> be a \r\n",
    "prime that divides the order of <em>G</em>. By Lemma 6.3, <em>G</em> &asymp; <em>P</em> &times; <em>K</em>, where <em>P</em> is the subgroup of <em>G</em> containing \r\n",
    "the elements of order <em>p<sup>m</sup></em> for some <em>m</em>.<br>\r\n",
    "<br>\r\n",
    " \r\n",
    "Furthermore, if <em>x</em> is an element of maximal order in <em>P</em>, and <em>X</em> is the group generated by <em>x</em>, then by Lemma 6.4, \r\n",
    "<em>G</em> &asymp; <em>X</em> &times; <em>T</em> &times; <em>K</em>. Since <em>X</em> will be a nontrivial cyclic group, the orders of <em>T</em> and <em>K</em> will be \r\n",
    "less than |<em>G</em>|. Thus, by induction, <em>T</em> and <em>K</em> can be written as a direct product of cyclic groups whose orders are powers of primes.  Since \r\n",
    "<em>X</em> is also a cyclic group of order <em>p<sup>r</sup></em> for some <em>r</em>, <em>G</em> can be written as a direct product of cyclic groups whose orders are \r\n",
    "powers of \r\n",
    "primes.<br><br>\r\n",
    "\r\n",
    "We next have to show that this decomposition is <em>unique</em>.  We will do this by showing that the number of times \r\n",
    "<em>Z</em><sub>(<em>p</em></sub><em>&#8339;</em><sub>)</sub> appears in the decomposition, where <em>p</em> is a prime, is completely determined by the order of the \r\n",
    "elements in the group <em>G</em>. From Lemma 6.5,\r\n",
    "<p style='text-align: center;'><em>R<sub>p</sub>&#8339;</em>(<em>G</em>) = <em>p</em><sup>(&sum; Min(<em>h</em></sup>&#8305;<sup>, <em>x</em>) )</sup></p>\r\n",
    "where the sum is taken over all <em>i</em> such that <em>p<sub>i</sub></em> = <em>p</em>. Thus, we see that<br><br>\r\n",
    "<table align=\"center\" border=\"0\" cellspacing=\"0\" cellpadding=\"0\">\r\n",
    "  <tr>\r\n",
    "    <td align=\"right\"><em>&fnof;<sub>p</sub></em>(<em>x</em>) = </td>\r\n",
    "    <td align=\"center\" valign=\"bottom\"><font face=\"Times New Roman, Times, serif\" size=\"+4\">&sum;</font></td>\r\n",
    "    <td align=\"left\"> Min(<em>h<sub>i</sub></em>, <em>x</em>) = \r\n",
    "log<sub><em>p</em></sub>(<em>R<sub>p</sub>&#8339;</em>(<em>G</em>))</td>\r\n",
    "  </tr>\r\n",
    "  <tr>\r\n",
    "    <td></td>\r\n",
    "    <td align=\"center\" valign=\"top\"><em>p<sub>i</sub></em> = <em>p</em></td>\r\n",
    "    <td></td>\r\n",
    "  </tr>\r\n",
    "</table>\r\n",
    "<br>\r\n",
    "will be completely determined by the orders of the elements of <em>G</em>. But then by Lemma 6.6 the number of times that \r\n",
    "<em>Z</em><sub>(<em>p</em></sub><em>&#8339;</em><sub>)</sub> appears in the decomposition is given by\r\n",
    "<p style='text-align: center;'>2 <em>&fnof;<sub>p</sub></em>(<em>x</em>) &minus; <em>&fnof;<sub>p</sub></em>(<em>x</em> &minus; 1) &minus; \r\n",
    "<em>&fnof;<sub>p</sub></em>(<em>x</em> + 1).</p>\r\n",
    "Hence, the decomposition of <em>G</em> as a direct product of cyclic groups of the form <em>Z</em><sub>(<em>p</em></sub><em>&#8339;</em><sub>)</sub> is unique.<br><br> \r\n",
    " \r\n",
    "<a href=\"#theor62ret\">Return to text</a> \r\n",
    " \r\n",
    "<br><br><br><br><br><br><br><br><br><br><br><br><br><br><br><br><br><br><br><br><br><br><br><br><br><br><br><br><br><br><br><br><br><br><br><br><br><br><br><br><br><br>\r\n",
    " \r\n",
    "<a name=\"cor62\" id=\"cor62\"></a>\r\n",
    "\r\n",
    "Proof of Corollary 6.2:<br><br>   \r\n",
    " \r\n",
    "By the fundamental theorem of abelian groups (6.2), every abelian group of order <em>p<sup>m</sup></em> must \r\n",
    "be isomorphic to\r\n",
    "<p style='text-align: center;'><em>Z</em><sub>(<em>p</em></sub><em>&#8341;</em><sub>&sup1;)</sub> &times; \r\n",
    "<em>Z</em><sub>(<em>p</em></sub><em>&#8341;</em><sub>&sup2;)</sub>  &times; <em>Z</em><sub>(<em>p</em></sub><em>&#8341;</em><sub>&sup3;)</sub> &times; &#8943; &times; \r\n",
    "<em>Z</em><sub>(<em>p</em></sub><em>&#8341;</em><sub><em>&#8319;</em>&thinsp;)</sub></p>\r\n",
    "Also,\r\n",
    "<p style='text-align: center;'><em>p<sup>h</sup></em>&sup1;&middot;<em>p<sup>h</sup></em>&sup2;&middot;<em>p<sup>h</sup></em>&sup3; &#8943; \r\n",
    "<em>p<sup>h</sup>&#8319;</em> = <em>p<sup>m</sup></em></p>\r\n",
    "Hence <em>h</em><sub>1</sub> + <em>h</em><sub>2</sub> + <em>h</em><sub>3</sub> + &#8943; + <em>h<sub>n</sub></em> = <em>m</em>. Furthermore, the decomposition of the \r\n",
    "abelian group is unique up to rearrangement of the factors. Thus, there is a one-to-one correspondence between non-isomorphic abelian groups of \r\n",
    "order <em>p<sup>m</sup></em> and ways <em>m</em> can be written as a sum of positive integers without regard to order.<br><br> \r\n",
    " \r\n",
    "<a href=\"#cor62ret\">Return to text</a> \r\n",
    "\r\n",
    "<br><br><br><br><br><br><br><br><br><br><br><br><br><br><br><br><br><br><br><br><br><br><br><br><br><br><br><br><br><br><br><br><br><br><br><br><br><br><br><br><br><br> \r\n",
    " \r\n",
    "<a name=\"cor63\" id=\"cor63\"></a>\r\n",
    "\r\n",
    "Proof of Corollary 6.3:<br><br>\r\n",
    " \r\n",
    "We know from the fundamental theorem of abelian groups (6.2) that each such group is isomorphic to a direct product of cyclic groups whose order is a power of a prime. \r\n",
    "If we collect all factors involving the same primes together, we find that such a group is isomorphic to a direct product of a series of groups of orders\r\n",
    "<p style='text-align: center;'><em>p</em><sub>1</sub><sup><em>h</em></sup>&sup1;, <em>p</em><sub>2</sub><sup><em>h</em></sup>&sup2;, \r\n",
    "<em>p</em><sub>3</sub><sup><em>h</em></sup>&sup3;, &hellip;, and <em>p<sub>n</sub><sup>h</sup>&#8319;</em>.</p>\r\n",
    "We know from Corollary 6.2 that there are exactly <em>P</em>(<em>x</em>) non-isomorphic abelian groups of order <em>p<sup>x</sup></em>. Thus, there are \r\n",
    "<em>P</em>(<em>h<sub>i</sub></em>) possible groups for the <em>i</em><sup>th</sup> factor in this decomposition.  Therefore, there are\r\n",
    "<p style='text-align: center;'><em>P</em>(<em>h</em><sub>1</sub>)&middot;<em>P</em>(<em>h</em><sub>2</sub>)&middot;<em>P</em>(<em>h</em><sub>3</sub>) &#8943; \r\n",
    "<em>P</em>(<em>h<sub>n</sub></em>)</p>\r\n",
    "possible ways of forming a product of groups with orders <em>p</em><sub>1</sub><sup><em>h</em></sup>&sup1;, <em>p</em><sub>2</sub><sup><em>h</em></sup>&sup2;, \r\n",
    "<em>p</em><sub>3</sub><sup><em>h</em></sup>&sup3;, &hellip;, and <em>p<sub>n</sub><sup>h</sup>&#8319;</em>.<br><br>\r\n",
    "\r\n",
    "Since the fundamental theorem of abelian groups (6.2) also states that the decomposition is unique up to the rearrangement of the factors, every group thus formed \r\n",
    "is isomorphically different. So we have exactly <em>P</em>(<em>h</em><sub>1</sub>)&middot;<em>P</em>(<em>h</em><sub>2</sub>)&middot;<em>P</em>(<em>h</em><sub>3</sub>) \r\n",
    "&#8943; <em>P</em>(<em>h<sub>n</sub></em>) non-isomorphic abelian groups of order <em>m</em>.<br><br> \r\n",
    " \r\n",
    "<a href=\"#cor63ret\">Return to text</a> \r\n",
    "\r\n",
    "<br><br><br><br><br><br><br><br><br><br><br><br><br><br><br><br><br><br><br><br><br><br><br><br><br><br><br><br><br><br><br><br><br><br><br><br><br><br><br><br><br><br>\r\n",
    " \r\n",
    "<a name=\"prop63\" id=\"prop63\"></a>\r\n",
    "\r\n",
    "Proof of Proposition 6.3:<br><br>\r\n",
    "\r\n",
    "The mapping <em>i</em>(<em>x</em>) = <em>x</em> for all <em>x</em> in <em>G</em> is obviously an automorphism on <em>G</em>, so the set of all automorphisms on <em>G</em> \r\n",
    "is non-empty.  Also, each automorphism is a permutation on the elements of <em>G</em>.  Suppose <em>&#981;</em> and <em>&fnof;</em> are two automorphisms on <em>G</em>. \r\n",
    "Then <em>&#981;</em>(<em>&fnof;</em>(<em>x</em>)) is a one-to-one and onto mapping from <em>G</em> to <em>G</em>. <br><br>\r\n",
    "\r\n",
    "Furthermore, \r\n",
    "<p style='text-align: center;'><em>&#981;</em>(<em>&fnof;</em>(<em>x</em>&middot;<em>y</em>)) = \r\n",
    "<em>&#981;</em>(<em>&fnof;</em>(<em>x</em>)&middot;<em>&fnof;</em>(<em>y</em>)) = \r\n",
    "<em>&#981;</em>(<em>&fnof;</em>(<em>x</em>))&middot;<em>&#981;</em>(<em>&fnof;</em>(<em>y</em>)).</p>\r\n",
    "So <em>&#981;</em>(<em>&fnof;</em>(<em>x</em>)) is a homomorphism on <em>G</em>, hence <em>&#981;</em>&middot;<em>&fnof;</em> is an automorphism of <em>G</em>. <br><br>\r\n",
    "\r\n",
    "Also, since <em>&fnof;</em> is one-to-one and onto, <em>&fnof;</em><sup>&minus;1</sup> exists on <em>G</em>, and \r\n",
    "<p style='text-align: center;'><em>&fnof;</em>(<em>&fnof;</em><sup>&minus;1</sup>(<em>x</em>)&middot;<em>&fnof;</em><sup>&minus;1</sup>(<em>y</em>)) = \r\n",
    "<em>&fnof;</em>(<em>&fnof;</em><sup>&minus;1</sup>(<em>x</em>))&middot;<em>&fnof;</em>(<em>&fnof;</em><sup>&minus;1</sup>(<em>y</em>)) = <em>x</em>&middot;<em>y</em>.</p>\r\n",
    "Taking <em>&fnof;</em><sup>&minus;1</sup> of both sides of the equation gives us\r\n",
    "<p style='text-align: center;'><em>&fnof;</em><sup>&minus;1</sup>(<em>x</em>)&middot;<em>&fnof;</em><sup>&minus;1</sup>(<em>y</em>) = \r\n",
    "<em>&fnof;</em><sup>&minus;1</sup>(<em>x</em>&middot;<em>y</em>)</p>\r\n",
    "So <em>&fnof;</em><sup>&minus;1</sup> is a homomorphism.  Hence both <em>&fnof;</em><sup>&minus;1</sup> and <em>&#981;</em>&middot;<em>&fnof;</em><sup>&minus;1</sup> \r\n",
    "are automorphisms of <em>G</em>. Therefore by Proposition 2.2, Aut(<em>G</em>) is a subgroup of the group of permutations on the elements of <em>G</em>.<br><br>\r\n",
    " \r\n",
    "<a href=\"#prop63ret\">Return to text</a> \r\n",
    "\r\n",
    "<br><br><br><br><br><br><br><br><br><br><br><br><br><br><br><br><br><br><br><br><br><br><br><br><br><br><br><br><br><br><br><br><br><br><br><br><br><br><br><br><br><br>\r\n",
    "\r\n",
    "<a name=\"prop64\" id=\"prop64\"></a>\r\n",
    "\r\n",
    "Proof of Proposition 6.4:<br><br>\r\n",
    "\r\n",
    "Consider the mapping\r\n",
    "<p style='text-align: center;'><em>&psi;</em>: <em>Z<sub>n</sub></em><sup>*</sup> &rarr; Aut(<em>Z<sub>n</sub></em>)</p>\r\n",
    "given by <em>&psi;</em>(<em>j</em>) = <em>&fnof;<sub>j</sub></em>, where <em>&fnof;<sub>j</sub></em>(<em>x</em>) = \r\n",
    "(<em>j</em>&middot;<em>x</em>) <strong>mod</strong> <em>n</em>.\r\n",
    "Then given two elements <em>j</em> and <em>k</em> in <em>Z<sub>n</sub></em><sup>*</sup>, we have that\r\n",
    "<p style='text-align: center;'><em>&fnof;<sub>j</sub></em>(<em>&fnof;<sub>k</sub></em>(<em>x</em>)) = \r\n",
    "<em>j</em>&middot;(<em>k</em>&middot;<em>x</em>) <strong>mod</strong> <em>n</em> = \r\n",
    "(<em>j</em>&middot;<em>k</em>)&middot;<em>x</em> <strong>mod</strong> <em>n</em> = <em>&fnof;</em><sub>(<em>j</em>&middot;<em>k</em>)</sub>(<em>x</em>).</p>\r\n",
    "So\r\n",
    "<p style='text-align: center;'><em>&psi;</em>(<em>j</em>)&middot;<em>&psi;</em>(<em>k</em>) = <em>&fnof;<sub>j</sub></em>(<em>&fnof;<sub>k</sub></em>) = \r\n",
    "<em>&fnof;</em><sub>(<em>j</em>&middot;<em>k</em>)</sub> = <em>&psi;</em>(<em>j</em>&middot;<em>k</em>).</p>\r\n",
    "Hence, <em>&psi;</em> is a homomorphism from <em>Z<sub>n</sub></em><sup>*</sup> to Aut(<em>Z<sub>n</sub></em>).  To see that <em>&psi;</em> is one-to-one, note that \r\n",
    "<em>&fnof;<sub>j</sub></em>(1) = <em>j</em>, and so <em>&fnof;<sub>j</sub></em> = <em>&fnof;<sub>k</sub></em> only if <em>j</em> = <em>k</em>.<br><br>\r\n",
    "\r\n",
    "To see that <em>&psi;</em> is onto, we can use the pigeon-hole principle.  If we consider a general automorphism <em>f</em> of <em>Z<sub>n</sub></em>, then  \r\n",
    "<em>f</em>(1) must be a generator of <em>Z<sub>n</sub></em>, since 1 is a generator.  But <em>f</em> will be completely determined by knowing <em>f</em>(1). Thus,\r\n",
    "the number of automorphisms is at most the number of generators of <em>Z<sub>n</sub></em>, which is <em>&#981;</em>(<em>n</em>).  Since \r\n",
    "|<em>Z<sub>n</sub></em><sup>*</sup>| = <em>&#981;</em>(<em>n</em>), we know the function is one-to-one, so it must also be onto.<br><br>\r\n",
    " \r\n",
    "<a href=\"#prop64ret\">Return to text</a> \r\n",
    "\r\n",
    "<br><br><br><br><br><br><br><br><br><br><br><br><br><br><br><br><br><br><br><br><br><br><br><br><br><br><br><br><br><br><br><br><br><br><br><br><br><br><br><br><br><br>\r\n",
    " \r\n",
    "<a name=\"prop65\" id=\"prop65\"></a>\r\n",
    "\r\n",
    "Proof of Proposition 6.5:<br><br> \r\n",
    " \r\n",
    "First we need to show that Inn(<em>G</em>) is a subgroup. Let <em>&fnof;<sub>x</sub></em>(<em>y</em>) = <em>x</em>&middot;<em>y</em>&middot;<em>x</em><sup>-1</sup> \r\n",
    "be an inner automorphism.  The inverse can be easily found by observing\r\n",
    "<p style='text-align: center;'><em>y</em> &isin; <em>&fnof;<sub>x</sub></em><sup>-1</sup>(<em>v</em>) &#10234 <em>x</em>&middot;<em>y</em>&middot;<em>x</em><sup>-1</sup> \r\n",
    "= <em>v</em> &#10234 <em>y</em> = <em>x</em><sup>-1</sup>&middot;<em>v</em>&middot;<em>x</em> &#10234 <em>y</em> = \r\n",
    "<em>&fnof;</em><sub>(<em>x</em></sub>&#8331;&#8321;<sub>)</sub>(<em>v</em>),</p>\r\n",
    "so the inverse of <em>&fnof;<sub>x</sub></em> is also an inner automorphism.<br><br>\r\n",
    "\r\n",
    "If we consider two inner automorphisms <em>&fnof;<sub>x</sub></em> and <em>&fnof;<sub>y</sub></em>, then \r\n",
    "<p style='text-align: center;'>(<em>&fnof;<sub>x</sub></em>&middot;<em>&fnof;<sub>y</sub></em>)(<em>v</em>) = \r\n",
    "<em>&fnof;<sub>x</sub></em>(<em>&fnof;<sub>y</sub></em>(<em>v</em>)) = \r\n",
    "<em>x</em>&middot;(<em>y</em>&middot;<em>v</em>&middot;<em>y</em><sup>-1</sup>)&middot;<em>x</em><sup>-1</sup> = \r\n",
    "(<em>x</em>&middot;<em>y</em>)&middot;<em>v</em>&middot;(<em>x</em>&middot;<em>y</em>)<sup>-1</sup> = \r\n",
    "<em>&fnof;</em><sub>(<em>x</em>&middot;<em>y</em>)</sub>(<em>v</em>).</p>\r\n",
    "Thus the product of two inner automorphisms is also an inner automorphism. So by Proposition 2.2, Inn(<em>G</em>) is a subgroup of Aut(<em>G</em>).<br><br>\r\n",
    "\r\n",
    "Finally, we need to show that Inn(<em>G</em>) is normal in Aut(<em>G</em>).  Let <em>&#981;</em> be any automorphism and let <em>&fnof;<sub>x</sub></em>(<em>y</em>) = \r\n",
    "<em>x</em>&middot;<em>y</em>&middot;<em>x</em><sup>-1</sup> be an inner automorphism.  Then\r\n",
    "<p style='text-align: center;'>(<em>&#981;</em>&middot;<em>&fnof;<sub>x</sub></em>&middot;<em>&#981;</em><sup>-1</sup>)(<em>v</em>) = \r\n",
    "<em>&#981;</em>(<em>&fnof;<sub>x</sub></em>(<em>&#981;</em><sup>-1</sup>(<em>v</em>))) = \r\n",
    "<em>&#981;</em>(<em>x</em>&middot;<em>&#981;</em><sup>-1</sup>(<em>v</em>)&middot;<em>x</em><sup>-1</sup>).</p>\r\n",
    "Since <em>&#981;</em> is a homomorphism, this will simplify.\r\n",
    "<p style='text-align: center;'><em>&#981;</em>(<em>x</em>&middot;<em>&#981;</em><sup>-1</sup>(<em>v</em>)&middot;<em>x</em><sup>-1</sup>) = \r\n",
    "<em>&#981;</em>(<em>x</em>)&middot;<em>&#981;</em>(<em>&#981;</em><sup>-1</sup>(<em>v</em>))&middot;<em>&#981;</em>(<em>x</em><sup>-1</sup>) = \r\n",
    "<em>&#981;</em>(<em>x</em>)&middot;<em>v</em>&middot;[<em>&#981;</em>(<em>x</em>)]<sup>-1</sup> =\r\n",
    "<em>&fnof;</em><sub><em>&#981;</em>(<em>x</em>)</sub>(<em>v</em>).</p>\r\n",
    "So <em>&#981;</em>&middot;<em>&fnof;<sub>x</sub></em>&middot;<em>&#981;</em><sup>-1</sup> is an inner automorphism of <em>G</em>. Therefore, by Proposition 3.4, \r\n",
    "Inn(<em>G</em>) is a normal subgroup of Aut(<em>G</em>).<br><br> \r\n",
    "  \r\n",
    "<a href=\"#prop65ret\">Return to text</a>  \r\n",
    "\r\n",
    "<br><br><br><br><br><br><br><br><br><br><br><br><br><br><br><br><br><br><br><br><br><br><br><br><br><br><br><br><br><br><br><br><br><br><br><br><br><br><br><br><br><br>\r\n",
    "\r\n",
    "<a name=\"prop66\" id=\"prop66\"></a>\r\n",
    "\r\n",
    "Proof of Proposition 6.6:<br><br> \r\n",
    "\r\n",
    "It is clear that the product of two ordered pairs in <em>G</em> is an ordered pair in <em>G</em>. If we let <em>e</em><sub>1</sub> denote the identity element of \r\n",
    "<em>K</em>, and <em>e</em><sub>2</sub> denote the indentity element of <em>H</em>, then \r\n",
    "<p style='text-align: center;'><em>&#981;</em><sub><em>e</em>&#8322;</sub>(<em>k</em>) = <em>k</em></p>\r\n",
    "since <em>&#981;</em> must map <em>e</em><sub>2</sub> to the identity automorphism of <em>K</em>. Thus\r\n",
    "<p style='text-align: center;'>(<em>k</em><sub>1</sub>, <em>h</em><sub>1</sub>)&middot;(<em>e</em><sub>1</sub>, <em>e</em><sub>2</sub>) = \r\n",
    "(<em>k</em><sub>1</sub>&middot;<em>&#981;</em><sub><em>h</em>&#8321;</sub>(<em>e</em><sub>1</sub>), <em>h</em><sub>1</sub>&middot;<em>e</em><sub>2</sub>) = \r\n",
    "(<em>k</em><sub>1</sub>, <em>h</em><sub>1</sub>)&emsp;and&emsp;(<em>e</em><sub>1</sub>, <em>e</em><sub>2</sub>)&middot;(<em>k</em><sub>2</sub>, <em>h</em><sub>2</sub>) =\r\n",
    "(<em>e</em><sub>1</sub>&middot;<em>&#981;</em><sub><em>e</em>&#8322;</sub>(<em>k</em><sub>2</sub>), <em>e</em><sub>2</sub>&middot;<em>h</em><sub>2</sub>) =\r\n",
    "(<em>k</em><sub>2</sub>, <em>h</em><sub>2</sub>).</p>\r\n",
    "So (<em>e</em><sub>1</sub>, <em>e</em><sub>2</sub>) acts as the identity element of <em>G</em>.<br><br>\r\n",
    "\r\n",
    "Next we note that the element (<em>k</em>, <em>h</em>) has an inverse (<em>&#981;<sub>h</sub></em>&#8331;&#8321;(<em>k</em><sup>-1</sup>), <em>h</em><sup>-1</sup>), since\r\n",
    "<p style='text-align: center;'>(<em>&#981;<sub>h</sub></em>&#8331;&#8321;(<em>k</em><sup>-1</sup>), <em>h</em><sup>-1</sup>)&middot;(<em>k</em>, <em>h</em>) =\r\n",
    "(<em>&#981;<sub>h</sub></em>&#8331;&#8321;(<em>k</em><sup>-1</sup>)&middot;<em>&#981;<sub>h</sub></em>&#8331;&#8321;(<em>k</em>), \r\n",
    "<em>h</em><sup>-1</sup>&middot;<em>h</em>) =\r\n",
    "(<em>&#981;<sub>h</sub></em>&#8331;&#8321;(<em>k</em><sup>-1</sup>&middot;<em>k</em>), <em>e</em><sub>2</sub>) = \r\n",
    "(<em>&#981;<sub>h</sub></em>&#8331;&#8321;(<em>e</em><sub>1</sub>), <em>e</em><sub>2</sub>) = (<em>e</em><sub>1</sub>, <em>e</em><sub>2</sub>),</p>\r\n",
    "and\r\n",
    "<p style='text-align: center;'>(<em>k</em>, <em>h</em>)&middot;(<em>&#981;<sub>h</sub></em>&#8331;&#8321;(<em>k</em><sup>-1</sup>), <em>h</em><sup>-1</sup>) = \r\n",
    "(<em>k</em>&middot;<em>&#981;<sub>h</sub></em>(<em>&#981;<sub>h</sub></em>&#8331;&#8321;(<em>k</em><sup>-1</sup>)), <em>h</em>&middot;<em>h</em><sup>-1</sup>) =\r\n",
    "(<em>k</em>&middot;<em>&#981;</em><sub><em>e</em>&#8322;</sub>(<em>k</em><sup>-1</sup>), <em>e</em><sub>2</sub>) = \r\n",
    "(<em>k</em>&middot;<em>k</em><sup>-1</sup>, <em>e</em><sub>2</sub>) = (<em>e</em><sub>1</sub>, <em>e</em><sub>2</sub>).</p>\r\n",
    "The final thing we need to check is that the multiplication on <em>G</em> is associative. Note that\r\n",
    "<p style='text-align: center;'>[(<em>k</em><sub>1</sub>, \r\n",
    "<em>h</em><sub>1</sub>)&middot;(<em>k</em><sub>2</sub>, <em>h</em><sub>2</sub>)]&middot;(<em>k</em><sub>3</sub>, <em>h</em><sub>3</sub>) = \r\n",
    "(<em>k</em><sub>1</sub>&middot;<em>&#981;</em><sub><em>h</em>&#8321;</sub>(<em>k</em><sub>2</sub>), <em>h</em><sub>1</sub>&middot;<em>h</em><sub>2</sub>)&middot;(<em>k</em><sub>3</sub>, <em>h</em><sub>3</sub>) = \r\n",
    "(<em>k</em><sub>1</sub>&middot;<em>&#981;</em><sub><em>h</em>&#8321;</sub>(<em>k</em><sub>2</sub>)&middot;<em>&#981;</em><sub><em>h</em>&#8321;&middot;<em>h</em>&#8322;</sub>(<em>k</em><sub>3</sub>), (<em>h</em><sub>1</sub>&middot;<em>h</em><sub>2</sub>)&middot;<em>h</em><sub>3</sub>),</p>\r\n",
    "while\r\n",
    "<p style='text-align: center;'>(<em>k</em><sub>1</sub>, \r\n",
    "<em>h</em><sub>1</sub>)&middot;[(<em>k</em><sub>2</sub>, <em>h</em><sub>2</sub>)&middot;(<em>k</em><sub>3</sub>, <em>h</em><sub>3</sub>)] = \r\n",
    "(<em>k</em><sub>1</sub>, <em>h</em><sub>1</sub>)&middot;(<em>k</em><sub>2</sub>&middot;<em>&#981;</em><sub><em>h</em>&#8322;</sub>(<em>k</em><sub>3</sub>), <em>h</em><sub>2</sub>&middot;<em>h</em><sub>3</sub>) =\r\n",
    "(<em>k</em><sub>1</sub>&middot;<em>&#981;</em><sub><em>h</em>&#8321;</sub>(<em>k</em><sub>2</sub>&middot;<em>&#981;</em><sub><em>h</em>&#8322;</sub>(<em>k</em><sub>3</sub>)), <em>h</em><sub>1</sub>&middot;(<em>h</em><sub>2</sub>&middot;<em>h</em><sub>3</sub>)) \r\n",
    "= (<em>k</em><sub>1</sub>&middot;<em>&#981;</em><sub><em>h</em>&#8321;</sub>(<em>k</em><sub>2</sub>)&middot;<em>&#981;</em><sub><em>h</em>&#8321;</sub>(<em>&#981;</em><sub><em>h</em>&#8322;</sub>(<em>k</em><sub>3</sub>)), (<em>h</em><sub>1</sub>&middot;<em>h</em><sub>2</sub>)&middot;<em>h</em><sub>3</sub>)\r\n",
    "= (<em>k</em><sub>1</sub>&middot;<em>&#981;</em><sub><em>h</em>&#8321;</sub>(<em>k</em><sub>2</sub>)&middot;<em>&#981;</em><sub><em>h</em>&#8321;&middot;<em>h</em>&#8322;</sub>(<em>k</em><sub>3</sub>), (<em>h</em><sub>1</sub>&middot;<em>h</em><sub>2</sub>)&middot;<em>h</em><sub>3</sub>).</p>\r\n",
    "Hence the multiplication on <em>G</em> is associative and so <em>G</em> forms a group.<br><br> \r\n",
    "\r\n",
    "<a href=\"#prop66ret\">Return to text</a> \r\n",
    "  \r\n",
    "<br><br><br><br><br><br><br><br><br><br><br><br><br><br><br><br><br><br><br><br><br><br><br><br><br><br><br><br><br><br><br><br><br><br><br><br><br><br><br><br><br><br>\r\n",
    "  \r\n",
    "<a name=\"lem67\" id=\"lem67\"></a>\r\n",
    "\r\n",
    "Proof of Lemma 6.7:<br><br>   \r\n",
    "  \r\n",
    "We will use Proposition 2.2 and observe that \r\n",
    "<p style='text-align: center;'>(<em>e</em><sub>1</sub>, <em>h</em>)<sup>-1</sup> = \r\n",
    "(<em>&#981;<sub>h</sub></em>&#8331;&#8321;(<em>e</em><sub>1</sub><sup>-1</sup>), <em>h</em><sup>-1</sup>) = (<em>e</em><sub>1</sub>, <em>h</em><sup>-1</sup>),</p>\r\n",
    "so\r\n",
    "<p style='text-align: center;'>(<em>e</em><sub>1</sub>, <em>h</em><sub>1</sub>)&middot;(<em>e</em><sub>1</sub>, <em>h</em><sub>2</sub>)<sup>-1</sup> =\r\n",
    "(<em>e</em><sub>1</sub>, <em>h</em><sub>1</sub>)&middot;(<em>e</em><sub>1</sub>, <em>h</em><sub>2</sub><sup>-1</sup>) =\r\n",
    "(<em>e</em><sub>1</sub>&middot;<em>&#981;</em><sub><em>h</em>&#8321;</sub>(<em>e</em><sub>1</sub>), <em>h</em><sub>1</sub>&middot;<em>h</em><sub>2</sub><sup>-1</sup>) = \r\n",
    "(<em>e</em><sub>1</sub>, <em>h</em><sub>1</sub>&middot;<em>h</em><sub>2</sub><sup>-1</sup>).</p>\r\n",
    "Thus, whenever <em>a</em> and <em>b</em> are in <font style=\"text-decoration:overline\"><em>H</em></font>, <em>a</em>&middot;<em>b</em><sup>-1</sup> is in \r\n",
    "<font style=\"text-decoration:overline\"><em>H</em></font>. So <font style=\"text-decoration:overline\"><em>H</em></font> is a subgroup. <br><br>\r\n",
    "\r\n",
    "The mapping <em>&fnof;</em> : <em>G</em> &rarr; <em>H</em> given by \r\n",
    "<p style='text-align: center;'><em>&fnof;</em>( (<em>k</em>, <em>h</em>) ) = <em>h</em></p>\r\n",
    "is a homomorphism, since\r\n",
    "<p style='text-align: center;'><em>&fnof;</em>( (<em>k</em><sub>1</sub>, <em>h</em><sub>1</sub>)&middot;(<em>k</em><sub>2</sub>, <em>h</em><sub>2</sub>) ) = \r\n",
    "<em>&fnof;</em>( (<em>k</em><sub>1</sub>&middot;<em>&#981;</em><sub><em>h</em>&#8321;</sub>(<em>k</em><sub>2</sub>), <em>h</em><sub>1</sub>&middot;<em>h</em><sub>2</sub>) ) =\r\n",
    "<em>h</em><sub>1</sub>&middot;<em>h</em><sub>2</sub> = \r\n",
    "<em>&fnof;</em>( (<em>k</em><sub>1</sub>, <em>h</em><sub>1</sub>) )&middot;<em>&fnof;</em>( (<em>k</em><sub>2</sub>, <em>h</em><sub>2</sub>) ).</p>\r\n",
    "The kernel of this homomorphism is <font style=\"text-decoration:overline\"><em>K</em></font>, so <font style=\"text-decoration:overline\"><em>K</em></font>\r\n",
    "is a normal subgroup of <em>G</em>.  By restricting the function <em>&fnof;</em> to the set <font style=\"text-decoration:overline\"><em>H</em></font>, we find that \r\n",
    "it is one-to-one and onto.  Thus, <font style=\"text-decoration:overline\"><em>H</em></font> &asymp; <em>H</em>.\r\n",
    "\r\n",
    "A similar function <em>g</em> : <em>K</em> &rarr; <font style=\"text-decoration:overline\"><em>K</em></font>, given by\r\n",
    "<p style='text-align: center;'><em>g</em>(<em>k</em>) = (<em>k</em>, <em>e</em><sub>2</sub>)</p>\r\n",
    "can show that <font style=\"text-decoration:overline\"><em>K</em></font> &asymp; <em>K</em>.  This function is clearly one-to-one and onto, and\r\n",
    "<p style='text-align: center;'><em>g</em>(<em>k</em><sub>1</sub>)&middot;<em>g</em>(<em>k</em><sub>2</sub>) = \r\n",
    "(<em>k</em><sub>1</sub>, <em>e</em><sub>2</sub>)&middot;(<em>k</em><sub>2</sub>, <em>e</em><sub>2</sub>) =\r\n",
    "(<em>k</em><sub>1</sub>&middot;<em>&#981;</em><sub><em>e</em>&#8322;</sub>(<em>k</em><sub>2</sub>), <em>e</em><sub>2</sub>) =\r\n",
    "(<em>k</em><sub>1</sub>&middot;<em>k</em><sub>2</sub>, <em>e</em><sub>2</sub>) = <em>g</em>(<em>k</em><sub>1</sub>&middot;<em>k</em><sub>2</sub>).</p>\r\n",
    "Finally, it is clear that the intersections of the two groups give just {(<em>e</em><sub>1</sub>, <em>e</em><sub>2</sub>)}.<br><br>  \r\n",
    "  \r\n",
    "<a href=\"#lem67ret\">Return to text</a>  \r\n",
    "  \r\n",
    "<br><br><br><br><br><br><br><br><br><br><br><br><br><br><br><br><br><br><br><br><br><br><br><br><br><br><br><br><br><br><br><br><br><br><br><br><br><br><br><br><br><br>\r\n",
    "  \r\n",
    "<a name=\"theor63\" id=\"theor63\"></a>\r\n",
    "\r\n",
    "Proof of Theorem 6.3:<br><br>\r\n",
    "  \r\n",
    "Note that since <em>H</em> is a subgroup of <em>G</em>, and <em>N</em> is a normal subgroup we have by Lemma 4.3 that <em>N</em>&middot;<em>H</em> is a subgroup of \r\n",
    "<em>G</em>.  We next want to define the homomorphism <em>&#981;</em>. For each <em>h</em> in <em>H</em>, we define\r\n",
    "<p style='text-align: center;'><em>&#981;<sub>h</sub></em>(<em>k</em>) = <em>h</em>&middot;<em>k</em>&middot;<em>h</em><sup>-1</sup></p>\r\n",
    "for all <em>k</em> &isin; <em>N</em>.  We first need to show that <em>&#981;<sub>h</sub></em> is an automorphism on <em>N</em> for each <em>h</em> in <em>H</em>, and \r\n",
    "then we need to show that <em>&#981;</em> itself is a nontrivial homomorphism.  Since <em>N</em> is normal, it is clear that this sends elements of <em>N</em>\r\n",
    "to elements of <em>N</em>.  Note that \r\n",
    "<p style='text-align: center;'><em>&#981;<sub>h</sub></em>(<em>k</em><sub>1</sub>&middot;<em>k</em><sub>2</sub>) = \r\n",
    "<em>h</em>&middot;<em>k</em><sub>1</sub>&middot;<em>k</em><sub>2</sub>&middot;<em>h</em><sup>-1</sup> = \r\n",
    "(<em>h</em>&middot;<em>k</em><sub>1</sub>&middot;<em>h</em><sup>-1</sup>)&middot;(<em>h</em>&middot;<em>k</em><sub>2</sub>&middot;<em>h</em><sup>-1</sup>) =\r\n",
    "<em>&#981;<sub>h</sub></em>(<em>k</em><sub>1</sub>)&middot;<em>&#981;<sub>h</sub></em>(<em>k</em><sub>2</sub>).</p>\r\n",
    "So <em>&#981;<sub>h</sub></em> is a homomorphism from <em>N</em> to <em>N</em>.  Since \r\n",
    "<p style='text-align: center;'><em>y</em> &isin; \r\n",
    "<em>&#981;<sub>h</sub></em><sup>-1</sup>(<em>k</em>)&emsp;&#10234;&emsp;<em>h</em>&middot;<em>y</em>&middot;<em>h</em><sup>-1</sup> = \r\n",
    "<em>k</em>&emsp;&#10234;&emsp;<em>y</em> = <em>h</em><sup>-1</sup>&middot;<em>k</em>&middot;<em>h</em></p>\r\n",
    "we see that <em>&#981;<sub>h</sub></em> is a one-to-one and onto function.  Thus, <em>&#981;<sub>h</sub></em> is an automorphism of <em>N</em>. <br><br>\r\n",
    "\r\n",
    "Next, we need to see that <em>&#981;</em> itself is a homomorphism from <em>H</em> to Aut(<em>N</em>). Note that\r\n",
    "<p style='text-align: center;'>(<em>&#981;</em><sub><em>h</em>&#8321;</sub>&middot;<em>&#981;</em><sub><em>h</em>&#8322;</sub>)(<em>k</em>) =\r\n",
    "<em>&#981;</em><sub><em>h</em>&#8321;</sub>(<em>&#981;</em><sub><em>h</em>&#8322;</sub>(<em>k</em>)) = \r\n",
    "<em>&#981;</em><sub><em>h</em>&#8321;</sub>(<em>h</em><sub>2</sub>&middot;<em>k</em>&middot;<em>h</em><sub>2</sub><sup>-1</sup>) =\r\n",
    "<em>h</em><sub>1</sub>&middot;<em>h</em><sub>2</sub>&middot;<em>k</em>&middot;<em>h</em><sub>2</sub><sup>-1</sup>&middot;<em>h</em><sub>1</sub><sup>-1</sup> =\r\n",
    "(<em>h</em><sub>1</sub>&middot;<em>h</em><sub>2</sub>)&middot;<em>k</em>&middot;(<em>h</em><sub>1</sub>&middot;<em>h</em><sub>2</sub>)<sup>-1</sup> =\r\n",
    "<em>&#981;</em><sub><em>h</em>&#8321;&middot;<em>h</em>&#8322;</sub>(<em>k</em>).</p>\r\n",
    "So <em>&#981;</em><sub><em>h</em>&#8321;</sub>&middot;<em>&#981;</em><sub><em>h</em>&#8322;</sub> = <em>&#981;</em><sub><em>h</em>&#8321;&middot;<em>h</em>&#8322;</sub>\r\n",
    "and we see that <em>&#981;</em> is a homomorphism. In fact, the homomorphism must be nontrivial, because if <em>&#981;<sub>h</sub></em>(<em>k</em>) = <em>k</em> \r\n",
    "for all <em>h</em> and <em>k</em>, then since <em>&#981;<sub>h</sub></em>(<em>k</em>) = <em>h</em>&middot;<em>k</em>&middot;<em>h</em><sup>-1</sup> = <em>k</em>, \r\n",
    "we have that  <em>k</em>&middot;<em>h</em> = <em>h</em>&middot;<em>k</em> for all <em>h</em> in <em>H</em>, and <em>k</em> in <em>N</em>. \r\n",
    "This would indicate that <em>H</em> is a <em>normal</em> subgroup of <em>N</em>&middot;<em>H</em>, which contradicts our original assumption. Thus, <em>&#981;</em> is \r\n",
    "a nontrivial homomorphism. <br><br>\r\n",
    "\r\n",
    "We can now proceed in a way similar to how we proved the direct product theorem (6.1). As before, we will begin by showing that \r\n",
    "every element in \r\n",
    "<em>N</em>&middot;<em>H</em> can be <em>uniquely</em> written in the form <em>k</em>&middot;<em>h</em>, where <em>k</em> &isin; <em>N</em> and <em>h</em> &isin; <em>H</em>. \r\n",
    "Suppose that we have \r\n",
    "<p style='text-align: center;'><em>k</em><sub>1</sub>&middot;<em>h</em><sub>1</sub> = <em>k</em><sub>2</sub>&middot;<em>h</em><sub>2</sub>.</p> \r\n",
    "Then <em>k</em><sub>2</sub><sup>-1</sup>&middot;<em>k</em><sub>1</sub> = <em>h</em><sub>2</sub>&middot;<em>h</em><sub>1</sub><sup>-1</sup>.  Since this element is in \r\n",
    "both <em>N</em> and <em>H</em>, which has just the identity element in the intersection, we must have \r\n",
    "<p style='text-align: center;'><em>k</em><sub>2</sub><sup>-1</sup>&middot;<em>k</em><sub>1</sub> = <em>h</em><sub>2</sub>&middot;<em>h</em><sub>1</sub><sup>-1</sup> = \r\n",
    "<em>e</em>.</p>\r\n",
    "Therefore, <em>k</em><sub>1</sub> = <em>k</em><sub>2</sub> and <em>h</em><sub>1</sub> = <em>h</em><sub>2</sub>.  Thus, we have shown that every element of \r\n",
    "<em>N</em>&middot;<em>H</em> is written uniquely as <em>k</em>&middot;<em>h</em>, where <em>k</em> is in <em>N</em>, and <em>h</em> is in <em>H</em>.<br><br>\r\n",
    "\r\n",
    "We now want to create a mapping\r\n",
    "<p style='text-align: center;'><em>&fnof;</em> : <em>N</em>&middot;<em>H</em> &rarr; <em>N</em> &#8906;<sub><em>&#981;</em></sub><em>H</em></p>\r\n",
    "defined by\r\n",
    "<p style='text-align: center;'><em>&fnof;</em>(<em>x</em>) = (<em>k</em>, <em>h</em>),</p>\r\n",
    "where <em>k</em> and <em>h</em> are the unique elements such that <em>k</em> &isin; <em>N</em>, <em>h</em> &isin; <em>H</em>, and <em>x</em> = <em>k</em>&middot;<em>h</em>.  \r\n",
    "The function <em>&fnof;</em> is one-to-one since the element (<em>k</em>, <em>h</em>) can only come from <em>k</em>&middot;<em>h</em>.  Also, the element \r\n",
    "<nobr><em>k</em>&middot;<em>h</em></nobr> maps to (<em>k</em>, <em>h</em>), so <em>&fnof;</em> is onto.<br>\r\n",
    "<br>\r\n",
    "\r\n",
    "The final step is to show that <em>&fnof;</em> is a homomorphism. Let <em>x</em> = <em>k</em><sub>1</sub>&middot;<em>h</em><sub>1</sub>, and \r\n",
    "<em>y</em> = <em>k</em><sub>2</sub>&middot;<em>h</em><sub>2</sub>. Then \r\n",
    "<p style='text-align: center;'><em>x</em>&middot;<em>y</em> = \r\n",
    "<em>k</em><sub>1</sub>&middot;<em>h</em><sub>1</sub>&middot;<em>k</em><sub>2</sub>&middot;<em>h</em><sub>2</sub> = \r\n",
    "(<em>k</em><sub>1</sub>&middot;<em>h</em><sub>1</sub>&middot;<em>k</em><sub>2</sub>&middot;<em>h</em><sub>1</sub><sup>-1</sup>)&middot;(<em>h</em><sub>1</sub>&middot;<em>h</em><sub>2</sub>).</p>\r\n",
    "Since <em>N</em> is a normal subgroup, <em>h</em><sub>1</sub>&middot;<em>k</em><sub>2</sub>&middot;<em>h</em><sub>1</sub><sup>-1</sup> is in <em>N</em>, and so \r\n",
    "<em>k</em><sub>1</sub>&middot;<em>h</em><sub>1</sub>&middot;<em>k</em><sub>2</sub>&middot;<em>h</em><sub>1</sub><sup>-1</sup> is in <em>N</em> while \r\n",
    "<em>h</em><sub>1</sub>&middot;<em>h</em><sub>2</sub> is in <em>H</em>. Thus,\r\n",
    "<p style='text-align: center;'><em>&fnof;</em>(<em>x</em>&middot;<em>y</em>) = \r\n",
    "<em>&fnof;</em>((<em>k</em><sub>1</sub>&middot;<em>h</em><sub>1</sub>&middot;<em>k</em><sub>2</sub>&middot;<em>h</em><sub>1</sub><sup>-1</sup>)&middot;(<em>h</em><sub>1</sub>&middot;<em>h</em><sub>2</sub>))\r\n",
    "= (<em>k</em><sub>1</sub>&middot;<em>h</em><sub>1</sub>&middot;<em>k</em><sub>2</sub>&middot;<em>h</em><sub>1</sub><sup>-1</sup>, <em>h</em><sub>1</sub>&middot;<em>h</em><sub>2</sub>) = (<em>k</em><sub>1</sub>&middot;<em>&#981;</em><sub><em>h</em>&#8321;</sub>(<em>k</em><sub>2</sub>), <em>h</em><sub>1</sub>&middot;<em>h</em><sub>2</sub>) = \r\n",
    "(<em>k</em><sub>1</sub>, <em>h</em><sub>1</sub>)&middot;(<em>k</em><sub>2</sub>, <em>h</em><sub>2</sub>) = <em>&fnof;</em>(<em>x</em>)&middot;<em>&fnof;</em>(<em>y</em>).</p>\r\n",
    "So <em>&fnof;</em> is an isomorphism, and we have <em>N</em>&middot;<em>H</em> &asymp; <em>N</em> &#8906;<sub><em>&#981;</em></sub><em>H</em>.<br><br>   \r\n",
    "  \r\n",
    "<a href=\"#theor63ret\">Return to text</a>  \r\n",
    "  \r\n",
    "<br><br><br><br><br><br><br><br><br><br><br><br><br><br><br><br><br><br><br><br><br><br><br><br><br><br><br><br><br><br><br><br><br><br><br><br><br><br><br><br><br><br>\r\n",
    "  \r\n",
    "<a name=\"prop67\" id=\"prop67\"></a>\r\n",
    "\r\n",
    "Proof of Proposition 6.7:<br><br> \r\n",
    "  \r\n",
    "Let us write <em>G</em> = <em>N</em> &#8906;<sub><em>&#981;</em></sub><em>H</em>, and <em>M</em> = <em>N</em> &#8906;<sub><em>&fnof;</em></sub>&thinsp;<em>H</em>. These are \r\n",
    "two different groups, even though they are both written using ordered pairs. Let us define a mapping\r\n",
    "<p style='text-align: center;'><em>v</em> : <em>G</em> &rarr; <em>M</em></p>\r\n",
    "defined by\r\n",
    "<p style='text-align: center;'><em>v</em>( (<em>k</em>, <em>h</em>) ) =(<em>w</em>(<em>k</em>), <em>h</em>).</p>\r\n",
    "Because <em>w</em>(<em>k</em>) is one-to-one and onto, certainly <em>v</em> is one-to-one and onto. All we would have to check is that \r\n",
    "<p style='text-align: center;'><em>v</em>( (<em>k</em><sub>1</sub>, <em>h</em><sub>1</sub>) )&middot;<em>v</em>( (<em>k</em><sub>2</sub>, <em>h</em><sub>2</sub>) ) = \r\n",
    "<em>v</em>( (<em>k</em><sub>1</sub>, <em>h</em><sub>1</sub>) &middot; (<em>k</em><sub>2</sub>, <em>h</em><sub>2</sub>) )</p>\r\n",
    "We have that \r\n",
    "<p style='text-align: center;'><em>v</em>( (<em>k</em><sub>1</sub>, <em>h</em><sub>1</sub>) &middot; (<em>k</em><sub>2</sub>, <em>h</em><sub>2</sub>) ) =\r\n",
    "(<em>w</em>(<em>k</em><sub>1</sub>), <em>h</em><sub>1</sub>)&middot;(<em>w</em>(<em>k</em><sub>2</sub>), <em>h</em><sub>2</sub>) =\r\n",
    "(<em>w</em>(<em>k</em><sub>1</sub>)&middot;<em>&fnof;</em><sub><em>h</em>&#8321;</sub>(<em>w</em>(<em>k</em><sub>2</sub>)), <em>h</em><sub>1</sub>&middot;<em>h</em><sub>2</sub>) =\r\n",
    "(<em>w</em>(<em>k</em><sub>1</sub>)&middot;<em>w</em>(<em>&#981;</em><sub><em>h</em>&#8321;</sub>(<em>w</em><sup>-1</sup>(<em>w</em>(<em>k</em><sub>2</sub>)))), <em>h</em><sub>1</sub>&middot;<em>h</em><sub>2</sub>) = \r\n",
    "(<em>w</em>(<em>k</em><sub>1</sub>)&middot;<em>w</em>(<em>&#981;</em><sub><em>h</em>&#8321;</sub>(<em>k</em><sub>2</sub>)), \r\n",
    "<em>h</em><sub>1</sub>&middot;<em>h</em><sub>2</sub>)</p>\r\n",
    "On the other hand,\r\n",
    "<p style='text-align: center;'><em>v</em>( (<em>k</em><sub>1</sub>, <em>h</em><sub>1</sub>) &middot; (<em>k</em><sub>2</sub>, <em>h</em><sub>2</sub>) ) =\r\n",
    "<em>v</em>( (<em>k</em><sub>1</sub>&middot;<em>&#981;</em><sub><em>h</em>&#8321;</sub>(<em>k</em><sub>2</sub>), <em>h</em><sub>1</sub>&middot;<em>h</em><sub>2</sub>) ) =\r\n",
    "(<em>w</em>(<em>k</em><sub>1</sub>&middot;<em>&#981;</em><sub><em>h</em>&#8321;</sub>(<em>k</em><sub>2</sub>)), <em>h</em><sub>1</sub>&middot;<em>h</em><sub>2</sub>) =\r\n",
    "(<em>w</em>(<em>k</em><sub>1</sub>)&middot;<em>w</em>(<em>&#981;</em><sub><em>h</em>&#8321;</sub>(<em>k</em><sub>2</sub>)), \r\n",
    "<em>h</em><sub>1</sub>&middot;<em>h</em><sub>2</sub>).</p>\r\n",
    "Since these are equal, we have an isomorphism.<br><br>  \r\n",
    "  \r\n",
    "<a href=\"#prop67ret\">Return to text</a><br><br>   \r\n",
    "  \r\n",
    "<br><br><br><br><br><br><br><br><br><br><br><br><br><br><br><br><br><br><br><br><br><br><br><br><br><br><br><br><br><br><br><br><br><br><br><br><br><br><br><br><br><br>\r\n",
    "  \r\n",
    "<a name=\"sec6p\" id=\"sec6p\"></a>\r\n",
    "<h1><em>Sage</em> Interactive Problems</h1>\r\n",
    "\r\n",
    "<br>\r\n",
    "6.1 ) Use <em>Sage</em> to define the group <em>Z</em><sub>2</sub> &times; <em>Z</em><sub>6</sub>. Show that this group is not isomorphic to <em>Z</em><sub>12</sub>.\r\n",
    "<br>"
   ]
  },
  {
   "cell_type": "markdown",
   "metadata": {
    "collapsed": false
   },
   "source": [
    "<br>\r\n",
    "6.2 ) Define the group <em>S</em><sub>3</sub> &times; <em>Z</em><sub>2</sub> in <em>Sage</em>.  Show that this group is not isomorphic \r\n",
    "to <em>A</em><sub>4</sub>.<br>\r\n",
    "(Hint: Count the elements of order 2.)<br>"
   ]
  },
  {
   "cell_type": "markdown",
   "metadata": {
    "collapsed": false
   },
   "source": [
    "<br>\r\n",
    "6.3 ) Use <em>Sage</em>'s <strong>PartitionsP</strong> command to find the number of abelian groups of order 120,000.<br>"
   ]
  },
  {
   "cell_type": "markdown",
   "metadata": {
    "collapsed": false
   },
   "source": [
    "<br>\r\n",
    "For Problems 6.4 through 6.7:Find all of the automorphisms of the following groups.<br>(Hint: For the non-abelian groups, find the inner automorphisms first.)<br>\r\n",
    "\r\n",
    "<br>\r\n",
    "6.4 ) <em>S</em><sub>3</sub>.<br>"
   ]
  },
  {
   "cell_type": "markdown",
   "metadata": {
    "collapsed": false
   },
   "source": [
    "<br>\r\n",
    "6.5 ) <em>Z</em><sub>15</sub><sup>*</sup>.<br>"
   ]
  },
  {
   "cell_type": "markdown",
   "metadata": {
    "collapsed": false
   },
   "source": [
    "<br>\r\n",
    "6.6 ) <em>D</em><sub>4</sub>.<br>"
   ]
  },
  {
   "cell_type": "markdown",
   "metadata": {
    "collapsed": false
   },
   "source": [
    "<br>\r\n",
    "6.7 ) <em>D</em><sub>5</sub>.<br>"
   ]
  },
  {
   "cell_type": "markdown",
   "metadata": {
    "collapsed": false
   },
   "source": [
    "<br>\r\n",
    "6.8 ) Show that there is only one semi-direct product <em>Z</em><sub>8</sub><sup>*</sup> &#8906; <em>Z</em><sub>2</sub>.  Which of the five groups of order 8 is this \r\n",
    "group isomorphic to?<br>(Hint: Use Proposition 6.7.)<br>"
   ]
  },
  {
   "cell_type": "markdown",
   "metadata": {
    "collapsed": false
   },
   "source": [
    "<br>\r\n",
    "6.9 ) Use <em>Sage</em> to find the only semi-direct  product <em>Z</em><sub>8</sub><sup>*</sup> &#8906; <em>Z</em><sub>8</sub><sup>*</sup>. Is this group \r\n",
    "isomorphic to any of the three groups of order 16 found by considering <em>Z</em><sub>8</sub> &#8906 <em>Z</em><sub>2</sub>?<br>"
   ]
  },
  {
   "cell_type": "markdown",
   "metadata": {
    "collapsed": false
   },
   "source": [
    "<br>\r\n",
    "6.10) Use <em>Sage</em> to define the only semi-direct product <em>Z</em><sub>3</sub> &#8906; <em>Z</em><sub>4</sub>. Show that this group is different than both \r\n",
    "<em>A</em><sub>4</sub> and <em>S</em><sub>3</sub> &times; <em>Z</em><sub>2</sub>.<br>"
   ]
  },
  {
   "cell_type": "markdown",
   "metadata": {
    "collapsed": false
   },
   "source": [
    "<br>\r\n",
    "6.11) From Problems 6.1, 6.2, 6.10 and section 6.4, we have found six groups of order 12: <em>Z</em><sub>12</sub>, <em>Z</em><sub>2</sub> &times; <em>Z</em><sub>6</sub>, \r\n",
    "<em>A</em><sub>4</sub>, <em>D</em><sub>6</sub>, <em>S</em><sub>3</sub> &times; <em>Z</em><sub>2</sub>, and <em>Z</em><sub>3</sub> &#8906; <em>Z</em><sub>4</sub>.\r\n",
    "Yet the table on page 85 indicates that there are only five non-isomorphic groups of order 12. Which two of these groups are isomorphic? Use <em>Sage</em> to show \r\n",
    "the isomorphism.<br>"
   ]
  },
  {
   "cell_type": "markdown",
   "metadata": {
    "collapsed": false
   },
   "source": [
    "</font>\r\n",
    "\r\n",
    "</body>\r\n",
    "\r\n",
    "</html>"
   ]
  }
 ],
 "metadata": {
  "kernelspec": {
   "display_name": "SageMath (stable)",
   "name": "sagemath"
  },
  "language_info": {
   "codemirror_mode": {
    "name": "ipython",
    "version": 2
   },
   "file_extension": ".py",
   "mimetype": "text/x-python",
   "name": "python",
   "nbconvert_exporter": "python",
   "pygments_lexer": "ipython2",
   "version": "2.7.14"
  }
 },
 "nbformat": 4,
 "nbformat_minor": 0
}